{
 "cells": [
  {
   "cell_type": "code",
   "execution_count": 20,
   "metadata": {},
   "outputs": [
    {
     "name": "stdout",
     "output_type": "stream",
     "text": [
      "Setup Succesfully Completed!\n"
     ]
    },
    {
     "data": {
      "text/html": [
       "<style  type=\"text/css\" >\n",
       "</style><table id=\"T_fef16076_ddce_11ea_afd3_a01d48db95d2\" ><thead>    <tr>        <th class=\"blank level0\" ></th>        <th class=\"col_heading level0 col0\" >Description</th>        <th class=\"col_heading level0 col1\" >Value</th>    </tr></thead><tbody>\n",
       "                <tr>\n",
       "                        <th id=\"T_fef16076_ddce_11ea_afd3_a01d48db95d2level0_row0\" class=\"row_heading level0 row0\" >0</th>\n",
       "                        <td id=\"T_fef16076_ddce_11ea_afd3_a01d48db95d2row0_col0\" class=\"data row0 col0\" >session_id </td>\n",
       "                        <td id=\"T_fef16076_ddce_11ea_afd3_a01d48db95d2row0_col1\" class=\"data row0 col1\" >1700</td>\n",
       "            </tr>\n",
       "            <tr>\n",
       "                        <th id=\"T_fef16076_ddce_11ea_afd3_a01d48db95d2level0_row1\" class=\"row_heading level0 row1\" >1</th>\n",
       "                        <td id=\"T_fef16076_ddce_11ea_afd3_a01d48db95d2row1_col0\" class=\"data row1 col0\" >Original Data </td>\n",
       "                        <td id=\"T_fef16076_ddce_11ea_afd3_a01d48db95d2row1_col1\" class=\"data row1 col1\" >(1000, 10)</td>\n",
       "            </tr>\n",
       "            <tr>\n",
       "                        <th id=\"T_fef16076_ddce_11ea_afd3_a01d48db95d2level0_row2\" class=\"row_heading level0 row2\" >2</th>\n",
       "                        <td id=\"T_fef16076_ddce_11ea_afd3_a01d48db95d2row2_col0\" class=\"data row2 col0\" >Missing Values </td>\n",
       "                        <td id=\"T_fef16076_ddce_11ea_afd3_a01d48db95d2row2_col1\" class=\"data row2 col1\" >False</td>\n",
       "            </tr>\n",
       "            <tr>\n",
       "                        <th id=\"T_fef16076_ddce_11ea_afd3_a01d48db95d2level0_row3\" class=\"row_heading level0 row3\" >3</th>\n",
       "                        <td id=\"T_fef16076_ddce_11ea_afd3_a01d48db95d2row3_col0\" class=\"data row3 col0\" >Numeric Features </td>\n",
       "                        <td id=\"T_fef16076_ddce_11ea_afd3_a01d48db95d2row3_col1\" class=\"data row3 col1\" >10</td>\n",
       "            </tr>\n",
       "            <tr>\n",
       "                        <th id=\"T_fef16076_ddce_11ea_afd3_a01d48db95d2level0_row4\" class=\"row_heading level0 row4\" >4</th>\n",
       "                        <td id=\"T_fef16076_ddce_11ea_afd3_a01d48db95d2row4_col0\" class=\"data row4 col0\" >Categorical Features </td>\n",
       "                        <td id=\"T_fef16076_ddce_11ea_afd3_a01d48db95d2row4_col1\" class=\"data row4 col1\" >0</td>\n",
       "            </tr>\n",
       "            <tr>\n",
       "                        <th id=\"T_fef16076_ddce_11ea_afd3_a01d48db95d2level0_row5\" class=\"row_heading level0 row5\" >5</th>\n",
       "                        <td id=\"T_fef16076_ddce_11ea_afd3_a01d48db95d2row5_col0\" class=\"data row5 col0\" >Ordinal Features </td>\n",
       "                        <td id=\"T_fef16076_ddce_11ea_afd3_a01d48db95d2row5_col1\" class=\"data row5 col1\" >False</td>\n",
       "            </tr>\n",
       "            <tr>\n",
       "                        <th id=\"T_fef16076_ddce_11ea_afd3_a01d48db95d2level0_row6\" class=\"row_heading level0 row6\" >6</th>\n",
       "                        <td id=\"T_fef16076_ddce_11ea_afd3_a01d48db95d2row6_col0\" class=\"data row6 col0\" >High Cardinality Features </td>\n",
       "                        <td id=\"T_fef16076_ddce_11ea_afd3_a01d48db95d2row6_col1\" class=\"data row6 col1\" >False</td>\n",
       "            </tr>\n",
       "            <tr>\n",
       "                        <th id=\"T_fef16076_ddce_11ea_afd3_a01d48db95d2level0_row7\" class=\"row_heading level0 row7\" >7</th>\n",
       "                        <td id=\"T_fef16076_ddce_11ea_afd3_a01d48db95d2row7_col0\" class=\"data row7 col0\" >Transformed Data </td>\n",
       "                        <td id=\"T_fef16076_ddce_11ea_afd3_a01d48db95d2row7_col1\" class=\"data row7 col1\" >(1000, 10)</td>\n",
       "            </tr>\n",
       "            <tr>\n",
       "                        <th id=\"T_fef16076_ddce_11ea_afd3_a01d48db95d2level0_row8\" class=\"row_heading level0 row8\" >8</th>\n",
       "                        <td id=\"T_fef16076_ddce_11ea_afd3_a01d48db95d2row8_col0\" class=\"data row8 col0\" >Numeric Imputer </td>\n",
       "                        <td id=\"T_fef16076_ddce_11ea_afd3_a01d48db95d2row8_col1\" class=\"data row8 col1\" >mean</td>\n",
       "            </tr>\n",
       "            <tr>\n",
       "                        <th id=\"T_fef16076_ddce_11ea_afd3_a01d48db95d2level0_row9\" class=\"row_heading level0 row9\" >9</th>\n",
       "                        <td id=\"T_fef16076_ddce_11ea_afd3_a01d48db95d2row9_col0\" class=\"data row9 col0\" >Categorical Imputer </td>\n",
       "                        <td id=\"T_fef16076_ddce_11ea_afd3_a01d48db95d2row9_col1\" class=\"data row9 col1\" >constant</td>\n",
       "            </tr>\n",
       "            <tr>\n",
       "                        <th id=\"T_fef16076_ddce_11ea_afd3_a01d48db95d2level0_row10\" class=\"row_heading level0 row10\" >10</th>\n",
       "                        <td id=\"T_fef16076_ddce_11ea_afd3_a01d48db95d2row10_col0\" class=\"data row10 col0\" >Normalize </td>\n",
       "                        <td id=\"T_fef16076_ddce_11ea_afd3_a01d48db95d2row10_col1\" class=\"data row10 col1\" >False</td>\n",
       "            </tr>\n",
       "            <tr>\n",
       "                        <th id=\"T_fef16076_ddce_11ea_afd3_a01d48db95d2level0_row11\" class=\"row_heading level0 row11\" >11</th>\n",
       "                        <td id=\"T_fef16076_ddce_11ea_afd3_a01d48db95d2row11_col0\" class=\"data row11 col0\" >Normalize Method </td>\n",
       "                        <td id=\"T_fef16076_ddce_11ea_afd3_a01d48db95d2row11_col1\" class=\"data row11 col1\" >None</td>\n",
       "            </tr>\n",
       "            <tr>\n",
       "                        <th id=\"T_fef16076_ddce_11ea_afd3_a01d48db95d2level0_row12\" class=\"row_heading level0 row12\" >12</th>\n",
       "                        <td id=\"T_fef16076_ddce_11ea_afd3_a01d48db95d2row12_col0\" class=\"data row12 col0\" >Transformation </td>\n",
       "                        <td id=\"T_fef16076_ddce_11ea_afd3_a01d48db95d2row12_col1\" class=\"data row12 col1\" >False</td>\n",
       "            </tr>\n",
       "            <tr>\n",
       "                        <th id=\"T_fef16076_ddce_11ea_afd3_a01d48db95d2level0_row13\" class=\"row_heading level0 row13\" >13</th>\n",
       "                        <td id=\"T_fef16076_ddce_11ea_afd3_a01d48db95d2row13_col0\" class=\"data row13 col0\" >Transformation Method </td>\n",
       "                        <td id=\"T_fef16076_ddce_11ea_afd3_a01d48db95d2row13_col1\" class=\"data row13 col1\" >None</td>\n",
       "            </tr>\n",
       "            <tr>\n",
       "                        <th id=\"T_fef16076_ddce_11ea_afd3_a01d48db95d2level0_row14\" class=\"row_heading level0 row14\" >14</th>\n",
       "                        <td id=\"T_fef16076_ddce_11ea_afd3_a01d48db95d2row14_col0\" class=\"data row14 col0\" >PCA </td>\n",
       "                        <td id=\"T_fef16076_ddce_11ea_afd3_a01d48db95d2row14_col1\" class=\"data row14 col1\" >False</td>\n",
       "            </tr>\n",
       "            <tr>\n",
       "                        <th id=\"T_fef16076_ddce_11ea_afd3_a01d48db95d2level0_row15\" class=\"row_heading level0 row15\" >15</th>\n",
       "                        <td id=\"T_fef16076_ddce_11ea_afd3_a01d48db95d2row15_col0\" class=\"data row15 col0\" >PCA Method </td>\n",
       "                        <td id=\"T_fef16076_ddce_11ea_afd3_a01d48db95d2row15_col1\" class=\"data row15 col1\" >None</td>\n",
       "            </tr>\n",
       "            <tr>\n",
       "                        <th id=\"T_fef16076_ddce_11ea_afd3_a01d48db95d2level0_row16\" class=\"row_heading level0 row16\" >16</th>\n",
       "                        <td id=\"T_fef16076_ddce_11ea_afd3_a01d48db95d2row16_col0\" class=\"data row16 col0\" >PCA components </td>\n",
       "                        <td id=\"T_fef16076_ddce_11ea_afd3_a01d48db95d2row16_col1\" class=\"data row16 col1\" >None</td>\n",
       "            </tr>\n",
       "            <tr>\n",
       "                        <th id=\"T_fef16076_ddce_11ea_afd3_a01d48db95d2level0_row17\" class=\"row_heading level0 row17\" >17</th>\n",
       "                        <td id=\"T_fef16076_ddce_11ea_afd3_a01d48db95d2row17_col0\" class=\"data row17 col0\" >Ignore Low Variance </td>\n",
       "                        <td id=\"T_fef16076_ddce_11ea_afd3_a01d48db95d2row17_col1\" class=\"data row17 col1\" >False</td>\n",
       "            </tr>\n",
       "            <tr>\n",
       "                        <th id=\"T_fef16076_ddce_11ea_afd3_a01d48db95d2level0_row18\" class=\"row_heading level0 row18\" >18</th>\n",
       "                        <td id=\"T_fef16076_ddce_11ea_afd3_a01d48db95d2row18_col0\" class=\"data row18 col0\" >Combine Rare Levels </td>\n",
       "                        <td id=\"T_fef16076_ddce_11ea_afd3_a01d48db95d2row18_col1\" class=\"data row18 col1\" >False</td>\n",
       "            </tr>\n",
       "            <tr>\n",
       "                        <th id=\"T_fef16076_ddce_11ea_afd3_a01d48db95d2level0_row19\" class=\"row_heading level0 row19\" >19</th>\n",
       "                        <td id=\"T_fef16076_ddce_11ea_afd3_a01d48db95d2row19_col0\" class=\"data row19 col0\" >Rare Level Threshold </td>\n",
       "                        <td id=\"T_fef16076_ddce_11ea_afd3_a01d48db95d2row19_col1\" class=\"data row19 col1\" >None</td>\n",
       "            </tr>\n",
       "            <tr>\n",
       "                        <th id=\"T_fef16076_ddce_11ea_afd3_a01d48db95d2level0_row20\" class=\"row_heading level0 row20\" >20</th>\n",
       "                        <td id=\"T_fef16076_ddce_11ea_afd3_a01d48db95d2row20_col0\" class=\"data row20 col0\" >Numeric Binning </td>\n",
       "                        <td id=\"T_fef16076_ddce_11ea_afd3_a01d48db95d2row20_col1\" class=\"data row20 col1\" >False</td>\n",
       "            </tr>\n",
       "            <tr>\n",
       "                        <th id=\"T_fef16076_ddce_11ea_afd3_a01d48db95d2level0_row21\" class=\"row_heading level0 row21\" >21</th>\n",
       "                        <td id=\"T_fef16076_ddce_11ea_afd3_a01d48db95d2row21_col0\" class=\"data row21 col0\" >Remove Multicollinearity </td>\n",
       "                        <td id=\"T_fef16076_ddce_11ea_afd3_a01d48db95d2row21_col1\" class=\"data row21 col1\" >False</td>\n",
       "            </tr>\n",
       "            <tr>\n",
       "                        <th id=\"T_fef16076_ddce_11ea_afd3_a01d48db95d2level0_row22\" class=\"row_heading level0 row22\" >22</th>\n",
       "                        <td id=\"T_fef16076_ddce_11ea_afd3_a01d48db95d2row22_col0\" class=\"data row22 col0\" >Multicollinearity Threshold </td>\n",
       "                        <td id=\"T_fef16076_ddce_11ea_afd3_a01d48db95d2row22_col1\" class=\"data row22 col1\" >None</td>\n",
       "            </tr>\n",
       "            <tr>\n",
       "                        <th id=\"T_fef16076_ddce_11ea_afd3_a01d48db95d2level0_row23\" class=\"row_heading level0 row23\" >23</th>\n",
       "                        <td id=\"T_fef16076_ddce_11ea_afd3_a01d48db95d2row23_col0\" class=\"data row23 col0\" >Group Features </td>\n",
       "                        <td id=\"T_fef16076_ddce_11ea_afd3_a01d48db95d2row23_col1\" class=\"data row23 col1\" >False</td>\n",
       "            </tr>\n",
       "    </tbody></table>"
      ],
      "text/plain": [
       "<pandas.io.formats.style.Styler at 0x114ccf019b0>"
      ]
     },
     "metadata": {},
     "output_type": "display_data"
    }
   ],
   "source": [
    "#import the dataset from pycaret repository\n",
    "from pycaret.datasets import get_data\n",
    "anomaly = get_data('anomaly')\n",
    "\n",
    "#import anomaly detection module\n",
    "from pycaret.anomaly import *\n",
    "\n",
    "#intialize the setup\n",
    "exp_ano = setup(anomaly)"
   ]
  },
  {
   "cell_type": "code",
   "execution_count": 21,
   "metadata": {},
   "outputs": [
    {
     "data": {
      "text/html": [
       "<div>\n",
       "<style scoped>\n",
       "    .dataframe tbody tr th:only-of-type {\n",
       "        vertical-align: middle;\n",
       "    }\n",
       "\n",
       "    .dataframe tbody tr th {\n",
       "        vertical-align: top;\n",
       "    }\n",
       "\n",
       "    .dataframe thead th {\n",
       "        text-align: right;\n",
       "    }\n",
       "</style>\n",
       "<table border=\"1\" class=\"dataframe\">\n",
       "  <thead>\n",
       "    <tr style=\"text-align: right;\">\n",
       "      <th></th>\n",
       "      <th>Col1</th>\n",
       "      <th>Col2</th>\n",
       "      <th>Col3</th>\n",
       "      <th>Col4</th>\n",
       "      <th>Col5</th>\n",
       "      <th>Col6</th>\n",
       "      <th>Col7</th>\n",
       "      <th>Col8</th>\n",
       "      <th>Col9</th>\n",
       "      <th>Col10</th>\n",
       "    </tr>\n",
       "  </thead>\n",
       "  <tbody>\n",
       "    <tr>\n",
       "      <th>0</th>\n",
       "      <td>0.263995</td>\n",
       "      <td>0.764929</td>\n",
       "      <td>0.138424</td>\n",
       "      <td>0.935242</td>\n",
       "      <td>0.605867</td>\n",
       "      <td>0.518790</td>\n",
       "      <td>0.912225</td>\n",
       "      <td>0.608234</td>\n",
       "      <td>0.723782</td>\n",
       "      <td>0.733591</td>\n",
       "    </tr>\n",
       "    <tr>\n",
       "      <th>1</th>\n",
       "      <td>0.546092</td>\n",
       "      <td>0.653975</td>\n",
       "      <td>0.065575</td>\n",
       "      <td>0.227772</td>\n",
       "      <td>0.845269</td>\n",
       "      <td>0.837066</td>\n",
       "      <td>0.272379</td>\n",
       "      <td>0.331679</td>\n",
       "      <td>0.429297</td>\n",
       "      <td>0.367422</td>\n",
       "    </tr>\n",
       "    <tr>\n",
       "      <th>2</th>\n",
       "      <td>0.336714</td>\n",
       "      <td>0.538842</td>\n",
       "      <td>0.192801</td>\n",
       "      <td>0.553563</td>\n",
       "      <td>0.074515</td>\n",
       "      <td>0.332993</td>\n",
       "      <td>0.365792</td>\n",
       "      <td>0.861309</td>\n",
       "      <td>0.899017</td>\n",
       "      <td>0.088600</td>\n",
       "    </tr>\n",
       "    <tr>\n",
       "      <th>3</th>\n",
       "      <td>0.092108</td>\n",
       "      <td>0.995017</td>\n",
       "      <td>0.014465</td>\n",
       "      <td>0.176371</td>\n",
       "      <td>0.241530</td>\n",
       "      <td>0.514724</td>\n",
       "      <td>0.562208</td>\n",
       "      <td>0.158963</td>\n",
       "      <td>0.073715</td>\n",
       "      <td>0.208463</td>\n",
       "    </tr>\n",
       "    <tr>\n",
       "      <th>4</th>\n",
       "      <td>0.325261</td>\n",
       "      <td>0.805968</td>\n",
       "      <td>0.957033</td>\n",
       "      <td>0.331665</td>\n",
       "      <td>0.307923</td>\n",
       "      <td>0.355315</td>\n",
       "      <td>0.501899</td>\n",
       "      <td>0.558449</td>\n",
       "      <td>0.885169</td>\n",
       "      <td>0.182754</td>\n",
       "    </tr>\n",
       "  </tbody>\n",
       "</table>\n",
       "</div>"
      ],
      "text/plain": [
       "       Col1      Col2      Col3      Col4      Col5      Col6      Col7  \\\n",
       "0  0.263995  0.764929  0.138424  0.935242  0.605867  0.518790  0.912225   \n",
       "1  0.546092  0.653975  0.065575  0.227772  0.845269  0.837066  0.272379   \n",
       "2  0.336714  0.538842  0.192801  0.553563  0.074515  0.332993  0.365792   \n",
       "3  0.092108  0.995017  0.014465  0.176371  0.241530  0.514724  0.562208   \n",
       "4  0.325261  0.805968  0.957033  0.331665  0.307923  0.355315  0.501899   \n",
       "\n",
       "       Col8      Col9     Col10  \n",
       "0  0.608234  0.723782  0.733591  \n",
       "1  0.331679  0.429297  0.367422  \n",
       "2  0.861309  0.899017  0.088600  \n",
       "3  0.158963  0.073715  0.208463  \n",
       "4  0.558449  0.885169  0.182754  "
      ]
     },
     "execution_count": 21,
     "metadata": {},
     "output_type": "execute_result"
    }
   ],
   "source": [
    "anomaly.head()"
   ]
  },
  {
   "cell_type": "code",
   "execution_count": 22,
   "metadata": {},
   "outputs": [
    {
     "data": {
      "text/html": [
       "<div>\n",
       "<style scoped>\n",
       "    .dataframe tbody tr th:only-of-type {\n",
       "        vertical-align: middle;\n",
       "    }\n",
       "\n",
       "    .dataframe tbody tr th {\n",
       "        vertical-align: top;\n",
       "    }\n",
       "\n",
       "    .dataframe thead th {\n",
       "        text-align: right;\n",
       "    }\n",
       "</style>\n",
       "<table border=\"1\" class=\"dataframe\">\n",
       "  <thead>\n",
       "    <tr style=\"text-align: right;\">\n",
       "      <th></th>\n",
       "      <th>Name</th>\n",
       "      <th>Reference</th>\n",
       "    </tr>\n",
       "    <tr>\n",
       "      <th>ID</th>\n",
       "      <th></th>\n",
       "      <th></th>\n",
       "    </tr>\n",
       "  </thead>\n",
       "  <tbody>\n",
       "    <tr>\n",
       "      <th>abod</th>\n",
       "      <td>Angle-base Outlier Detection</td>\n",
       "      <td>pyod.models.abod.ABOD</td>\n",
       "    </tr>\n",
       "    <tr>\n",
       "      <th>iforest</th>\n",
       "      <td>Isolation Forest</td>\n",
       "      <td>pyod.models.iforest</td>\n",
       "    </tr>\n",
       "    <tr>\n",
       "      <th>cluster</th>\n",
       "      <td>Clustering-Based Local Outlier</td>\n",
       "      <td>pyod.models.cblof</td>\n",
       "    </tr>\n",
       "    <tr>\n",
       "      <th>cof</th>\n",
       "      <td>Connectivity-Based Outlier Factor</td>\n",
       "      <td>pyod.models.cof</td>\n",
       "    </tr>\n",
       "    <tr>\n",
       "      <th>histogram</th>\n",
       "      <td>Histogram-based Outlier Detection</td>\n",
       "      <td>pyod.models.hbos</td>\n",
       "    </tr>\n",
       "    <tr>\n",
       "      <th>knn</th>\n",
       "      <td>k-Nearest Neighbors Detector</td>\n",
       "      <td>pyod.models.knn</td>\n",
       "    </tr>\n",
       "    <tr>\n",
       "      <th>lof</th>\n",
       "      <td>Local Outlier Factor</td>\n",
       "      <td>pyod.models.lof</td>\n",
       "    </tr>\n",
       "    <tr>\n",
       "      <th>svm</th>\n",
       "      <td>One-class SVM detector</td>\n",
       "      <td>pyod.models.ocsvm</td>\n",
       "    </tr>\n",
       "    <tr>\n",
       "      <th>pca</th>\n",
       "      <td>Principal Component Analysis</td>\n",
       "      <td>pyod.models.pca</td>\n",
       "    </tr>\n",
       "    <tr>\n",
       "      <th>mcd</th>\n",
       "      <td>Minimum Covariance Determinant</td>\n",
       "      <td>pyod.models.mcd</td>\n",
       "    </tr>\n",
       "    <tr>\n",
       "      <th>sod</th>\n",
       "      <td>Subspace Outlier Detection</td>\n",
       "      <td>pyod.models.sod</td>\n",
       "    </tr>\n",
       "    <tr>\n",
       "      <th>sos</th>\n",
       "      <td>Stochastic Outlier Selection</td>\n",
       "      <td>pyod.models.sos</td>\n",
       "    </tr>\n",
       "  </tbody>\n",
       "</table>\n",
       "</div>"
      ],
      "text/plain": [
       "                                        Name              Reference\n",
       "ID                                                                 \n",
       "abod            Angle-base Outlier Detection  pyod.models.abod.ABOD\n",
       "iforest                     Isolation Forest    pyod.models.iforest\n",
       "cluster       Clustering-Based Local Outlier      pyod.models.cblof\n",
       "cof        Connectivity-Based Outlier Factor        pyod.models.cof\n",
       "histogram  Histogram-based Outlier Detection       pyod.models.hbos\n",
       "knn             k-Nearest Neighbors Detector        pyod.models.knn\n",
       "lof                     Local Outlier Factor        pyod.models.lof\n",
       "svm                   One-class SVM detector      pyod.models.ocsvm\n",
       "pca             Principal Component Analysis        pyod.models.pca\n",
       "mcd           Minimum Covariance Determinant        pyod.models.mcd\n",
       "sod               Subspace Outlier Detection        pyod.models.sod\n",
       "sos             Stochastic Outlier Selection        pyod.models.sos"
      ]
     },
     "execution_count": 22,
     "metadata": {},
     "output_type": "execute_result"
    }
   ],
   "source": [
    "# show all models in library \n",
    "all_models = models()\n",
    "all_models"
   ]
  },
  {
   "cell_type": "code",
   "execution_count": 24,
   "metadata": {},
   "outputs": [
    {
     "data": {
      "text/html": [
       "<div>\n",
       "<style scoped>\n",
       "    .dataframe tbody tr th:only-of-type {\n",
       "        vertical-align: middle;\n",
       "    }\n",
       "\n",
       "    .dataframe tbody tr th {\n",
       "        vertical-align: top;\n",
       "    }\n",
       "\n",
       "    .dataframe thead th {\n",
       "        text-align: right;\n",
       "    }\n",
       "</style>\n",
       "<table border=\"1\" class=\"dataframe\">\n",
       "  <thead>\n",
       "    <tr style=\"text-align: right;\">\n",
       "      <th></th>\n",
       "      <th>Col1</th>\n",
       "      <th>Col2</th>\n",
       "      <th>Col3</th>\n",
       "      <th>Col4</th>\n",
       "      <th>Col5</th>\n",
       "      <th>Col6</th>\n",
       "      <th>Col7</th>\n",
       "      <th>Col8</th>\n",
       "      <th>Col9</th>\n",
       "      <th>Col10</th>\n",
       "      <th>Label</th>\n",
       "      <th>Score</th>\n",
       "    </tr>\n",
       "  </thead>\n",
       "  <tbody>\n",
       "    <tr>\n",
       "      <th>0</th>\n",
       "      <td>0.263995</td>\n",
       "      <td>0.764929</td>\n",
       "      <td>0.138424</td>\n",
       "      <td>0.935242</td>\n",
       "      <td>0.605867</td>\n",
       "      <td>0.518790</td>\n",
       "      <td>0.912225</td>\n",
       "      <td>0.608234</td>\n",
       "      <td>0.723782</td>\n",
       "      <td>0.733591</td>\n",
       "      <td>0</td>\n",
       "      <td>-0.015930</td>\n",
       "    </tr>\n",
       "    <tr>\n",
       "      <th>1</th>\n",
       "      <td>0.546092</td>\n",
       "      <td>0.653975</td>\n",
       "      <td>0.065575</td>\n",
       "      <td>0.227772</td>\n",
       "      <td>0.845269</td>\n",
       "      <td>0.837066</td>\n",
       "      <td>0.272379</td>\n",
       "      <td>0.331679</td>\n",
       "      <td>0.429297</td>\n",
       "      <td>0.367422</td>\n",
       "      <td>0</td>\n",
       "      <td>-0.075177</td>\n",
       "    </tr>\n",
       "    <tr>\n",
       "      <th>2</th>\n",
       "      <td>0.336714</td>\n",
       "      <td>0.538842</td>\n",
       "      <td>0.192801</td>\n",
       "      <td>0.553563</td>\n",
       "      <td>0.074515</td>\n",
       "      <td>0.332993</td>\n",
       "      <td>0.365792</td>\n",
       "      <td>0.861309</td>\n",
       "      <td>0.899017</td>\n",
       "      <td>0.088600</td>\n",
       "      <td>1</td>\n",
       "      <td>0.016325</td>\n",
       "    </tr>\n",
       "    <tr>\n",
       "      <th>3</th>\n",
       "      <td>0.092108</td>\n",
       "      <td>0.995017</td>\n",
       "      <td>0.014465</td>\n",
       "      <td>0.176371</td>\n",
       "      <td>0.241530</td>\n",
       "      <td>0.514724</td>\n",
       "      <td>0.562208</td>\n",
       "      <td>0.158963</td>\n",
       "      <td>0.073715</td>\n",
       "      <td>0.208463</td>\n",
       "      <td>1</td>\n",
       "      <td>0.076362</td>\n",
       "    </tr>\n",
       "    <tr>\n",
       "      <th>4</th>\n",
       "      <td>0.325261</td>\n",
       "      <td>0.805968</td>\n",
       "      <td>0.957033</td>\n",
       "      <td>0.331665</td>\n",
       "      <td>0.307923</td>\n",
       "      <td>0.355315</td>\n",
       "      <td>0.501899</td>\n",
       "      <td>0.558449</td>\n",
       "      <td>0.885169</td>\n",
       "      <td>0.182754</td>\n",
       "      <td>0</td>\n",
       "      <td>-0.029647</td>\n",
       "    </tr>\n",
       "    <tr>\n",
       "      <th>5</th>\n",
       "      <td>0.212465</td>\n",
       "      <td>0.780305</td>\n",
       "      <td>0.458444</td>\n",
       "      <td>0.634509</td>\n",
       "      <td>0.373030</td>\n",
       "      <td>0.465651</td>\n",
       "      <td>0.413997</td>\n",
       "      <td>0.013080</td>\n",
       "      <td>0.570250</td>\n",
       "      <td>0.736672</td>\n",
       "      <td>0</td>\n",
       "      <td>-0.022077</td>\n",
       "    </tr>\n",
       "    <tr>\n",
       "      <th>6</th>\n",
       "      <td>0.258566</td>\n",
       "      <td>0.437318</td>\n",
       "      <td>0.559648</td>\n",
       "      <td>0.109203</td>\n",
       "      <td>0.994553</td>\n",
       "      <td>0.896994</td>\n",
       "      <td>0.488469</td>\n",
       "      <td>0.251943</td>\n",
       "      <td>0.017265</td>\n",
       "      <td>0.538513</td>\n",
       "      <td>0</td>\n",
       "      <td>-0.028342</td>\n",
       "    </tr>\n",
       "    <tr>\n",
       "      <th>7</th>\n",
       "      <td>0.869237</td>\n",
       "      <td>0.277979</td>\n",
       "      <td>0.423076</td>\n",
       "      <td>0.112472</td>\n",
       "      <td>0.183727</td>\n",
       "      <td>0.034960</td>\n",
       "      <td>0.111114</td>\n",
       "      <td>0.249330</td>\n",
       "      <td>0.550683</td>\n",
       "      <td>0.049843</td>\n",
       "      <td>1</td>\n",
       "      <td>0.016420</td>\n",
       "    </tr>\n",
       "    <tr>\n",
       "      <th>8</th>\n",
       "      <td>0.197078</td>\n",
       "      <td>0.843918</td>\n",
       "      <td>0.243396</td>\n",
       "      <td>0.281278</td>\n",
       "      <td>0.329148</td>\n",
       "      <td>0.734582</td>\n",
       "      <td>0.191947</td>\n",
       "      <td>0.927804</td>\n",
       "      <td>0.713269</td>\n",
       "      <td>0.891548</td>\n",
       "      <td>1</td>\n",
       "      <td>0.045043</td>\n",
       "    </tr>\n",
       "    <tr>\n",
       "      <th>9</th>\n",
       "      <td>0.292985</td>\n",
       "      <td>0.703432</td>\n",
       "      <td>0.439621</td>\n",
       "      <td>0.107868</td>\n",
       "      <td>0.922947</td>\n",
       "      <td>0.253458</td>\n",
       "      <td>0.295652</td>\n",
       "      <td>0.355287</td>\n",
       "      <td>0.980911</td>\n",
       "      <td>0.308864</td>\n",
       "      <td>0</td>\n",
       "      <td>-0.012970</td>\n",
       "    </tr>\n",
       "    <tr>\n",
       "      <th>10</th>\n",
       "      <td>0.821783</td>\n",
       "      <td>0.087778</td>\n",
       "      <td>0.439292</td>\n",
       "      <td>0.521600</td>\n",
       "      <td>0.437606</td>\n",
       "      <td>0.172574</td>\n",
       "      <td>0.117117</td>\n",
       "      <td>0.594212</td>\n",
       "      <td>0.456008</td>\n",
       "      <td>0.441427</td>\n",
       "      <td>0</td>\n",
       "      <td>-0.049965</td>\n",
       "    </tr>\n",
       "    <tr>\n",
       "      <th>11</th>\n",
       "      <td>0.796623</td>\n",
       "      <td>0.230543</td>\n",
       "      <td>0.993018</td>\n",
       "      <td>0.077075</td>\n",
       "      <td>0.094068</td>\n",
       "      <td>0.718628</td>\n",
       "      <td>0.977611</td>\n",
       "      <td>0.333386</td>\n",
       "      <td>0.634843</td>\n",
       "      <td>0.028729</td>\n",
       "      <td>1</td>\n",
       "      <td>0.040017</td>\n",
       "    </tr>\n",
       "    <tr>\n",
       "      <th>12</th>\n",
       "      <td>0.045577</td>\n",
       "      <td>0.335215</td>\n",
       "      <td>0.657812</td>\n",
       "      <td>0.723783</td>\n",
       "      <td>0.352304</td>\n",
       "      <td>0.069137</td>\n",
       "      <td>0.355386</td>\n",
       "      <td>0.448042</td>\n",
       "      <td>0.426716</td>\n",
       "      <td>0.894023</td>\n",
       "      <td>0</td>\n",
       "      <td>-0.023812</td>\n",
       "    </tr>\n",
       "    <tr>\n",
       "      <th>13</th>\n",
       "      <td>0.613660</td>\n",
       "      <td>0.709061</td>\n",
       "      <td>0.726767</td>\n",
       "      <td>0.862584</td>\n",
       "      <td>0.593116</td>\n",
       "      <td>0.474138</td>\n",
       "      <td>0.941633</td>\n",
       "      <td>0.788438</td>\n",
       "      <td>0.323293</td>\n",
       "      <td>0.931074</td>\n",
       "      <td>1</td>\n",
       "      <td>0.005399</td>\n",
       "    </tr>\n",
       "    <tr>\n",
       "      <th>14</th>\n",
       "      <td>0.950745</td>\n",
       "      <td>0.005154</td>\n",
       "      <td>0.084187</td>\n",
       "      <td>0.478148</td>\n",
       "      <td>0.212836</td>\n",
       "      <td>0.714347</td>\n",
       "      <td>0.664819</td>\n",
       "      <td>0.803558</td>\n",
       "      <td>0.465466</td>\n",
       "      <td>0.305692</td>\n",
       "      <td>1</td>\n",
       "      <td>0.034246</td>\n",
       "    </tr>\n",
       "    <tr>\n",
       "      <th>15</th>\n",
       "      <td>0.336346</td>\n",
       "      <td>0.252265</td>\n",
       "      <td>0.212287</td>\n",
       "      <td>0.020201</td>\n",
       "      <td>0.203514</td>\n",
       "      <td>0.534468</td>\n",
       "      <td>0.476263</td>\n",
       "      <td>0.845669</td>\n",
       "      <td>0.155377</td>\n",
       "      <td>0.442781</td>\n",
       "      <td>0</td>\n",
       "      <td>-0.009197</td>\n",
       "    </tr>\n",
       "    <tr>\n",
       "      <th>16</th>\n",
       "      <td>0.034441</td>\n",
       "      <td>0.193546</td>\n",
       "      <td>0.758742</td>\n",
       "      <td>0.921457</td>\n",
       "      <td>0.461482</td>\n",
       "      <td>0.052933</td>\n",
       "      <td>0.411735</td>\n",
       "      <td>0.301823</td>\n",
       "      <td>0.387138</td>\n",
       "      <td>0.571518</td>\n",
       "      <td>0</td>\n",
       "      <td>-0.028729</td>\n",
       "    </tr>\n",
       "    <tr>\n",
       "      <th>17</th>\n",
       "      <td>0.741544</td>\n",
       "      <td>0.398253</td>\n",
       "      <td>0.766472</td>\n",
       "      <td>0.635670</td>\n",
       "      <td>0.261735</td>\n",
       "      <td>0.837371</td>\n",
       "      <td>0.001797</td>\n",
       "      <td>0.568841</td>\n",
       "      <td>0.037360</td>\n",
       "      <td>0.292769</td>\n",
       "      <td>0</td>\n",
       "      <td>-0.010700</td>\n",
       "    </tr>\n",
       "    <tr>\n",
       "      <th>18</th>\n",
       "      <td>0.184433</td>\n",
       "      <td>0.174112</td>\n",
       "      <td>0.301976</td>\n",
       "      <td>0.895893</td>\n",
       "      <td>0.285614</td>\n",
       "      <td>0.615993</td>\n",
       "      <td>0.197073</td>\n",
       "      <td>0.738881</td>\n",
       "      <td>0.831371</td>\n",
       "      <td>0.265761</td>\n",
       "      <td>1</td>\n",
       "      <td>0.006416</td>\n",
       "    </tr>\n",
       "    <tr>\n",
       "      <th>19</th>\n",
       "      <td>0.664515</td>\n",
       "      <td>0.703410</td>\n",
       "      <td>0.330706</td>\n",
       "      <td>0.233882</td>\n",
       "      <td>0.160896</td>\n",
       "      <td>0.373187</td>\n",
       "      <td>0.758885</td>\n",
       "      <td>0.127118</td>\n",
       "      <td>0.312419</td>\n",
       "      <td>0.162028</td>\n",
       "      <td>0</td>\n",
       "      <td>-0.013160</td>\n",
       "    </tr>\n",
       "    <tr>\n",
       "      <th>20</th>\n",
       "      <td>0.162825</td>\n",
       "      <td>0.674069</td>\n",
       "      <td>0.705447</td>\n",
       "      <td>0.774799</td>\n",
       "      <td>0.894267</td>\n",
       "      <td>0.443057</td>\n",
       "      <td>0.399779</td>\n",
       "      <td>0.009136</td>\n",
       "      <td>0.941851</td>\n",
       "      <td>0.982711</td>\n",
       "      <td>1</td>\n",
       "      <td>0.037461</td>\n",
       "    </tr>\n",
       "    <tr>\n",
       "      <th>21</th>\n",
       "      <td>0.729838</td>\n",
       "      <td>0.439146</td>\n",
       "      <td>0.131570</td>\n",
       "      <td>0.942077</td>\n",
       "      <td>0.797975</td>\n",
       "      <td>0.364697</td>\n",
       "      <td>0.799540</td>\n",
       "      <td>0.585000</td>\n",
       "      <td>0.488889</td>\n",
       "      <td>0.313987</td>\n",
       "      <td>0</td>\n",
       "      <td>-0.059161</td>\n",
       "    </tr>\n",
       "    <tr>\n",
       "      <th>22</th>\n",
       "      <td>0.628374</td>\n",
       "      <td>0.746294</td>\n",
       "      <td>0.829249</td>\n",
       "      <td>0.724112</td>\n",
       "      <td>0.302080</td>\n",
       "      <td>0.526148</td>\n",
       "      <td>0.854241</td>\n",
       "      <td>0.596767</td>\n",
       "      <td>0.757508</td>\n",
       "      <td>0.674008</td>\n",
       "      <td>0</td>\n",
       "      <td>-0.050323</td>\n",
       "    </tr>\n",
       "    <tr>\n",
       "      <th>23</th>\n",
       "      <td>0.057884</td>\n",
       "      <td>0.227162</td>\n",
       "      <td>0.022494</td>\n",
       "      <td>0.167069</td>\n",
       "      <td>0.631315</td>\n",
       "      <td>0.610103</td>\n",
       "      <td>0.277753</td>\n",
       "      <td>0.728503</td>\n",
       "      <td>0.716414</td>\n",
       "      <td>0.973370</td>\n",
       "      <td>1</td>\n",
       "      <td>0.047434</td>\n",
       "    </tr>\n",
       "    <tr>\n",
       "      <th>24</th>\n",
       "      <td>0.445535</td>\n",
       "      <td>0.640881</td>\n",
       "      <td>0.689264</td>\n",
       "      <td>0.937542</td>\n",
       "      <td>0.037016</td>\n",
       "      <td>0.316847</td>\n",
       "      <td>0.972312</td>\n",
       "      <td>0.224585</td>\n",
       "      <td>0.393000</td>\n",
       "      <td>0.857239</td>\n",
       "      <td>1</td>\n",
       "      <td>0.027169</td>\n",
       "    </tr>\n",
       "    <tr>\n",
       "      <th>25</th>\n",
       "      <td>0.801837</td>\n",
       "      <td>0.272857</td>\n",
       "      <td>0.109206</td>\n",
       "      <td>0.922978</td>\n",
       "      <td>0.656014</td>\n",
       "      <td>0.376589</td>\n",
       "      <td>0.735547</td>\n",
       "      <td>0.302567</td>\n",
       "      <td>0.988732</td>\n",
       "      <td>0.847391</td>\n",
       "      <td>1</td>\n",
       "      <td>0.016515</td>\n",
       "    </tr>\n",
       "    <tr>\n",
       "      <th>26</th>\n",
       "      <td>0.277096</td>\n",
       "      <td>0.376903</td>\n",
       "      <td>0.400168</td>\n",
       "      <td>0.327737</td>\n",
       "      <td>0.182600</td>\n",
       "      <td>0.280189</td>\n",
       "      <td>0.630646</td>\n",
       "      <td>0.210329</td>\n",
       "      <td>0.553328</td>\n",
       "      <td>0.080611</td>\n",
       "      <td>0</td>\n",
       "      <td>-0.035082</td>\n",
       "    </tr>\n",
       "    <tr>\n",
       "      <th>27</th>\n",
       "      <td>0.228634</td>\n",
       "      <td>0.894235</td>\n",
       "      <td>0.507206</td>\n",
       "      <td>0.380223</td>\n",
       "      <td>0.836156</td>\n",
       "      <td>0.645174</td>\n",
       "      <td>0.516243</td>\n",
       "      <td>0.638386</td>\n",
       "      <td>0.102725</td>\n",
       "      <td>0.620343</td>\n",
       "      <td>0</td>\n",
       "      <td>-0.051093</td>\n",
       "    </tr>\n",
       "    <tr>\n",
       "      <th>28</th>\n",
       "      <td>0.834861</td>\n",
       "      <td>0.973891</td>\n",
       "      <td>0.808398</td>\n",
       "      <td>0.222828</td>\n",
       "      <td>0.018934</td>\n",
       "      <td>0.708188</td>\n",
       "      <td>0.986392</td>\n",
       "      <td>0.545479</td>\n",
       "      <td>0.235898</td>\n",
       "      <td>0.844788</td>\n",
       "      <td>1</td>\n",
       "      <td>0.039535</td>\n",
       "    </tr>\n",
       "    <tr>\n",
       "      <th>29</th>\n",
       "      <td>0.669767</td>\n",
       "      <td>0.694779</td>\n",
       "      <td>0.191048</td>\n",
       "      <td>0.080716</td>\n",
       "      <td>0.441480</td>\n",
       "      <td>0.115675</td>\n",
       "      <td>0.054466</td>\n",
       "      <td>0.949300</td>\n",
       "      <td>0.318667</td>\n",
       "      <td>0.410017</td>\n",
       "      <td>0</td>\n",
       "      <td>-0.000827</td>\n",
       "    </tr>\n",
       "    <tr>\n",
       "      <th>...</th>\n",
       "      <td>...</td>\n",
       "      <td>...</td>\n",
       "      <td>...</td>\n",
       "      <td>...</td>\n",
       "      <td>...</td>\n",
       "      <td>...</td>\n",
       "      <td>...</td>\n",
       "      <td>...</td>\n",
       "      <td>...</td>\n",
       "      <td>...</td>\n",
       "      <td>...</td>\n",
       "      <td>...</td>\n",
       "    </tr>\n",
       "    <tr>\n",
       "      <th>970</th>\n",
       "      <td>0.294840</td>\n",
       "      <td>0.585069</td>\n",
       "      <td>0.807763</td>\n",
       "      <td>0.161450</td>\n",
       "      <td>0.211258</td>\n",
       "      <td>0.093839</td>\n",
       "      <td>0.571983</td>\n",
       "      <td>0.580850</td>\n",
       "      <td>0.393022</td>\n",
       "      <td>0.656014</td>\n",
       "      <td>0</td>\n",
       "      <td>-0.079415</td>\n",
       "    </tr>\n",
       "    <tr>\n",
       "      <th>971</th>\n",
       "      <td>0.705692</td>\n",
       "      <td>0.112177</td>\n",
       "      <td>0.663997</td>\n",
       "      <td>0.139862</td>\n",
       "      <td>0.920007</td>\n",
       "      <td>0.906847</td>\n",
       "      <td>0.750630</td>\n",
       "      <td>0.634295</td>\n",
       "      <td>0.647978</td>\n",
       "      <td>0.436654</td>\n",
       "      <td>0</td>\n",
       "      <td>-0.059811</td>\n",
       "    </tr>\n",
       "    <tr>\n",
       "      <th>972</th>\n",
       "      <td>0.211918</td>\n",
       "      <td>0.856126</td>\n",
       "      <td>0.070427</td>\n",
       "      <td>0.583225</td>\n",
       "      <td>0.907497</td>\n",
       "      <td>0.889385</td>\n",
       "      <td>0.801044</td>\n",
       "      <td>0.648346</td>\n",
       "      <td>0.699338</td>\n",
       "      <td>0.394943</td>\n",
       "      <td>0</td>\n",
       "      <td>-0.039850</td>\n",
       "    </tr>\n",
       "    <tr>\n",
       "      <th>973</th>\n",
       "      <td>0.063201</td>\n",
       "      <td>0.400726</td>\n",
       "      <td>0.903851</td>\n",
       "      <td>0.406240</td>\n",
       "      <td>0.225658</td>\n",
       "      <td>0.106074</td>\n",
       "      <td>0.903802</td>\n",
       "      <td>0.548935</td>\n",
       "      <td>0.891103</td>\n",
       "      <td>0.136162</td>\n",
       "      <td>0</td>\n",
       "      <td>-0.025279</td>\n",
       "    </tr>\n",
       "    <tr>\n",
       "      <th>974</th>\n",
       "      <td>0.276700</td>\n",
       "      <td>0.581179</td>\n",
       "      <td>0.571278</td>\n",
       "      <td>0.072169</td>\n",
       "      <td>0.896689</td>\n",
       "      <td>0.952245</td>\n",
       "      <td>0.901554</td>\n",
       "      <td>0.689246</td>\n",
       "      <td>0.792970</td>\n",
       "      <td>0.329273</td>\n",
       "      <td>0</td>\n",
       "      <td>-0.041264</td>\n",
       "    </tr>\n",
       "    <tr>\n",
       "      <th>975</th>\n",
       "      <td>0.672459</td>\n",
       "      <td>0.511892</td>\n",
       "      <td>0.435040</td>\n",
       "      <td>0.226821</td>\n",
       "      <td>0.806597</td>\n",
       "      <td>0.930941</td>\n",
       "      <td>0.191688</td>\n",
       "      <td>0.080500</td>\n",
       "      <td>0.349206</td>\n",
       "      <td>0.359001</td>\n",
       "      <td>0</td>\n",
       "      <td>-0.085149</td>\n",
       "    </tr>\n",
       "    <tr>\n",
       "      <th>976</th>\n",
       "      <td>0.808206</td>\n",
       "      <td>0.841389</td>\n",
       "      <td>0.633951</td>\n",
       "      <td>0.503123</td>\n",
       "      <td>0.804177</td>\n",
       "      <td>0.860932</td>\n",
       "      <td>0.226067</td>\n",
       "      <td>0.270119</td>\n",
       "      <td>0.261800</td>\n",
       "      <td>0.574867</td>\n",
       "      <td>0</td>\n",
       "      <td>-0.075725</td>\n",
       "    </tr>\n",
       "    <tr>\n",
       "      <th>977</th>\n",
       "      <td>0.296538</td>\n",
       "      <td>0.369732</td>\n",
       "      <td>0.590277</td>\n",
       "      <td>0.112758</td>\n",
       "      <td>0.195718</td>\n",
       "      <td>0.165550</td>\n",
       "      <td>0.567765</td>\n",
       "      <td>0.516389</td>\n",
       "      <td>0.408517</td>\n",
       "      <td>0.623059</td>\n",
       "      <td>0</td>\n",
       "      <td>-0.092172</td>\n",
       "    </tr>\n",
       "    <tr>\n",
       "      <th>978</th>\n",
       "      <td>0.160127</td>\n",
       "      <td>0.800406</td>\n",
       "      <td>0.398444</td>\n",
       "      <td>0.863478</td>\n",
       "      <td>0.837672</td>\n",
       "      <td>0.899558</td>\n",
       "      <td>0.436551</td>\n",
       "      <td>0.673531</td>\n",
       "      <td>0.302354</td>\n",
       "      <td>0.771630</td>\n",
       "      <td>0</td>\n",
       "      <td>-0.066630</td>\n",
       "    </tr>\n",
       "    <tr>\n",
       "      <th>979</th>\n",
       "      <td>0.439385</td>\n",
       "      <td>0.713612</td>\n",
       "      <td>0.306097</td>\n",
       "      <td>0.865955</td>\n",
       "      <td>0.230262</td>\n",
       "      <td>0.140354</td>\n",
       "      <td>0.175919</td>\n",
       "      <td>0.237217</td>\n",
       "      <td>0.223580</td>\n",
       "      <td>0.590675</td>\n",
       "      <td>0</td>\n",
       "      <td>-0.074707</td>\n",
       "    </tr>\n",
       "    <tr>\n",
       "      <th>980</th>\n",
       "      <td>0.555951</td>\n",
       "      <td>0.283735</td>\n",
       "      <td>0.153922</td>\n",
       "      <td>0.813109</td>\n",
       "      <td>0.151434</td>\n",
       "      <td>0.183059</td>\n",
       "      <td>0.558736</td>\n",
       "      <td>0.663170</td>\n",
       "      <td>0.364227</td>\n",
       "      <td>0.707085</td>\n",
       "      <td>0</td>\n",
       "      <td>-0.053962</td>\n",
       "    </tr>\n",
       "    <tr>\n",
       "      <th>981</th>\n",
       "      <td>0.386240</td>\n",
       "      <td>0.242926</td>\n",
       "      <td>0.178859</td>\n",
       "      <td>0.872446</td>\n",
       "      <td>0.809220</td>\n",
       "      <td>0.537070</td>\n",
       "      <td>0.956310</td>\n",
       "      <td>0.599172</td>\n",
       "      <td>0.920387</td>\n",
       "      <td>0.141029</td>\n",
       "      <td>0</td>\n",
       "      <td>-0.048421</td>\n",
       "    </tr>\n",
       "    <tr>\n",
       "      <th>982</th>\n",
       "      <td>0.158690</td>\n",
       "      <td>0.237275</td>\n",
       "      <td>0.682426</td>\n",
       "      <td>0.366958</td>\n",
       "      <td>0.785488</td>\n",
       "      <td>0.555084</td>\n",
       "      <td>0.896773</td>\n",
       "      <td>0.731747</td>\n",
       "      <td>0.758292</td>\n",
       "      <td>0.392710</td>\n",
       "      <td>0</td>\n",
       "      <td>-0.088163</td>\n",
       "    </tr>\n",
       "    <tr>\n",
       "      <th>983</th>\n",
       "      <td>0.214500</td>\n",
       "      <td>0.499864</td>\n",
       "      <td>0.812871</td>\n",
       "      <td>0.307910</td>\n",
       "      <td>0.937555</td>\n",
       "      <td>0.604461</td>\n",
       "      <td>0.235869</td>\n",
       "      <td>0.266443</td>\n",
       "      <td>0.276143</td>\n",
       "      <td>0.558061</td>\n",
       "      <td>0</td>\n",
       "      <td>-0.091803</td>\n",
       "    </tr>\n",
       "    <tr>\n",
       "      <th>984</th>\n",
       "      <td>0.299579</td>\n",
       "      <td>0.384525</td>\n",
       "      <td>0.592180</td>\n",
       "      <td>0.067107</td>\n",
       "      <td>0.150639</td>\n",
       "      <td>0.106180</td>\n",
       "      <td>0.493598</td>\n",
       "      <td>0.680112</td>\n",
       "      <td>0.328136</td>\n",
       "      <td>0.747692</td>\n",
       "      <td>0</td>\n",
       "      <td>-0.080658</td>\n",
       "    </tr>\n",
       "    <tr>\n",
       "      <th>985</th>\n",
       "      <td>0.569162</td>\n",
       "      <td>0.084294</td>\n",
       "      <td>0.639347</td>\n",
       "      <td>0.542296</td>\n",
       "      <td>0.901477</td>\n",
       "      <td>0.940967</td>\n",
       "      <td>0.255409</td>\n",
       "      <td>0.695081</td>\n",
       "      <td>0.208943</td>\n",
       "      <td>0.870679</td>\n",
       "      <td>0</td>\n",
       "      <td>-0.038179</td>\n",
       "    </tr>\n",
       "    <tr>\n",
       "      <th>986</th>\n",
       "      <td>0.488615</td>\n",
       "      <td>0.024616</td>\n",
       "      <td>0.601601</td>\n",
       "      <td>0.639884</td>\n",
       "      <td>0.806708</td>\n",
       "      <td>0.487639</td>\n",
       "      <td>0.349057</td>\n",
       "      <td>0.544117</td>\n",
       "      <td>0.295269</td>\n",
       "      <td>0.743577</td>\n",
       "      <td>0</td>\n",
       "      <td>-0.096615</td>\n",
       "    </tr>\n",
       "    <tr>\n",
       "      <th>987</th>\n",
       "      <td>0.878295</td>\n",
       "      <td>0.748962</td>\n",
       "      <td>0.568487</td>\n",
       "      <td>0.745517</td>\n",
       "      <td>0.139195</td>\n",
       "      <td>0.102361</td>\n",
       "      <td>0.205971</td>\n",
       "      <td>0.094097</td>\n",
       "      <td>0.357218</td>\n",
       "      <td>0.360233</td>\n",
       "      <td>0</td>\n",
       "      <td>-0.050244</td>\n",
       "    </tr>\n",
       "    <tr>\n",
       "      <th>988</th>\n",
       "      <td>0.649381</td>\n",
       "      <td>0.336001</td>\n",
       "      <td>0.261147</td>\n",
       "      <td>0.810581</td>\n",
       "      <td>0.296225</td>\n",
       "      <td>0.085464</td>\n",
       "      <td>0.231399</td>\n",
       "      <td>0.175404</td>\n",
       "      <td>0.332651</td>\n",
       "      <td>0.439911</td>\n",
       "      <td>0</td>\n",
       "      <td>-0.080220</td>\n",
       "    </tr>\n",
       "    <tr>\n",
       "      <th>989</th>\n",
       "      <td>0.465713</td>\n",
       "      <td>0.305747</td>\n",
       "      <td>0.865416</td>\n",
       "      <td>0.229325</td>\n",
       "      <td>0.162482</td>\n",
       "      <td>0.121197</td>\n",
       "      <td>0.804117</td>\n",
       "      <td>0.624310</td>\n",
       "      <td>0.719397</td>\n",
       "      <td>0.358621</td>\n",
       "      <td>0</td>\n",
       "      <td>-0.075674</td>\n",
       "    </tr>\n",
       "    <tr>\n",
       "      <th>990</th>\n",
       "      <td>0.168138</td>\n",
       "      <td>0.792278</td>\n",
       "      <td>0.394959</td>\n",
       "      <td>0.619092</td>\n",
       "      <td>0.163022</td>\n",
       "      <td>0.094084</td>\n",
       "      <td>0.215489</td>\n",
       "      <td>0.231208</td>\n",
       "      <td>0.275478</td>\n",
       "      <td>0.534818</td>\n",
       "      <td>0</td>\n",
       "      <td>-0.076891</td>\n",
       "    </tr>\n",
       "    <tr>\n",
       "      <th>991</th>\n",
       "      <td>0.875295</td>\n",
       "      <td>0.782866</td>\n",
       "      <td>0.793565</td>\n",
       "      <td>0.208893</td>\n",
       "      <td>0.775079</td>\n",
       "      <td>0.519371</td>\n",
       "      <td>0.872406</td>\n",
       "      <td>0.538987</td>\n",
       "      <td>0.859932</td>\n",
       "      <td>0.160512</td>\n",
       "      <td>0</td>\n",
       "      <td>-0.054933</td>\n",
       "    </tr>\n",
       "    <tr>\n",
       "      <th>992</th>\n",
       "      <td>0.841132</td>\n",
       "      <td>0.155188</td>\n",
       "      <td>0.592404</td>\n",
       "      <td>0.190720</td>\n",
       "      <td>0.863543</td>\n",
       "      <td>0.445444</td>\n",
       "      <td>0.880586</td>\n",
       "      <td>0.678148</td>\n",
       "      <td>0.775182</td>\n",
       "      <td>0.339491</td>\n",
       "      <td>0</td>\n",
       "      <td>-0.074842</td>\n",
       "    </tr>\n",
       "    <tr>\n",
       "      <th>993</th>\n",
       "      <td>0.332921</td>\n",
       "      <td>0.301362</td>\n",
       "      <td>0.251237</td>\n",
       "      <td>0.851209</td>\n",
       "      <td>0.151266</td>\n",
       "      <td>0.189643</td>\n",
       "      <td>0.804999</td>\n",
       "      <td>0.677735</td>\n",
       "      <td>0.684131</td>\n",
       "      <td>0.430055</td>\n",
       "      <td>0</td>\n",
       "      <td>-0.066396</td>\n",
       "    </tr>\n",
       "    <tr>\n",
       "      <th>994</th>\n",
       "      <td>0.513048</td>\n",
       "      <td>0.262604</td>\n",
       "      <td>0.081283</td>\n",
       "      <td>0.439154</td>\n",
       "      <td>0.151183</td>\n",
       "      <td>0.065230</td>\n",
       "      <td>0.387066</td>\n",
       "      <td>0.470679</td>\n",
       "      <td>0.333616</td>\n",
       "      <td>0.685385</td>\n",
       "      <td>0</td>\n",
       "      <td>-0.069717</td>\n",
       "    </tr>\n",
       "    <tr>\n",
       "      <th>995</th>\n",
       "      <td>0.305055</td>\n",
       "      <td>0.656837</td>\n",
       "      <td>0.331665</td>\n",
       "      <td>0.822525</td>\n",
       "      <td>0.907127</td>\n",
       "      <td>0.882276</td>\n",
       "      <td>0.855732</td>\n",
       "      <td>0.584786</td>\n",
       "      <td>0.808640</td>\n",
       "      <td>0.242762</td>\n",
       "      <td>0</td>\n",
       "      <td>-0.078783</td>\n",
       "    </tr>\n",
       "    <tr>\n",
       "      <th>996</th>\n",
       "      <td>0.812627</td>\n",
       "      <td>0.864258</td>\n",
       "      <td>0.616604</td>\n",
       "      <td>0.167966</td>\n",
       "      <td>0.811223</td>\n",
       "      <td>0.938071</td>\n",
       "      <td>0.418462</td>\n",
       "      <td>0.472306</td>\n",
       "      <td>0.348347</td>\n",
       "      <td>0.671129</td>\n",
       "      <td>0</td>\n",
       "      <td>-0.060444</td>\n",
       "    </tr>\n",
       "    <tr>\n",
       "      <th>997</th>\n",
       "      <td>0.250967</td>\n",
       "      <td>0.138627</td>\n",
       "      <td>0.919703</td>\n",
       "      <td>0.461234</td>\n",
       "      <td>0.886555</td>\n",
       "      <td>0.869888</td>\n",
       "      <td>0.800908</td>\n",
       "      <td>0.530324</td>\n",
       "      <td>0.779433</td>\n",
       "      <td>0.234952</td>\n",
       "      <td>0</td>\n",
       "      <td>-0.066442</td>\n",
       "    </tr>\n",
       "    <tr>\n",
       "      <th>998</th>\n",
       "      <td>0.502436</td>\n",
       "      <td>0.936820</td>\n",
       "      <td>0.580062</td>\n",
       "      <td>0.540773</td>\n",
       "      <td>0.151995</td>\n",
       "      <td>0.059452</td>\n",
       "      <td>0.225220</td>\n",
       "      <td>0.242755</td>\n",
       "      <td>0.279385</td>\n",
       "      <td>0.538755</td>\n",
       "      <td>0</td>\n",
       "      <td>-0.074048</td>\n",
       "    </tr>\n",
       "    <tr>\n",
       "      <th>999</th>\n",
       "      <td>0.457991</td>\n",
       "      <td>0.017755</td>\n",
       "      <td>0.714113</td>\n",
       "      <td>0.125992</td>\n",
       "      <td>0.063316</td>\n",
       "      <td>0.154739</td>\n",
       "      <td>0.922974</td>\n",
       "      <td>0.692299</td>\n",
       "      <td>0.816777</td>\n",
       "      <td>0.307592</td>\n",
       "      <td>1</td>\n",
       "      <td>0.000835</td>\n",
       "    </tr>\n",
       "  </tbody>\n",
       "</table>\n",
       "<p>1000 rows × 12 columns</p>\n",
       "</div>"
      ],
      "text/plain": [
       "         Col1      Col2      Col3      Col4      Col5      Col6      Col7  \\\n",
       "0    0.263995  0.764929  0.138424  0.935242  0.605867  0.518790  0.912225   \n",
       "1    0.546092  0.653975  0.065575  0.227772  0.845269  0.837066  0.272379   \n",
       "2    0.336714  0.538842  0.192801  0.553563  0.074515  0.332993  0.365792   \n",
       "3    0.092108  0.995017  0.014465  0.176371  0.241530  0.514724  0.562208   \n",
       "4    0.325261  0.805968  0.957033  0.331665  0.307923  0.355315  0.501899   \n",
       "5    0.212465  0.780305  0.458444  0.634509  0.373030  0.465651  0.413997   \n",
       "6    0.258566  0.437318  0.559648  0.109203  0.994553  0.896994  0.488469   \n",
       "7    0.869237  0.277979  0.423076  0.112472  0.183727  0.034960  0.111114   \n",
       "8    0.197078  0.843918  0.243396  0.281278  0.329148  0.734582  0.191947   \n",
       "9    0.292985  0.703432  0.439621  0.107868  0.922947  0.253458  0.295652   \n",
       "10   0.821783  0.087778  0.439292  0.521600  0.437606  0.172574  0.117117   \n",
       "11   0.796623  0.230543  0.993018  0.077075  0.094068  0.718628  0.977611   \n",
       "12   0.045577  0.335215  0.657812  0.723783  0.352304  0.069137  0.355386   \n",
       "13   0.613660  0.709061  0.726767  0.862584  0.593116  0.474138  0.941633   \n",
       "14   0.950745  0.005154  0.084187  0.478148  0.212836  0.714347  0.664819   \n",
       "15   0.336346  0.252265  0.212287  0.020201  0.203514  0.534468  0.476263   \n",
       "16   0.034441  0.193546  0.758742  0.921457  0.461482  0.052933  0.411735   \n",
       "17   0.741544  0.398253  0.766472  0.635670  0.261735  0.837371  0.001797   \n",
       "18   0.184433  0.174112  0.301976  0.895893  0.285614  0.615993  0.197073   \n",
       "19   0.664515  0.703410  0.330706  0.233882  0.160896  0.373187  0.758885   \n",
       "20   0.162825  0.674069  0.705447  0.774799  0.894267  0.443057  0.399779   \n",
       "21   0.729838  0.439146  0.131570  0.942077  0.797975  0.364697  0.799540   \n",
       "22   0.628374  0.746294  0.829249  0.724112  0.302080  0.526148  0.854241   \n",
       "23   0.057884  0.227162  0.022494  0.167069  0.631315  0.610103  0.277753   \n",
       "24   0.445535  0.640881  0.689264  0.937542  0.037016  0.316847  0.972312   \n",
       "25   0.801837  0.272857  0.109206  0.922978  0.656014  0.376589  0.735547   \n",
       "26   0.277096  0.376903  0.400168  0.327737  0.182600  0.280189  0.630646   \n",
       "27   0.228634  0.894235  0.507206  0.380223  0.836156  0.645174  0.516243   \n",
       "28   0.834861  0.973891  0.808398  0.222828  0.018934  0.708188  0.986392   \n",
       "29   0.669767  0.694779  0.191048  0.080716  0.441480  0.115675  0.054466   \n",
       "..        ...       ...       ...       ...       ...       ...       ...   \n",
       "970  0.294840  0.585069  0.807763  0.161450  0.211258  0.093839  0.571983   \n",
       "971  0.705692  0.112177  0.663997  0.139862  0.920007  0.906847  0.750630   \n",
       "972  0.211918  0.856126  0.070427  0.583225  0.907497  0.889385  0.801044   \n",
       "973  0.063201  0.400726  0.903851  0.406240  0.225658  0.106074  0.903802   \n",
       "974  0.276700  0.581179  0.571278  0.072169  0.896689  0.952245  0.901554   \n",
       "975  0.672459  0.511892  0.435040  0.226821  0.806597  0.930941  0.191688   \n",
       "976  0.808206  0.841389  0.633951  0.503123  0.804177  0.860932  0.226067   \n",
       "977  0.296538  0.369732  0.590277  0.112758  0.195718  0.165550  0.567765   \n",
       "978  0.160127  0.800406  0.398444  0.863478  0.837672  0.899558  0.436551   \n",
       "979  0.439385  0.713612  0.306097  0.865955  0.230262  0.140354  0.175919   \n",
       "980  0.555951  0.283735  0.153922  0.813109  0.151434  0.183059  0.558736   \n",
       "981  0.386240  0.242926  0.178859  0.872446  0.809220  0.537070  0.956310   \n",
       "982  0.158690  0.237275  0.682426  0.366958  0.785488  0.555084  0.896773   \n",
       "983  0.214500  0.499864  0.812871  0.307910  0.937555  0.604461  0.235869   \n",
       "984  0.299579  0.384525  0.592180  0.067107  0.150639  0.106180  0.493598   \n",
       "985  0.569162  0.084294  0.639347  0.542296  0.901477  0.940967  0.255409   \n",
       "986  0.488615  0.024616  0.601601  0.639884  0.806708  0.487639  0.349057   \n",
       "987  0.878295  0.748962  0.568487  0.745517  0.139195  0.102361  0.205971   \n",
       "988  0.649381  0.336001  0.261147  0.810581  0.296225  0.085464  0.231399   \n",
       "989  0.465713  0.305747  0.865416  0.229325  0.162482  0.121197  0.804117   \n",
       "990  0.168138  0.792278  0.394959  0.619092  0.163022  0.094084  0.215489   \n",
       "991  0.875295  0.782866  0.793565  0.208893  0.775079  0.519371  0.872406   \n",
       "992  0.841132  0.155188  0.592404  0.190720  0.863543  0.445444  0.880586   \n",
       "993  0.332921  0.301362  0.251237  0.851209  0.151266  0.189643  0.804999   \n",
       "994  0.513048  0.262604  0.081283  0.439154  0.151183  0.065230  0.387066   \n",
       "995  0.305055  0.656837  0.331665  0.822525  0.907127  0.882276  0.855732   \n",
       "996  0.812627  0.864258  0.616604  0.167966  0.811223  0.938071  0.418462   \n",
       "997  0.250967  0.138627  0.919703  0.461234  0.886555  0.869888  0.800908   \n",
       "998  0.502436  0.936820  0.580062  0.540773  0.151995  0.059452  0.225220   \n",
       "999  0.457991  0.017755  0.714113  0.125992  0.063316  0.154739  0.922974   \n",
       "\n",
       "         Col8      Col9     Col10  Label     Score  \n",
       "0    0.608234  0.723782  0.733591      0 -0.015930  \n",
       "1    0.331679  0.429297  0.367422      0 -0.075177  \n",
       "2    0.861309  0.899017  0.088600      1  0.016325  \n",
       "3    0.158963  0.073715  0.208463      1  0.076362  \n",
       "4    0.558449  0.885169  0.182754      0 -0.029647  \n",
       "5    0.013080  0.570250  0.736672      0 -0.022077  \n",
       "6    0.251943  0.017265  0.538513      0 -0.028342  \n",
       "7    0.249330  0.550683  0.049843      1  0.016420  \n",
       "8    0.927804  0.713269  0.891548      1  0.045043  \n",
       "9    0.355287  0.980911  0.308864      0 -0.012970  \n",
       "10   0.594212  0.456008  0.441427      0 -0.049965  \n",
       "11   0.333386  0.634843  0.028729      1  0.040017  \n",
       "12   0.448042  0.426716  0.894023      0 -0.023812  \n",
       "13   0.788438  0.323293  0.931074      1  0.005399  \n",
       "14   0.803558  0.465466  0.305692      1  0.034246  \n",
       "15   0.845669  0.155377  0.442781      0 -0.009197  \n",
       "16   0.301823  0.387138  0.571518      0 -0.028729  \n",
       "17   0.568841  0.037360  0.292769      0 -0.010700  \n",
       "18   0.738881  0.831371  0.265761      1  0.006416  \n",
       "19   0.127118  0.312419  0.162028      0 -0.013160  \n",
       "20   0.009136  0.941851  0.982711      1  0.037461  \n",
       "21   0.585000  0.488889  0.313987      0 -0.059161  \n",
       "22   0.596767  0.757508  0.674008      0 -0.050323  \n",
       "23   0.728503  0.716414  0.973370      1  0.047434  \n",
       "24   0.224585  0.393000  0.857239      1  0.027169  \n",
       "25   0.302567  0.988732  0.847391      1  0.016515  \n",
       "26   0.210329  0.553328  0.080611      0 -0.035082  \n",
       "27   0.638386  0.102725  0.620343      0 -0.051093  \n",
       "28   0.545479  0.235898  0.844788      1  0.039535  \n",
       "29   0.949300  0.318667  0.410017      0 -0.000827  \n",
       "..        ...       ...       ...    ...       ...  \n",
       "970  0.580850  0.393022  0.656014      0 -0.079415  \n",
       "971  0.634295  0.647978  0.436654      0 -0.059811  \n",
       "972  0.648346  0.699338  0.394943      0 -0.039850  \n",
       "973  0.548935  0.891103  0.136162      0 -0.025279  \n",
       "974  0.689246  0.792970  0.329273      0 -0.041264  \n",
       "975  0.080500  0.349206  0.359001      0 -0.085149  \n",
       "976  0.270119  0.261800  0.574867      0 -0.075725  \n",
       "977  0.516389  0.408517  0.623059      0 -0.092172  \n",
       "978  0.673531  0.302354  0.771630      0 -0.066630  \n",
       "979  0.237217  0.223580  0.590675      0 -0.074707  \n",
       "980  0.663170  0.364227  0.707085      0 -0.053962  \n",
       "981  0.599172  0.920387  0.141029      0 -0.048421  \n",
       "982  0.731747  0.758292  0.392710      0 -0.088163  \n",
       "983  0.266443  0.276143  0.558061      0 -0.091803  \n",
       "984  0.680112  0.328136  0.747692      0 -0.080658  \n",
       "985  0.695081  0.208943  0.870679      0 -0.038179  \n",
       "986  0.544117  0.295269  0.743577      0 -0.096615  \n",
       "987  0.094097  0.357218  0.360233      0 -0.050244  \n",
       "988  0.175404  0.332651  0.439911      0 -0.080220  \n",
       "989  0.624310  0.719397  0.358621      0 -0.075674  \n",
       "990  0.231208  0.275478  0.534818      0 -0.076891  \n",
       "991  0.538987  0.859932  0.160512      0 -0.054933  \n",
       "992  0.678148  0.775182  0.339491      0 -0.074842  \n",
       "993  0.677735  0.684131  0.430055      0 -0.066396  \n",
       "994  0.470679  0.333616  0.685385      0 -0.069717  \n",
       "995  0.584786  0.808640  0.242762      0 -0.078783  \n",
       "996  0.472306  0.348347  0.671129      0 -0.060444  \n",
       "997  0.530324  0.779433  0.234952      0 -0.066442  \n",
       "998  0.242755  0.279385  0.538755      0 -0.074048  \n",
       "999  0.692299  0.816777  0.307592      1  0.000835  \n",
       "\n",
       "[1000 rows x 12 columns]"
      ]
     },
     "execution_count": 24,
     "metadata": {},
     "output_type": "execute_result"
    }
   ],
   "source": [
    "# create a model\n",
    "ifrst = create_model('iforest')\n",
    "ifrst_assign = assign_model(ifrst)\n",
    "ifrst_assign\n"
   ]
  },
  {
   "cell_type": "code",
   "execution_count": 33,
   "metadata": {},
   "outputs": [
    {
     "ename": "SystemExit",
     "evalue": "(Value Error): Model Not Available for Tuning. Please see docstring for list of available models.",
     "output_type": "error",
     "traceback": [
      "An exception has occurred, use %tb to see the full traceback.\n",
      "\u001b[1;31mSystemExit\u001b[0m\u001b[1;31m:\u001b[0m (Value Error): Model Not Available for Tuning. Please see docstring for list of available models.\n"
     ]
    }
   ],
   "source": [
    "tuned_ifrst = tune_model(ifrst)"
   ]
  },
  {
   "cell_type": "code",
   "execution_count": 26,
   "metadata": {},
   "outputs": [
    {
     "data": {
      "text/html": [
       "        <script type=\"text/javascript\">\n",
       "        window.PlotlyConfig = {MathJaxConfig: 'local'};\n",
       "        if (window.MathJax) {MathJax.Hub.Config({SVG: {font: \"STIX-Web\"}});}\n",
       "        if (typeof require !== 'undefined') {\n",
       "        require.undef(\"plotly\");\n",
       "        requirejs.config({\n",
       "            paths: {\n",
       "                'plotly': ['https://cdn.plot.ly/plotly-latest.min']\n",
       "            }\n",
       "        });\n",
       "        require(['plotly'], function(Plotly) {\n",
       "            window._Plotly = Plotly;\n",
       "        });\n",
       "        }\n",
       "        </script>\n",
       "        "
      ]
     },
     "metadata": {},
     "output_type": "display_data"
    },
    {
     "data": {
      "application/vnd.plotly.v1+json": {
       "config": {
        "plotlyServerURL": "https://plot.ly"
       },
       "data": [
        {
         "customdata": [
          [
           0.263995357
          ],
          [
           0.546092303
          ],
          [
           0.33671410399999996
          ],
          [
           0.092107835
          ],
          [
           0.325261175
          ],
          [
           0.212464853
          ],
          [
           0.258565714
          ],
          [
           0.869236755
          ],
          [
           0.197077957
          ],
          [
           0.292984504
          ],
          [
           0.82178316
          ],
          [
           0.796622959
          ],
          [
           0.045577010999999994
          ],
          [
           0.613660351
          ],
          [
           0.9507445659999999
          ],
          [
           0.33634633700000005
          ],
          [
           0.034440667
          ],
          [
           0.741544275
          ],
          [
           0.18443265
          ],
          [
           0.664514943
          ],
          [
           0.16282485800000002
          ],
          [
           0.729838445
          ],
          [
           0.62837389
          ],
          [
           0.057883660999999996
          ],
          [
           0.445534827
          ],
          [
           0.80183695
          ],
          [
           0.27709612
          ],
          [
           0.228634015
          ],
          [
           0.834860657
          ],
          [
           0.6697665110000001
          ],
          [
           0.532527349
          ],
          [
           0.17045907100000002
          ],
          [
           0.5102884679999999
          ],
          [
           0.977561989
          ],
          [
           0.249775993
          ],
          [
           0.9755006820000001
          ],
          [
           0.613701727
          ],
          [
           0.16742036300000002
          ],
          [
           0.537472516
          ],
          [
           0.379899131
          ],
          [
           0.633897303
          ],
          [
           0.633960424
          ],
          [
           0.5499746529999999
          ],
          [
           0.178172988
          ],
          [
           0.85563814
          ],
          [
           0.321796672
          ],
          [
           0.8174905370000001
          ],
          [
           0.254879417
          ],
          [
           0.344140513
          ],
          [
           0.8061457259999999
          ],
          [
           0.27708167100000003
          ],
          [
           0.544328519
          ],
          [
           0.07708393
          ],
          [
           0.273081458
          ],
          [
           0.390877336
          ],
          [
           0.349621385
          ],
          [
           0.214549744
          ],
          [
           0.206075222
          ],
          [
           0.86461997
          ],
          [
           0.9817088540000001
          ],
          [
           0.33482964600000004
          ],
          [
           0.648387061
          ],
          [
           0.093643561
          ],
          [
           0.837802698
          ],
          [
           0.7603439670000001
          ],
          [
           0.29140417399999996
          ],
          [
           0.3413454
          ],
          [
           0.7611124840000001
          ],
          [
           0.541899775
          ],
          [
           0.684176639
          ],
          [
           0.983535597
          ],
          [
           0.52081245
          ],
          [
           0.328227724
          ],
          [
           0.09715793800000001
          ],
          [
           0.876088593
          ],
          [
           0.870214512
          ],
          [
           0.656086992
          ],
          [
           0.306791514
          ],
          [
           0.48126734
          ],
          [
           0.259559174
          ],
          [
           0.326123655
          ],
          [
           0.930568042
          ],
          [
           0.6583894
          ],
          [
           0.689992335
          ],
          [
           0.315781109
          ],
          [
           0.5669050929999999
          ],
          [
           0.637526619
          ],
          [
           0.687540723
          ],
          [
           0.324300602
          ],
          [
           0.592704906
          ],
          [
           0.7402531259999999
          ],
          [
           0.5940328770000001
          ],
          [
           0.596452977
          ],
          [
           0.27768081699999997
          ],
          [
           0.258329663
          ],
          [
           0.142460864
          ],
          [
           0.435533461
          ],
          [
           0.7024990440000001
          ],
          [
           0.58897535
          ],
          [
           0.653304374
          ],
          [
           0.336968524
          ],
          [
           0.631244736
          ],
          [
           0.73530076
          ],
          [
           0.050390366
          ],
          [
           0.064264924
          ],
          [
           0.665359476
          ],
          [
           0.917835245
          ],
          [
           0.44651012
          ],
          [
           0.661938199
          ],
          [
           0.43935985299999997
          ],
          [
           0.6875724040000001
          ],
          [
           0.363462248
          ],
          [
           0.6542621820000001
          ],
          [
           0.578553536
          ],
          [
           0.065927945
          ],
          [
           0.550148559
          ],
          [
           0.13918281400000002
          ],
          [
           0.080004635
          ],
          [
           0.278228358
          ],
          [
           0.560124266
          ],
          [
           0.53639864
          ],
          [
           0.42653190399999996
          ],
          [
           0.789109796
          ],
          [
           0.742900474
          ],
          [
           0.901692589
          ],
          [
           0.650337401
          ],
          [
           0.114057311
          ],
          [
           0.260812592
          ],
          [
           0.43991232
          ],
          [
           0.964409284
          ],
          [
           0.184401415
          ],
          [
           0.345145446
          ],
          [
           0.17589458100000002
          ],
          [
           0.312514453
          ],
          [
           0.674131879
          ],
          [
           0.32825045
          ],
          [
           0.598231057
          ],
          [
           0.09259881699999999
          ],
          [
           0.497916521
          ],
          [
           0.419776521
          ],
          [
           0.31217670000000003
          ],
          [
           0.937857107
          ],
          [
           0.049030963
          ],
          [
           0.47610452600000003
          ],
          [
           0.447397526
          ],
          [
           0.295806058
          ],
          [
           0.737363977
          ],
          [
           0.625896253
          ],
          [
           0.408813429
          ],
          [
           0.437511156
          ],
          [
           0.691351375
          ],
          [
           0.935555275
          ],
          [
           0.437846654
          ],
          [
           0.072217715
          ],
          [
           0.67636067
          ],
          [
           0.468883999
          ],
          [
           0.543820644
          ],
          [
           0.6555226470000001
          ],
          [
           0.6935289240000001
          ],
          [
           0.10887831199999999
          ],
          [
           0.285463743
          ],
          [
           0
          ],
          [
           0.706495497
          ],
          [
           0.273530633
          ],
          [
           0.292320271
          ],
          [
           0.673984307
          ],
          [
           0.12612182800000002
          ],
          [
           0.9467074590000001
          ],
          [
           0.9363388979999999
          ],
          [
           0.8537553640000001
          ],
          [
           0.7060713609999999
          ],
          [
           0.693682186
          ],
          [
           0.508527882
          ],
          [
           0.34717038899999997
          ],
          [
           0.704154263
          ],
          [
           0.658730088
          ],
          [
           0.155841557
          ],
          [
           0.311085435
          ],
          [
           0.281135347
          ],
          [
           0.094587802
          ],
          [
           0.6832609540000001
          ],
          [
           0.9077292509999999
          ],
          [
           0.29151267399999997
          ],
          [
           0.752734459
          ],
          [
           0.93482964
          ],
          [
           0.071413953
          ],
          [
           0.5948963270000001
          ],
          [
           0.404672015
          ],
          [
           0.13837621
          ],
          [
           0.7473384679999999
          ],
          [
           0.530882486
          ],
          [
           0.282649594
          ],
          [
           0.699335734
          ],
          [
           0.056111250999999994
          ],
          [
           0.855234998
          ],
          [
           0.07789512700000001
          ],
          [
           0.891649583
          ],
          [
           0.38674227899999997
          ],
          [
           0.27113158
          ],
          [
           0.958888961
          ],
          [
           0.085120869
          ],
          [
           0.5269022489999999
          ],
          [
           0.066577785
          ],
          [
           0.841506738
          ],
          [
           0.255342095
          ],
          [
           0.060545771
          ],
          [
           0.073385869
          ],
          [
           0.187493723
          ],
          [
           0.858365688
          ],
          [
           0.090640352
          ],
          [
           0.7097252270000001
          ],
          [
           0.631300647
          ],
          [
           0.24750447399999997
          ],
          [
           0.822843584
          ],
          [
           0.373476759
          ],
          [
           0.625538582
          ],
          [
           0.292951715
          ],
          [
           0.299730324
          ],
          [
           0.25121407
          ],
          [
           0.344480551
          ],
          [
           0.293064767
          ],
          [
           0.7628032240000001
          ],
          [
           0.7384708040000001
          ],
          [
           0.674883265
          ],
          [
           0.719151612
          ],
          [
           0.13098021599999998
          ],
          [
           0.511328036
          ],
          [
           0.04492903
          ],
          [
           0.560914449
          ],
          [
           0.7440406409999999
          ],
          [
           0.266961634
          ],
          [
           0.644231853
          ],
          [
           0.038113352
          ],
          [
           0.05715529900000001
          ],
          [
           0.34139246100000004
          ],
          [
           0.7204636320000001
          ],
          [
           0.402878236
          ],
          [
           0.635148967
          ],
          [
           0.320729467
          ],
          [
           0.09120969400000001
          ],
          [
           0.23414609
          ],
          [
           0.8902211309999999
          ],
          [
           0.602170884
          ],
          [
           0.633652055
          ],
          [
           0.806240837
          ],
          [
           0.739731184
          ],
          [
           0.465231269
          ],
          [
           0.7321109
          ],
          [
           0.373874305
          ],
          [
           0.501587947
          ],
          [
           0.11538315800000001
          ],
          [
           0.7319466040000001
          ],
          [
           0.41829872799999995
          ],
          [
           0.062259590999999996
          ],
          [
           0.391496379
          ],
          [
           0.35984929
          ],
          [
           0.24523562699999998
          ],
          [
           0.610028339
          ],
          [
           0.43540360200000006
          ],
          [
           0.434309675
          ],
          [
           0.523763344
          ],
          [
           0.17118786600000002
          ],
          [
           0.18773430300000002
          ],
          [
           0.945014638
          ],
          [
           0.027851097000000002
          ],
          [
           0.68445706
          ],
          [
           0.178014532
          ],
          [
           0.643427879
          ],
          [
           0.59588355
          ],
          [
           0.372361682
          ],
          [
           0.586103584
          ],
          [
           0.271658852
          ],
          [
           0.59951107
          ],
          [
           0.468363088
          ],
          [
           0.314515565
          ],
          [
           0.21893726
          ],
          [
           0.254716562
          ],
          [
           0.25612815
          ],
          [
           0.602259755
          ],
          [
           0.134381075
          ],
          [
           0.513887424
          ],
          [
           0.624241636
          ],
          [
           0.160251854
          ],
          [
           0.580708108
          ],
          [
           0.270540486
          ],
          [
           0.832919932
          ],
          [
           0.93032134
          ],
          [
           0.719157884
          ],
          [
           0.886720033
          ],
          [
           0.098792281
          ],
          [
           0.787174286
          ],
          [
           0.365592376
          ],
          [
           0.719576193
          ],
          [
           0.8058956
          ],
          [
           0.7555783340000001
          ],
          [
           0.526005909
          ],
          [
           0.68880424
          ],
          [
           0.22111531199999998
          ],
          [
           0.739369477
          ],
          [
           0.408440236
          ],
          [
           0.348926542
          ],
          [
           0.433713763
          ],
          [
           0.5964966070000001
          ],
          [
           0.6942953000000001
          ],
          [
           0.7090309659999999
          ],
          [
           0.867652984
          ],
          [
           0.89332545
          ],
          [
           0.746020922
          ],
          [
           0.538284443
          ],
          [
           0.8922193140000001
          ],
          [
           0.935175765
          ],
          [
           0.260527707
          ],
          [
           0.956780449
          ],
          [
           0.204932484
          ],
          [
           0.687733351
          ],
          [
           0.329063619
          ],
          [
           0.632149831
          ],
          [
           0.463744506
          ],
          [
           0.698859621
          ],
          [
           0.385446564
          ],
          [
           0.47997537700000004
          ],
          [
           0.732279108
          ],
          [
           0.3813543
          ],
          [
           0.459326013
          ],
          [
           0.257401434
          ],
          [
           0.665014804
          ],
          [
           0.103399542
          ],
          [
           0.425284413
          ],
          [
           0.943529051
          ],
          [
           0.594750236
          ],
          [
           0.543776817
          ],
          [
           0.18203988
          ],
          [
           0.23584208399999998
          ],
          [
           0.585984497
          ],
          [
           0.762013168
          ],
          [
           0.6849829070000001
          ],
          [
           0.676936933
          ],
          [
           0.290184964
          ],
          [
           0.48106822200000005
          ],
          [
           0.492766033
          ],
          [
           0.22185623399999999
          ],
          [
           0.053875998
          ],
          [
           0.082751144
          ],
          [
           0.385366225
          ],
          [
           0.702513961
          ],
          [
           0.91553156
          ],
          [
           0.082087436
          ],
          [
           0.251280378
          ],
          [
           0.41672181700000005
          ],
          [
           0.277032672
          ],
          [
           0.579539754
          ],
          [
           0.569363476
          ],
          [
           0.133399703
          ],
          [
           0.265045463
          ],
          [
           0.936571901
          ],
          [
           0.252618554
          ],
          [
           0.054033081
          ],
          [
           0.802481439
          ],
          [
           0.528197693
          ],
          [
           0.9515026
          ],
          [
           0.572121173
          ],
          [
           0.752938227
          ],
          [
           0.143857535
          ],
          [
           0.513484576
          ],
          [
           0.313322389
          ],
          [
           0.6877973959999999
          ],
          [
           0.37705984
          ],
          [
           0.348226142
          ],
          [
           0.67763282
          ],
          [
           0.24138752100000002
          ],
          [
           0.8506501790000001
          ],
          [
           0.22034810300000002
          ],
          [
           0.476445464
          ],
          [
           0.690324025
          ],
          [
           0.364695946
          ],
          [
           0.6492491970000001
          ],
          [
           0.9437019209999999
          ],
          [
           0.529645971
          ],
          [
           0.299097002
          ],
          [
           0.96696247
          ],
          [
           0.272005242
          ],
          [
           0.314161447
          ],
          [
           0.752020991
          ],
          [
           0.221882453
          ],
          [
           0.7203326729999999
          ],
          [
           0.379204782
          ],
          [
           0.60168653
          ],
          [
           0.582932673
          ],
          [
           0.950809853
          ],
          [
           0.58830141
          ],
          [
           0.880887227
          ],
          [
           0.467857701
          ],
          [
           0.8799021709999999
          ],
          [
           0.619844009
          ],
          [
           0.359002573
          ],
          [
           0.291511278
          ],
          [
           0.694157143
          ],
          [
           0.727960353
          ],
          [
           0.617703921
          ],
          [
           0.39581257
          ],
          [
           0.58317282
          ],
          [
           0.710332374
          ],
          [
           0.253753693
          ],
          [
           0.049412227999999996
          ],
          [
           0.728378695
          ],
          [
           0.432432881
          ],
          [
           0.58612345
          ],
          [
           0.052342373
          ],
          [
           0.053483902
          ],
          [
           0.518729378
          ],
          [
           0.933040208
          ],
          [
           0.7035542840000001
          ],
          [
           0.268989899
          ],
          [
           0.733006927
          ],
          [
           0.44435246700000003
          ],
          [
           0.5833946210000001
          ],
          [
           0.871172692
          ],
          [
           0.42876707799999997
          ],
          [
           0.30046084100000003
          ],
          [
           0.9533294590000001
          ],
          [
           0.606443965
          ],
          [
           0.90986815
          ],
          [
           0.714896449
          ],
          [
           0.49734950899999997
          ],
          [
           0.8530974859999999
          ],
          [
           0.721804145
          ],
          [
           0.303467328
          ],
          [
           0.664485096
          ],
          [
           0.27978062
          ],
          [
           0.569481665
          ],
          [
           0.628628926
          ],
          [
           0.088368123
          ],
          [
           0.733567326
          ],
          [
           0.537436778
          ],
          [
           0.638593691
          ],
          [
           0.954726948
          ],
          [
           0.632202332
          ],
          [
           0.642134651
          ],
          [
           0.744653087
          ],
          [
           0.115714007
          ],
          [
           0.48625007299999995
          ],
          [
           0.440356144
          ],
          [
           0.08272289
          ],
          [
           0.511591027
          ],
          [
           0.394627555
          ],
          [
           0.224394
          ],
          [
           0.626927584
          ],
          [
           0.290254057
          ],
          [
           0.779008053
          ],
          [
           0.86610579
          ],
          [
           0.873326081
          ],
          [
           0.49548916
          ],
          [
           0.594297695
          ],
          [
           0.9182015840000001
          ],
          [
           0.5770427539999999
          ],
          [
           0.019467671000000002
          ],
          [
           0.6702982820000001
          ],
          [
           0.546595316
          ],
          [
           0.591665146
          ],
          [
           0.42155819
          ],
          [
           0.6856085590000001
          ],
          [
           0.340303024
          ],
          [
           0.675626741
          ],
          [
           0.319067345
          ],
          [
           0.38849966399999997
          ],
          [
           0.706949589
          ],
          [
           0.559409515
          ],
          [
           0.687663508
          ],
          [
           0.7088045540000001
          ],
          [
           0.6818880940000001
          ],
          [
           0.42253510899999996
          ],
          [
           0.320004605
          ],
          [
           0.6582813679999999
          ],
          [
           0.634154867
          ],
          [
           0.7773320090000001
          ],
          [
           0.812677205
          ],
          [
           0.074280797
          ],
          [
           0.39600217
          ],
          [
           0.054933913
          ],
          [
           0.825058925
          ],
          [
           0.382642009
          ],
          [
           0.8687298179999999
          ],
          [
           0.588043346
          ],
          [
           0.891551577
          ],
          [
           0.10920046
          ],
          [
           0.647682781
          ],
          [
           0.724342512
          ],
          [
           0.07016304400000001
          ],
          [
           0.280882054
          ],
          [
           0.039113261
          ],
          [
           0.579641592
          ],
          [
           0.639000922
          ],
          [
           0.281745925
          ],
          [
           0.647857744
          ],
          [
           0.6479057970000001
          ],
          [
           0.875226264
          ],
          [
           0.567603305
          ],
          [
           0.262940591
          ],
          [
           0.268026042
          ],
          [
           0.40519133
          ],
          [
           0.479965451
          ],
          [
           0.33552403
          ],
          [
           0.777165379
          ],
          [
           0.42548796299999997
          ],
          [
           0.237986115
          ],
          [
           0.142522971
          ],
          [
           0.724176488
          ],
          [
           0.234698933
          ],
          [
           0.07818228099999999
          ],
          [
           0.855990155
          ],
          [
           0.270251765
          ],
          [
           0.435517841
          ],
          [
           0.762697513
          ],
          [
           0.46448725799999996
          ],
          [
           0.396112685
          ],
          [
           0.37638092100000003
          ],
          [
           0.29459467699999997
          ],
          [
           0.6944921209999999
          ],
          [
           0.622767949
          ],
          [
           0.8475597220000001
          ],
          [
           0.301463054
          ],
          [
           0.912937812
          ],
          [
           0.500017182
          ],
          [
           0.902587935
          ],
          [
           0.304517943
          ],
          [
           0.299165673
          ],
          [
           0.092014087
          ],
          [
           0.488548917
          ],
          [
           0.664664437
          ],
          [
           0.26534954899999996
          ],
          [
           0.723657021
          ],
          [
           0.149262385
          ],
          [
           0.04577339
          ],
          [
           0.69661064
          ],
          [
           0.42181486
          ],
          [
           0.733845785
          ],
          [
           0.418795386
          ],
          [
           0.677443529
          ],
          [
           0.26128360300000003
          ],
          [
           0.268527767
          ],
          [
           0.5443222360000001
          ],
          [
           0.431632036
          ],
          [
           0.981018141
          ],
          [
           0.21498072399999998
          ],
          [
           0.39472999299999995
          ],
          [
           0.122224944
          ],
          [
           0.297496875
          ],
          [
           0.37490443100000004
          ],
          [
           0.68698771
          ],
          [
           0.388549207
          ],
          [
           0.039296071
          ],
          [
           0.73553424
          ],
          [
           0.37929489299999997
          ],
          [
           0.7321233859999999
          ],
          [
           0.33922143899999996
          ],
          [
           0.659450594
          ],
          [
           0.054838642
          ],
          [
           0.640112102
          ],
          [
           0.30714170399999996
          ],
          [
           0.39661190700000004
          ],
          [
           0.420439161
          ],
          [
           0.24171497399999997
          ],
          [
           0.065893153
          ],
          [
           0.9105219370000001
          ],
          [
           0.697163103
          ],
          [
           0.072559853
          ],
          [
           0.81825094
          ],
          [
           0.311888815
          ],
          [
           0.961644609
          ],
          [
           0.816325524
          ],
          [
           0.14647302
          ],
          [
           0.548753945
          ],
          [
           0.946158087
          ],
          [
           0.293992717
          ],
          [
           0.331479643
          ],
          [
           0.9062200309999999
          ],
          [
           0.525540416
          ],
          [
           0.83301411
          ],
          [
           0.514849806
          ],
          [
           0.574609024
          ],
          [
           0.46871185299999996
          ],
          [
           0.71002775
          ],
          [
           0.645973276
          ],
          [
           0.229794416
          ],
          [
           0.551783393
          ],
          [
           0.055822990999999995
          ],
          [
           0.331750941
          ],
          [
           0.715520198
          ],
          [
           0.583924357
          ],
          [
           0.30695769100000003
          ],
          [
           0.7914782370000001
          ],
          [
           0.16423663900000002
          ],
          [
           0.065711219
          ],
          [
           0.948993132
          ],
          [
           0.080423835
          ],
          [
           0.052495426
          ],
          [
           0.566346135
          ],
          [
           0.3630266
          ],
          [
           0.605442195
          ],
          [
           0.6308505839999999
          ],
          [
           0.065791238
          ],
          [
           0.28681707100000003
          ],
          [
           0.685462839
          ],
          [
           0.260853706
          ],
          [
           0.659122429
          ],
          [
           0.44317392200000005
          ],
          [
           0.602063986
          ],
          [
           0.060366910999999995
          ],
          [
           0.781903153
          ],
          [
           0.5145798070000001
          ],
          [
           0.48388621299999995
          ],
          [
           0.600213807
          ],
          [
           0.49736405200000006
          ],
          [
           0.411145245
          ],
          [
           0.116999171
          ],
          [
           0.34189014100000004
          ],
          [
           0.746950848
          ],
          [
           0.39629274600000003
          ],
          [
           0.6221438429999999
          ],
          [
           0.335271141
          ],
          [
           0.140257137
          ],
          [
           0.081620681
          ],
          [
           0.069837569
          ],
          [
           0.46894000799999996
          ],
          [
           0.9908574170000001
          ],
          [
           0.896616832
          ],
          [
           0.255310561
          ],
          [
           0.22464526699999998
          ],
          [
           0.01991825
          ],
          [
           0.296480415
          ],
          [
           0.155458996
          ],
          [
           0.577916714
          ],
          [
           0.9563030309999999
          ],
          [
           0.813464394
          ],
          [
           0.529675785
          ],
          [
           0.287671353
          ],
          [
           0.48039136
          ],
          [
           0.28104482199999997
          ],
          [
           0.633196521
          ],
          [
           0.09332537699999999
          ],
          [
           0.28447398100000004
          ],
          [
           0.052223775
          ],
          [
           0.051129385
          ],
          [
           0.967405608
          ],
          [
           0.040045727999999996
          ],
          [
           0.9085829209999999
          ],
          [
           0.6621174160000001
          ],
          [
           0.42470320899999997
          ],
          [
           0.72207806
          ],
          [
           0.666193327
          ],
          [
           0.509681253
          ],
          [
           0.7513536209999999
          ],
          [
           0.279073124
          ],
          [
           0.074927
          ],
          [
           0.916359535
          ],
          [
           0.31040327
          ],
          [
           0.716604052
          ],
          [
           0.485587085
          ],
          [
           0.30607518100000003
          ],
          [
           0.477558204
          ],
          [
           0.7119239409999999
          ],
          [
           0.066348638
          ],
          [
           0.27453935100000004
          ],
          [
           0.31082252
          ],
          [
           0.47607312700000004
          ],
          [
           0.186795565
          ],
          [
           0.26654207
          ],
          [
           0.070231142
          ],
          [
           0.26951927
          ],
          [
           0.800004713
          ],
          [
           0.27363366699999997
          ],
          [
           0.14647919199999998
          ],
          [
           0.378318951
          ],
          [
           0.373849065
          ],
          [
           0.242170835
          ],
          [
           0.249796488
          ],
          [
           0.066591188
          ],
          [
           0.372956798
          ],
          [
           0.501812291
          ],
          [
           0.313097752
          ],
          [
           0.8802021959999999
          ],
          [
           0.51981893
          ],
          [
           0.364138746
          ],
          [
           0.49268289600000004
          ],
          [
           0.285732652
          ],
          [
           0.890114985
          ],
          [
           0.316419561
          ],
          [
           0.26866354
          ],
          [
           0.771975959
          ],
          [
           0.968888992
          ],
          [
           0.080334377
          ],
          [
           0.7368282209999999
          ],
          [
           0.30055807100000004
          ],
          [
           0.9179503929999999
          ],
          [
           0.465815039
          ],
          [
           0.054036682
          ],
          [
           0.963150123
          ],
          [
           0.08965350300000001
          ],
          [
           0.7076932340000001
          ],
          [
           0.636416037
          ],
          [
           0.539521117
          ],
          [
           0.114757161
          ],
          [
           0.357312419
          ],
          [
           0.67639834
          ],
          [
           0.43482839
          ],
          [
           0.032326387000000005
          ],
          [
           0.711365605
          ],
          [
           0.187486519
          ],
          [
           0.052789653
          ],
          [
           0.5058636129999999
          ],
          [
           0.927431873
          ],
          [
           0.6809842559999999
          ],
          [
           0.882822186
          ],
          [
           0.495705441
          ],
          [
           0.596240398
          ],
          [
           0.320610701
          ],
          [
           0.3413685
          ],
          [
           0.159681797
          ],
          [
           0.318133669
          ],
          [
           0.8393010479999999
          ],
          [
           0.06435925099999999
          ],
          [
           0.470216633
          ],
          [
           0.7762522909999999
          ],
          [
           0.635843383
          ],
          [
           0.62510543
          ],
          [
           0.52959065
          ],
          [
           0.986900166
          ],
          [
           0.078585688
          ],
          [
           0.233284267
          ],
          [
           0.363330957
          ],
          [
           0.7167169809999999
          ],
          [
           0.37588979200000006
          ],
          [
           0.223316889
          ],
          [
           0.299343986
          ],
          [
           0.538595767
          ],
          [
           0.730297124
          ],
          [
           0.66033077
          ],
          [
           0.435296009
          ],
          [
           0.326494313
          ],
          [
           0.854402708
          ],
          [
           0.5734938470000001
          ],
          [
           0.757786135
          ],
          [
           0.704743233
          ],
          [
           0.281575597
          ],
          [
           0.671968208
          ],
          [
           0.313726015
          ],
          [
           0.364338275
          ],
          [
           0.368216396
          ],
          [
           0.38629520700000003
          ],
          [
           0.655971865
          ],
          [
           0.5660252729999999
          ],
          [
           0.424999093
          ],
          [
           0.090110371
          ],
          [
           0.772350538
          ],
          [
           0.331047258
          ],
          [
           0.273716188
          ],
          [
           0.23877568
          ],
          [
           0.37307977200000003
          ],
          [
           0.331185868
          ],
          [
           0.256134531
          ],
          [
           0.678373225
          ],
          [
           0.43463833799999996
          ],
          [
           0.654668307
          ],
          [
           0.986681065
          ],
          [
           0.371520495
          ],
          [
           0.408359618
          ],
          [
           0.40932365
          ],
          [
           0.283412082
          ],
          [
           0.395246531
          ],
          [
           0.010984428000000001
          ],
          [
           0.306013869
          ],
          [
           0.266194806
          ],
          [
           0.299318521
          ],
          [
           0.318293946
          ],
          [
           0.74282591
          ],
          [
           0.09766432900000001
          ],
          [
           0.079666942
          ],
          [
           0.613258767
          ],
          [
           0.99443072
          ],
          [
           0.568835082
          ],
          [
           0.7080345159999999
          ],
          [
           0.37059271899999996
          ],
          [
           0.669867361
          ],
          [
           0.651295625
          ],
          [
           0.462531569
          ],
          [
           0.7196256190000001
          ],
          [
           0.45377248
          ],
          [
           0.394863946
          ],
          [
           0.323974831
          ],
          [
           0.146454724
          ],
          [
           0.7790670409999999
          ],
          [
           0.401828915
          ],
          [
           0.601479585
          ],
          [
           0.856423023
          ],
          [
           0.565242962
          ],
          [
           0.301225108
          ],
          [
           0.282108144
          ],
          [
           0.594378011
          ],
          [
           0.705312368
          ],
          [
           0.5408696279999999
          ],
          [
           0.319249574
          ],
          [
           0.36176613799999996
          ],
          [
           0.625000704
          ],
          [
           0.316287401
          ],
          [
           0.047239021
          ],
          [
           0.801182233
          ],
          [
           0.508474436
          ],
          [
           0.8178934109999999
          ],
          [
           0.399235601
          ],
          [
           0.9740519990000001
          ],
          [
           0.72241535
          ],
          [
           0.039564764
          ],
          [
           0.908684108
          ],
          [
           0.47301013399999997
          ],
          [
           0.7180496279999999
          ],
          [
           0.7634790690000001
          ],
          [
           0.6475965370000001
          ],
          [
           0.8949973859999999
          ],
          [
           0.22282590100000002
          ],
          [
           0.359012234
          ],
          [
           0.944910252
          ],
          [
           0.297877816
          ],
          [
           0.172517997
          ],
          [
           0.556586265
          ],
          [
           0.876481735
          ],
          [
           0.48667784299999994
          ],
          [
           0.459496733
          ],
          [
           0.47412637700000004
          ],
          [
           0.70101144
          ],
          [
           0.337597387
          ],
          [
           0.537578886
          ],
          [
           0.966992448
          ],
          [
           0.056849545
          ],
          [
           0.233249065
          ],
          [
           0.380054711
          ],
          [
           0.602929443
          ],
          [
           0.303847999
          ],
          [
           0.170194553
          ],
          [
           0.972168554
          ],
          [
           0.332168927
          ],
          [
           0.6887286890000001
          ],
          [
           0.110773401
          ],
          [
           0.273352065
          ],
          [
           0.572939678
          ],
          [
           0.491457065
          ],
          [
           0.281389999
          ],
          [
           0.821697261
          ],
          [
           0.6749776829999999
          ],
          [
           0.585134549
          ],
          [
           0.7105961159999999
          ],
          [
           0.040488789
          ],
          [
           0.568054311
          ],
          [
           0.321752928
          ],
          [
           0.611850232
          ],
          [
           0.926096887
          ],
          [
           0.618347428
          ],
          [
           0.667629785
          ],
          [
           0.39773346600000004
          ],
          [
           0.290875487
          ],
          [
           0.594375103
          ],
          [
           0.508255233
          ],
          [
           0.338571357
          ],
          [
           0.43230234700000003
          ],
          [
           0.302221978
          ],
          [
           0.87619819
          ],
          [
           0.080204492
          ],
          [
           0.092333532
          ],
          [
           0.09365644699999999
          ],
          [
           0.6084523510000001
          ],
          [
           0.732654598
          ],
          [
           0.944158855
          ],
          [
           0.26742308
          ],
          [
           0.731124201
          ],
          [
           0.661308553
          ],
          [
           0.38776626200000003
          ],
          [
           0.962585273
          ],
          [
           0.322067067
          ],
          [
           0.6340810929999999
          ],
          [
           0.475345002
          ],
          [
           0.35355897299999994
          ],
          [
           0.8859363159999999
          ],
          [
           0.876798106
          ],
          [
           0.221581064
          ],
          [
           0.394362449
          ],
          [
           0.8050356759999999
          ],
          [
           0.452898486
          ],
          [
           0.592520516
          ],
          [
           0.761026394
          ],
          [
           0.245049023
          ],
          [
           0.37213936299999995
          ],
          [
           0.681054822
          ],
          [
           0.7471431479999999
          ],
          [
           0.9207395290000001
          ],
          [
           0.097207945
          ],
          [
           0.699302998
          ],
          [
           0.721647006
          ],
          [
           0.5353561139999999
          ],
          [
           0.738293805
          ],
          [
           0.7064675509999999
          ],
          [
           0.67395061
          ],
          [
           0.7112122909999999
          ],
          [
           0.302558708
          ],
          [
           0.080097855
          ],
          [
           0.707010837
          ],
          [
           0.512248622
          ],
          [
           0.659627472
          ],
          [
           0.657559694
          ],
          [
           0.100645606
          ],
          [
           0.92665363
          ],
          [
           0.892879338
          ],
          [
           0.839157508
          ],
          [
           0.890959718
          ],
          [
           0.556754471
          ],
          [
           0.960361937
          ],
          [
           0.631037864
          ],
          [
           0.029838065
          ],
          [
           0.278843351
          ],
          [
           0.926157705
          ],
          [
           0.551504258
          ],
          [
           0.485942349
          ],
          [
           0.43723469600000003
          ],
          [
           0.25231801800000003
          ],
          [
           0.515466972
          ],
          [
           0.43725229600000004
          ],
          [
           0.493724207
          ],
          [
           0.83324725
          ],
          [
           0.317521477
          ],
          [
           0.28623456199999997
          ],
          [
           0.726833965
          ],
          [
           0.495667033
          ],
          [
           0.028645255
          ],
          [
           0.31967191699999997
          ],
          [
           0.674344598
          ],
          [
           0.7660371890000001
          ],
          [
           0.65456992
          ],
          [
           0.7565143809999999
          ],
          [
           0.528253719
          ],
          [
           0.38971949100000003
          ],
          [
           0.355087459
          ],
          [
           0.87015202
          ],
          [
           0.7390833059999999
          ],
          [
           0.305761846
          ],
          [
           0.411587673
          ],
          [
           0.063633094
          ],
          [
           0.735409395
          ],
          [
           0.605916669
          ],
          [
           0.539395562
          ],
          [
           0.566183532
          ],
          [
           0.674795186
          ],
          [
           0.070993366
          ],
          [
           0.12526410000000002
          ],
          [
           0.279601492
          ],
          [
           0.952174402
          ],
          [
           0.233806762
          ],
          [
           0.43724742899999997
          ],
          [
           0.925423095
          ],
          [
           0.433498634
          ],
          [
           0.52517902
          ],
          [
           0.088435529
          ],
          [
           0.447677638
          ],
          [
           0.647000631
          ],
          [
           0.9036033370000001
          ],
          [
           0.265790738
          ],
          [
           0.66419695
          ],
          [
           0.498120658
          ],
          [
           0.49018894399999996
          ],
          [
           0.747084187
          ],
          [
           0.906783648
          ],
          [
           0.678770917
          ],
          [
           0.348599859
          ],
          [
           0.294839683
          ],
          [
           0.705691827
          ],
          [
           0.211917931
          ],
          [
           0.063201124
          ],
          [
           0.276699543
          ],
          [
           0.672459395
          ],
          [
           0.8082059490000001
          ],
          [
           0.296538373
          ],
          [
           0.16012686199999998
          ],
          [
           0.439385032
          ],
          [
           0.555951416
          ],
          [
           0.386240112
          ],
          [
           0.158689619
          ],
          [
           0.214499855
          ],
          [
           0.299579429
          ],
          [
           0.569161656
          ],
          [
           0.488614799
          ],
          [
           0.8782950209999999
          ],
          [
           0.649380949
          ],
          [
           0.465713341
          ],
          [
           0.16813774
          ],
          [
           0.87529545
          ],
          [
           0.8411323409999999
          ],
          [
           0.33292081
          ],
          [
           0.5130478589999999
          ],
          [
           0.30505507800000004
          ],
          [
           0.8126269909999999
          ],
          [
           0.25096706
          ],
          [
           0.5024355779999999
          ],
          [
           0.45799074100000003
          ]
         ],
         "hovertemplate": "0=%{x}<br>1=%{y}<br>2=%{z}<br>Feature=%{customdata[0]}<br>Label=%{marker.color}<extra></extra>",
         "legendgroup": "",
         "marker": {
          "color": [
           0,
           0,
           1,
           1,
           0,
           0,
           0,
           1,
           1,
           0,
           0,
           1,
           0,
           1,
           1,
           0,
           0,
           0,
           1,
           0,
           1,
           0,
           0,
           1,
           1,
           1,
           0,
           0,
           1,
           0,
           0,
           0,
           0,
           1,
           1,
           1,
           0,
           0,
           0,
           0,
           0,
           0,
           0,
           1,
           0,
           0,
           0,
           1,
           0,
           0,
           0,
           1,
           0,
           1,
           0,
           1,
           0,
           0,
           0,
           1,
           0,
           0,
           0,
           1,
           0,
           0,
           1,
           0,
           0,
           1,
           0,
           0,
           0,
           0,
           0,
           0,
           0,
           0,
           0,
           0,
           0,
           0,
           0,
           0,
           0,
           0,
           0,
           0,
           0,
           0,
           0,
           0,
           0,
           0,
           0,
           0,
           0,
           0,
           0,
           0,
           0,
           0,
           0,
           0,
           0,
           0,
           0,
           0,
           0,
           0,
           0,
           0,
           0,
           0,
           0,
           0,
           0,
           0,
           0,
           0,
           0,
           0,
           0,
           0,
           0,
           0,
           0,
           0,
           0,
           0,
           1,
           0,
           0,
           0,
           0,
           0,
           1,
           0,
           0,
           0,
           0,
           0,
           0,
           0,
           0,
           0,
           0,
           0,
           0,
           0,
           0,
           0,
           0,
           0,
           0,
           0,
           0,
           0,
           0,
           0,
           0,
           0,
           0,
           0,
           0,
           0,
           0,
           0,
           0,
           0,
           0,
           0,
           0,
           0,
           0,
           0,
           0,
           0,
           0,
           0,
           0,
           0,
           0,
           0,
           0,
           0,
           0,
           0,
           0,
           0,
           0,
           0,
           0,
           0,
           0,
           0,
           0,
           0,
           0,
           0,
           0,
           0,
           0,
           0,
           0,
           0,
           0,
           0,
           0,
           0,
           0,
           0,
           0,
           0,
           0,
           0,
           0,
           0,
           0,
           0,
           0,
           0,
           0,
           0,
           0,
           0,
           0,
           0,
           0,
           1,
           0,
           0,
           0,
           0,
           0,
           0,
           0,
           0,
           0,
           0,
           0,
           0,
           0,
           0,
           0,
           0,
           0,
           0,
           0,
           0,
           0,
           0,
           0,
           0,
           0,
           0,
           0,
           0,
           0,
           0,
           0,
           0,
           0,
           0,
           0,
           0,
           0,
           0,
           0,
           0,
           0,
           0,
           0,
           0,
           0,
           0,
           0,
           0,
           0,
           0,
           0,
           0,
           0,
           0,
           0,
           0,
           0,
           0,
           0,
           0,
           0,
           0,
           0,
           0,
           0,
           0,
           0,
           0,
           0,
           0,
           0,
           0,
           0,
           0,
           0,
           0,
           0,
           0,
           0,
           0,
           0,
           0,
           0,
           0,
           0,
           0,
           0,
           0,
           0,
           0,
           0,
           0,
           0,
           0,
           0,
           0,
           0,
           0,
           0,
           0,
           0,
           0,
           0,
           0,
           0,
           0,
           0,
           0,
           0,
           0,
           0,
           0,
           0,
           0,
           0,
           0,
           0,
           0,
           0,
           0,
           0,
           0,
           0,
           0,
           0,
           0,
           0,
           0,
           0,
           0,
           0,
           0,
           0,
           0,
           0,
           0,
           0,
           0,
           0,
           0,
           0,
           0,
           0,
           0,
           0,
           0,
           0,
           0,
           0,
           0,
           0,
           0,
           0,
           0,
           0,
           0,
           0,
           0,
           0,
           0,
           0,
           0,
           0,
           0,
           0,
           0,
           0,
           0,
           0,
           0,
           0,
           0,
           0,
           0,
           0,
           0,
           0,
           0,
           0,
           0,
           0,
           0,
           0,
           0,
           0,
           0,
           0,
           0,
           0,
           0,
           0,
           0,
           0,
           0,
           0,
           0,
           0,
           0,
           0,
           0,
           0,
           0,
           0,
           0,
           0,
           0,
           0,
           0,
           0,
           0,
           0,
           0,
           0,
           0,
           0,
           0,
           0,
           0,
           0,
           0,
           0,
           0,
           0,
           0,
           0,
           0,
           0,
           0,
           0,
           0,
           0,
           0,
           0,
           0,
           0,
           0,
           0,
           0,
           0,
           0,
           0,
           0,
           0,
           0,
           0,
           0,
           0,
           0,
           0,
           0,
           0,
           0,
           0,
           0,
           0,
           0,
           0,
           0,
           0,
           0,
           0,
           0,
           0,
           0,
           0,
           0,
           0,
           0,
           0,
           0,
           0,
           0,
           0,
           0,
           0,
           0,
           0,
           0,
           0,
           0,
           0,
           0,
           0,
           0,
           0,
           0,
           0,
           0,
           0,
           0,
           0,
           0,
           0,
           0,
           0,
           0,
           0,
           0,
           0,
           0,
           0,
           0,
           0,
           0,
           0,
           0,
           0,
           0,
           0,
           0,
           0,
           0,
           0,
           0,
           0,
           0,
           0,
           0,
           0,
           0,
           0,
           0,
           0,
           0,
           0,
           0,
           0,
           0,
           0,
           0,
           0,
           0,
           0,
           0,
           0,
           0,
           0,
           0,
           0,
           0,
           0,
           0,
           0,
           0,
           0,
           0,
           0,
           0,
           0,
           0,
           0,
           0,
           0,
           0,
           0,
           0,
           0,
           0,
           0,
           0,
           0,
           0,
           0,
           0,
           0,
           0,
           0,
           0,
           0,
           0,
           0,
           0,
           1,
           0,
           0,
           0,
           0,
           0,
           0,
           0,
           0,
           0,
           0,
           0,
           0,
           0,
           0,
           0,
           0,
           0,
           0,
           0,
           0,
           0,
           0,
           0,
           0,
           0,
           0,
           0,
           0,
           0,
           0,
           0,
           0,
           0,
           0,
           0,
           0,
           0,
           0,
           0,
           0,
           0,
           0,
           0,
           0,
           0,
           0,
           0,
           0,
           0,
           0,
           0,
           0,
           0,
           0,
           0,
           0,
           0,
           0,
           0,
           0,
           0,
           0,
           0,
           0,
           0,
           0,
           0,
           0,
           0,
           0,
           0,
           0,
           0,
           0,
           0,
           0,
           0,
           0,
           0,
           0,
           0,
           0,
           0,
           0,
           0,
           0,
           0,
           0,
           0,
           0,
           0,
           0,
           0,
           0,
           0,
           0,
           0,
           1,
           0,
           1,
           1,
           0,
           0,
           0,
           1,
           1,
           0,
           1,
           0,
           1,
           1,
           0,
           0,
           1,
           1,
           1,
           0,
           1,
           0,
           1,
           1,
           1,
           0,
           0,
           0,
           1,
           0,
           0,
           0,
           0,
           0,
           0,
           0,
           0,
           0,
           0,
           0,
           0,
           0,
           0,
           1,
           0,
           0,
           0,
           0,
           0,
           0,
           0,
           0,
           0,
           0,
           0,
           0,
           0,
           0,
           0,
           0,
           0,
           0,
           0,
           0,
           0,
           0,
           0,
           0,
           0,
           0,
           0,
           0,
           0,
           0,
           0,
           0,
           0,
           0,
           0,
           0,
           0,
           0,
           0,
           0,
           0,
           0,
           0,
           0,
           0,
           0,
           0,
           0,
           0,
           0,
           0,
           0,
           0,
           0,
           0,
           1,
           0,
           0,
           0,
           0,
           0,
           0,
           0,
           0,
           0,
           0,
           0,
           0,
           0,
           0,
           0,
           0,
           0,
           0,
           0,
           0,
           0,
           0,
           0,
           0,
           0,
           0,
           0,
           0,
           0,
           0,
           0,
           0,
           0,
           0,
           0,
           0,
           0,
           0,
           0,
           0,
           0,
           0,
           0,
           0,
           0,
           0,
           0,
           0,
           0,
           0,
           0,
           0,
           0,
           0,
           0,
           0,
           1,
           0,
           0,
           0,
           0,
           0,
           0,
           0,
           0,
           0,
           0,
           0,
           0,
           0,
           0,
           0,
           0,
           0,
           0,
           0,
           0,
           0,
           0,
           0,
           0,
           0,
           0,
           0,
           0,
           0,
           0,
           0,
           0,
           0,
           0,
           1,
           0,
           0,
           0,
           0,
           0,
           0,
           0,
           0,
           0,
           0,
           0,
           0,
           0,
           0,
           0,
           0,
           0,
           0,
           0,
           0,
           0,
           0,
           0,
           0,
           0,
           0,
           0,
           0,
           0,
           0,
           0,
           0,
           0,
           0,
           0,
           0,
           0,
           0,
           0,
           0,
           0,
           0,
           0,
           0,
           0,
           0,
           0,
           0,
           0,
           0,
           0,
           0,
           0,
           0,
           0,
           0,
           0,
           0,
           0,
           0,
           0,
           0,
           0,
           0,
           0,
           0,
           0,
           0,
           0,
           0,
           0,
           0,
           0,
           0,
           0,
           0,
           0,
           0,
           0,
           0,
           0,
           0,
           0,
           0,
           0,
           0,
           0,
           0,
           0,
           0,
           0,
           0,
           0,
           0,
           0,
           0,
           0,
           0,
           0,
           0,
           0,
           0,
           0,
           0,
           0,
           0,
           0,
           1
          ],
          "coloraxis": "coloraxis",
          "opacity": 0.7,
          "symbol": "circle"
         },
         "mode": "markers",
         "name": "",
         "scene": "scene",
         "showlegend": false,
         "type": "scatter3d",
         "x": [
          4.3142008781433105,
          -9.157944679260254,
          11.884007453918457,
          6.69675350189209,
          17.339218139648438,
          0.3019598126411438,
          -12.842777252197266,
          8.040452003479004,
          0.6687765717506409,
          -6.49667501449585,
          5.570725440979004,
          14.52171516418457,
          4.984501838684082,
          14.13054084777832,
          7.99220085144043,
          10.489516258239746,
          4.945957660675049,
          -9.19819450378418,
          10.55935287475586,
          12.678977966308594,
          -0.4175620675086975,
          3.7118542194366455,
          13.939152717590332,
          0.016011424362659454,
          12.179978370666504,
          3.547358512878418,
          13.418033599853516,
          1.5453627109527588,
          15.186500549316406,
          10.23029613494873,
          1.6414538621902466,
          -6.969523906707764,
          6.3631792068481445,
          7.040436267852783,
          -5.525911331176758,
          2.231874704360962,
          2.2158639430999756,
          1.8718384504318237,
          4.707165241241455,
          0.773872435092926,
          -13.28327751159668,
          8.745322227478027,
          -8.49626636505127,
          3.9749038219451904,
          9.172242164611816,
          10.49978256225586,
          8.661130905151367,
          0.156932070851326,
          14.225898742675781,
          -11.1314115524292,
          7.371984481811523,
          8.844332695007324,
          -5.668421745300293,
          10.425213813781738,
          2.307983636856079,
          7.409832000732422,
          -0.10867469012737274,
          -7.684347152709961,
          7.1621599197387695,
          10.265424728393555,
          -3.853121280670166,
          -4.595025539398193,
          12.482545852661133,
          8.521063804626465,
          -9.248990058898926,
          8.787323951721191,
          -7.411539077758789,
          -9.534407615661621,
          13.832498550415039,
          3.105431318283081,
          13.78451156616211,
          8.467318534851074,
          5.881718635559082,
          5.718212127685547,
          -0.5167076587677002,
          0.3533470034599304,
          13.084325790405273,
          10.744853019714355,
          -1.2227205038070679,
          -3.301147937774658,
          -3.1060187816619873,
          0.2043403685092926,
          14.72160816192627,
          -4.194660186767578,
          -10.311405181884766,
          -5.1604766845703125,
          -8.58936882019043,
          -11.35543155670166,
          -5.764644145965576,
          3.5268967151641846,
          2.7596592903137207,
          5.191061496734619,
          -7.09863805770874,
          -13.436829566955566,
          -7.415894985198975,
          13.124396324157715,
          -6.423543453216553,
          -4.481926918029785,
          -9.872245788574219,
          13.265615463256836,
          6.186990737915039,
          -11.556589126586914,
          -4.538331031799316,
          -7.495121955871582,
          12.225532531738281,
          -5.626100540161133,
          -4.96084451675415,
          -6.853132247924805,
          -1.469765305519104,
          10.377323150634766,
          2.6304805278778076,
          6.444802761077881,
          3.0696661472320557,
          -0.8420391082763672,
          14.931254386901855,
          0.19094599783420563,
          -16.018840789794922,
          -13.66934871673584,
          5.908084392547607,
          -10.424539566040039,
          -0.45912888646125793,
          -4.263825416564941,
          -5.342772006988525,
          -9.926971435546875,
          -0.6471065282821655,
          -7.617038726806641,
          -7.131812572479248,
          6.891885280609131,
          -9.769145965576172,
          -6.695637226104736,
          -5.218217849731445,
          -6.472923278808594,
          8.293561935424805,
          -10.636363983154297,
          -12.682255744934082,
          0.4914999306201935,
          14.668191909790039,
          8.892801284790039,
          -8.139656066894531,
          -2.0850539207458496,
          6.096521854400635,
          1.767128825187683,
          -7.500175476074219,
          15.553471565246582,
          -11.590343475341797,
          -5.012657642364502,
          5.210839748382568,
          -11.354324340820312,
          -8.657240867614746,
          -3.122910976409912,
          3.194553852081299,
          0.062489498406648636,
          -3.0109779834747314,
          -8.64425277709961,
          4.156383037567139,
          -7.251585006713867,
          -10.585630416870117,
          -11.692377090454102,
          3.2154197692871094,
          3.8360378742218018,
          -14.92163372039795,
          -7.431481838226318,
          2.1354000568389893,
          -2.627492904663086,
          5.301131725311279,
          -12.342206001281738,
          6.7197771072387695,
          11.995866775512695,
          10.949875831604004,
          -1.7666816711425781,
          -5.699541091918945,
          -3.9750072956085205,
          3.9548659324645996,
          14.08636474609375,
          -0.6884375810623169,
          -11.18625259399414,
          3.2259416580200195,
          13.123368263244629,
          -8.257823944091797,
          8.807676315307617,
          -3.1895980834960938,
          4.225379943847656,
          -5.523900985717773,
          11.251734733581543,
          11.716205596923828,
          -15.584640502929688,
          8.670356750488281,
          -5.6636528968811035,
          -3.331879138946533,
          0.28204941749572754,
          -11.500743865966797,
          15.982178688049316,
          5.719191551208496,
          14.45106315612793,
          -15.125460624694824,
          -13.450312614440918,
          -4.307743549346924,
          -5.588843822479248,
          7.401490211486816,
          -0.5418450832366943,
          -3.3455984592437744,
          -2.1632704734802246,
          -8.49421501159668,
          14.968881607055664,
          13.09561824798584,
          -6.8174004554748535,
          -4.342770099639893,
          -3.996981143951416,
          3.79270601272583,
          -8.18875789642334,
          -1.4698500633239746,
          9.032254219055176,
          12.641439437866211,
          1.2705944776535034,
          -4.199029922485352,
          -4.169737815856934,
          -8.297783851623535,
          10.334677696228027,
          13.04333209991455,
          -1.3620514869689941,
          13.343918800354004,
          -7.156259536743164,
          14.353196144104004,
          -1.5429480075836182,
          -14.314183235168457,
          -3.595148801803589,
          -8.835134506225586,
          -3.9907052516937256,
          -13.292298316955566,
          6.585890293121338,
          -12.80246353149414,
          -7.370535373687744,
          7.8926310539245605,
          8.784308433532715,
          -12.849085807800293,
          -6.883457660675049,
          -2.004345178604126,
          -0.40717369318008423,
          7.038330554962158,
          12.991057395935059,
          -4.322733402252197,
          -3.2808220386505127,
          11.557137489318848,
          -11.00960636138916,
          7.669063091278076,
          -13.652244567871094,
          -1.7496949434280396,
          0.838191032409668,
          -8.953298568725586,
          14.20961856842041,
          -7.585148811340332,
          -1.0025485754013062,
          8.2029390335083,
          -7.229816913604736,
          -5.622116565704346,
          -0.6271359920501709,
          2.854609966278076,
          -12.380331039428711,
          7.0719733238220215,
          -11.430644035339355,
          12.71827507019043,
          -6.389276027679443,
          15.829060554504395,
          -2.4421396255493164,
          -6.971088409423828,
          -10.691803932189941,
          9.897059440612793,
          -14.601325988769531,
          -1.4794126749038696,
          -4.253955841064453,
          -6.125418663024902,
          -9.508399963378906,
          1.511303424835205,
          12.146882057189941,
          4.474384307861328,
          -9.85476303100586,
          12.563105583190918,
          16.03144073486328,
          -6.957151412963867,
          -3.3791825771331787,
          -9.261198997497559,
          12.046483039855957,
          -4.983966827392578,
          0.8329291343688965,
          14.257009506225586,
          -7.948487281799316,
          -8.31301212310791,
          -7.377181529998779,
          -12.782767295837402,
          7.416660785675049,
          2.8205671310424805,
          -8.080110549926758,
          -4.755202770233154,
          -7.750736713409424,
          -4.2799553871154785,
          4.404305934906006,
          5.0243239402771,
          -2.0702741146087646,
          -3.6949074268341064,
          3.146582841873169,
          -5.532358646392822,
          -13.358220100402832,
          12.24924087524414,
          7.99208927154541,
          5.23736047744751,
          1.7533330917358398,
          -4.580235481262207,
          1.4884042739868164,
          -12.574865341186523,
          11.603607177734375,
          10.95528507232666,
          -12.26623821258545,
          4.329719066619873,
          12.85176944732666,
          -6.232763290405273,
          4.189525127410889,
          -1.7201296091079712,
          -11.65187931060791,
          1.4449418783187866,
          -8.596744537353516,
          -5.472041606903076,
          0.7399353384971619,
          8.522348403930664,
          -4.687614917755127,
          -1.4087920188903809,
          2.5677313804626465,
          10.7636079788208,
          9.87229061126709,
          10.658065795898438,
          4.975109577178955,
          -14.921199798583984,
          10.865159034729004,
          -8.608323097229004,
          -6.104116916656494,
          -10.997179985046387,
          12.624814987182617,
          -7.421310901641846,
          0.3487599790096283,
          8.70553970336914,
          10.132750511169434,
          1.226219892501831,
          -5.493528842926025,
          5.857204914093018,
          -9.240991592407227,
          8.266478538513184,
          12.504724502563477,
          -10.628602027893066,
          -14.011762619018555,
          6.418320655822754,
          10.680536270141602,
          -0.023467611521482468,
          0.8577798008918762,
          -11.288244247436523,
          -8.965553283691406,
          -8.314011573791504,
          -5.4097371101379395,
          -5.588343620300293,
          -6.824244976043701,
          12.941729545593262,
          2.527822732925415,
          -7.714635372161865,
          -5.259855270385742,
          -0.6644488573074341,
          -11.204500198364258,
          7.526912689208984,
          1.8881381750106812,
          11.812385559082031,
          -15.020491600036621,
          -12.621538162231445,
          -7.160233497619629,
          -8.229439735412598,
          -4.457905292510986,
          14.312739372253418,
          9.506373405456543,
          8.52306079864502,
          -8.664471626281738,
          0.08606860786676407,
          5.728283882141113,
          -8.563589096069336,
          1.8222260475158691,
          5.007384300231934,
          -2.4096415042877197,
          -0.43796780705451965,
          5.908907413482666,
          -7.573371410369873,
          -5.853057384490967,
          -4.444723606109619,
          -3.971757411956787,
          -0.7227144241333008,
          6.067553997039795,
          -8.623331069946289,
          -6.385925769805908,
          2.295656442642212,
          -0.5517774224281311,
          -11.625875473022461,
          -9.121435165405273,
          -5.412230491638184,
          8.000462532043457,
          3.421832799911499,
          -2.628600835800171,
          -10.140673637390137,
          -6.816122531890869,
          -12.028946876525879,
          -6.385950565338135,
          9.778453826904297,
          -14.532095909118652,
          11.555893898010254,
          -2.147472620010376,
          2.8379533290863037,
          -4.220853805541992,
          -9.26777458190918,
          0.922073245048523,
          14.302213668823242,
          1.449157476425171,
          -8.650288581848145,
          -7.898777484893799,
          -10.295560836791992,
          -10.379190444946289,
          9.633813858032227,
          12.412938117980957,
          6.228603363037109,
          -5.24093770980835,
          -7.1517438888549805,
          -7.0864644050598145,
          11.141519546508789,
          -12.885616302490234,
          -12.634814262390137,
          5.184961795806885,
          5.476595878601074,
          12.838688850402832,
          0.5252455472946167,
          -14.739970207214355,
          -4.426600456237793,
          6.840545654296875,
          13.324148178100586,
          -3.0673506259918213,
          -12.114396095275879,
          13.968422889709473,
          -1.2407870292663574,
          12.95438289642334,
          -5.303014755249023,
          -0.916261613368988,
          13.884387969970703,
          14.542316436767578,
          -5.2050604820251465,
          3.840184450149536,
          12.18539810180664,
          -9.394704818725586,
          12.95140552520752,
          4.655651569366455,
          -7.244630336761475,
          14.736000061035156,
          -9.5374755859375,
          1.6057157516479492,
          3.7863986492156982,
          -7.342533588409424,
          -0.43651965260505676,
          14.026310920715332,
          -0.7397522330284119,
          5.776898384094238,
          -7.780656337738037,
          13.055235862731934,
          -8.40339469909668,
          -4.4552001953125,
          -0.11372020840644836,
          2.848620891571045,
          -1.864365816116333,
          11.965582847595215,
          -12.391651153564453,
          11.749751091003418,
          -1.3307254314422607,
          -13.664261817932129,
          -8.735376358032227,
          -0.3792984187602997,
          -8.151179313659668,
          -14.808520317077637,
          -12.682805061340332,
          5.237239837646484,
          1.5981582403182983,
          -10.119994163513184,
          -11.674549102783203,
          -5.560739040374756,
          5.97759485244751,
          13.219356536865234,
          -15.652679443359375,
          14.339491844177246,
          -2.3855996131896973,
          6.083571434020996,
          1.344548225402832,
          14.077255249023438,
          0.8810027837753296,
          4.136889934539795,
          5.183900356292725,
          12.910024642944336,
          11.668251037597656,
          5.413151264190674,
          -4.424539089202881,
          3.515990734100342,
          -8.165302276611328,
          4.3564839363098145,
          -8.074438095092773,
          1.0596078634262085,
          2.735415458679199,
          -5.249665260314941,
          5.376966953277588,
          13.791138648986816,
          0.10764558613300323,
          -13.469390869140625,
          6.57804012298584,
          4.631993293762207,
          16.26596450805664,
          -12.229957580566406,
          -4.5513105392456055,
          9.874739646911621,
          -2.0228796005249023,
          -10.386247634887695,
          -8.521575927734375,
          -0.3225044906139374,
          -0.04067814350128174,
          -4.4874467849731445,
          6.894571781158447,
          13.883550643920898,
          7.25533390045166,
          10.508626937866211,
          12.73752212524414,
          -16.40169906616211,
          5.840008735656738,
          -13.384173393249512,
          -0.3888927102088928,
          4.173579692840576,
          -4.382144927978516,
          11.35411262512207,
          4.473929405212402,
          -7.95773983001709,
          3.2238657474517822,
          10.152287483215332,
          -4.805915355682373,
          15.057169914245605,
          0.3266131579875946,
          -4.517983913421631,
          -1.6393918991088867,
          3.8626184463500977,
          -9.028200149536133,
          -8.996427536010742,
          -14.07229232788086,
          6.312658786773682,
          -5.34501314163208,
          5.678162574768066,
          5.725877285003662,
          -5.189509868621826,
          -8.305784225463867,
          0.13418301939964294,
          13.859062194824219,
          3.1806790828704834,
          -9.343971252441406,
          -4.710389137268066,
          3.5827314853668213,
          0.6395995020866394,
          10.398444175720215,
          -0.5815436840057373,
          15.014727592468262,
          13.445873260498047,
          -10.057568550109863,
          4.19268274307251,
          -10.418452262878418,
          -4.294151306152344,
          -10.45703411102295,
          0.6700243353843689,
          5.694194793701172,
          3.151663064956665,
          4.709921360015869,
          3.4205117225646973,
          8.591758728027344,
          10.924681663513184,
          -7.25581169128418,
          12.721248626708984,
          -10.733054161071777,
          -12.033055305480957,
          1.3445709943771362,
          0.16306596994400024,
          6.117561340332031,
          0.39493998885154724,
          9.82458209991455,
          -10.967747688293457,
          -12.513447761535645,
          -4.6600022315979,
          4.183136463165283,
          -6.812471389770508,
          -14.874951362609863,
          11.62185287475586,
          -6.944248199462891,
          -10.741480827331543,
          -1.2727493047714233,
          9.307666778564453,
          -1.3802980184555054,
          -7.113076210021973,
          8.078516960144043,
          12.725800514221191,
          4.706111907958984,
          14.151558876037598,
          6.947755813598633,
          -3.4010422229766846,
          4.977447032928467,
          -13.764702796936035,
          3.4931142330169678,
          -8.242156028747559,
          9.970457077026367,
          12.523090362548828,
          -10.306456565856934,
          -5.445580005645752,
          6.730546474456787,
          3.1637959480285645,
          6.020139217376709,
          2.1727242469787598,
          -4.889399528503418,
          -10.444540977478027,
          -3.957796812057495,
          -6.155887126922607,
          -1.2746280431747437,
          3.836806535720825,
          -0.0962185338139534,
          -6.8583760261535645,
          -7.564773082733154,
          0.35472017526626587,
          10.321086883544922,
          11.018527030944824,
          -14.997851371765137,
          15.75979232788086,
          -3.1239311695098877,
          -4.435415267944336,
          -5.735331058502197,
          -5.41263484954834,
          0.583455502986908,
          14.23486614227295,
          3.813833236694336,
          0.5242124795913696,
          3.1972415447235107,
          -0.5925734043121338,
          3.5993335247039795,
          -1.9259681701660156,
          12.934967994689941,
          -8.05759048461914,
          -13.324030876159668,
          1.4489964246749878,
          11.860520362854004,
          2.2763168811798096,
          11.316792488098145,
          -0.9486424922943115,
          12.65152645111084,
          1.5353373289108276,
          -8.758953094482422,
          -10.09925651550293,
          -2.6481173038482666,
          7.4376349449157715,
          -11.387462615966797,
          -6.98917293548584,
          13.930908203125,
          0.9532470703125,
          -3.83874773979187,
          10.501864433288574,
          12.186946868896484,
          -6.132603168487549,
          -0.39888933300971985,
          3.604684591293335,
          4.743772506713867,
          -2.0562431812286377,
          8.392707824707031,
          -10.728007316589355,
          -5.748798847198486,
          -10.964040756225586,
          -1.93879234790802,
          -5.565425395965576,
          -8.739931106567383,
          -1.6678212881088257,
          3.5627498626708984,
          -8.703922271728516,
          -8.222954750061035,
          2.8764853477478027,
          6.184687614440918,
          -10.637279510498047,
          10.60767650604248,
          -8.985037803649902,
          0.7717886567115784,
          3.73445200920105,
          -11.259580612182617,
          -11.466780662536621,
          -5.155581951141357,
          -13.720830917358398,
          5.113531589508057,
          12.060266494750977,
          12.282877922058105,
          9.879830360412598,
          13.879485130310059,
          -1.830243468284607,
          4.838923454284668,
          3.8754284381866455,
          2.413583755493164,
          -3.4962944984436035,
          3.2123172283172607,
          8.428345680236816,
          -5.089606761932373,
          -9.404491424560547,
          14.126420021057129,
          15.24127197265625,
          -3.20896053314209,
          -7.448995113372803,
          6.651389122009277,
          9.931021690368652,
          0.8017881512641907,
          4.571858882904053,
          7.490076065063477,
          -10.907485961914062,
          -2.457688093185425,
          3.553300619125366,
          -3.2423973083496094,
          1.598223328590393,
          0.08684414625167847,
          10.14825439453125,
          -3.159634590148926,
          -5.752000331878662,
          10.665337562561035,
          -16.707012176513672,
          -1.7516884803771973,
          8.747121810913086,
          1.6514421701431274,
          6.409156799316406,
          4.36510705947876,
          3.7742433547973633,
          8.6102933883667,
          1.0271148681640625,
          -1.776939868927002,
          13.796212196350098,
          -1.4316658973693848,
          -11.224350929260254,
          -0.8769015669822693,
          4.011244297027588,
          0.9342902898788452,
          -0.5940488576889038,
          -1.6166539192199707,
          7.3989458084106445,
          -2.0473437309265137,
          0.2375774383544922,
          0.5715665817260742,
          5.702982425689697,
          3.454911470413208,
          -1.8627703189849854,
          -1.4320926666259766,
          3.4057445526123047,
          13.87752914428711,
          12.644635200500488,
          -8.557225227355957,
          14.144189834594727,
          -7.425817489624023,
          -15.121940612792969,
          -10.222077369689941,
          13.48337459564209,
          -3.350677251815796,
          -6.406965255737305,
          10.32652473449707,
          -13.696525573730469,
          11.482791900634766,
          -8.780350685119629,
          -7.218511581420898,
          -12.24642276763916,
          4.256954669952393,
          -14.894844055175781,
          -14.622040748596191,
          15.446332931518555,
          -11.670674324035645,
          16.65045738220215,
          -3.1881349086761475,
          0.9850254058837891,
          0.46566900610923767,
          -12.585284233093262,
          2.1502246856689453,
          -11.44400691986084,
          -3.0809645652770996,
          -4.0585198402404785,
          0.6730260848999023,
          2.7088077068328857,
          -0.4332868158817291,
          -14.752140998840332,
          -4.362913131713867,
          3.003645420074463,
          0.321187287569046,
          12.387928009033203,
          -7.475655555725098,
          3.568300724029541,
          -3.4592444896698,
          -4.054473400115967,
          10.002781867980957,
          -1.338649034500122,
          6.704585075378418,
          1.719087839126587,
          -15.461420059204102,
          -5.94645357131958,
          -9.287944793701172,
          13.174267768859863,
          -0.15018205344676971,
          -11.232549667358398,
          -5.197260856628418,
          -1.8056379556655884,
          -0.1174696609377861,
          -9.043173789978027,
          13.502935409545898,
          -12.126961708068848,
          -10.443319320678711,
          -4.764051914215088,
          6.109548091888428,
          -7.489012718200684,
          13.745499610900879,
          4.943980693817139,
          1.1332588195800781,
          6.261950492858887,
          -4.460025787353516,
          12.776349067687988,
          -4.852124214172363,
          10.604302406311035,
          2.7496674060821533,
          6.447658538818359,
          4.172181606292725,
          12.69391918182373,
          -2.1781437397003174,
          -5.0613274574279785,
          -4.610442161560059,
          -13.64113998413086,
          5.975245952606201,
          -2.6493279933929443,
          2.320523262023926,
          11.758663177490234,
          -4.660895347595215,
          2.487736940383911,
          12.721020698547363,
          5.2923102378845215,
          14.376160621643066,
          3.3532800674438477,
          14.698637962341309,
          16.178234100341797,
          3.278639078140259,
          -9.246196746826172,
          -0.05177732929587364,
          -7.279280185699463,
          6.85713529586792,
          -7.495192527770996,
          -12.431168556213379,
          3.2372095584869385,
          -3.4075868129730225,
          -0.283023864030838,
          2.692060947418213,
          -0.7095650434494019,
          3.699591636657715,
          5.911630630493164,
          -9.08896541595459,
          -0.174118310213089,
          -0.7070950269699097,
          -4.512256145477295,
          -2.9231512546539307,
          5.262447834014893,
          -3.01072359085083,
          6.631320953369141,
          4.945798873901367,
          -3.014291763305664,
          -1.277355670928955,
          -1.605212926864624,
          -4.419795989990234,
          8.750049591064453,
          -14.251626968383789,
          -3.827894926071167,
          3.59965443611145,
          2.4286036491394043,
          5.046230792999268,
          -8.38200855255127,
          -8.639528274536133,
          2.2618210315704346,
          -8.894831657409668,
          -6.688781261444092,
          -11.920507431030273,
          -5.800253868103027,
          1.217829942703247,
          12.066773414611816,
          2.148801803588867,
          2.9536328315734863,
          -5.543944358825684,
          9.432745933532715,
          8.072494506835938,
          3.5704784393310547,
          2.613069772720337,
          -4.42567777633667,
          3.087087392807007,
          5.075867652893066,
          14.410748481750488,
          10.855087280273438,
          10.77283763885498,
          -5.0513834953308105,
          11.532261848449707,
          0.29107463359832764,
          0.05632878094911575,
          -12.08435344696045,
          -0.4980587661266327,
          -8.68370532989502,
          -6.945826530456543,
          -6.669307708740234,
          -10.426239967346191,
          10.973917961120605,
          -1.1135375499725342,
          15.30208969116211,
          5.5692458152771,
          -7.047336578369141,
          10.377191543579102,
          -1.137450933456421,
          -7.470986843109131,
          -6.3942036628723145,
          -7.035279750823975,
          -0.3242338001728058,
          6.556799411773682,
          16.15917205810547,
          1.3520489931106567,
          -5.476911544799805,
          4.840613842010498,
          4.191315174102783,
          5.98556661605835,
          8.481485366821289,
          -9.906854629516602,
          -2.2565531730651855,
          -4.034956455230713,
          3.001905679702759,
          -8.77277946472168,
          1.6463178396224976,
          -3.644561290740967,
          -4.677053451538086,
          16.946550369262695,
          -7.981797695159912,
          -8.026318550109863,
          11.692635536193848,
          7.90782356262207,
          12.381999969482422,
          -6.6074323654174805,
          11.878786087036133,
          -8.26056957244873,
          4.204631328582764,
          10.913195610046387,
          -5.468684673309326,
          -1.5040791034698486,
          3.478999137878418,
          1.399339199066162,
          8.485413551330566,
          0.6538718938827515,
          1.1687145233154297,
          -6.694605350494385,
          -8.678617477416992,
          1.3885794878005981,
          -1.980522871017456,
          10.343899726867676,
          8.475787162780762,
          -3.687431812286377,
          -10.237760543823242,
          4.606626987457275,
          8.79326057434082,
          5.148128509521484,
          -5.3719258308410645,
          -14.868712425231934,
          -5.291996479034424,
          12.74011516571045,
          -0.22296936810016632,
          1.1845473051071167,
          -12.596173286437988,
          -7.440639495849609,
          3.303745985031128,
          7.420746803283691,
          -8.494532585144043,
          12.395352363586426,
          0.5677940845489502,
          0.8592618703842163,
          15.897692680358887,
          -3.0676138401031494,
          -12.226333618164062,
          -10.369292259216309,
          11.697755813598633,
          -1.4411165714263916,
          3.139822006225586,
          7.084982872009277,
          6.324235916137695,
          -2.534320116043091,
          -14.799494743347168,
          11.161554336547852,
          -7.027134418487549,
          -5.794737339019775,
          4.2868781089782715,
          3.4139482975006104,
          14.839449882507324,
          4.655057907104492,
          1.5408068895339966,
          2.4542644023895264,
          11.881723403930664,
          8.36966609954834,
          1.3284755945205688,
          -10.654912948608398,
          -3.4274070262908936,
          5.9446330070495605,
          14.23739242553711
         ],
         "y": [
          5.1392388343811035,
          -8.319555282592773,
          5.248237609863281,
          2.3763883113861084,
          5.313275337219238,
          1.5311907529830933,
          -1.7115544080734253,
          -4.84648323059082,
          3.09725022315979,
          6.0866618156433105,
          -5.82689094543457,
          8.413307189941406,
          3.045067548751831,
          -2.472393274307251,
          1.6060696840286255,
          4.052903175354004,
          2.9865992069244385,
          -4.1674604415893555,
          5.6431193351745605,
          8.418039321899414,
          1.6897205114364624,
          1.0828484296798706,
          -1.2019002437591553,
          3.027376890182495,
          -2.0881710052490234,
          -1.362378478050232,
          7.809953212738037,
          1.2663121223449707,
          -2.3375394344329834,
          -1.8033753633499146,
          1.2276755571365356,
          -4.864832878112793,
          -0.9587295055389404,
          0.025104084983468056,
          3.5080971717834473,
          0.5701702833175659,
          -0.15831297636032104,
          1.3382160663604736,
          2.6008052825927734,
          0.15083912014961243,
          -1.2515184879302979,
          -1.089113712310791,
          -1.232514500617981,
          2.537493944168091,
          0.05467574670910835,
          4.161969184875488,
          -0.7002951502799988,
          2.8665523529052734,
          8.250005722045898,
          -5.737929821014404,
          -2.6761772632598877,
          5.663941860198975,
          4.087503433227539,
          4.239981651306152,
          2.393049955368042,
          -3.3914434909820557,
          -0.34815290570259094,
          4.885715007781982,
          -0.3783458471298218,
          5.678289413452148,
          4.577733039855957,
          -5.5907721519470215,
          1.5563124418258667,
          -1.4115662574768066,
          -3.143582820892334,
          -1.3629151582717896,
          -8.232759475708008,
          -3.382390022277832,
          7.107416152954102,
          -1.792541742324829,
          -3.34820556640625,
          -1.644493818283081,
          3.492865800857544,
          0.23790034651756287,
          6.479748249053955,
          3.070862054824829,
          5.1641621589660645,
          0.4482622444629669,
          4.434520244598389,
          3.6071560382843018,
          4.3148088455200195,
          1.3581254482269287,
          1.592611312866211,
          -4.785272598266602,
          -3.7163760662078857,
          -7.214939594268799,
          -3.3782501220703125,
          -5.779786586761475,
          0.2684344947338104,
          -0.5033462643623352,
          3.4956812858581543,
          -3.829634666442871,
          -0.8373466730117798,
          -1.3901809453964233,
          -1.6473040580749512,
          0.9243858456611633,
          2.243649959564209,
          -6.498732089996338,
          1.0152370929718018,
          4.036862850189209,
          2.428849697113037,
          -4.173046112060547,
          -7.118044853210449,
          4.2707719802856445,
          0.06305626779794693,
          2.9413492679595947,
          -2.2027926445007324,
          -3.3566982746124268,
          6.121312618255615,
          -0.3501896262168884,
          0.5885806083679199,
          0.4277743399143219,
          -3.9372012615203857,
          4.121133327484131,
          5.374905109405518,
          0.6769751310348511,
          -3.8052334785461426,
          -1.129906415939331,
          1.455137848854065,
          -0.42855194211006165,
          0.8560411334037781,
          1.1484299898147583,
          -4.407941818237305,
          -2.838521957397461,
          -3.4535305500030518,
          -7.0593791007995605,
          -1.8693032264709473,
          0.48674213886260986,
          -4.469048500061035,
          -7.157358169555664,
          2.498413562774658,
          2.736947536468506,
          -2.2013137340545654,
          -2.4279026985168457,
          -4.550509452819824,
          6.086696624755859,
          1.9251765012741089,
          0.08755418658256531,
          -5.862629413604736,
          0.6290468573570251,
          -0.7595047354698181,
          -0.45885297656059265,
          4.5162763595581055,
          3.0639595985412598,
          -1.096768856048584,
          3.386168956756592,
          -3.836463212966919,
          -2.4709222316741943,
          -6.620174884796143,
          -0.17095835506916046,
          0.5654487609863281,
          3.513159990310669,
          -1.9440888166427612,
          4.832935333251953,
          1.9813777208328247,
          1.677075743675232,
          -4.8293137550354,
          -2.8742051124572754,
          5.133700847625732,
          0.9762201309204102,
          -4.148185729980469,
          4.585116863250732,
          2.9598910808563232,
          3.5219480991363525,
          0.7609370350837708,
          -4.568467617034912,
          -0.1552661508321762,
          -2.753990650177002,
          3.585766553878784,
          -3.7929348945617676,
          -1.694229006767273,
          -6.869320869445801,
          0.38986703753471375,
          3.668717384338379,
          -3.625460147857666,
          -5.280166149139404,
          1.7377870082855225,
          3.605212450027466,
          -6.28007173538208,
          0.09410229325294495,
          -2.2151918411254883,
          -3.2709333896636963,
          -4.8747076988220215,
          -4.771639347076416,
          -3.540029525756836,
          -2.7565934658050537,
          0.9196349382400513,
          2.7644095420837402,
          4.444215774536133,
          2.9853315353393555,
          -2.9315483570098877,
          4.042500019073486,
          -4.297133445739746,
          4.821633338928223,
          -6.238089084625244,
          -3.6785600185394287,
          -2.8089759349823,
          -2.7761309146881104,
          2.3607351779937744,
          -3.4429352283477783,
          1.4758113622665405,
          0.1911984235048294,
          -0.7911354899406433,
          2.0900330543518066,
          4.940566062927246,
          -4.382843017578125,
          1.924039602279663,
          1.3708475828170776,
          -3.3022143840789795,
          -3.8791885375976562,
          -4.453859329223633,
          2.7951858043670654,
          0.689008891582489,
          0.11566072702407837,
          1.067029356956482,
          -0.8458014726638794,
          -4.532134056091309,
          1.1224077939987183,
          0.09028459340333939,
          0.9910875558853149,
          5.402561187744141,
          -5.462763786315918,
          3.0056076049804688,
          5.811954975128174,
          -5.525318622589111,
          1.4214998483657837,
          -1.1213760375976562,
          6.003561973571777,
          -4.214941024780273,
          5.023929595947266,
          -3.4389195442199707,
          -0.8921738266944885,
          -0.27168503403663635,
          0.07539691030979156,
          0.38198575377464294,
          -5.096765995025635,
          5.553257942199707,
          2.9808266162872314,
          0.26176249980926514,
          3.0310556888580322,
          1.0453084707260132,
          -4.663643836975098,
          2.3750572204589844,
          -5.4253129959106445,
          -3.7928547859191895,
          -5.398880481719971,
          5.1974921226501465,
          3.2539360523223877,
          -0.5844146013259888,
          -0.13531483709812164,
          5.552767276763916,
          -1.0571249723434448,
          -1.319983959197998,
          4.247224807739258,
          2.919137716293335,
          0.9332913160324097,
          6.068553924560547,
          -3.9052274227142334,
          4.825760364532471,
          -1.1510502099990845,
          2.0271167755126953,
          3.5340778827667236,
          3.6781649589538574,
          -2.7033534049987793,
          5.975241184234619,
          -5.616646766662598,
          -0.9515007138252258,
          -5.675769329071045,
          6.015588283538818,
          -1.853229284286499,
          -3.3427364826202393,
          -2.3060553073883057,
          6.678374767303467,
          1.7437492609024048,
          1.4119412899017334,
          2.137251377105713,
          1.9155679941177368,
          4.217570781707764,
          -3.9223315715789795,
          4.388057231903076,
          -1.3215926885604858,
          1.6274614334106445,
          4.5575432777404785,
          4.087737560272217,
          5.32103967666626,
          -7.079359531402588,
          -5.6727166175842285,
          -5.556313514709473,
          -5.647958755493164,
          2.9469854831695557,
          0.16885659098625183,
          -3.0425238609313965,
          -1.8318454027175903,
          -6.835422039031982,
          -4.610105037689209,
          -1.788698673248291,
          -2.8615915775299072,
          2.313143730163574,
          -2.202364921569824,
          4.575936794281006,
          -7.764439105987549,
          -2.83817982673645,
          -1.3773314952850342,
          -3.449445962905884,
          -1.5202455520629883,
          4.851568698883057,
          -4.947364807128906,
          3.783991813659668,
          -1.1999435424804688,
          -3.9743356704711914,
          -3.443377733230591,
          -1.0121315717697144,
          -2.9839534759521484,
          2.514369010925293,
          -1.6694608926773071,
          5.822856426239014,
          -3.670957565307617,
          -4.119735240936279,
          5.079777240753174,
          -1.2714852094650269,
          -7.1548309326171875,
          5.295884609222412,
          -1.183883547782898,
          -7.061469554901123,
          -0.026976967230439186,
          2.5129928588867188,
          -0.1285974085330963,
          -2.149531841278076,
          1.6551347970962524,
          -1.6742668151855469,
          -5.558377742767334,
          2.6450448036193848,
          2.562180757522583,
          2.570134401321411,
          -5.896144866943359,
          4.1728196144104,
          -6.381263732910156,
          6.61492395401001,
          0.6052046418190002,
          3.5904324054718018,
          7.1029157638549805,
          4.801835536956787,
          1.5571444034576416,
          4.466447830200195,
          -4.035890579223633,
          1.6848132610321045,
          -2.125563144683838,
          -2.3640248775482178,
          0.4354047179222107,
          2.515827178955078,
          -0.7664681077003479,
          6.839670181274414,
          -0.8395132422447205,
          -2.4446604251861572,
          -5.659225940704346,
          5.41963005065918,
          2.72890043258667,
          -6.856213092803955,
          -1.156370997428894,
          -0.11401596665382385,
          -7.888055801391602,
          -5.704728603363037,
          4.032787322998047,
          -1.6125562191009521,
          -0.7187091112136841,
          2.802432060241699,
          -0.19777987897396088,
          -2.7160849571228027,
          -3.9232938289642334,
          -2.715698003768921,
          -3.217686176300049,
          1.0130747556686401,
          5.150186538696289,
          2.8943583965301514,
          -1.067702293395996,
          -2.8739142417907715,
          4.754281044006348,
          -1.440785527229309,
          -1.3840217590332031,
          0.5190796852111816,
          -0.614264190196991,
          1.7119567394256592,
          5.5823564529418945,
          4.42044734954834,
          -7.537497520446777,
          1.8807227611541748,
          -1.5328147411346436,
          -0.930498480796814,
          -3.56707501411438,
          0.6864989995956421,
          -5.277339458465576,
          2.60569167137146,
          5.783926963806152,
          3.4458563327789307,
          0.04729699715971947,
          -2.300647258758545,
          3.2120578289031982,
          -3.508946657180786,
          2.8643088340759277,
          5.275108814239502,
          -0.16312073171138763,
          -5.8351969718933105,
          -0.9773065447807312,
          -4.994475364685059,
          -4.705369472503662,
          -4.939034938812256,
          5.008617877960205,
          2.9229423999786377,
          1.0771355628967285,
          -4.236070156097412,
          -7.275447368621826,
          0.7695350050926208,
          -0.6238373517990112,
          3.875047445297241,
          -2.5708768367767334,
          -1.1403907537460327,
          -6.176716327667236,
          -5.58001708984375,
          -1.9241515398025513,
          1.9188060760498047,
          0.5150357484817505,
          -3.1606876850128174,
          -5.261392116546631,
          -7.89677095413208,
          3.8743464946746826,
          -4.827752113342285,
          -3.0619916915893555,
          -1.7393141984939575,
          3.822221279144287,
          4.910233497619629,
          0.8535780906677246,
          -2.701530694961548,
          -5.231452465057373,
          -1.5519254207611084,
          -1.0138671398162842,
          -2.9116878509521484,
          -2.3206822872161865,
          4.184670448303223,
          5.861261367797852,
          5.556449890136719,
          3.3033089637756348,
          3.6518852710723877,
          5.334543228149414,
          4.8691911697387695,
          0.7113886475563049,
          1.4042818546295166,
          -2.012603282928467,
          2.5130233764648438,
          0.4287288188934326,
          -4.573062419891357,
          -5.58026647567749,
          2.6404504776000977,
          -2.48476505279541,
          4.538624286651611,
          -3.8780322074890137,
          -1.6853781938552856,
          -2.3162035942077637,
          1.9609280824661255,
          4.676402568817139,
          3.681074857711792,
          -8.015560150146484,
          5.309256076812744,
          -1.8788865804672241,
          6.0439348220825195,
          0.8749817609786987,
          3.5912399291992188,
          6.114609241485596,
          -2.943037986755371,
          -4.5572943687438965,
          3.3896069526672363,
          1.112868309020996,
          -0.956669807434082,
          -2.6517724990844727,
          5.439375877380371,
          -3.3393657207489014,
          -5.648053169250488,
          -3.68052339553833,
          -0.01815679483115673,
          5.9861884117126465,
          -6.53220796585083,
          -1.6590505838394165,
          -5.488422393798828,
          -1.3140292167663574,
          3.6276278495788574,
          -3.413939952850342,
          4.253293991088867,
          -3.1706857681274414,
          4.249533176422119,
          6.261351108551025,
          2.987940788269043,
          2.684741735458374,
          -2.4946224689483643,
          2.5106704235076904,
          -1.2315566539764404,
          2.782947540283203,
          -3.8451218605041504,
          -3.7396371364593506,
          -0.2515576183795929,
          3.3396964073181152,
          -0.20560400187969208,
          -5.7595977783203125,
          1.014280915260315,
          1.4899194240570068,
          0.09932614862918854,
          4.189061641693115,
          2.6883833408355713,
          5.789501667022705,
          -1.5493488311767578,
          3.8677518367767334,
          -2.6666104793548584,
          5.31019401550293,
          -2.8983561992645264,
          -3.744572401046753,
          2.9306395053863525,
          3.6313962936401367,
          2.8788700103759766,
          5.628922939300537,
          5.375486850738525,
          -1.0087010860443115,
          -4.2931437492370605,
          2.2977423667907715,
          0.9201886653900146,
          3.0865721702575684,
          1.5141291618347168,
          0.2664410173892975,
          -4.706655502319336,
          5.150505065917969,
          -3.0007967948913574,
          -3.204633951187134,
          6.872666358947754,
          -6.926165580749512,
          0.23304064571857452,
          0.6738451719284058,
          -2.959667444229126,
          -1.869933843612671,
          -3.391801595687866,
          -4.631326675415039,
          2.9218101501464844,
          4.349553108215332,
          -2.1493258476257324,
          0.1974935084581375,
          -1.3914155960083008,
          -7.329384803771973,
          -6.2140631675720215,
          -2.9016482830047607,
          -0.5390626192092896,
          2.888120651245117,
          -1.3271734714508057,
          -3.42954158782959,
          3.9889066219329834,
          2.653425455093384,
          4.203246593475342,
          5.520756721496582,
          5.171795845031738,
          2.290148973464966,
          -8.923888206481934,
          1.0213630199432373,
          6.812881946563721,
          -1.039947509765625,
          0.7803229093551636,
          5.074787616729736,
          -0.18367350101470947,
          1.9177625179290771,
          -4.527177810668945,
          -1.3250224590301514,
          3.3600142002105713,
          -4.692988395690918,
          0.8406820893287659,
          -5.264771938323975,
          -3.8571252822875977,
          4.721556663513184,
          -2.962613582611084,
          -4.242451190948486,
          2.5578041076660156,
          -6.151667594909668,
          -3.3573522567749023,
          -5.694855213165283,
          -5.721095561981201,
          4.473575592041016,
          0.4374232590198517,
          1.1410484313964844,
          2.191668748855591,
          3.23807692527771,
          -4.897881507873535,
          -1.3131756782531738,
          1.9127527475357056,
          6.578559398651123,
          -3.1525397300720215,
          -4.785138130187988,
          -0.09079404175281525,
          -5.950125694274902,
          0.43965813517570496,
          1.749812126159668,
          -4.380003452301025,
          3.123324155807495,
          4.8278584480285645,
          -2.7732112407684326,
          0.169747456908226,
          -0.9657724499702454,
          4.730836391448975,
          0.6334087252616882,
          1.6406804323196411,
          -2.1854944229125977,
          -2.5580623149871826,
          -2.2052624225616455,
          -5.772852420806885,
          -2.893571376800537,
          2.1474006175994873,
          -0.9613032937049866,
          -8.602364540100098,
          3.306581974029541,
          -1.030362844467163,
          2.114243745803833,
          6.841968059539795,
          6.294705867767334,
          1.2472457885742188,
          -1.7023190259933472,
          0.22110703587532043,
          -3.545332431793213,
          6.841030597686768,
          3.6002564430236816,
          3.730773448944092,
          5.880796432495117,
          -0.26333266496658325,
          2.072007656097412,
          -3.7265591621398926,
          -3.7318639755249023,
          5.936421871185303,
          2.594714403152466,
          5.804040908813477,
          4.6338582038879395,
          -3.5934343338012695,
          6.300458908081055,
          1.295706033706665,
          -0.5543050169944763,
          4.41787052154541,
          -1.7876572608947754,
          3.592803478240967,
          -3.943293333053589,
          4.278510093688965,
          4.849613189697266,
          -3.6752185821533203,
          -3.630272626876831,
          -0.02141723409295082,
          2.775599241256714,
          2.958573818206787,
          3.90317964553833,
          5.422331809997559,
          -0.76748126745224,
          6.293361663818359,
          -1.123239517211914,
          -4.756715297698975,
          1.5690710544586182,
          -0.4319186210632324,
          -5.6005539894104,
          -3.1327669620513916,
          3.181654453277588,
          4.648296356201172,
          0.28706759214401245,
          -0.2865443527698517,
          -2.54235577583313,
          3.113863945007324,
          1.2448750734329224,
          4.959195613861084,
          -1.5388227701187134,
          5.592697620391846,
          1.0181530714035034,
          -2.4348185062408447,
          -2.5607011318206787,
          -4.836286544799805,
          0.7105924487113953,
          4.910345077514648,
          5.540993690490723,
          4.61275577545166,
          0.9425617456436157,
          1.77394437789917,
          -5.012795448303223,
          -2.4480807781219482,
          -1.8525667190551758,
          -2.45648193359375,
          3.176988363265991,
          -1.6728837490081787,
          7.302432060241699,
          0.4373723864555359,
          2.365905523300171,
          -4.876672267913818,
          2.3700859546661377,
          -1.8622409105300903,
          -4.511430263519287,
          -2.8740923404693604,
          2.682034492492676,
          -3.407193660736084,
          -0.47823047637939453,
          -3.031320810317993,
          -4.03433895111084,
          1.5758867263793945,
          1.0571253299713135,
          1.2764946222305298,
          3.674513101577759,
          1.4847729206085205,
          -0.6281588673591614,
          6.087268352508545,
          -2.432776689529419,
          -2.3666791915893555,
          4.972162246704102,
          -0.6046168208122253,
          -4.092413902282715,
          5.417801856994629,
          4.2294745445251465,
          2.4764721393585205,
          -0.2599150240421295,
          -2.808178186416626,
          -4.130648612976074,
          -1.509212851524353,
          -1.161615252494812,
          0.036269139498472214,
          1.4614542722702026,
          4.573056221008301,
          -1.1416372060775757,
          -2.5170867443084717,
          5.634279251098633,
          -5.476278305053711,
          -3.669334650039673,
          5.664184093475342,
          -4.297317981719971,
          -0.9781112670898438,
          -3.8840138912200928,
          2.217947483062744,
          0.08345073461532593,
          0.43995919823646545,
          -4.532527446746826,
          5.791028022766113,
          4.286046028137207,
          1.5166475772857666,
          -1.5785243511199951,
          -4.423614025115967,
          0.5425294637680054,
          2.3594954013824463,
          3.160240650177002,
          3.462759256362915,
          -0.2957442104816437,
          2.755192518234253,
          3.79072642326355,
          3.941335678100586,
          2.662604331970215,
          2.456289768218994,
          0.18982940912246704,
          -2.876603603363037,
          2.3337581157684326,
          -2.424555540084839,
          -7.7876667976379395,
          5.242006301879883,
          -1.3033053874969482,
          -6.1103949546813965,
          -0.9295885562896729,
          4.013625621795654,
          3.4507954120635986,
          3.280256748199463,
          2.7807421684265137,
          -1.7985787391662598,
          -4.105929374694824,
          5.671184539794922,
          -1.6677738428115845,
          -6.587093830108643,
          5.4107255935668945,
          -3.1074063777923584,
          -4.910444736480713,
          4.659736633300781,
          -3.8721086978912354,
          4.015020847320557,
          3.694730520248413,
          5.296505928039551,
          2.304426908493042,
          -3.5533509254455566,
          3.174341917037964,
          0.2138545662164688,
          2.483358144760132,
          -1.1656396389007568,
          6.346572399139404,
          4.273674964904785,
          1.990652084350586,
          -3.8332467079162598,
          -6.919731616973877,
          -0.004625591449439526,
          2.8590140342712402,
          -3.2661080360412598,
          2.336188554763794,
          0.31178227066993713,
          3.303131103515625,
          0.6741215586662292,
          -5.294990539550781,
          3.741621255874634,
          4.513936996459961,
          5.58935022354126,
          -5.351213455200195,
          -5.642810821533203,
          0.6565120220184326,
          0.9472973942756653,
          2.649141550064087,
          -1.7276579141616821,
          0.9056151509284973,
          1.9128819704055786,
          -2.1959588527679443,
          -7.511857509613037,
          3.4450266361236572,
          -4.876197814941406,
          2.949155807495117,
          -8.357197761535645,
          -1.4204978942871094,
          -3.7945241928100586,
          3.7319555282592773,
          3.193938732147217,
          5.695859432220459,
          0.36273619532585144,
          -6.8393330574035645,
          0.35215499997138977,
          -6.614511013031006,
          -3.8584277629852295,
          1.4516738653182983,
          -1.2371079921722412,
          -4.650481700897217,
          2.0603585243225098,
          2.6020288467407227,
          -8.873150825500488,
          -3.7225146293640137,
          -1.7742754220962524,
          -1.569169282913208,
          3.3041791915893555,
          4.461413860321045,
          0.33734217286109924,
          -8.98374080657959,
          1.048531413078308,
          1.7641464471817017,
          2.730875253677368,
          1.8861255645751953,
          -1.29940927028656,
          5.704312324523926,
          3.469489097595215,
          -4.286310195922852,
          2.6602272987365723,
          1.989084005355835,
          4.316985130310059,
          -0.8144086599349976,
          -3.703346014022827,
          -4.338460445404053,
          -0.4188452363014221,
          -4.760987758636475,
          2.196397304534912,
          -0.1492011845111847,
          -3.407249689102173,
          1.000964641571045,
          1.9767698049545288,
          3.8907346725463867,
          1.4926666021347046,
          -3.601574182510376,
          -3.21608304977417,
          -1.1778751611709595,
          -1.1244723796844482,
          2.310462236404419,
          4.566253185272217,
          2.0543289184570312,
          2.4589905738830566,
          0.09855964779853821,
          -0.25453925132751465,
          -4.471888065338135,
          -0.08881142735481262,
          -1.14950692653656,
          1.0371942520141602,
          -2.0008795261383057,
          -0.74139803647995,
          -5.2781171798706055,
          2.293490409851074,
          -3.479444742202759,
          -0.4831712543964386,
          -0.575799822807312,
          -2.634399890899658,
          0.5511182546615601,
          -1.0157904624938965,
          4.0552496910095215,
          4.320873737335205,
          -0.1850396692752838,
          2.1457858085632324,
          4.996408939361572,
          -1.0121066570281982,
          -3.7741057872772217,
          -3.7061381340026855,
          4.002875328063965,
          -1.9465245008468628,
          5.115778923034668,
          2.467667579650879,
          3.221071481704712,
          -3.3362655639648438,
          2.9765396118164062,
          5.478614807128906,
          -4.8385701179504395,
          1.55563485622406,
          5.439111709594727,
          -4.992602825164795,
          -3.160222291946411,
          -0.04946129769086838,
          -5.776738166809082,
          3.4024839401245117,
          0.6197935938835144,
          -3.42946720123291,
          -0.02514343149960041,
          1.7841036319732666,
          -3.015435218811035,
          -3.8755838871002197,
          2.7425360679626465,
          5.947287082672119,
          -6.047860145568848,
          -3.044767141342163,
          -0.660595178604126,
          6.646183013916016,
          3.7163565158843994,
          5.636397838592529,
          4.728050231933594,
          -5.2912397384643555,
          -1.5456684827804565,
          -4.461053848266602,
          1.912102460861206,
          -2.30706524848938,
          0.0680338516831398,
          4.4036664962768555,
          -2.591991662979126,
          0.6315784454345703,
          -3.0507280826568604,
          4.937166213989258,
          -2.3293731212615967,
          -2.970383405685425,
          4.960402011871338,
          1.8368027210235596,
          -3.0961978435516357,
          -2.6799936294555664,
          -3.321751117706299,
          4.624087810516357,
          1.8898776769638062,
          5.1565728187561035,
          -6.839594841003418,
          -4.708141326904297,
          5.179101943969727,
          2.6073386669158936,
          3.7069270610809326,
          -0.0027902366127818823,
          4.13412618637085,
          3.2211215496063232,
          2.628427267074585,
          4.762202739715576,
          -4.6542439460754395,
          -3.604856014251709,
          6.122096061706543,
          2.2809512615203857,
          -4.005177974700928,
          -0.7591303586959839,
          -0.3242665231227875,
          -6.180304527282715,
          -4.000432014465332,
          0.16933000087738037,
          2.837660789489746,
          -0.008761128410696983,
          -4.407355308532715,
          -3.0207736492156982,
          3.3560125827789307,
          4.644999980926514,
          4.65114688873291,
          -3.127387523651123,
          -6.2146196365356445,
          5.254009246826172,
          2.475097894668579,
          2.5682783126831055,
          0.6943351626396179,
          1.019652247428894,
          7.455627918243408,
          5.649145126342773,
          4.038619518280029,
          -5.512970924377441,
          -6.089158535003662,
          1.9049781560897827,
          4.171724319458008,
          0.07918629795312881,
          3.03804612159729,
          2.1995849609375,
          1.7154865264892578,
          -2.4354941844940186,
          1.5795923471450806,
          -6.275262355804443,
          -0.4252036213874817,
          -3.1073591709136963,
          -3.249166965484619,
          4.683201789855957,
          0.7100102305412292,
          5.859341621398926,
          2.5737740993499756,
          5.160012722015381,
          2.4718024730682373,
          5.36339807510376,
          -1.4173204898834229,
          3.126365900039673,
          -1.2572863101959229,
          5.72940731048584
         ],
         "z": [
          5.718793869018555,
          -5.025030612945557,
          1.0365705490112305,
          -12.495704650878906,
          -4.537082672119141,
          -9.478485107421875,
          -4.020531177520752,
          -13.837080955505371,
          -1.666444182395935,
          11.23691463470459,
          -15.120949745178223,
          -5.20884895324707,
          -16.352754592895508,
          -1.7709286212921143,
          -3.422049045562744,
          -12.971245765686035,
          -16.37403678894043,
          0.5196306109428406,
          1.93849778175354,
          -4.380167484283447,
          -9.049544334411621,
          7.190271377563477,
          -2.6473896503448486,
          -2.213014602661133,
          -3.802868604660034,
          5.016897201538086,
          -4.260998249053955,
          2.2673592567443848,
          -7.43091344833374,
          -8.482311248779297,
          0.278949111700058,
          -7.2214813232421875,
          3.8044018745422363,
          -3.9495701789855957,
          1.954260230064392,
          5.972000598907471,
          -1.6790921688079834,
          2.511561393737793,
          9.25318431854248,
          -10.191563606262207,
          6.78325891494751,
          -6.565913200378418,
          4.660496234893799,
          -6.248758792877197,
          -5.257227897644043,
          -13.727503776550293,
          -4.796126365661621,
          -1.8319737911224365,
          -4.963261127471924,
          4.832830429077148,
          -17.339519500732422,
          2.6132099628448486,
          3.9621007442474365,
          -13.583722114562988,
          -10.755427360534668,
          -18.794754028320312,
          -11.018436431884766,
          -1.2087745666503906,
          -4.51364803314209,
          -3.241382598876953,
          -0.3918042778968811,
          5.326554775238037,
          -13.73505687713623,
          -7.0831122398376465,
          8.07357406616211,
          -4.332516193389893,
          4.26484489440918,
          0.45027220249176025,
          -4.781595706939697,
          -9.47490406036377,
          -10.473584175109863,
          -11.78471565246582,
          9.286169052124023,
          -15.200977325439453,
          14.421701431274414,
          9.38081169128418,
          -5.666423320770264,
          -10.434656143188477,
          17.886075973510742,
          14.712764739990234,
          14.269815444946289,
          10.38018798828125,
          -5.047560214996338,
          4.169646739959717,
          -3.010605573654175,
          -4.89258337020874,
          2.4585652351379395,
          0.9491753578186035,
          0.48963576555252075,
          9.7094087600708,
          11.147136688232422,
          -14.552468299865723,
          3.935685396194458,
          -2.541057825088501,
          -6.850822925567627,
          -12.844792366027832,
          6.725275039672852,
          -2.4045181274414062,
          -1.2322691679000854,
          -5.793900012969971,
          7.959486484527588,
          4.2047905921936035,
          -2.3465936183929443,
          4.6689934730529785,
          -13.841676712036133,
          9.455316543579102,
          6.224257469177246,
          -3.2953672409057617,
          14.396763801574707,
          -9.649431228637695,
          11.768750190734863,
          8.280197143554688,
          -16.37409782409668,
          9.812460899353027,
          -2.236339569091797,
          12.644593238830566,
          -3.3463828563690186,
          -2.4788146018981934,
          -13.54086685180664,
          -0.428995817899704,
          13.282297134399414,
          0.7325612902641296,
          -3.6777732372283936,
          6.221384048461914,
          4.730990886688232,
          -3.5641589164733887,
          -5.405644416809082,
          -12.156928062438965,
          -2.857546806335449,
          -2.8266549110412598,
          -1.6020359992980957,
          6.052281379699707,
          -16.412796020507812,
          -4.598451614379883,
          3.550814390182495,
          7.846902847290039,
          -3.017638921737671,
          -15.034019470214844,
          -4.145477294921875,
          2.266712188720703,
          -15.337813377380371,
          8.998788833618164,
          3.8471779823303223,
          -4.494475364685059,
          -0.5528355240821838,
          12.212890625,
          -12.337360382080078,
          3.371750831604004,
          -4.877812385559082,
          4.672219276428223,
          11.106480598449707,
          12.126955032348633,
          -1.7602202892303467,
          3.85327410697937,
          8.411532402038574,
          6.784631252288818,
          6.930875301361084,
          6.353275299072266,
          13.436322212219238,
          -13.105931282043457,
          -4.290090084075928,
          -0.387051522731781,
          14.63276195526123,
          17.952667236328125,
          -11.753893852233887,
          5.165569305419922,
          -15.531002044677734,
          -8.267910957336426,
          -3.5523414611816406,
          5.944604873657227,
          6.593138694763184,
          -3.436168670654297,
          -9.155119895935059,
          -1.2503232955932617,
          1.4507919549942017,
          2.3791725635528564,
          -10.395456314086914,
          -0.8365086317062378,
          -5.681439399719238,
          -13.528773307800293,
          0.874313473701477,
          -8.471065521240234,
          -6.849285125732422,
          -10.285676002502441,
          -8.715641021728516,
          -2.9048798084259033,
          -7.738856792449951,
          -0.8927785754203796,
          12.075322151184082,
          11.782977104187012,
          3.8293285369873047,
          -3.9769809246063232,
          -15.186963081359863,
          -1.0795973539352417,
          -0.2147214710712433,
          -5.131253242492676,
          0.5409130454063416,
          -4.065891742706299,
          7.614890098571777,
          3.8032588958740234,
          -1.080955147743225,
          3.6645259857177734,
          -5.4618635177612305,
          -5.580998420715332,
          -0.3605240285396576,
          -7.543402671813965,
          15.888693809509277,
          -1.2608094215393066,
          -9.404057502746582,
          -5.121163368225098,
          1.9812835454940796,
          -9.227497100830078,
          -9.618117332458496,
          11.904058456420898,
          0.5229030847549438,
          1.5053024291992188,
          -4.6632843017578125,
          -11.671627044677734,
          -11.871065139770508,
          0.6406722068786621,
          0.11987493932247162,
          -0.9096790552139282,
          -5.307323932647705,
          15.76600170135498,
          1.129279375076294,
          15.062041282653809,
          6.5497660636901855,
          12.174890518188477,
          3.884294271469116,
          -8.284795761108398,
          -4.065054416656494,
          4.156613349914551,
          -14.076000213623047,
          -14.590709686279297,
          -1.4377152919769287,
          -0.7091498374938965,
          -0.40508702397346497,
          11.289475440979004,
          -11.929779052734375,
          0.4401734173297882,
          -1.0880682468414307,
          -2.5160129070281982,
          -1.5364731550216675,
          -0.8411771655082703,
          -11.089008331298828,
          1.7986949682235718,
          10.725940704345703,
          17.325517654418945,
          6.66099739074707,
          -3.122404098510742,
          1.1282007694244385,
          1.9279648065567017,
          -11.418895721435547,
          -0.22183898091316223,
          10.452935218811035,
          -2.1479527950286865,
          7.5164923667907715,
          0.26106101274490356,
          -8.849711418151855,
          -1.1376034021377563,
          -1.2954031229019165,
          0.4218911826610565,
          -2.3057162761688232,
          1.7569926977157593,
          2.643202781677246,
          -0.9727190136909485,
          -15.034765243530273,
          -1.8186368942260742,
          14.208419799804688,
          -3.3918685913085938,
          -1.9133810997009277,
          -7.134519577026367,
          9.429474830627441,
          -0.7424066066741943,
          -12.027831077575684,
          2.0396318435668945,
          -11.632169723510742,
          -3.9895119667053223,
          -2.04298734664917,
          11.83639144897461,
          5.987475872039795,
          -1.0988138914108276,
          11.690059661865234,
          7.129422187805176,
          -2.568248748779297,
          -0.2458030730485916,
          5.885991096496582,
          -1.4572864770889282,
          0.21173231303691864,
          7.157962799072266,
          10.112503051757812,
          -2.9976437091827393,
          6.264768123626709,
          0.5659593939781189,
          4.125372409820557,
          -15.979391098022461,
          -11.577651023864746,
          17.443758010864258,
          4.2044358253479,
          7.36359977722168,
          -5.727949619293213,
          -0.7121514678001404,
          -9.524175643920898,
          -11.768274307250977,
          -9.542696952819824,
          14.235877990722656,
          -1.3623796701431274,
          13.795757293701172,
          6.093622207641602,
          -8.830994606018066,
          -8.379366874694824,
          3.533970594406128,
          -7.638623237609863,
          -0.007843355648219585,
          1.4178659915924072,
          7.478251934051514,
          5.742058753967285,
          -2.8470795154571533,
          15.203710556030273,
          -5.898436069488525,
          -5.1080827713012695,
          11.201261520385742,
          -12.817633628845215,
          -0.8753297328948975,
          15.306007385253906,
          7.680113315582275,
          -13.931666374206543,
          -14.694856643676758,
          -4.659769535064697,
          -10.651861190795898,
          -1.723554015159607,
          -11.454655647277832,
          1.0279899835586548,
          8.077231407165527,
          1.3285048007965088,
          -5.236453533172607,
          -2.9855198860168457,
          7.583079814910889,
          -8.023963928222656,
          -9.867371559143066,
          7.964364051818848,
          13.604289054870605,
          -13.774518013000488,
          3.393357753753662,
          -13.691039085388184,
          -4.971235752105713,
          -5.215145111083984,
          4.770225524902344,
          -12.626461029052734,
          -11.948534965515137,
          1.7060030698776245,
          9.402313232421875,
          -1.8883965015411377,
          -7.13176155090332,
          5.9275336265563965,
          13.522063255310059,
          3.074209690093994,
          -1.4090477228164673,
          -12.760842323303223,
          6.573718547821045,
          -4.2251877784729,
          -1.4391913414001465,
          2.1717417240142822,
          5.084039211273193,
          -13.116267204284668,
          14.960437774658203,
          -8.782301902770996,
          -1.0928853750228882,
          0.6555996537208557,
          -3.674731969833374,
          4.97160530090332,
          -0.8355036973953247,
          -5.189085960388184,
          -5.219038009643555,
          -12.763765335083008,
          6.775065898895264,
          14.358933448791504,
          -10.452245712280273,
          -6.500373840332031,
          8.389430046081543,
          -13.33102035522461,
          2.913614511489868,
          13.016487121582031,
          9.765390396118164,
          -3.2456448078155518,
          6.5155839920043945,
          6.504300117492676,
          5.30452823638916,
          2.834470272064209,
          9.201349258422852,
          4.8163228034973145,
          7.285356044769287,
          10.836583137512207,
          11.89777660369873,
          -1.6121714115142822,
          -7.109066486358643,
          9.285722732543945,
          -11.03438663482666,
          8.397501945495605,
          10.859772682189941,
          -0.5074135661125183,
          3.655674934387207,
          3.164994716644287,
          -7.56777286529541,
          -11.841978073120117,
          -2.317401885986328,
          -2.736459255218506,
          3.5336339473724365,
          -14.058246612548828,
          -5.612876892089844,
          -0.7656447887420654,
          9.338102340698242,
          -12.381054878234863,
          14.921469688415527,
          -3.2099928855895996,
          4.394275665283203,
          2.211609125137329,
          -3.5991554260253906,
          -15.019111633300781,
          -5.318660259246826,
          9.216362953186035,
          2.826164960861206,
          -0.6678406000137329,
          -5.135361194610596,
          -4.249619007110596,
          2.33022403717041,
          -3.6125152111053467,
          -10.16684627532959,
          8.052093505859375,
          -5.875655651092529,
          12.186127662658691,
          -3.9477791786193848,
          4.349035739898682,
          -10.667485237121582,
          -4.641295909881592,
          2.110795259475708,
          0.1921834945678711,
          -5.161116123199463,
          15.095514297485352,
          -0.8169992566108704,
          10.096784591674805,
          17.759525299072266,
          -1.3102920055389404,
          -7.883240222930908,
          2.0257279872894287,
          -10.597923278808594,
          -10.397562980651855,
          3.296358346939087,
          -3.1147985458374023,
          -9.613424301147461,
          4.3811821937561035,
          -3.2963972091674805,
          6.281243324279785,
          14.625082969665527,
          -15.436452865600586,
          -5.894016265869141,
          -0.37668919563293457,
          -2.5836362838745117,
          17.35466957092285,
          10.844345092773438,
          -3.038762331008911,
          -2.5549795627593994,
          3.6846327781677246,
          14.757586479187012,
          -0.717827558517456,
          11.389527320861816,
          14.191569328308105,
          -11.873383522033691,
          4.701067924499512,
          -3.339122772216797,
          13.813271522521973,
          0.47974899411201477,
          2.901439905166626,
          10.201034545898438,
          6.632972717285156,
          0.02398897148668766,
          -5.144491672515869,
          -9.482309341430664,
          5.735358715057373,
          -1.7184456586837769,
          5.718462944030762,
          4.163462162017822,
          -8.947165489196777,
          -7.308136463165283,
          -3.462038993835449,
          -6.924666881561279,
          -1.2610065937042236,
          8.43648910522461,
          7.465413570404053,
          0.6937233209609985,
          15.996368408203125,
          -15.626468658447266,
          -9.066959381103516,
          -9.365556716918945,
          -2.098259449005127,
          -11.67087459564209,
          -5.095571517944336,
          -14.105929374694824,
          3.0923497676849365,
          9.98213005065918,
          -3.9981226921081543,
          1.7168785333633423,
          7.5930938720703125,
          0.4427467882633209,
          7.826144695281982,
          0.15904021263122559,
          16.66721534729004,
          3.9283881187438965,
          9.108480453491211,
          -7.622495174407959,
          -3.874417304992676,
          5.989640235900879,
          -0.9562081694602966,
          -9.796192169189453,
          17.48246955871582,
          4.657896518707275,
          2.1605632305145264,
          17.27827262878418,
          1.660735845565796,
          -1.9415968656539917,
          9.811633110046387,
          -6.315420627593994,
          -8.687631607055664,
          -5.089797496795654,
          -12.739262580871582,
          -2.7840352058410645,
          9.176563262939453,
          -0.5977562069892883,
          1.3860666751861572,
          8.244696617126465,
          -2.2650306224823,
          -9.871018409729004,
          -14.856305122375488,
          4.605575084686279,
          -14.733152389526367,
          -8.32092571258545,
          -6.3084211349487305,
          -6.136958122253418,
          3.8743696212768555,
          -3.6685361862182617,
          0.9196889996528625,
          -11.799675941467285,
          -0.6024889349937439,
          -5.533336162567139,
          4.547302722930908,
          -16.943151473999023,
          11.323509216308594,
          -12.446595191955566,
          -11.145519256591797,
          11.56993293762207,
          5.4480109214782715,
          8.378351211547852,
          -3.915966510772705,
          13.362750053405762,
          2.271418571472168,
          -1.399803876876831,
          -14.404250144958496,
          13.683724403381348,
          -14.601224899291992,
          -2.373387098312378,
          -7.515430450439453,
          -11.945032119750977,
          2.3929219245910645,
          -12.768559455871582,
          0.8611007332801819,
          16.270023345947266,
          5.196190357208252,
          1.7791463136672974,
          -10.974625587463379,
          -13.80087947845459,
          7.149817943572998,
          -14.570816993713379,
          -12.70870590209961,
          -12.106139183044434,
          -6.494287490844727,
          -9.1609468460083,
          -3.1550581455230713,
          0.4254401922225952,
          7.208863258361816,
          13.91969108581543,
          8.660126686096191,
          14.808004379272461,
          -4.76188850402832,
          -3.799241065979004,
          6.201545715332031,
          15.963602066040039,
          7.826211929321289,
          6.6738739013671875,
          0.11079080402851105,
          -9.048787117004395,
          2.886138677597046,
          5.203031539916992,
          -1.6964024305343628,
          -12.136748313903809,
          -0.4396199584007263,
          3.618567705154419,
          -12.753067970275879,
          -9.951343536376953,
          -9.318575859069824,
          -7.259599208831787,
          -14.65108585357666,
          -0.10414963215589523,
          -7.163827896118164,
          -3.694249153137207,
          -10.849544525146484,
          -4.318596363067627,
          -14.185532569885254,
          -12.253886222839355,
          -0.1547183245420456,
          -4.604527950286865,
          -8.345024108886719,
          10.224955558776855,
          10.391071319580078,
          8.395159721374512,
          13.338874816894531,
          3.2554001808166504,
          0.09200232475996017,
          -0.1771107167005539,
          5.469273090362549,
          8.254646301269531,
          1.1307789087295532,
          3.6841635704040527,
          1.884827733039856,
          1.43572998046875,
          -4.791012287139893,
          -13.30941104888916,
          -3.707468032836914,
          -2.3983888626098633,
          2.779062509536743,
          15.031991004943848,
          0.5357292890548706,
          -3.78432035446167,
          16.22571563720703,
          -5.714655876159668,
          9.45690631866455,
          4.056616306304932,
          10.839916229248047,
          0.9275789260864258,
          -15.058846473693848,
          -0.07150861620903015,
          -0.15778110921382904,
          -5.22038459777832,
          -4.908106327056885,
          8.816760063171387,
          -10.451560974121094,
          15.701048851013184,
          -2.397430896759033,
          8.701749801635742,
          -4.135537147521973,
          10.34954833984375,
          6.528777599334717,
          4.753952503204346,
          2.2421703338623047,
          -15.777311325073242,
          2.8898792266845703,
          -6.747747421264648,
          -5.4788312911987305,
          7.725678443908691,
          4.61848258972168,
          -10.036755561828613,
          -10.384604454040527,
          3.604518413543701,
          -0.7288868427276611,
          6.844107151031494,
          -11.988171577453613,
          -0.5607582926750183,
          -14.621696472167969,
          -5.122772216796875,
          -4.11078405380249,
          3.4944283962249756,
          1.5840986967086792,
          12.97116756439209,
          2.1506266593933105,
          1.0050936937332153,
          -11.922425270080566,
          5.657479763031006,
          -6.227043628692627,
          -16.18840217590332,
          -11.704022407531738,
          -4.391740322113037,
          -3.4500675201416016,
          4.995491981506348,
          8.80402660369873,
          -9.247602462768555,
          1.2692970037460327,
          3.3794353008270264,
          12.009420394897461,
          5.721900463104248,
          -14.762114524841309,
          -8.874298095703125,
          -9.5819673538208,
          -8.260857582092285,
          -12.037934303283691,
          -0.5722091197967529,
          -16.59830093383789,
          -14.637653350830078,
          7.43076753616333,
          14.848199844360352,
          12.371456146240234,
          -7.124458312988281,
          -0.8935074806213379,
          4.504072666168213,
          -1.7906646728515625,
          -7.421123027801514,
          10.108901977539062,
          -7.902767658233643,
          -14.42086124420166,
          -10.079401016235352,
          1.8680510520935059,
          -6.737081050872803,
          -4.079748630523682,
          6.527125835418701,
          6.530997276306152,
          4.8666605949401855,
          8.11336612701416,
          -12.411567687988281,
          -9.3651704788208,
          -14.180427551269531,
          8.225135803222656,
          4.277706623077393,
          1.886008381843567,
          -2.4746742248535156,
          -1.9242451190948486,
          2.643717050552368,
          -0.10183661431074142,
          3.766052722930908,
          -8.841475486755371,
          -14.981460571289062,
          -12.531329154968262,
          -9.865625381469727,
          2.1295526027679443,
          -5.9817914962768555,
          1.009509563446045,
          -2.9535598754882812,
          -0.8883143067359924,
          -14.734810829162598,
          12.154611587524414,
          16.56324005126953,
          17.400623321533203,
          -7.2662034034729,
          4.526599884033203,
          7.739865303039551,
          8.018152236938477,
          -9.244528770446777,
          8.480298042297363,
          17.337846755981445,
          14.276789665222168,
          -16.057388305664062,
          -2.0174596309661865,
          -10.751020431518555,
          -4.757776260375977,
          -4.425180912017822,
          -7.285227298736572,
          -0.2802077531814575,
          6.110988140106201,
          -0.8053960800170898,
          14.506536483764648,
          0.40341296792030334,
          -10.005040168762207,
          4.096675872802734,
          -10.004411697387695,
          2.031109571456909,
          6.750486850738525,
          2.378660202026367,
          7.132132530212402,
          -1.579835295677185,
          -2.321566581726074,
          -4.449316501617432,
          -3.114840030670166,
          -3.583449602127075,
          14.201208114624023,
          5.684628963470459,
          0.0819658562541008,
          -3.933391809463501,
          7.9020209312438965,
          4.860239505767822,
          2.7673022747039795,
          -0.13787513971328735,
          16.082975387573242,
          9.085908889770508,
          12.097663879394531,
          -2.2006874084472656,
          -3.7106549739837646,
          11.228886604309082,
          17.64621925354004,
          -10.341443061828613,
          0.6028736233711243,
          -12.242188453674316,
          17.102588653564453,
          14.521346092224121,
          -11.946782112121582,
          11.40492057800293,
          -8.18765926361084,
          14.289993286132812,
          -0.8584375977516174,
          -7.423438549041748,
          5.904961585998535,
          -2.86716628074646,
          13.582802772521973,
          3.2876548767089844,
          2.2539069652557373,
          3.7102179527282715,
          1.678063988685608,
          -5.627225399017334,
          0.23503801226615906,
          4.324491500854492,
          4.238271713256836,
          -2.0809948444366455,
          -15.696063041687012,
          4.987611293792725,
          -4.795519828796387,
          -9.800811767578125,
          14.798412322998047,
          8.42880630493164,
          -4.313046932220459,
          -3.260540246963501,
          -1.4823486804962158,
          -12.404595375061035,
          -9.730362892150879,
          -13.025209426879883,
          -12.880672454833984,
          -0.13511206209659576,
          18.12543487548828,
          -4.0961222648620605,
          -0.0927315428853035,
          0.09112345427274704,
          -15.59067440032959,
          15.493134498596191,
          11.29382038116455,
          -10.591208457946777,
          -1.0688236951828003,
          7.433897495269775,
          -12.593513488769531,
          -8.915111541748047,
          -2.1797022819519043,
          -10.507608413696289,
          -6.4907307624816895,
          -3.3642899990081787,
          -12.197479248046875,
          3.528883218765259,
          13.077982902526855,
          4.507634162902832,
          -13.157061576843262,
          -2.0766794681549072,
          -2.1035969257354736,
          -14.262262344360352,
          -4.1855149269104,
          13.71289348602295,
          11.766942977905273,
          4.9663004875183105,
          -14.285957336425781,
          10.632607460021973,
          3.516921281814575,
          13.042073249816895,
          2.234962224960327,
          -2.3714537620544434,
          1.8438822031021118,
          -16.93001365661621,
          15.779685020446777,
          -8.406503677368164,
          8.517480850219727,
          14.352845191955566,
          -2.747727155685425,
          14.022989273071289,
          -1.455581545829773,
          -14.930879592895508,
          -2.435957908630371,
          14.679278373718262,
          -11.246188163757324,
          9.139297485351562,
          -10.389177322387695,
          5.4229559898376465,
          2.4724082946777344,
          12.289252281188965,
          -6.946124076843262,
          7.020902633666992,
          -1.6198158264160156,
          0.9579394459724426,
          5.8682966232299805,
          -1.125741958618164,
          10.142855644226074,
          15.30829906463623,
          12.86886215209961,
          -11.589324951171875,
          -11.243313789367676,
          -16.27695083618164,
          9.282769203186035,
          5.130505084991455,
          7.373498916625977,
          -7.391682147979736,
          -4.943499565124512,
          -8.844852447509766,
          -4.3310112953186035,
          12.187542915344238,
          -9.206731796264648,
          10.408839225769043,
          8.572139739990234,
          2.3658697605133057,
          1.1146368980407715,
          -1.986141324043274,
          -1.227543592453003,
          0.6839204430580139,
          5.402917861938477,
          -12.866891860961914,
          15.346761703491211,
          -5.3182244300842285,
          -11.849322319030762,
          -7.408229827880859,
          -4.4201483726501465,
          15.925126075744629,
          1.997188925743103,
          6.465697765350342,
          4.097523212432861,
          14.849574089050293,
          -7.429996013641357,
          -2.6639480590820312,
          4.899245262145996,
          -3.3737597465515137,
          -16.48211097717285,
          -15.612438201904297,
          9.674713134765625,
          -16.20958137512207,
          -1.2792404890060425,
          11.489577293395996,
          -3.1168532371520996,
          10.63049602508545,
          -7.4679670333862305,
          5.622157573699951,
          3.8567864894866943,
          -2.7001101970672607,
          -2.8728115558624268,
          3.9978981018066406,
          2.3971831798553467,
          -11.076546669006348,
          -11.717607498168945,
          -5.406943321228027,
          6.840916156768799,
          -1.032698631286621,
          -5.449620246887207,
          -13.426566123962402,
          -3.09179425239563,
          -1.1267743110656738,
          17.523075103759766,
          -14.96203327178955,
          15.437283515930176,
          -8.111815452575684,
          16.186168670654297,
          11.770669937133789,
          -1.6537423133850098,
          -8.087478637695312,
          5.341458797454834,
          3.483002185821533,
          -12.350570678710938,
          -13.593893051147461,
          4.999285697937012,
          2.17695689201355,
          -16.374591827392578,
          -8.859240531921387,
          -8.9453125,
          0.14518654346466064,
          0.11562595516443253,
          3.178738594055176,
          -0.5244845151901245,
          16.888694763183594,
          7.389789581298828,
          5.98138427734375,
          0.5956001281738281,
          12.714073181152344,
          -7.499030590057373,
          1.587009072303772,
          -11.405770301818848,
          14.677457809448242,
          8.09164047241211,
          -2.936795711517334,
          12.444255828857422,
          -1.1350109577178955,
          -1.129462480545044,
          -11.418970108032227,
          0.9801735281944275,
          -12.1229248046875,
          -8.09027099609375,
          8.017807960510254,
          17.245525360107422,
          -2.962578058242798,
          -11.3629150390625,
          3.7794740200042725,
          0.9153178930282593,
          -11.216960906982422,
          -14.145505905151367,
          -6.718081951141357,
          -12.519305229187012,
          14.443679809570312,
          15.787211418151855,
          -1.1988863945007324,
          -9.346564292907715,
          6.515158176422119,
          0.13191436231136322,
          16.501251220703125,
          -10.829177856445312,
          -6.355467796325684
         ]
        }
       ],
       "layout": {
        "coloraxis": {
         "colorbar": {
          "title": {
           "text": "Label"
          }
         },
         "colorscale": [
          [
           0,
           "#0d0887"
          ],
          [
           0.1111111111111111,
           "#46039f"
          ],
          [
           0.2222222222222222,
           "#7201a8"
          ],
          [
           0.3333333333333333,
           "#9c179e"
          ],
          [
           0.4444444444444444,
           "#bd3786"
          ],
          [
           0.5555555555555556,
           "#d8576b"
          ],
          [
           0.6666666666666666,
           "#ed7953"
          ],
          [
           0.7777777777777778,
           "#fb9f3a"
          ],
          [
           0.8888888888888888,
           "#fdca26"
          ],
          [
           1,
           "#f0f921"
          ]
         ]
        },
        "height": 800,
        "legend": {
         "tracegroupgap": 0
        },
        "scene": {
         "domain": {
          "x": [
           0,
           1
          ],
          "y": [
           0,
           1
          ]
         },
         "xaxis": {
          "title": {
           "text": "0"
          }
         },
         "yaxis": {
          "title": {
           "text": "1"
          }
         },
         "zaxis": {
          "title": {
           "text": "2"
          }
         }
        },
        "template": {
         "data": {
          "bar": [
           {
            "error_x": {
             "color": "#2a3f5f"
            },
            "error_y": {
             "color": "#2a3f5f"
            },
            "marker": {
             "line": {
              "color": "#E5ECF6",
              "width": 0.5
             }
            },
            "type": "bar"
           }
          ],
          "barpolar": [
           {
            "marker": {
             "line": {
              "color": "#E5ECF6",
              "width": 0.5
             }
            },
            "type": "barpolar"
           }
          ],
          "carpet": [
           {
            "aaxis": {
             "endlinecolor": "#2a3f5f",
             "gridcolor": "white",
             "linecolor": "white",
             "minorgridcolor": "white",
             "startlinecolor": "#2a3f5f"
            },
            "baxis": {
             "endlinecolor": "#2a3f5f",
             "gridcolor": "white",
             "linecolor": "white",
             "minorgridcolor": "white",
             "startlinecolor": "#2a3f5f"
            },
            "type": "carpet"
           }
          ],
          "choropleth": [
           {
            "colorbar": {
             "outlinewidth": 0,
             "ticks": ""
            },
            "type": "choropleth"
           }
          ],
          "contour": [
           {
            "colorbar": {
             "outlinewidth": 0,
             "ticks": ""
            },
            "colorscale": [
             [
              0,
              "#0d0887"
             ],
             [
              0.1111111111111111,
              "#46039f"
             ],
             [
              0.2222222222222222,
              "#7201a8"
             ],
             [
              0.3333333333333333,
              "#9c179e"
             ],
             [
              0.4444444444444444,
              "#bd3786"
             ],
             [
              0.5555555555555556,
              "#d8576b"
             ],
             [
              0.6666666666666666,
              "#ed7953"
             ],
             [
              0.7777777777777778,
              "#fb9f3a"
             ],
             [
              0.8888888888888888,
              "#fdca26"
             ],
             [
              1,
              "#f0f921"
             ]
            ],
            "type": "contour"
           }
          ],
          "contourcarpet": [
           {
            "colorbar": {
             "outlinewidth": 0,
             "ticks": ""
            },
            "type": "contourcarpet"
           }
          ],
          "heatmap": [
           {
            "colorbar": {
             "outlinewidth": 0,
             "ticks": ""
            },
            "colorscale": [
             [
              0,
              "#0d0887"
             ],
             [
              0.1111111111111111,
              "#46039f"
             ],
             [
              0.2222222222222222,
              "#7201a8"
             ],
             [
              0.3333333333333333,
              "#9c179e"
             ],
             [
              0.4444444444444444,
              "#bd3786"
             ],
             [
              0.5555555555555556,
              "#d8576b"
             ],
             [
              0.6666666666666666,
              "#ed7953"
             ],
             [
              0.7777777777777778,
              "#fb9f3a"
             ],
             [
              0.8888888888888888,
              "#fdca26"
             ],
             [
              1,
              "#f0f921"
             ]
            ],
            "type": "heatmap"
           }
          ],
          "heatmapgl": [
           {
            "colorbar": {
             "outlinewidth": 0,
             "ticks": ""
            },
            "colorscale": [
             [
              0,
              "#0d0887"
             ],
             [
              0.1111111111111111,
              "#46039f"
             ],
             [
              0.2222222222222222,
              "#7201a8"
             ],
             [
              0.3333333333333333,
              "#9c179e"
             ],
             [
              0.4444444444444444,
              "#bd3786"
             ],
             [
              0.5555555555555556,
              "#d8576b"
             ],
             [
              0.6666666666666666,
              "#ed7953"
             ],
             [
              0.7777777777777778,
              "#fb9f3a"
             ],
             [
              0.8888888888888888,
              "#fdca26"
             ],
             [
              1,
              "#f0f921"
             ]
            ],
            "type": "heatmapgl"
           }
          ],
          "histogram": [
           {
            "marker": {
             "colorbar": {
              "outlinewidth": 0,
              "ticks": ""
             }
            },
            "type": "histogram"
           }
          ],
          "histogram2d": [
           {
            "colorbar": {
             "outlinewidth": 0,
             "ticks": ""
            },
            "colorscale": [
             [
              0,
              "#0d0887"
             ],
             [
              0.1111111111111111,
              "#46039f"
             ],
             [
              0.2222222222222222,
              "#7201a8"
             ],
             [
              0.3333333333333333,
              "#9c179e"
             ],
             [
              0.4444444444444444,
              "#bd3786"
             ],
             [
              0.5555555555555556,
              "#d8576b"
             ],
             [
              0.6666666666666666,
              "#ed7953"
             ],
             [
              0.7777777777777778,
              "#fb9f3a"
             ],
             [
              0.8888888888888888,
              "#fdca26"
             ],
             [
              1,
              "#f0f921"
             ]
            ],
            "type": "histogram2d"
           }
          ],
          "histogram2dcontour": [
           {
            "colorbar": {
             "outlinewidth": 0,
             "ticks": ""
            },
            "colorscale": [
             [
              0,
              "#0d0887"
             ],
             [
              0.1111111111111111,
              "#46039f"
             ],
             [
              0.2222222222222222,
              "#7201a8"
             ],
             [
              0.3333333333333333,
              "#9c179e"
             ],
             [
              0.4444444444444444,
              "#bd3786"
             ],
             [
              0.5555555555555556,
              "#d8576b"
             ],
             [
              0.6666666666666666,
              "#ed7953"
             ],
             [
              0.7777777777777778,
              "#fb9f3a"
             ],
             [
              0.8888888888888888,
              "#fdca26"
             ],
             [
              1,
              "#f0f921"
             ]
            ],
            "type": "histogram2dcontour"
           }
          ],
          "mesh3d": [
           {
            "colorbar": {
             "outlinewidth": 0,
             "ticks": ""
            },
            "type": "mesh3d"
           }
          ],
          "parcoords": [
           {
            "line": {
             "colorbar": {
              "outlinewidth": 0,
              "ticks": ""
             }
            },
            "type": "parcoords"
           }
          ],
          "pie": [
           {
            "automargin": true,
            "type": "pie"
           }
          ],
          "scatter": [
           {
            "marker": {
             "colorbar": {
              "outlinewidth": 0,
              "ticks": ""
             }
            },
            "type": "scatter"
           }
          ],
          "scatter3d": [
           {
            "line": {
             "colorbar": {
              "outlinewidth": 0,
              "ticks": ""
             }
            },
            "marker": {
             "colorbar": {
              "outlinewidth": 0,
              "ticks": ""
             }
            },
            "type": "scatter3d"
           }
          ],
          "scattercarpet": [
           {
            "marker": {
             "colorbar": {
              "outlinewidth": 0,
              "ticks": ""
             }
            },
            "type": "scattercarpet"
           }
          ],
          "scattergeo": [
           {
            "marker": {
             "colorbar": {
              "outlinewidth": 0,
              "ticks": ""
             }
            },
            "type": "scattergeo"
           }
          ],
          "scattergl": [
           {
            "marker": {
             "colorbar": {
              "outlinewidth": 0,
              "ticks": ""
             }
            },
            "type": "scattergl"
           }
          ],
          "scattermapbox": [
           {
            "marker": {
             "colorbar": {
              "outlinewidth": 0,
              "ticks": ""
             }
            },
            "type": "scattermapbox"
           }
          ],
          "scatterpolar": [
           {
            "marker": {
             "colorbar": {
              "outlinewidth": 0,
              "ticks": ""
             }
            },
            "type": "scatterpolar"
           }
          ],
          "scatterpolargl": [
           {
            "marker": {
             "colorbar": {
              "outlinewidth": 0,
              "ticks": ""
             }
            },
            "type": "scatterpolargl"
           }
          ],
          "scatterternary": [
           {
            "marker": {
             "colorbar": {
              "outlinewidth": 0,
              "ticks": ""
             }
            },
            "type": "scatterternary"
           }
          ],
          "surface": [
           {
            "colorbar": {
             "outlinewidth": 0,
             "ticks": ""
            },
            "colorscale": [
             [
              0,
              "#0d0887"
             ],
             [
              0.1111111111111111,
              "#46039f"
             ],
             [
              0.2222222222222222,
              "#7201a8"
             ],
             [
              0.3333333333333333,
              "#9c179e"
             ],
             [
              0.4444444444444444,
              "#bd3786"
             ],
             [
              0.5555555555555556,
              "#d8576b"
             ],
             [
              0.6666666666666666,
              "#ed7953"
             ],
             [
              0.7777777777777778,
              "#fb9f3a"
             ],
             [
              0.8888888888888888,
              "#fdca26"
             ],
             [
              1,
              "#f0f921"
             ]
            ],
            "type": "surface"
           }
          ],
          "table": [
           {
            "cells": {
             "fill": {
              "color": "#EBF0F8"
             },
             "line": {
              "color": "white"
             }
            },
            "header": {
             "fill": {
              "color": "#C8D4E3"
             },
             "line": {
              "color": "white"
             }
            },
            "type": "table"
           }
          ]
         },
         "layout": {
          "annotationdefaults": {
           "arrowcolor": "#2a3f5f",
           "arrowhead": 0,
           "arrowwidth": 1
          },
          "coloraxis": {
           "colorbar": {
            "outlinewidth": 0,
            "ticks": ""
           }
          },
          "colorscale": {
           "diverging": [
            [
             0,
             "#8e0152"
            ],
            [
             0.1,
             "#c51b7d"
            ],
            [
             0.2,
             "#de77ae"
            ],
            [
             0.3,
             "#f1b6da"
            ],
            [
             0.4,
             "#fde0ef"
            ],
            [
             0.5,
             "#f7f7f7"
            ],
            [
             0.6,
             "#e6f5d0"
            ],
            [
             0.7,
             "#b8e186"
            ],
            [
             0.8,
             "#7fbc41"
            ],
            [
             0.9,
             "#4d9221"
            ],
            [
             1,
             "#276419"
            ]
           ],
           "sequential": [
            [
             0,
             "#0d0887"
            ],
            [
             0.1111111111111111,
             "#46039f"
            ],
            [
             0.2222222222222222,
             "#7201a8"
            ],
            [
             0.3333333333333333,
             "#9c179e"
            ],
            [
             0.4444444444444444,
             "#bd3786"
            ],
            [
             0.5555555555555556,
             "#d8576b"
            ],
            [
             0.6666666666666666,
             "#ed7953"
            ],
            [
             0.7777777777777778,
             "#fb9f3a"
            ],
            [
             0.8888888888888888,
             "#fdca26"
            ],
            [
             1,
             "#f0f921"
            ]
           ],
           "sequentialminus": [
            [
             0,
             "#0d0887"
            ],
            [
             0.1111111111111111,
             "#46039f"
            ],
            [
             0.2222222222222222,
             "#7201a8"
            ],
            [
             0.3333333333333333,
             "#9c179e"
            ],
            [
             0.4444444444444444,
             "#bd3786"
            ],
            [
             0.5555555555555556,
             "#d8576b"
            ],
            [
             0.6666666666666666,
             "#ed7953"
            ],
            [
             0.7777777777777778,
             "#fb9f3a"
            ],
            [
             0.8888888888888888,
             "#fdca26"
            ],
            [
             1,
             "#f0f921"
            ]
           ]
          },
          "colorway": [
           "#636efa",
           "#EF553B",
           "#00cc96",
           "#ab63fa",
           "#FFA15A",
           "#19d3f3",
           "#FF6692",
           "#B6E880",
           "#FF97FF",
           "#FECB52"
          ],
          "font": {
           "color": "#2a3f5f"
          },
          "geo": {
           "bgcolor": "white",
           "lakecolor": "white",
           "landcolor": "#E5ECF6",
           "showlakes": true,
           "showland": true,
           "subunitcolor": "white"
          },
          "hoverlabel": {
           "align": "left"
          },
          "hovermode": "closest",
          "mapbox": {
           "style": "light"
          },
          "paper_bgcolor": "white",
          "plot_bgcolor": "#E5ECF6",
          "polar": {
           "angularaxis": {
            "gridcolor": "white",
            "linecolor": "white",
            "ticks": ""
           },
           "bgcolor": "#E5ECF6",
           "radialaxis": {
            "gridcolor": "white",
            "linecolor": "white",
            "ticks": ""
           }
          },
          "scene": {
           "xaxis": {
            "backgroundcolor": "#E5ECF6",
            "gridcolor": "white",
            "gridwidth": 2,
            "linecolor": "white",
            "showbackground": true,
            "ticks": "",
            "zerolinecolor": "white"
           },
           "yaxis": {
            "backgroundcolor": "#E5ECF6",
            "gridcolor": "white",
            "gridwidth": 2,
            "linecolor": "white",
            "showbackground": true,
            "ticks": "",
            "zerolinecolor": "white"
           },
           "zaxis": {
            "backgroundcolor": "#E5ECF6",
            "gridcolor": "white",
            "gridwidth": 2,
            "linecolor": "white",
            "showbackground": true,
            "ticks": "",
            "zerolinecolor": "white"
           }
          },
          "shapedefaults": {
           "line": {
            "color": "#2a3f5f"
           }
          },
          "ternary": {
           "aaxis": {
            "gridcolor": "white",
            "linecolor": "white",
            "ticks": ""
           },
           "baxis": {
            "gridcolor": "white",
            "linecolor": "white",
            "ticks": ""
           },
           "bgcolor": "#E5ECF6",
           "caxis": {
            "gridcolor": "white",
            "linecolor": "white",
            "ticks": ""
           }
          },
          "title": {
           "x": 0.05
          },
          "xaxis": {
           "automargin": true,
           "gridcolor": "white",
           "linecolor": "white",
           "ticks": "",
           "title": {
            "standoff": 15
           },
           "zerolinecolor": "white",
           "zerolinewidth": 2
          },
          "yaxis": {
           "automargin": true,
           "gridcolor": "white",
           "linecolor": "white",
           "ticks": "",
           "title": {
            "standoff": 15
           },
           "zerolinecolor": "white",
           "zerolinewidth": 2
          }
         }
        },
        "title": {
         "text": "3d TSNE Plot for Outliers"
        },
        "width": 900
       }
      },
      "text/html": [
       "<div>\n",
       "        \n",
       "        \n",
       "            <div id=\"f6beb812-6838-46bb-8644-3392e7ea5cd4\" class=\"plotly-graph-div\" style=\"height:800px; width:900px;\"></div>\n",
       "            <script type=\"text/javascript\">\n",
       "                require([\"plotly\"], function(Plotly) {\n",
       "                    window.PLOTLYENV=window.PLOTLYENV || {};\n",
       "                    \n",
       "                if (document.getElementById(\"f6beb812-6838-46bb-8644-3392e7ea5cd4\")) {\n",
       "                    Plotly.newPlot(\n",
       "                        'f6beb812-6838-46bb-8644-3392e7ea5cd4',\n",
       "                        [{\"customdata\": [[0.263995357], [0.546092303], [0.33671410399999996], [0.092107835], [0.325261175], [0.212464853], [0.258565714], [0.869236755], [0.197077957], [0.292984504], [0.82178316], [0.796622959], [0.045577010999999994], [0.613660351], [0.9507445659999999], [0.33634633700000005], [0.034440667], [0.741544275], [0.18443265], [0.664514943], [0.16282485800000002], [0.729838445], [0.62837389], [0.057883660999999996], [0.445534827], [0.80183695], [0.27709612], [0.228634015], [0.834860657], [0.6697665110000001], [0.532527349], [0.17045907100000002], [0.5102884679999999], [0.977561989], [0.249775993], [0.9755006820000001], [0.613701727], [0.16742036300000002], [0.537472516], [0.379899131], [0.633897303], [0.633960424], [0.5499746529999999], [0.178172988], [0.85563814], [0.321796672], [0.8174905370000001], [0.254879417], [0.344140513], [0.8061457259999999], [0.27708167100000003], [0.544328519], [0.07708393], [0.273081458], [0.390877336], [0.349621385], [0.214549744], [0.206075222], [0.86461997], [0.9817088540000001], [0.33482964600000004], [0.648387061], [0.093643561], [0.837802698], [0.7603439670000001], [0.29140417399999996], [0.3413454], [0.7611124840000001], [0.541899775], [0.684176639], [0.983535597], [0.52081245], [0.328227724], [0.09715793800000001], [0.876088593], [0.870214512], [0.656086992], [0.306791514], [0.48126734], [0.259559174], [0.326123655], [0.930568042], [0.6583894], [0.689992335], [0.315781109], [0.5669050929999999], [0.637526619], [0.687540723], [0.324300602], [0.592704906], [0.7402531259999999], [0.5940328770000001], [0.596452977], [0.27768081699999997], [0.258329663], [0.142460864], [0.435533461], [0.7024990440000001], [0.58897535], [0.653304374], [0.336968524], [0.631244736], [0.73530076], [0.050390366], [0.064264924], [0.665359476], [0.917835245], [0.44651012], [0.661938199], [0.43935985299999997], [0.6875724040000001], [0.363462248], [0.6542621820000001], [0.578553536], [0.065927945], [0.550148559], [0.13918281400000002], [0.080004635], [0.278228358], [0.560124266], [0.53639864], [0.42653190399999996], [0.789109796], [0.742900474], [0.901692589], [0.650337401], [0.114057311], [0.260812592], [0.43991232], [0.964409284], [0.184401415], [0.345145446], [0.17589458100000002], [0.312514453], [0.674131879], [0.32825045], [0.598231057], [0.09259881699999999], [0.497916521], [0.419776521], [0.31217670000000003], [0.937857107], [0.049030963], [0.47610452600000003], [0.447397526], [0.295806058], [0.737363977], [0.625896253], [0.408813429], [0.437511156], [0.691351375], [0.935555275], [0.437846654], [0.072217715], [0.67636067], [0.468883999], [0.543820644], [0.6555226470000001], [0.6935289240000001], [0.10887831199999999], [0.285463743], [0.0], [0.706495497], [0.273530633], [0.292320271], [0.673984307], [0.12612182800000002], [0.9467074590000001], [0.9363388979999999], [0.8537553640000001], [0.7060713609999999], [0.693682186], [0.508527882], [0.34717038899999997], [0.704154263], [0.658730088], [0.155841557], [0.311085435], [0.281135347], [0.094587802], [0.6832609540000001], [0.9077292509999999], [0.29151267399999997], [0.752734459], [0.93482964], [0.071413953], [0.5948963270000001], [0.404672015], [0.13837621], [0.7473384679999999], [0.530882486], [0.282649594], [0.699335734], [0.056111250999999994], [0.855234998], [0.07789512700000001], [0.891649583], [0.38674227899999997], [0.27113158], [0.958888961], [0.085120869], [0.5269022489999999], [0.066577785], [0.841506738], [0.255342095], [0.060545771], [0.073385869], [0.187493723], [0.858365688], [0.090640352], [0.7097252270000001], [0.631300647], [0.24750447399999997], [0.822843584], [0.373476759], [0.625538582], [0.292951715], [0.299730324], [0.25121407], [0.344480551], [0.293064767], [0.7628032240000001], [0.7384708040000001], [0.674883265], [0.719151612], [0.13098021599999998], [0.511328036], [0.04492903], [0.560914449], [0.7440406409999999], [0.266961634], [0.644231853], [0.038113352], [0.05715529900000001], [0.34139246100000004], [0.7204636320000001], [0.402878236], [0.635148967], [0.320729467], [0.09120969400000001], [0.23414609], [0.8902211309999999], [0.602170884], [0.633652055], [0.806240837], [0.739731184], [0.465231269], [0.7321109], [0.373874305], [0.501587947], [0.11538315800000001], [0.7319466040000001], [0.41829872799999995], [0.062259590999999996], [0.391496379], [0.35984929], [0.24523562699999998], [0.610028339], [0.43540360200000006], [0.434309675], [0.523763344], [0.17118786600000002], [0.18773430300000002], [0.945014638], [0.027851097000000002], [0.68445706], [0.178014532], [0.643427879], [0.59588355], [0.372361682], [0.586103584], [0.271658852], [0.59951107], [0.468363088], [0.314515565], [0.21893726], [0.254716562], [0.25612815], [0.602259755], [0.134381075], [0.513887424], [0.624241636], [0.160251854], [0.580708108], [0.270540486], [0.832919932], [0.93032134], [0.719157884], [0.886720033], [0.098792281], [0.787174286], [0.365592376], [0.719576193], [0.8058956], [0.7555783340000001], [0.526005909], [0.68880424], [0.22111531199999998], [0.739369477], [0.408440236], [0.348926542], [0.433713763], [0.5964966070000001], [0.6942953000000001], [0.7090309659999999], [0.867652984], [0.89332545], [0.746020922], [0.538284443], [0.8922193140000001], [0.935175765], [0.260527707], [0.956780449], [0.204932484], [0.687733351], [0.329063619], [0.632149831], [0.463744506], [0.698859621], [0.385446564], [0.47997537700000004], [0.732279108], [0.3813543], [0.459326013], [0.257401434], [0.665014804], [0.103399542], [0.425284413], [0.943529051], [0.594750236], [0.543776817], [0.18203988], [0.23584208399999998], [0.585984497], [0.762013168], [0.6849829070000001], [0.676936933], [0.290184964], [0.48106822200000005], [0.492766033], [0.22185623399999999], [0.053875998], [0.082751144], [0.385366225], [0.702513961], [0.91553156], [0.082087436], [0.251280378], [0.41672181700000005], [0.277032672], [0.579539754], [0.569363476], [0.133399703], [0.265045463], [0.936571901], [0.252618554], [0.054033081], [0.802481439], [0.528197693], [0.9515026], [0.572121173], [0.752938227], [0.143857535], [0.513484576], [0.313322389], [0.6877973959999999], [0.37705984], [0.348226142], [0.67763282], [0.24138752100000002], [0.8506501790000001], [0.22034810300000002], [0.476445464], [0.690324025], [0.364695946], [0.6492491970000001], [0.9437019209999999], [0.529645971], [0.299097002], [0.96696247], [0.272005242], [0.314161447], [0.752020991], [0.221882453], [0.7203326729999999], [0.379204782], [0.60168653], [0.582932673], [0.950809853], [0.58830141], [0.880887227], [0.467857701], [0.8799021709999999], [0.619844009], [0.359002573], [0.291511278], [0.694157143], [0.727960353], [0.617703921], [0.39581257], [0.58317282], [0.710332374], [0.253753693], [0.049412227999999996], [0.728378695], [0.432432881], [0.58612345], [0.052342373], [0.053483902], [0.518729378], [0.933040208], [0.7035542840000001], [0.268989899], [0.733006927], [0.44435246700000003], [0.5833946210000001], [0.871172692], [0.42876707799999997], [0.30046084100000003], [0.9533294590000001], [0.606443965], [0.90986815], [0.714896449], [0.49734950899999997], [0.8530974859999999], [0.721804145], [0.303467328], [0.664485096], [0.27978062], [0.569481665], [0.628628926], [0.088368123], [0.733567326], [0.537436778], [0.638593691], [0.954726948], [0.632202332], [0.642134651], [0.744653087], [0.115714007], [0.48625007299999995], [0.440356144], [0.08272289], [0.511591027], [0.394627555], [0.224394], [0.626927584], [0.290254057], [0.779008053], [0.86610579], [0.873326081], [0.49548916], [0.594297695], [0.9182015840000001], [0.5770427539999999], [0.019467671000000002], [0.6702982820000001], [0.546595316], [0.591665146], [0.42155819], [0.6856085590000001], [0.340303024], [0.675626741], [0.319067345], [0.38849966399999997], [0.706949589], [0.559409515], [0.687663508], [0.7088045540000001], [0.6818880940000001], [0.42253510899999996], [0.320004605], [0.6582813679999999], [0.634154867], [0.7773320090000001], [0.812677205], [0.074280797], [0.39600217], [0.054933913], [0.825058925], [0.382642009], [0.8687298179999999], [0.588043346], [0.891551577], [0.10920046], [0.647682781], [0.724342512], [0.07016304400000001], [0.280882054], [0.039113261], [0.579641592], [0.639000922], [0.281745925], [0.647857744], [0.6479057970000001], [0.875226264], [0.567603305], [0.262940591], [0.268026042], [0.40519133], [0.479965451], [0.33552403], [0.777165379], [0.42548796299999997], [0.237986115], [0.142522971], [0.724176488], [0.234698933], [0.07818228099999999], [0.855990155], [0.270251765], [0.435517841], [0.762697513], [0.46448725799999996], [0.396112685], [0.37638092100000003], [0.29459467699999997], [0.6944921209999999], [0.622767949], [0.8475597220000001], [0.301463054], [0.912937812], [0.500017182], [0.902587935], [0.304517943], [0.299165673], [0.092014087], [0.488548917], [0.664664437], [0.26534954899999996], [0.723657021], [0.149262385], [0.04577339], [0.69661064], [0.42181486], [0.733845785], [0.418795386], [0.677443529], [0.26128360300000003], [0.268527767], [0.5443222360000001], [0.431632036], [0.981018141], [0.21498072399999998], [0.39472999299999995], [0.122224944], [0.297496875], [0.37490443100000004], [0.68698771], [0.388549207], [0.039296071], [0.73553424], [0.37929489299999997], [0.7321233859999999], [0.33922143899999996], [0.659450594], [0.054838642], [0.640112102], [0.30714170399999996], [0.39661190700000004], [0.420439161], [0.24171497399999997], [0.065893153], [0.9105219370000001], [0.697163103], [0.072559853], [0.81825094], [0.311888815], [0.961644609], [0.816325524], [0.14647302], [0.548753945], [0.946158087], [0.293992717], [0.331479643], [0.9062200309999999], [0.525540416], [0.83301411], [0.514849806], [0.574609024], [0.46871185299999996], [0.71002775], [0.645973276], [0.229794416], [0.551783393], [0.055822990999999995], [0.331750941], [0.715520198], [0.583924357], [0.30695769100000003], [0.7914782370000001], [0.16423663900000002], [0.065711219], [0.948993132], [0.080423835], [0.052495426], [0.566346135], [0.3630266], [0.605442195], [0.6308505839999999], [0.065791238], [0.28681707100000003], [0.685462839], [0.260853706], [0.659122429], [0.44317392200000005], [0.602063986], [0.060366910999999995], [0.781903153], [0.5145798070000001], [0.48388621299999995], [0.600213807], [0.49736405200000006], [0.411145245], [0.116999171], [0.34189014100000004], [0.746950848], [0.39629274600000003], [0.6221438429999999], [0.335271141], [0.140257137], [0.081620681], [0.069837569], [0.46894000799999996], [0.9908574170000001], [0.896616832], [0.255310561], [0.22464526699999998], [0.01991825], [0.296480415], [0.155458996], [0.577916714], [0.9563030309999999], [0.813464394], [0.529675785], [0.287671353], [0.48039136], [0.28104482199999997], [0.633196521], [0.09332537699999999], [0.28447398100000004], [0.052223775], [0.051129385], [0.967405608], [0.040045727999999996], [0.9085829209999999], [0.6621174160000001], [0.42470320899999997], [0.72207806], [0.666193327], [0.509681253], [0.7513536209999999], [0.279073124], [0.074927], [0.916359535], [0.31040327], [0.716604052], [0.485587085], [0.30607518100000003], [0.477558204], [0.7119239409999999], [0.066348638], [0.27453935100000004], [0.31082252], [0.47607312700000004], [0.186795565], [0.26654207], [0.070231142], [0.26951927], [0.800004713], [0.27363366699999997], [0.14647919199999998], [0.378318951], [0.373849065], [0.242170835], [0.249796488], [0.066591188], [0.372956798], [0.501812291], [0.313097752], [0.8802021959999999], [0.51981893], [0.364138746], [0.49268289600000004], [0.285732652], [0.890114985], [0.316419561], [0.26866354], [0.771975959], [0.968888992], [0.080334377], [0.7368282209999999], [0.30055807100000004], [0.9179503929999999], [0.465815039], [0.054036682], [0.963150123], [0.08965350300000001], [0.7076932340000001], [0.636416037], [0.539521117], [0.114757161], [0.357312419], [0.67639834], [0.43482839], [0.032326387000000005], [0.711365605], [0.187486519], [0.052789653], [0.5058636129999999], [0.927431873], [0.6809842559999999], [0.882822186], [0.495705441], [0.596240398], [0.320610701], [0.3413685], [0.159681797], [0.318133669], [0.8393010479999999], [0.06435925099999999], [0.470216633], [0.7762522909999999], [0.635843383], [0.62510543], [0.52959065], [0.986900166], [0.078585688], [0.233284267], [0.363330957], [0.7167169809999999], [0.37588979200000006], [0.223316889], [0.299343986], [0.538595767], [0.730297124], [0.66033077], [0.435296009], [0.326494313], [0.854402708], [0.5734938470000001], [0.757786135], [0.704743233], [0.281575597], [0.671968208], [0.313726015], [0.364338275], [0.368216396], [0.38629520700000003], [0.655971865], [0.5660252729999999], [0.424999093], [0.090110371], [0.772350538], [0.331047258], [0.273716188], [0.23877568], [0.37307977200000003], [0.331185868], [0.256134531], [0.678373225], [0.43463833799999996], [0.654668307], [0.986681065], [0.371520495], [0.408359618], [0.40932365], [0.283412082], [0.395246531], [0.010984428000000001], [0.306013869], [0.266194806], [0.299318521], [0.318293946], [0.74282591], [0.09766432900000001], [0.079666942], [0.613258767], [0.99443072], [0.568835082], [0.7080345159999999], [0.37059271899999996], [0.669867361], [0.651295625], [0.462531569], [0.7196256190000001], [0.45377248], [0.394863946], [0.323974831], [0.146454724], [0.7790670409999999], [0.401828915], [0.601479585], [0.856423023], [0.565242962], [0.301225108], [0.282108144], [0.594378011], [0.705312368], [0.5408696279999999], [0.319249574], [0.36176613799999996], [0.625000704], [0.316287401], [0.047239021], [0.801182233], [0.508474436], [0.8178934109999999], [0.399235601], [0.9740519990000001], [0.72241535], [0.039564764], [0.908684108], [0.47301013399999997], [0.7180496279999999], [0.7634790690000001], [0.6475965370000001], [0.8949973859999999], [0.22282590100000002], [0.359012234], [0.944910252], [0.297877816], [0.172517997], [0.556586265], [0.876481735], [0.48667784299999994], [0.459496733], [0.47412637700000004], [0.70101144], [0.337597387], [0.537578886], [0.966992448], [0.056849545], [0.233249065], [0.380054711], [0.602929443], [0.303847999], [0.170194553], [0.972168554], [0.332168927], [0.6887286890000001], [0.110773401], [0.273352065], [0.572939678], [0.491457065], [0.281389999], [0.821697261], [0.6749776829999999], [0.585134549], [0.7105961159999999], [0.040488789], [0.568054311], [0.321752928], [0.611850232], [0.926096887], [0.618347428], [0.667629785], [0.39773346600000004], [0.290875487], [0.594375103], [0.508255233], [0.338571357], [0.43230234700000003], [0.302221978], [0.87619819], [0.080204492], [0.092333532], [0.09365644699999999], [0.6084523510000001], [0.732654598], [0.944158855], [0.26742308], [0.731124201], [0.661308553], [0.38776626200000003], [0.962585273], [0.322067067], [0.6340810929999999], [0.475345002], [0.35355897299999994], [0.8859363159999999], [0.876798106], [0.221581064], [0.394362449], [0.8050356759999999], [0.452898486], [0.592520516], [0.761026394], [0.245049023], [0.37213936299999995], [0.681054822], [0.7471431479999999], [0.9207395290000001], [0.097207945], [0.699302998], [0.721647006], [0.5353561139999999], [0.738293805], [0.7064675509999999], [0.67395061], [0.7112122909999999], [0.302558708], [0.080097855], [0.707010837], [0.512248622], [0.659627472], [0.657559694], [0.100645606], [0.92665363], [0.892879338], [0.839157508], [0.890959718], [0.556754471], [0.960361937], [0.631037864], [0.029838065], [0.278843351], [0.926157705], [0.551504258], [0.485942349], [0.43723469600000003], [0.25231801800000003], [0.515466972], [0.43725229600000004], [0.493724207], [0.83324725], [0.317521477], [0.28623456199999997], [0.726833965], [0.495667033], [0.028645255], [0.31967191699999997], [0.674344598], [0.7660371890000001], [0.65456992], [0.7565143809999999], [0.528253719], [0.38971949100000003], [0.355087459], [0.87015202], [0.7390833059999999], [0.305761846], [0.411587673], [0.063633094], [0.735409395], [0.605916669], [0.539395562], [0.566183532], [0.674795186], [0.070993366], [0.12526410000000002], [0.279601492], [0.952174402], [0.233806762], [0.43724742899999997], [0.925423095], [0.433498634], [0.52517902], [0.088435529], [0.447677638], [0.647000631], [0.9036033370000001], [0.265790738], [0.66419695], [0.498120658], [0.49018894399999996], [0.747084187], [0.906783648], [0.678770917], [0.348599859], [0.294839683], [0.705691827], [0.211917931], [0.063201124], [0.276699543], [0.672459395], [0.8082059490000001], [0.296538373], [0.16012686199999998], [0.439385032], [0.555951416], [0.386240112], [0.158689619], [0.214499855], [0.299579429], [0.569161656], [0.488614799], [0.8782950209999999], [0.649380949], [0.465713341], [0.16813774], [0.87529545], [0.8411323409999999], [0.33292081], [0.5130478589999999], [0.30505507800000004], [0.8126269909999999], [0.25096706], [0.5024355779999999], [0.45799074100000003]], \"hovertemplate\": \"0=%{x}<br>1=%{y}<br>2=%{z}<br>Feature=%{customdata[0]}<br>Label=%{marker.color}<extra></extra>\", \"legendgroup\": \"\", \"marker\": {\"color\": [0, 0, 1, 1, 0, 0, 0, 1, 1, 0, 0, 1, 0, 1, 1, 0, 0, 0, 1, 0, 1, 0, 0, 1, 1, 1, 0, 0, 1, 0, 0, 0, 0, 1, 1, 1, 0, 0, 0, 0, 0, 0, 0, 1, 0, 0, 0, 1, 0, 0, 0, 1, 0, 1, 0, 1, 0, 0, 0, 1, 0, 0, 0, 1, 0, 0, 1, 0, 0, 1, 0, 0, 0, 0, 0, 0, 0, 0, 0, 0, 0, 0, 0, 0, 0, 0, 0, 0, 0, 0, 0, 0, 0, 0, 0, 0, 0, 0, 0, 0, 0, 0, 0, 0, 0, 0, 0, 0, 0, 0, 0, 0, 0, 0, 0, 0, 0, 0, 0, 0, 0, 0, 0, 0, 0, 0, 0, 0, 0, 0, 1, 0, 0, 0, 0, 0, 1, 0, 0, 0, 0, 0, 0, 0, 0, 0, 0, 0, 0, 0, 0, 0, 0, 0, 0, 0, 0, 0, 0, 0, 0, 0, 0, 0, 0, 0, 0, 0, 0, 0, 0, 0, 0, 0, 0, 0, 0, 0, 0, 0, 0, 0, 0, 0, 0, 0, 0, 0, 0, 0, 0, 0, 0, 0, 0, 0, 0, 0, 0, 0, 0, 0, 0, 0, 0, 0, 0, 0, 0, 0, 0, 0, 0, 0, 0, 0, 0, 0, 0, 0, 0, 0, 0, 0, 0, 0, 0, 0, 0, 1, 0, 0, 0, 0, 0, 0, 0, 0, 0, 0, 0, 0, 0, 0, 0, 0, 0, 0, 0, 0, 0, 0, 0, 0, 0, 0, 0, 0, 0, 0, 0, 0, 0, 0, 0, 0, 0, 0, 0, 0, 0, 0, 0, 0, 0, 0, 0, 0, 0, 0, 0, 0, 0, 0, 0, 0, 0, 0, 0, 0, 0, 0, 0, 0, 0, 0, 0, 0, 0, 0, 0, 0, 0, 0, 0, 0, 0, 0, 0, 0, 0, 0, 0, 0, 0, 0, 0, 0, 0, 0, 0, 0, 0, 0, 0, 0, 0, 0, 0, 0, 0, 0, 0, 0, 0, 0, 0, 0, 0, 0, 0, 0, 0, 0, 0, 0, 0, 0, 0, 0, 0, 0, 0, 0, 0, 0, 0, 0, 0, 0, 0, 0, 0, 0, 0, 0, 0, 0, 0, 0, 0, 0, 0, 0, 0, 0, 0, 0, 0, 0, 0, 0, 0, 0, 0, 0, 0, 0, 0, 0, 0, 0, 0, 0, 0, 0, 0, 0, 0, 0, 0, 0, 0, 0, 0, 0, 0, 0, 0, 0, 0, 0, 0, 0, 0, 0, 0, 0, 0, 0, 0, 0, 0, 0, 0, 0, 0, 0, 0, 0, 0, 0, 0, 0, 0, 0, 0, 0, 0, 0, 0, 0, 0, 0, 0, 0, 0, 0, 0, 0, 0, 0, 0, 0, 0, 0, 0, 0, 0, 0, 0, 0, 0, 0, 0, 0, 0, 0, 0, 0, 0, 0, 0, 0, 0, 0, 0, 0, 0, 0, 0, 0, 0, 0, 0, 0, 0, 0, 0, 0, 0, 0, 0, 0, 0, 0, 0, 0, 0, 0, 0, 0, 0, 0, 0, 0, 0, 0, 0, 0, 0, 0, 0, 0, 0, 0, 0, 0, 0, 0, 0, 0, 0, 0, 0, 0, 0, 0, 0, 0, 0, 0, 0, 0, 0, 0, 0, 0, 0, 0, 0, 0, 0, 0, 0, 0, 0, 0, 0, 0, 0, 0, 0, 0, 0, 0, 0, 0, 0, 0, 0, 0, 0, 0, 0, 0, 0, 0, 0, 0, 0, 0, 0, 0, 0, 0, 0, 0, 0, 0, 0, 0, 0, 0, 0, 0, 0, 0, 0, 0, 0, 0, 0, 0, 0, 0, 0, 0, 0, 0, 0, 0, 1, 0, 0, 0, 0, 0, 0, 0, 0, 0, 0, 0, 0, 0, 0, 0, 0, 0, 0, 0, 0, 0, 0, 0, 0, 0, 0, 0, 0, 0, 0, 0, 0, 0, 0, 0, 0, 0, 0, 0, 0, 0, 0, 0, 0, 0, 0, 0, 0, 0, 0, 0, 0, 0, 0, 0, 0, 0, 0, 0, 0, 0, 0, 0, 0, 0, 0, 0, 0, 0, 0, 0, 0, 0, 0, 0, 0, 0, 0, 0, 0, 0, 0, 0, 0, 0, 0, 0, 0, 0, 0, 0, 0, 0, 0, 0, 0, 0, 1, 0, 1, 1, 0, 0, 0, 1, 1, 0, 1, 0, 1, 1, 0, 0, 1, 1, 1, 0, 1, 0, 1, 1, 1, 0, 0, 0, 1, 0, 0, 0, 0, 0, 0, 0, 0, 0, 0, 0, 0, 0, 0, 1, 0, 0, 0, 0, 0, 0, 0, 0, 0, 0, 0, 0, 0, 0, 0, 0, 0, 0, 0, 0, 0, 0, 0, 0, 0, 0, 0, 0, 0, 0, 0, 0, 0, 0, 0, 0, 0, 0, 0, 0, 0, 0, 0, 0, 0, 0, 0, 0, 0, 0, 0, 0, 0, 0, 0, 1, 0, 0, 0, 0, 0, 0, 0, 0, 0, 0, 0, 0, 0, 0, 0, 0, 0, 0, 0, 0, 0, 0, 0, 0, 0, 0, 0, 0, 0, 0, 0, 0, 0, 0, 0, 0, 0, 0, 0, 0, 0, 0, 0, 0, 0, 0, 0, 0, 0, 0, 0, 0, 0, 0, 0, 0, 1, 0, 0, 0, 0, 0, 0, 0, 0, 0, 0, 0, 0, 0, 0, 0, 0, 0, 0, 0, 0, 0, 0, 0, 0, 0, 0, 0, 0, 0, 0, 0, 0, 0, 0, 1, 0, 0, 0, 0, 0, 0, 0, 0, 0, 0, 0, 0, 0, 0, 0, 0, 0, 0, 0, 0, 0, 0, 0, 0, 0, 0, 0, 0, 0, 0, 0, 0, 0, 0, 0, 0, 0, 0, 0, 0, 0, 0, 0, 0, 0, 0, 0, 0, 0, 0, 0, 0, 0, 0, 0, 0, 0, 0, 0, 0, 0, 0, 0, 0, 0, 0, 0, 0, 0, 0, 0, 0, 0, 0, 0, 0, 0, 0, 0, 0, 0, 0, 0, 0, 0, 0, 0, 0, 0, 0, 0, 0, 0, 0, 0, 0, 0, 0, 0, 0, 0, 0, 0, 0, 0, 0, 0, 1], \"coloraxis\": \"coloraxis\", \"opacity\": 0.7, \"symbol\": \"circle\"}, \"mode\": \"markers\", \"name\": \"\", \"scene\": \"scene\", \"showlegend\": false, \"type\": \"scatter3d\", \"x\": [4.3142008781433105, -9.157944679260254, 11.884007453918457, 6.69675350189209, 17.339218139648438, 0.3019598126411438, -12.842777252197266, 8.040452003479004, 0.6687765717506409, -6.49667501449585, 5.570725440979004, 14.52171516418457, 4.984501838684082, 14.13054084777832, 7.99220085144043, 10.489516258239746, 4.945957660675049, -9.19819450378418, 10.55935287475586, 12.678977966308594, -0.4175620675086975, 3.7118542194366455, 13.939152717590332, 0.016011424362659454, 12.179978370666504, 3.547358512878418, 13.418033599853516, 1.5453627109527588, 15.186500549316406, 10.23029613494873, 1.6414538621902466, -6.969523906707764, 6.3631792068481445, 7.040436267852783, -5.525911331176758, 2.231874704360962, 2.2158639430999756, 1.8718384504318237, 4.707165241241455, 0.773872435092926, -13.28327751159668, 8.745322227478027, -8.49626636505127, 3.9749038219451904, 9.172242164611816, 10.49978256225586, 8.661130905151367, 0.156932070851326, 14.225898742675781, -11.1314115524292, 7.371984481811523, 8.844332695007324, -5.668421745300293, 10.425213813781738, 2.307983636856079, 7.409832000732422, -0.10867469012737274, -7.684347152709961, 7.1621599197387695, 10.265424728393555, -3.853121280670166, -4.595025539398193, 12.482545852661133, 8.521063804626465, -9.248990058898926, 8.787323951721191, -7.411539077758789, -9.534407615661621, 13.832498550415039, 3.105431318283081, 13.78451156616211, 8.467318534851074, 5.881718635559082, 5.718212127685547, -0.5167076587677002, 0.3533470034599304, 13.084325790405273, 10.744853019714355, -1.2227205038070679, -3.301147937774658, -3.1060187816619873, 0.2043403685092926, 14.72160816192627, -4.194660186767578, -10.311405181884766, -5.1604766845703125, -8.58936882019043, -11.35543155670166, -5.764644145965576, 3.5268967151641846, 2.7596592903137207, 5.191061496734619, -7.09863805770874, -13.436829566955566, -7.415894985198975, 13.124396324157715, -6.423543453216553, -4.481926918029785, -9.872245788574219, 13.265615463256836, 6.186990737915039, -11.556589126586914, -4.538331031799316, -7.495121955871582, 12.225532531738281, -5.626100540161133, -4.96084451675415, -6.853132247924805, -1.469765305519104, 10.377323150634766, 2.6304805278778076, 6.444802761077881, 3.0696661472320557, -0.8420391082763672, 14.931254386901855, 0.19094599783420563, -16.018840789794922, -13.66934871673584, 5.908084392547607, -10.424539566040039, -0.45912888646125793, -4.263825416564941, -5.342772006988525, -9.926971435546875, -0.6471065282821655, -7.617038726806641, -7.131812572479248, 6.891885280609131, -9.769145965576172, -6.695637226104736, -5.218217849731445, -6.472923278808594, 8.293561935424805, -10.636363983154297, -12.682255744934082, 0.4914999306201935, 14.668191909790039, 8.892801284790039, -8.139656066894531, -2.0850539207458496, 6.096521854400635, 1.767128825187683, -7.500175476074219, 15.553471565246582, -11.590343475341797, -5.012657642364502, 5.210839748382568, -11.354324340820312, -8.657240867614746, -3.122910976409912, 3.194553852081299, 0.062489498406648636, -3.0109779834747314, -8.64425277709961, 4.156383037567139, -7.251585006713867, -10.585630416870117, -11.692377090454102, 3.2154197692871094, 3.8360378742218018, -14.92163372039795, -7.431481838226318, 2.1354000568389893, -2.627492904663086, 5.301131725311279, -12.342206001281738, 6.7197771072387695, 11.995866775512695, 10.949875831604004, -1.7666816711425781, -5.699541091918945, -3.9750072956085205, 3.9548659324645996, 14.08636474609375, -0.6884375810623169, -11.18625259399414, 3.2259416580200195, 13.123368263244629, -8.257823944091797, 8.807676315307617, -3.1895980834960938, 4.225379943847656, -5.523900985717773, 11.251734733581543, 11.716205596923828, -15.584640502929688, 8.670356750488281, -5.6636528968811035, -3.331879138946533, 0.28204941749572754, -11.500743865966797, 15.982178688049316, 5.719191551208496, 14.45106315612793, -15.125460624694824, -13.450312614440918, -4.307743549346924, -5.588843822479248, 7.401490211486816, -0.5418450832366943, -3.3455984592437744, -2.1632704734802246, -8.49421501159668, 14.968881607055664, 13.09561824798584, -6.8174004554748535, -4.342770099639893, -3.996981143951416, 3.79270601272583, -8.18875789642334, -1.4698500633239746, 9.032254219055176, 12.641439437866211, 1.2705944776535034, -4.199029922485352, -4.169737815856934, -8.297783851623535, 10.334677696228027, 13.04333209991455, -1.3620514869689941, 13.343918800354004, -7.156259536743164, 14.353196144104004, -1.5429480075836182, -14.314183235168457, -3.595148801803589, -8.835134506225586, -3.9907052516937256, -13.292298316955566, 6.585890293121338, -12.80246353149414, -7.370535373687744, 7.8926310539245605, 8.784308433532715, -12.849085807800293, -6.883457660675049, -2.004345178604126, -0.40717369318008423, 7.038330554962158, 12.991057395935059, -4.322733402252197, -3.2808220386505127, 11.557137489318848, -11.00960636138916, 7.669063091278076, -13.652244567871094, -1.7496949434280396, 0.838191032409668, -8.953298568725586, 14.20961856842041, -7.585148811340332, -1.0025485754013062, 8.2029390335083, -7.229816913604736, -5.622116565704346, -0.6271359920501709, 2.854609966278076, -12.380331039428711, 7.0719733238220215, -11.430644035339355, 12.71827507019043, -6.389276027679443, 15.829060554504395, -2.4421396255493164, -6.971088409423828, -10.691803932189941, 9.897059440612793, -14.601325988769531, -1.4794126749038696, -4.253955841064453, -6.125418663024902, -9.508399963378906, 1.511303424835205, 12.146882057189941, 4.474384307861328, -9.85476303100586, 12.563105583190918, 16.03144073486328, -6.957151412963867, -3.3791825771331787, -9.261198997497559, 12.046483039855957, -4.983966827392578, 0.8329291343688965, 14.257009506225586, -7.948487281799316, -8.31301212310791, -7.377181529998779, -12.782767295837402, 7.416660785675049, 2.8205671310424805, -8.080110549926758, -4.755202770233154, -7.750736713409424, -4.2799553871154785, 4.404305934906006, 5.0243239402771, -2.0702741146087646, -3.6949074268341064, 3.146582841873169, -5.532358646392822, -13.358220100402832, 12.24924087524414, 7.99208927154541, 5.23736047744751, 1.7533330917358398, -4.580235481262207, 1.4884042739868164, -12.574865341186523, 11.603607177734375, 10.95528507232666, -12.26623821258545, 4.329719066619873, 12.85176944732666, -6.232763290405273, 4.189525127410889, -1.7201296091079712, -11.65187931060791, 1.4449418783187866, -8.596744537353516, -5.472041606903076, 0.7399353384971619, 8.522348403930664, -4.687614917755127, -1.4087920188903809, 2.5677313804626465, 10.7636079788208, 9.87229061126709, 10.658065795898438, 4.975109577178955, -14.921199798583984, 10.865159034729004, -8.608323097229004, -6.104116916656494, -10.997179985046387, 12.624814987182617, -7.421310901641846, 0.3487599790096283, 8.70553970336914, 10.132750511169434, 1.226219892501831, -5.493528842926025, 5.857204914093018, -9.240991592407227, 8.266478538513184, 12.504724502563477, -10.628602027893066, -14.011762619018555, 6.418320655822754, 10.680536270141602, -0.023467611521482468, 0.8577798008918762, -11.288244247436523, -8.965553283691406, -8.314011573791504, -5.4097371101379395, -5.588343620300293, -6.824244976043701, 12.941729545593262, 2.527822732925415, -7.714635372161865, -5.259855270385742, -0.6644488573074341, -11.204500198364258, 7.526912689208984, 1.8881381750106812, 11.812385559082031, -15.020491600036621, -12.621538162231445, -7.160233497619629, -8.229439735412598, -4.457905292510986, 14.312739372253418, 9.506373405456543, 8.52306079864502, -8.664471626281738, 0.08606860786676407, 5.728283882141113, -8.563589096069336, 1.8222260475158691, 5.007384300231934, -2.4096415042877197, -0.43796780705451965, 5.908907413482666, -7.573371410369873, -5.853057384490967, -4.444723606109619, -3.971757411956787, -0.7227144241333008, 6.067553997039795, -8.623331069946289, -6.385925769805908, 2.295656442642212, -0.5517774224281311, -11.625875473022461, -9.121435165405273, -5.412230491638184, 8.000462532043457, 3.421832799911499, -2.628600835800171, -10.140673637390137, -6.816122531890869, -12.028946876525879, -6.385950565338135, 9.778453826904297, -14.532095909118652, 11.555893898010254, -2.147472620010376, 2.8379533290863037, -4.220853805541992, -9.26777458190918, 0.922073245048523, 14.302213668823242, 1.449157476425171, -8.650288581848145, -7.898777484893799, -10.295560836791992, -10.379190444946289, 9.633813858032227, 12.412938117980957, 6.228603363037109, -5.24093770980835, -7.1517438888549805, -7.0864644050598145, 11.141519546508789, -12.885616302490234, -12.634814262390137, 5.184961795806885, 5.476595878601074, 12.838688850402832, 0.5252455472946167, -14.739970207214355, -4.426600456237793, 6.840545654296875, 13.324148178100586, -3.0673506259918213, -12.114396095275879, 13.968422889709473, -1.2407870292663574, 12.95438289642334, -5.303014755249023, -0.916261613368988, 13.884387969970703, 14.542316436767578, -5.2050604820251465, 3.840184450149536, 12.18539810180664, -9.394704818725586, 12.95140552520752, 4.655651569366455, -7.244630336761475, 14.736000061035156, -9.5374755859375, 1.6057157516479492, 3.7863986492156982, -7.342533588409424, -0.43651965260505676, 14.026310920715332, -0.7397522330284119, 5.776898384094238, -7.780656337738037, 13.055235862731934, -8.40339469909668, -4.4552001953125, -0.11372020840644836, 2.848620891571045, -1.864365816116333, 11.965582847595215, -12.391651153564453, 11.749751091003418, -1.3307254314422607, -13.664261817932129, -8.735376358032227, -0.3792984187602997, -8.151179313659668, -14.808520317077637, -12.682805061340332, 5.237239837646484, 1.5981582403182983, -10.119994163513184, -11.674549102783203, -5.560739040374756, 5.97759485244751, 13.219356536865234, -15.652679443359375, 14.339491844177246, -2.3855996131896973, 6.083571434020996, 1.344548225402832, 14.077255249023438, 0.8810027837753296, 4.136889934539795, 5.183900356292725, 12.910024642944336, 11.668251037597656, 5.413151264190674, -4.424539089202881, 3.515990734100342, -8.165302276611328, 4.3564839363098145, -8.074438095092773, 1.0596078634262085, 2.735415458679199, -5.249665260314941, 5.376966953277588, 13.791138648986816, 0.10764558613300323, -13.469390869140625, 6.57804012298584, 4.631993293762207, 16.26596450805664, -12.229957580566406, -4.5513105392456055, 9.874739646911621, -2.0228796005249023, -10.386247634887695, -8.521575927734375, -0.3225044906139374, -0.04067814350128174, -4.4874467849731445, 6.894571781158447, 13.883550643920898, 7.25533390045166, 10.508626937866211, 12.73752212524414, -16.40169906616211, 5.840008735656738, -13.384173393249512, -0.3888927102088928, 4.173579692840576, -4.382144927978516, 11.35411262512207, 4.473929405212402, -7.95773983001709, 3.2238657474517822, 10.152287483215332, -4.805915355682373, 15.057169914245605, 0.3266131579875946, -4.517983913421631, -1.6393918991088867, 3.8626184463500977, -9.028200149536133, -8.996427536010742, -14.07229232788086, 6.312658786773682, -5.34501314163208, 5.678162574768066, 5.725877285003662, -5.189509868621826, -8.305784225463867, 0.13418301939964294, 13.859062194824219, 3.1806790828704834, -9.343971252441406, -4.710389137268066, 3.5827314853668213, 0.6395995020866394, 10.398444175720215, -0.5815436840057373, 15.014727592468262, 13.445873260498047, -10.057568550109863, 4.19268274307251, -10.418452262878418, -4.294151306152344, -10.45703411102295, 0.6700243353843689, 5.694194793701172, 3.151663064956665, 4.709921360015869, 3.4205117225646973, 8.591758728027344, 10.924681663513184, -7.25581169128418, 12.721248626708984, -10.733054161071777, -12.033055305480957, 1.3445709943771362, 0.16306596994400024, 6.117561340332031, 0.39493998885154724, 9.82458209991455, -10.967747688293457, -12.513447761535645, -4.6600022315979, 4.183136463165283, -6.812471389770508, -14.874951362609863, 11.62185287475586, -6.944248199462891, -10.741480827331543, -1.2727493047714233, 9.307666778564453, -1.3802980184555054, -7.113076210021973, 8.078516960144043, 12.725800514221191, 4.706111907958984, 14.151558876037598, 6.947755813598633, -3.4010422229766846, 4.977447032928467, -13.764702796936035, 3.4931142330169678, -8.242156028747559, 9.970457077026367, 12.523090362548828, -10.306456565856934, -5.445580005645752, 6.730546474456787, 3.1637959480285645, 6.020139217376709, 2.1727242469787598, -4.889399528503418, -10.444540977478027, -3.957796812057495, -6.155887126922607, -1.2746280431747437, 3.836806535720825, -0.0962185338139534, -6.8583760261535645, -7.564773082733154, 0.35472017526626587, 10.321086883544922, 11.018527030944824, -14.997851371765137, 15.75979232788086, -3.1239311695098877, -4.435415267944336, -5.735331058502197, -5.41263484954834, 0.583455502986908, 14.23486614227295, 3.813833236694336, 0.5242124795913696, 3.1972415447235107, -0.5925734043121338, 3.5993335247039795, -1.9259681701660156, 12.934967994689941, -8.05759048461914, -13.324030876159668, 1.4489964246749878, 11.860520362854004, 2.2763168811798096, 11.316792488098145, -0.9486424922943115, 12.65152645111084, 1.5353373289108276, -8.758953094482422, -10.09925651550293, -2.6481173038482666, 7.4376349449157715, -11.387462615966797, -6.98917293548584, 13.930908203125, 0.9532470703125, -3.83874773979187, 10.501864433288574, 12.186946868896484, -6.132603168487549, -0.39888933300971985, 3.604684591293335, 4.743772506713867, -2.0562431812286377, 8.392707824707031, -10.728007316589355, -5.748798847198486, -10.964040756225586, -1.93879234790802, -5.565425395965576, -8.739931106567383, -1.6678212881088257, 3.5627498626708984, -8.703922271728516, -8.222954750061035, 2.8764853477478027, 6.184687614440918, -10.637279510498047, 10.60767650604248, -8.985037803649902, 0.7717886567115784, 3.73445200920105, -11.259580612182617, -11.466780662536621, -5.155581951141357, -13.720830917358398, 5.113531589508057, 12.060266494750977, 12.282877922058105, 9.879830360412598, 13.879485130310059, -1.830243468284607, 4.838923454284668, 3.8754284381866455, 2.413583755493164, -3.4962944984436035, 3.2123172283172607, 8.428345680236816, -5.089606761932373, -9.404491424560547, 14.126420021057129, 15.24127197265625, -3.20896053314209, -7.448995113372803, 6.651389122009277, 9.931021690368652, 0.8017881512641907, 4.571858882904053, 7.490076065063477, -10.907485961914062, -2.457688093185425, 3.553300619125366, -3.2423973083496094, 1.598223328590393, 0.08684414625167847, 10.14825439453125, -3.159634590148926, -5.752000331878662, 10.665337562561035, -16.707012176513672, -1.7516884803771973, 8.747121810913086, 1.6514421701431274, 6.409156799316406, 4.36510705947876, 3.7742433547973633, 8.6102933883667, 1.0271148681640625, -1.776939868927002, 13.796212196350098, -1.4316658973693848, -11.224350929260254, -0.8769015669822693, 4.011244297027588, 0.9342902898788452, -0.5940488576889038, -1.6166539192199707, 7.3989458084106445, -2.0473437309265137, 0.2375774383544922, 0.5715665817260742, 5.702982425689697, 3.454911470413208, -1.8627703189849854, -1.4320926666259766, 3.4057445526123047, 13.87752914428711, 12.644635200500488, -8.557225227355957, 14.144189834594727, -7.425817489624023, -15.121940612792969, -10.222077369689941, 13.48337459564209, -3.350677251815796, -6.406965255737305, 10.32652473449707, -13.696525573730469, 11.482791900634766, -8.780350685119629, -7.218511581420898, -12.24642276763916, 4.256954669952393, -14.894844055175781, -14.622040748596191, 15.446332931518555, -11.670674324035645, 16.65045738220215, -3.1881349086761475, 0.9850254058837891, 0.46566900610923767, -12.585284233093262, 2.1502246856689453, -11.44400691986084, -3.0809645652770996, -4.0585198402404785, 0.6730260848999023, 2.7088077068328857, -0.4332868158817291, -14.752140998840332, -4.362913131713867, 3.003645420074463, 0.321187287569046, 12.387928009033203, -7.475655555725098, 3.568300724029541, -3.4592444896698, -4.054473400115967, 10.002781867980957, -1.338649034500122, 6.704585075378418, 1.719087839126587, -15.461420059204102, -5.94645357131958, -9.287944793701172, 13.174267768859863, -0.15018205344676971, -11.232549667358398, -5.197260856628418, -1.8056379556655884, -0.1174696609377861, -9.043173789978027, 13.502935409545898, -12.126961708068848, -10.443319320678711, -4.764051914215088, 6.109548091888428, -7.489012718200684, 13.745499610900879, 4.943980693817139, 1.1332588195800781, 6.261950492858887, -4.460025787353516, 12.776349067687988, -4.852124214172363, 10.604302406311035, 2.7496674060821533, 6.447658538818359, 4.172181606292725, 12.69391918182373, -2.1781437397003174, -5.0613274574279785, -4.610442161560059, -13.64113998413086, 5.975245952606201, -2.6493279933929443, 2.320523262023926, 11.758663177490234, -4.660895347595215, 2.487736940383911, 12.721020698547363, 5.2923102378845215, 14.376160621643066, 3.3532800674438477, 14.698637962341309, 16.178234100341797, 3.278639078140259, -9.246196746826172, -0.05177732929587364, -7.279280185699463, 6.85713529586792, -7.495192527770996, -12.431168556213379, 3.2372095584869385, -3.4075868129730225, -0.283023864030838, 2.692060947418213, -0.7095650434494019, 3.699591636657715, 5.911630630493164, -9.08896541595459, -0.174118310213089, -0.7070950269699097, -4.512256145477295, -2.9231512546539307, 5.262447834014893, -3.01072359085083, 6.631320953369141, 4.945798873901367, -3.014291763305664, -1.277355670928955, -1.605212926864624, -4.419795989990234, 8.750049591064453, -14.251626968383789, -3.827894926071167, 3.59965443611145, 2.4286036491394043, 5.046230792999268, -8.38200855255127, -8.639528274536133, 2.2618210315704346, -8.894831657409668, -6.688781261444092, -11.920507431030273, -5.800253868103027, 1.217829942703247, 12.066773414611816, 2.148801803588867, 2.9536328315734863, -5.543944358825684, 9.432745933532715, 8.072494506835938, 3.5704784393310547, 2.613069772720337, -4.42567777633667, 3.087087392807007, 5.075867652893066, 14.410748481750488, 10.855087280273438, 10.77283763885498, -5.0513834953308105, 11.532261848449707, 0.29107463359832764, 0.05632878094911575, -12.08435344696045, -0.4980587661266327, -8.68370532989502, -6.945826530456543, -6.669307708740234, -10.426239967346191, 10.973917961120605, -1.1135375499725342, 15.30208969116211, 5.5692458152771, -7.047336578369141, 10.377191543579102, -1.137450933456421, -7.470986843109131, -6.3942036628723145, -7.035279750823975, -0.3242338001728058, 6.556799411773682, 16.15917205810547, 1.3520489931106567, -5.476911544799805, 4.840613842010498, 4.191315174102783, 5.98556661605835, 8.481485366821289, -9.906854629516602, -2.2565531730651855, -4.034956455230713, 3.001905679702759, -8.77277946472168, 1.6463178396224976, -3.644561290740967, -4.677053451538086, 16.946550369262695, -7.981797695159912, -8.026318550109863, 11.692635536193848, 7.90782356262207, 12.381999969482422, -6.6074323654174805, 11.878786087036133, -8.26056957244873, 4.204631328582764, 10.913195610046387, -5.468684673309326, -1.5040791034698486, 3.478999137878418, 1.399339199066162, 8.485413551330566, 0.6538718938827515, 1.1687145233154297, -6.694605350494385, -8.678617477416992, 1.3885794878005981, -1.980522871017456, 10.343899726867676, 8.475787162780762, -3.687431812286377, -10.237760543823242, 4.606626987457275, 8.79326057434082, 5.148128509521484, -5.3719258308410645, -14.868712425231934, -5.291996479034424, 12.74011516571045, -0.22296936810016632, 1.1845473051071167, -12.596173286437988, -7.440639495849609, 3.303745985031128, 7.420746803283691, -8.494532585144043, 12.395352363586426, 0.5677940845489502, 0.8592618703842163, 15.897692680358887, -3.0676138401031494, -12.226333618164062, -10.369292259216309, 11.697755813598633, -1.4411165714263916, 3.139822006225586, 7.084982872009277, 6.324235916137695, -2.534320116043091, -14.799494743347168, 11.161554336547852, -7.027134418487549, -5.794737339019775, 4.2868781089782715, 3.4139482975006104, 14.839449882507324, 4.655057907104492, 1.5408068895339966, 2.4542644023895264, 11.881723403930664, 8.36966609954834, 1.3284755945205688, -10.654912948608398, -3.4274070262908936, 5.9446330070495605, 14.23739242553711], \"y\": [5.1392388343811035, -8.319555282592773, 5.248237609863281, 2.3763883113861084, 5.313275337219238, 1.5311907529830933, -1.7115544080734253, -4.84648323059082, 3.09725022315979, 6.0866618156433105, -5.82689094543457, 8.413307189941406, 3.045067548751831, -2.472393274307251, 1.6060696840286255, 4.052903175354004, 2.9865992069244385, -4.1674604415893555, 5.6431193351745605, 8.418039321899414, 1.6897205114364624, 1.0828484296798706, -1.2019002437591553, 3.027376890182495, -2.0881710052490234, -1.362378478050232, 7.809953212738037, 1.2663121223449707, -2.3375394344329834, -1.8033753633499146, 1.2276755571365356, -4.864832878112793, -0.9587295055389404, 0.025104084983468056, 3.5080971717834473, 0.5701702833175659, -0.15831297636032104, 1.3382160663604736, 2.6008052825927734, 0.15083912014961243, -1.2515184879302979, -1.089113712310791, -1.232514500617981, 2.537493944168091, 0.05467574670910835, 4.161969184875488, -0.7002951502799988, 2.8665523529052734, 8.250005722045898, -5.737929821014404, -2.6761772632598877, 5.663941860198975, 4.087503433227539, 4.239981651306152, 2.393049955368042, -3.3914434909820557, -0.34815290570259094, 4.885715007781982, -0.3783458471298218, 5.678289413452148, 4.577733039855957, -5.5907721519470215, 1.5563124418258667, -1.4115662574768066, -3.143582820892334, -1.3629151582717896, -8.232759475708008, -3.382390022277832, 7.107416152954102, -1.792541742324829, -3.34820556640625, -1.644493818283081, 3.492865800857544, 0.23790034651756287, 6.479748249053955, 3.070862054824829, 5.1641621589660645, 0.4482622444629669, 4.434520244598389, 3.6071560382843018, 4.3148088455200195, 1.3581254482269287, 1.592611312866211, -4.785272598266602, -3.7163760662078857, -7.214939594268799, -3.3782501220703125, -5.779786586761475, 0.2684344947338104, -0.5033462643623352, 3.4956812858581543, -3.829634666442871, -0.8373466730117798, -1.3901809453964233, -1.6473040580749512, 0.9243858456611633, 2.243649959564209, -6.498732089996338, 1.0152370929718018, 4.036862850189209, 2.428849697113037, -4.173046112060547, -7.118044853210449, 4.2707719802856445, 0.06305626779794693, 2.9413492679595947, -2.2027926445007324, -3.3566982746124268, 6.121312618255615, -0.3501896262168884, 0.5885806083679199, 0.4277743399143219, -3.9372012615203857, 4.121133327484131, 5.374905109405518, 0.6769751310348511, -3.8052334785461426, -1.129906415939331, 1.455137848854065, -0.42855194211006165, 0.8560411334037781, 1.1484299898147583, -4.407941818237305, -2.838521957397461, -3.4535305500030518, -7.0593791007995605, -1.8693032264709473, 0.48674213886260986, -4.469048500061035, -7.157358169555664, 2.498413562774658, 2.736947536468506, -2.2013137340545654, -2.4279026985168457, -4.550509452819824, 6.086696624755859, 1.9251765012741089, 0.08755418658256531, -5.862629413604736, 0.6290468573570251, -0.7595047354698181, -0.45885297656059265, 4.5162763595581055, 3.0639595985412598, -1.096768856048584, 3.386168956756592, -3.836463212966919, -2.4709222316741943, -6.620174884796143, -0.17095835506916046, 0.5654487609863281, 3.513159990310669, -1.9440888166427612, 4.832935333251953, 1.9813777208328247, 1.677075743675232, -4.8293137550354, -2.8742051124572754, 5.133700847625732, 0.9762201309204102, -4.148185729980469, 4.585116863250732, 2.9598910808563232, 3.5219480991363525, 0.7609370350837708, -4.568467617034912, -0.1552661508321762, -2.753990650177002, 3.585766553878784, -3.7929348945617676, -1.694229006767273, -6.869320869445801, 0.38986703753471375, 3.668717384338379, -3.625460147857666, -5.280166149139404, 1.7377870082855225, 3.605212450027466, -6.28007173538208, 0.09410229325294495, -2.2151918411254883, -3.2709333896636963, -4.8747076988220215, -4.771639347076416, -3.540029525756836, -2.7565934658050537, 0.9196349382400513, 2.7644095420837402, 4.444215774536133, 2.9853315353393555, -2.9315483570098877, 4.042500019073486, -4.297133445739746, 4.821633338928223, -6.238089084625244, -3.6785600185394287, -2.8089759349823, -2.7761309146881104, 2.3607351779937744, -3.4429352283477783, 1.4758113622665405, 0.1911984235048294, -0.7911354899406433, 2.0900330543518066, 4.940566062927246, -4.382843017578125, 1.924039602279663, 1.3708475828170776, -3.3022143840789795, -3.8791885375976562, -4.453859329223633, 2.7951858043670654, 0.689008891582489, 0.11566072702407837, 1.067029356956482, -0.8458014726638794, -4.532134056091309, 1.1224077939987183, 0.09028459340333939, 0.9910875558853149, 5.402561187744141, -5.462763786315918, 3.0056076049804688, 5.811954975128174, -5.525318622589111, 1.4214998483657837, -1.1213760375976562, 6.003561973571777, -4.214941024780273, 5.023929595947266, -3.4389195442199707, -0.8921738266944885, -0.27168503403663635, 0.07539691030979156, 0.38198575377464294, -5.096765995025635, 5.553257942199707, 2.9808266162872314, 0.26176249980926514, 3.0310556888580322, 1.0453084707260132, -4.663643836975098, 2.3750572204589844, -5.4253129959106445, -3.7928547859191895, -5.398880481719971, 5.1974921226501465, 3.2539360523223877, -0.5844146013259888, -0.13531483709812164, 5.552767276763916, -1.0571249723434448, -1.319983959197998, 4.247224807739258, 2.919137716293335, 0.9332913160324097, 6.068553924560547, -3.9052274227142334, 4.825760364532471, -1.1510502099990845, 2.0271167755126953, 3.5340778827667236, 3.6781649589538574, -2.7033534049987793, 5.975241184234619, -5.616646766662598, -0.9515007138252258, -5.675769329071045, 6.015588283538818, -1.853229284286499, -3.3427364826202393, -2.3060553073883057, 6.678374767303467, 1.7437492609024048, 1.4119412899017334, 2.137251377105713, 1.9155679941177368, 4.217570781707764, -3.9223315715789795, 4.388057231903076, -1.3215926885604858, 1.6274614334106445, 4.5575432777404785, 4.087737560272217, 5.32103967666626, -7.079359531402588, -5.6727166175842285, -5.556313514709473, -5.647958755493164, 2.9469854831695557, 0.16885659098625183, -3.0425238609313965, -1.8318454027175903, -6.835422039031982, -4.610105037689209, -1.788698673248291, -2.8615915775299072, 2.313143730163574, -2.202364921569824, 4.575936794281006, -7.764439105987549, -2.83817982673645, -1.3773314952850342, -3.449445962905884, -1.5202455520629883, 4.851568698883057, -4.947364807128906, 3.783991813659668, -1.1999435424804688, -3.9743356704711914, -3.443377733230591, -1.0121315717697144, -2.9839534759521484, 2.514369010925293, -1.6694608926773071, 5.822856426239014, -3.670957565307617, -4.119735240936279, 5.079777240753174, -1.2714852094650269, -7.1548309326171875, 5.295884609222412, -1.183883547782898, -7.061469554901123, -0.026976967230439186, 2.5129928588867188, -0.1285974085330963, -2.149531841278076, 1.6551347970962524, -1.6742668151855469, -5.558377742767334, 2.6450448036193848, 2.562180757522583, 2.570134401321411, -5.896144866943359, 4.1728196144104, -6.381263732910156, 6.61492395401001, 0.6052046418190002, 3.5904324054718018, 7.1029157638549805, 4.801835536956787, 1.5571444034576416, 4.466447830200195, -4.035890579223633, 1.6848132610321045, -2.125563144683838, -2.3640248775482178, 0.4354047179222107, 2.515827178955078, -0.7664681077003479, 6.839670181274414, -0.8395132422447205, -2.4446604251861572, -5.659225940704346, 5.41963005065918, 2.72890043258667, -6.856213092803955, -1.156370997428894, -0.11401596665382385, -7.888055801391602, -5.704728603363037, 4.032787322998047, -1.6125562191009521, -0.7187091112136841, 2.802432060241699, -0.19777987897396088, -2.7160849571228027, -3.9232938289642334, -2.715698003768921, -3.217686176300049, 1.0130747556686401, 5.150186538696289, 2.8943583965301514, -1.067702293395996, -2.8739142417907715, 4.754281044006348, -1.440785527229309, -1.3840217590332031, 0.5190796852111816, -0.614264190196991, 1.7119567394256592, 5.5823564529418945, 4.42044734954834, -7.537497520446777, 1.8807227611541748, -1.5328147411346436, -0.930498480796814, -3.56707501411438, 0.6864989995956421, -5.277339458465576, 2.60569167137146, 5.783926963806152, 3.4458563327789307, 0.04729699715971947, -2.300647258758545, 3.2120578289031982, -3.508946657180786, 2.8643088340759277, 5.275108814239502, -0.16312073171138763, -5.8351969718933105, -0.9773065447807312, -4.994475364685059, -4.705369472503662, -4.939034938812256, 5.008617877960205, 2.9229423999786377, 1.0771355628967285, -4.236070156097412, -7.275447368621826, 0.7695350050926208, -0.6238373517990112, 3.875047445297241, -2.5708768367767334, -1.1403907537460327, -6.176716327667236, -5.58001708984375, -1.9241515398025513, 1.9188060760498047, 0.5150357484817505, -3.1606876850128174, -5.261392116546631, -7.89677095413208, 3.8743464946746826, -4.827752113342285, -3.0619916915893555, -1.7393141984939575, 3.822221279144287, 4.910233497619629, 0.8535780906677246, -2.701530694961548, -5.231452465057373, -1.5519254207611084, -1.0138671398162842, -2.9116878509521484, -2.3206822872161865, 4.184670448303223, 5.861261367797852, 5.556449890136719, 3.3033089637756348, 3.6518852710723877, 5.334543228149414, 4.8691911697387695, 0.7113886475563049, 1.4042818546295166, -2.012603282928467, 2.5130233764648438, 0.4287288188934326, -4.573062419891357, -5.58026647567749, 2.6404504776000977, -2.48476505279541, 4.538624286651611, -3.8780322074890137, -1.6853781938552856, -2.3162035942077637, 1.9609280824661255, 4.676402568817139, 3.681074857711792, -8.015560150146484, 5.309256076812744, -1.8788865804672241, 6.0439348220825195, 0.8749817609786987, 3.5912399291992188, 6.114609241485596, -2.943037986755371, -4.5572943687438965, 3.3896069526672363, 1.112868309020996, -0.956669807434082, -2.6517724990844727, 5.439375877380371, -3.3393657207489014, -5.648053169250488, -3.68052339553833, -0.01815679483115673, 5.9861884117126465, -6.53220796585083, -1.6590505838394165, -5.488422393798828, -1.3140292167663574, 3.6276278495788574, -3.413939952850342, 4.253293991088867, -3.1706857681274414, 4.249533176422119, 6.261351108551025, 2.987940788269043, 2.684741735458374, -2.4946224689483643, 2.5106704235076904, -1.2315566539764404, 2.782947540283203, -3.8451218605041504, -3.7396371364593506, -0.2515576183795929, 3.3396964073181152, -0.20560400187969208, -5.7595977783203125, 1.014280915260315, 1.4899194240570068, 0.09932614862918854, 4.189061641693115, 2.6883833408355713, 5.789501667022705, -1.5493488311767578, 3.8677518367767334, -2.6666104793548584, 5.31019401550293, -2.8983561992645264, -3.744572401046753, 2.9306395053863525, 3.6313962936401367, 2.8788700103759766, 5.628922939300537, 5.375486850738525, -1.0087010860443115, -4.2931437492370605, 2.2977423667907715, 0.9201886653900146, 3.0865721702575684, 1.5141291618347168, 0.2664410173892975, -4.706655502319336, 5.150505065917969, -3.0007967948913574, -3.204633951187134, 6.872666358947754, -6.926165580749512, 0.23304064571857452, 0.6738451719284058, -2.959667444229126, -1.869933843612671, -3.391801595687866, -4.631326675415039, 2.9218101501464844, 4.349553108215332, -2.1493258476257324, 0.1974935084581375, -1.3914155960083008, -7.329384803771973, -6.2140631675720215, -2.9016482830047607, -0.5390626192092896, 2.888120651245117, -1.3271734714508057, -3.42954158782959, 3.9889066219329834, 2.653425455093384, 4.203246593475342, 5.520756721496582, 5.171795845031738, 2.290148973464966, -8.923888206481934, 1.0213630199432373, 6.812881946563721, -1.039947509765625, 0.7803229093551636, 5.074787616729736, -0.18367350101470947, 1.9177625179290771, -4.527177810668945, -1.3250224590301514, 3.3600142002105713, -4.692988395690918, 0.8406820893287659, -5.264771938323975, -3.8571252822875977, 4.721556663513184, -2.962613582611084, -4.242451190948486, 2.5578041076660156, -6.151667594909668, -3.3573522567749023, -5.694855213165283, -5.721095561981201, 4.473575592041016, 0.4374232590198517, 1.1410484313964844, 2.191668748855591, 3.23807692527771, -4.897881507873535, -1.3131756782531738, 1.9127527475357056, 6.578559398651123, -3.1525397300720215, -4.785138130187988, -0.09079404175281525, -5.950125694274902, 0.43965813517570496, 1.749812126159668, -4.380003452301025, 3.123324155807495, 4.8278584480285645, -2.7732112407684326, 0.169747456908226, -0.9657724499702454, 4.730836391448975, 0.6334087252616882, 1.6406804323196411, -2.1854944229125977, -2.5580623149871826, -2.2052624225616455, -5.772852420806885, -2.893571376800537, 2.1474006175994873, -0.9613032937049866, -8.602364540100098, 3.306581974029541, -1.030362844467163, 2.114243745803833, 6.841968059539795, 6.294705867767334, 1.2472457885742188, -1.7023190259933472, 0.22110703587532043, -3.545332431793213, 6.841030597686768, 3.6002564430236816, 3.730773448944092, 5.880796432495117, -0.26333266496658325, 2.072007656097412, -3.7265591621398926, -3.7318639755249023, 5.936421871185303, 2.594714403152466, 5.804040908813477, 4.6338582038879395, -3.5934343338012695, 6.300458908081055, 1.295706033706665, -0.5543050169944763, 4.41787052154541, -1.7876572608947754, 3.592803478240967, -3.943293333053589, 4.278510093688965, 4.849613189697266, -3.6752185821533203, -3.630272626876831, -0.02141723409295082, 2.775599241256714, 2.958573818206787, 3.90317964553833, 5.422331809997559, -0.76748126745224, 6.293361663818359, -1.123239517211914, -4.756715297698975, 1.5690710544586182, -0.4319186210632324, -5.6005539894104, -3.1327669620513916, 3.181654453277588, 4.648296356201172, 0.28706759214401245, -0.2865443527698517, -2.54235577583313, 3.113863945007324, 1.2448750734329224, 4.959195613861084, -1.5388227701187134, 5.592697620391846, 1.0181530714035034, -2.4348185062408447, -2.5607011318206787, -4.836286544799805, 0.7105924487113953, 4.910345077514648, 5.540993690490723, 4.61275577545166, 0.9425617456436157, 1.77394437789917, -5.012795448303223, -2.4480807781219482, -1.8525667190551758, -2.45648193359375, 3.176988363265991, -1.6728837490081787, 7.302432060241699, 0.4373723864555359, 2.365905523300171, -4.876672267913818, 2.3700859546661377, -1.8622409105300903, -4.511430263519287, -2.8740923404693604, 2.682034492492676, -3.407193660736084, -0.47823047637939453, -3.031320810317993, -4.03433895111084, 1.5758867263793945, 1.0571253299713135, 1.2764946222305298, 3.674513101577759, 1.4847729206085205, -0.6281588673591614, 6.087268352508545, -2.432776689529419, -2.3666791915893555, 4.972162246704102, -0.6046168208122253, -4.092413902282715, 5.417801856994629, 4.2294745445251465, 2.4764721393585205, -0.2599150240421295, -2.808178186416626, -4.130648612976074, -1.509212851524353, -1.161615252494812, 0.036269139498472214, 1.4614542722702026, 4.573056221008301, -1.1416372060775757, -2.5170867443084717, 5.634279251098633, -5.476278305053711, -3.669334650039673, 5.664184093475342, -4.297317981719971, -0.9781112670898438, -3.8840138912200928, 2.217947483062744, 0.08345073461532593, 0.43995919823646545, -4.532527446746826, 5.791028022766113, 4.286046028137207, 1.5166475772857666, -1.5785243511199951, -4.423614025115967, 0.5425294637680054, 2.3594954013824463, 3.160240650177002, 3.462759256362915, -0.2957442104816437, 2.755192518234253, 3.79072642326355, 3.941335678100586, 2.662604331970215, 2.456289768218994, 0.18982940912246704, -2.876603603363037, 2.3337581157684326, -2.424555540084839, -7.7876667976379395, 5.242006301879883, -1.3033053874969482, -6.1103949546813965, -0.9295885562896729, 4.013625621795654, 3.4507954120635986, 3.280256748199463, 2.7807421684265137, -1.7985787391662598, -4.105929374694824, 5.671184539794922, -1.6677738428115845, -6.587093830108643, 5.4107255935668945, -3.1074063777923584, -4.910444736480713, 4.659736633300781, -3.8721086978912354, 4.015020847320557, 3.694730520248413, 5.296505928039551, 2.304426908493042, -3.5533509254455566, 3.174341917037964, 0.2138545662164688, 2.483358144760132, -1.1656396389007568, 6.346572399139404, 4.273674964904785, 1.990652084350586, -3.8332467079162598, -6.919731616973877, -0.004625591449439526, 2.8590140342712402, -3.2661080360412598, 2.336188554763794, 0.31178227066993713, 3.303131103515625, 0.6741215586662292, -5.294990539550781, 3.741621255874634, 4.513936996459961, 5.58935022354126, -5.351213455200195, -5.642810821533203, 0.6565120220184326, 0.9472973942756653, 2.649141550064087, -1.7276579141616821, 0.9056151509284973, 1.9128819704055786, -2.1959588527679443, -7.511857509613037, 3.4450266361236572, -4.876197814941406, 2.949155807495117, -8.357197761535645, -1.4204978942871094, -3.7945241928100586, 3.7319555282592773, 3.193938732147217, 5.695859432220459, 0.36273619532585144, -6.8393330574035645, 0.35215499997138977, -6.614511013031006, -3.8584277629852295, 1.4516738653182983, -1.2371079921722412, -4.650481700897217, 2.0603585243225098, 2.6020288467407227, -8.873150825500488, -3.7225146293640137, -1.7742754220962524, -1.569169282913208, 3.3041791915893555, 4.461413860321045, 0.33734217286109924, -8.98374080657959, 1.048531413078308, 1.7641464471817017, 2.730875253677368, 1.8861255645751953, -1.29940927028656, 5.704312324523926, 3.469489097595215, -4.286310195922852, 2.6602272987365723, 1.989084005355835, 4.316985130310059, -0.8144086599349976, -3.703346014022827, -4.338460445404053, -0.4188452363014221, -4.760987758636475, 2.196397304534912, -0.1492011845111847, -3.407249689102173, 1.000964641571045, 1.9767698049545288, 3.8907346725463867, 1.4926666021347046, -3.601574182510376, -3.21608304977417, -1.1778751611709595, -1.1244723796844482, 2.310462236404419, 4.566253185272217, 2.0543289184570312, 2.4589905738830566, 0.09855964779853821, -0.25453925132751465, -4.471888065338135, -0.08881142735481262, -1.14950692653656, 1.0371942520141602, -2.0008795261383057, -0.74139803647995, -5.2781171798706055, 2.293490409851074, -3.479444742202759, -0.4831712543964386, -0.575799822807312, -2.634399890899658, 0.5511182546615601, -1.0157904624938965, 4.0552496910095215, 4.320873737335205, -0.1850396692752838, 2.1457858085632324, 4.996408939361572, -1.0121066570281982, -3.7741057872772217, -3.7061381340026855, 4.002875328063965, -1.9465245008468628, 5.115778923034668, 2.467667579650879, 3.221071481704712, -3.3362655639648438, 2.9765396118164062, 5.478614807128906, -4.8385701179504395, 1.55563485622406, 5.439111709594727, -4.992602825164795, -3.160222291946411, -0.04946129769086838, -5.776738166809082, 3.4024839401245117, 0.6197935938835144, -3.42946720123291, -0.02514343149960041, 1.7841036319732666, -3.015435218811035, -3.8755838871002197, 2.7425360679626465, 5.947287082672119, -6.047860145568848, -3.044767141342163, -0.660595178604126, 6.646183013916016, 3.7163565158843994, 5.636397838592529, 4.728050231933594, -5.2912397384643555, -1.5456684827804565, -4.461053848266602, 1.912102460861206, -2.30706524848938, 0.0680338516831398, 4.4036664962768555, -2.591991662979126, 0.6315784454345703, -3.0507280826568604, 4.937166213989258, -2.3293731212615967, -2.970383405685425, 4.960402011871338, 1.8368027210235596, -3.0961978435516357, -2.6799936294555664, -3.321751117706299, 4.624087810516357, 1.8898776769638062, 5.1565728187561035, -6.839594841003418, -4.708141326904297, 5.179101943969727, 2.6073386669158936, 3.7069270610809326, -0.0027902366127818823, 4.13412618637085, 3.2211215496063232, 2.628427267074585, 4.762202739715576, -4.6542439460754395, -3.604856014251709, 6.122096061706543, 2.2809512615203857, -4.005177974700928, -0.7591303586959839, -0.3242665231227875, -6.180304527282715, -4.000432014465332, 0.16933000087738037, 2.837660789489746, -0.008761128410696983, -4.407355308532715, -3.0207736492156982, 3.3560125827789307, 4.644999980926514, 4.65114688873291, -3.127387523651123, -6.2146196365356445, 5.254009246826172, 2.475097894668579, 2.5682783126831055, 0.6943351626396179, 1.019652247428894, 7.455627918243408, 5.649145126342773, 4.038619518280029, -5.512970924377441, -6.089158535003662, 1.9049781560897827, 4.171724319458008, 0.07918629795312881, 3.03804612159729, 2.1995849609375, 1.7154865264892578, -2.4354941844940186, 1.5795923471450806, -6.275262355804443, -0.4252036213874817, -3.1073591709136963, -3.249166965484619, 4.683201789855957, 0.7100102305412292, 5.859341621398926, 2.5737740993499756, 5.160012722015381, 2.4718024730682373, 5.36339807510376, -1.4173204898834229, 3.126365900039673, -1.2572863101959229, 5.72940731048584], \"z\": [5.718793869018555, -5.025030612945557, 1.0365705490112305, -12.495704650878906, -4.537082672119141, -9.478485107421875, -4.020531177520752, -13.837080955505371, -1.666444182395935, 11.23691463470459, -15.120949745178223, -5.20884895324707, -16.352754592895508, -1.7709286212921143, -3.422049045562744, -12.971245765686035, -16.37403678894043, 0.5196306109428406, 1.93849778175354, -4.380167484283447, -9.049544334411621, 7.190271377563477, -2.6473896503448486, -2.213014602661133, -3.802868604660034, 5.016897201538086, -4.260998249053955, 2.2673592567443848, -7.43091344833374, -8.482311248779297, 0.278949111700058, -7.2214813232421875, 3.8044018745422363, -3.9495701789855957, 1.954260230064392, 5.972000598907471, -1.6790921688079834, 2.511561393737793, 9.25318431854248, -10.191563606262207, 6.78325891494751, -6.565913200378418, 4.660496234893799, -6.248758792877197, -5.257227897644043, -13.727503776550293, -4.796126365661621, -1.8319737911224365, -4.963261127471924, 4.832830429077148, -17.339519500732422, 2.6132099628448486, 3.9621007442474365, -13.583722114562988, -10.755427360534668, -18.794754028320312, -11.018436431884766, -1.2087745666503906, -4.51364803314209, -3.241382598876953, -0.3918042778968811, 5.326554775238037, -13.73505687713623, -7.0831122398376465, 8.07357406616211, -4.332516193389893, 4.26484489440918, 0.45027220249176025, -4.781595706939697, -9.47490406036377, -10.473584175109863, -11.78471565246582, 9.286169052124023, -15.200977325439453, 14.421701431274414, 9.38081169128418, -5.666423320770264, -10.434656143188477, 17.886075973510742, 14.712764739990234, 14.269815444946289, 10.38018798828125, -5.047560214996338, 4.169646739959717, -3.010605573654175, -4.89258337020874, 2.4585652351379395, 0.9491753578186035, 0.48963576555252075, 9.7094087600708, 11.147136688232422, -14.552468299865723, 3.935685396194458, -2.541057825088501, -6.850822925567627, -12.844792366027832, 6.725275039672852, -2.4045181274414062, -1.2322691679000854, -5.793900012969971, 7.959486484527588, 4.2047905921936035, -2.3465936183929443, 4.6689934730529785, -13.841676712036133, 9.455316543579102, 6.224257469177246, -3.2953672409057617, 14.396763801574707, -9.649431228637695, 11.768750190734863, 8.280197143554688, -16.37409782409668, 9.812460899353027, -2.236339569091797, 12.644593238830566, -3.3463828563690186, -2.4788146018981934, -13.54086685180664, -0.428995817899704, 13.282297134399414, 0.7325612902641296, -3.6777732372283936, 6.221384048461914, 4.730990886688232, -3.5641589164733887, -5.405644416809082, -12.156928062438965, -2.857546806335449, -2.8266549110412598, -1.6020359992980957, 6.052281379699707, -16.412796020507812, -4.598451614379883, 3.550814390182495, 7.846902847290039, -3.017638921737671, -15.034019470214844, -4.145477294921875, 2.266712188720703, -15.337813377380371, 8.998788833618164, 3.8471779823303223, -4.494475364685059, -0.5528355240821838, 12.212890625, -12.337360382080078, 3.371750831604004, -4.877812385559082, 4.672219276428223, 11.106480598449707, 12.126955032348633, -1.7602202892303467, 3.85327410697937, 8.411532402038574, 6.784631252288818, 6.930875301361084, 6.353275299072266, 13.436322212219238, -13.105931282043457, -4.290090084075928, -0.387051522731781, 14.63276195526123, 17.952667236328125, -11.753893852233887, 5.165569305419922, -15.531002044677734, -8.267910957336426, -3.5523414611816406, 5.944604873657227, 6.593138694763184, -3.436168670654297, -9.155119895935059, -1.2503232955932617, 1.4507919549942017, 2.3791725635528564, -10.395456314086914, -0.8365086317062378, -5.681439399719238, -13.528773307800293, 0.874313473701477, -8.471065521240234, -6.849285125732422, -10.285676002502441, -8.715641021728516, -2.9048798084259033, -7.738856792449951, -0.8927785754203796, 12.075322151184082, 11.782977104187012, 3.8293285369873047, -3.9769809246063232, -15.186963081359863, -1.0795973539352417, -0.2147214710712433, -5.131253242492676, 0.5409130454063416, -4.065891742706299, 7.614890098571777, 3.8032588958740234, -1.080955147743225, 3.6645259857177734, -5.4618635177612305, -5.580998420715332, -0.3605240285396576, -7.543402671813965, 15.888693809509277, -1.2608094215393066, -9.404057502746582, -5.121163368225098, 1.9812835454940796, -9.227497100830078, -9.618117332458496, 11.904058456420898, 0.5229030847549438, 1.5053024291992188, -4.6632843017578125, -11.671627044677734, -11.871065139770508, 0.6406722068786621, 0.11987493932247162, -0.9096790552139282, -5.307323932647705, 15.76600170135498, 1.129279375076294, 15.062041282653809, 6.5497660636901855, 12.174890518188477, 3.884294271469116, -8.284795761108398, -4.065054416656494, 4.156613349914551, -14.076000213623047, -14.590709686279297, -1.4377152919769287, -0.7091498374938965, -0.40508702397346497, 11.289475440979004, -11.929779052734375, 0.4401734173297882, -1.0880682468414307, -2.5160129070281982, -1.5364731550216675, -0.8411771655082703, -11.089008331298828, 1.7986949682235718, 10.725940704345703, 17.325517654418945, 6.66099739074707, -3.122404098510742, 1.1282007694244385, 1.9279648065567017, -11.418895721435547, -0.22183898091316223, 10.452935218811035, -2.1479527950286865, 7.5164923667907715, 0.26106101274490356, -8.849711418151855, -1.1376034021377563, -1.2954031229019165, 0.4218911826610565, -2.3057162761688232, 1.7569926977157593, 2.643202781677246, -0.9727190136909485, -15.034765243530273, -1.8186368942260742, 14.208419799804688, -3.3918685913085938, -1.9133810997009277, -7.134519577026367, 9.429474830627441, -0.7424066066741943, -12.027831077575684, 2.0396318435668945, -11.632169723510742, -3.9895119667053223, -2.04298734664917, 11.83639144897461, 5.987475872039795, -1.0988138914108276, 11.690059661865234, 7.129422187805176, -2.568248748779297, -0.2458030730485916, 5.885991096496582, -1.4572864770889282, 0.21173231303691864, 7.157962799072266, 10.112503051757812, -2.9976437091827393, 6.264768123626709, 0.5659593939781189, 4.125372409820557, -15.979391098022461, -11.577651023864746, 17.443758010864258, 4.2044358253479, 7.36359977722168, -5.727949619293213, -0.7121514678001404, -9.524175643920898, -11.768274307250977, -9.542696952819824, 14.235877990722656, -1.3623796701431274, 13.795757293701172, 6.093622207641602, -8.830994606018066, -8.379366874694824, 3.533970594406128, -7.638623237609863, -0.007843355648219585, 1.4178659915924072, 7.478251934051514, 5.742058753967285, -2.8470795154571533, 15.203710556030273, -5.898436069488525, -5.1080827713012695, 11.201261520385742, -12.817633628845215, -0.8753297328948975, 15.306007385253906, 7.680113315582275, -13.931666374206543, -14.694856643676758, -4.659769535064697, -10.651861190795898, -1.723554015159607, -11.454655647277832, 1.0279899835586548, 8.077231407165527, 1.3285048007965088, -5.236453533172607, -2.9855198860168457, 7.583079814910889, -8.023963928222656, -9.867371559143066, 7.964364051818848, 13.604289054870605, -13.774518013000488, 3.393357753753662, -13.691039085388184, -4.971235752105713, -5.215145111083984, 4.770225524902344, -12.626461029052734, -11.948534965515137, 1.7060030698776245, 9.402313232421875, -1.8883965015411377, -7.13176155090332, 5.9275336265563965, 13.522063255310059, 3.074209690093994, -1.4090477228164673, -12.760842323303223, 6.573718547821045, -4.2251877784729, -1.4391913414001465, 2.1717417240142822, 5.084039211273193, -13.116267204284668, 14.960437774658203, -8.782301902770996, -1.0928853750228882, 0.6555996537208557, -3.674731969833374, 4.97160530090332, -0.8355036973953247, -5.189085960388184, -5.219038009643555, -12.763765335083008, 6.775065898895264, 14.358933448791504, -10.452245712280273, -6.500373840332031, 8.389430046081543, -13.33102035522461, 2.913614511489868, 13.016487121582031, 9.765390396118164, -3.2456448078155518, 6.5155839920043945, 6.504300117492676, 5.30452823638916, 2.834470272064209, 9.201349258422852, 4.8163228034973145, 7.285356044769287, 10.836583137512207, 11.89777660369873, -1.6121714115142822, -7.109066486358643, 9.285722732543945, -11.03438663482666, 8.397501945495605, 10.859772682189941, -0.5074135661125183, 3.655674934387207, 3.164994716644287, -7.56777286529541, -11.841978073120117, -2.317401885986328, -2.736459255218506, 3.5336339473724365, -14.058246612548828, -5.612876892089844, -0.7656447887420654, 9.338102340698242, -12.381054878234863, 14.921469688415527, -3.2099928855895996, 4.394275665283203, 2.211609125137329, -3.5991554260253906, -15.019111633300781, -5.318660259246826, 9.216362953186035, 2.826164960861206, -0.6678406000137329, -5.135361194610596, -4.249619007110596, 2.33022403717041, -3.6125152111053467, -10.16684627532959, 8.052093505859375, -5.875655651092529, 12.186127662658691, -3.9477791786193848, 4.349035739898682, -10.667485237121582, -4.641295909881592, 2.110795259475708, 0.1921834945678711, -5.161116123199463, 15.095514297485352, -0.8169992566108704, 10.096784591674805, 17.759525299072266, -1.3102920055389404, -7.883240222930908, 2.0257279872894287, -10.597923278808594, -10.397562980651855, 3.296358346939087, -3.1147985458374023, -9.613424301147461, 4.3811821937561035, -3.2963972091674805, 6.281243324279785, 14.625082969665527, -15.436452865600586, -5.894016265869141, -0.37668919563293457, -2.5836362838745117, 17.35466957092285, 10.844345092773438, -3.038762331008911, -2.5549795627593994, 3.6846327781677246, 14.757586479187012, -0.717827558517456, 11.389527320861816, 14.191569328308105, -11.873383522033691, 4.701067924499512, -3.339122772216797, 13.813271522521973, 0.47974899411201477, 2.901439905166626, 10.201034545898438, 6.632972717285156, 0.02398897148668766, -5.144491672515869, -9.482309341430664, 5.735358715057373, -1.7184456586837769, 5.718462944030762, 4.163462162017822, -8.947165489196777, -7.308136463165283, -3.462038993835449, -6.924666881561279, -1.2610065937042236, 8.43648910522461, 7.465413570404053, 0.6937233209609985, 15.996368408203125, -15.626468658447266, -9.066959381103516, -9.365556716918945, -2.098259449005127, -11.67087459564209, -5.095571517944336, -14.105929374694824, 3.0923497676849365, 9.98213005065918, -3.9981226921081543, 1.7168785333633423, 7.5930938720703125, 0.4427467882633209, 7.826144695281982, 0.15904021263122559, 16.66721534729004, 3.9283881187438965, 9.108480453491211, -7.622495174407959, -3.874417304992676, 5.989640235900879, -0.9562081694602966, -9.796192169189453, 17.48246955871582, 4.657896518707275, 2.1605632305145264, 17.27827262878418, 1.660735845565796, -1.9415968656539917, 9.811633110046387, -6.315420627593994, -8.687631607055664, -5.089797496795654, -12.739262580871582, -2.7840352058410645, 9.176563262939453, -0.5977562069892883, 1.3860666751861572, 8.244696617126465, -2.2650306224823, -9.871018409729004, -14.856305122375488, 4.605575084686279, -14.733152389526367, -8.32092571258545, -6.3084211349487305, -6.136958122253418, 3.8743696212768555, -3.6685361862182617, 0.9196889996528625, -11.799675941467285, -0.6024889349937439, -5.533336162567139, 4.547302722930908, -16.943151473999023, 11.323509216308594, -12.446595191955566, -11.145519256591797, 11.56993293762207, 5.4480109214782715, 8.378351211547852, -3.915966510772705, 13.362750053405762, 2.271418571472168, -1.399803876876831, -14.404250144958496, 13.683724403381348, -14.601224899291992, -2.373387098312378, -7.515430450439453, -11.945032119750977, 2.3929219245910645, -12.768559455871582, 0.8611007332801819, 16.270023345947266, 5.196190357208252, 1.7791463136672974, -10.974625587463379, -13.80087947845459, 7.149817943572998, -14.570816993713379, -12.70870590209961, -12.106139183044434, -6.494287490844727, -9.1609468460083, -3.1550581455230713, 0.4254401922225952, 7.208863258361816, 13.91969108581543, 8.660126686096191, 14.808004379272461, -4.76188850402832, -3.799241065979004, 6.201545715332031, 15.963602066040039, 7.826211929321289, 6.6738739013671875, 0.11079080402851105, -9.048787117004395, 2.886138677597046, 5.203031539916992, -1.6964024305343628, -12.136748313903809, -0.4396199584007263, 3.618567705154419, -12.753067970275879, -9.951343536376953, -9.318575859069824, -7.259599208831787, -14.65108585357666, -0.10414963215589523, -7.163827896118164, -3.694249153137207, -10.849544525146484, -4.318596363067627, -14.185532569885254, -12.253886222839355, -0.1547183245420456, -4.604527950286865, -8.345024108886719, 10.224955558776855, 10.391071319580078, 8.395159721374512, 13.338874816894531, 3.2554001808166504, 0.09200232475996017, -0.1771107167005539, 5.469273090362549, 8.254646301269531, 1.1307789087295532, 3.6841635704040527, 1.884827733039856, 1.43572998046875, -4.791012287139893, -13.30941104888916, -3.707468032836914, -2.3983888626098633, 2.779062509536743, 15.031991004943848, 0.5357292890548706, -3.78432035446167, 16.22571563720703, -5.714655876159668, 9.45690631866455, 4.056616306304932, 10.839916229248047, 0.9275789260864258, -15.058846473693848, -0.07150861620903015, -0.15778110921382904, -5.22038459777832, -4.908106327056885, 8.816760063171387, -10.451560974121094, 15.701048851013184, -2.397430896759033, 8.701749801635742, -4.135537147521973, 10.34954833984375, 6.528777599334717, 4.753952503204346, 2.2421703338623047, -15.777311325073242, 2.8898792266845703, -6.747747421264648, -5.4788312911987305, 7.725678443908691, 4.61848258972168, -10.036755561828613, -10.384604454040527, 3.604518413543701, -0.7288868427276611, 6.844107151031494, -11.988171577453613, -0.5607582926750183, -14.621696472167969, -5.122772216796875, -4.11078405380249, 3.4944283962249756, 1.5840986967086792, 12.97116756439209, 2.1506266593933105, 1.0050936937332153, -11.922425270080566, 5.657479763031006, -6.227043628692627, -16.18840217590332, -11.704022407531738, -4.391740322113037, -3.4500675201416016, 4.995491981506348, 8.80402660369873, -9.247602462768555, 1.2692970037460327, 3.3794353008270264, 12.009420394897461, 5.721900463104248, -14.762114524841309, -8.874298095703125, -9.5819673538208, -8.260857582092285, -12.037934303283691, -0.5722091197967529, -16.59830093383789, -14.637653350830078, 7.43076753616333, 14.848199844360352, 12.371456146240234, -7.124458312988281, -0.8935074806213379, 4.504072666168213, -1.7906646728515625, -7.421123027801514, 10.108901977539062, -7.902767658233643, -14.42086124420166, -10.079401016235352, 1.8680510520935059, -6.737081050872803, -4.079748630523682, 6.527125835418701, 6.530997276306152, 4.8666605949401855, 8.11336612701416, -12.411567687988281, -9.3651704788208, -14.180427551269531, 8.225135803222656, 4.277706623077393, 1.886008381843567, -2.4746742248535156, -1.9242451190948486, 2.643717050552368, -0.10183661431074142, 3.766052722930908, -8.841475486755371, -14.981460571289062, -12.531329154968262, -9.865625381469727, 2.1295526027679443, -5.9817914962768555, 1.009509563446045, -2.9535598754882812, -0.8883143067359924, -14.734810829162598, 12.154611587524414, 16.56324005126953, 17.400623321533203, -7.2662034034729, 4.526599884033203, 7.739865303039551, 8.018152236938477, -9.244528770446777, 8.480298042297363, 17.337846755981445, 14.276789665222168, -16.057388305664062, -2.0174596309661865, -10.751020431518555, -4.757776260375977, -4.425180912017822, -7.285227298736572, -0.2802077531814575, 6.110988140106201, -0.8053960800170898, 14.506536483764648, 0.40341296792030334, -10.005040168762207, 4.096675872802734, -10.004411697387695, 2.031109571456909, 6.750486850738525, 2.378660202026367, 7.132132530212402, -1.579835295677185, -2.321566581726074, -4.449316501617432, -3.114840030670166, -3.583449602127075, 14.201208114624023, 5.684628963470459, 0.0819658562541008, -3.933391809463501, 7.9020209312438965, 4.860239505767822, 2.7673022747039795, -0.13787513971328735, 16.082975387573242, 9.085908889770508, 12.097663879394531, -2.2006874084472656, -3.7106549739837646, 11.228886604309082, 17.64621925354004, -10.341443061828613, 0.6028736233711243, -12.242188453674316, 17.102588653564453, 14.521346092224121, -11.946782112121582, 11.40492057800293, -8.18765926361084, 14.289993286132812, -0.8584375977516174, -7.423438549041748, 5.904961585998535, -2.86716628074646, 13.582802772521973, 3.2876548767089844, 2.2539069652557373, 3.7102179527282715, 1.678063988685608, -5.627225399017334, 0.23503801226615906, 4.324491500854492, 4.238271713256836, -2.0809948444366455, -15.696063041687012, 4.987611293792725, -4.795519828796387, -9.800811767578125, 14.798412322998047, 8.42880630493164, -4.313046932220459, -3.260540246963501, -1.4823486804962158, -12.404595375061035, -9.730362892150879, -13.025209426879883, -12.880672454833984, -0.13511206209659576, 18.12543487548828, -4.0961222648620605, -0.0927315428853035, 0.09112345427274704, -15.59067440032959, 15.493134498596191, 11.29382038116455, -10.591208457946777, -1.0688236951828003, 7.433897495269775, -12.593513488769531, -8.915111541748047, -2.1797022819519043, -10.507608413696289, -6.4907307624816895, -3.3642899990081787, -12.197479248046875, 3.528883218765259, 13.077982902526855, 4.507634162902832, -13.157061576843262, -2.0766794681549072, -2.1035969257354736, -14.262262344360352, -4.1855149269104, 13.71289348602295, 11.766942977905273, 4.9663004875183105, -14.285957336425781, 10.632607460021973, 3.516921281814575, 13.042073249816895, 2.234962224960327, -2.3714537620544434, 1.8438822031021118, -16.93001365661621, 15.779685020446777, -8.406503677368164, 8.517480850219727, 14.352845191955566, -2.747727155685425, 14.022989273071289, -1.455581545829773, -14.930879592895508, -2.435957908630371, 14.679278373718262, -11.246188163757324, 9.139297485351562, -10.389177322387695, 5.4229559898376465, 2.4724082946777344, 12.289252281188965, -6.946124076843262, 7.020902633666992, -1.6198158264160156, 0.9579394459724426, 5.8682966232299805, -1.125741958618164, 10.142855644226074, 15.30829906463623, 12.86886215209961, -11.589324951171875, -11.243313789367676, -16.27695083618164, 9.282769203186035, 5.130505084991455, 7.373498916625977, -7.391682147979736, -4.943499565124512, -8.844852447509766, -4.3310112953186035, 12.187542915344238, -9.206731796264648, 10.408839225769043, 8.572139739990234, 2.3658697605133057, 1.1146368980407715, -1.986141324043274, -1.227543592453003, 0.6839204430580139, 5.402917861938477, -12.866891860961914, 15.346761703491211, -5.3182244300842285, -11.849322319030762, -7.408229827880859, -4.4201483726501465, 15.925126075744629, 1.997188925743103, 6.465697765350342, 4.097523212432861, 14.849574089050293, -7.429996013641357, -2.6639480590820312, 4.899245262145996, -3.3737597465515137, -16.48211097717285, -15.612438201904297, 9.674713134765625, -16.20958137512207, -1.2792404890060425, 11.489577293395996, -3.1168532371520996, 10.63049602508545, -7.4679670333862305, 5.622157573699951, 3.8567864894866943, -2.7001101970672607, -2.8728115558624268, 3.9978981018066406, 2.3971831798553467, -11.076546669006348, -11.717607498168945, -5.406943321228027, 6.840916156768799, -1.032698631286621, -5.449620246887207, -13.426566123962402, -3.09179425239563, -1.1267743110656738, 17.523075103759766, -14.96203327178955, 15.437283515930176, -8.111815452575684, 16.186168670654297, 11.770669937133789, -1.6537423133850098, -8.087478637695312, 5.341458797454834, 3.483002185821533, -12.350570678710938, -13.593893051147461, 4.999285697937012, 2.17695689201355, -16.374591827392578, -8.859240531921387, -8.9453125, 0.14518654346466064, 0.11562595516443253, 3.178738594055176, -0.5244845151901245, 16.888694763183594, 7.389789581298828, 5.98138427734375, 0.5956001281738281, 12.714073181152344, -7.499030590057373, 1.587009072303772, -11.405770301818848, 14.677457809448242, 8.09164047241211, -2.936795711517334, 12.444255828857422, -1.1350109577178955, -1.129462480545044, -11.418970108032227, 0.9801735281944275, -12.1229248046875, -8.09027099609375, 8.017807960510254, 17.245525360107422, -2.962578058242798, -11.3629150390625, 3.7794740200042725, 0.9153178930282593, -11.216960906982422, -14.145505905151367, -6.718081951141357, -12.519305229187012, 14.443679809570312, 15.787211418151855, -1.1988863945007324, -9.346564292907715, 6.515158176422119, 0.13191436231136322, 16.501251220703125, -10.829177856445312, -6.355467796325684]}],\n",
       "                        {\"coloraxis\": {\"colorbar\": {\"title\": {\"text\": \"Label\"}}, \"colorscale\": [[0.0, \"#0d0887\"], [0.1111111111111111, \"#46039f\"], [0.2222222222222222, \"#7201a8\"], [0.3333333333333333, \"#9c179e\"], [0.4444444444444444, \"#bd3786\"], [0.5555555555555556, \"#d8576b\"], [0.6666666666666666, \"#ed7953\"], [0.7777777777777778, \"#fb9f3a\"], [0.8888888888888888, \"#fdca26\"], [1.0, \"#f0f921\"]]}, \"height\": 800, \"legend\": {\"tracegroupgap\": 0}, \"scene\": {\"domain\": {\"x\": [0.0, 1.0], \"y\": [0.0, 1.0]}, \"xaxis\": {\"title\": {\"text\": \"0\"}}, \"yaxis\": {\"title\": {\"text\": \"1\"}}, \"zaxis\": {\"title\": {\"text\": \"2\"}}}, \"template\": {\"data\": {\"bar\": [{\"error_x\": {\"color\": \"#2a3f5f\"}, \"error_y\": {\"color\": \"#2a3f5f\"}, \"marker\": {\"line\": {\"color\": \"#E5ECF6\", \"width\": 0.5}}, \"type\": \"bar\"}], \"barpolar\": [{\"marker\": {\"line\": {\"color\": \"#E5ECF6\", \"width\": 0.5}}, \"type\": \"barpolar\"}], \"carpet\": [{\"aaxis\": {\"endlinecolor\": \"#2a3f5f\", \"gridcolor\": \"white\", \"linecolor\": \"white\", \"minorgridcolor\": \"white\", \"startlinecolor\": \"#2a3f5f\"}, \"baxis\": {\"endlinecolor\": \"#2a3f5f\", \"gridcolor\": \"white\", \"linecolor\": \"white\", \"minorgridcolor\": \"white\", \"startlinecolor\": \"#2a3f5f\"}, \"type\": \"carpet\"}], \"choropleth\": [{\"colorbar\": {\"outlinewidth\": 0, \"ticks\": \"\"}, \"type\": \"choropleth\"}], \"contour\": [{\"colorbar\": {\"outlinewidth\": 0, \"ticks\": \"\"}, \"colorscale\": [[0.0, \"#0d0887\"], [0.1111111111111111, \"#46039f\"], [0.2222222222222222, \"#7201a8\"], [0.3333333333333333, \"#9c179e\"], [0.4444444444444444, \"#bd3786\"], [0.5555555555555556, \"#d8576b\"], [0.6666666666666666, \"#ed7953\"], [0.7777777777777778, \"#fb9f3a\"], [0.8888888888888888, \"#fdca26\"], [1.0, \"#f0f921\"]], \"type\": \"contour\"}], \"contourcarpet\": [{\"colorbar\": {\"outlinewidth\": 0, \"ticks\": \"\"}, \"type\": \"contourcarpet\"}], \"heatmap\": [{\"colorbar\": {\"outlinewidth\": 0, \"ticks\": \"\"}, \"colorscale\": [[0.0, \"#0d0887\"], [0.1111111111111111, \"#46039f\"], [0.2222222222222222, \"#7201a8\"], [0.3333333333333333, \"#9c179e\"], [0.4444444444444444, \"#bd3786\"], [0.5555555555555556, \"#d8576b\"], [0.6666666666666666, \"#ed7953\"], [0.7777777777777778, \"#fb9f3a\"], [0.8888888888888888, \"#fdca26\"], [1.0, \"#f0f921\"]], \"type\": \"heatmap\"}], \"heatmapgl\": [{\"colorbar\": {\"outlinewidth\": 0, \"ticks\": \"\"}, \"colorscale\": [[0.0, \"#0d0887\"], [0.1111111111111111, \"#46039f\"], [0.2222222222222222, \"#7201a8\"], [0.3333333333333333, \"#9c179e\"], [0.4444444444444444, \"#bd3786\"], [0.5555555555555556, \"#d8576b\"], [0.6666666666666666, \"#ed7953\"], [0.7777777777777778, \"#fb9f3a\"], [0.8888888888888888, \"#fdca26\"], [1.0, \"#f0f921\"]], \"type\": \"heatmapgl\"}], \"histogram\": [{\"marker\": {\"colorbar\": {\"outlinewidth\": 0, \"ticks\": \"\"}}, \"type\": \"histogram\"}], \"histogram2d\": [{\"colorbar\": {\"outlinewidth\": 0, \"ticks\": \"\"}, \"colorscale\": [[0.0, \"#0d0887\"], [0.1111111111111111, \"#46039f\"], [0.2222222222222222, \"#7201a8\"], [0.3333333333333333, \"#9c179e\"], [0.4444444444444444, \"#bd3786\"], [0.5555555555555556, \"#d8576b\"], [0.6666666666666666, \"#ed7953\"], [0.7777777777777778, \"#fb9f3a\"], [0.8888888888888888, \"#fdca26\"], [1.0, \"#f0f921\"]], \"type\": \"histogram2d\"}], \"histogram2dcontour\": [{\"colorbar\": {\"outlinewidth\": 0, \"ticks\": \"\"}, \"colorscale\": [[0.0, \"#0d0887\"], [0.1111111111111111, \"#46039f\"], [0.2222222222222222, \"#7201a8\"], [0.3333333333333333, \"#9c179e\"], [0.4444444444444444, \"#bd3786\"], [0.5555555555555556, \"#d8576b\"], [0.6666666666666666, \"#ed7953\"], [0.7777777777777778, \"#fb9f3a\"], [0.8888888888888888, \"#fdca26\"], [1.0, \"#f0f921\"]], \"type\": \"histogram2dcontour\"}], \"mesh3d\": [{\"colorbar\": {\"outlinewidth\": 0, \"ticks\": \"\"}, \"type\": \"mesh3d\"}], \"parcoords\": [{\"line\": {\"colorbar\": {\"outlinewidth\": 0, \"ticks\": \"\"}}, \"type\": \"parcoords\"}], \"pie\": [{\"automargin\": true, \"type\": \"pie\"}], \"scatter\": [{\"marker\": {\"colorbar\": {\"outlinewidth\": 0, \"ticks\": \"\"}}, \"type\": \"scatter\"}], \"scatter3d\": [{\"line\": {\"colorbar\": {\"outlinewidth\": 0, \"ticks\": \"\"}}, \"marker\": {\"colorbar\": {\"outlinewidth\": 0, \"ticks\": \"\"}}, \"type\": \"scatter3d\"}], \"scattercarpet\": [{\"marker\": {\"colorbar\": {\"outlinewidth\": 0, \"ticks\": \"\"}}, \"type\": \"scattercarpet\"}], \"scattergeo\": [{\"marker\": {\"colorbar\": {\"outlinewidth\": 0, \"ticks\": \"\"}}, \"type\": \"scattergeo\"}], \"scattergl\": [{\"marker\": {\"colorbar\": {\"outlinewidth\": 0, \"ticks\": \"\"}}, \"type\": \"scattergl\"}], \"scattermapbox\": [{\"marker\": {\"colorbar\": {\"outlinewidth\": 0, \"ticks\": \"\"}}, \"type\": \"scattermapbox\"}], \"scatterpolar\": [{\"marker\": {\"colorbar\": {\"outlinewidth\": 0, \"ticks\": \"\"}}, \"type\": \"scatterpolar\"}], \"scatterpolargl\": [{\"marker\": {\"colorbar\": {\"outlinewidth\": 0, \"ticks\": \"\"}}, \"type\": \"scatterpolargl\"}], \"scatterternary\": [{\"marker\": {\"colorbar\": {\"outlinewidth\": 0, \"ticks\": \"\"}}, \"type\": \"scatterternary\"}], \"surface\": [{\"colorbar\": {\"outlinewidth\": 0, \"ticks\": \"\"}, \"colorscale\": [[0.0, \"#0d0887\"], [0.1111111111111111, \"#46039f\"], [0.2222222222222222, \"#7201a8\"], [0.3333333333333333, \"#9c179e\"], [0.4444444444444444, \"#bd3786\"], [0.5555555555555556, \"#d8576b\"], [0.6666666666666666, \"#ed7953\"], [0.7777777777777778, \"#fb9f3a\"], [0.8888888888888888, \"#fdca26\"], [1.0, \"#f0f921\"]], \"type\": \"surface\"}], \"table\": [{\"cells\": {\"fill\": {\"color\": \"#EBF0F8\"}, \"line\": {\"color\": \"white\"}}, \"header\": {\"fill\": {\"color\": \"#C8D4E3\"}, \"line\": {\"color\": \"white\"}}, \"type\": \"table\"}]}, \"layout\": {\"annotationdefaults\": {\"arrowcolor\": \"#2a3f5f\", \"arrowhead\": 0, \"arrowwidth\": 1}, \"coloraxis\": {\"colorbar\": {\"outlinewidth\": 0, \"ticks\": \"\"}}, \"colorscale\": {\"diverging\": [[0, \"#8e0152\"], [0.1, \"#c51b7d\"], [0.2, \"#de77ae\"], [0.3, \"#f1b6da\"], [0.4, \"#fde0ef\"], [0.5, \"#f7f7f7\"], [0.6, \"#e6f5d0\"], [0.7, \"#b8e186\"], [0.8, \"#7fbc41\"], [0.9, \"#4d9221\"], [1, \"#276419\"]], \"sequential\": [[0.0, \"#0d0887\"], [0.1111111111111111, \"#46039f\"], [0.2222222222222222, \"#7201a8\"], [0.3333333333333333, \"#9c179e\"], [0.4444444444444444, \"#bd3786\"], [0.5555555555555556, \"#d8576b\"], [0.6666666666666666, \"#ed7953\"], [0.7777777777777778, \"#fb9f3a\"], [0.8888888888888888, \"#fdca26\"], [1.0, \"#f0f921\"]], \"sequentialminus\": [[0.0, \"#0d0887\"], [0.1111111111111111, \"#46039f\"], [0.2222222222222222, \"#7201a8\"], [0.3333333333333333, \"#9c179e\"], [0.4444444444444444, \"#bd3786\"], [0.5555555555555556, \"#d8576b\"], [0.6666666666666666, \"#ed7953\"], [0.7777777777777778, \"#fb9f3a\"], [0.8888888888888888, \"#fdca26\"], [1.0, \"#f0f921\"]]}, \"colorway\": [\"#636efa\", \"#EF553B\", \"#00cc96\", \"#ab63fa\", \"#FFA15A\", \"#19d3f3\", \"#FF6692\", \"#B6E880\", \"#FF97FF\", \"#FECB52\"], \"font\": {\"color\": \"#2a3f5f\"}, \"geo\": {\"bgcolor\": \"white\", \"lakecolor\": \"white\", \"landcolor\": \"#E5ECF6\", \"showlakes\": true, \"showland\": true, \"subunitcolor\": \"white\"}, \"hoverlabel\": {\"align\": \"left\"}, \"hovermode\": \"closest\", \"mapbox\": {\"style\": \"light\"}, \"paper_bgcolor\": \"white\", \"plot_bgcolor\": \"#E5ECF6\", \"polar\": {\"angularaxis\": {\"gridcolor\": \"white\", \"linecolor\": \"white\", \"ticks\": \"\"}, \"bgcolor\": \"#E5ECF6\", \"radialaxis\": {\"gridcolor\": \"white\", \"linecolor\": \"white\", \"ticks\": \"\"}}, \"scene\": {\"xaxis\": {\"backgroundcolor\": \"#E5ECF6\", \"gridcolor\": \"white\", \"gridwidth\": 2, \"linecolor\": \"white\", \"showbackground\": true, \"ticks\": \"\", \"zerolinecolor\": \"white\"}, \"yaxis\": {\"backgroundcolor\": \"#E5ECF6\", \"gridcolor\": \"white\", \"gridwidth\": 2, \"linecolor\": \"white\", \"showbackground\": true, \"ticks\": \"\", \"zerolinecolor\": \"white\"}, \"zaxis\": {\"backgroundcolor\": \"#E5ECF6\", \"gridcolor\": \"white\", \"gridwidth\": 2, \"linecolor\": \"white\", \"showbackground\": true, \"ticks\": \"\", \"zerolinecolor\": \"white\"}}, \"shapedefaults\": {\"line\": {\"color\": \"#2a3f5f\"}}, \"ternary\": {\"aaxis\": {\"gridcolor\": \"white\", \"linecolor\": \"white\", \"ticks\": \"\"}, \"baxis\": {\"gridcolor\": \"white\", \"linecolor\": \"white\", \"ticks\": \"\"}, \"bgcolor\": \"#E5ECF6\", \"caxis\": {\"gridcolor\": \"white\", \"linecolor\": \"white\", \"ticks\": \"\"}}, \"title\": {\"x\": 0.05}, \"xaxis\": {\"automargin\": true, \"gridcolor\": \"white\", \"linecolor\": \"white\", \"ticks\": \"\", \"title\": {\"standoff\": 15}, \"zerolinecolor\": \"white\", \"zerolinewidth\": 2}, \"yaxis\": {\"automargin\": true, \"gridcolor\": \"white\", \"linecolor\": \"white\", \"ticks\": \"\", \"title\": {\"standoff\": 15}, \"zerolinecolor\": \"white\", \"zerolinewidth\": 2}}}, \"title\": {\"text\": \"3d TSNE Plot for Outliers\"}, \"width\": 900},\n",
       "                        {\"responsive\": true}\n",
       "                    ).then(function(){\n",
       "                            \n",
       "var gd = document.getElementById('f6beb812-6838-46bb-8644-3392e7ea5cd4');\n",
       "var x = new MutationObserver(function (mutations, observer) {{\n",
       "        var display = window.getComputedStyle(gd).display;\n",
       "        if (!display || display === 'none') {{\n",
       "            console.log([gd, 'removed!']);\n",
       "            Plotly.purge(gd);\n",
       "            observer.disconnect();\n",
       "        }}\n",
       "}});\n",
       "\n",
       "// Listen for the removal of the full notebook cells\n",
       "var notebookContainer = gd.closest('#notebook-container');\n",
       "if (notebookContainer) {{\n",
       "    x.observe(notebookContainer, {childList: true});\n",
       "}}\n",
       "\n",
       "// Listen for the clearing of the current output cell\n",
       "var outputEl = gd.closest('.output');\n",
       "if (outputEl) {{\n",
       "    x.observe(outputEl, {childList: true});\n",
       "}}\n",
       "\n",
       "                        })\n",
       "                };\n",
       "                });\n",
       "            </script>\n",
       "        </div>"
      ]
     },
     "metadata": {},
     "output_type": "display_data"
    }
   ],
   "source": [
    "# plot a model\n",
    "plot_model(ifrst)"
   ]
  },
  {
   "cell_type": "code",
   "execution_count": 27,
   "metadata": {},
   "outputs": [
    {
     "data": {
      "text/html": [
       "<div>\n",
       "<style scoped>\n",
       "    .dataframe tbody tr th:only-of-type {\n",
       "        vertical-align: middle;\n",
       "    }\n",
       "\n",
       "    .dataframe tbody tr th {\n",
       "        vertical-align: top;\n",
       "    }\n",
       "\n",
       "    .dataframe thead th {\n",
       "        text-align: right;\n",
       "    }\n",
       "</style>\n",
       "<table border=\"1\" class=\"dataframe\">\n",
       "  <thead>\n",
       "    <tr style=\"text-align: right;\">\n",
       "      <th></th>\n",
       "      <th>Col1</th>\n",
       "      <th>Col2</th>\n",
       "      <th>Col3</th>\n",
       "      <th>Col4</th>\n",
       "      <th>Col5</th>\n",
       "      <th>Col6</th>\n",
       "      <th>Col7</th>\n",
       "      <th>Col8</th>\n",
       "      <th>Col9</th>\n",
       "      <th>Col10</th>\n",
       "      <th>Label</th>\n",
       "      <th>Score</th>\n",
       "    </tr>\n",
       "  </thead>\n",
       "  <tbody>\n",
       "    <tr>\n",
       "      <th>0</th>\n",
       "      <td>0.263995</td>\n",
       "      <td>0.764929</td>\n",
       "      <td>0.138424</td>\n",
       "      <td>0.935242</td>\n",
       "      <td>0.605867</td>\n",
       "      <td>0.518790</td>\n",
       "      <td>0.912225</td>\n",
       "      <td>0.608234</td>\n",
       "      <td>0.723782</td>\n",
       "      <td>0.733591</td>\n",
       "      <td>0</td>\n",
       "      <td>2.264701</td>\n",
       "    </tr>\n",
       "    <tr>\n",
       "      <th>1</th>\n",
       "      <td>0.546092</td>\n",
       "      <td>0.653975</td>\n",
       "      <td>0.065575</td>\n",
       "      <td>0.227772</td>\n",
       "      <td>0.845269</td>\n",
       "      <td>0.837066</td>\n",
       "      <td>0.272379</td>\n",
       "      <td>0.331679</td>\n",
       "      <td>0.429297</td>\n",
       "      <td>0.367422</td>\n",
       "      <td>0</td>\n",
       "      <td>-3.867778</td>\n",
       "    </tr>\n",
       "    <tr>\n",
       "      <th>2</th>\n",
       "      <td>0.336714</td>\n",
       "      <td>0.538842</td>\n",
       "      <td>0.192801</td>\n",
       "      <td>0.553563</td>\n",
       "      <td>0.074515</td>\n",
       "      <td>0.332993</td>\n",
       "      <td>0.365792</td>\n",
       "      <td>0.861309</td>\n",
       "      <td>0.899017</td>\n",
       "      <td>0.088600</td>\n",
       "      <td>0</td>\n",
       "      <td>5.257160</td>\n",
       "    </tr>\n",
       "    <tr>\n",
       "      <th>3</th>\n",
       "      <td>0.092108</td>\n",
       "      <td>0.995017</td>\n",
       "      <td>0.014465</td>\n",
       "      <td>0.176371</td>\n",
       "      <td>0.241530</td>\n",
       "      <td>0.514724</td>\n",
       "      <td>0.562208</td>\n",
       "      <td>0.158963</td>\n",
       "      <td>0.073715</td>\n",
       "      <td>0.208463</td>\n",
       "      <td>1</td>\n",
       "      <td>20.127716</td>\n",
       "    </tr>\n",
       "    <tr>\n",
       "      <th>4</th>\n",
       "      <td>0.325261</td>\n",
       "      <td>0.805968</td>\n",
       "      <td>0.957033</td>\n",
       "      <td>0.331665</td>\n",
       "      <td>0.307923</td>\n",
       "      <td>0.355315</td>\n",
       "      <td>0.501899</td>\n",
       "      <td>0.558449</td>\n",
       "      <td>0.885169</td>\n",
       "      <td>0.182754</td>\n",
       "      <td>0</td>\n",
       "      <td>-1.766322</td>\n",
       "    </tr>\n",
       "    <tr>\n",
       "      <th>5</th>\n",
       "      <td>0.212465</td>\n",
       "      <td>0.780305</td>\n",
       "      <td>0.458444</td>\n",
       "      <td>0.634509</td>\n",
       "      <td>0.373030</td>\n",
       "      <td>0.465651</td>\n",
       "      <td>0.413997</td>\n",
       "      <td>0.013080</td>\n",
       "      <td>0.570250</td>\n",
       "      <td>0.736672</td>\n",
       "      <td>0</td>\n",
       "      <td>-8.573052</td>\n",
       "    </tr>\n",
       "    <tr>\n",
       "      <th>6</th>\n",
       "      <td>0.258566</td>\n",
       "      <td>0.437318</td>\n",
       "      <td>0.559648</td>\n",
       "      <td>0.109203</td>\n",
       "      <td>0.994553</td>\n",
       "      <td>0.896994</td>\n",
       "      <td>0.488469</td>\n",
       "      <td>0.251943</td>\n",
       "      <td>0.017265</td>\n",
       "      <td>0.538513</td>\n",
       "      <td>0</td>\n",
       "      <td>7.422739</td>\n",
       "    </tr>\n",
       "    <tr>\n",
       "      <th>7</th>\n",
       "      <td>0.869237</td>\n",
       "      <td>0.277979</td>\n",
       "      <td>0.423076</td>\n",
       "      <td>0.112472</td>\n",
       "      <td>0.183727</td>\n",
       "      <td>0.034960</td>\n",
       "      <td>0.111114</td>\n",
       "      <td>0.249330</td>\n",
       "      <td>0.550683</td>\n",
       "      <td>0.049843</td>\n",
       "      <td>1</td>\n",
       "      <td>14.149092</td>\n",
       "    </tr>\n",
       "    <tr>\n",
       "      <th>8</th>\n",
       "      <td>0.197078</td>\n",
       "      <td>0.843918</td>\n",
       "      <td>0.243396</td>\n",
       "      <td>0.281278</td>\n",
       "      <td>0.329148</td>\n",
       "      <td>0.734582</td>\n",
       "      <td>0.191947</td>\n",
       "      <td>0.927804</td>\n",
       "      <td>0.713269</td>\n",
       "      <td>0.891548</td>\n",
       "      <td>0</td>\n",
       "      <td>10.778967</td>\n",
       "    </tr>\n",
       "    <tr>\n",
       "      <th>9</th>\n",
       "      <td>0.292985</td>\n",
       "      <td>0.703432</td>\n",
       "      <td>0.439621</td>\n",
       "      <td>0.107868</td>\n",
       "      <td>0.922947</td>\n",
       "      <td>0.253458</td>\n",
       "      <td>0.295652</td>\n",
       "      <td>0.355287</td>\n",
       "      <td>0.980911</td>\n",
       "      <td>0.308864</td>\n",
       "      <td>0</td>\n",
       "      <td>3.599734</td>\n",
       "    </tr>\n",
       "    <tr>\n",
       "      <th>10</th>\n",
       "      <td>0.821783</td>\n",
       "      <td>0.087778</td>\n",
       "      <td>0.439292</td>\n",
       "      <td>0.521600</td>\n",
       "      <td>0.437606</td>\n",
       "      <td>0.172574</td>\n",
       "      <td>0.117117</td>\n",
       "      <td>0.594212</td>\n",
       "      <td>0.456008</td>\n",
       "      <td>0.441427</td>\n",
       "      <td>0</td>\n",
       "      <td>-6.179795</td>\n",
       "    </tr>\n",
       "    <tr>\n",
       "      <th>11</th>\n",
       "      <td>0.796623</td>\n",
       "      <td>0.230543</td>\n",
       "      <td>0.993018</td>\n",
       "      <td>0.077075</td>\n",
       "      <td>0.094068</td>\n",
       "      <td>0.718628</td>\n",
       "      <td>0.977611</td>\n",
       "      <td>0.333386</td>\n",
       "      <td>0.634843</td>\n",
       "      <td>0.028729</td>\n",
       "      <td>1</td>\n",
       "      <td>22.184131</td>\n",
       "    </tr>\n",
       "    <tr>\n",
       "      <th>12</th>\n",
       "      <td>0.045577</td>\n",
       "      <td>0.335215</td>\n",
       "      <td>0.657812</td>\n",
       "      <td>0.723783</td>\n",
       "      <td>0.352304</td>\n",
       "      <td>0.069137</td>\n",
       "      <td>0.355386</td>\n",
       "      <td>0.448042</td>\n",
       "      <td>0.426716</td>\n",
       "      <td>0.894023</td>\n",
       "      <td>0</td>\n",
       "      <td>0.356734</td>\n",
       "    </tr>\n",
       "    <tr>\n",
       "      <th>13</th>\n",
       "      <td>0.613660</td>\n",
       "      <td>0.709061</td>\n",
       "      <td>0.726767</td>\n",
       "      <td>0.862584</td>\n",
       "      <td>0.593116</td>\n",
       "      <td>0.474138</td>\n",
       "      <td>0.941633</td>\n",
       "      <td>0.788438</td>\n",
       "      <td>0.323293</td>\n",
       "      <td>0.931074</td>\n",
       "      <td>0</td>\n",
       "      <td>3.271837</td>\n",
       "    </tr>\n",
       "    <tr>\n",
       "      <th>14</th>\n",
       "      <td>0.950745</td>\n",
       "      <td>0.005154</td>\n",
       "      <td>0.084187</td>\n",
       "      <td>0.478148</td>\n",
       "      <td>0.212836</td>\n",
       "      <td>0.714347</td>\n",
       "      <td>0.664819</td>\n",
       "      <td>0.803558</td>\n",
       "      <td>0.465466</td>\n",
       "      <td>0.305692</td>\n",
       "      <td>0</td>\n",
       "      <td>9.271337</td>\n",
       "    </tr>\n",
       "    <tr>\n",
       "      <th>15</th>\n",
       "      <td>0.336346</td>\n",
       "      <td>0.252265</td>\n",
       "      <td>0.212287</td>\n",
       "      <td>0.020201</td>\n",
       "      <td>0.203514</td>\n",
       "      <td>0.534468</td>\n",
       "      <td>0.476263</td>\n",
       "      <td>0.845669</td>\n",
       "      <td>0.155377</td>\n",
       "      <td>0.442781</td>\n",
       "      <td>0</td>\n",
       "      <td>2.407468</td>\n",
       "    </tr>\n",
       "    <tr>\n",
       "      <th>16</th>\n",
       "      <td>0.034441</td>\n",
       "      <td>0.193546</td>\n",
       "      <td>0.758742</td>\n",
       "      <td>0.921457</td>\n",
       "      <td>0.461482</td>\n",
       "      <td>0.052933</td>\n",
       "      <td>0.411735</td>\n",
       "      <td>0.301823</td>\n",
       "      <td>0.387138</td>\n",
       "      <td>0.571518</td>\n",
       "      <td>0</td>\n",
       "      <td>4.246517</td>\n",
       "    </tr>\n",
       "    <tr>\n",
       "      <th>17</th>\n",
       "      <td>0.741544</td>\n",
       "      <td>0.398253</td>\n",
       "      <td>0.766472</td>\n",
       "      <td>0.635670</td>\n",
       "      <td>0.261735</td>\n",
       "      <td>0.837371</td>\n",
       "      <td>0.001797</td>\n",
       "      <td>0.568841</td>\n",
       "      <td>0.037360</td>\n",
       "      <td>0.292769</td>\n",
       "      <td>0</td>\n",
       "      <td>6.686032</td>\n",
       "    </tr>\n",
       "    <tr>\n",
       "      <th>18</th>\n",
       "      <td>0.184433</td>\n",
       "      <td>0.174112</td>\n",
       "      <td>0.301976</td>\n",
       "      <td>0.895893</td>\n",
       "      <td>0.285614</td>\n",
       "      <td>0.615993</td>\n",
       "      <td>0.197073</td>\n",
       "      <td>0.738881</td>\n",
       "      <td>0.831371</td>\n",
       "      <td>0.265761</td>\n",
       "      <td>0</td>\n",
       "      <td>3.984971</td>\n",
       "    </tr>\n",
       "    <tr>\n",
       "      <th>19</th>\n",
       "      <td>0.664515</td>\n",
       "      <td>0.703410</td>\n",
       "      <td>0.330706</td>\n",
       "      <td>0.233882</td>\n",
       "      <td>0.160896</td>\n",
       "      <td>0.373187</td>\n",
       "      <td>0.758885</td>\n",
       "      <td>0.127118</td>\n",
       "      <td>0.312419</td>\n",
       "      <td>0.162028</td>\n",
       "      <td>0</td>\n",
       "      <td>-3.363706</td>\n",
       "    </tr>\n",
       "    <tr>\n",
       "      <th>20</th>\n",
       "      <td>0.162825</td>\n",
       "      <td>0.674069</td>\n",
       "      <td>0.705447</td>\n",
       "      <td>0.774799</td>\n",
       "      <td>0.894267</td>\n",
       "      <td>0.443057</td>\n",
       "      <td>0.399779</td>\n",
       "      <td>0.009136</td>\n",
       "      <td>0.941851</td>\n",
       "      <td>0.982711</td>\n",
       "      <td>1</td>\n",
       "      <td>16.274816</td>\n",
       "    </tr>\n",
       "    <tr>\n",
       "      <th>21</th>\n",
       "      <td>0.729838</td>\n",
       "      <td>0.439146</td>\n",
       "      <td>0.131570</td>\n",
       "      <td>0.942077</td>\n",
       "      <td>0.797975</td>\n",
       "      <td>0.364697</td>\n",
       "      <td>0.799540</td>\n",
       "      <td>0.585000</td>\n",
       "      <td>0.488889</td>\n",
       "      <td>0.313987</td>\n",
       "      <td>0</td>\n",
       "      <td>-3.896428</td>\n",
       "    </tr>\n",
       "    <tr>\n",
       "      <th>22</th>\n",
       "      <td>0.628374</td>\n",
       "      <td>0.746294</td>\n",
       "      <td>0.829249</td>\n",
       "      <td>0.724112</td>\n",
       "      <td>0.302080</td>\n",
       "      <td>0.526148</td>\n",
       "      <td>0.854241</td>\n",
       "      <td>0.596767</td>\n",
       "      <td>0.757508</td>\n",
       "      <td>0.674008</td>\n",
       "      <td>0</td>\n",
       "      <td>-7.576896</td>\n",
       "    </tr>\n",
       "    <tr>\n",
       "      <th>23</th>\n",
       "      <td>0.057884</td>\n",
       "      <td>0.227162</td>\n",
       "      <td>0.022494</td>\n",
       "      <td>0.167069</td>\n",
       "      <td>0.631315</td>\n",
       "      <td>0.610103</td>\n",
       "      <td>0.277753</td>\n",
       "      <td>0.728503</td>\n",
       "      <td>0.716414</td>\n",
       "      <td>0.973370</td>\n",
       "      <td>1</td>\n",
       "      <td>14.516295</td>\n",
       "    </tr>\n",
       "    <tr>\n",
       "      <th>24</th>\n",
       "      <td>0.445535</td>\n",
       "      <td>0.640881</td>\n",
       "      <td>0.689264</td>\n",
       "      <td>0.937542</td>\n",
       "      <td>0.037016</td>\n",
       "      <td>0.316847</td>\n",
       "      <td>0.972312</td>\n",
       "      <td>0.224585</td>\n",
       "      <td>0.393000</td>\n",
       "      <td>0.857239</td>\n",
       "      <td>0</td>\n",
       "      <td>10.031685</td>\n",
       "    </tr>\n",
       "    <tr>\n",
       "      <th>25</th>\n",
       "      <td>0.801837</td>\n",
       "      <td>0.272857</td>\n",
       "      <td>0.109206</td>\n",
       "      <td>0.922978</td>\n",
       "      <td>0.656014</td>\n",
       "      <td>0.376589</td>\n",
       "      <td>0.735547</td>\n",
       "      <td>0.302567</td>\n",
       "      <td>0.988732</td>\n",
       "      <td>0.847391</td>\n",
       "      <td>0</td>\n",
       "      <td>11.061056</td>\n",
       "    </tr>\n",
       "    <tr>\n",
       "      <th>26</th>\n",
       "      <td>0.277096</td>\n",
       "      <td>0.376903</td>\n",
       "      <td>0.400168</td>\n",
       "      <td>0.327737</td>\n",
       "      <td>0.182600</td>\n",
       "      <td>0.280189</td>\n",
       "      <td>0.630646</td>\n",
       "      <td>0.210329</td>\n",
       "      <td>0.553328</td>\n",
       "      <td>0.080611</td>\n",
       "      <td>0</td>\n",
       "      <td>-8.945406</td>\n",
       "    </tr>\n",
       "    <tr>\n",
       "      <th>27</th>\n",
       "      <td>0.228634</td>\n",
       "      <td>0.894235</td>\n",
       "      <td>0.507206</td>\n",
       "      <td>0.380223</td>\n",
       "      <td>0.836156</td>\n",
       "      <td>0.645174</td>\n",
       "      <td>0.516243</td>\n",
       "      <td>0.638386</td>\n",
       "      <td>0.102725</td>\n",
       "      <td>0.620343</td>\n",
       "      <td>0</td>\n",
       "      <td>-5.120435</td>\n",
       "    </tr>\n",
       "    <tr>\n",
       "      <th>28</th>\n",
       "      <td>0.834861</td>\n",
       "      <td>0.973891</td>\n",
       "      <td>0.808398</td>\n",
       "      <td>0.222828</td>\n",
       "      <td>0.018934</td>\n",
       "      <td>0.708188</td>\n",
       "      <td>0.986392</td>\n",
       "      <td>0.545479</td>\n",
       "      <td>0.235898</td>\n",
       "      <td>0.844788</td>\n",
       "      <td>1</td>\n",
       "      <td>22.369637</td>\n",
       "    </tr>\n",
       "    <tr>\n",
       "      <th>29</th>\n",
       "      <td>0.669767</td>\n",
       "      <td>0.694779</td>\n",
       "      <td>0.191048</td>\n",
       "      <td>0.080716</td>\n",
       "      <td>0.441480</td>\n",
       "      <td>0.115675</td>\n",
       "      <td>0.054466</td>\n",
       "      <td>0.949300</td>\n",
       "      <td>0.318667</td>\n",
       "      <td>0.410017</td>\n",
       "      <td>0</td>\n",
       "      <td>11.213154</td>\n",
       "    </tr>\n",
       "    <tr>\n",
       "      <th>...</th>\n",
       "      <td>...</td>\n",
       "      <td>...</td>\n",
       "      <td>...</td>\n",
       "      <td>...</td>\n",
       "      <td>...</td>\n",
       "      <td>...</td>\n",
       "      <td>...</td>\n",
       "      <td>...</td>\n",
       "      <td>...</td>\n",
       "      <td>...</td>\n",
       "      <td>...</td>\n",
       "      <td>...</td>\n",
       "    </tr>\n",
       "    <tr>\n",
       "      <th>970</th>\n",
       "      <td>0.294840</td>\n",
       "      <td>0.585069</td>\n",
       "      <td>0.807763</td>\n",
       "      <td>0.161450</td>\n",
       "      <td>0.211258</td>\n",
       "      <td>0.093839</td>\n",
       "      <td>0.571983</td>\n",
       "      <td>0.580850</td>\n",
       "      <td>0.393022</td>\n",
       "      <td>0.656014</td>\n",
       "      <td>0</td>\n",
       "      <td>-6.118894</td>\n",
       "    </tr>\n",
       "    <tr>\n",
       "      <th>971</th>\n",
       "      <td>0.705692</td>\n",
       "      <td>0.112177</td>\n",
       "      <td>0.663997</td>\n",
       "      <td>0.139862</td>\n",
       "      <td>0.920007</td>\n",
       "      <td>0.906847</td>\n",
       "      <td>0.750630</td>\n",
       "      <td>0.634295</td>\n",
       "      <td>0.647978</td>\n",
       "      <td>0.436654</td>\n",
       "      <td>0</td>\n",
       "      <td>2.603727</td>\n",
       "    </tr>\n",
       "    <tr>\n",
       "      <th>972</th>\n",
       "      <td>0.211918</td>\n",
       "      <td>0.856126</td>\n",
       "      <td>0.070427</td>\n",
       "      <td>0.583225</td>\n",
       "      <td>0.907497</td>\n",
       "      <td>0.889385</td>\n",
       "      <td>0.801044</td>\n",
       "      <td>0.648346</td>\n",
       "      <td>0.699338</td>\n",
       "      <td>0.394943</td>\n",
       "      <td>0</td>\n",
       "      <td>6.833925</td>\n",
       "    </tr>\n",
       "    <tr>\n",
       "      <th>973</th>\n",
       "      <td>0.063201</td>\n",
       "      <td>0.400726</td>\n",
       "      <td>0.903851</td>\n",
       "      <td>0.406240</td>\n",
       "      <td>0.225658</td>\n",
       "      <td>0.106074</td>\n",
       "      <td>0.903802</td>\n",
       "      <td>0.548935</td>\n",
       "      <td>0.891103</td>\n",
       "      <td>0.136162</td>\n",
       "      <td>0</td>\n",
       "      <td>12.636818</td>\n",
       "    </tr>\n",
       "    <tr>\n",
       "      <th>974</th>\n",
       "      <td>0.276700</td>\n",
       "      <td>0.581179</td>\n",
       "      <td>0.571278</td>\n",
       "      <td>0.072169</td>\n",
       "      <td>0.896689</td>\n",
       "      <td>0.952245</td>\n",
       "      <td>0.901554</td>\n",
       "      <td>0.689246</td>\n",
       "      <td>0.792970</td>\n",
       "      <td>0.329273</td>\n",
       "      <td>0</td>\n",
       "      <td>7.361288</td>\n",
       "    </tr>\n",
       "    <tr>\n",
       "      <th>975</th>\n",
       "      <td>0.672459</td>\n",
       "      <td>0.511892</td>\n",
       "      <td>0.435040</td>\n",
       "      <td>0.226821</td>\n",
       "      <td>0.806597</td>\n",
       "      <td>0.930941</td>\n",
       "      <td>0.191688</td>\n",
       "      <td>0.080500</td>\n",
       "      <td>0.349206</td>\n",
       "      <td>0.359001</td>\n",
       "      <td>0</td>\n",
       "      <td>-1.372116</td>\n",
       "    </tr>\n",
       "    <tr>\n",
       "      <th>976</th>\n",
       "      <td>0.808206</td>\n",
       "      <td>0.841389</td>\n",
       "      <td>0.633951</td>\n",
       "      <td>0.503123</td>\n",
       "      <td>0.804177</td>\n",
       "      <td>0.860932</td>\n",
       "      <td>0.226067</td>\n",
       "      <td>0.270119</td>\n",
       "      <td>0.261800</td>\n",
       "      <td>0.574867</td>\n",
       "      <td>0</td>\n",
       "      <td>-2.655261</td>\n",
       "    </tr>\n",
       "    <tr>\n",
       "      <th>977</th>\n",
       "      <td>0.296538</td>\n",
       "      <td>0.369732</td>\n",
       "      <td>0.590277</td>\n",
       "      <td>0.112758</td>\n",
       "      <td>0.195718</td>\n",
       "      <td>0.165550</td>\n",
       "      <td>0.567765</td>\n",
       "      <td>0.516389</td>\n",
       "      <td>0.408517</td>\n",
       "      <td>0.623059</td>\n",
       "      <td>0</td>\n",
       "      <td>-10.855602</td>\n",
       "    </tr>\n",
       "    <tr>\n",
       "      <th>978</th>\n",
       "      <td>0.160127</td>\n",
       "      <td>0.800406</td>\n",
       "      <td>0.398444</td>\n",
       "      <td>0.863478</td>\n",
       "      <td>0.837672</td>\n",
       "      <td>0.899558</td>\n",
       "      <td>0.436551</td>\n",
       "      <td>0.673531</td>\n",
       "      <td>0.302354</td>\n",
       "      <td>0.771630</td>\n",
       "      <td>0</td>\n",
       "      <td>3.844390</td>\n",
       "    </tr>\n",
       "    <tr>\n",
       "      <th>979</th>\n",
       "      <td>0.439385</td>\n",
       "      <td>0.713612</td>\n",
       "      <td>0.306097</td>\n",
       "      <td>0.865955</td>\n",
       "      <td>0.230262</td>\n",
       "      <td>0.140354</td>\n",
       "      <td>0.175919</td>\n",
       "      <td>0.237217</td>\n",
       "      <td>0.223580</td>\n",
       "      <td>0.590675</td>\n",
       "      <td>0</td>\n",
       "      <td>-0.908283</td>\n",
       "    </tr>\n",
       "    <tr>\n",
       "      <th>980</th>\n",
       "      <td>0.555951</td>\n",
       "      <td>0.283735</td>\n",
       "      <td>0.153922</td>\n",
       "      <td>0.813109</td>\n",
       "      <td>0.151434</td>\n",
       "      <td>0.183059</td>\n",
       "      <td>0.558736</td>\n",
       "      <td>0.663170</td>\n",
       "      <td>0.364227</td>\n",
       "      <td>0.707085</td>\n",
       "      <td>0</td>\n",
       "      <td>-4.202020</td>\n",
       "    </tr>\n",
       "    <tr>\n",
       "      <th>981</th>\n",
       "      <td>0.386240</td>\n",
       "      <td>0.242926</td>\n",
       "      <td>0.178859</td>\n",
       "      <td>0.872446</td>\n",
       "      <td>0.809220</td>\n",
       "      <td>0.537070</td>\n",
       "      <td>0.956310</td>\n",
       "      <td>0.599172</td>\n",
       "      <td>0.920387</td>\n",
       "      <td>0.141029</td>\n",
       "      <td>0</td>\n",
       "      <td>7.981408</td>\n",
       "    </tr>\n",
       "    <tr>\n",
       "      <th>982</th>\n",
       "      <td>0.158690</td>\n",
       "      <td>0.237275</td>\n",
       "      <td>0.682426</td>\n",
       "      <td>0.366958</td>\n",
       "      <td>0.785488</td>\n",
       "      <td>0.555084</td>\n",
       "      <td>0.896773</td>\n",
       "      <td>0.731747</td>\n",
       "      <td>0.758292</td>\n",
       "      <td>0.392710</td>\n",
       "      <td>0</td>\n",
       "      <td>-5.085593</td>\n",
       "    </tr>\n",
       "    <tr>\n",
       "      <th>983</th>\n",
       "      <td>0.214500</td>\n",
       "      <td>0.499864</td>\n",
       "      <td>0.812871</td>\n",
       "      <td>0.307910</td>\n",
       "      <td>0.937555</td>\n",
       "      <td>0.604461</td>\n",
       "      <td>0.235869</td>\n",
       "      <td>0.266443</td>\n",
       "      <td>0.276143</td>\n",
       "      <td>0.558061</td>\n",
       "      <td>0</td>\n",
       "      <td>-5.515990</td>\n",
       "    </tr>\n",
       "    <tr>\n",
       "      <th>984</th>\n",
       "      <td>0.299579</td>\n",
       "      <td>0.384525</td>\n",
       "      <td>0.592180</td>\n",
       "      <td>0.067107</td>\n",
       "      <td>0.150639</td>\n",
       "      <td>0.106180</td>\n",
       "      <td>0.493598</td>\n",
       "      <td>0.680112</td>\n",
       "      <td>0.328136</td>\n",
       "      <td>0.747692</td>\n",
       "      <td>0</td>\n",
       "      <td>-1.602348</td>\n",
       "    </tr>\n",
       "    <tr>\n",
       "      <th>985</th>\n",
       "      <td>0.569162</td>\n",
       "      <td>0.084294</td>\n",
       "      <td>0.639347</td>\n",
       "      <td>0.542296</td>\n",
       "      <td>0.901477</td>\n",
       "      <td>0.940967</td>\n",
       "      <td>0.255409</td>\n",
       "      <td>0.695081</td>\n",
       "      <td>0.208943</td>\n",
       "      <td>0.870679</td>\n",
       "      <td>0</td>\n",
       "      <td>7.820181</td>\n",
       "    </tr>\n",
       "    <tr>\n",
       "      <th>986</th>\n",
       "      <td>0.488615</td>\n",
       "      <td>0.024616</td>\n",
       "      <td>0.601601</td>\n",
       "      <td>0.639884</td>\n",
       "      <td>0.806708</td>\n",
       "      <td>0.487639</td>\n",
       "      <td>0.349057</td>\n",
       "      <td>0.544117</td>\n",
       "      <td>0.295269</td>\n",
       "      <td>0.743577</td>\n",
       "      <td>0</td>\n",
       "      <td>-9.487866</td>\n",
       "    </tr>\n",
       "    <tr>\n",
       "      <th>987</th>\n",
       "      <td>0.878295</td>\n",
       "      <td>0.748962</td>\n",
       "      <td>0.568487</td>\n",
       "      <td>0.745517</td>\n",
       "      <td>0.139195</td>\n",
       "      <td>0.102361</td>\n",
       "      <td>0.205971</td>\n",
       "      <td>0.094097</td>\n",
       "      <td>0.357218</td>\n",
       "      <td>0.360233</td>\n",
       "      <td>0</td>\n",
       "      <td>5.418674</td>\n",
       "    </tr>\n",
       "    <tr>\n",
       "      <th>988</th>\n",
       "      <td>0.649381</td>\n",
       "      <td>0.336001</td>\n",
       "      <td>0.261147</td>\n",
       "      <td>0.810581</td>\n",
       "      <td>0.296225</td>\n",
       "      <td>0.085464</td>\n",
       "      <td>0.231399</td>\n",
       "      <td>0.175404</td>\n",
       "      <td>0.332651</td>\n",
       "      <td>0.439911</td>\n",
       "      <td>0</td>\n",
       "      <td>-4.082461</td>\n",
       "    </tr>\n",
       "    <tr>\n",
       "      <th>989</th>\n",
       "      <td>0.465713</td>\n",
       "      <td>0.305747</td>\n",
       "      <td>0.865416</td>\n",
       "      <td>0.229325</td>\n",
       "      <td>0.162482</td>\n",
       "      <td>0.121197</td>\n",
       "      <td>0.804117</td>\n",
       "      <td>0.624310</td>\n",
       "      <td>0.719397</td>\n",
       "      <td>0.358621</td>\n",
       "      <td>0</td>\n",
       "      <td>-1.926236</td>\n",
       "    </tr>\n",
       "    <tr>\n",
       "      <th>990</th>\n",
       "      <td>0.168138</td>\n",
       "      <td>0.792278</td>\n",
       "      <td>0.394959</td>\n",
       "      <td>0.619092</td>\n",
       "      <td>0.163022</td>\n",
       "      <td>0.094084</td>\n",
       "      <td>0.215489</td>\n",
       "      <td>0.231208</td>\n",
       "      <td>0.275478</td>\n",
       "      <td>0.534818</td>\n",
       "      <td>0</td>\n",
       "      <td>-0.229975</td>\n",
       "    </tr>\n",
       "    <tr>\n",
       "      <th>991</th>\n",
       "      <td>0.875295</td>\n",
       "      <td>0.782866</td>\n",
       "      <td>0.793565</td>\n",
       "      <td>0.208893</td>\n",
       "      <td>0.775079</td>\n",
       "      <td>0.519371</td>\n",
       "      <td>0.872406</td>\n",
       "      <td>0.538987</td>\n",
       "      <td>0.859932</td>\n",
       "      <td>0.160512</td>\n",
       "      <td>0</td>\n",
       "      <td>4.467815</td>\n",
       "    </tr>\n",
       "    <tr>\n",
       "      <th>992</th>\n",
       "      <td>0.841132</td>\n",
       "      <td>0.155188</td>\n",
       "      <td>0.592404</td>\n",
       "      <td>0.190720</td>\n",
       "      <td>0.863543</td>\n",
       "      <td>0.445444</td>\n",
       "      <td>0.880586</td>\n",
       "      <td>0.678148</td>\n",
       "      <td>0.775182</td>\n",
       "      <td>0.339491</td>\n",
       "      <td>0</td>\n",
       "      <td>0.600758</td>\n",
       "    </tr>\n",
       "    <tr>\n",
       "      <th>993</th>\n",
       "      <td>0.332921</td>\n",
       "      <td>0.301362</td>\n",
       "      <td>0.251237</td>\n",
       "      <td>0.851209</td>\n",
       "      <td>0.151266</td>\n",
       "      <td>0.189643</td>\n",
       "      <td>0.804999</td>\n",
       "      <td>0.677735</td>\n",
       "      <td>0.684131</td>\n",
       "      <td>0.430055</td>\n",
       "      <td>0</td>\n",
       "      <td>-2.971815</td>\n",
       "    </tr>\n",
       "    <tr>\n",
       "      <th>994</th>\n",
       "      <td>0.513048</td>\n",
       "      <td>0.262604</td>\n",
       "      <td>0.081283</td>\n",
       "      <td>0.439154</td>\n",
       "      <td>0.151183</td>\n",
       "      <td>0.065230</td>\n",
       "      <td>0.387066</td>\n",
       "      <td>0.470679</td>\n",
       "      <td>0.333616</td>\n",
       "      <td>0.685385</td>\n",
       "      <td>0</td>\n",
       "      <td>-3.176998</td>\n",
       "    </tr>\n",
       "    <tr>\n",
       "      <th>995</th>\n",
       "      <td>0.305055</td>\n",
       "      <td>0.656837</td>\n",
       "      <td>0.331665</td>\n",
       "      <td>0.822525</td>\n",
       "      <td>0.907127</td>\n",
       "      <td>0.882276</td>\n",
       "      <td>0.855732</td>\n",
       "      <td>0.584786</td>\n",
       "      <td>0.808640</td>\n",
       "      <td>0.242762</td>\n",
       "      <td>0</td>\n",
       "      <td>2.638708</td>\n",
       "    </tr>\n",
       "    <tr>\n",
       "      <th>996</th>\n",
       "      <td>0.812627</td>\n",
       "      <td>0.864258</td>\n",
       "      <td>0.616604</td>\n",
       "      <td>0.167966</td>\n",
       "      <td>0.811223</td>\n",
       "      <td>0.938071</td>\n",
       "      <td>0.418462</td>\n",
       "      <td>0.472306</td>\n",
       "      <td>0.348347</td>\n",
       "      <td>0.671129</td>\n",
       "      <td>0</td>\n",
       "      <td>0.263670</td>\n",
       "    </tr>\n",
       "    <tr>\n",
       "      <th>997</th>\n",
       "      <td>0.250967</td>\n",
       "      <td>0.138627</td>\n",
       "      <td>0.919703</td>\n",
       "      <td>0.461234</td>\n",
       "      <td>0.886555</td>\n",
       "      <td>0.869888</td>\n",
       "      <td>0.800908</td>\n",
       "      <td>0.530324</td>\n",
       "      <td>0.779433</td>\n",
       "      <td>0.234952</td>\n",
       "      <td>0</td>\n",
       "      <td>5.859212</td>\n",
       "    </tr>\n",
       "    <tr>\n",
       "      <th>998</th>\n",
       "      <td>0.502436</td>\n",
       "      <td>0.936820</td>\n",
       "      <td>0.580062</td>\n",
       "      <td>0.540773</td>\n",
       "      <td>0.151995</td>\n",
       "      <td>0.059452</td>\n",
       "      <td>0.225220</td>\n",
       "      <td>0.242755</td>\n",
       "      <td>0.279385</td>\n",
       "      <td>0.538755</td>\n",
       "      <td>0</td>\n",
       "      <td>0.002430</td>\n",
       "    </tr>\n",
       "    <tr>\n",
       "      <th>999</th>\n",
       "      <td>0.457991</td>\n",
       "      <td>0.017755</td>\n",
       "      <td>0.714113</td>\n",
       "      <td>0.125992</td>\n",
       "      <td>0.063316</td>\n",
       "      <td>0.154739</td>\n",
       "      <td>0.922974</td>\n",
       "      <td>0.692299</td>\n",
       "      <td>0.816777</td>\n",
       "      <td>0.307592</td>\n",
       "      <td>1</td>\n",
       "      <td>14.494782</td>\n",
       "    </tr>\n",
       "  </tbody>\n",
       "</table>\n",
       "<p>1000 rows × 12 columns</p>\n",
       "</div>"
      ],
      "text/plain": [
       "         Col1      Col2      Col3      Col4      Col5      Col6      Col7  \\\n",
       "0    0.263995  0.764929  0.138424  0.935242  0.605867  0.518790  0.912225   \n",
       "1    0.546092  0.653975  0.065575  0.227772  0.845269  0.837066  0.272379   \n",
       "2    0.336714  0.538842  0.192801  0.553563  0.074515  0.332993  0.365792   \n",
       "3    0.092108  0.995017  0.014465  0.176371  0.241530  0.514724  0.562208   \n",
       "4    0.325261  0.805968  0.957033  0.331665  0.307923  0.355315  0.501899   \n",
       "5    0.212465  0.780305  0.458444  0.634509  0.373030  0.465651  0.413997   \n",
       "6    0.258566  0.437318  0.559648  0.109203  0.994553  0.896994  0.488469   \n",
       "7    0.869237  0.277979  0.423076  0.112472  0.183727  0.034960  0.111114   \n",
       "8    0.197078  0.843918  0.243396  0.281278  0.329148  0.734582  0.191947   \n",
       "9    0.292985  0.703432  0.439621  0.107868  0.922947  0.253458  0.295652   \n",
       "10   0.821783  0.087778  0.439292  0.521600  0.437606  0.172574  0.117117   \n",
       "11   0.796623  0.230543  0.993018  0.077075  0.094068  0.718628  0.977611   \n",
       "12   0.045577  0.335215  0.657812  0.723783  0.352304  0.069137  0.355386   \n",
       "13   0.613660  0.709061  0.726767  0.862584  0.593116  0.474138  0.941633   \n",
       "14   0.950745  0.005154  0.084187  0.478148  0.212836  0.714347  0.664819   \n",
       "15   0.336346  0.252265  0.212287  0.020201  0.203514  0.534468  0.476263   \n",
       "16   0.034441  0.193546  0.758742  0.921457  0.461482  0.052933  0.411735   \n",
       "17   0.741544  0.398253  0.766472  0.635670  0.261735  0.837371  0.001797   \n",
       "18   0.184433  0.174112  0.301976  0.895893  0.285614  0.615993  0.197073   \n",
       "19   0.664515  0.703410  0.330706  0.233882  0.160896  0.373187  0.758885   \n",
       "20   0.162825  0.674069  0.705447  0.774799  0.894267  0.443057  0.399779   \n",
       "21   0.729838  0.439146  0.131570  0.942077  0.797975  0.364697  0.799540   \n",
       "22   0.628374  0.746294  0.829249  0.724112  0.302080  0.526148  0.854241   \n",
       "23   0.057884  0.227162  0.022494  0.167069  0.631315  0.610103  0.277753   \n",
       "24   0.445535  0.640881  0.689264  0.937542  0.037016  0.316847  0.972312   \n",
       "25   0.801837  0.272857  0.109206  0.922978  0.656014  0.376589  0.735547   \n",
       "26   0.277096  0.376903  0.400168  0.327737  0.182600  0.280189  0.630646   \n",
       "27   0.228634  0.894235  0.507206  0.380223  0.836156  0.645174  0.516243   \n",
       "28   0.834861  0.973891  0.808398  0.222828  0.018934  0.708188  0.986392   \n",
       "29   0.669767  0.694779  0.191048  0.080716  0.441480  0.115675  0.054466   \n",
       "..        ...       ...       ...       ...       ...       ...       ...   \n",
       "970  0.294840  0.585069  0.807763  0.161450  0.211258  0.093839  0.571983   \n",
       "971  0.705692  0.112177  0.663997  0.139862  0.920007  0.906847  0.750630   \n",
       "972  0.211918  0.856126  0.070427  0.583225  0.907497  0.889385  0.801044   \n",
       "973  0.063201  0.400726  0.903851  0.406240  0.225658  0.106074  0.903802   \n",
       "974  0.276700  0.581179  0.571278  0.072169  0.896689  0.952245  0.901554   \n",
       "975  0.672459  0.511892  0.435040  0.226821  0.806597  0.930941  0.191688   \n",
       "976  0.808206  0.841389  0.633951  0.503123  0.804177  0.860932  0.226067   \n",
       "977  0.296538  0.369732  0.590277  0.112758  0.195718  0.165550  0.567765   \n",
       "978  0.160127  0.800406  0.398444  0.863478  0.837672  0.899558  0.436551   \n",
       "979  0.439385  0.713612  0.306097  0.865955  0.230262  0.140354  0.175919   \n",
       "980  0.555951  0.283735  0.153922  0.813109  0.151434  0.183059  0.558736   \n",
       "981  0.386240  0.242926  0.178859  0.872446  0.809220  0.537070  0.956310   \n",
       "982  0.158690  0.237275  0.682426  0.366958  0.785488  0.555084  0.896773   \n",
       "983  0.214500  0.499864  0.812871  0.307910  0.937555  0.604461  0.235869   \n",
       "984  0.299579  0.384525  0.592180  0.067107  0.150639  0.106180  0.493598   \n",
       "985  0.569162  0.084294  0.639347  0.542296  0.901477  0.940967  0.255409   \n",
       "986  0.488615  0.024616  0.601601  0.639884  0.806708  0.487639  0.349057   \n",
       "987  0.878295  0.748962  0.568487  0.745517  0.139195  0.102361  0.205971   \n",
       "988  0.649381  0.336001  0.261147  0.810581  0.296225  0.085464  0.231399   \n",
       "989  0.465713  0.305747  0.865416  0.229325  0.162482  0.121197  0.804117   \n",
       "990  0.168138  0.792278  0.394959  0.619092  0.163022  0.094084  0.215489   \n",
       "991  0.875295  0.782866  0.793565  0.208893  0.775079  0.519371  0.872406   \n",
       "992  0.841132  0.155188  0.592404  0.190720  0.863543  0.445444  0.880586   \n",
       "993  0.332921  0.301362  0.251237  0.851209  0.151266  0.189643  0.804999   \n",
       "994  0.513048  0.262604  0.081283  0.439154  0.151183  0.065230  0.387066   \n",
       "995  0.305055  0.656837  0.331665  0.822525  0.907127  0.882276  0.855732   \n",
       "996  0.812627  0.864258  0.616604  0.167966  0.811223  0.938071  0.418462   \n",
       "997  0.250967  0.138627  0.919703  0.461234  0.886555  0.869888  0.800908   \n",
       "998  0.502436  0.936820  0.580062  0.540773  0.151995  0.059452  0.225220   \n",
       "999  0.457991  0.017755  0.714113  0.125992  0.063316  0.154739  0.922974   \n",
       "\n",
       "         Col8      Col9     Col10  Label      Score  \n",
       "0    0.608234  0.723782  0.733591      0   2.264701  \n",
       "1    0.331679  0.429297  0.367422      0  -3.867778  \n",
       "2    0.861309  0.899017  0.088600      0   5.257160  \n",
       "3    0.158963  0.073715  0.208463      1  20.127716  \n",
       "4    0.558449  0.885169  0.182754      0  -1.766322  \n",
       "5    0.013080  0.570250  0.736672      0  -8.573052  \n",
       "6    0.251943  0.017265  0.538513      0   7.422739  \n",
       "7    0.249330  0.550683  0.049843      1  14.149092  \n",
       "8    0.927804  0.713269  0.891548      0  10.778967  \n",
       "9    0.355287  0.980911  0.308864      0   3.599734  \n",
       "10   0.594212  0.456008  0.441427      0  -6.179795  \n",
       "11   0.333386  0.634843  0.028729      1  22.184131  \n",
       "12   0.448042  0.426716  0.894023      0   0.356734  \n",
       "13   0.788438  0.323293  0.931074      0   3.271837  \n",
       "14   0.803558  0.465466  0.305692      0   9.271337  \n",
       "15   0.845669  0.155377  0.442781      0   2.407468  \n",
       "16   0.301823  0.387138  0.571518      0   4.246517  \n",
       "17   0.568841  0.037360  0.292769      0   6.686032  \n",
       "18   0.738881  0.831371  0.265761      0   3.984971  \n",
       "19   0.127118  0.312419  0.162028      0  -3.363706  \n",
       "20   0.009136  0.941851  0.982711      1  16.274816  \n",
       "21   0.585000  0.488889  0.313987      0  -3.896428  \n",
       "22   0.596767  0.757508  0.674008      0  -7.576896  \n",
       "23   0.728503  0.716414  0.973370      1  14.516295  \n",
       "24   0.224585  0.393000  0.857239      0  10.031685  \n",
       "25   0.302567  0.988732  0.847391      0  11.061056  \n",
       "26   0.210329  0.553328  0.080611      0  -8.945406  \n",
       "27   0.638386  0.102725  0.620343      0  -5.120435  \n",
       "28   0.545479  0.235898  0.844788      1  22.369637  \n",
       "29   0.949300  0.318667  0.410017      0  11.213154  \n",
       "..        ...       ...       ...    ...        ...  \n",
       "970  0.580850  0.393022  0.656014      0  -6.118894  \n",
       "971  0.634295  0.647978  0.436654      0   2.603727  \n",
       "972  0.648346  0.699338  0.394943      0   6.833925  \n",
       "973  0.548935  0.891103  0.136162      0  12.636818  \n",
       "974  0.689246  0.792970  0.329273      0   7.361288  \n",
       "975  0.080500  0.349206  0.359001      0  -1.372116  \n",
       "976  0.270119  0.261800  0.574867      0  -2.655261  \n",
       "977  0.516389  0.408517  0.623059      0 -10.855602  \n",
       "978  0.673531  0.302354  0.771630      0   3.844390  \n",
       "979  0.237217  0.223580  0.590675      0  -0.908283  \n",
       "980  0.663170  0.364227  0.707085      0  -4.202020  \n",
       "981  0.599172  0.920387  0.141029      0   7.981408  \n",
       "982  0.731747  0.758292  0.392710      0  -5.085593  \n",
       "983  0.266443  0.276143  0.558061      0  -5.515990  \n",
       "984  0.680112  0.328136  0.747692      0  -1.602348  \n",
       "985  0.695081  0.208943  0.870679      0   7.820181  \n",
       "986  0.544117  0.295269  0.743577      0  -9.487866  \n",
       "987  0.094097  0.357218  0.360233      0   5.418674  \n",
       "988  0.175404  0.332651  0.439911      0  -4.082461  \n",
       "989  0.624310  0.719397  0.358621      0  -1.926236  \n",
       "990  0.231208  0.275478  0.534818      0  -0.229975  \n",
       "991  0.538987  0.859932  0.160512      0   4.467815  \n",
       "992  0.678148  0.775182  0.339491      0   0.600758  \n",
       "993  0.677735  0.684131  0.430055      0  -2.971815  \n",
       "994  0.470679  0.333616  0.685385      0  -3.176998  \n",
       "995  0.584786  0.808640  0.242762      0   2.638708  \n",
       "996  0.472306  0.348347  0.671129      0   0.263670  \n",
       "997  0.530324  0.779433  0.234952      0   5.859212  \n",
       "998  0.242755  0.279385  0.538755      0   0.002430  \n",
       "999  0.692299  0.816777  0.307592      1  14.494782  \n",
       "\n",
       "[1000 rows x 12 columns]"
      ]
     },
     "execution_count": 27,
     "metadata": {},
     "output_type": "execute_result"
    }
   ],
   "source": [
    "# create a model\n",
    "svm = create_model('svm')\n",
    "svm_assign = assign_model(svm)\n",
    "svm_assign"
   ]
  },
  {
   "cell_type": "code",
   "execution_count": 28,
   "metadata": {},
   "outputs": [
    {
     "data": {
      "text/html": [
       "        <script type=\"text/javascript\">\n",
       "        window.PlotlyConfig = {MathJaxConfig: 'local'};\n",
       "        if (window.MathJax) {MathJax.Hub.Config({SVG: {font: \"STIX-Web\"}});}\n",
       "        if (typeof require !== 'undefined') {\n",
       "        require.undef(\"plotly\");\n",
       "        requirejs.config({\n",
       "            paths: {\n",
       "                'plotly': ['https://cdn.plot.ly/plotly-latest.min']\n",
       "            }\n",
       "        });\n",
       "        require(['plotly'], function(Plotly) {\n",
       "            window._Plotly = Plotly;\n",
       "        });\n",
       "        }\n",
       "        </script>\n",
       "        "
      ]
     },
     "metadata": {},
     "output_type": "display_data"
    },
    {
     "data": {
      "application/vnd.plotly.v1+json": {
       "config": {
        "plotlyServerURL": "https://plot.ly"
       },
       "data": [
        {
         "customdata": [
          [
           0.263995357
          ],
          [
           0.546092303
          ],
          [
           0.33671410399999996
          ],
          [
           0.092107835
          ],
          [
           0.325261175
          ],
          [
           0.212464853
          ],
          [
           0.258565714
          ],
          [
           0.869236755
          ],
          [
           0.197077957
          ],
          [
           0.292984504
          ],
          [
           0.82178316
          ],
          [
           0.796622959
          ],
          [
           0.045577010999999994
          ],
          [
           0.613660351
          ],
          [
           0.9507445659999999
          ],
          [
           0.33634633700000005
          ],
          [
           0.034440667
          ],
          [
           0.741544275
          ],
          [
           0.18443265
          ],
          [
           0.664514943
          ],
          [
           0.16282485800000002
          ],
          [
           0.729838445
          ],
          [
           0.62837389
          ],
          [
           0.057883660999999996
          ],
          [
           0.445534827
          ],
          [
           0.80183695
          ],
          [
           0.27709612
          ],
          [
           0.228634015
          ],
          [
           0.834860657
          ],
          [
           0.6697665110000001
          ],
          [
           0.532527349
          ],
          [
           0.17045907100000002
          ],
          [
           0.5102884679999999
          ],
          [
           0.977561989
          ],
          [
           0.249775993
          ],
          [
           0.9755006820000001
          ],
          [
           0.613701727
          ],
          [
           0.16742036300000002
          ],
          [
           0.537472516
          ],
          [
           0.379899131
          ],
          [
           0.633897303
          ],
          [
           0.633960424
          ],
          [
           0.5499746529999999
          ],
          [
           0.178172988
          ],
          [
           0.85563814
          ],
          [
           0.321796672
          ],
          [
           0.8174905370000001
          ],
          [
           0.254879417
          ],
          [
           0.344140513
          ],
          [
           0.8061457259999999
          ],
          [
           0.27708167100000003
          ],
          [
           0.544328519
          ],
          [
           0.07708393
          ],
          [
           0.273081458
          ],
          [
           0.390877336
          ],
          [
           0.349621385
          ],
          [
           0.214549744
          ],
          [
           0.206075222
          ],
          [
           0.86461997
          ],
          [
           0.9817088540000001
          ],
          [
           0.33482964600000004
          ],
          [
           0.648387061
          ],
          [
           0.093643561
          ],
          [
           0.837802698
          ],
          [
           0.7603439670000001
          ],
          [
           0.29140417399999996
          ],
          [
           0.3413454
          ],
          [
           0.7611124840000001
          ],
          [
           0.541899775
          ],
          [
           0.684176639
          ],
          [
           0.983535597
          ],
          [
           0.52081245
          ],
          [
           0.328227724
          ],
          [
           0.09715793800000001
          ],
          [
           0.876088593
          ],
          [
           0.870214512
          ],
          [
           0.656086992
          ],
          [
           0.306791514
          ],
          [
           0.48126734
          ],
          [
           0.259559174
          ],
          [
           0.326123655
          ],
          [
           0.930568042
          ],
          [
           0.6583894
          ],
          [
           0.689992335
          ],
          [
           0.315781109
          ],
          [
           0.5669050929999999
          ],
          [
           0.637526619
          ],
          [
           0.687540723
          ],
          [
           0.324300602
          ],
          [
           0.592704906
          ],
          [
           0.7402531259999999
          ],
          [
           0.5940328770000001
          ],
          [
           0.596452977
          ],
          [
           0.27768081699999997
          ],
          [
           0.258329663
          ],
          [
           0.142460864
          ],
          [
           0.435533461
          ],
          [
           0.7024990440000001
          ],
          [
           0.58897535
          ],
          [
           0.653304374
          ],
          [
           0.336968524
          ],
          [
           0.631244736
          ],
          [
           0.73530076
          ],
          [
           0.050390366
          ],
          [
           0.064264924
          ],
          [
           0.665359476
          ],
          [
           0.917835245
          ],
          [
           0.44651012
          ],
          [
           0.661938199
          ],
          [
           0.43935985299999997
          ],
          [
           0.6875724040000001
          ],
          [
           0.363462248
          ],
          [
           0.6542621820000001
          ],
          [
           0.578553536
          ],
          [
           0.065927945
          ],
          [
           0.550148559
          ],
          [
           0.13918281400000002
          ],
          [
           0.080004635
          ],
          [
           0.278228358
          ],
          [
           0.560124266
          ],
          [
           0.53639864
          ],
          [
           0.42653190399999996
          ],
          [
           0.789109796
          ],
          [
           0.742900474
          ],
          [
           0.901692589
          ],
          [
           0.650337401
          ],
          [
           0.114057311
          ],
          [
           0.260812592
          ],
          [
           0.43991232
          ],
          [
           0.964409284
          ],
          [
           0.184401415
          ],
          [
           0.345145446
          ],
          [
           0.17589458100000002
          ],
          [
           0.312514453
          ],
          [
           0.674131879
          ],
          [
           0.32825045
          ],
          [
           0.598231057
          ],
          [
           0.09259881699999999
          ],
          [
           0.497916521
          ],
          [
           0.419776521
          ],
          [
           0.31217670000000003
          ],
          [
           0.937857107
          ],
          [
           0.049030963
          ],
          [
           0.47610452600000003
          ],
          [
           0.447397526
          ],
          [
           0.295806058
          ],
          [
           0.737363977
          ],
          [
           0.625896253
          ],
          [
           0.408813429
          ],
          [
           0.437511156
          ],
          [
           0.691351375
          ],
          [
           0.935555275
          ],
          [
           0.437846654
          ],
          [
           0.072217715
          ],
          [
           0.67636067
          ],
          [
           0.468883999
          ],
          [
           0.543820644
          ],
          [
           0.6555226470000001
          ],
          [
           0.6935289240000001
          ],
          [
           0.10887831199999999
          ],
          [
           0.285463743
          ],
          [
           0
          ],
          [
           0.706495497
          ],
          [
           0.273530633
          ],
          [
           0.292320271
          ],
          [
           0.673984307
          ],
          [
           0.12612182800000002
          ],
          [
           0.9467074590000001
          ],
          [
           0.9363388979999999
          ],
          [
           0.8537553640000001
          ],
          [
           0.7060713609999999
          ],
          [
           0.693682186
          ],
          [
           0.508527882
          ],
          [
           0.34717038899999997
          ],
          [
           0.704154263
          ],
          [
           0.658730088
          ],
          [
           0.155841557
          ],
          [
           0.311085435
          ],
          [
           0.281135347
          ],
          [
           0.094587802
          ],
          [
           0.6832609540000001
          ],
          [
           0.9077292509999999
          ],
          [
           0.29151267399999997
          ],
          [
           0.752734459
          ],
          [
           0.93482964
          ],
          [
           0.071413953
          ],
          [
           0.5948963270000001
          ],
          [
           0.404672015
          ],
          [
           0.13837621
          ],
          [
           0.7473384679999999
          ],
          [
           0.530882486
          ],
          [
           0.282649594
          ],
          [
           0.699335734
          ],
          [
           0.056111250999999994
          ],
          [
           0.855234998
          ],
          [
           0.07789512700000001
          ],
          [
           0.891649583
          ],
          [
           0.38674227899999997
          ],
          [
           0.27113158
          ],
          [
           0.958888961
          ],
          [
           0.085120869
          ],
          [
           0.5269022489999999
          ],
          [
           0.066577785
          ],
          [
           0.841506738
          ],
          [
           0.255342095
          ],
          [
           0.060545771
          ],
          [
           0.073385869
          ],
          [
           0.187493723
          ],
          [
           0.858365688
          ],
          [
           0.090640352
          ],
          [
           0.7097252270000001
          ],
          [
           0.631300647
          ],
          [
           0.24750447399999997
          ],
          [
           0.822843584
          ],
          [
           0.373476759
          ],
          [
           0.625538582
          ],
          [
           0.292951715
          ],
          [
           0.299730324
          ],
          [
           0.25121407
          ],
          [
           0.344480551
          ],
          [
           0.293064767
          ],
          [
           0.7628032240000001
          ],
          [
           0.7384708040000001
          ],
          [
           0.674883265
          ],
          [
           0.719151612
          ],
          [
           0.13098021599999998
          ],
          [
           0.511328036
          ],
          [
           0.04492903
          ],
          [
           0.560914449
          ],
          [
           0.7440406409999999
          ],
          [
           0.266961634
          ],
          [
           0.644231853
          ],
          [
           0.038113352
          ],
          [
           0.05715529900000001
          ],
          [
           0.34139246100000004
          ],
          [
           0.7204636320000001
          ],
          [
           0.402878236
          ],
          [
           0.635148967
          ],
          [
           0.320729467
          ],
          [
           0.09120969400000001
          ],
          [
           0.23414609
          ],
          [
           0.8902211309999999
          ],
          [
           0.602170884
          ],
          [
           0.633652055
          ],
          [
           0.806240837
          ],
          [
           0.739731184
          ],
          [
           0.465231269
          ],
          [
           0.7321109
          ],
          [
           0.373874305
          ],
          [
           0.501587947
          ],
          [
           0.11538315800000001
          ],
          [
           0.7319466040000001
          ],
          [
           0.41829872799999995
          ],
          [
           0.062259590999999996
          ],
          [
           0.391496379
          ],
          [
           0.35984929
          ],
          [
           0.24523562699999998
          ],
          [
           0.610028339
          ],
          [
           0.43540360200000006
          ],
          [
           0.434309675
          ],
          [
           0.523763344
          ],
          [
           0.17118786600000002
          ],
          [
           0.18773430300000002
          ],
          [
           0.945014638
          ],
          [
           0.027851097000000002
          ],
          [
           0.68445706
          ],
          [
           0.178014532
          ],
          [
           0.643427879
          ],
          [
           0.59588355
          ],
          [
           0.372361682
          ],
          [
           0.586103584
          ],
          [
           0.271658852
          ],
          [
           0.59951107
          ],
          [
           0.468363088
          ],
          [
           0.314515565
          ],
          [
           0.21893726
          ],
          [
           0.254716562
          ],
          [
           0.25612815
          ],
          [
           0.602259755
          ],
          [
           0.134381075
          ],
          [
           0.513887424
          ],
          [
           0.624241636
          ],
          [
           0.160251854
          ],
          [
           0.580708108
          ],
          [
           0.270540486
          ],
          [
           0.832919932
          ],
          [
           0.93032134
          ],
          [
           0.719157884
          ],
          [
           0.886720033
          ],
          [
           0.098792281
          ],
          [
           0.787174286
          ],
          [
           0.365592376
          ],
          [
           0.719576193
          ],
          [
           0.8058956
          ],
          [
           0.7555783340000001
          ],
          [
           0.526005909
          ],
          [
           0.68880424
          ],
          [
           0.22111531199999998
          ],
          [
           0.739369477
          ],
          [
           0.408440236
          ],
          [
           0.348926542
          ],
          [
           0.433713763
          ],
          [
           0.5964966070000001
          ],
          [
           0.6942953000000001
          ],
          [
           0.7090309659999999
          ],
          [
           0.867652984
          ],
          [
           0.89332545
          ],
          [
           0.746020922
          ],
          [
           0.538284443
          ],
          [
           0.8922193140000001
          ],
          [
           0.935175765
          ],
          [
           0.260527707
          ],
          [
           0.956780449
          ],
          [
           0.204932484
          ],
          [
           0.687733351
          ],
          [
           0.329063619
          ],
          [
           0.632149831
          ],
          [
           0.463744506
          ],
          [
           0.698859621
          ],
          [
           0.385446564
          ],
          [
           0.47997537700000004
          ],
          [
           0.732279108
          ],
          [
           0.3813543
          ],
          [
           0.459326013
          ],
          [
           0.257401434
          ],
          [
           0.665014804
          ],
          [
           0.103399542
          ],
          [
           0.425284413
          ],
          [
           0.943529051
          ],
          [
           0.594750236
          ],
          [
           0.543776817
          ],
          [
           0.18203988
          ],
          [
           0.23584208399999998
          ],
          [
           0.585984497
          ],
          [
           0.762013168
          ],
          [
           0.6849829070000001
          ],
          [
           0.676936933
          ],
          [
           0.290184964
          ],
          [
           0.48106822200000005
          ],
          [
           0.492766033
          ],
          [
           0.22185623399999999
          ],
          [
           0.053875998
          ],
          [
           0.082751144
          ],
          [
           0.385366225
          ],
          [
           0.702513961
          ],
          [
           0.91553156
          ],
          [
           0.082087436
          ],
          [
           0.251280378
          ],
          [
           0.41672181700000005
          ],
          [
           0.277032672
          ],
          [
           0.579539754
          ],
          [
           0.569363476
          ],
          [
           0.133399703
          ],
          [
           0.265045463
          ],
          [
           0.936571901
          ],
          [
           0.252618554
          ],
          [
           0.054033081
          ],
          [
           0.802481439
          ],
          [
           0.528197693
          ],
          [
           0.9515026
          ],
          [
           0.572121173
          ],
          [
           0.752938227
          ],
          [
           0.143857535
          ],
          [
           0.513484576
          ],
          [
           0.313322389
          ],
          [
           0.6877973959999999
          ],
          [
           0.37705984
          ],
          [
           0.348226142
          ],
          [
           0.67763282
          ],
          [
           0.24138752100000002
          ],
          [
           0.8506501790000001
          ],
          [
           0.22034810300000002
          ],
          [
           0.476445464
          ],
          [
           0.690324025
          ],
          [
           0.364695946
          ],
          [
           0.6492491970000001
          ],
          [
           0.9437019209999999
          ],
          [
           0.529645971
          ],
          [
           0.299097002
          ],
          [
           0.96696247
          ],
          [
           0.272005242
          ],
          [
           0.314161447
          ],
          [
           0.752020991
          ],
          [
           0.221882453
          ],
          [
           0.7203326729999999
          ],
          [
           0.379204782
          ],
          [
           0.60168653
          ],
          [
           0.582932673
          ],
          [
           0.950809853
          ],
          [
           0.58830141
          ],
          [
           0.880887227
          ],
          [
           0.467857701
          ],
          [
           0.8799021709999999
          ],
          [
           0.619844009
          ],
          [
           0.359002573
          ],
          [
           0.291511278
          ],
          [
           0.694157143
          ],
          [
           0.727960353
          ],
          [
           0.617703921
          ],
          [
           0.39581257
          ],
          [
           0.58317282
          ],
          [
           0.710332374
          ],
          [
           0.253753693
          ],
          [
           0.049412227999999996
          ],
          [
           0.728378695
          ],
          [
           0.432432881
          ],
          [
           0.58612345
          ],
          [
           0.052342373
          ],
          [
           0.053483902
          ],
          [
           0.518729378
          ],
          [
           0.933040208
          ],
          [
           0.7035542840000001
          ],
          [
           0.268989899
          ],
          [
           0.733006927
          ],
          [
           0.44435246700000003
          ],
          [
           0.5833946210000001
          ],
          [
           0.871172692
          ],
          [
           0.42876707799999997
          ],
          [
           0.30046084100000003
          ],
          [
           0.9533294590000001
          ],
          [
           0.606443965
          ],
          [
           0.90986815
          ],
          [
           0.714896449
          ],
          [
           0.49734950899999997
          ],
          [
           0.8530974859999999
          ],
          [
           0.721804145
          ],
          [
           0.303467328
          ],
          [
           0.664485096
          ],
          [
           0.27978062
          ],
          [
           0.569481665
          ],
          [
           0.628628926
          ],
          [
           0.088368123
          ],
          [
           0.733567326
          ],
          [
           0.537436778
          ],
          [
           0.638593691
          ],
          [
           0.954726948
          ],
          [
           0.632202332
          ],
          [
           0.642134651
          ],
          [
           0.744653087
          ],
          [
           0.115714007
          ],
          [
           0.48625007299999995
          ],
          [
           0.440356144
          ],
          [
           0.08272289
          ],
          [
           0.511591027
          ],
          [
           0.394627555
          ],
          [
           0.224394
          ],
          [
           0.626927584
          ],
          [
           0.290254057
          ],
          [
           0.779008053
          ],
          [
           0.86610579
          ],
          [
           0.873326081
          ],
          [
           0.49548916
          ],
          [
           0.594297695
          ],
          [
           0.9182015840000001
          ],
          [
           0.5770427539999999
          ],
          [
           0.019467671000000002
          ],
          [
           0.6702982820000001
          ],
          [
           0.546595316
          ],
          [
           0.591665146
          ],
          [
           0.42155819
          ],
          [
           0.6856085590000001
          ],
          [
           0.340303024
          ],
          [
           0.675626741
          ],
          [
           0.319067345
          ],
          [
           0.38849966399999997
          ],
          [
           0.706949589
          ],
          [
           0.559409515
          ],
          [
           0.687663508
          ],
          [
           0.7088045540000001
          ],
          [
           0.6818880940000001
          ],
          [
           0.42253510899999996
          ],
          [
           0.320004605
          ],
          [
           0.6582813679999999
          ],
          [
           0.634154867
          ],
          [
           0.7773320090000001
          ],
          [
           0.812677205
          ],
          [
           0.074280797
          ],
          [
           0.39600217
          ],
          [
           0.054933913
          ],
          [
           0.825058925
          ],
          [
           0.382642009
          ],
          [
           0.8687298179999999
          ],
          [
           0.588043346
          ],
          [
           0.891551577
          ],
          [
           0.10920046
          ],
          [
           0.647682781
          ],
          [
           0.724342512
          ],
          [
           0.07016304400000001
          ],
          [
           0.280882054
          ],
          [
           0.039113261
          ],
          [
           0.579641592
          ],
          [
           0.639000922
          ],
          [
           0.281745925
          ],
          [
           0.647857744
          ],
          [
           0.6479057970000001
          ],
          [
           0.875226264
          ],
          [
           0.567603305
          ],
          [
           0.262940591
          ],
          [
           0.268026042
          ],
          [
           0.40519133
          ],
          [
           0.479965451
          ],
          [
           0.33552403
          ],
          [
           0.777165379
          ],
          [
           0.42548796299999997
          ],
          [
           0.237986115
          ],
          [
           0.142522971
          ],
          [
           0.724176488
          ],
          [
           0.234698933
          ],
          [
           0.07818228099999999
          ],
          [
           0.855990155
          ],
          [
           0.270251765
          ],
          [
           0.435517841
          ],
          [
           0.762697513
          ],
          [
           0.46448725799999996
          ],
          [
           0.396112685
          ],
          [
           0.37638092100000003
          ],
          [
           0.29459467699999997
          ],
          [
           0.6944921209999999
          ],
          [
           0.622767949
          ],
          [
           0.8475597220000001
          ],
          [
           0.301463054
          ],
          [
           0.912937812
          ],
          [
           0.500017182
          ],
          [
           0.902587935
          ],
          [
           0.304517943
          ],
          [
           0.299165673
          ],
          [
           0.092014087
          ],
          [
           0.488548917
          ],
          [
           0.664664437
          ],
          [
           0.26534954899999996
          ],
          [
           0.723657021
          ],
          [
           0.149262385
          ],
          [
           0.04577339
          ],
          [
           0.69661064
          ],
          [
           0.42181486
          ],
          [
           0.733845785
          ],
          [
           0.418795386
          ],
          [
           0.677443529
          ],
          [
           0.26128360300000003
          ],
          [
           0.268527767
          ],
          [
           0.5443222360000001
          ],
          [
           0.431632036
          ],
          [
           0.981018141
          ],
          [
           0.21498072399999998
          ],
          [
           0.39472999299999995
          ],
          [
           0.122224944
          ],
          [
           0.297496875
          ],
          [
           0.37490443100000004
          ],
          [
           0.68698771
          ],
          [
           0.388549207
          ],
          [
           0.039296071
          ],
          [
           0.73553424
          ],
          [
           0.37929489299999997
          ],
          [
           0.7321233859999999
          ],
          [
           0.33922143899999996
          ],
          [
           0.659450594
          ],
          [
           0.054838642
          ],
          [
           0.640112102
          ],
          [
           0.30714170399999996
          ],
          [
           0.39661190700000004
          ],
          [
           0.420439161
          ],
          [
           0.24171497399999997
          ],
          [
           0.065893153
          ],
          [
           0.9105219370000001
          ],
          [
           0.697163103
          ],
          [
           0.072559853
          ],
          [
           0.81825094
          ],
          [
           0.311888815
          ],
          [
           0.961644609
          ],
          [
           0.816325524
          ],
          [
           0.14647302
          ],
          [
           0.548753945
          ],
          [
           0.946158087
          ],
          [
           0.293992717
          ],
          [
           0.331479643
          ],
          [
           0.9062200309999999
          ],
          [
           0.525540416
          ],
          [
           0.83301411
          ],
          [
           0.514849806
          ],
          [
           0.574609024
          ],
          [
           0.46871185299999996
          ],
          [
           0.71002775
          ],
          [
           0.645973276
          ],
          [
           0.229794416
          ],
          [
           0.551783393
          ],
          [
           0.055822990999999995
          ],
          [
           0.331750941
          ],
          [
           0.715520198
          ],
          [
           0.583924357
          ],
          [
           0.30695769100000003
          ],
          [
           0.7914782370000001
          ],
          [
           0.16423663900000002
          ],
          [
           0.065711219
          ],
          [
           0.948993132
          ],
          [
           0.080423835
          ],
          [
           0.052495426
          ],
          [
           0.566346135
          ],
          [
           0.3630266
          ],
          [
           0.605442195
          ],
          [
           0.6308505839999999
          ],
          [
           0.065791238
          ],
          [
           0.28681707100000003
          ],
          [
           0.685462839
          ],
          [
           0.260853706
          ],
          [
           0.659122429
          ],
          [
           0.44317392200000005
          ],
          [
           0.602063986
          ],
          [
           0.060366910999999995
          ],
          [
           0.781903153
          ],
          [
           0.5145798070000001
          ],
          [
           0.48388621299999995
          ],
          [
           0.600213807
          ],
          [
           0.49736405200000006
          ],
          [
           0.411145245
          ],
          [
           0.116999171
          ],
          [
           0.34189014100000004
          ],
          [
           0.746950848
          ],
          [
           0.39629274600000003
          ],
          [
           0.6221438429999999
          ],
          [
           0.335271141
          ],
          [
           0.140257137
          ],
          [
           0.081620681
          ],
          [
           0.069837569
          ],
          [
           0.46894000799999996
          ],
          [
           0.9908574170000001
          ],
          [
           0.896616832
          ],
          [
           0.255310561
          ],
          [
           0.22464526699999998
          ],
          [
           0.01991825
          ],
          [
           0.296480415
          ],
          [
           0.155458996
          ],
          [
           0.577916714
          ],
          [
           0.9563030309999999
          ],
          [
           0.813464394
          ],
          [
           0.529675785
          ],
          [
           0.287671353
          ],
          [
           0.48039136
          ],
          [
           0.28104482199999997
          ],
          [
           0.633196521
          ],
          [
           0.09332537699999999
          ],
          [
           0.28447398100000004
          ],
          [
           0.052223775
          ],
          [
           0.051129385
          ],
          [
           0.967405608
          ],
          [
           0.040045727999999996
          ],
          [
           0.9085829209999999
          ],
          [
           0.6621174160000001
          ],
          [
           0.42470320899999997
          ],
          [
           0.72207806
          ],
          [
           0.666193327
          ],
          [
           0.509681253
          ],
          [
           0.7513536209999999
          ],
          [
           0.279073124
          ],
          [
           0.074927
          ],
          [
           0.916359535
          ],
          [
           0.31040327
          ],
          [
           0.716604052
          ],
          [
           0.485587085
          ],
          [
           0.30607518100000003
          ],
          [
           0.477558204
          ],
          [
           0.7119239409999999
          ],
          [
           0.066348638
          ],
          [
           0.27453935100000004
          ],
          [
           0.31082252
          ],
          [
           0.47607312700000004
          ],
          [
           0.186795565
          ],
          [
           0.26654207
          ],
          [
           0.070231142
          ],
          [
           0.26951927
          ],
          [
           0.800004713
          ],
          [
           0.27363366699999997
          ],
          [
           0.14647919199999998
          ],
          [
           0.378318951
          ],
          [
           0.373849065
          ],
          [
           0.242170835
          ],
          [
           0.249796488
          ],
          [
           0.066591188
          ],
          [
           0.372956798
          ],
          [
           0.501812291
          ],
          [
           0.313097752
          ],
          [
           0.8802021959999999
          ],
          [
           0.51981893
          ],
          [
           0.364138746
          ],
          [
           0.49268289600000004
          ],
          [
           0.285732652
          ],
          [
           0.890114985
          ],
          [
           0.316419561
          ],
          [
           0.26866354
          ],
          [
           0.771975959
          ],
          [
           0.968888992
          ],
          [
           0.080334377
          ],
          [
           0.7368282209999999
          ],
          [
           0.30055807100000004
          ],
          [
           0.9179503929999999
          ],
          [
           0.465815039
          ],
          [
           0.054036682
          ],
          [
           0.963150123
          ],
          [
           0.08965350300000001
          ],
          [
           0.7076932340000001
          ],
          [
           0.636416037
          ],
          [
           0.539521117
          ],
          [
           0.114757161
          ],
          [
           0.357312419
          ],
          [
           0.67639834
          ],
          [
           0.43482839
          ],
          [
           0.032326387000000005
          ],
          [
           0.711365605
          ],
          [
           0.187486519
          ],
          [
           0.052789653
          ],
          [
           0.5058636129999999
          ],
          [
           0.927431873
          ],
          [
           0.6809842559999999
          ],
          [
           0.882822186
          ],
          [
           0.495705441
          ],
          [
           0.596240398
          ],
          [
           0.320610701
          ],
          [
           0.3413685
          ],
          [
           0.159681797
          ],
          [
           0.318133669
          ],
          [
           0.8393010479999999
          ],
          [
           0.06435925099999999
          ],
          [
           0.470216633
          ],
          [
           0.7762522909999999
          ],
          [
           0.635843383
          ],
          [
           0.62510543
          ],
          [
           0.52959065
          ],
          [
           0.986900166
          ],
          [
           0.078585688
          ],
          [
           0.233284267
          ],
          [
           0.363330957
          ],
          [
           0.7167169809999999
          ],
          [
           0.37588979200000006
          ],
          [
           0.223316889
          ],
          [
           0.299343986
          ],
          [
           0.538595767
          ],
          [
           0.730297124
          ],
          [
           0.66033077
          ],
          [
           0.435296009
          ],
          [
           0.326494313
          ],
          [
           0.854402708
          ],
          [
           0.5734938470000001
          ],
          [
           0.757786135
          ],
          [
           0.704743233
          ],
          [
           0.281575597
          ],
          [
           0.671968208
          ],
          [
           0.313726015
          ],
          [
           0.364338275
          ],
          [
           0.368216396
          ],
          [
           0.38629520700000003
          ],
          [
           0.655971865
          ],
          [
           0.5660252729999999
          ],
          [
           0.424999093
          ],
          [
           0.090110371
          ],
          [
           0.772350538
          ],
          [
           0.331047258
          ],
          [
           0.273716188
          ],
          [
           0.23877568
          ],
          [
           0.37307977200000003
          ],
          [
           0.331185868
          ],
          [
           0.256134531
          ],
          [
           0.678373225
          ],
          [
           0.43463833799999996
          ],
          [
           0.654668307
          ],
          [
           0.986681065
          ],
          [
           0.371520495
          ],
          [
           0.408359618
          ],
          [
           0.40932365
          ],
          [
           0.283412082
          ],
          [
           0.395246531
          ],
          [
           0.010984428000000001
          ],
          [
           0.306013869
          ],
          [
           0.266194806
          ],
          [
           0.299318521
          ],
          [
           0.318293946
          ],
          [
           0.74282591
          ],
          [
           0.09766432900000001
          ],
          [
           0.079666942
          ],
          [
           0.613258767
          ],
          [
           0.99443072
          ],
          [
           0.568835082
          ],
          [
           0.7080345159999999
          ],
          [
           0.37059271899999996
          ],
          [
           0.669867361
          ],
          [
           0.651295625
          ],
          [
           0.462531569
          ],
          [
           0.7196256190000001
          ],
          [
           0.45377248
          ],
          [
           0.394863946
          ],
          [
           0.323974831
          ],
          [
           0.146454724
          ],
          [
           0.7790670409999999
          ],
          [
           0.401828915
          ],
          [
           0.601479585
          ],
          [
           0.856423023
          ],
          [
           0.565242962
          ],
          [
           0.301225108
          ],
          [
           0.282108144
          ],
          [
           0.594378011
          ],
          [
           0.705312368
          ],
          [
           0.5408696279999999
          ],
          [
           0.319249574
          ],
          [
           0.36176613799999996
          ],
          [
           0.625000704
          ],
          [
           0.316287401
          ],
          [
           0.047239021
          ],
          [
           0.801182233
          ],
          [
           0.508474436
          ],
          [
           0.8178934109999999
          ],
          [
           0.399235601
          ],
          [
           0.9740519990000001
          ],
          [
           0.72241535
          ],
          [
           0.039564764
          ],
          [
           0.908684108
          ],
          [
           0.47301013399999997
          ],
          [
           0.7180496279999999
          ],
          [
           0.7634790690000001
          ],
          [
           0.6475965370000001
          ],
          [
           0.8949973859999999
          ],
          [
           0.22282590100000002
          ],
          [
           0.359012234
          ],
          [
           0.944910252
          ],
          [
           0.297877816
          ],
          [
           0.172517997
          ],
          [
           0.556586265
          ],
          [
           0.876481735
          ],
          [
           0.48667784299999994
          ],
          [
           0.459496733
          ],
          [
           0.47412637700000004
          ],
          [
           0.70101144
          ],
          [
           0.337597387
          ],
          [
           0.537578886
          ],
          [
           0.966992448
          ],
          [
           0.056849545
          ],
          [
           0.233249065
          ],
          [
           0.380054711
          ],
          [
           0.602929443
          ],
          [
           0.303847999
          ],
          [
           0.170194553
          ],
          [
           0.972168554
          ],
          [
           0.332168927
          ],
          [
           0.6887286890000001
          ],
          [
           0.110773401
          ],
          [
           0.273352065
          ],
          [
           0.572939678
          ],
          [
           0.491457065
          ],
          [
           0.281389999
          ],
          [
           0.821697261
          ],
          [
           0.6749776829999999
          ],
          [
           0.585134549
          ],
          [
           0.7105961159999999
          ],
          [
           0.040488789
          ],
          [
           0.568054311
          ],
          [
           0.321752928
          ],
          [
           0.611850232
          ],
          [
           0.926096887
          ],
          [
           0.618347428
          ],
          [
           0.667629785
          ],
          [
           0.39773346600000004
          ],
          [
           0.290875487
          ],
          [
           0.594375103
          ],
          [
           0.508255233
          ],
          [
           0.338571357
          ],
          [
           0.43230234700000003
          ],
          [
           0.302221978
          ],
          [
           0.87619819
          ],
          [
           0.080204492
          ],
          [
           0.092333532
          ],
          [
           0.09365644699999999
          ],
          [
           0.6084523510000001
          ],
          [
           0.732654598
          ],
          [
           0.944158855
          ],
          [
           0.26742308
          ],
          [
           0.731124201
          ],
          [
           0.661308553
          ],
          [
           0.38776626200000003
          ],
          [
           0.962585273
          ],
          [
           0.322067067
          ],
          [
           0.6340810929999999
          ],
          [
           0.475345002
          ],
          [
           0.35355897299999994
          ],
          [
           0.8859363159999999
          ],
          [
           0.876798106
          ],
          [
           0.221581064
          ],
          [
           0.394362449
          ],
          [
           0.8050356759999999
          ],
          [
           0.452898486
          ],
          [
           0.592520516
          ],
          [
           0.761026394
          ],
          [
           0.245049023
          ],
          [
           0.37213936299999995
          ],
          [
           0.681054822
          ],
          [
           0.7471431479999999
          ],
          [
           0.9207395290000001
          ],
          [
           0.097207945
          ],
          [
           0.699302998
          ],
          [
           0.721647006
          ],
          [
           0.5353561139999999
          ],
          [
           0.738293805
          ],
          [
           0.7064675509999999
          ],
          [
           0.67395061
          ],
          [
           0.7112122909999999
          ],
          [
           0.302558708
          ],
          [
           0.080097855
          ],
          [
           0.707010837
          ],
          [
           0.512248622
          ],
          [
           0.659627472
          ],
          [
           0.657559694
          ],
          [
           0.100645606
          ],
          [
           0.92665363
          ],
          [
           0.892879338
          ],
          [
           0.839157508
          ],
          [
           0.890959718
          ],
          [
           0.556754471
          ],
          [
           0.960361937
          ],
          [
           0.631037864
          ],
          [
           0.029838065
          ],
          [
           0.278843351
          ],
          [
           0.926157705
          ],
          [
           0.551504258
          ],
          [
           0.485942349
          ],
          [
           0.43723469600000003
          ],
          [
           0.25231801800000003
          ],
          [
           0.515466972
          ],
          [
           0.43725229600000004
          ],
          [
           0.493724207
          ],
          [
           0.83324725
          ],
          [
           0.317521477
          ],
          [
           0.28623456199999997
          ],
          [
           0.726833965
          ],
          [
           0.495667033
          ],
          [
           0.028645255
          ],
          [
           0.31967191699999997
          ],
          [
           0.674344598
          ],
          [
           0.7660371890000001
          ],
          [
           0.65456992
          ],
          [
           0.7565143809999999
          ],
          [
           0.528253719
          ],
          [
           0.38971949100000003
          ],
          [
           0.355087459
          ],
          [
           0.87015202
          ],
          [
           0.7390833059999999
          ],
          [
           0.305761846
          ],
          [
           0.411587673
          ],
          [
           0.063633094
          ],
          [
           0.735409395
          ],
          [
           0.605916669
          ],
          [
           0.539395562
          ],
          [
           0.566183532
          ],
          [
           0.674795186
          ],
          [
           0.070993366
          ],
          [
           0.12526410000000002
          ],
          [
           0.279601492
          ],
          [
           0.952174402
          ],
          [
           0.233806762
          ],
          [
           0.43724742899999997
          ],
          [
           0.925423095
          ],
          [
           0.433498634
          ],
          [
           0.52517902
          ],
          [
           0.088435529
          ],
          [
           0.447677638
          ],
          [
           0.647000631
          ],
          [
           0.9036033370000001
          ],
          [
           0.265790738
          ],
          [
           0.66419695
          ],
          [
           0.498120658
          ],
          [
           0.49018894399999996
          ],
          [
           0.747084187
          ],
          [
           0.906783648
          ],
          [
           0.678770917
          ],
          [
           0.348599859
          ],
          [
           0.294839683
          ],
          [
           0.705691827
          ],
          [
           0.211917931
          ],
          [
           0.063201124
          ],
          [
           0.276699543
          ],
          [
           0.672459395
          ],
          [
           0.8082059490000001
          ],
          [
           0.296538373
          ],
          [
           0.16012686199999998
          ],
          [
           0.439385032
          ],
          [
           0.555951416
          ],
          [
           0.386240112
          ],
          [
           0.158689619
          ],
          [
           0.214499855
          ],
          [
           0.299579429
          ],
          [
           0.569161656
          ],
          [
           0.488614799
          ],
          [
           0.8782950209999999
          ],
          [
           0.649380949
          ],
          [
           0.465713341
          ],
          [
           0.16813774
          ],
          [
           0.87529545
          ],
          [
           0.8411323409999999
          ],
          [
           0.33292081
          ],
          [
           0.5130478589999999
          ],
          [
           0.30505507800000004
          ],
          [
           0.8126269909999999
          ],
          [
           0.25096706
          ],
          [
           0.5024355779999999
          ],
          [
           0.45799074100000003
          ]
         ],
         "hovertemplate": "0=%{x}<br>1=%{y}<br>2=%{z}<br>Feature=%{customdata[0]}<br>Label=%{marker.color}<extra></extra>",
         "legendgroup": "",
         "marker": {
          "color": [
           0,
           0,
           0,
           1,
           0,
           0,
           0,
           1,
           0,
           0,
           0,
           1,
           0,
           0,
           0,
           0,
           0,
           0,
           0,
           0,
           1,
           0,
           0,
           1,
           0,
           0,
           0,
           0,
           1,
           0,
           0,
           0,
           0,
           0,
           0,
           0,
           0,
           0,
           0,
           0,
           0,
           0,
           0,
           1,
           0,
           0,
           0,
           0,
           0,
           0,
           0,
           1,
           0,
           1,
           0,
           0,
           0,
           0,
           0,
           1,
           0,
           0,
           0,
           1,
           0,
           0,
           1,
           0,
           0,
           0,
           0,
           0,
           0,
           0,
           0,
           0,
           0,
           0,
           0,
           0,
           0,
           0,
           0,
           0,
           0,
           0,
           0,
           0,
           0,
           0,
           0,
           0,
           0,
           0,
           0,
           0,
           0,
           0,
           0,
           0,
           0,
           0,
           0,
           0,
           0,
           0,
           0,
           0,
           0,
           0,
           0,
           0,
           0,
           0,
           0,
           0,
           0,
           1,
           0,
           0,
           0,
           0,
           1,
           0,
           0,
           0,
           0,
           0,
           0,
           1,
           1,
           0,
           0,
           0,
           0,
           0,
           0,
           0,
           0,
           0,
           0,
           0,
           0,
           0,
           0,
           0,
           0,
           0,
           0,
           0,
           0,
           0,
           0,
           0,
           0,
           0,
           0,
           0,
           0,
           0,
           0,
           0,
           0,
           0,
           0,
           0,
           0,
           0,
           0,
           0,
           0,
           0,
           0,
           0,
           0,
           0,
           0,
           0,
           0,
           0,
           0,
           0,
           0,
           0,
           1,
           0,
           0,
           0,
           0,
           0,
           0,
           0,
           0,
           0,
           0,
           0,
           0,
           0,
           1,
           0,
           0,
           0,
           0,
           0,
           0,
           0,
           0,
           0,
           0,
           0,
           0,
           0,
           0,
           0,
           0,
           0,
           0,
           0,
           0,
           0,
           0,
           0,
           0,
           0,
           0,
           0,
           0,
           0,
           0,
           1,
           0,
           0,
           0,
           0,
           0,
           0,
           0,
           0,
           0,
           1,
           0,
           0,
           0,
           0,
           0,
           0,
           0,
           0,
           0,
           0,
           0,
           0,
           0,
           0,
           0,
           0,
           0,
           0,
           0,
           0,
           0,
           0,
           0,
           0,
           0,
           0,
           0,
           0,
           0,
           0,
           0,
           0,
           0,
           0,
           0,
           0,
           0,
           0,
           0,
           0,
           0,
           0,
           0,
           0,
           0,
           0,
           0,
           0,
           0,
           0,
           0,
           0,
           0,
           0,
           0,
           0,
           0,
           0,
           0,
           0,
           0,
           0,
           0,
           0,
           0,
           0,
           0,
           0,
           0,
           0,
           0,
           0,
           0,
           0,
           0,
           0,
           0,
           0,
           0,
           0,
           0,
           0,
           0,
           0,
           0,
           0,
           0,
           0,
           0,
           0,
           0,
           0,
           0,
           0,
           0,
           0,
           0,
           0,
           0,
           0,
           0,
           0,
           1,
           0,
           0,
           0,
           0,
           0,
           0,
           0,
           0,
           0,
           0,
           0,
           0,
           0,
           0,
           0,
           0,
           0,
           0,
           0,
           0,
           0,
           0,
           0,
           0,
           0,
           0,
           0,
           0,
           0,
           0,
           0,
           0,
           0,
           0,
           0,
           0,
           0,
           0,
           0,
           0,
           0,
           0,
           0,
           0,
           0,
           0,
           0,
           0,
           0,
           1,
           0,
           0,
           0,
           0,
           0,
           0,
           0,
           0,
           0,
           0,
           0,
           0,
           0,
           0,
           0,
           1,
           0,
           0,
           0,
           0,
           0,
           0,
           0,
           0,
           0,
           0,
           0,
           0,
           0,
           0,
           0,
           0,
           0,
           0,
           0,
           0,
           0,
           0,
           0,
           0,
           0,
           0,
           0,
           0,
           0,
           0,
           0,
           0,
           0,
           0,
           0,
           0,
           0,
           0,
           0,
           0,
           0,
           0,
           0,
           0,
           0,
           0,
           0,
           0,
           0,
           0,
           0,
           0,
           0,
           0,
           0,
           0,
           0,
           0,
           0,
           0,
           0,
           0,
           0,
           0,
           0,
           0,
           0,
           0,
           0,
           0,
           0,
           0,
           0,
           0,
           0,
           0,
           0,
           0,
           0,
           1,
           0,
           0,
           0,
           0,
           0,
           0,
           0,
           0,
           0,
           0,
           0,
           0,
           0,
           0,
           0,
           0,
           0,
           0,
           0,
           0,
           0,
           0,
           0,
           0,
           0,
           0,
           0,
           0,
           0,
           0,
           0,
           0,
           0,
           0,
           1,
           0,
           0,
           0,
           0,
           0,
           0,
           0,
           0,
           0,
           0,
           0,
           0,
           0,
           0,
           0,
           0,
           0,
           0,
           0,
           0,
           0,
           0,
           0,
           0,
           0,
           0,
           0,
           0,
           0,
           0,
           0,
           0,
           0,
           0,
           0,
           0,
           0,
           0,
           0,
           0,
           0,
           0,
           0,
           0,
           0,
           0,
           0,
           0,
           0,
           0,
           0,
           0,
           0,
           1,
           0,
           0,
           0,
           0,
           0,
           0,
           0,
           0,
           0,
           0,
           0,
           0,
           0,
           0,
           0,
           0,
           0,
           0,
           0,
           0,
           0,
           0,
           0,
           0,
           1,
           0,
           0,
           0,
           0,
           0,
           0,
           0,
           0,
           0,
           0,
           0,
           0,
           0,
           0,
           0,
           0,
           0,
           0,
           0,
           0,
           0,
           0,
           0,
           0,
           0,
           0,
           0,
           0,
           0,
           0,
           0,
           0,
           0,
           0,
           0,
           0,
           0,
           0,
           0,
           0,
           0,
           0,
           0,
           0,
           1,
           0,
           0,
           0,
           0,
           0,
           0,
           0,
           0,
           0,
           0,
           0,
           0,
           0,
           0,
           0,
           0,
           0,
           0,
           0,
           0,
           0,
           0,
           0,
           0,
           0,
           0,
           0,
           0,
           0,
           1,
           0,
           0,
           1,
           0,
           0,
           0,
           0,
           0,
           0,
           0,
           0,
           0,
           0,
           0,
           0,
           0,
           0,
           0,
           0,
           0,
           0,
           0,
           1,
           0,
           0,
           1,
           0,
           0,
           0,
           0,
           1,
           0,
           0,
           0,
           0,
           1,
           0,
           0,
           0,
           1,
           1,
           0,
           1,
           0,
           1,
           0,
           1,
           0,
           0,
           0,
           0,
           0,
           0,
           0,
           0,
           0,
           0,
           0,
           0,
           0,
           0,
           0,
           0,
           0,
           0,
           1,
           0,
           0,
           0,
           0,
           0,
           0,
           0,
           0,
           0,
           0,
           0,
           0,
           0,
           0,
           0,
           0,
           1,
           0,
           0,
           0,
           0,
           0,
           0,
           0,
           0,
           1,
           0,
           0,
           0,
           0,
           0,
           0,
           0,
           0,
           0,
           0,
           1,
           0,
           0,
           0,
           0,
           0,
           0,
           0,
           0,
           0,
           1,
           0,
           0,
           0,
           0,
           0,
           0,
           0,
           0,
           1,
           0,
           0,
           0,
           0,
           0,
           0,
           0,
           0,
           0,
           0,
           0,
           0,
           0,
           0,
           0,
           0,
           0,
           0,
           0,
           0,
           0,
           0,
           0,
           0,
           0,
           0,
           0,
           0,
           0,
           0,
           0,
           0,
           0,
           0,
           0,
           0,
           0,
           1,
           0,
           0,
           0,
           0,
           0,
           0,
           0,
           0,
           0,
           0,
           0,
           0,
           0,
           0,
           0,
           0,
           0,
           0,
           0,
           0,
           0,
           0,
           0,
           0,
           0,
           0,
           0,
           0,
           0,
           0,
           0,
           0,
           0,
           0,
           0,
           0,
           0,
           0,
           0,
           0,
           0,
           0,
           0,
           0,
           0,
           0,
           0,
           0,
           0,
           0,
           0,
           0,
           0,
           0,
           1,
           0,
           0,
           0,
           0,
           0,
           0,
           0,
           0,
           0,
           0,
           0,
           0,
           0,
           0,
           0,
           0,
           0,
           0,
           0,
           0,
           0,
           0,
           0,
           0,
           0,
           0,
           0,
           0,
           0,
           0,
           0,
           0,
           0,
           0,
           0,
           0,
           0,
           0,
           0,
           0,
           0,
           0,
           0,
           0,
           0,
           0,
           0,
           0,
           0,
           0,
           1,
           0,
           0,
           0,
           0,
           0,
           0,
           0,
           0,
           1,
           0,
           0,
           0,
           0,
           0,
           0,
           0,
           0,
           0,
           0,
           0,
           0,
           0,
           0,
           0,
           0,
           0,
           0,
           0,
           0,
           0,
           0,
           0,
           0,
           0,
           0,
           0,
           0,
           0,
           0,
           0,
           0,
           0,
           0,
           0,
           0,
           0,
           0,
           0,
           0,
           0,
           0,
           0,
           0,
           0,
           0,
           1
          ],
          "coloraxis": "coloraxis",
          "opacity": 0.7,
          "symbol": "circle"
         },
         "mode": "markers",
         "name": "",
         "scene": "scene",
         "showlegend": false,
         "type": "scatter3d",
         "x": [
          -4.7276930809021,
          8.297993659973145,
          2.997619390487671,
          2.170811414718628,
          0.335801362991333,
          3.239928722381592,
          -1.1416655778884888,
          6.791898250579834,
          -0.04721967503428459,
          -3.921504259109497,
          9.208633422851562,
          -4.217451572418213,
          3.868251323699951,
          -1.6560184955596924,
          0.1955469697713852,
          -1.5497984886169434,
          3.917936086654663,
          3.8259291648864746,
          3.763293504714966,
          0.486392080783844,
          2.570662498474121,
          -6.784420490264893,
          -0.9747762084007263,
          0.0847993940114975,
          5.981391429901123,
          2.500303030014038,
          -3.0884029865264893,
          -0.24732115864753723,
          -3.144925117492676,
          4.567935943603516,
          1.6134204864501953,
          6.688023567199707,
          -3.195673942565918,
          0.3593384921550751,
          -3.9313995838165283,
          -8.505867004394531,
          -0.3041549324989319,
          -0.5971123576164246,
          -5.463472366333008,
          4.0374908447265625,
          -5.033024311065674,
          2.6661081314086914,
          -2.440768003463745,
          5.422645568847656,
          2.8658719062805176,
          -1.8090035915374756,
          2.287919044494629,
          0.2570699453353882,
          -3.9289071559906006,
          -0.03953690081834793,
          5.460007190704346,
          4.298882484436035,
          -4.5004472732543945,
          -1.7123807668685913,
          4.948618412017822,
          3.16174578666687,
          3.240126848220825,
          -6.5266571044921875,
          0.9319614171981812,
          4.7714948654174805,
          -4.56265926361084,
          3.287458658218384,
          -0.6408883929252625,
          2.9445407390594482,
          -2.835075616836548,
          2.2587456703186035,
          -3.792390823364258,
          3.438850164413452,
          -2.745098352432251,
          8.904440879821777,
          3.4528462886810303,
          3.937290906906128,
          -2.790259838104248,
          4.766931533813477,
          -10.68649673461914,
          -6.331001281738281,
          -1.5884461402893066,
          1.576461672782898,
          -10.611377716064453,
          -6.8740763664245605,
          -6.760244846343994,
          -6.919748306274414,
          1.837454915046692,
          2.6116552352905273,
          2.5327184200286865,
          7.519260406494141,
          0.25943055748939514,
          2.784245729446411,
          -1.3197630643844604,
          -4.110296249389648,
          -8.422956466674805,
          8.061613082885742,
          -1.8833954334259033,
          -1.309277057647705,
          3.4056320190429688,
          0.16388462483882904,
          -4.343684196472168,
          5.412771224975586,
          1.7005116939544678,
          -0.37047797441482544,
          -3.8931283950805664,
          -0.7394565939903259,
          5.754347801208496,
          -5.827134609222412,
          1.136656641960144,
          -6.461878299713135,
          -0.7378948330879211,
          2.9197278022766113,
          -10.017019271850586,
          2.652724027633667,
          -3.9610719680786133,
          -4.053502559661865,
          9.655516624450684,
          -4.461800575256348,
          0.9046878814697266,
          -5.558770179748535,
          1.2234524488449097,
          -1.5447243452072144,
          3.6290442943573,
          1.1322067975997925,
          -5.811044216156006,
          -1.2496579885482788,
          3.721017360687256,
          -2.3636281490325928,
          4.866479396820068,
          6.571344375610352,
          3.466815233230591,
          3.4981837272644043,
          3.4437663555145264,
          6.602480888366699,
          -2.570399045944214,
          -4.699024200439453,
          4.519866466522217,
          0.5015791654586792,
          -0.3526850640773773,
          -5.264852046966553,
          0.10202118754386902,
          2.4990508556365967,
          5.8140668869018555,
          0.5350112915039062,
          5.229574203491211,
          -5.556766510009766,
          -5.874844074249268,
          0.24173738062381744,
          -0.12856732308864594,
          -7.337795257568359,
          8.012494087219238,
          -1.9040017127990723,
          6.804769515991211,
          -0.4539929926395416,
          -3.379578113555908,
          -7.730493545532227,
          2.118145704269409,
          -6.558920860290527,
          -5.722830772399902,
          -3.8493263721466064,
          -1.5641732215881348,
          -3.0792829990386963,
          -11.178763389587402,
          5.8151655197143555,
          -0.1399410218000412,
          -5.924726963043213,
          -9.594816207885742,
          -9.564550399780273,
          4.796707630157471,
          -1.3968347311019897,
          4.338815689086914,
          4.582814693450928,
          3.597815990447998,
          4.302796363830566,
          -1.6522846221923828,
          6.0843825340271,
          7.331062316894531,
          0.7154202461242676,
          4.217029094696045,
          1.5105952024459839,
          5.88285493850708,
          1.5834192037582397,
          7.050173759460449,
          2.3402326107025146,
          1.9282232522964478,
          9.318564414978027,
          6.291563987731934,
          6.4509382247924805,
          5.401175022125244,
          0.09757745265960693,
          4.733078956604004,
          -3.1388866901397705,
          -5.3633575439453125,
          -7.1332316398620605,
          -1.7057853937149048,
          -0.6220831274986267,
          7.966123104095459,
          0.8167067766189575,
          3.6131749153137207,
          -0.4997493028640747,
          1.6574554443359375,
          2.5377984046936035,
          -3.2064356803894043,
          5.167054176330566,
          -0.6601617932319641,
          0.2268553376197815,
          1.69706392288208,
          1.4056421518325806,
          2.1246089935302734,
          6.256419658660889,
          -6.284326076507568,
          -0.9383377432823181,
          9.415823936462402,
          4.792968273162842,
          4.126365661621094,
          6.616185665130615,
          1.859170913696289,
          -4.9034528732299805,
          -1.11795175075531,
          0.24079188704490662,
          4.978192329406738,
          0.7922421097755432,
          1.3727648258209229,
          1.5269677639007568,
          2.063185691833496,
          3.861250638961792,
          0.472676545381546,
          -10.078539848327637,
          2.0740721225738525,
          -5.621668815612793,
          -3.4151477813720703,
          -4.640815734863281,
          -1.0127798318862915,
          9.019933700561523,
          0.35177358984947205,
          -1.9718265533447266,
          3.366377592086792,
          2.4893734455108643,
          -1.4177179336547852,
          3.406222105026245,
          2.851128101348877,
          -6.4745988845825195,
          3.565535306930542,
          1.3919143676757812,
          -0.9012381434440613,
          4.063910961151123,
          2.579920768737793,
          3.176828384399414,
          6.203062057495117,
          1.4845376014709473,
          -6.068258285522461,
          -10.868474006652832,
          -3.9097516536712646,
          -0.6540910005569458,
          -6.717804908752441,
          2.362274408340454,
          3.870300769805908,
          -5.468118190765381,
          -7.049190521240234,
          2.604959487915039,
          -5.814012050628662,
          0.964970052242279,
          9.174897193908691,
          0.16123060882091522,
          1.3618550300598145,
          -4.288470268249512,
          -0.48945310711860657,
          2.655755043029785,
          -6.65183162689209,
          3.4642908573150635,
          2.7903342247009277,
          2.9854891300201416,
          -9.97503662109375,
          1.7703977823257446,
          2.4160404205322266,
          2.0189661979675293,
          -7.344846725463867,
          1.7023277282714844,
          5.250466346740723,
          -4.954344749450684,
          -0.18554484844207764,
          -0.6918725967407227,
          2.9188485145568848,
          -5.326881408691406,
          -3.1947453022003174,
          1.7587839365005493,
          -5.926794528961182,
          -4.266775131225586,
          1.2703393697738647,
          5.315774440765381,
          0.6170966625213623,
          4.150739669799805,
          2.547973871231079,
          -3.544975996017456,
          -3.8414673805236816,
          2.2751564979553223,
          -0.9065160751342773,
          4.5851616859436035,
          2.5591888427734375,
          7.135719299316406,
          7.466196060180664,
          -8.958723068237305,
          0.8092765808105469,
          -5.441439151763916,
          8.24952220916748,
          0.3659742474555969,
          3.1112775802612305,
          5.634068012237549,
          6.915710926055908,
          -10.27234935760498,
          3.5979440212249756,
          -9.278579711914062,
          -4.431850433349609,
          5.830662250518799,
          5.752066612243652,
          -3.166194200515747,
          9.030949592590332,
          1.3959003686904907,
          -0.2836609184741974,
          -6.097393989562988,
          3.9972593784332275,
          2.2587411403656006,
          -10.768909454345703,
          2.063633680343628,
          7.671377182006836,
          -7.977683067321777,
          3.4049441814422607,
          5.4112091064453125,
          -5.107015609741211,
          -7.5290327072143555,
          1.8616461753845215,
          3.8334150314331055,
          2.819685459136963,
          6.783155918121338,
          2.93166184425354,
          -0.7999118566513062,
          -4.558150768280029,
          -5.2244791984558105,
          2.6943156719207764,
          -0.5722371339797974,
          5.75408935546875,
          -5.234025478363037,
          4.531110763549805,
          -1.1061168909072876,
          -6.1337971687316895,
          -6.703320503234863,
          3.607781410217285,
          -6.73347282409668,
          6.033365249633789,
          1.8232301473617554,
          0.1557663530111313,
          -3.1428260803222656,
          3.886540174484253,
          -0.5703057050704956,
          2.5865418910980225,
          -7.128885269165039,
          0.18996597826480865,
          2.448535919189453,
          0.6368646621704102,
          -6.212850570678711,
          -3.5051374435424805,
          4.698084831237793,
          1.389890432357788,
          -7.56669282913208,
          7.606141090393066,
          4.2687273025512695,
          -0.4663931429386139,
          -3.2324042320251465,
          3.825946807861328,
          -9.518815040588379,
          2.774024248123169,
          0.3877439796924591,
          0.9100420475006104,
          2.652940273284912,
          -0.8632703423500061,
          -0.9778791069984436,
          -1.63766348361969,
          4.461574554443359,
          3.3199617862701416,
          -2.1464366912841797,
          -9.460552215576172,
          6.141120433807373,
          2.236286163330078,
          -6.6722846031188965,
          5.739659309387207,
          -0.7621883749961853,
          -9.546693801879883,
          -2.224888801574707,
          6.792645454406738,
          -3.752288341522217,
          -1.0707120895385742,
          -0.6904401183128357,
          5.307360649108887,
          -3.710491418838501,
          0.5208696126937866,
          -4.758341312408447,
          -8.79932975769043,
          -7.00836181640625,
          -0.1483367532491684,
          2.2809343338012695,
          -6.1467790603637695,
          5.724637508392334,
          -6.34346866607666,
          -5.662130355834961,
          1.5606999397277832,
          2.052935838699341,
          -2.840945243835449,
          6.779534339904785,
          6.5961127281188965,
          2.279845952987671,
          3.4166386127471924,
          -1.8383287191390991,
          6.354026794433594,
          4.881641864776611,
          5.09119176864624,
          -6.033377170562744,
          1.9927631616592407,
          -9.873892784118652,
          1.4645644426345825,
          -2.1109092235565186,
          2.454777479171753,
          4.449587821960449,
          3.737199068069458,
          1.876504898071289,
          -3.699789524078369,
          1.2132551670074463,
          3.6056785583496094,
          8.010499000549316,
          3.5275967121124268,
          0.6671870350837708,
          0.3079746663570404,
          6.851434230804443,
          -3.8403499126434326,
          -1.247878074645996,
          -5.636309623718262,
          -0.7616629600524902,
          2.5055947303771973,
          5.024231910705566,
          2.697524309158325,
          2.3006412982940674,
          -1.0830950736999512,
          -0.7104379534721375,
          -9.997294425964355,
          2.532423973083496,
          -6.546210765838623,
          -10.343406677246094,
          1.5666753053665161,
          -1.3157283067703247,
          -1.5336129665374756,
          6.619753837585449,
          3.635444164276123,
          -5.316677570343018,
          0.6667256951332092,
          9.782530784606934,
          1.3404006958007812,
          -0.06026363745331764,
          -2.5348732471466064,
          -10.245255470275879,
          9.138559341430664,
          3.4527366161346436,
          4.372191905975342,
          0.4620566964149475,
          -10.827147483825684,
          -11.73691463470459,
          7.003593444824219,
          2.269986629486084,
          -1.3638478517532349,
          -6.874416828155518,
          1.473283052444458,
          -8.419820785522461,
          -9.942863464355469,
          4.249293804168701,
          -1.0880992412567139,
          2.7924997806549072,
          -5.814793586730957,
          -3.265805721282959,
          -0.5787670016288757,
          -6.580896854400635,
          -1.521931767463684,
          2.968367338180542,
          0.06778427958488464,
          6.398395538330078,
          -3.482741355895996,
          4.61931037902832,
          -3.6640431880950928,
          2.309556007385254,
          6.756959915161133,
          0.511282742023468,
          0.5877268314361572,
          -0.5527245402336121,
          5.2077436447143555,
          -3.1736810207366943,
          -5.312656402587891,
          0.31530022621154785,
          -9.586884498596191,
          7.853740215301514,
          7.664365768432617,
          2.766606569290161,
          2.6615092754364014,
          7.889151096343994,
          4.078763484954834,
          6.892263889312744,
          -5.235596179962158,
          -3.2130093574523926,
          5.63894510269165,
          0.40477803349494934,
          -7.609654903411865,
          -0.9257907867431641,
          -3.757699728012085,
          0.5394829511642456,
          -11.506407737731934,
          -3.036236524581909,
          -2.486785411834717,
          9.3977632522583,
          -0.09598691761493683,
          -3.0590286254882812,
          2.379518747329712,
          -0.9020518660545349,
          -9.54753303527832,
          -6.444780349731445,
          -7.328276634216309,
          -11.387537002563477,
          2.7630934715270996,
          3.2236454486846924,
          -2.4821019172668457,
          2.2925310134887695,
          7.251551628112793,
          2.938014507293701,
          0.711234986782074,
          2.1945433616638184,
          -2.5150833129882812,
          0.466391921043396,
          4.386255264282227,
          -7.193986415863037,
          5.529771327972412,
          2.032517671585083,
          5.4041008949279785,
          -0.7858575582504272,
          8.128119468688965,
          6.182821750640869,
          5.680552959442139,
          0.6363610625267029,
          -1.2478501796722412,
          2.035754680633545,
          1.9380384683609009,
          7.274782657623291,
          5.163650989532471,
          6.814504146575928,
          -2.6225826740264893,
          4.811471939086914,
          -7.519750595092773,
          5.7050347328186035,
          7.492700099945068,
          -6.64487361907959,
          -5.459122657775879,
          -5.1310906410217285,
          -1.8387798070907593,
          -11.118284225463867,
          -4.902106285095215,
          2.2836577892303467,
          5.860095977783203,
          -11.18373966217041,
          2.6714651584625244,
          2.872586965560913,
          -1.459755301475525,
          1.6440097093582153,
          -4.884092330932617,
          9.29727840423584,
          0.5727626085281372,
          -7.4236860275268555,
          -0.7534782886505127,
          0.5410903692245483,
          9.023344993591309,
          9.62220287322998,
          -4.382723331451416,
          8.751325607299805,
          6.071747779846191,
          -0.642097532749176,
          7.655759811401367,
          4.654026985168457,
          4.327200889587402,
          2.926347017288208,
          -4.735580921173096,
          -6.2151312828063965,
          -3.9408857822418213,
          -8.153700828552246,
          4.3588738441467285,
          3.6075844764709473,
          -4.399217128753662,
          -6.2203288078308105,
          -6.857325077056885,
          -1.4043941497802734,
          2.135848045349121,
          2.5698516368865967,
          2.594291925430298,
          -4.90844202041626,
          1.7909035682678223,
          6.249395847320557,
          1.7610828876495361,
          -5.862337589263916,
          4.91783332824707,
          2.067227363586426,
          7.186439514160156,
          -1.0300532579421997,
          3.5285282135009766,
          -0.8907040953636169,
          9.71285343170166,
          -0.6468316912651062,
          8.408184051513672,
          5.804866313934326,
          4.504602909088135,
          -0.7741572856903076,
          0.9752345085144043,
          7.389155387878418,
          7.626607894897461,
          -4.451691627502441,
          -2.2148334980010986,
          -6.76472282409668,
          -5.4775495529174805,
          -4.730467796325684,
          1.2207040786743164,
          -1.3484721183776855,
          4.08998441696167,
          -7.144326210021973,
          -0.05906765162944794,
          -4.837754249572754,
          -6.942412853240967,
          2.268610715866089,
          3.2322580814361572,
          4.994829177856445,
          0.20048826932907104,
          1.0146042108535767,
          -1.8270751237869263,
          -7.306243419647217,
          -4.793472766876221,
          3.147603750228882,
          -11.866849899291992,
          2.0291295051574707,
          -4.012318134307861,
          -1.4294284582138062,
          -4.874532222747803,
          0.22552964091300964,
          9.324441909790039,
          1.8620326519012451,
          2.2319540977478027,
          4.6755146980285645,
          -0.11036501079797745,
          -6.0771164894104,
          -1.26258385181427,
          -10.574040412902832,
          3.34598445892334,
          -4.8931403160095215,
          6.015365123748779,
          -8.13826847076416,
          -3.373748540878296,
          -0.29131364822387695,
          -0.5031354427337646,
          3.999709367752075,
          1.2416040897369385,
          5.603509426116943,
          0.33562910556793213,
          -4.723040580749512,
          -1.353318452835083,
          2.4540481567382812,
          4.084292888641357,
          -4.134131908416748,
          1.3392912149429321,
          -5.040610313415527,
          6.674958229064941,
          2.965244770050049,
          2.297428846359253,
          0.2706691324710846,
          2.367342948913574,
          0.477840781211853,
          0.9443572163581848,
          -6.169645309448242,
          -7.395164966583252,
          1.0468820333480835,
          6.344212055206299,
          -5.1639509201049805,
          6.367489337921143,
          8.670703887939453,
          5.7380051612854,
          0.5664876699447632,
          3.699519157409668,
          -2.397965908050537,
          -6.767195701599121,
          7.321437358856201,
          -5.915726661682129,
          0.39975571632385254,
          -8.2417631149292,
          -4.019618511199951,
          8.60700798034668,
          4.631010055541992,
          5.779793739318848,
          6.376742839813232,
          1.9056003093719482,
          4.7416181564331055,
          8.527420043945312,
          5.201286315917969,
          -7.5070648193359375,
          -5.4431233406066895,
          -11.82348346710205,
          4.898024559020996,
          -0.10041704028844833,
          -4.7977190017700195,
          -1.654219388961792,
          -3.164902687072754,
          -5.620162487030029,
          3.0930066108703613,
          7.166207790374756,
          -2.9884719848632812,
          -0.8436267375946045,
          5.795000076293945,
          0.886710524559021,
          -2.9540109634399414,
          4.719518661499023,
          2.482959270477295,
          0.4944121539592743,
          7.6471099853515625,
          3.0124728679656982,
          -1.583366870880127,
          0.5199759006500244,
          -0.07786928862333298,
          3.723947048187256,
          3.0103063583374023,
          5.344156265258789,
          4.333627700805664,
          5.8291192054748535,
          -3.183130979537964,
          9.68680477142334,
          4.863831520080566,
          2.2510411739349365,
          3.9267125129699707,
          4.088120937347412,
          -2.2659268379211426,
          0.7787016034126282,
          1.9998010396957397,
          3.7618155479431152,
          9.368670463562012,
          -5.252725124359131,
          -8.961637496948242,
          -9.580918312072754,
          7.501943111419678,
          0.48109644651412964,
          -5.635763168334961,
          -5.2993855476379395,
          8.796188354492188,
          -6.426266670227051,
          -8.910382270812988,
          -5.1461358070373535,
          8.6334810256958,
          0.7133438587188721,
          3.6665475368499756,
          7.732711315155029,
          -1.5911412239074707,
          3.390469551086426,
          3.5080952644348145,
          -3.9655768871307373,
          1.3984465599060059,
          -6.683995723724365,
          -4.157352447509766,
          -0.9119812250137329,
          -3.006633758544922,
          5.82875919342041,
          -7.528996467590332,
          -2.4963536262512207,
          2.065429449081421,
          -5.62962532043457,
          0.6243482828140259,
          2.2406702041625977,
          -1.3828729391098022,
          2.1381311416625977,
          -1.4864226579666138,
          -6.62281608581543,
          -3.133772134780884,
          0.5470779538154602,
          0.639569103717804,
          -7.606186389923096,
          -4.8256049156188965,
          -1.6997499465942383,
          0.8291313052177429,
          -11.86316967010498,
          -6.6987762451171875,
          -6.8346686363220215,
          1.2092050313949585,
          6.4036383628845215,
          -3.676551580429077,
          -10.606463432312012,
          4.611653804779053,
          -3.8010144233703613,
          6.483364582061768,
          -8.42133903503418,
          -4.621760845184326,
          7.052863121032715,
          -6.2076897621154785,
          8.731388092041016,
          -10.72455883026123,
          2.8952388763427734,
          7.306424617767334,
          -4.77700662612915,
          0.7162964940071106,
          -7.661036968231201,
          -2.4224634170532227,
          -1.7318114042282104,
          -0.9594289660453796,
          3.6881351470947266,
          7.969527721405029,
          1.0791836977005005,
          -0.5292431712150574,
          -6.413679122924805,
          6.473207473754883,
          5.676786422729492,
          -0.1941594034433365,
          -0.2850249111652374,
          8.605192184448242,
          -10.860493659973145,
          -4.116034030914307,
          6.865540027618408,
          0.8284872770309448,
          5.065873146057129,
          5.371272563934326,
          5.83482551574707,
          5.013388633728027,
          9.380729675292969,
          1.457249402999878,
          -9.56064224243164,
          6.679708957672119,
          2.1655313968658447,
          -2.77224063873291,
          5.884700775146484,
          -7.645579814910889,
          -8.6776704788208,
          1.446727991104126,
          2.111664295196533,
          -7.6000823974609375,
          -0.5123907327651978,
          7.6853532791137695,
          0.0685434564948082,
          7.950307846069336,
          -2.08577036857605,
          -0.9906935095787048,
          9.862034797668457,
          -5.417315483093262,
          -6.863409042358398,
          -5.687148571014404,
          4.415262699127197,
          2.6532840728759766,
          1.6293317079544067,
          7.1754631996154785,
          4.841755390167236,
          -7.247701168060303,
          -3.7900021076202393,
          4.785625457763672,
          5.780874729156494,
          -2.0514776706695557,
          -6.241164207458496,
          -6.289944171905518,
          4.620224952697754,
          2.4144458770751953,
          1.1828433275222778,
          6.000530242919922,
          -7.07961893081665,
          8.80774211883545,
          -4.87320613861084,
          -6.381315231323242,
          3.559467077255249,
          -4.580360412597656,
          3.2338778972625732,
          2.7684524059295654,
          -1.3285632133483887,
          -5.053212642669678,
          8.063848495483398,
          -5.06585693359375,
          9.729557037353516,
          -5.2729997634887695,
          0.37060415744781494,
          -3.8142127990722656,
          1.6419110298156738,
          -1.7639530897140503,
          -0.5572090744972229,
          -0.448832631111145,
          -3.2944817543029785,
          2.864436626434326,
          -4.517889499664307,
          -11.1853609085083,
          -6.083734512329102,
          2.873380422592163,
          5.96019983291626,
          9.140589714050293,
          -6.747605800628662,
          -0.12342805415391922,
          -5.299745082855225,
          6.3284807205200195,
          0.22139056026935577,
          5.6880269050598145,
          3.4248311519622803,
          -5.296087265014648,
          6.568728446960449,
          -6.77618932723999,
          -5.513947010040283,
          0.9851654171943665,
          4.550995349884033,
          3.7701988220214844,
          4.164251804351807,
          -4.418467998504639,
          -5.014545917510986,
          4.7961530685424805,
          -5.173842906951904,
          1.6687283515930176,
          7.173393249511719,
          5.931880474090576,
          3.554216146469116,
          -10.375833511352539,
          3.1198666095733643,
          -1.1255531311035156,
          -2.004582405090332,
          -11.073286056518555,
          7.845889568328857,
          0.3264295160770416,
          -2.4861268997192383,
          6.520970821380615,
          6.632241249084473,
          9.282022476196289,
          -2.8678324222564697,
          4.398693561553955,
          1.2956218719482422,
          -5.88469123840332,
          2.400703191757202,
          -3.3419787883758545,
          2.8014183044433594,
          -3.2791357040405273,
          1.0716228485107422,
          2.318596601486206,
          -0.8491796255111694,
          -4.346327304840088,
          0.1756681352853775,
          4.3347697257995605,
          5.620156288146973,
          -1.0475081205368042,
          -4.050309181213379,
          3.3497490882873535,
          7.363339424133301,
          9.39738655090332,
          4.072089672088623,
          -2.859344720840454,
          -9.993451118469238,
          6.630934238433838,
          -10.202917098999023,
          6.611198902130127,
          -9.502260208129883,
          -8.427388191223145,
          3.417185068130493,
          2.6274843215942383,
          -3.2632360458374023,
          -1.2467832565307617,
          5.596388339996338,
          3.2041730880737305,
          -0.8769749999046326,
          2.5063748359680176,
          8.657336235046387,
          4.262294292449951,
          7.74832820892334,
          -0.8560389280319214,
          1.8667738437652588,
          0.9612089395523071,
          1.8490809202194214,
          -10.886510848999023,
          -4.804896831512451,
          -2.961405038833618,
          4.017123222351074,
          -10.733261108398438,
          6.463090419769287,
          -4.635875701904297,
          0.9641038179397583,
          -7.289907932281494,
          -6.264623165130615,
          0.3309825658798218,
          -5.583376407623291,
          2.2602896690368652,
          3.9259560108184814,
          -0.09588923305273056,
          0.7894818186759949,
          6.978401184082031,
          7.1783270835876465,
          -3.8482766151428223,
          -8.689223289489746,
          -0.5358255505561829,
          0.32460930943489075,
          1.9374148845672607,
          -0.8975859880447388,
          8.170696258544922,
          8.976414680480957,
          -0.9680653214454651,
          5.246882915496826,
          -10.992719650268555,
          -10.811097145080566,
          3.327594518661499,
          6.418323040008545,
          -4.075497627258301,
          0.6007462739944458,
          -7.9111528396606445,
          5.713557720184326,
          -2.1589109897613525
         ],
         "y": [
          1.9357670545578003,
          1.8942784070968628,
          -2.8441641330718994,
          -11.663951873779297,
          -9.691938400268555,
          -8.544637680053711,
          1.9924893379211426,
          -16.585744857788086,
          -0.26167726516723633,
          11.942797660827637,
          -17.111984252929688,
          -7.875023365020752,
          -14.733970642089844,
          -3.2615389823913574,
          -6.991227626800537,
          -13.153152465820312,
          -14.735036849975586,
          9.470621109008789,
          -1.417374849319458,
          -10.679041862487793,
          -7.952159404754639,
          5.519215106964111,
          -4.247914791107178,
          -0.6245349645614624,
          -8.024608612060547,
          -2.759807825088501,
          -7.367474555969238,
          6.7464680671691895,
          -7.852930068969727,
          -11.683072090148926,
          6.541815757751465,
          -2.1942994594573975,
          -1.6736440658569336,
          -7.843803882598877,
          1.986763596534729,
          5.291795253753662,
          -10.115275382995605,
          6.911470413208008,
          3.8602256774902344,
          -9.917081832885742,
          6.789083957672119,
          -9.351733207702637,
          5.245419502258301,
          -5.458052635192871,
          -7.571238040924072,
          -13.62821102142334,
          -7.237166881561279,
          -0.2683211863040924,
          -7.7633056640625,
          8.713974952697754,
          -18.062204360961914,
          0.33338114619255066,
          4.4565749168396,
          -13.427207946777344,
          -8.921491622924805,
          -4.550198554992676,
          -2.7031869888305664,
          -0.6082513928413391,
          -8.15467357635498,
          -7.103410720825195,
          -1.31354820728302,
          8.227112770080566,
          -16.079654693603516,
          -9.566198348999023,
          9.371099472045898,
          -6.537899017333984,
          2.6470842361450195,
          9.927120208740234,
          -8.15922737121582,
          -10.176234245300293,
          -15.15726089477539,
          -13.268514633178711,
          4.151688575744629,
          -14.679210662841797,
          11.968664169311523,
          7.9222259521484375,
          -9.68905258178711,
          -12.597687721252441,
          14.198362350463867,
          13.57142448425293,
          12.956735610961914,
          9.142134666442871,
          -8.965054512023926,
          7.016602516174316,
          1.3292732238769531,
          0.025741100311279297,
          4.5886077880859375,
          6.238091945648193,
          0.699866771697998,
          7.4041337966918945,
          7.016463756561279,
          -15.664626121520996,
          4.139008045196533,
          3.023494005203247,
          -2.324496269226074,
          -15.661036491394043,
          7.652571678161621,
          0.856984555721283,
          8.229785919189453,
          -9.85014820098877,
          3.9692132472991943,
          6.939054012298584,
          1.383566975593567,
          4.997700214385986,
          -16.409751892089844,
          9.186057090759277,
          6.781835556030273,
          -0.5132307410240173,
          12.683874130249023,
          -11.777804374694824,
          9.018824577331543,
          5.203934669494629,
          -16.374448776245117,
          8.690987586975098,
          -6.893818378448486,
          11.309028625488281,
          0.6628414392471313,
          3.097402811050415,
          -12.724191665649414,
          9.807145118713379,
          12.007708549499512,
          1.1842774152755737,
          -1.4571806192398071,
          7.617769718170166,
          6.579171657562256,
          2.0923311710357666,
          -2.3170456886291504,
          -12.131281852722168,
          1.5878429412841797,
          2.8168389797210693,
          -1.2383636236190796,
          6.892993927001953,
          -17.594202041625977,
          0.19286152720451355,
          6.801418304443359,
          5.74835205078125,
          -6.426574230194092,
          -15.79566478729248,
          0.8332814574241638,
          3.1431710720062256,
          -15.355722427368164,
          8.323092460632324,
          4.122683525085449,
          -8.506529808044434,
          10.353694915771484,
          11.352237701416016,
          -13.92951488494873,
          4.906871795654297,
          0.899651825428009,
          5.505600929260254,
          8.681638717651367,
          9.706181526184082,
          -1.0082144737243652,
          3.9214704036712646,
          5.021604537963867,
          8.500575065612793,
          9.511452674865723,
          7.689889430999756,
          8.538989067077637,
          -11.88223648071289,
          0.05726329982280731,
          0.05991469323635101,
          9.749691009521484,
          15.244285583496094,
          -11.15745735168457,
          7.894886493682861,
          -15.46930980682373,
          -12.415276527404785,
          -6.200043678283691,
          8.198893547058105,
          6.871826648712158,
          0.6565759778022766,
          -8.833904266357422,
          -5.069786548614502,
          3.745145320892334,
          6.86898946762085,
          -8.578102111816406,
          -4.503032207489014,
          -0.03728202357888222,
          -14.41278076171875,
          2.079519033432007,
          -10.753005027770996,
          -2.8169820308685303,
          -14.595049858093262,
          -12.97143268585205,
          1.567831039428711,
          -9.328078269958496,
          -0.6561219692230225,
          11.298812866210938,
          9.563871383666992,
          5.639827251434326,
          -8.243529319763184,
          -16.598398208618164,
          -5.383269309997559,
          4.3202056884765625,
          0.3671516180038452,
          1.6838719844818115,
          -1.9795678853988647,
          3.1404433250427246,
          5.665398120880127,
          -0.32160186767578125,
          4.501620769500732,
          -2.3222157955169678,
          -9.414351463317871,
          -4.449094295501709,
          -2.5351743698120117,
          15.626959800720215,
          -0.6391116976737976,
          -11.22616195678711,
          -1.0126649141311646,
          4.434638977050781,
          -9.410934448242188,
          -12.004725456237793,
          10.433235168457031,
          0.9913911819458008,
          2.1677112579345703,
          -0.20994919538497925,
          -13.284794807434082,
          -15.258816719055176,
          2.2926974296569824,
          -4.177169322967529,
          2.7813143730163574,
          -9.032951354980469,
          13.604564666748047,
          5.8545308113098145,
          14.839755058288574,
          6.994388580322266,
          12.543231964111328,
          6.794164657592773,
          -7.9847235679626465,
          1.4170935153961182,
          4.323307991027832,
          -14.59427547454834,
          -15.338171005249023,
          8.847773551940918,
          2.729473829269409,
          4.249226093292236,
          9.56733512878418,
          -12.135498046875,
          -3.0745909214019775,
          -0.5259074568748474,
          -0.5290164351463318,
          -4.181579113006592,
          4.42431640625,
          -13.577006340026855,
          6.484297275543213,
          8.99252700805664,
          12.062828063964844,
          6.942405700683594,
          -4.992694854736328,
          1.3709049224853516,
          3.9767978191375732,
          -12.725302696228027,
          0.1108359694480896,
          9.860097885131836,
          0.5053634643554688,
          3.5468664169311523,
          4.941099643707275,
          -7.399360656738281,
          10.354390144348145,
          -4.2312140464782715,
          0.5614656209945679,
          -6.588777542114258,
          3.2967529296875,
          2.851348638534546,
          4.320882797241211,
          -16.53009605407715,
          2.482577323913574,
          12.419672012329102,
          -2.073624610900879,
          0.4213692545890808,
          -1.0426537990570068,
          5.766178607940674,
          -3.4455440044403076,
          -10.778975486755371,
          2.2282676696777344,
          -14.232606887817383,
          -8.331571578979492,
          0.9294619560241699,
          11.02406120300293,
          6.597596645355225,
          -3.7068943977355957,
          11.164193153381348,
          6.455116271972656,
          -6.765868663787842,
          4.411281585693359,
          9.405031204223633,
          2.4846394062042236,
          5.3478922843933105,
          2.4911913871765137,
          8.649582862854004,
          0.24588243663311005,
          6.7676310539245605,
          4.971677780151367,
          6.824495792388916,
          -15.723673820495605,
          -12.793581008911133,
          14.453505516052246,
          5.252903461456299,
          4.1435112953186035,
          -0.2933749258518219,
          4.098130226135254,
          -13.239363670349121,
          -14.056248664855957,
          -10.733948707580566,
          9.889992713928223,
          1.0098885297775269,
          9.73108196258545,
          6.263088226318359,
          -13.172752380371094,
          -12.342130661010742,
          4.084444046020508,
          -10.126205444335938,
          -3.2484047412872314,
          1.7765445709228516,
          2.959529399871826,
          7.945394515991211,
          2.3329482078552246,
          10.834312438964844,
          -1.8326648473739624,
          -0.08009026944637299,
          7.982419967651367,
          -13.979681968688965,
          0.14619889855384827,
          14.316935539245605,
          5.664037227630615,
          -15.770496368408203,
          -16.727956771850586,
          -7.11610746383667,
          -11.399744033813477,
          2.5239224433898926,
          -13.328386306762695,
          1.2546446323394775,
          8.352660179138184,
          6.624302387237549,
          -9.230525970458984,
          2.0535664558410645,
          5.5264434814453125,
          -9.646695137023926,
          -12.09618854522705,
          4.895314693450928,
          12.687525749206543,
          -12.89300537109375,
          3.478139877319336,
          -16.098407745361328,
          -8.080629348754883,
          -0.5484236478805542,
          6.0556817054748535,
          -12.45095443725586,
          -13.446280479431152,
          4.698579788208008,
          6.052534580230713,
          10.3565673828125,
          -1.0528022050857544,
          9.421051979064941,
          12.91894817352295,
          3.2339844703674316,
          3.670640468597412,
          -15.847173690795898,
          5.734284400939941,
          2.069718837738037,
          1.4369815587997437,
          3.9095985889434814,
          5.866033554077148,
          -13.726238250732422,
          10.041954040527344,
          -13.554675102233887,
          3.227372884750366,
          5.264486312866211,
          -0.9322163462638855,
          6.514650821685791,
          -0.31933435797691345,
          -9.258821487426758,
          -6.962332725524902,
          -13.890822410583496,
          8.070977210998535,
          11.459538459777832,
          -11.385781288146973,
          -1.950312614440918,
          7.600237846374512,
          -13.131102561950684,
          3.510159492492676,
          10.740974426269531,
          3.3357794284820557,
          2.6613852977752686,
          7.39295768737793,
          6.778611183166504,
          5.993842601776123,
          4.596932888031006,
          5.843104362487793,
          8.289690017700195,
          8.072946548461914,
          6.5337233543396,
          9.957900047302246,
          9.127707481384277,
          -1.1557564735412598,
          9.071462631225586,
          -13.47883129119873,
          4.916555881500244,
          9.495529174804688,
          9.552988052368164,
          7.004840850830078,
          3.7564473152160645,
          -2.8990304470062256,
          -15.324097633361816,
          1.9194903373718262,
          -6.4672417640686035,
          3.478574275970459,
          -12.366600036621094,
          -2.852905750274658,
          4.6387434005737305,
          8.136249542236328,
          -16.601099014282227,
          10.467681884765625,
          0.26429271697998047,
          4.814448833465576,
          7.495368957519531,
          1.9381674528121948,
          -16.813100814819336,
          -8.46078109741211,
          5.930376052856445,
          4.0692949295043945,
          2.900153636932373,
          0.9218172430992126,
          -6.826807498931885,
          6.420993804931641,
          1.8612442016601562,
          -11.205657005310059,
          3.7089788913726807,
          -9.979418754577637,
          10.715641975402832,
          1.234057068824768,
          7.599524021148682,
          -11.721179008483887,
          -14.997026443481445,
          3.5826122760772705,
          10.414595603942871,
          -8.948853492736816,
          12.941998481750488,
          -5.087681770324707,
          9.670211791992188,
          13.70745849609375,
          -5.564568042755127,
          -11.936192512512207,
          2.3346402645111084,
          -9.378291130065918,
          -14.139087677001953,
          3.412255048751831,
          -5.277359485626221,
          -12.320579528808594,
          7.6518378257751465,
          -6.976317405700684,
          7.447282791137695,
          10.227663040161133,
          -15.877239227294922,
          -2.3556606769561768,
          1.7061734199523926,
          -5.845209121704102,
          13.61723518371582,
          14.325589179992676,
          3.1926443576812744,
          -6.788012981414795,
          4.761492729187012,
          14.246095657348633,
          0.7493200898170471,
          7.148082256317139,
          12.766151428222656,
          -15.619805335998535,
          7.588054656982422,
          -6.056089401245117,
          12.694286346435547,
          9.690435409545898,
          4.4922614097595215,
          7.8026275634765625,
          8.200935363769531,
          4.6134796142578125,
          0.3417469263076782,
          -9.651805877685547,
          4.253528118133545,
          3.8382599353790283,
          6.469594478607178,
          7.349428176879883,
          -10.925345420837402,
          -11.5260591506958,
          0.8885231614112854,
          -10.976479530334473,
          0.582290768623352,
          3.224745750427246,
          4.895162105560303,
          -3.075849771499634,
          11.29310131072998,
          -15.621981620788574,
          -7.2819504737854,
          -13.08398151397705,
          -4.898067951202393,
          -13.417908668518066,
          -2.7946999073028564,
          -13.180438041687012,
          3.370206594467163,
          6.794142246246338,
          0.9871505498886108,
          6.209067344665527,
          6.336020469665527,
          0.7429444193840027,
          3.615692615509033,
          -3.4058682918548584,
          12.787165641784668,
          4.830926895141602,
          3.479529619216919,
          -9.916182518005371,
          -8.810359954833984,
          7.403544902801514,
          0.6954609155654907,
          -12.294790267944336,
          14.42261028289795,
          4.5574870109558105,
          2.3841745853424072,
          13.373151779174805,
          4.584530353546143,
          0.17081300914287567,
          4.8767266273498535,
          -10.167276382446289,
          -7.137155055999756,
          -7.530576229095459,
          -15.654190063476562,
          0.6170750856399536,
          2.7978579998016357,
          4.200352191925049,
          3.708099365234375,
          2.798424243927002,
          1.2814265489578247,
          -12.760930061340332,
          -13.743106842041016,
          6.112642765045166,
          -14.251871109008789,
          -11.900080680847168,
          -2.886451005935669,
          -10.07890796661377,
          4.759598255157471,
          -2.1212594509124756,
          2.4024674892425537,
          -11.90195083618164,
          4.703548908233643,
          0.24406082928180695,
          6.265651702880859,
          -16.69872283935547,
          10.585899353027344,
          -12.857438087463379,
          -12.82127571105957,
          10.84308910369873,
          5.859740257263184,
          7.227762222290039,
          -7.96846866607666,
          8.541778564453125,
          2.4826059341430664,
          3.548619270324707,
          -12.942964553833008,
          10.545516967773438,
          -16.45030975341797,
          0.4644773304462433,
          -11.70940113067627,
          -15.69087028503418,
          2.5859129428863525,
          -14.145336151123047,
          9.683183670043945,
          15.582907676696777,
          7.97337007522583,
          5.739779949188232,
          -13.905097007751465,
          -14.299156188964844,
          3.1527419090270996,
          -14.635016441345215,
          -15.363937377929688,
          -13.7896728515625,
          -1.2838373184204102,
          -13.665496826171875,
          2.4384686946868896,
          5.781378746032715,
          5.721076965332031,
          12.67033863067627,
          5.161984920501709,
          12.416802406311035,
          -6.708223342895508,
          1.698852300643921,
          6.4463276863098145,
          15.898138046264648,
          2.8066298961639404,
          8.247753143310547,
          4.651979446411133,
          -13.459516525268555,
          6.4564995765686035,
          5.288647651672363,
          0.4890991151332855,
          -15.22602653503418,
          2.447819948196411,
          3.8154079914093018,
          -14.478846549987793,
          -12.212312698364258,
          -10.08027172088623,
          -11.298871994018555,
          -14.515053749084473,
          0.5676594972610474,
          -9.284855842590332,
          1.8296449184417725,
          -11.501112937927246,
          0.7323996424674988,
          -16.673391342163086,
          -14.668900489807129,
          9.913968086242676,
          0.333437979221344,
          -7.502721786499023,
          7.757008075714111,
          5.379276275634766,
          4.5853776931762695,
          13.470890045166016,
          3.427212715148926,
          0.8137390613555908,
          -0.059759579598903656,
          7.489447116851807,
          3.0764830112457275,
          2.701690673828125,
          4.238065719604492,
          2.1195385456085205,
          4.951455593109131,
          -7.145409107208252,
          -16.757749557495117,
          0.7349620461463928,
          -7.861733436584473,
          3.0296366214752197,
          14.14481258392334,
          0.4339628219604492,
          -1.6153045892715454,
          12.235669136047363,
          -9.543747901916504,
          7.121265411376953,
          4.821730136871338,
          0.524715781211853,
          2.880047559738159,
          -15.52178955078125,
          3.4376354217529297,
          -4.197704315185547,
          -1.2371792793273926,
          0.5406429171562195,
          8.11935043334961,
          -13.663790702819824,
          10.213515281677246,
          -5.585532188415527,
          7.551807403564453,
          -9.447273254394531,
          6.418581008911133,
          6.969604969024658,
          7.809926509857178,
          2.9149434566497803,
          -16.01740074157715,
          7.414820671081543,
          -0.5664682388305664,
          -9.22498893737793,
          6.182584285736084,
          5.160006523132324,
          -12.121371269226074,
          -14.308652877807617,
          3.766037702560425,
          0.868953287601471,
          3.4160494804382324,
          -12.378851890563965,
          4.194911479949951,
          -15.085256576538086,
          -0.2576102018356323,
          -2.0270845890045166,
          7.300528526306152,
          2.6001880168914795,
          12.206700325012207,
          2.380218982696533,
          4.359419345855713,
          -10.644335746765137,
          5.988502502441406,
          -1.3300151824951172,
          -15.547914505004883,
          -12.601027488708496,
          0.3711621165275574,
          -5.88162899017334,
          5.825473785400391,
          5.564116954803467,
          -8.847603797912598,
          1.472513198852539,
          7.172060012817383,
          11.282973289489746,
          6.42919921875,
          -16.10667610168457,
          -13.02742862701416,
          -7.733519077301025,
          -11.715662956237793,
          -16.151180267333984,
          1.201727271080017,
          -17.32914924621582,
          -13.00291633605957,
          6.402347087860107,
          14.595330238342285,
          12.340776443481445,
          -8.431442260742188,
          -0.674919068813324,
          16.256900787353516,
          -3.2716357707977295,
          -7.844840049743652,
          9.078265190124512,
          -3.578643560409546,
          -16.16754913330078,
          -11.792346954345703,
          2.908939838409424,
          -6.072352409362793,
          -7.514019012451172,
          7.824395179748535,
          9.062983512878418,
          -2.586611270904541,
          10.22056770324707,
          -10.733843803405762,
          -8.410344123840332,
          -13.434980392456055,
          10.226696968078613,
          4.928512096405029,
          -1.525963544845581,
          0.5990467071533203,
          -0.23419469594955444,
          0.4286278784275055,
          3.9560234546661377,
          -1.7179659605026245,
          -11.357426643371582,
          -13.104239463806152,
          -13.314912796020508,
          -9.238297462463379,
          4.518935680389404,
          -10.031913757324219,
          3.9293668270111084,
          8.501472473144531,
          0.9573957324028015,
          -15.629541397094727,
          10.58600902557373,
          12.147740364074707,
          14.027782440185547,
          -7.994455814361572,
          5.151900768280029,
          7.028671741485596,
          6.813734531402588,
          -7.116104602813721,
          4.938556671142578,
          14.212546348571777,
          13.344536781311035,
          -15.819405555725098,
          -5.476551532745361,
          -14.787152290344238,
          1.6856693029403687,
          -8.492636680603027,
          -2.470149517059326,
          4.245214462280273,
          6.581131935119629,
          -4.646053314208984,
          13.500863075256348,
          0.463423490524292,
          -12.640558242797852,
          5.13142728805542,
          -14.240107536315918,
          2.2596311569213867,
          7.279676914215088,
          7.714208602905273,
          2.954271078109741,
          2.8021624088287354,
          1.9283846616744995,
          -8.620210647583008,
          2.0503101348876953,
          -7.9329681396484375,
          13.089553833007812,
          5.128932952880859,
          1.552275538444519,
          1.4758957624435425,
          5.1269330978393555,
          4.929938316345215,
          3.119786262512207,
          0.4084908068180084,
          12.07530403137207,
          5.226405620574951,
          10.544306755065918,
          2.1255686283111572,
          0.5016061067581177,
          8.875396728515625,
          12.598623275756836,
          -14.596550941467285,
          0.826104998588562,
          -11.271807670593262,
          15.45931625366211,
          14.923359870910645,
          -15.683143615722656,
          9.893241882324219,
          -8.151554107666016,
          10.06430721282959,
          3.502190351486206,
          -3.031907081604004,
          6.184936046600342,
          -5.401444911956787,
          11.490370750427246,
          4.329553604125977,
          2.5580432415008545,
          4.222123622894287,
          4.211019992828369,
          0.9339653253555298,
          -3.526799201965332,
          7.610409736633301,
          4.095147609710693,
          2.160848617553711,
          -15.926480293273926,
          6.716573238372803,
          -8.516278266906738,
          -6.868398189544678,
          10.84615421295166,
          5.432908058166504,
          0.14778858423233032,
          -5.346154689788818,
          1.1685529947280884,
          -15.826138496398926,
          -8.217402458190918,
          -13.509073257446289,
          -14.292898178100586,
          -3.128704786300659,
          14.952249526977539,
          0.29664847254753113,
          1.4908456802368164,
          9.669739723205566,
          -15.84475326538086,
          14.015785217285156,
          7.204484939575195,
          -13.16261100769043,
          3.4739279747009277,
          6.473920822143555,
          -15.14120864868164,
          -7.150835990905762,
          -5.519510746002197,
          -10.67068099975586,
          -10.658452033996582,
          -7.406044006347656,
          -13.266653060913086,
          3.6013805866241455,
          11.287641525268555,
          4.869902610778809,
          -13.582019805908203,
          0.976158082485199,
          3.153280019760132,
          -13.295377731323242,
          -1.6604081392288208,
          11.80215835571289,
          9.435919761657715,
          6.8426642417907715,
          -12.87339973449707,
          5.561409950256348,
          3.638782262802124,
          11.461458206176758,
          4.406867980957031,
          -0.6103171706199646,
          2.787844657897949,
          -16.593441009521484,
          14.768172264099121,
          -7.8707051277160645,
          4.7633891105651855,
          13.575355529785156,
          0.24463911354541779,
          13.199721336364746,
          0.6411520838737488,
          -15.696806907653809,
          3.157071113586426,
          14.765629768371582,
          -11.708611488342285,
          7.8368306159973145,
          -13.314740180969238,
          5.822848796844482,
          4.693894863128662,
          10.29190444946289,
          -2.508267402648926,
          7.9655632972717285,
          8.735563278198242,
          1.325496792793274,
          5.722835063934326,
          -4.763534069061279,
          8.996756553649902,
          9.700572967529297,
          12.173382759094238,
          -13.190001487731934,
          -13.822352409362793,
          -16.405378341674805,
          5.5427985191345215,
          5.905015468597412,
          3.8935179710388184,
          -6.565249919891357,
          -8.641709327697754,
          -12.695404052734375,
          -6.5638837814331055,
          12.167539596557617,
          -13.742581367492676,
          8.98992919921875,
          6.779453754425049,
          6.565705299377441,
          3.3672282695770264,
          5.769832611083984,
          2.705997943878174,
          0.758209764957428,
          5.468340873718262,
          -16.257015228271484,
          14.263209342956543,
          -9.409728050231934,
          -13.22016716003418,
          -1.8627797365188599,
          -6.733119487762451,
          13.420401573181152,
          5.848363399505615,
          7.87040901184082,
          4.061882019042969,
          12.13903522491455,
          -8.63404655456543,
          -7.983752250671387,
          4.892815589904785,
          3.798732042312622,
          -16.22709846496582,
          -16.423294067382812,
          5.064151287078857,
          -17.594512939453125,
          8.962106704711914,
          10.249960899353027,
          -1.6027398109436035,
          9.042864799499512,
          -0.5650869607925415,
          4.7522430419921875,
          5.037079811096191,
          -0.9197542071342468,
          -8.319902420043945,
          4.481138229370117,
          4.151354789733887,
          -14.75119400024414,
          -13.92556381225586,
          -9.393184661865234,
          7.980691432952881,
          -4.993346214294434,
          0.48146939277648926,
          -14.788278579711914,
          -6.692080020904541,
          -0.8267803192138672,
          14.106555938720703,
          -13.790667533874512,
          10.892632484436035,
          -8.152654647827148,
          11.513314247131348,
          8.611531257629395,
          1.6010671854019165,
          -0.16067707538604736,
          4.206730842590332,
          3.840214252471924,
          -15.723098754882812,
          -14.521310806274414,
          5.686517238616943,
          7.4998321533203125,
          -17.034175872802734,
          -10.398361206054688,
          -6.850387096405029,
          0.42821305990219116,
          4.633536338806152,
          4.3399858474731445,
          -4.026734352111816,
          12.929346084594727,
          5.819943428039551,
          7.532613754272461,
          4.64884090423584,
          8.106614112854004,
          -8.028160095214844,
          1.8204584121704102,
          -14.250044822692871,
          13.109211921691895,
          5.051339626312256,
          -7.904854774475098,
          11.586592674255371,
          4.220261573791504,
          4.256636142730713,
          -13.69084644317627,
          3.794895887374878,
          -11.128033638000488,
          -7.619405746459961,
          4.039700984954834,
          14.7531156539917,
          1.9882678985595703,
          -13.49368667602539,
          7.078092575073242,
          1.1853822469711304,
          -12.412440299987793,
          -14.395668029785156,
          -10.861824989318848,
          -11.642298698425293,
          10.315153121948242,
          10.225656509399414,
          -5.171178340911865,
          -9.643210411071777,
          5.0832839012146,
          10.110684394836426,
          15.142202377319336,
          -11.558253288269043,
          -10.414985656738281
         ],
         "z": [
          -5.469036102294922,
          11.451701164245605,
          -13.961548805236816,
          0.8872865438461304,
          -13.515060424804688,
          0.7831335067749023,
          12.715651512145996,
          -2.8233253955841064,
          -1.439600944519043,
          1.1439714431762695,
          -1.4495171308517456,
          -9.363393783569336,
          4.747440338134766,
          -7.1042256355285645,
          -6.253889083862305,
          -2.930281400680542,
          4.729445934295654,
          8.57396125793457,
          -14.140054702758789,
          0.2031134068965912,
          0.883232057094574,
          -9.170522689819336,
          -8.134178161621094,
          -0.640738308429718,
          -2.0385096073150635,
          3.507781505584717,
          -10.16517162322998,
          0.6458991169929504,
          -3.345303535461426,
          -6.127014636993408,
          -0.5328419804573059,
          9.665023803710938,
          -5.366060256958008,
          -4.981678009033203,
          2.9300906658172607,
          -9.107206344604492,
          0.659146785736084,
          0.6616777181625366,
          -8.581631660461426,
          -0.5133289098739624,
          12.396626472473145,
          -4.398381233215332,
          8.079647064208984,
          -2.669271469116211,
          -5.6873979568481445,
          -2.333942174911499,
          -4.891165256500244,
          -0.9458674788475037,
          -9.536486625671387,
          11.411118507385254,
          0.27966439723968506,
          -13.71871280670166,
          2.5957555770874023,
          -2.3678016662597656,
          1.9158984422683716,
          13.775749206542969,
          15.591139793395996,
          3.9035444259643555,
          -4.766170024871826,
          -11.628498077392578,
          4.899945259094238,
          6.289230823516846,
          -5.305114269256592,
          -4.0865159034729,
          8.89175796508789,
          -4.419651985168457,
          10.40085506439209,
          8.186572074890137,
          -9.681787490844727,
          -0.5467045903205872,
          -8.496021270751953,
          -2.521942138671875,
          -7.672049522399902,
          1.8265762329101562,
          -6.292026519775391,
          -5.327892780303955,
          -9.573732376098633,
          -4.7463178634643555,
          -2.678044557571411,
          -2.4218156337738037,
          -2.1084060668945312,
          -6.955148220062256,
          -10.570374488830566,
          5.4076995849609375,
          11.681418418884277,
          6.912448406219482,
          9.631551742553711,
          12.39699935913086,
          4.755630016326904,
          -8.078441619873047,
          -6.542226791381836,
          -0.3747705817222595,
          6.975490570068359,
          13.893430709838867,
          12.617284774780273,
          -6.539857387542725,
          3.7162511348724365,
          6.831687927246094,
          3.654130697250366,
          -9.82083797454834,
          -8.88780403137207,
          11.684983253479004,
          6.750326156616211,
          3.917158842086792,
          -4.34401273727417,
          1.5335172414779663,
          5.3360748291015625,
          9.19034194946289,
          -6.545214653015137,
          -4.948378562927246,
          -6.310468673706055,
          -10.66435432434082,
          1.8860656023025513,
          -4.773633003234863,
          -13.769878387451172,
          -6.144515037536621,
          15.944770812988281,
          14.09804916381836,
          1.6423686742782593,
          3.8831045627593994,
          -5.616637706756592,
          2.926661968231201,
          7.829460144042969,
          9.63819694519043,
          3.582798480987549,
          9.772171020507812,
          11.085066795349121,
          -0.22674159705638885,
          11.333755493164062,
          8.56143569946289,
          2.9409470558166504,
          3.6905839443206787,
          -0.4425165057182312,
          11.407106399536133,
          12.896642684936523,
          -3.246091604232788,
          -10.719101905822754,
          -0.4666440486907959,
          10.298962593078613,
          1.667513132095337,
          1.0923373699188232,
          -8.828197479248047,
          3.860877275466919,
          -11.774715423583984,
          3.750861406326294,
          -0.38689878582954407,
          -1.5871120691299438,
          11.330754280090332,
          11.007664680480957,
          2.6626853942871094,
          -7.3277153968811035,
          -5.206803321838379,
          4.362103462219238,
          4.669968128204346,
          -8.42995548248291,
          4.340577125549316,
          10.389547348022461,
          11.249736785888672,
          -4.963719367980957,
          2.3055667877197266,
          15.491084098815918,
          3.9825124740600586,
          -2.32212233543396,
          -2.2712841033935547,
          0.6969522833824158,
          12.306961059570312,
          1.16579008102417,
          -7.878730773925781,
          -9.89399242401123,
          3.6453299522399902,
          5.605649948120117,
          5.721681118011475,
          -0.9598343372344971,
          -12.573619842529297,
          3.195439338684082,
          11.917171478271484,
          0.9209662675857544,
          -12.277597427368164,
          10.92971420288086,
          -1.0627472400665283,
          4.15580940246582,
          -2.7795004844665527,
          8.199462890625,
          -7.058114528656006,
          -7.770130634307861,
          16.188222885131836,
          -5.499277591705322,
          3.359870672225952,
          -1.7468246221542358,
          -5.097731590270996,
          11.496556282043457,
          -12.525755882263184,
          -0.5723446607589722,
          -13.755249977111816,
          15.707229614257812,
          13.735274314880371,
          5.253161907196045,
          8.320850372314453,
          -9.625666618347168,
          3.5031983852386475,
          1.8138501644134521,
          2.101639986038208,
          11.555907249450684,
          -10.905372619628906,
          -13.606801986694336,
          9.580167770385742,
          -2.641296148300171,
          2.392674207687378,
          -1.8112655878067017,
          11.265472412109375,
          4.3475260734558105,
          -5.773861408233643,
          -6.310912609100342,
          -7.245595932006836,
          2.9078876972198486,
          4.166555881500244,
          11.012777328491211,
          -3.9449000358581543,
          -5.897993087768555,
          0.6563642621040344,
          -14.27013874053955,
          8.512873649597168,
          -10.510379791259766,
          -5.433393478393555,
          15.281024932861328,
          -3.199693202972412,
          8.09703254699707,
          -1.1566128730773926,
          13.370967864990234,
          -5.677704811096191,
          13.287376403808594,
          7.283722877502441,
          -0.32488688826560974,
          -0.5808461904525757,
          2.591038942337036,
          8.20634937286377,
          -1.9267642498016357,
          -4.795797348022461,
          -0.5613288879394531,
          -12.303122520446777,
          2.896388530731201,
          5.672999858856201,
          -10.331215858459473,
          12.228843688964844,
          -3.4880013465881348,
          14.481690406799316,
          -2.2178831100463867,
          -1.6984127759933472,
          7.911417484283447,
          -9.088640213012695,
          3.3845925331115723,
          2.0662691593170166,
          -2.374218702316284,
          4.116207122802734,
          1.0314443111419678,
          -0.8928266167640686,
          -4.2674641609191895,
          13.413562774658203,
          -5.304072856903076,
          3.272850275039673,
          -10.692408561706543,
          3.6511006355285645,
          -12.904417991638184,
          4.017777919769287,
          2.6588401794433594,
          11.987936973571777,
          -1.7276389598846436,
          15.33410358428955,
          -6.604228496551514,
          6.539662837982178,
          8.099574089050293,
          13.522324562072754,
          -3.6917760372161865,
          -10.40986156463623,
          1.6731003522872925,
          7.497303009033203,
          -6.21503210067749,
          -12.620302200317383,
          8.817145347595215,
          -1.628265619277954,
          8.62665843963623,
          -10.131070137023926,
          -0.07429230213165283,
          -5.2654500007629395,
          -13.309887886047363,
          9.079015731811523,
          7.094976425170898,
          8.832145690917969,
          13.765413284301758,
          -9.41997241973877,
          -8.520097732543945,
          10.0481538772583,
          4.9671831130981445,
          8.865361213684082,
          5.56074857711792,
          1.9058305025100708,
          -1.3180748224258423,
          -1.2706395387649536,
          4.45234489440918,
          -5.611323833465576,
          7.741341590881348,
          14.685269355773926,
          -6.821012020111084,
          -3.154092311859131,
          -2.0801854133605957,
          -4.29587459564209,
          6.631954193115234,
          -3.681014060974121,
          11.77373218536377,
          -7.797088146209717,
          -7.314128875732422,
          11.876786231994629,
          -3.5604143142700195,
          -11.639222145080566,
          6.358797550201416,
          -5.698031902313232,
          3.6088035106658936,
          12.846693992614746,
          -4.158095836639404,
          11.889870643615723,
          7.088550567626953,
          -3.4047226905822754,
          -1.8308801651000977,
          8.532355308532715,
          -5.700507164001465,
          -7.263301849365234,
          -2.9155447483062744,
          -2.3747310638427734,
          -7.85549259185791,
          -1.0547913312911987,
          15.50200080871582,
          -4.845824241638184,
          6.302745342254639,
          2.8927106857299805,
          12.03330135345459,
          -9.182601928710938,
          9.419543266296387,
          -2.7456295490264893,
          -5.217199325561523,
          -6.711240768432617,
          -2.949127435684204,
          0.685181736946106,
          1.8630932569503784,
          5.392188549041748,
          -2.6865057945251465,
          -8.947721481323242,
          11.509461402893066,
          13.619817733764648,
          0.304770290851593,
          -4.233556270599365,
          1.3293672800064087,
          -3.078385829925537,
          2.439769744873047,
          13.435429573059082,
          7.0882344245910645,
          0.852985143661499,
          3.222763776779175,
          6.823050022125244,
          -7.332968711853027,
          -9.686921119689941,
          9.96524429321289,
          7.369113922119141,
          -1.9622331857681274,
          10.674897193908691,
          -0.8008437156677246,
          -1.9812780618667603,
          -5.465827465057373,
          16.375354766845703,
          13.551315307617188,
          9.734106063842773,
          8.422868728637695,
          3.046807289123535,
          -10.818890571594238,
          -7.762578010559082,
          -1.797916293144226,
          8.422615051269531,
          -5.109155178070068,
          -1.5918455123901367,
          12.548263549804688,
          -8.584548950195312,
          0.901854395866394,
          1.216074824333191,
          -6.357861042022705,
          -6.99153470993042,
          9.615437507629395,
          3.4660003185272217,
          4.580595016479492,
          3.798107862472534,
          3.625476598739624,
          -9.853571891784668,
          8.54674243927002,
          3.4363784790039062,
          -4.645900726318359,
          -4.470849514007568,
          2.6402416229248047,
          13.383502006530762,
          1.4488555192947388,
          -3.5844717025756836,
          -7.521696090698242,
          -1.5550912618637085,
          3.7433173656463623,
          7.915555953979492,
          11.840689659118652,
          9.215813636779785,
          -4.939178943634033,
          15.194684982299805,
          -11.854836463928223,
          0.1661190390586853,
          3.4936044216156006,
          7.072079658508301,
          10.51028060913086,
          -7.477413654327393,
          -5.369385719299316,
          -3.3312253952026367,
          10.23652172088623,
          7.682716369628906,
          11.295939445495605,
          12.23508358001709,
          -1.941035509109497,
          -8.836849212646484,
          -10.096433639526367,
          6.267787456512451,
          8.459928512573242,
          9.425479888916016,
          -9.806476593017578,
          13.436634063720703,
          13.205751419067383,
          -1.6197839975357056,
          -7.307173252105713,
          -9.315556526184082,
          -6.362072467803955,
          15.121932029724121,
          5.4236650466918945,
          -1.9389190673828125,
          -8.237876892089844,
          4.580885410308838,
          4.818778038024902,
          -10.241079330444336,
          -5.80537748336792,
          -13.869908332824707,
          0.9087451100349426,
          -1.9546501636505127,
          -13.84267807006836,
          -10.408326148986816,
          4.109735012054443,
          0.9079975485801697,
          -6.808790683746338,
          6.7566819190979,
          -8.962424278259277,
          -2.762617826461792,
          7.964049339294434,
          -11.006296157836914,
          9.18588924407959,
          -3.9575634002685547,
          0.9496772289276123,
          11.632430076599121,
          2.020294189453125,
          -10.684405326843262,
          -3.0325636863708496,
          -1.9617067575454712,
          9.740118980407715,
          -12.855550765991211,
          8.524712562561035,
          0.5094792246818542,
          0.03949243575334549,
          -6.301211357116699,
          -6.916687488555908,
          -6.3348708152771,
          12.434492111206055,
          -10.164341926574707,
          -4.87363338470459,
          4.188459396362305,
          9.430265426635742,
          -3.0722298622131348,
          8.133956909179688,
          15.6051664352417,
          13.233418464660645,
          -1.6838363409042358,
          -4.179681777954102,
          11.600787162780762,
          11.002306938171387,
          6.707841873168945,
          -2.9468138217926025,
          -10.206465721130371,
          15.897428512573242,
          -10.63932991027832,
          4.7699174880981445,
          -7.383836269378662,
          -3.5866858959198,
          -12.650283813476562,
          -1.950669765472412,
          1.5242706537246704,
          -2.8538742065429688,
          -7.314443588256836,
          -10.42712688446045,
          -2.1036417484283447,
          7.365173816680908,
          2.3526370525360107,
          5.1651997566223145,
          -7.504878520965576,
          10.395645141601562,
          0.6438858509063721,
          -7.959855556488037,
          4.393637180328369,
          -6.818880081176758,
          -12.11710262298584,
          -4.277900695800781,
          13.135270118713379,
          -7.8943562507629395,
          -3.273249626159668,
          -13.343501091003418,
          11.805447578430176,
          6.276444911956787,
          -6.084372520446777,
          -2.2708938121795654,
          7.310542106628418,
          4.112740516662598,
          -3.6334118843078613,
          1.4552240371704102,
          6.5780510902404785,
          -9.999088287353516,
          -9.448541641235352,
          -5.103878021240234,
          -7.595731258392334,
          -5.903743267059326,
          16.40184783935547,
          -6.571826934814453,
          14.739760398864746,
          2.704960823059082,
          -4.970420837402344,
          6.697584629058838,
          -5.138077259063721,
          2.6184797286987305,
          8.060813903808594,
          1.9853734970092773,
          -6.7142014503479,
          7.540863513946533,
          -11.241209983825684,
          -4.157898902893066,
          6.965627193450928,
          1.4634455442428589,
          0.27500489354133606,
          10.227621078491211,
          11.562203407287598,
          13.811824798583984,
          1.9287465810775757,
          0.38410595059394836,
          -0.37470176815986633,
          -2.38327956199646,
          -0.0533900149166584,
          5.507168769836426,
          -4.509642601013184,
          -10.671114921569824,
          -5.046610355377197,
          6.938233852386475,
          10.399493217468262,
          3.1431691646575928,
          -6.390103340148926,
          -2.416733741760254,
          -0.8710015416145325,
          -11.035067558288574,
          -5.844291687011719,
          7.801560878753662,
          -1.1541123390197754,
          5.930596828460693,
          -2.0628163814544678,
          10.56933879852295,
          0.7373349070549011,
          -3.207493782043457,
          0.3591076731681824,
          -6.1120147705078125,
          1.178823471069336,
          -3.4534852504730225,
          -4.333597660064697,
          10.512679100036621,
          -8.308138847351074,
          12.406439781188965,
          13.153698921203613,
          -5.1092448234558105,
          -6.179973125457764,
          -9.771079063415527,
          -4.707064151763916,
          -8.347066879272461,
          12.757426261901855,
          11.734930038452148,
          -2.537142515182495,
          -5.418378829956055,
          6.815912246704102,
          15.941964149475098,
          -5.293010711669922,
          8.128434181213379,
          9.315669059753418,
          -1.6058235168457031,
          -4.346328258514404,
          -0.9097844362258911,
          3.401732921600342,
          -2.3824880123138428,
          -6.257761001586914,
          -1.6634594202041626,
          -10.362299919128418,
          1.066942572593689,
          1.7760778665542603,
          -3.348592519760132,
          14.086465835571289,
          -0.3788006901741028,
          10.570656776428223,
          -3.0222604274749756,
          -5.952746391296387,
          4.588103294372559,
          8.29543399810791,
          -4.763794422149658,
          -7.8388776779174805,
          -9.03475570678711,
          -3.791168689727783,
          0.36257508397102356,
          8.578956604003906,
          4.328038692474365,
          5.10740852355957,
          3.561697483062744,
          -4.851809978485107,
          -2.0500712394714355,
          3.731644868850708,
          3.1944479942321777,
          0.9627215266227722,
          -7.966994762420654,
          -4.828878879547119,
          15.500771522521973,
          -14.086520195007324,
          1.2864341735839844,
          0.3747349977493286,
          2.0805654525756836,
          8.010196685791016,
          -4.774760723114014,
          -9.970688819885254,
          -8.307437896728516,
          -4.366215229034424,
          0.846519947052002,
          -1.7302395105361938,
          0.7963640689849854,
          -1.5288523435592651,
          -13.542427062988281,
          11.223587989807129,
          13.781096458435059,
          -8.523656845092773,
          -6.025360584259033,
          -2.1700191497802734,
          -11.024423599243164,
          -3.0616559982299805,
          -3.04773211479187,
          -3.783082962036133,
          8.03067398071289,
          10.26891040802002,
          1.4833811521530151,
          0.6424240469932556,
          12.078007698059082,
          9.098377227783203,
          -10.13520336151123,
          -4.650219440460205,
          2.9284565448760986,
          -4.755032539367676,
          -6.997501850128174,
          3.426250696182251,
          -0.20727145671844482,
          -5.491083145141602,
          -0.1948641687631607,
          -2.026395320892334,
          0.4409254789352417,
          11.63150691986084,
          8.517228126525879,
          11.4013090133667,
          1.4631919860839844,
          0.7573283314704895,
          4.352184295654297,
          -1.3928016424179077,
          1.7186521291732788,
          6.415847301483154,
          11.258527755737305,
          2.7090001106262207,
          -1.360085368156433,
          11.317381858825684,
          -9.423630714416504,
          8.62156867980957,
          -2.6118063926696777,
          -0.6715505123138428,
          8.471901893615723,
          11.921552658081055,
          -0.12204339355230331,
          13.09082317352295,
          -0.5959210991859436,
          -7.662301540374756,
          0.7072148323059082,
          -6.52690315246582,
          -5.935990810394287,
          3.830953359603882,
          0.870577335357666,
          3.3354811668395996,
          -8.550877571105957,
          -3.3445281982421875,
          -3.124098062515259,
          -5.6216630935668945,
          4.615116596221924,
          -1.3788743019104004,
          -7.118195056915283,
          -3.330031633377075,
          -0.8210415840148926,
          13.528236389160156,
          -1.4397592544555664,
          -5.740862846374512,
          -3.049490451812744,
          -3.0102334022521973,
          -4.829342842102051,
          10.485159873962402,
          3.945995569229126,
          3.6828055381774902,
          -1.9190272092819214,
          2.9824695587158203,
          0.6857814788818359,
          -1.6102216243743896,
          -1.9254721403121948,
          6.294264793395996,
          -14.15404224395752,
          16.66822624206543,
          4.043050765991211,
          -13.693910598754883,
          0.29343181848526,
          -5.377272605895996,
          -2.7503368854522705,
          4.025029182434082,
          -1.2253342866897583,
          -0.27897951006889343,
          4.723433971405029,
          -10.279288291931152,
          -1.57145357131958,
          1.542399525642395,
          2.0451176166534424,
          0.09268184751272202,
          -6.632841110229492,
          -1.0472437143325806,
          -1.5994206666946411,
          -5.781736850738525,
          2.7923312187194824,
          -5.9070143699646,
          -5.067209243774414,
          -3.861698627471924,
          -7.738646984100342,
          -1.553465723991394,
          -5.3867506980896,
          2.0812904834747314,
          -11.167129516601562,
          -7.184980392456055,
          10.856417655944824,
          -10.739243507385254,
          13.164240837097168,
          15.717093467712402,
          9.33698844909668,
          -12.800097465515137,
          -2.418987989425659,
          3.9839746952056885,
          -5.960023880004883,
          13.353385925292969,
          -7.221154689788818,
          4.3065338134765625,
          6.8265485763549805,
          13.274514198303223,
          -5.953386306762695,
          15.997817993164062,
          15.277945518493652,
          -12.056129455566406,
          12.889144897460938,
          -12.935159683227539,
          -2.4327287673950195,
          -4.42024564743042,
          -1.6672543287277222,
          13.156129837036133,
          -6.697508335113525,
          10.107797622680664,
          1.3288334608078003,
          4.116034507751465,
          -4.856748104095459,
          -5.8389739990234375,
          -5.866623401641846,
          15.580286979675293,
          6.027187824249268,
          -7.2634196281433105,
          -1.2696999311447144,
          -7.482422828674316,
          5.342750072479248,
          1.667412281036377,
          -2.8832221031188965,
          -3.3668758869171143,
          -5.170951843261719,
          -3.6309633255004883,
          -5.120574951171875,
          -4.8728556632995605,
          16.040470123291016,
          8.705787658691406,
          7.689230442047119,
          -9.595863342285156,
          -5.15387487411499,
          11.022318840026855,
          4.001136779785156,
          0.5406862497329712,
          2.144977569580078,
          11.519787788391113,
          -12.721138000488281,
          12.313397407531738,
          7.3459367752075195,
          6.759791374206543,
          0.8773272037506104,
          7.778748512268066,
          -10.066373825073242,
          -2.6965832710266113,
          -4.934015274047852,
          -10.507438659667969,
          6.076369762420654,
          -8.889335632324219,
          7.531944274902344,
          -5.097499370574951,
          0.4768514931201935,
          -0.47003331780433655,
          -1.1438418626785278,
          -11.163899421691895,
          -1.199547529220581,
          8.175865173339844,
          6.055522918701172,
          4.301795482635498,
          0.8227238655090332,
          -3.394467353820801,
          -5.4653730392456055,
          -5.747692584991455,
          10.235836029052734,
          -8.470714569091797,
          -6.002762317657471,
          -3.0487616062164307,
          -10.936823844909668,
          -0.09840135276317596,
          -11.056742668151855,
          -12.54035758972168,
          -0.8045922517776489,
          6.531006813049316,
          -5.505841255187988,
          3.7103219032287598,
          -0.42646926641464233,
          9.286602973937988,
          13.338871002197266,
          2.5077614784240723,
          6.00675630569458,
          -5.146646022796631,
          -6.863349914550781,
          3.5180375576019287,
          2.9855644702911377,
          -8.997929573059082,
          5.609163761138916,
          -5.485633373260498,
          3.3821449279785156,
          6.691905975341797,
          3.4144043922424316,
          2.2085134983062744,
          -3.285221815109253,
          -5.183712959289551,
          -8.608623504638672,
          -3.333566188812256,
          -0.09087663888931274,
          -5.4398722648620605,
          6.427778720855713,
          -0.4914998710155487,
          14.793316841125488,
          -3.289712905883789,
          -0.10734882205724716,
          -8.57780647277832,
          -3.0002167224884033,
          5.824085235595703,
          9.683550834655762,
          -7.004752159118652,
          13.115093231201172,
          6.517173767089844,
          2.4663634300231934,
          5.547145366668701,
          -5.403020858764648,
          -12.345955848693848,
          -8.589727401733398,
          -1.6926932334899902,
          0.7378070950508118,
          -2.987049102783203,
          -3.6573522090911865,
          1.6601300239562988,
          -6.009850025177002,
          4.851233959197998,
          -5.083925724029541,
          -3.3371450901031494,
          -10.628820419311523,
          -6.962992191314697,
          -8.905045509338379,
          0.02762812003493309,
          -7.867129802703857,
          -6.686829090118408,
          -3.4996497631073,
          12.732735633850098,
          2.7270548343658447,
          0.9802374243736267,
          8.2069730758667,
          4.103821754455566,
          8.95202922821045,
          -5.040572643280029,
          -5.920368671417236,
          -11.25851058959961,
          -1.6120121479034424,
          9.758179664611816,
          -8.560525894165039,
          -5.230709552764893,
          8.56067180633545,
          6.574169158935547,
          6.950990676879883,
          -6.0698747634887695,
          -4.806813716888428,
          -14.173439979553223,
          -5.1236467361450195,
          8.41075325012207,
          1.9953488111495972,
          0.455958753824234,
          -9.039690971374512,
          -0.6803833842277527,
          3.2598390579223633,
          -2.433241128921509,
          6.343161582946777,
          -8.209108352661133,
          13.940067291259766,
          -5.016027450561523,
          4.535128116607666,
          6.963529109954834,
          -14.11023998260498,
          5.919181823730469,
          9.183816909790039,
          -6.301584720611572,
          -3.0498642921447754,
          -8.942495346069336,
          3.9715540409088135,
          -13.027786254882812,
          10.821995735168457,
          -0.9309459328651428,
          -11.570980072021484,
          3.1783196926116943,
          -2.1566638946533203,
          2.9586610794067383,
          -3.3803458213806152,
          -6.208921432495117,
          -1.7646178007125854,
          -3.430100679397583,
          8.457347869873047,
          14.69546890258789,
          -3.77113676071167,
          0.4703596830368042,
          -4.979268550872803,
          -1.220504641532898,
          3.1665470600128174,
          11.245596885681152,
          0.9056904315948486,
          -4.430525302886963,
          -2.999593496322632,
          4.552745819091797,
          16.092676162719727,
          6.196555137634277,
          -12.083236694335938,
          -3.204824209213257,
          -4.861602783203125,
          12.22414779663086,
          8.621318817138672,
          -5.517638206481934,
          -5.100836753845215,
          6.095066070556641,
          -5.962324619293213,
          -5.679780006408691,
          -2.4728996753692627,
          -14.001436233520508,
          -2.2080581188201904,
          13.00320053100586,
          11.644638061523438,
          -5.504091739654541,
          -1.5331089496612549,
          1.7465254068374634,
          -5.0181074142456055,
          -9.166610717773438,
          -0.7781507968902588,
          15.409934997558594,
          -4.886807918548584,
          8.247429847717285,
          5.201716423034668,
          -1.1464852094650269,
          0.7683367133140564,
          -11.123847007751465,
          1.3912475109100342,
          -5.054616451263428,
          -1.8104827404022217,
          -12.940600395202637,
          -5.7503156661987305,
          -4.444272518157959,
          4.9515581130981445,
          -2.8262276649475098,
          -1.3507142066955566,
          -10.650531768798828
         ]
        }
       ],
       "layout": {
        "coloraxis": {
         "colorbar": {
          "title": {
           "text": "Label"
          }
         },
         "colorscale": [
          [
           0,
           "#0d0887"
          ],
          [
           0.1111111111111111,
           "#46039f"
          ],
          [
           0.2222222222222222,
           "#7201a8"
          ],
          [
           0.3333333333333333,
           "#9c179e"
          ],
          [
           0.4444444444444444,
           "#bd3786"
          ],
          [
           0.5555555555555556,
           "#d8576b"
          ],
          [
           0.6666666666666666,
           "#ed7953"
          ],
          [
           0.7777777777777778,
           "#fb9f3a"
          ],
          [
           0.8888888888888888,
           "#fdca26"
          ],
          [
           1,
           "#f0f921"
          ]
         ]
        },
        "height": 800,
        "legend": {
         "tracegroupgap": 0
        },
        "scene": {
         "domain": {
          "x": [
           0,
           1
          ],
          "y": [
           0,
           1
          ]
         },
         "xaxis": {
          "title": {
           "text": "0"
          }
         },
         "yaxis": {
          "title": {
           "text": "1"
          }
         },
         "zaxis": {
          "title": {
           "text": "2"
          }
         }
        },
        "template": {
         "data": {
          "bar": [
           {
            "error_x": {
             "color": "#2a3f5f"
            },
            "error_y": {
             "color": "#2a3f5f"
            },
            "marker": {
             "line": {
              "color": "#E5ECF6",
              "width": 0.5
             }
            },
            "type": "bar"
           }
          ],
          "barpolar": [
           {
            "marker": {
             "line": {
              "color": "#E5ECF6",
              "width": 0.5
             }
            },
            "type": "barpolar"
           }
          ],
          "carpet": [
           {
            "aaxis": {
             "endlinecolor": "#2a3f5f",
             "gridcolor": "white",
             "linecolor": "white",
             "minorgridcolor": "white",
             "startlinecolor": "#2a3f5f"
            },
            "baxis": {
             "endlinecolor": "#2a3f5f",
             "gridcolor": "white",
             "linecolor": "white",
             "minorgridcolor": "white",
             "startlinecolor": "#2a3f5f"
            },
            "type": "carpet"
           }
          ],
          "choropleth": [
           {
            "colorbar": {
             "outlinewidth": 0,
             "ticks": ""
            },
            "type": "choropleth"
           }
          ],
          "contour": [
           {
            "colorbar": {
             "outlinewidth": 0,
             "ticks": ""
            },
            "colorscale": [
             [
              0,
              "#0d0887"
             ],
             [
              0.1111111111111111,
              "#46039f"
             ],
             [
              0.2222222222222222,
              "#7201a8"
             ],
             [
              0.3333333333333333,
              "#9c179e"
             ],
             [
              0.4444444444444444,
              "#bd3786"
             ],
             [
              0.5555555555555556,
              "#d8576b"
             ],
             [
              0.6666666666666666,
              "#ed7953"
             ],
             [
              0.7777777777777778,
              "#fb9f3a"
             ],
             [
              0.8888888888888888,
              "#fdca26"
             ],
             [
              1,
              "#f0f921"
             ]
            ],
            "type": "contour"
           }
          ],
          "contourcarpet": [
           {
            "colorbar": {
             "outlinewidth": 0,
             "ticks": ""
            },
            "type": "contourcarpet"
           }
          ],
          "heatmap": [
           {
            "colorbar": {
             "outlinewidth": 0,
             "ticks": ""
            },
            "colorscale": [
             [
              0,
              "#0d0887"
             ],
             [
              0.1111111111111111,
              "#46039f"
             ],
             [
              0.2222222222222222,
              "#7201a8"
             ],
             [
              0.3333333333333333,
              "#9c179e"
             ],
             [
              0.4444444444444444,
              "#bd3786"
             ],
             [
              0.5555555555555556,
              "#d8576b"
             ],
             [
              0.6666666666666666,
              "#ed7953"
             ],
             [
              0.7777777777777778,
              "#fb9f3a"
             ],
             [
              0.8888888888888888,
              "#fdca26"
             ],
             [
              1,
              "#f0f921"
             ]
            ],
            "type": "heatmap"
           }
          ],
          "heatmapgl": [
           {
            "colorbar": {
             "outlinewidth": 0,
             "ticks": ""
            },
            "colorscale": [
             [
              0,
              "#0d0887"
             ],
             [
              0.1111111111111111,
              "#46039f"
             ],
             [
              0.2222222222222222,
              "#7201a8"
             ],
             [
              0.3333333333333333,
              "#9c179e"
             ],
             [
              0.4444444444444444,
              "#bd3786"
             ],
             [
              0.5555555555555556,
              "#d8576b"
             ],
             [
              0.6666666666666666,
              "#ed7953"
             ],
             [
              0.7777777777777778,
              "#fb9f3a"
             ],
             [
              0.8888888888888888,
              "#fdca26"
             ],
             [
              1,
              "#f0f921"
             ]
            ],
            "type": "heatmapgl"
           }
          ],
          "histogram": [
           {
            "marker": {
             "colorbar": {
              "outlinewidth": 0,
              "ticks": ""
             }
            },
            "type": "histogram"
           }
          ],
          "histogram2d": [
           {
            "colorbar": {
             "outlinewidth": 0,
             "ticks": ""
            },
            "colorscale": [
             [
              0,
              "#0d0887"
             ],
             [
              0.1111111111111111,
              "#46039f"
             ],
             [
              0.2222222222222222,
              "#7201a8"
             ],
             [
              0.3333333333333333,
              "#9c179e"
             ],
             [
              0.4444444444444444,
              "#bd3786"
             ],
             [
              0.5555555555555556,
              "#d8576b"
             ],
             [
              0.6666666666666666,
              "#ed7953"
             ],
             [
              0.7777777777777778,
              "#fb9f3a"
             ],
             [
              0.8888888888888888,
              "#fdca26"
             ],
             [
              1,
              "#f0f921"
             ]
            ],
            "type": "histogram2d"
           }
          ],
          "histogram2dcontour": [
           {
            "colorbar": {
             "outlinewidth": 0,
             "ticks": ""
            },
            "colorscale": [
             [
              0,
              "#0d0887"
             ],
             [
              0.1111111111111111,
              "#46039f"
             ],
             [
              0.2222222222222222,
              "#7201a8"
             ],
             [
              0.3333333333333333,
              "#9c179e"
             ],
             [
              0.4444444444444444,
              "#bd3786"
             ],
             [
              0.5555555555555556,
              "#d8576b"
             ],
             [
              0.6666666666666666,
              "#ed7953"
             ],
             [
              0.7777777777777778,
              "#fb9f3a"
             ],
             [
              0.8888888888888888,
              "#fdca26"
             ],
             [
              1,
              "#f0f921"
             ]
            ],
            "type": "histogram2dcontour"
           }
          ],
          "mesh3d": [
           {
            "colorbar": {
             "outlinewidth": 0,
             "ticks": ""
            },
            "type": "mesh3d"
           }
          ],
          "parcoords": [
           {
            "line": {
             "colorbar": {
              "outlinewidth": 0,
              "ticks": ""
             }
            },
            "type": "parcoords"
           }
          ],
          "pie": [
           {
            "automargin": true,
            "type": "pie"
           }
          ],
          "scatter": [
           {
            "marker": {
             "colorbar": {
              "outlinewidth": 0,
              "ticks": ""
             }
            },
            "type": "scatter"
           }
          ],
          "scatter3d": [
           {
            "line": {
             "colorbar": {
              "outlinewidth": 0,
              "ticks": ""
             }
            },
            "marker": {
             "colorbar": {
              "outlinewidth": 0,
              "ticks": ""
             }
            },
            "type": "scatter3d"
           }
          ],
          "scattercarpet": [
           {
            "marker": {
             "colorbar": {
              "outlinewidth": 0,
              "ticks": ""
             }
            },
            "type": "scattercarpet"
           }
          ],
          "scattergeo": [
           {
            "marker": {
             "colorbar": {
              "outlinewidth": 0,
              "ticks": ""
             }
            },
            "type": "scattergeo"
           }
          ],
          "scattergl": [
           {
            "marker": {
             "colorbar": {
              "outlinewidth": 0,
              "ticks": ""
             }
            },
            "type": "scattergl"
           }
          ],
          "scattermapbox": [
           {
            "marker": {
             "colorbar": {
              "outlinewidth": 0,
              "ticks": ""
             }
            },
            "type": "scattermapbox"
           }
          ],
          "scatterpolar": [
           {
            "marker": {
             "colorbar": {
              "outlinewidth": 0,
              "ticks": ""
             }
            },
            "type": "scatterpolar"
           }
          ],
          "scatterpolargl": [
           {
            "marker": {
             "colorbar": {
              "outlinewidth": 0,
              "ticks": ""
             }
            },
            "type": "scatterpolargl"
           }
          ],
          "scatterternary": [
           {
            "marker": {
             "colorbar": {
              "outlinewidth": 0,
              "ticks": ""
             }
            },
            "type": "scatterternary"
           }
          ],
          "surface": [
           {
            "colorbar": {
             "outlinewidth": 0,
             "ticks": ""
            },
            "colorscale": [
             [
              0,
              "#0d0887"
             ],
             [
              0.1111111111111111,
              "#46039f"
             ],
             [
              0.2222222222222222,
              "#7201a8"
             ],
             [
              0.3333333333333333,
              "#9c179e"
             ],
             [
              0.4444444444444444,
              "#bd3786"
             ],
             [
              0.5555555555555556,
              "#d8576b"
             ],
             [
              0.6666666666666666,
              "#ed7953"
             ],
             [
              0.7777777777777778,
              "#fb9f3a"
             ],
             [
              0.8888888888888888,
              "#fdca26"
             ],
             [
              1,
              "#f0f921"
             ]
            ],
            "type": "surface"
           }
          ],
          "table": [
           {
            "cells": {
             "fill": {
              "color": "#EBF0F8"
             },
             "line": {
              "color": "white"
             }
            },
            "header": {
             "fill": {
              "color": "#C8D4E3"
             },
             "line": {
              "color": "white"
             }
            },
            "type": "table"
           }
          ]
         },
         "layout": {
          "annotationdefaults": {
           "arrowcolor": "#2a3f5f",
           "arrowhead": 0,
           "arrowwidth": 1
          },
          "coloraxis": {
           "colorbar": {
            "outlinewidth": 0,
            "ticks": ""
           }
          },
          "colorscale": {
           "diverging": [
            [
             0,
             "#8e0152"
            ],
            [
             0.1,
             "#c51b7d"
            ],
            [
             0.2,
             "#de77ae"
            ],
            [
             0.3,
             "#f1b6da"
            ],
            [
             0.4,
             "#fde0ef"
            ],
            [
             0.5,
             "#f7f7f7"
            ],
            [
             0.6,
             "#e6f5d0"
            ],
            [
             0.7,
             "#b8e186"
            ],
            [
             0.8,
             "#7fbc41"
            ],
            [
             0.9,
             "#4d9221"
            ],
            [
             1,
             "#276419"
            ]
           ],
           "sequential": [
            [
             0,
             "#0d0887"
            ],
            [
             0.1111111111111111,
             "#46039f"
            ],
            [
             0.2222222222222222,
             "#7201a8"
            ],
            [
             0.3333333333333333,
             "#9c179e"
            ],
            [
             0.4444444444444444,
             "#bd3786"
            ],
            [
             0.5555555555555556,
             "#d8576b"
            ],
            [
             0.6666666666666666,
             "#ed7953"
            ],
            [
             0.7777777777777778,
             "#fb9f3a"
            ],
            [
             0.8888888888888888,
             "#fdca26"
            ],
            [
             1,
             "#f0f921"
            ]
           ],
           "sequentialminus": [
            [
             0,
             "#0d0887"
            ],
            [
             0.1111111111111111,
             "#46039f"
            ],
            [
             0.2222222222222222,
             "#7201a8"
            ],
            [
             0.3333333333333333,
             "#9c179e"
            ],
            [
             0.4444444444444444,
             "#bd3786"
            ],
            [
             0.5555555555555556,
             "#d8576b"
            ],
            [
             0.6666666666666666,
             "#ed7953"
            ],
            [
             0.7777777777777778,
             "#fb9f3a"
            ],
            [
             0.8888888888888888,
             "#fdca26"
            ],
            [
             1,
             "#f0f921"
            ]
           ]
          },
          "colorway": [
           "#636efa",
           "#EF553B",
           "#00cc96",
           "#ab63fa",
           "#FFA15A",
           "#19d3f3",
           "#FF6692",
           "#B6E880",
           "#FF97FF",
           "#FECB52"
          ],
          "font": {
           "color": "#2a3f5f"
          },
          "geo": {
           "bgcolor": "white",
           "lakecolor": "white",
           "landcolor": "#E5ECF6",
           "showlakes": true,
           "showland": true,
           "subunitcolor": "white"
          },
          "hoverlabel": {
           "align": "left"
          },
          "hovermode": "closest",
          "mapbox": {
           "style": "light"
          },
          "paper_bgcolor": "white",
          "plot_bgcolor": "#E5ECF6",
          "polar": {
           "angularaxis": {
            "gridcolor": "white",
            "linecolor": "white",
            "ticks": ""
           },
           "bgcolor": "#E5ECF6",
           "radialaxis": {
            "gridcolor": "white",
            "linecolor": "white",
            "ticks": ""
           }
          },
          "scene": {
           "xaxis": {
            "backgroundcolor": "#E5ECF6",
            "gridcolor": "white",
            "gridwidth": 2,
            "linecolor": "white",
            "showbackground": true,
            "ticks": "",
            "zerolinecolor": "white"
           },
           "yaxis": {
            "backgroundcolor": "#E5ECF6",
            "gridcolor": "white",
            "gridwidth": 2,
            "linecolor": "white",
            "showbackground": true,
            "ticks": "",
            "zerolinecolor": "white"
           },
           "zaxis": {
            "backgroundcolor": "#E5ECF6",
            "gridcolor": "white",
            "gridwidth": 2,
            "linecolor": "white",
            "showbackground": true,
            "ticks": "",
            "zerolinecolor": "white"
           }
          },
          "shapedefaults": {
           "line": {
            "color": "#2a3f5f"
           }
          },
          "ternary": {
           "aaxis": {
            "gridcolor": "white",
            "linecolor": "white",
            "ticks": ""
           },
           "baxis": {
            "gridcolor": "white",
            "linecolor": "white",
            "ticks": ""
           },
           "bgcolor": "#E5ECF6",
           "caxis": {
            "gridcolor": "white",
            "linecolor": "white",
            "ticks": ""
           }
          },
          "title": {
           "x": 0.05
          },
          "xaxis": {
           "automargin": true,
           "gridcolor": "white",
           "linecolor": "white",
           "ticks": "",
           "title": {
            "standoff": 15
           },
           "zerolinecolor": "white",
           "zerolinewidth": 2
          },
          "yaxis": {
           "automargin": true,
           "gridcolor": "white",
           "linecolor": "white",
           "ticks": "",
           "title": {
            "standoff": 15
           },
           "zerolinecolor": "white",
           "zerolinewidth": 2
          }
         }
        },
        "title": {
         "text": "3d TSNE Plot for Outliers"
        },
        "width": 900
       }
      },
      "text/html": [
       "<div>\n",
       "        \n",
       "        \n",
       "            <div id=\"ee76c327-c9c1-4ab8-9f53-f838b0194fdb\" class=\"plotly-graph-div\" style=\"height:800px; width:900px;\"></div>\n",
       "            <script type=\"text/javascript\">\n",
       "                require([\"plotly\"], function(Plotly) {\n",
       "                    window.PLOTLYENV=window.PLOTLYENV || {};\n",
       "                    \n",
       "                if (document.getElementById(\"ee76c327-c9c1-4ab8-9f53-f838b0194fdb\")) {\n",
       "                    Plotly.newPlot(\n",
       "                        'ee76c327-c9c1-4ab8-9f53-f838b0194fdb',\n",
       "                        [{\"customdata\": [[0.263995357], [0.546092303], [0.33671410399999996], [0.092107835], [0.325261175], [0.212464853], [0.258565714], [0.869236755], [0.197077957], [0.292984504], [0.82178316], [0.796622959], [0.045577010999999994], [0.613660351], [0.9507445659999999], [0.33634633700000005], [0.034440667], [0.741544275], [0.18443265], [0.664514943], [0.16282485800000002], [0.729838445], [0.62837389], [0.057883660999999996], [0.445534827], [0.80183695], [0.27709612], [0.228634015], [0.834860657], [0.6697665110000001], [0.532527349], [0.17045907100000002], [0.5102884679999999], [0.977561989], [0.249775993], [0.9755006820000001], [0.613701727], [0.16742036300000002], [0.537472516], [0.379899131], [0.633897303], [0.633960424], [0.5499746529999999], [0.178172988], [0.85563814], [0.321796672], [0.8174905370000001], [0.254879417], [0.344140513], [0.8061457259999999], [0.27708167100000003], [0.544328519], [0.07708393], [0.273081458], [0.390877336], [0.349621385], [0.214549744], [0.206075222], [0.86461997], [0.9817088540000001], [0.33482964600000004], [0.648387061], [0.093643561], [0.837802698], [0.7603439670000001], [0.29140417399999996], [0.3413454], [0.7611124840000001], [0.541899775], [0.684176639], [0.983535597], [0.52081245], [0.328227724], [0.09715793800000001], [0.876088593], [0.870214512], [0.656086992], [0.306791514], [0.48126734], [0.259559174], [0.326123655], [0.930568042], [0.6583894], [0.689992335], [0.315781109], [0.5669050929999999], [0.637526619], [0.687540723], [0.324300602], [0.592704906], [0.7402531259999999], [0.5940328770000001], [0.596452977], [0.27768081699999997], [0.258329663], [0.142460864], [0.435533461], [0.7024990440000001], [0.58897535], [0.653304374], [0.336968524], [0.631244736], [0.73530076], [0.050390366], [0.064264924], [0.665359476], [0.917835245], [0.44651012], [0.661938199], [0.43935985299999997], [0.6875724040000001], [0.363462248], [0.6542621820000001], [0.578553536], [0.065927945], [0.550148559], [0.13918281400000002], [0.080004635], [0.278228358], [0.560124266], [0.53639864], [0.42653190399999996], [0.789109796], [0.742900474], [0.901692589], [0.650337401], [0.114057311], [0.260812592], [0.43991232], [0.964409284], [0.184401415], [0.345145446], [0.17589458100000002], [0.312514453], [0.674131879], [0.32825045], [0.598231057], [0.09259881699999999], [0.497916521], [0.419776521], [0.31217670000000003], [0.937857107], [0.049030963], [0.47610452600000003], [0.447397526], [0.295806058], [0.737363977], [0.625896253], [0.408813429], [0.437511156], [0.691351375], [0.935555275], [0.437846654], [0.072217715], [0.67636067], [0.468883999], [0.543820644], [0.6555226470000001], [0.6935289240000001], [0.10887831199999999], [0.285463743], [0.0], [0.706495497], [0.273530633], [0.292320271], [0.673984307], [0.12612182800000002], [0.9467074590000001], [0.9363388979999999], [0.8537553640000001], [0.7060713609999999], [0.693682186], [0.508527882], [0.34717038899999997], [0.704154263], [0.658730088], [0.155841557], [0.311085435], [0.281135347], [0.094587802], [0.6832609540000001], [0.9077292509999999], [0.29151267399999997], [0.752734459], [0.93482964], [0.071413953], [0.5948963270000001], [0.404672015], [0.13837621], [0.7473384679999999], [0.530882486], [0.282649594], [0.699335734], [0.056111250999999994], [0.855234998], [0.07789512700000001], [0.891649583], [0.38674227899999997], [0.27113158], [0.958888961], [0.085120869], [0.5269022489999999], [0.066577785], [0.841506738], [0.255342095], [0.060545771], [0.073385869], [0.187493723], [0.858365688], [0.090640352], [0.7097252270000001], [0.631300647], [0.24750447399999997], [0.822843584], [0.373476759], [0.625538582], [0.292951715], [0.299730324], [0.25121407], [0.344480551], [0.293064767], [0.7628032240000001], [0.7384708040000001], [0.674883265], [0.719151612], [0.13098021599999998], [0.511328036], [0.04492903], [0.560914449], [0.7440406409999999], [0.266961634], [0.644231853], [0.038113352], [0.05715529900000001], [0.34139246100000004], [0.7204636320000001], [0.402878236], [0.635148967], [0.320729467], [0.09120969400000001], [0.23414609], [0.8902211309999999], [0.602170884], [0.633652055], [0.806240837], [0.739731184], [0.465231269], [0.7321109], [0.373874305], [0.501587947], [0.11538315800000001], [0.7319466040000001], [0.41829872799999995], [0.062259590999999996], [0.391496379], [0.35984929], [0.24523562699999998], [0.610028339], [0.43540360200000006], [0.434309675], [0.523763344], [0.17118786600000002], [0.18773430300000002], [0.945014638], [0.027851097000000002], [0.68445706], [0.178014532], [0.643427879], [0.59588355], [0.372361682], [0.586103584], [0.271658852], [0.59951107], [0.468363088], [0.314515565], [0.21893726], [0.254716562], [0.25612815], [0.602259755], [0.134381075], [0.513887424], [0.624241636], [0.160251854], [0.580708108], [0.270540486], [0.832919932], [0.93032134], [0.719157884], [0.886720033], [0.098792281], [0.787174286], [0.365592376], [0.719576193], [0.8058956], [0.7555783340000001], [0.526005909], [0.68880424], [0.22111531199999998], [0.739369477], [0.408440236], [0.348926542], [0.433713763], [0.5964966070000001], [0.6942953000000001], [0.7090309659999999], [0.867652984], [0.89332545], [0.746020922], [0.538284443], [0.8922193140000001], [0.935175765], [0.260527707], [0.956780449], [0.204932484], [0.687733351], [0.329063619], [0.632149831], [0.463744506], [0.698859621], [0.385446564], [0.47997537700000004], [0.732279108], [0.3813543], [0.459326013], [0.257401434], [0.665014804], [0.103399542], [0.425284413], [0.943529051], [0.594750236], [0.543776817], [0.18203988], [0.23584208399999998], [0.585984497], [0.762013168], [0.6849829070000001], [0.676936933], [0.290184964], [0.48106822200000005], [0.492766033], [0.22185623399999999], [0.053875998], [0.082751144], [0.385366225], [0.702513961], [0.91553156], [0.082087436], [0.251280378], [0.41672181700000005], [0.277032672], [0.579539754], [0.569363476], [0.133399703], [0.265045463], [0.936571901], [0.252618554], [0.054033081], [0.802481439], [0.528197693], [0.9515026], [0.572121173], [0.752938227], [0.143857535], [0.513484576], [0.313322389], [0.6877973959999999], [0.37705984], [0.348226142], [0.67763282], [0.24138752100000002], [0.8506501790000001], [0.22034810300000002], [0.476445464], [0.690324025], [0.364695946], [0.6492491970000001], [0.9437019209999999], [0.529645971], [0.299097002], [0.96696247], [0.272005242], [0.314161447], [0.752020991], [0.221882453], [0.7203326729999999], [0.379204782], [0.60168653], [0.582932673], [0.950809853], [0.58830141], [0.880887227], [0.467857701], [0.8799021709999999], [0.619844009], [0.359002573], [0.291511278], [0.694157143], [0.727960353], [0.617703921], [0.39581257], [0.58317282], [0.710332374], [0.253753693], [0.049412227999999996], [0.728378695], [0.432432881], [0.58612345], [0.052342373], [0.053483902], [0.518729378], [0.933040208], [0.7035542840000001], [0.268989899], [0.733006927], [0.44435246700000003], [0.5833946210000001], [0.871172692], [0.42876707799999997], [0.30046084100000003], [0.9533294590000001], [0.606443965], [0.90986815], [0.714896449], [0.49734950899999997], [0.8530974859999999], [0.721804145], [0.303467328], [0.664485096], [0.27978062], [0.569481665], [0.628628926], [0.088368123], [0.733567326], [0.537436778], [0.638593691], [0.954726948], [0.632202332], [0.642134651], [0.744653087], [0.115714007], [0.48625007299999995], [0.440356144], [0.08272289], [0.511591027], [0.394627555], [0.224394], [0.626927584], [0.290254057], [0.779008053], [0.86610579], [0.873326081], [0.49548916], [0.594297695], [0.9182015840000001], [0.5770427539999999], [0.019467671000000002], [0.6702982820000001], [0.546595316], [0.591665146], [0.42155819], [0.6856085590000001], [0.340303024], [0.675626741], [0.319067345], [0.38849966399999997], [0.706949589], [0.559409515], [0.687663508], [0.7088045540000001], [0.6818880940000001], [0.42253510899999996], [0.320004605], [0.6582813679999999], [0.634154867], [0.7773320090000001], [0.812677205], [0.074280797], [0.39600217], [0.054933913], [0.825058925], [0.382642009], [0.8687298179999999], [0.588043346], [0.891551577], [0.10920046], [0.647682781], [0.724342512], [0.07016304400000001], [0.280882054], [0.039113261], [0.579641592], [0.639000922], [0.281745925], [0.647857744], [0.6479057970000001], [0.875226264], [0.567603305], [0.262940591], [0.268026042], [0.40519133], [0.479965451], [0.33552403], [0.777165379], [0.42548796299999997], [0.237986115], [0.142522971], [0.724176488], [0.234698933], [0.07818228099999999], [0.855990155], [0.270251765], [0.435517841], [0.762697513], [0.46448725799999996], [0.396112685], [0.37638092100000003], [0.29459467699999997], [0.6944921209999999], [0.622767949], [0.8475597220000001], [0.301463054], [0.912937812], [0.500017182], [0.902587935], [0.304517943], [0.299165673], [0.092014087], [0.488548917], [0.664664437], [0.26534954899999996], [0.723657021], [0.149262385], [0.04577339], [0.69661064], [0.42181486], [0.733845785], [0.418795386], [0.677443529], [0.26128360300000003], [0.268527767], [0.5443222360000001], [0.431632036], [0.981018141], [0.21498072399999998], [0.39472999299999995], [0.122224944], [0.297496875], [0.37490443100000004], [0.68698771], [0.388549207], [0.039296071], [0.73553424], [0.37929489299999997], [0.7321233859999999], [0.33922143899999996], [0.659450594], [0.054838642], [0.640112102], [0.30714170399999996], [0.39661190700000004], [0.420439161], [0.24171497399999997], [0.065893153], [0.9105219370000001], [0.697163103], [0.072559853], [0.81825094], [0.311888815], [0.961644609], [0.816325524], [0.14647302], [0.548753945], [0.946158087], [0.293992717], [0.331479643], [0.9062200309999999], [0.525540416], [0.83301411], [0.514849806], [0.574609024], [0.46871185299999996], [0.71002775], [0.645973276], [0.229794416], [0.551783393], [0.055822990999999995], [0.331750941], [0.715520198], [0.583924357], [0.30695769100000003], [0.7914782370000001], [0.16423663900000002], [0.065711219], [0.948993132], [0.080423835], [0.052495426], [0.566346135], [0.3630266], [0.605442195], [0.6308505839999999], [0.065791238], [0.28681707100000003], [0.685462839], [0.260853706], [0.659122429], [0.44317392200000005], [0.602063986], [0.060366910999999995], [0.781903153], [0.5145798070000001], [0.48388621299999995], [0.600213807], [0.49736405200000006], [0.411145245], [0.116999171], [0.34189014100000004], [0.746950848], [0.39629274600000003], [0.6221438429999999], [0.335271141], [0.140257137], [0.081620681], [0.069837569], [0.46894000799999996], [0.9908574170000001], [0.896616832], [0.255310561], [0.22464526699999998], [0.01991825], [0.296480415], [0.155458996], [0.577916714], [0.9563030309999999], [0.813464394], [0.529675785], [0.287671353], [0.48039136], [0.28104482199999997], [0.633196521], [0.09332537699999999], [0.28447398100000004], [0.052223775], [0.051129385], [0.967405608], [0.040045727999999996], [0.9085829209999999], [0.6621174160000001], [0.42470320899999997], [0.72207806], [0.666193327], [0.509681253], [0.7513536209999999], [0.279073124], [0.074927], [0.916359535], [0.31040327], [0.716604052], [0.485587085], [0.30607518100000003], [0.477558204], [0.7119239409999999], [0.066348638], [0.27453935100000004], [0.31082252], [0.47607312700000004], [0.186795565], [0.26654207], [0.070231142], [0.26951927], [0.800004713], [0.27363366699999997], [0.14647919199999998], [0.378318951], [0.373849065], [0.242170835], [0.249796488], [0.066591188], [0.372956798], [0.501812291], [0.313097752], [0.8802021959999999], [0.51981893], [0.364138746], [0.49268289600000004], [0.285732652], [0.890114985], [0.316419561], [0.26866354], [0.771975959], [0.968888992], [0.080334377], [0.7368282209999999], [0.30055807100000004], [0.9179503929999999], [0.465815039], [0.054036682], [0.963150123], [0.08965350300000001], [0.7076932340000001], [0.636416037], [0.539521117], [0.114757161], [0.357312419], [0.67639834], [0.43482839], [0.032326387000000005], [0.711365605], [0.187486519], [0.052789653], [0.5058636129999999], [0.927431873], [0.6809842559999999], [0.882822186], [0.495705441], [0.596240398], [0.320610701], [0.3413685], [0.159681797], [0.318133669], [0.8393010479999999], [0.06435925099999999], [0.470216633], [0.7762522909999999], [0.635843383], [0.62510543], [0.52959065], [0.986900166], [0.078585688], [0.233284267], [0.363330957], [0.7167169809999999], [0.37588979200000006], [0.223316889], [0.299343986], [0.538595767], [0.730297124], [0.66033077], [0.435296009], [0.326494313], [0.854402708], [0.5734938470000001], [0.757786135], [0.704743233], [0.281575597], [0.671968208], [0.313726015], [0.364338275], [0.368216396], [0.38629520700000003], [0.655971865], [0.5660252729999999], [0.424999093], [0.090110371], [0.772350538], [0.331047258], [0.273716188], [0.23877568], [0.37307977200000003], [0.331185868], [0.256134531], [0.678373225], [0.43463833799999996], [0.654668307], [0.986681065], [0.371520495], [0.408359618], [0.40932365], [0.283412082], [0.395246531], [0.010984428000000001], [0.306013869], [0.266194806], [0.299318521], [0.318293946], [0.74282591], [0.09766432900000001], [0.079666942], [0.613258767], [0.99443072], [0.568835082], [0.7080345159999999], [0.37059271899999996], [0.669867361], [0.651295625], [0.462531569], [0.7196256190000001], [0.45377248], [0.394863946], [0.323974831], [0.146454724], [0.7790670409999999], [0.401828915], [0.601479585], [0.856423023], [0.565242962], [0.301225108], [0.282108144], [0.594378011], [0.705312368], [0.5408696279999999], [0.319249574], [0.36176613799999996], [0.625000704], [0.316287401], [0.047239021], [0.801182233], [0.508474436], [0.8178934109999999], [0.399235601], [0.9740519990000001], [0.72241535], [0.039564764], [0.908684108], [0.47301013399999997], [0.7180496279999999], [0.7634790690000001], [0.6475965370000001], [0.8949973859999999], [0.22282590100000002], [0.359012234], [0.944910252], [0.297877816], [0.172517997], [0.556586265], [0.876481735], [0.48667784299999994], [0.459496733], [0.47412637700000004], [0.70101144], [0.337597387], [0.537578886], [0.966992448], [0.056849545], [0.233249065], [0.380054711], [0.602929443], [0.303847999], [0.170194553], [0.972168554], [0.332168927], [0.6887286890000001], [0.110773401], [0.273352065], [0.572939678], [0.491457065], [0.281389999], [0.821697261], [0.6749776829999999], [0.585134549], [0.7105961159999999], [0.040488789], [0.568054311], [0.321752928], [0.611850232], [0.926096887], [0.618347428], [0.667629785], [0.39773346600000004], [0.290875487], [0.594375103], [0.508255233], [0.338571357], [0.43230234700000003], [0.302221978], [0.87619819], [0.080204492], [0.092333532], [0.09365644699999999], [0.6084523510000001], [0.732654598], [0.944158855], [0.26742308], [0.731124201], [0.661308553], [0.38776626200000003], [0.962585273], [0.322067067], [0.6340810929999999], [0.475345002], [0.35355897299999994], [0.8859363159999999], [0.876798106], [0.221581064], [0.394362449], [0.8050356759999999], [0.452898486], [0.592520516], [0.761026394], [0.245049023], [0.37213936299999995], [0.681054822], [0.7471431479999999], [0.9207395290000001], [0.097207945], [0.699302998], [0.721647006], [0.5353561139999999], [0.738293805], [0.7064675509999999], [0.67395061], [0.7112122909999999], [0.302558708], [0.080097855], [0.707010837], [0.512248622], [0.659627472], [0.657559694], [0.100645606], [0.92665363], [0.892879338], [0.839157508], [0.890959718], [0.556754471], [0.960361937], [0.631037864], [0.029838065], [0.278843351], [0.926157705], [0.551504258], [0.485942349], [0.43723469600000003], [0.25231801800000003], [0.515466972], [0.43725229600000004], [0.493724207], [0.83324725], [0.317521477], [0.28623456199999997], [0.726833965], [0.495667033], [0.028645255], [0.31967191699999997], [0.674344598], [0.7660371890000001], [0.65456992], [0.7565143809999999], [0.528253719], [0.38971949100000003], [0.355087459], [0.87015202], [0.7390833059999999], [0.305761846], [0.411587673], [0.063633094], [0.735409395], [0.605916669], [0.539395562], [0.566183532], [0.674795186], [0.070993366], [0.12526410000000002], [0.279601492], [0.952174402], [0.233806762], [0.43724742899999997], [0.925423095], [0.433498634], [0.52517902], [0.088435529], [0.447677638], [0.647000631], [0.9036033370000001], [0.265790738], [0.66419695], [0.498120658], [0.49018894399999996], [0.747084187], [0.906783648], [0.678770917], [0.348599859], [0.294839683], [0.705691827], [0.211917931], [0.063201124], [0.276699543], [0.672459395], [0.8082059490000001], [0.296538373], [0.16012686199999998], [0.439385032], [0.555951416], [0.386240112], [0.158689619], [0.214499855], [0.299579429], [0.569161656], [0.488614799], [0.8782950209999999], [0.649380949], [0.465713341], [0.16813774], [0.87529545], [0.8411323409999999], [0.33292081], [0.5130478589999999], [0.30505507800000004], [0.8126269909999999], [0.25096706], [0.5024355779999999], [0.45799074100000003]], \"hovertemplate\": \"0=%{x}<br>1=%{y}<br>2=%{z}<br>Feature=%{customdata[0]}<br>Label=%{marker.color}<extra></extra>\", \"legendgroup\": \"\", \"marker\": {\"color\": [0, 0, 0, 1, 0, 0, 0, 1, 0, 0, 0, 1, 0, 0, 0, 0, 0, 0, 0, 0, 1, 0, 0, 1, 0, 0, 0, 0, 1, 0, 0, 0, 0, 0, 0, 0, 0, 0, 0, 0, 0, 0, 0, 1, 0, 0, 0, 0, 0, 0, 0, 1, 0, 1, 0, 0, 0, 0, 0, 1, 0, 0, 0, 1, 0, 0, 1, 0, 0, 0, 0, 0, 0, 0, 0, 0, 0, 0, 0, 0, 0, 0, 0, 0, 0, 0, 0, 0, 0, 0, 0, 0, 0, 0, 0, 0, 0, 0, 0, 0, 0, 0, 0, 0, 0, 0, 0, 0, 0, 0, 0, 0, 0, 0, 0, 0, 0, 1, 0, 0, 0, 0, 1, 0, 0, 0, 0, 0, 0, 1, 1, 0, 0, 0, 0, 0, 0, 0, 0, 0, 0, 0, 0, 0, 0, 0, 0, 0, 0, 0, 0, 0, 0, 0, 0, 0, 0, 0, 0, 0, 0, 0, 0, 0, 0, 0, 0, 0, 0, 0, 0, 0, 0, 0, 0, 0, 0, 0, 0, 0, 0, 0, 0, 0, 1, 0, 0, 0, 0, 0, 0, 0, 0, 0, 0, 0, 0, 0, 1, 0, 0, 0, 0, 0, 0, 0, 0, 0, 0, 0, 0, 0, 0, 0, 0, 0, 0, 0, 0, 0, 0, 0, 0, 0, 0, 0, 0, 0, 0, 1, 0, 0, 0, 0, 0, 0, 0, 0, 0, 1, 0, 0, 0, 0, 0, 0, 0, 0, 0, 0, 0, 0, 0, 0, 0, 0, 0, 0, 0, 0, 0, 0, 0, 0, 0, 0, 0, 0, 0, 0, 0, 0, 0, 0, 0, 0, 0, 0, 0, 0, 0, 0, 0, 0, 0, 0, 0, 0, 0, 0, 0, 0, 0, 0, 0, 0, 0, 0, 0, 0, 0, 0, 0, 0, 0, 0, 0, 0, 0, 0, 0, 0, 0, 0, 0, 0, 0, 0, 0, 0, 0, 0, 0, 0, 0, 0, 0, 0, 0, 0, 0, 0, 0, 0, 0, 0, 0, 0, 0, 0, 0, 0, 1, 0, 0, 0, 0, 0, 0, 0, 0, 0, 0, 0, 0, 0, 0, 0, 0, 0, 0, 0, 0, 0, 0, 0, 0, 0, 0, 0, 0, 0, 0, 0, 0, 0, 0, 0, 0, 0, 0, 0, 0, 0, 0, 0, 0, 0, 0, 0, 0, 0, 1, 0, 0, 0, 0, 0, 0, 0, 0, 0, 0, 0, 0, 0, 0, 0, 1, 0, 0, 0, 0, 0, 0, 0, 0, 0, 0, 0, 0, 0, 0, 0, 0, 0, 0, 0, 0, 0, 0, 0, 0, 0, 0, 0, 0, 0, 0, 0, 0, 0, 0, 0, 0, 0, 0, 0, 0, 0, 0, 0, 0, 0, 0, 0, 0, 0, 0, 0, 0, 0, 0, 0, 0, 0, 0, 0, 0, 0, 0, 0, 0, 0, 0, 0, 0, 0, 0, 0, 0, 0, 0, 0, 0, 0, 0, 0, 1, 0, 0, 0, 0, 0, 0, 0, 0, 0, 0, 0, 0, 0, 0, 0, 0, 0, 0, 0, 0, 0, 0, 0, 0, 0, 0, 0, 0, 0, 0, 0, 0, 0, 0, 1, 0, 0, 0, 0, 0, 0, 0, 0, 0, 0, 0, 0, 0, 0, 0, 0, 0, 0, 0, 0, 0, 0, 0, 0, 0, 0, 0, 0, 0, 0, 0, 0, 0, 0, 0, 0, 0, 0, 0, 0, 0, 0, 0, 0, 0, 0, 0, 0, 0, 0, 0, 0, 0, 1, 0, 0, 0, 0, 0, 0, 0, 0, 0, 0, 0, 0, 0, 0, 0, 0, 0, 0, 0, 0, 0, 0, 0, 0, 1, 0, 0, 0, 0, 0, 0, 0, 0, 0, 0, 0, 0, 0, 0, 0, 0, 0, 0, 0, 0, 0, 0, 0, 0, 0, 0, 0, 0, 0, 0, 0, 0, 0, 0, 0, 0, 0, 0, 0, 0, 0, 0, 0, 0, 1, 0, 0, 0, 0, 0, 0, 0, 0, 0, 0, 0, 0, 0, 0, 0, 0, 0, 0, 0, 0, 0, 0, 0, 0, 0, 0, 0, 0, 0, 1, 0, 0, 1, 0, 0, 0, 0, 0, 0, 0, 0, 0, 0, 0, 0, 0, 0, 0, 0, 0, 0, 0, 1, 0, 0, 1, 0, 0, 0, 0, 1, 0, 0, 0, 0, 1, 0, 0, 0, 1, 1, 0, 1, 0, 1, 0, 1, 0, 0, 0, 0, 0, 0, 0, 0, 0, 0, 0, 0, 0, 0, 0, 0, 0, 0, 1, 0, 0, 0, 0, 0, 0, 0, 0, 0, 0, 0, 0, 0, 0, 0, 0, 1, 0, 0, 0, 0, 0, 0, 0, 0, 1, 0, 0, 0, 0, 0, 0, 0, 0, 0, 0, 1, 0, 0, 0, 0, 0, 0, 0, 0, 0, 1, 0, 0, 0, 0, 0, 0, 0, 0, 1, 0, 0, 0, 0, 0, 0, 0, 0, 0, 0, 0, 0, 0, 0, 0, 0, 0, 0, 0, 0, 0, 0, 0, 0, 0, 0, 0, 0, 0, 0, 0, 0, 0, 0, 0, 0, 0, 1, 0, 0, 0, 0, 0, 0, 0, 0, 0, 0, 0, 0, 0, 0, 0, 0, 0, 0, 0, 0, 0, 0, 0, 0, 0, 0, 0, 0, 0, 0, 0, 0, 0, 0, 0, 0, 0, 0, 0, 0, 0, 0, 0, 0, 0, 0, 0, 0, 0, 0, 0, 0, 0, 0, 1, 0, 0, 0, 0, 0, 0, 0, 0, 0, 0, 0, 0, 0, 0, 0, 0, 0, 0, 0, 0, 0, 0, 0, 0, 0, 0, 0, 0, 0, 0, 0, 0, 0, 0, 0, 0, 0, 0, 0, 0, 0, 0, 0, 0, 0, 0, 0, 0, 0, 0, 1, 0, 0, 0, 0, 0, 0, 0, 0, 1, 0, 0, 0, 0, 0, 0, 0, 0, 0, 0, 0, 0, 0, 0, 0, 0, 0, 0, 0, 0, 0, 0, 0, 0, 0, 0, 0, 0, 0, 0, 0, 0, 0, 0, 0, 0, 0, 0, 0, 0, 0, 0, 0, 0, 0, 0, 1], \"coloraxis\": \"coloraxis\", \"opacity\": 0.7, \"symbol\": \"circle\"}, \"mode\": \"markers\", \"name\": \"\", \"scene\": \"scene\", \"showlegend\": false, \"type\": \"scatter3d\", \"x\": [-4.7276930809021, 8.297993659973145, 2.997619390487671, 2.170811414718628, 0.335801362991333, 3.239928722381592, -1.1416655778884888, 6.791898250579834, -0.04721967503428459, -3.921504259109497, 9.208633422851562, -4.217451572418213, 3.868251323699951, -1.6560184955596924, 0.1955469697713852, -1.5497984886169434, 3.917936086654663, 3.8259291648864746, 3.763293504714966, 0.486392080783844, 2.570662498474121, -6.784420490264893, -0.9747762084007263, 0.0847993940114975, 5.981391429901123, 2.500303030014038, -3.0884029865264893, -0.24732115864753723, -3.144925117492676, 4.567935943603516, 1.6134204864501953, 6.688023567199707, -3.195673942565918, 0.3593384921550751, -3.9313995838165283, -8.505867004394531, -0.3041549324989319, -0.5971123576164246, -5.463472366333008, 4.0374908447265625, -5.033024311065674, 2.6661081314086914, -2.440768003463745, 5.422645568847656, 2.8658719062805176, -1.8090035915374756, 2.287919044494629, 0.2570699453353882, -3.9289071559906006, -0.03953690081834793, 5.460007190704346, 4.298882484436035, -4.5004472732543945, -1.7123807668685913, 4.948618412017822, 3.16174578666687, 3.240126848220825, -6.5266571044921875, 0.9319614171981812, 4.7714948654174805, -4.56265926361084, 3.287458658218384, -0.6408883929252625, 2.9445407390594482, -2.835075616836548, 2.2587456703186035, -3.792390823364258, 3.438850164413452, -2.745098352432251, 8.904440879821777, 3.4528462886810303, 3.937290906906128, -2.790259838104248, 4.766931533813477, -10.68649673461914, -6.331001281738281, -1.5884461402893066, 1.576461672782898, -10.611377716064453, -6.8740763664245605, -6.760244846343994, -6.919748306274414, 1.837454915046692, 2.6116552352905273, 2.5327184200286865, 7.519260406494141, 0.25943055748939514, 2.784245729446411, -1.3197630643844604, -4.110296249389648, -8.422956466674805, 8.061613082885742, -1.8833954334259033, -1.309277057647705, 3.4056320190429688, 0.16388462483882904, -4.343684196472168, 5.412771224975586, 1.7005116939544678, -0.37047797441482544, -3.8931283950805664, -0.7394565939903259, 5.754347801208496, -5.827134609222412, 1.136656641960144, -6.461878299713135, -0.7378948330879211, 2.9197278022766113, -10.017019271850586, 2.652724027633667, -3.9610719680786133, -4.053502559661865, 9.655516624450684, -4.461800575256348, 0.9046878814697266, -5.558770179748535, 1.2234524488449097, -1.5447243452072144, 3.6290442943573, 1.1322067975997925, -5.811044216156006, -1.2496579885482788, 3.721017360687256, -2.3636281490325928, 4.866479396820068, 6.571344375610352, 3.466815233230591, 3.4981837272644043, 3.4437663555145264, 6.602480888366699, -2.570399045944214, -4.699024200439453, 4.519866466522217, 0.5015791654586792, -0.3526850640773773, -5.264852046966553, 0.10202118754386902, 2.4990508556365967, 5.8140668869018555, 0.5350112915039062, 5.229574203491211, -5.556766510009766, -5.874844074249268, 0.24173738062381744, -0.12856732308864594, -7.337795257568359, 8.012494087219238, -1.9040017127990723, 6.804769515991211, -0.4539929926395416, -3.379578113555908, -7.730493545532227, 2.118145704269409, -6.558920860290527, -5.722830772399902, -3.8493263721466064, -1.5641732215881348, -3.0792829990386963, -11.178763389587402, 5.8151655197143555, -0.1399410218000412, -5.924726963043213, -9.594816207885742, -9.564550399780273, 4.796707630157471, -1.3968347311019897, 4.338815689086914, 4.582814693450928, 3.597815990447998, 4.302796363830566, -1.6522846221923828, 6.0843825340271, 7.331062316894531, 0.7154202461242676, 4.217029094696045, 1.5105952024459839, 5.88285493850708, 1.5834192037582397, 7.050173759460449, 2.3402326107025146, 1.9282232522964478, 9.318564414978027, 6.291563987731934, 6.4509382247924805, 5.401175022125244, 0.09757745265960693, 4.733078956604004, -3.1388866901397705, -5.3633575439453125, -7.1332316398620605, -1.7057853937149048, -0.6220831274986267, 7.966123104095459, 0.8167067766189575, 3.6131749153137207, -0.4997493028640747, 1.6574554443359375, 2.5377984046936035, -3.2064356803894043, 5.167054176330566, -0.6601617932319641, 0.2268553376197815, 1.69706392288208, 1.4056421518325806, 2.1246089935302734, 6.256419658660889, -6.284326076507568, -0.9383377432823181, 9.415823936462402, 4.792968273162842, 4.126365661621094, 6.616185665130615, 1.859170913696289, -4.9034528732299805, -1.11795175075531, 0.24079188704490662, 4.978192329406738, 0.7922421097755432, 1.3727648258209229, 1.5269677639007568, 2.063185691833496, 3.861250638961792, 0.472676545381546, -10.078539848327637, 2.0740721225738525, -5.621668815612793, -3.4151477813720703, -4.640815734863281, -1.0127798318862915, 9.019933700561523, 0.35177358984947205, -1.9718265533447266, 3.366377592086792, 2.4893734455108643, -1.4177179336547852, 3.406222105026245, 2.851128101348877, -6.4745988845825195, 3.565535306930542, 1.3919143676757812, -0.9012381434440613, 4.063910961151123, 2.579920768737793, 3.176828384399414, 6.203062057495117, 1.4845376014709473, -6.068258285522461, -10.868474006652832, -3.9097516536712646, -0.6540910005569458, -6.717804908752441, 2.362274408340454, 3.870300769805908, -5.468118190765381, -7.049190521240234, 2.604959487915039, -5.814012050628662, 0.964970052242279, 9.174897193908691, 0.16123060882091522, 1.3618550300598145, -4.288470268249512, -0.48945310711860657, 2.655755043029785, -6.65183162689209, 3.4642908573150635, 2.7903342247009277, 2.9854891300201416, -9.97503662109375, 1.7703977823257446, 2.4160404205322266, 2.0189661979675293, -7.344846725463867, 1.7023277282714844, 5.250466346740723, -4.954344749450684, -0.18554484844207764, -0.6918725967407227, 2.9188485145568848, -5.326881408691406, -3.1947453022003174, 1.7587839365005493, -5.926794528961182, -4.266775131225586, 1.2703393697738647, 5.315774440765381, 0.6170966625213623, 4.150739669799805, 2.547973871231079, -3.544975996017456, -3.8414673805236816, 2.2751564979553223, -0.9065160751342773, 4.5851616859436035, 2.5591888427734375, 7.135719299316406, 7.466196060180664, -8.958723068237305, 0.8092765808105469, -5.441439151763916, 8.24952220916748, 0.3659742474555969, 3.1112775802612305, 5.634068012237549, 6.915710926055908, -10.27234935760498, 3.5979440212249756, -9.278579711914062, -4.431850433349609, 5.830662250518799, 5.752066612243652, -3.166194200515747, 9.030949592590332, 1.3959003686904907, -0.2836609184741974, -6.097393989562988, 3.9972593784332275, 2.2587411403656006, -10.768909454345703, 2.063633680343628, 7.671377182006836, -7.977683067321777, 3.4049441814422607, 5.4112091064453125, -5.107015609741211, -7.5290327072143555, 1.8616461753845215, 3.8334150314331055, 2.819685459136963, 6.783155918121338, 2.93166184425354, -0.7999118566513062, -4.558150768280029, -5.2244791984558105, 2.6943156719207764, -0.5722371339797974, 5.75408935546875, -5.234025478363037, 4.531110763549805, -1.1061168909072876, -6.1337971687316895, -6.703320503234863, 3.607781410217285, -6.73347282409668, 6.033365249633789, 1.8232301473617554, 0.1557663530111313, -3.1428260803222656, 3.886540174484253, -0.5703057050704956, 2.5865418910980225, -7.128885269165039, 0.18996597826480865, 2.448535919189453, 0.6368646621704102, -6.212850570678711, -3.5051374435424805, 4.698084831237793, 1.389890432357788, -7.56669282913208, 7.606141090393066, 4.2687273025512695, -0.4663931429386139, -3.2324042320251465, 3.825946807861328, -9.518815040588379, 2.774024248123169, 0.3877439796924591, 0.9100420475006104, 2.652940273284912, -0.8632703423500061, -0.9778791069984436, -1.63766348361969, 4.461574554443359, 3.3199617862701416, -2.1464366912841797, -9.460552215576172, 6.141120433807373, 2.236286163330078, -6.6722846031188965, 5.739659309387207, -0.7621883749961853, -9.546693801879883, -2.224888801574707, 6.792645454406738, -3.752288341522217, -1.0707120895385742, -0.6904401183128357, 5.307360649108887, -3.710491418838501, 0.5208696126937866, -4.758341312408447, -8.79932975769043, -7.00836181640625, -0.1483367532491684, 2.2809343338012695, -6.1467790603637695, 5.724637508392334, -6.34346866607666, -5.662130355834961, 1.5606999397277832, 2.052935838699341, -2.840945243835449, 6.779534339904785, 6.5961127281188965, 2.279845952987671, 3.4166386127471924, -1.8383287191390991, 6.354026794433594, 4.881641864776611, 5.09119176864624, -6.033377170562744, 1.9927631616592407, -9.873892784118652, 1.4645644426345825, -2.1109092235565186, 2.454777479171753, 4.449587821960449, 3.737199068069458, 1.876504898071289, -3.699789524078369, 1.2132551670074463, 3.6056785583496094, 8.010499000549316, 3.5275967121124268, 0.6671870350837708, 0.3079746663570404, 6.851434230804443, -3.8403499126434326, -1.247878074645996, -5.636309623718262, -0.7616629600524902, 2.5055947303771973, 5.024231910705566, 2.697524309158325, 2.3006412982940674, -1.0830950736999512, -0.7104379534721375, -9.997294425964355, 2.532423973083496, -6.546210765838623, -10.343406677246094, 1.5666753053665161, -1.3157283067703247, -1.5336129665374756, 6.619753837585449, 3.635444164276123, -5.316677570343018, 0.6667256951332092, 9.782530784606934, 1.3404006958007812, -0.06026363745331764, -2.5348732471466064, -10.245255470275879, 9.138559341430664, 3.4527366161346436, 4.372191905975342, 0.4620566964149475, -10.827147483825684, -11.73691463470459, 7.003593444824219, 2.269986629486084, -1.3638478517532349, -6.874416828155518, 1.473283052444458, -8.419820785522461, -9.942863464355469, 4.249293804168701, -1.0880992412567139, 2.7924997806549072, -5.814793586730957, -3.265805721282959, -0.5787670016288757, -6.580896854400635, -1.521931767463684, 2.968367338180542, 0.06778427958488464, 6.398395538330078, -3.482741355895996, 4.61931037902832, -3.6640431880950928, 2.309556007385254, 6.756959915161133, 0.511282742023468, 0.5877268314361572, -0.5527245402336121, 5.2077436447143555, -3.1736810207366943, -5.312656402587891, 0.31530022621154785, -9.586884498596191, 7.853740215301514, 7.664365768432617, 2.766606569290161, 2.6615092754364014, 7.889151096343994, 4.078763484954834, 6.892263889312744, -5.235596179962158, -3.2130093574523926, 5.63894510269165, 0.40477803349494934, -7.609654903411865, -0.9257907867431641, -3.757699728012085, 0.5394829511642456, -11.506407737731934, -3.036236524581909, -2.486785411834717, 9.3977632522583, -0.09598691761493683, -3.0590286254882812, 2.379518747329712, -0.9020518660545349, -9.54753303527832, -6.444780349731445, -7.328276634216309, -11.387537002563477, 2.7630934715270996, 3.2236454486846924, -2.4821019172668457, 2.2925310134887695, 7.251551628112793, 2.938014507293701, 0.711234986782074, 2.1945433616638184, -2.5150833129882812, 0.466391921043396, 4.386255264282227, -7.193986415863037, 5.529771327972412, 2.032517671585083, 5.4041008949279785, -0.7858575582504272, 8.128119468688965, 6.182821750640869, 5.680552959442139, 0.6363610625267029, -1.2478501796722412, 2.035754680633545, 1.9380384683609009, 7.274782657623291, 5.163650989532471, 6.814504146575928, -2.6225826740264893, 4.811471939086914, -7.519750595092773, 5.7050347328186035, 7.492700099945068, -6.64487361907959, -5.459122657775879, -5.1310906410217285, -1.8387798070907593, -11.118284225463867, -4.902106285095215, 2.2836577892303467, 5.860095977783203, -11.18373966217041, 2.6714651584625244, 2.872586965560913, -1.459755301475525, 1.6440097093582153, -4.884092330932617, 9.29727840423584, 0.5727626085281372, -7.4236860275268555, -0.7534782886505127, 0.5410903692245483, 9.023344993591309, 9.62220287322998, -4.382723331451416, 8.751325607299805, 6.071747779846191, -0.642097532749176, 7.655759811401367, 4.654026985168457, 4.327200889587402, 2.926347017288208, -4.735580921173096, -6.2151312828063965, -3.9408857822418213, -8.153700828552246, 4.3588738441467285, 3.6075844764709473, -4.399217128753662, -6.2203288078308105, -6.857325077056885, -1.4043941497802734, 2.135848045349121, 2.5698516368865967, 2.594291925430298, -4.90844202041626, 1.7909035682678223, 6.249395847320557, 1.7610828876495361, -5.862337589263916, 4.91783332824707, 2.067227363586426, 7.186439514160156, -1.0300532579421997, 3.5285282135009766, -0.8907040953636169, 9.71285343170166, -0.6468316912651062, 8.408184051513672, 5.804866313934326, 4.504602909088135, -0.7741572856903076, 0.9752345085144043, 7.389155387878418, 7.626607894897461, -4.451691627502441, -2.2148334980010986, -6.76472282409668, -5.4775495529174805, -4.730467796325684, 1.2207040786743164, -1.3484721183776855, 4.08998441696167, -7.144326210021973, -0.05906765162944794, -4.837754249572754, -6.942412853240967, 2.268610715866089, 3.2322580814361572, 4.994829177856445, 0.20048826932907104, 1.0146042108535767, -1.8270751237869263, -7.306243419647217, -4.793472766876221, 3.147603750228882, -11.866849899291992, 2.0291295051574707, -4.012318134307861, -1.4294284582138062, -4.874532222747803, 0.22552964091300964, 9.324441909790039, 1.8620326519012451, 2.2319540977478027, 4.6755146980285645, -0.11036501079797745, -6.0771164894104, -1.26258385181427, -10.574040412902832, 3.34598445892334, -4.8931403160095215, 6.015365123748779, -8.13826847076416, -3.373748540878296, -0.29131364822387695, -0.5031354427337646, 3.999709367752075, 1.2416040897369385, 5.603509426116943, 0.33562910556793213, -4.723040580749512, -1.353318452835083, 2.4540481567382812, 4.084292888641357, -4.134131908416748, 1.3392912149429321, -5.040610313415527, 6.674958229064941, 2.965244770050049, 2.297428846359253, 0.2706691324710846, 2.367342948913574, 0.477840781211853, 0.9443572163581848, -6.169645309448242, -7.395164966583252, 1.0468820333480835, 6.344212055206299, -5.1639509201049805, 6.367489337921143, 8.670703887939453, 5.7380051612854, 0.5664876699447632, 3.699519157409668, -2.397965908050537, -6.767195701599121, 7.321437358856201, -5.915726661682129, 0.39975571632385254, -8.2417631149292, -4.019618511199951, 8.60700798034668, 4.631010055541992, 5.779793739318848, 6.376742839813232, 1.9056003093719482, 4.7416181564331055, 8.527420043945312, 5.201286315917969, -7.5070648193359375, -5.4431233406066895, -11.82348346710205, 4.898024559020996, -0.10041704028844833, -4.7977190017700195, -1.654219388961792, -3.164902687072754, -5.620162487030029, 3.0930066108703613, 7.166207790374756, -2.9884719848632812, -0.8436267375946045, 5.795000076293945, 0.886710524559021, -2.9540109634399414, 4.719518661499023, 2.482959270477295, 0.4944121539592743, 7.6471099853515625, 3.0124728679656982, -1.583366870880127, 0.5199759006500244, -0.07786928862333298, 3.723947048187256, 3.0103063583374023, 5.344156265258789, 4.333627700805664, 5.8291192054748535, -3.183130979537964, 9.68680477142334, 4.863831520080566, 2.2510411739349365, 3.9267125129699707, 4.088120937347412, -2.2659268379211426, 0.7787016034126282, 1.9998010396957397, 3.7618155479431152, 9.368670463562012, -5.252725124359131, -8.961637496948242, -9.580918312072754, 7.501943111419678, 0.48109644651412964, -5.635763168334961, -5.2993855476379395, 8.796188354492188, -6.426266670227051, -8.910382270812988, -5.1461358070373535, 8.6334810256958, 0.7133438587188721, 3.6665475368499756, 7.732711315155029, -1.5911412239074707, 3.390469551086426, 3.5080952644348145, -3.9655768871307373, 1.3984465599060059, -6.683995723724365, -4.157352447509766, -0.9119812250137329, -3.006633758544922, 5.82875919342041, -7.528996467590332, -2.4963536262512207, 2.065429449081421, -5.62962532043457, 0.6243482828140259, 2.2406702041625977, -1.3828729391098022, 2.1381311416625977, -1.4864226579666138, -6.62281608581543, -3.133772134780884, 0.5470779538154602, 0.639569103717804, -7.606186389923096, -4.8256049156188965, -1.6997499465942383, 0.8291313052177429, -11.86316967010498, -6.6987762451171875, -6.8346686363220215, 1.2092050313949585, 6.4036383628845215, -3.676551580429077, -10.606463432312012, 4.611653804779053, -3.8010144233703613, 6.483364582061768, -8.42133903503418, -4.621760845184326, 7.052863121032715, -6.2076897621154785, 8.731388092041016, -10.72455883026123, 2.8952388763427734, 7.306424617767334, -4.77700662612915, 0.7162964940071106, -7.661036968231201, -2.4224634170532227, -1.7318114042282104, -0.9594289660453796, 3.6881351470947266, 7.969527721405029, 1.0791836977005005, -0.5292431712150574, -6.413679122924805, 6.473207473754883, 5.676786422729492, -0.1941594034433365, -0.2850249111652374, 8.605192184448242, -10.860493659973145, -4.116034030914307, 6.865540027618408, 0.8284872770309448, 5.065873146057129, 5.371272563934326, 5.83482551574707, 5.013388633728027, 9.380729675292969, 1.457249402999878, -9.56064224243164, 6.679708957672119, 2.1655313968658447, -2.77224063873291, 5.884700775146484, -7.645579814910889, -8.6776704788208, 1.446727991104126, 2.111664295196533, -7.6000823974609375, -0.5123907327651978, 7.6853532791137695, 0.0685434564948082, 7.950307846069336, -2.08577036857605, -0.9906935095787048, 9.862034797668457, -5.417315483093262, -6.863409042358398, -5.687148571014404, 4.415262699127197, 2.6532840728759766, 1.6293317079544067, 7.1754631996154785, 4.841755390167236, -7.247701168060303, -3.7900021076202393, 4.785625457763672, 5.780874729156494, -2.0514776706695557, -6.241164207458496, -6.289944171905518, 4.620224952697754, 2.4144458770751953, 1.1828433275222778, 6.000530242919922, -7.07961893081665, 8.80774211883545, -4.87320613861084, -6.381315231323242, 3.559467077255249, -4.580360412597656, 3.2338778972625732, 2.7684524059295654, -1.3285632133483887, -5.053212642669678, 8.063848495483398, -5.06585693359375, 9.729557037353516, -5.2729997634887695, 0.37060415744781494, -3.8142127990722656, 1.6419110298156738, -1.7639530897140503, -0.5572090744972229, -0.448832631111145, -3.2944817543029785, 2.864436626434326, -4.517889499664307, -11.1853609085083, -6.083734512329102, 2.873380422592163, 5.96019983291626, 9.140589714050293, -6.747605800628662, -0.12342805415391922, -5.299745082855225, 6.3284807205200195, 0.22139056026935577, 5.6880269050598145, 3.4248311519622803, -5.296087265014648, 6.568728446960449, -6.77618932723999, -5.513947010040283, 0.9851654171943665, 4.550995349884033, 3.7701988220214844, 4.164251804351807, -4.418467998504639, -5.014545917510986, 4.7961530685424805, -5.173842906951904, 1.6687283515930176, 7.173393249511719, 5.931880474090576, 3.554216146469116, -10.375833511352539, 3.1198666095733643, -1.1255531311035156, -2.004582405090332, -11.073286056518555, 7.845889568328857, 0.3264295160770416, -2.4861268997192383, 6.520970821380615, 6.632241249084473, 9.282022476196289, -2.8678324222564697, 4.398693561553955, 1.2956218719482422, -5.88469123840332, 2.400703191757202, -3.3419787883758545, 2.8014183044433594, -3.2791357040405273, 1.0716228485107422, 2.318596601486206, -0.8491796255111694, -4.346327304840088, 0.1756681352853775, 4.3347697257995605, 5.620156288146973, -1.0475081205368042, -4.050309181213379, 3.3497490882873535, 7.363339424133301, 9.39738655090332, 4.072089672088623, -2.859344720840454, -9.993451118469238, 6.630934238433838, -10.202917098999023, 6.611198902130127, -9.502260208129883, -8.427388191223145, 3.417185068130493, 2.6274843215942383, -3.2632360458374023, -1.2467832565307617, 5.596388339996338, 3.2041730880737305, -0.8769749999046326, 2.5063748359680176, 8.657336235046387, 4.262294292449951, 7.74832820892334, -0.8560389280319214, 1.8667738437652588, 0.9612089395523071, 1.8490809202194214, -10.886510848999023, -4.804896831512451, -2.961405038833618, 4.017123222351074, -10.733261108398438, 6.463090419769287, -4.635875701904297, 0.9641038179397583, -7.289907932281494, -6.264623165130615, 0.3309825658798218, -5.583376407623291, 2.2602896690368652, 3.9259560108184814, -0.09588923305273056, 0.7894818186759949, 6.978401184082031, 7.1783270835876465, -3.8482766151428223, -8.689223289489746, -0.5358255505561829, 0.32460930943489075, 1.9374148845672607, -0.8975859880447388, 8.170696258544922, 8.976414680480957, -0.9680653214454651, 5.246882915496826, -10.992719650268555, -10.811097145080566, 3.327594518661499, 6.418323040008545, -4.075497627258301, 0.6007462739944458, -7.9111528396606445, 5.713557720184326, -2.1589109897613525], \"y\": [1.9357670545578003, 1.8942784070968628, -2.8441641330718994, -11.663951873779297, -9.691938400268555, -8.544637680053711, 1.9924893379211426, -16.585744857788086, -0.26167726516723633, 11.942797660827637, -17.111984252929688, -7.875023365020752, -14.733970642089844, -3.2615389823913574, -6.991227626800537, -13.153152465820312, -14.735036849975586, 9.470621109008789, -1.417374849319458, -10.679041862487793, -7.952159404754639, 5.519215106964111, -4.247914791107178, -0.6245349645614624, -8.024608612060547, -2.759807825088501, -7.367474555969238, 6.7464680671691895, -7.852930068969727, -11.683072090148926, 6.541815757751465, -2.1942994594573975, -1.6736440658569336, -7.843803882598877, 1.986763596534729, 5.291795253753662, -10.115275382995605, 6.911470413208008, 3.8602256774902344, -9.917081832885742, 6.789083957672119, -9.351733207702637, 5.245419502258301, -5.458052635192871, -7.571238040924072, -13.62821102142334, -7.237166881561279, -0.2683211863040924, -7.7633056640625, 8.713974952697754, -18.062204360961914, 0.33338114619255066, 4.4565749168396, -13.427207946777344, -8.921491622924805, -4.550198554992676, -2.7031869888305664, -0.6082513928413391, -8.15467357635498, -7.103410720825195, -1.31354820728302, 8.227112770080566, -16.079654693603516, -9.566198348999023, 9.371099472045898, -6.537899017333984, 2.6470842361450195, 9.927120208740234, -8.15922737121582, -10.176234245300293, -15.15726089477539, -13.268514633178711, 4.151688575744629, -14.679210662841797, 11.968664169311523, 7.9222259521484375, -9.68905258178711, -12.597687721252441, 14.198362350463867, 13.57142448425293, 12.956735610961914, 9.142134666442871, -8.965054512023926, 7.016602516174316, 1.3292732238769531, 0.025741100311279297, 4.5886077880859375, 6.238091945648193, 0.699866771697998, 7.4041337966918945, 7.016463756561279, -15.664626121520996, 4.139008045196533, 3.023494005203247, -2.324496269226074, -15.661036491394043, 7.652571678161621, 0.856984555721283, 8.229785919189453, -9.85014820098877, 3.9692132472991943, 6.939054012298584, 1.383566975593567, 4.997700214385986, -16.409751892089844, 9.186057090759277, 6.781835556030273, -0.5132307410240173, 12.683874130249023, -11.777804374694824, 9.018824577331543, 5.203934669494629, -16.374448776245117, 8.690987586975098, -6.893818378448486, 11.309028625488281, 0.6628414392471313, 3.097402811050415, -12.724191665649414, 9.807145118713379, 12.007708549499512, 1.1842774152755737, -1.4571806192398071, 7.617769718170166, 6.579171657562256, 2.0923311710357666, -2.3170456886291504, -12.131281852722168, 1.5878429412841797, 2.8168389797210693, -1.2383636236190796, 6.892993927001953, -17.594202041625977, 0.19286152720451355, 6.801418304443359, 5.74835205078125, -6.426574230194092, -15.79566478729248, 0.8332814574241638, 3.1431710720062256, -15.355722427368164, 8.323092460632324, 4.122683525085449, -8.506529808044434, 10.353694915771484, 11.352237701416016, -13.92951488494873, 4.906871795654297, 0.899651825428009, 5.505600929260254, 8.681638717651367, 9.706181526184082, -1.0082144737243652, 3.9214704036712646, 5.021604537963867, 8.500575065612793, 9.511452674865723, 7.689889430999756, 8.538989067077637, -11.88223648071289, 0.05726329982280731, 0.05991469323635101, 9.749691009521484, 15.244285583496094, -11.15745735168457, 7.894886493682861, -15.46930980682373, -12.415276527404785, -6.200043678283691, 8.198893547058105, 6.871826648712158, 0.6565759778022766, -8.833904266357422, -5.069786548614502, 3.745145320892334, 6.86898946762085, -8.578102111816406, -4.503032207489014, -0.03728202357888222, -14.41278076171875, 2.079519033432007, -10.753005027770996, -2.8169820308685303, -14.595049858093262, -12.97143268585205, 1.567831039428711, -9.328078269958496, -0.6561219692230225, 11.298812866210938, 9.563871383666992, 5.639827251434326, -8.243529319763184, -16.598398208618164, -5.383269309997559, 4.3202056884765625, 0.3671516180038452, 1.6838719844818115, -1.9795678853988647, 3.1404433250427246, 5.665398120880127, -0.32160186767578125, 4.501620769500732, -2.3222157955169678, -9.414351463317871, -4.449094295501709, -2.5351743698120117, 15.626959800720215, -0.6391116976737976, -11.22616195678711, -1.0126649141311646, 4.434638977050781, -9.410934448242188, -12.004725456237793, 10.433235168457031, 0.9913911819458008, 2.1677112579345703, -0.20994919538497925, -13.284794807434082, -15.258816719055176, 2.2926974296569824, -4.177169322967529, 2.7813143730163574, -9.032951354980469, 13.604564666748047, 5.8545308113098145, 14.839755058288574, 6.994388580322266, 12.543231964111328, 6.794164657592773, -7.9847235679626465, 1.4170935153961182, 4.323307991027832, -14.59427547454834, -15.338171005249023, 8.847773551940918, 2.729473829269409, 4.249226093292236, 9.56733512878418, -12.135498046875, -3.0745909214019775, -0.5259074568748474, -0.5290164351463318, -4.181579113006592, 4.42431640625, -13.577006340026855, 6.484297275543213, 8.99252700805664, 12.062828063964844, 6.942405700683594, -4.992694854736328, 1.3709049224853516, 3.9767978191375732, -12.725302696228027, 0.1108359694480896, 9.860097885131836, 0.5053634643554688, 3.5468664169311523, 4.941099643707275, -7.399360656738281, 10.354390144348145, -4.2312140464782715, 0.5614656209945679, -6.588777542114258, 3.2967529296875, 2.851348638534546, 4.320882797241211, -16.53009605407715, 2.482577323913574, 12.419672012329102, -2.073624610900879, 0.4213692545890808, -1.0426537990570068, 5.766178607940674, -3.4455440044403076, -10.778975486755371, 2.2282676696777344, -14.232606887817383, -8.331571578979492, 0.9294619560241699, 11.02406120300293, 6.597596645355225, -3.7068943977355957, 11.164193153381348, 6.455116271972656, -6.765868663787842, 4.411281585693359, 9.405031204223633, 2.4846394062042236, 5.3478922843933105, 2.4911913871765137, 8.649582862854004, 0.24588243663311005, 6.7676310539245605, 4.971677780151367, 6.824495792388916, -15.723673820495605, -12.793581008911133, 14.453505516052246, 5.252903461456299, 4.1435112953186035, -0.2933749258518219, 4.098130226135254, -13.239363670349121, -14.056248664855957, -10.733948707580566, 9.889992713928223, 1.0098885297775269, 9.73108196258545, 6.263088226318359, -13.172752380371094, -12.342130661010742, 4.084444046020508, -10.126205444335938, -3.2484047412872314, 1.7765445709228516, 2.959529399871826, 7.945394515991211, 2.3329482078552246, 10.834312438964844, -1.8326648473739624, -0.08009026944637299, 7.982419967651367, -13.979681968688965, 0.14619889855384827, 14.316935539245605, 5.664037227630615, -15.770496368408203, -16.727956771850586, -7.11610746383667, -11.399744033813477, 2.5239224433898926, -13.328386306762695, 1.2546446323394775, 8.352660179138184, 6.624302387237549, -9.230525970458984, 2.0535664558410645, 5.5264434814453125, -9.646695137023926, -12.09618854522705, 4.895314693450928, 12.687525749206543, -12.89300537109375, 3.478139877319336, -16.098407745361328, -8.080629348754883, -0.5484236478805542, 6.0556817054748535, -12.45095443725586, -13.446280479431152, 4.698579788208008, 6.052534580230713, 10.3565673828125, -1.0528022050857544, 9.421051979064941, 12.91894817352295, 3.2339844703674316, 3.670640468597412, -15.847173690795898, 5.734284400939941, 2.069718837738037, 1.4369815587997437, 3.9095985889434814, 5.866033554077148, -13.726238250732422, 10.041954040527344, -13.554675102233887, 3.227372884750366, 5.264486312866211, -0.9322163462638855, 6.514650821685791, -0.31933435797691345, -9.258821487426758, -6.962332725524902, -13.890822410583496, 8.070977210998535, 11.459538459777832, -11.385781288146973, -1.950312614440918, 7.600237846374512, -13.131102561950684, 3.510159492492676, 10.740974426269531, 3.3357794284820557, 2.6613852977752686, 7.39295768737793, 6.778611183166504, 5.993842601776123, 4.596932888031006, 5.843104362487793, 8.289690017700195, 8.072946548461914, 6.5337233543396, 9.957900047302246, 9.127707481384277, -1.1557564735412598, 9.071462631225586, -13.47883129119873, 4.916555881500244, 9.495529174804688, 9.552988052368164, 7.004840850830078, 3.7564473152160645, -2.8990304470062256, -15.324097633361816, 1.9194903373718262, -6.4672417640686035, 3.478574275970459, -12.366600036621094, -2.852905750274658, 4.6387434005737305, 8.136249542236328, -16.601099014282227, 10.467681884765625, 0.26429271697998047, 4.814448833465576, 7.495368957519531, 1.9381674528121948, -16.813100814819336, -8.46078109741211, 5.930376052856445, 4.0692949295043945, 2.900153636932373, 0.9218172430992126, -6.826807498931885, 6.420993804931641, 1.8612442016601562, -11.205657005310059, 3.7089788913726807, -9.979418754577637, 10.715641975402832, 1.234057068824768, 7.599524021148682, -11.721179008483887, -14.997026443481445, 3.5826122760772705, 10.414595603942871, -8.948853492736816, 12.941998481750488, -5.087681770324707, 9.670211791992188, 13.70745849609375, -5.564568042755127, -11.936192512512207, 2.3346402645111084, -9.378291130065918, -14.139087677001953, 3.412255048751831, -5.277359485626221, -12.320579528808594, 7.6518378257751465, -6.976317405700684, 7.447282791137695, 10.227663040161133, -15.877239227294922, -2.3556606769561768, 1.7061734199523926, -5.845209121704102, 13.61723518371582, 14.325589179992676, 3.1926443576812744, -6.788012981414795, 4.761492729187012, 14.246095657348633, 0.7493200898170471, 7.148082256317139, 12.766151428222656, -15.619805335998535, 7.588054656982422, -6.056089401245117, 12.694286346435547, 9.690435409545898, 4.4922614097595215, 7.8026275634765625, 8.200935363769531, 4.6134796142578125, 0.3417469263076782, -9.651805877685547, 4.253528118133545, 3.8382599353790283, 6.469594478607178, 7.349428176879883, -10.925345420837402, -11.5260591506958, 0.8885231614112854, -10.976479530334473, 0.582290768623352, 3.224745750427246, 4.895162105560303, -3.075849771499634, 11.29310131072998, -15.621981620788574, -7.2819504737854, -13.08398151397705, -4.898067951202393, -13.417908668518066, -2.7946999073028564, -13.180438041687012, 3.370206594467163, 6.794142246246338, 0.9871505498886108, 6.209067344665527, 6.336020469665527, 0.7429444193840027, 3.615692615509033, -3.4058682918548584, 12.787165641784668, 4.830926895141602, 3.479529619216919, -9.916182518005371, -8.810359954833984, 7.403544902801514, 0.6954609155654907, -12.294790267944336, 14.42261028289795, 4.5574870109558105, 2.3841745853424072, 13.373151779174805, 4.584530353546143, 0.17081300914287567, 4.8767266273498535, -10.167276382446289, -7.137155055999756, -7.530576229095459, -15.654190063476562, 0.6170750856399536, 2.7978579998016357, 4.200352191925049, 3.708099365234375, 2.798424243927002, 1.2814265489578247, -12.760930061340332, -13.743106842041016, 6.112642765045166, -14.251871109008789, -11.900080680847168, -2.886451005935669, -10.07890796661377, 4.759598255157471, -2.1212594509124756, 2.4024674892425537, -11.90195083618164, 4.703548908233643, 0.24406082928180695, 6.265651702880859, -16.69872283935547, 10.585899353027344, -12.857438087463379, -12.82127571105957, 10.84308910369873, 5.859740257263184, 7.227762222290039, -7.96846866607666, 8.541778564453125, 2.4826059341430664, 3.548619270324707, -12.942964553833008, 10.545516967773438, -16.45030975341797, 0.4644773304462433, -11.70940113067627, -15.69087028503418, 2.5859129428863525, -14.145336151123047, 9.683183670043945, 15.582907676696777, 7.97337007522583, 5.739779949188232, -13.905097007751465, -14.299156188964844, 3.1527419090270996, -14.635016441345215, -15.363937377929688, -13.7896728515625, -1.2838373184204102, -13.665496826171875, 2.4384686946868896, 5.781378746032715, 5.721076965332031, 12.67033863067627, 5.161984920501709, 12.416802406311035, -6.708223342895508, 1.698852300643921, 6.4463276863098145, 15.898138046264648, 2.8066298961639404, 8.247753143310547, 4.651979446411133, -13.459516525268555, 6.4564995765686035, 5.288647651672363, 0.4890991151332855, -15.22602653503418, 2.447819948196411, 3.8154079914093018, -14.478846549987793, -12.212312698364258, -10.08027172088623, -11.298871994018555, -14.515053749084473, 0.5676594972610474, -9.284855842590332, 1.8296449184417725, -11.501112937927246, 0.7323996424674988, -16.673391342163086, -14.668900489807129, 9.913968086242676, 0.333437979221344, -7.502721786499023, 7.757008075714111, 5.379276275634766, 4.5853776931762695, 13.470890045166016, 3.427212715148926, 0.8137390613555908, -0.059759579598903656, 7.489447116851807, 3.0764830112457275, 2.701690673828125, 4.238065719604492, 2.1195385456085205, 4.951455593109131, -7.145409107208252, -16.757749557495117, 0.7349620461463928, -7.861733436584473, 3.0296366214752197, 14.14481258392334, 0.4339628219604492, -1.6153045892715454, 12.235669136047363, -9.543747901916504, 7.121265411376953, 4.821730136871338, 0.524715781211853, 2.880047559738159, -15.52178955078125, 3.4376354217529297, -4.197704315185547, -1.2371792793273926, 0.5406429171562195, 8.11935043334961, -13.663790702819824, 10.213515281677246, -5.585532188415527, 7.551807403564453, -9.447273254394531, 6.418581008911133, 6.969604969024658, 7.809926509857178, 2.9149434566497803, -16.01740074157715, 7.414820671081543, -0.5664682388305664, -9.22498893737793, 6.182584285736084, 5.160006523132324, -12.121371269226074, -14.308652877807617, 3.766037702560425, 0.868953287601471, 3.4160494804382324, -12.378851890563965, 4.194911479949951, -15.085256576538086, -0.2576102018356323, -2.0270845890045166, 7.300528526306152, 2.6001880168914795, 12.206700325012207, 2.380218982696533, 4.359419345855713, -10.644335746765137, 5.988502502441406, -1.3300151824951172, -15.547914505004883, -12.601027488708496, 0.3711621165275574, -5.88162899017334, 5.825473785400391, 5.564116954803467, -8.847603797912598, 1.472513198852539, 7.172060012817383, 11.282973289489746, 6.42919921875, -16.10667610168457, -13.02742862701416, -7.733519077301025, -11.715662956237793, -16.151180267333984, 1.201727271080017, -17.32914924621582, -13.00291633605957, 6.402347087860107, 14.595330238342285, 12.340776443481445, -8.431442260742188, -0.674919068813324, 16.256900787353516, -3.2716357707977295, -7.844840049743652, 9.078265190124512, -3.578643560409546, -16.16754913330078, -11.792346954345703, 2.908939838409424, -6.072352409362793, -7.514019012451172, 7.824395179748535, 9.062983512878418, -2.586611270904541, 10.22056770324707, -10.733843803405762, -8.410344123840332, -13.434980392456055, 10.226696968078613, 4.928512096405029, -1.525963544845581, 0.5990467071533203, -0.23419469594955444, 0.4286278784275055, 3.9560234546661377, -1.7179659605026245, -11.357426643371582, -13.104239463806152, -13.314912796020508, -9.238297462463379, 4.518935680389404, -10.031913757324219, 3.9293668270111084, 8.501472473144531, 0.9573957324028015, -15.629541397094727, 10.58600902557373, 12.147740364074707, 14.027782440185547, -7.994455814361572, 5.151900768280029, 7.028671741485596, 6.813734531402588, -7.116104602813721, 4.938556671142578, 14.212546348571777, 13.344536781311035, -15.819405555725098, -5.476551532745361, -14.787152290344238, 1.6856693029403687, -8.492636680603027, -2.470149517059326, 4.245214462280273, 6.581131935119629, -4.646053314208984, 13.500863075256348, 0.463423490524292, -12.640558242797852, 5.13142728805542, -14.240107536315918, 2.2596311569213867, 7.279676914215088, 7.714208602905273, 2.954271078109741, 2.8021624088287354, 1.9283846616744995, -8.620210647583008, 2.0503101348876953, -7.9329681396484375, 13.089553833007812, 5.128932952880859, 1.552275538444519, 1.4758957624435425, 5.1269330978393555, 4.929938316345215, 3.119786262512207, 0.4084908068180084, 12.07530403137207, 5.226405620574951, 10.544306755065918, 2.1255686283111572, 0.5016061067581177, 8.875396728515625, 12.598623275756836, -14.596550941467285, 0.826104998588562, -11.271807670593262, 15.45931625366211, 14.923359870910645, -15.683143615722656, 9.893241882324219, -8.151554107666016, 10.06430721282959, 3.502190351486206, -3.031907081604004, 6.184936046600342, -5.401444911956787, 11.490370750427246, 4.329553604125977, 2.5580432415008545, 4.222123622894287, 4.211019992828369, 0.9339653253555298, -3.526799201965332, 7.610409736633301, 4.095147609710693, 2.160848617553711, -15.926480293273926, 6.716573238372803, -8.516278266906738, -6.868398189544678, 10.84615421295166, 5.432908058166504, 0.14778858423233032, -5.346154689788818, 1.1685529947280884, -15.826138496398926, -8.217402458190918, -13.509073257446289, -14.292898178100586, -3.128704786300659, 14.952249526977539, 0.29664847254753113, 1.4908456802368164, 9.669739723205566, -15.84475326538086, 14.015785217285156, 7.204484939575195, -13.16261100769043, 3.4739279747009277, 6.473920822143555, -15.14120864868164, -7.150835990905762, -5.519510746002197, -10.67068099975586, -10.658452033996582, -7.406044006347656, -13.266653060913086, 3.6013805866241455, 11.287641525268555, 4.869902610778809, -13.582019805908203, 0.976158082485199, 3.153280019760132, -13.295377731323242, -1.6604081392288208, 11.80215835571289, 9.435919761657715, 6.8426642417907715, -12.87339973449707, 5.561409950256348, 3.638782262802124, 11.461458206176758, 4.406867980957031, -0.6103171706199646, 2.787844657897949, -16.593441009521484, 14.768172264099121, -7.8707051277160645, 4.7633891105651855, 13.575355529785156, 0.24463911354541779, 13.199721336364746, 0.6411520838737488, -15.696806907653809, 3.157071113586426, 14.765629768371582, -11.708611488342285, 7.8368306159973145, -13.314740180969238, 5.822848796844482, 4.693894863128662, 10.29190444946289, -2.508267402648926, 7.9655632972717285, 8.735563278198242, 1.325496792793274, 5.722835063934326, -4.763534069061279, 8.996756553649902, 9.700572967529297, 12.173382759094238, -13.190001487731934, -13.822352409362793, -16.405378341674805, 5.5427985191345215, 5.905015468597412, 3.8935179710388184, -6.565249919891357, -8.641709327697754, -12.695404052734375, -6.5638837814331055, 12.167539596557617, -13.742581367492676, 8.98992919921875, 6.779453754425049, 6.565705299377441, 3.3672282695770264, 5.769832611083984, 2.705997943878174, 0.758209764957428, 5.468340873718262, -16.257015228271484, 14.263209342956543, -9.409728050231934, -13.22016716003418, -1.8627797365188599, -6.733119487762451, 13.420401573181152, 5.848363399505615, 7.87040901184082, 4.061882019042969, 12.13903522491455, -8.63404655456543, -7.983752250671387, 4.892815589904785, 3.798732042312622, -16.22709846496582, -16.423294067382812, 5.064151287078857, -17.594512939453125, 8.962106704711914, 10.249960899353027, -1.6027398109436035, 9.042864799499512, -0.5650869607925415, 4.7522430419921875, 5.037079811096191, -0.9197542071342468, -8.319902420043945, 4.481138229370117, 4.151354789733887, -14.75119400024414, -13.92556381225586, -9.393184661865234, 7.980691432952881, -4.993346214294434, 0.48146939277648926, -14.788278579711914, -6.692080020904541, -0.8267803192138672, 14.106555938720703, -13.790667533874512, 10.892632484436035, -8.152654647827148, 11.513314247131348, 8.611531257629395, 1.6010671854019165, -0.16067707538604736, 4.206730842590332, 3.840214252471924, -15.723098754882812, -14.521310806274414, 5.686517238616943, 7.4998321533203125, -17.034175872802734, -10.398361206054688, -6.850387096405029, 0.42821305990219116, 4.633536338806152, 4.3399858474731445, -4.026734352111816, 12.929346084594727, 5.819943428039551, 7.532613754272461, 4.64884090423584, 8.106614112854004, -8.028160095214844, 1.8204584121704102, -14.250044822692871, 13.109211921691895, 5.051339626312256, -7.904854774475098, 11.586592674255371, 4.220261573791504, 4.256636142730713, -13.69084644317627, 3.794895887374878, -11.128033638000488, -7.619405746459961, 4.039700984954834, 14.7531156539917, 1.9882678985595703, -13.49368667602539, 7.078092575073242, 1.1853822469711304, -12.412440299987793, -14.395668029785156, -10.861824989318848, -11.642298698425293, 10.315153121948242, 10.225656509399414, -5.171178340911865, -9.643210411071777, 5.0832839012146, 10.110684394836426, 15.142202377319336, -11.558253288269043, -10.414985656738281], \"z\": [-5.469036102294922, 11.451701164245605, -13.961548805236816, 0.8872865438461304, -13.515060424804688, 0.7831335067749023, 12.715651512145996, -2.8233253955841064, -1.439600944519043, 1.1439714431762695, -1.4495171308517456, -9.363393783569336, 4.747440338134766, -7.1042256355285645, -6.253889083862305, -2.930281400680542, 4.729445934295654, 8.57396125793457, -14.140054702758789, 0.2031134068965912, 0.883232057094574, -9.170522689819336, -8.134178161621094, -0.640738308429718, -2.0385096073150635, 3.507781505584717, -10.16517162322998, 0.6458991169929504, -3.345303535461426, -6.127014636993408, -0.5328419804573059, 9.665023803710938, -5.366060256958008, -4.981678009033203, 2.9300906658172607, -9.107206344604492, 0.659146785736084, 0.6616777181625366, -8.581631660461426, -0.5133289098739624, 12.396626472473145, -4.398381233215332, 8.079647064208984, -2.669271469116211, -5.6873979568481445, -2.333942174911499, -4.891165256500244, -0.9458674788475037, -9.536486625671387, 11.411118507385254, 0.27966439723968506, -13.71871280670166, 2.5957555770874023, -2.3678016662597656, 1.9158984422683716, 13.775749206542969, 15.591139793395996, 3.9035444259643555, -4.766170024871826, -11.628498077392578, 4.899945259094238, 6.289230823516846, -5.305114269256592, -4.0865159034729, 8.89175796508789, -4.419651985168457, 10.40085506439209, 8.186572074890137, -9.681787490844727, -0.5467045903205872, -8.496021270751953, -2.521942138671875, -7.672049522399902, 1.8265762329101562, -6.292026519775391, -5.327892780303955, -9.573732376098633, -4.7463178634643555, -2.678044557571411, -2.4218156337738037, -2.1084060668945312, -6.955148220062256, -10.570374488830566, 5.4076995849609375, 11.681418418884277, 6.912448406219482, 9.631551742553711, 12.39699935913086, 4.755630016326904, -8.078441619873047, -6.542226791381836, -0.3747705817222595, 6.975490570068359, 13.893430709838867, 12.617284774780273, -6.539857387542725, 3.7162511348724365, 6.831687927246094, 3.654130697250366, -9.82083797454834, -8.88780403137207, 11.684983253479004, 6.750326156616211, 3.917158842086792, -4.34401273727417, 1.5335172414779663, 5.3360748291015625, 9.19034194946289, -6.545214653015137, -4.948378562927246, -6.310468673706055, -10.66435432434082, 1.8860656023025513, -4.773633003234863, -13.769878387451172, -6.144515037536621, 15.944770812988281, 14.09804916381836, 1.6423686742782593, 3.8831045627593994, -5.616637706756592, 2.926661968231201, 7.829460144042969, 9.63819694519043, 3.582798480987549, 9.772171020507812, 11.085066795349121, -0.22674159705638885, 11.333755493164062, 8.56143569946289, 2.9409470558166504, 3.6905839443206787, -0.4425165057182312, 11.407106399536133, 12.896642684936523, -3.246091604232788, -10.719101905822754, -0.4666440486907959, 10.298962593078613, 1.667513132095337, 1.0923373699188232, -8.828197479248047, 3.860877275466919, -11.774715423583984, 3.750861406326294, -0.38689878582954407, -1.5871120691299438, 11.330754280090332, 11.007664680480957, 2.6626853942871094, -7.3277153968811035, -5.206803321838379, 4.362103462219238, 4.669968128204346, -8.42995548248291, 4.340577125549316, 10.389547348022461, 11.249736785888672, -4.963719367980957, 2.3055667877197266, 15.491084098815918, 3.9825124740600586, -2.32212233543396, -2.2712841033935547, 0.6969522833824158, 12.306961059570312, 1.16579008102417, -7.878730773925781, -9.89399242401123, 3.6453299522399902, 5.605649948120117, 5.721681118011475, -0.9598343372344971, -12.573619842529297, 3.195439338684082, 11.917171478271484, 0.9209662675857544, -12.277597427368164, 10.92971420288086, -1.0627472400665283, 4.15580940246582, -2.7795004844665527, 8.199462890625, -7.058114528656006, -7.770130634307861, 16.188222885131836, -5.499277591705322, 3.359870672225952, -1.7468246221542358, -5.097731590270996, 11.496556282043457, -12.525755882263184, -0.5723446607589722, -13.755249977111816, 15.707229614257812, 13.735274314880371, 5.253161907196045, 8.320850372314453, -9.625666618347168, 3.5031983852386475, 1.8138501644134521, 2.101639986038208, 11.555907249450684, -10.905372619628906, -13.606801986694336, 9.580167770385742, -2.641296148300171, 2.392674207687378, -1.8112655878067017, 11.265472412109375, 4.3475260734558105, -5.773861408233643, -6.310912609100342, -7.245595932006836, 2.9078876972198486, 4.166555881500244, 11.012777328491211, -3.9449000358581543, -5.897993087768555, 0.6563642621040344, -14.27013874053955, 8.512873649597168, -10.510379791259766, -5.433393478393555, 15.281024932861328, -3.199693202972412, 8.09703254699707, -1.1566128730773926, 13.370967864990234, -5.677704811096191, 13.287376403808594, 7.283722877502441, -0.32488688826560974, -0.5808461904525757, 2.591038942337036, 8.20634937286377, -1.9267642498016357, -4.795797348022461, -0.5613288879394531, -12.303122520446777, 2.896388530731201, 5.672999858856201, -10.331215858459473, 12.228843688964844, -3.4880013465881348, 14.481690406799316, -2.2178831100463867, -1.6984127759933472, 7.911417484283447, -9.088640213012695, 3.3845925331115723, 2.0662691593170166, -2.374218702316284, 4.116207122802734, 1.0314443111419678, -0.8928266167640686, -4.2674641609191895, 13.413562774658203, -5.304072856903076, 3.272850275039673, -10.692408561706543, 3.6511006355285645, -12.904417991638184, 4.017777919769287, 2.6588401794433594, 11.987936973571777, -1.7276389598846436, 15.33410358428955, -6.604228496551514, 6.539662837982178, 8.099574089050293, 13.522324562072754, -3.6917760372161865, -10.40986156463623, 1.6731003522872925, 7.497303009033203, -6.21503210067749, -12.620302200317383, 8.817145347595215, -1.628265619277954, 8.62665843963623, -10.131070137023926, -0.07429230213165283, -5.2654500007629395, -13.309887886047363, 9.079015731811523, 7.094976425170898, 8.832145690917969, 13.765413284301758, -9.41997241973877, -8.520097732543945, 10.0481538772583, 4.9671831130981445, 8.865361213684082, 5.56074857711792, 1.9058305025100708, -1.3180748224258423, -1.2706395387649536, 4.45234489440918, -5.611323833465576, 7.741341590881348, 14.685269355773926, -6.821012020111084, -3.154092311859131, -2.0801854133605957, -4.29587459564209, 6.631954193115234, -3.681014060974121, 11.77373218536377, -7.797088146209717, -7.314128875732422, 11.876786231994629, -3.5604143142700195, -11.639222145080566, 6.358797550201416, -5.698031902313232, 3.6088035106658936, 12.846693992614746, -4.158095836639404, 11.889870643615723, 7.088550567626953, -3.4047226905822754, -1.8308801651000977, 8.532355308532715, -5.700507164001465, -7.263301849365234, -2.9155447483062744, -2.3747310638427734, -7.85549259185791, -1.0547913312911987, 15.50200080871582, -4.845824241638184, 6.302745342254639, 2.8927106857299805, 12.03330135345459, -9.182601928710938, 9.419543266296387, -2.7456295490264893, -5.217199325561523, -6.711240768432617, -2.949127435684204, 0.685181736946106, 1.8630932569503784, 5.392188549041748, -2.6865057945251465, -8.947721481323242, 11.509461402893066, 13.619817733764648, 0.304770290851593, -4.233556270599365, 1.3293672800064087, -3.078385829925537, 2.439769744873047, 13.435429573059082, 7.0882344245910645, 0.852985143661499, 3.222763776779175, 6.823050022125244, -7.332968711853027, -9.686921119689941, 9.96524429321289, 7.369113922119141, -1.9622331857681274, 10.674897193908691, -0.8008437156677246, -1.9812780618667603, -5.465827465057373, 16.375354766845703, 13.551315307617188, 9.734106063842773, 8.422868728637695, 3.046807289123535, -10.818890571594238, -7.762578010559082, -1.797916293144226, 8.422615051269531, -5.109155178070068, -1.5918455123901367, 12.548263549804688, -8.584548950195312, 0.901854395866394, 1.216074824333191, -6.357861042022705, -6.99153470993042, 9.615437507629395, 3.4660003185272217, 4.580595016479492, 3.798107862472534, 3.625476598739624, -9.853571891784668, 8.54674243927002, 3.4363784790039062, -4.645900726318359, -4.470849514007568, 2.6402416229248047, 13.383502006530762, 1.4488555192947388, -3.5844717025756836, -7.521696090698242, -1.5550912618637085, 3.7433173656463623, 7.915555953979492, 11.840689659118652, 9.215813636779785, -4.939178943634033, 15.194684982299805, -11.854836463928223, 0.1661190390586853, 3.4936044216156006, 7.072079658508301, 10.51028060913086, -7.477413654327393, -5.369385719299316, -3.3312253952026367, 10.23652172088623, 7.682716369628906, 11.295939445495605, 12.23508358001709, -1.941035509109497, -8.836849212646484, -10.096433639526367, 6.267787456512451, 8.459928512573242, 9.425479888916016, -9.806476593017578, 13.436634063720703, 13.205751419067383, -1.6197839975357056, -7.307173252105713, -9.315556526184082, -6.362072467803955, 15.121932029724121, 5.4236650466918945, -1.9389190673828125, -8.237876892089844, 4.580885410308838, 4.818778038024902, -10.241079330444336, -5.80537748336792, -13.869908332824707, 0.9087451100349426, -1.9546501636505127, -13.84267807006836, -10.408326148986816, 4.109735012054443, 0.9079975485801697, -6.808790683746338, 6.7566819190979, -8.962424278259277, -2.762617826461792, 7.964049339294434, -11.006296157836914, 9.18588924407959, -3.9575634002685547, 0.9496772289276123, 11.632430076599121, 2.020294189453125, -10.684405326843262, -3.0325636863708496, -1.9617067575454712, 9.740118980407715, -12.855550765991211, 8.524712562561035, 0.5094792246818542, 0.03949243575334549, -6.301211357116699, -6.916687488555908, -6.3348708152771, 12.434492111206055, -10.164341926574707, -4.87363338470459, 4.188459396362305, 9.430265426635742, -3.0722298622131348, 8.133956909179688, 15.6051664352417, 13.233418464660645, -1.6838363409042358, -4.179681777954102, 11.600787162780762, 11.002306938171387, 6.707841873168945, -2.9468138217926025, -10.206465721130371, 15.897428512573242, -10.63932991027832, 4.7699174880981445, -7.383836269378662, -3.5866858959198, -12.650283813476562, -1.950669765472412, 1.5242706537246704, -2.8538742065429688, -7.314443588256836, -10.42712688446045, -2.1036417484283447, 7.365173816680908, 2.3526370525360107, 5.1651997566223145, -7.504878520965576, 10.395645141601562, 0.6438858509063721, -7.959855556488037, 4.393637180328369, -6.818880081176758, -12.11710262298584, -4.277900695800781, 13.135270118713379, -7.8943562507629395, -3.273249626159668, -13.343501091003418, 11.805447578430176, 6.276444911956787, -6.084372520446777, -2.2708938121795654, 7.310542106628418, 4.112740516662598, -3.6334118843078613, 1.4552240371704102, 6.5780510902404785, -9.999088287353516, -9.448541641235352, -5.103878021240234, -7.595731258392334, -5.903743267059326, 16.40184783935547, -6.571826934814453, 14.739760398864746, 2.704960823059082, -4.970420837402344, 6.697584629058838, -5.138077259063721, 2.6184797286987305, 8.060813903808594, 1.9853734970092773, -6.7142014503479, 7.540863513946533, -11.241209983825684, -4.157898902893066, 6.965627193450928, 1.4634455442428589, 0.27500489354133606, 10.227621078491211, 11.562203407287598, 13.811824798583984, 1.9287465810775757, 0.38410595059394836, -0.37470176815986633, -2.38327956199646, -0.0533900149166584, 5.507168769836426, -4.509642601013184, -10.671114921569824, -5.046610355377197, 6.938233852386475, 10.399493217468262, 3.1431691646575928, -6.390103340148926, -2.416733741760254, -0.8710015416145325, -11.035067558288574, -5.844291687011719, 7.801560878753662, -1.1541123390197754, 5.930596828460693, -2.0628163814544678, 10.56933879852295, 0.7373349070549011, -3.207493782043457, 0.3591076731681824, -6.1120147705078125, 1.178823471069336, -3.4534852504730225, -4.333597660064697, 10.512679100036621, -8.308138847351074, 12.406439781188965, 13.153698921203613, -5.1092448234558105, -6.179973125457764, -9.771079063415527, -4.707064151763916, -8.347066879272461, 12.757426261901855, 11.734930038452148, -2.537142515182495, -5.418378829956055, 6.815912246704102, 15.941964149475098, -5.293010711669922, 8.128434181213379, 9.315669059753418, -1.6058235168457031, -4.346328258514404, -0.9097844362258911, 3.401732921600342, -2.3824880123138428, -6.257761001586914, -1.6634594202041626, -10.362299919128418, 1.066942572593689, 1.7760778665542603, -3.348592519760132, 14.086465835571289, -0.3788006901741028, 10.570656776428223, -3.0222604274749756, -5.952746391296387, 4.588103294372559, 8.29543399810791, -4.763794422149658, -7.8388776779174805, -9.03475570678711, -3.791168689727783, 0.36257508397102356, 8.578956604003906, 4.328038692474365, 5.10740852355957, 3.561697483062744, -4.851809978485107, -2.0500712394714355, 3.731644868850708, 3.1944479942321777, 0.9627215266227722, -7.966994762420654, -4.828878879547119, 15.500771522521973, -14.086520195007324, 1.2864341735839844, 0.3747349977493286, 2.0805654525756836, 8.010196685791016, -4.774760723114014, -9.970688819885254, -8.307437896728516, -4.366215229034424, 0.846519947052002, -1.7302395105361938, 0.7963640689849854, -1.5288523435592651, -13.542427062988281, 11.223587989807129, 13.781096458435059, -8.523656845092773, -6.025360584259033, -2.1700191497802734, -11.024423599243164, -3.0616559982299805, -3.04773211479187, -3.783082962036133, 8.03067398071289, 10.26891040802002, 1.4833811521530151, 0.6424240469932556, 12.078007698059082, 9.098377227783203, -10.13520336151123, -4.650219440460205, 2.9284565448760986, -4.755032539367676, -6.997501850128174, 3.426250696182251, -0.20727145671844482, -5.491083145141602, -0.1948641687631607, -2.026395320892334, 0.4409254789352417, 11.63150691986084, 8.517228126525879, 11.4013090133667, 1.4631919860839844, 0.7573283314704895, 4.352184295654297, -1.3928016424179077, 1.7186521291732788, 6.415847301483154, 11.258527755737305, 2.7090001106262207, -1.360085368156433, 11.317381858825684, -9.423630714416504, 8.62156867980957, -2.6118063926696777, -0.6715505123138428, 8.471901893615723, 11.921552658081055, -0.12204339355230331, 13.09082317352295, -0.5959210991859436, -7.662301540374756, 0.7072148323059082, -6.52690315246582, -5.935990810394287, 3.830953359603882, 0.870577335357666, 3.3354811668395996, -8.550877571105957, -3.3445281982421875, -3.124098062515259, -5.6216630935668945, 4.615116596221924, -1.3788743019104004, -7.118195056915283, -3.330031633377075, -0.8210415840148926, 13.528236389160156, -1.4397592544555664, -5.740862846374512, -3.049490451812744, -3.0102334022521973, -4.829342842102051, 10.485159873962402, 3.945995569229126, 3.6828055381774902, -1.9190272092819214, 2.9824695587158203, 0.6857814788818359, -1.6102216243743896, -1.9254721403121948, 6.294264793395996, -14.15404224395752, 16.66822624206543, 4.043050765991211, -13.693910598754883, 0.29343181848526, -5.377272605895996, -2.7503368854522705, 4.025029182434082, -1.2253342866897583, -0.27897951006889343, 4.723433971405029, -10.279288291931152, -1.57145357131958, 1.542399525642395, 2.0451176166534424, 0.09268184751272202, -6.632841110229492, -1.0472437143325806, -1.5994206666946411, -5.781736850738525, 2.7923312187194824, -5.9070143699646, -5.067209243774414, -3.861698627471924, -7.738646984100342, -1.553465723991394, -5.3867506980896, 2.0812904834747314, -11.167129516601562, -7.184980392456055, 10.856417655944824, -10.739243507385254, 13.164240837097168, 15.717093467712402, 9.33698844909668, -12.800097465515137, -2.418987989425659, 3.9839746952056885, -5.960023880004883, 13.353385925292969, -7.221154689788818, 4.3065338134765625, 6.8265485763549805, 13.274514198303223, -5.953386306762695, 15.997817993164062, 15.277945518493652, -12.056129455566406, 12.889144897460938, -12.935159683227539, -2.4327287673950195, -4.42024564743042, -1.6672543287277222, 13.156129837036133, -6.697508335113525, 10.107797622680664, 1.3288334608078003, 4.116034507751465, -4.856748104095459, -5.8389739990234375, -5.866623401641846, 15.580286979675293, 6.027187824249268, -7.2634196281433105, -1.2696999311447144, -7.482422828674316, 5.342750072479248, 1.667412281036377, -2.8832221031188965, -3.3668758869171143, -5.170951843261719, -3.6309633255004883, -5.120574951171875, -4.8728556632995605, 16.040470123291016, 8.705787658691406, 7.689230442047119, -9.595863342285156, -5.15387487411499, 11.022318840026855, 4.001136779785156, 0.5406862497329712, 2.144977569580078, 11.519787788391113, -12.721138000488281, 12.313397407531738, 7.3459367752075195, 6.759791374206543, 0.8773272037506104, 7.778748512268066, -10.066373825073242, -2.6965832710266113, -4.934015274047852, -10.507438659667969, 6.076369762420654, -8.889335632324219, 7.531944274902344, -5.097499370574951, 0.4768514931201935, -0.47003331780433655, -1.1438418626785278, -11.163899421691895, -1.199547529220581, 8.175865173339844, 6.055522918701172, 4.301795482635498, 0.8227238655090332, -3.394467353820801, -5.4653730392456055, -5.747692584991455, 10.235836029052734, -8.470714569091797, -6.002762317657471, -3.0487616062164307, -10.936823844909668, -0.09840135276317596, -11.056742668151855, -12.54035758972168, -0.8045922517776489, 6.531006813049316, -5.505841255187988, 3.7103219032287598, -0.42646926641464233, 9.286602973937988, 13.338871002197266, 2.5077614784240723, 6.00675630569458, -5.146646022796631, -6.863349914550781, 3.5180375576019287, 2.9855644702911377, -8.997929573059082, 5.609163761138916, -5.485633373260498, 3.3821449279785156, 6.691905975341797, 3.4144043922424316, 2.2085134983062744, -3.285221815109253, -5.183712959289551, -8.608623504638672, -3.333566188812256, -0.09087663888931274, -5.4398722648620605, 6.427778720855713, -0.4914998710155487, 14.793316841125488, -3.289712905883789, -0.10734882205724716, -8.57780647277832, -3.0002167224884033, 5.824085235595703, 9.683550834655762, -7.004752159118652, 13.115093231201172, 6.517173767089844, 2.4663634300231934, 5.547145366668701, -5.403020858764648, -12.345955848693848, -8.589727401733398, -1.6926932334899902, 0.7378070950508118, -2.987049102783203, -3.6573522090911865, 1.6601300239562988, -6.009850025177002, 4.851233959197998, -5.083925724029541, -3.3371450901031494, -10.628820419311523, -6.962992191314697, -8.905045509338379, 0.02762812003493309, -7.867129802703857, -6.686829090118408, -3.4996497631073, 12.732735633850098, 2.7270548343658447, 0.9802374243736267, 8.2069730758667, 4.103821754455566, 8.95202922821045, -5.040572643280029, -5.920368671417236, -11.25851058959961, -1.6120121479034424, 9.758179664611816, -8.560525894165039, -5.230709552764893, 8.56067180633545, 6.574169158935547, 6.950990676879883, -6.0698747634887695, -4.806813716888428, -14.173439979553223, -5.1236467361450195, 8.41075325012207, 1.9953488111495972, 0.455958753824234, -9.039690971374512, -0.6803833842277527, 3.2598390579223633, -2.433241128921509, 6.343161582946777, -8.209108352661133, 13.940067291259766, -5.016027450561523, 4.535128116607666, 6.963529109954834, -14.11023998260498, 5.919181823730469, 9.183816909790039, -6.301584720611572, -3.0498642921447754, -8.942495346069336, 3.9715540409088135, -13.027786254882812, 10.821995735168457, -0.9309459328651428, -11.570980072021484, 3.1783196926116943, -2.1566638946533203, 2.9586610794067383, -3.3803458213806152, -6.208921432495117, -1.7646178007125854, -3.430100679397583, 8.457347869873047, 14.69546890258789, -3.77113676071167, 0.4703596830368042, -4.979268550872803, -1.220504641532898, 3.1665470600128174, 11.245596885681152, 0.9056904315948486, -4.430525302886963, -2.999593496322632, 4.552745819091797, 16.092676162719727, 6.196555137634277, -12.083236694335938, -3.204824209213257, -4.861602783203125, 12.22414779663086, 8.621318817138672, -5.517638206481934, -5.100836753845215, 6.095066070556641, -5.962324619293213, -5.679780006408691, -2.4728996753692627, -14.001436233520508, -2.2080581188201904, 13.00320053100586, 11.644638061523438, -5.504091739654541, -1.5331089496612549, 1.7465254068374634, -5.0181074142456055, -9.166610717773438, -0.7781507968902588, 15.409934997558594, -4.886807918548584, 8.247429847717285, 5.201716423034668, -1.1464852094650269, 0.7683367133140564, -11.123847007751465, 1.3912475109100342, -5.054616451263428, -1.8104827404022217, -12.940600395202637, -5.7503156661987305, -4.444272518157959, 4.9515581130981445, -2.8262276649475098, -1.3507142066955566, -10.650531768798828]}],\n",
       "                        {\"coloraxis\": {\"colorbar\": {\"title\": {\"text\": \"Label\"}}, \"colorscale\": [[0.0, \"#0d0887\"], [0.1111111111111111, \"#46039f\"], [0.2222222222222222, \"#7201a8\"], [0.3333333333333333, \"#9c179e\"], [0.4444444444444444, \"#bd3786\"], [0.5555555555555556, \"#d8576b\"], [0.6666666666666666, \"#ed7953\"], [0.7777777777777778, \"#fb9f3a\"], [0.8888888888888888, \"#fdca26\"], [1.0, \"#f0f921\"]]}, \"height\": 800, \"legend\": {\"tracegroupgap\": 0}, \"scene\": {\"domain\": {\"x\": [0.0, 1.0], \"y\": [0.0, 1.0]}, \"xaxis\": {\"title\": {\"text\": \"0\"}}, \"yaxis\": {\"title\": {\"text\": \"1\"}}, \"zaxis\": {\"title\": {\"text\": \"2\"}}}, \"template\": {\"data\": {\"bar\": [{\"error_x\": {\"color\": \"#2a3f5f\"}, \"error_y\": {\"color\": \"#2a3f5f\"}, \"marker\": {\"line\": {\"color\": \"#E5ECF6\", \"width\": 0.5}}, \"type\": \"bar\"}], \"barpolar\": [{\"marker\": {\"line\": {\"color\": \"#E5ECF6\", \"width\": 0.5}}, \"type\": \"barpolar\"}], \"carpet\": [{\"aaxis\": {\"endlinecolor\": \"#2a3f5f\", \"gridcolor\": \"white\", \"linecolor\": \"white\", \"minorgridcolor\": \"white\", \"startlinecolor\": \"#2a3f5f\"}, \"baxis\": {\"endlinecolor\": \"#2a3f5f\", \"gridcolor\": \"white\", \"linecolor\": \"white\", \"minorgridcolor\": \"white\", \"startlinecolor\": \"#2a3f5f\"}, \"type\": \"carpet\"}], \"choropleth\": [{\"colorbar\": {\"outlinewidth\": 0, \"ticks\": \"\"}, \"type\": \"choropleth\"}], \"contour\": [{\"colorbar\": {\"outlinewidth\": 0, \"ticks\": \"\"}, \"colorscale\": [[0.0, \"#0d0887\"], [0.1111111111111111, \"#46039f\"], [0.2222222222222222, \"#7201a8\"], [0.3333333333333333, \"#9c179e\"], [0.4444444444444444, \"#bd3786\"], [0.5555555555555556, \"#d8576b\"], [0.6666666666666666, \"#ed7953\"], [0.7777777777777778, \"#fb9f3a\"], [0.8888888888888888, \"#fdca26\"], [1.0, \"#f0f921\"]], \"type\": \"contour\"}], \"contourcarpet\": [{\"colorbar\": {\"outlinewidth\": 0, \"ticks\": \"\"}, \"type\": \"contourcarpet\"}], \"heatmap\": [{\"colorbar\": {\"outlinewidth\": 0, \"ticks\": \"\"}, \"colorscale\": [[0.0, \"#0d0887\"], [0.1111111111111111, \"#46039f\"], [0.2222222222222222, \"#7201a8\"], [0.3333333333333333, \"#9c179e\"], [0.4444444444444444, \"#bd3786\"], [0.5555555555555556, \"#d8576b\"], [0.6666666666666666, \"#ed7953\"], [0.7777777777777778, \"#fb9f3a\"], [0.8888888888888888, \"#fdca26\"], [1.0, \"#f0f921\"]], \"type\": \"heatmap\"}], \"heatmapgl\": [{\"colorbar\": {\"outlinewidth\": 0, \"ticks\": \"\"}, \"colorscale\": [[0.0, \"#0d0887\"], [0.1111111111111111, \"#46039f\"], [0.2222222222222222, \"#7201a8\"], [0.3333333333333333, \"#9c179e\"], [0.4444444444444444, \"#bd3786\"], [0.5555555555555556, \"#d8576b\"], [0.6666666666666666, \"#ed7953\"], [0.7777777777777778, \"#fb9f3a\"], [0.8888888888888888, \"#fdca26\"], [1.0, \"#f0f921\"]], \"type\": \"heatmapgl\"}], \"histogram\": [{\"marker\": {\"colorbar\": {\"outlinewidth\": 0, \"ticks\": \"\"}}, \"type\": \"histogram\"}], \"histogram2d\": [{\"colorbar\": {\"outlinewidth\": 0, \"ticks\": \"\"}, \"colorscale\": [[0.0, \"#0d0887\"], [0.1111111111111111, \"#46039f\"], [0.2222222222222222, \"#7201a8\"], [0.3333333333333333, \"#9c179e\"], [0.4444444444444444, \"#bd3786\"], [0.5555555555555556, \"#d8576b\"], [0.6666666666666666, \"#ed7953\"], [0.7777777777777778, \"#fb9f3a\"], [0.8888888888888888, \"#fdca26\"], [1.0, \"#f0f921\"]], \"type\": \"histogram2d\"}], \"histogram2dcontour\": [{\"colorbar\": {\"outlinewidth\": 0, \"ticks\": \"\"}, \"colorscale\": [[0.0, \"#0d0887\"], [0.1111111111111111, \"#46039f\"], [0.2222222222222222, \"#7201a8\"], [0.3333333333333333, \"#9c179e\"], [0.4444444444444444, \"#bd3786\"], [0.5555555555555556, \"#d8576b\"], [0.6666666666666666, \"#ed7953\"], [0.7777777777777778, \"#fb9f3a\"], [0.8888888888888888, \"#fdca26\"], [1.0, \"#f0f921\"]], \"type\": \"histogram2dcontour\"}], \"mesh3d\": [{\"colorbar\": {\"outlinewidth\": 0, \"ticks\": \"\"}, \"type\": \"mesh3d\"}], \"parcoords\": [{\"line\": {\"colorbar\": {\"outlinewidth\": 0, \"ticks\": \"\"}}, \"type\": \"parcoords\"}], \"pie\": [{\"automargin\": true, \"type\": \"pie\"}], \"scatter\": [{\"marker\": {\"colorbar\": {\"outlinewidth\": 0, \"ticks\": \"\"}}, \"type\": \"scatter\"}], \"scatter3d\": [{\"line\": {\"colorbar\": {\"outlinewidth\": 0, \"ticks\": \"\"}}, \"marker\": {\"colorbar\": {\"outlinewidth\": 0, \"ticks\": \"\"}}, \"type\": \"scatter3d\"}], \"scattercarpet\": [{\"marker\": {\"colorbar\": {\"outlinewidth\": 0, \"ticks\": \"\"}}, \"type\": \"scattercarpet\"}], \"scattergeo\": [{\"marker\": {\"colorbar\": {\"outlinewidth\": 0, \"ticks\": \"\"}}, \"type\": \"scattergeo\"}], \"scattergl\": [{\"marker\": {\"colorbar\": {\"outlinewidth\": 0, \"ticks\": \"\"}}, \"type\": \"scattergl\"}], \"scattermapbox\": [{\"marker\": {\"colorbar\": {\"outlinewidth\": 0, \"ticks\": \"\"}}, \"type\": \"scattermapbox\"}], \"scatterpolar\": [{\"marker\": {\"colorbar\": {\"outlinewidth\": 0, \"ticks\": \"\"}}, \"type\": \"scatterpolar\"}], \"scatterpolargl\": [{\"marker\": {\"colorbar\": {\"outlinewidth\": 0, \"ticks\": \"\"}}, \"type\": \"scatterpolargl\"}], \"scatterternary\": [{\"marker\": {\"colorbar\": {\"outlinewidth\": 0, \"ticks\": \"\"}}, \"type\": \"scatterternary\"}], \"surface\": [{\"colorbar\": {\"outlinewidth\": 0, \"ticks\": \"\"}, \"colorscale\": [[0.0, \"#0d0887\"], [0.1111111111111111, \"#46039f\"], [0.2222222222222222, \"#7201a8\"], [0.3333333333333333, \"#9c179e\"], [0.4444444444444444, \"#bd3786\"], [0.5555555555555556, \"#d8576b\"], [0.6666666666666666, \"#ed7953\"], [0.7777777777777778, \"#fb9f3a\"], [0.8888888888888888, \"#fdca26\"], [1.0, \"#f0f921\"]], \"type\": \"surface\"}], \"table\": [{\"cells\": {\"fill\": {\"color\": \"#EBF0F8\"}, \"line\": {\"color\": \"white\"}}, \"header\": {\"fill\": {\"color\": \"#C8D4E3\"}, \"line\": {\"color\": \"white\"}}, \"type\": \"table\"}]}, \"layout\": {\"annotationdefaults\": {\"arrowcolor\": \"#2a3f5f\", \"arrowhead\": 0, \"arrowwidth\": 1}, \"coloraxis\": {\"colorbar\": {\"outlinewidth\": 0, \"ticks\": \"\"}}, \"colorscale\": {\"diverging\": [[0, \"#8e0152\"], [0.1, \"#c51b7d\"], [0.2, \"#de77ae\"], [0.3, \"#f1b6da\"], [0.4, \"#fde0ef\"], [0.5, \"#f7f7f7\"], [0.6, \"#e6f5d0\"], [0.7, \"#b8e186\"], [0.8, \"#7fbc41\"], [0.9, \"#4d9221\"], [1, \"#276419\"]], \"sequential\": [[0.0, \"#0d0887\"], [0.1111111111111111, \"#46039f\"], [0.2222222222222222, \"#7201a8\"], [0.3333333333333333, \"#9c179e\"], [0.4444444444444444, \"#bd3786\"], [0.5555555555555556, \"#d8576b\"], [0.6666666666666666, \"#ed7953\"], [0.7777777777777778, \"#fb9f3a\"], [0.8888888888888888, \"#fdca26\"], [1.0, \"#f0f921\"]], \"sequentialminus\": [[0.0, \"#0d0887\"], [0.1111111111111111, \"#46039f\"], [0.2222222222222222, \"#7201a8\"], [0.3333333333333333, \"#9c179e\"], [0.4444444444444444, \"#bd3786\"], [0.5555555555555556, \"#d8576b\"], [0.6666666666666666, \"#ed7953\"], [0.7777777777777778, \"#fb9f3a\"], [0.8888888888888888, \"#fdca26\"], [1.0, \"#f0f921\"]]}, \"colorway\": [\"#636efa\", \"#EF553B\", \"#00cc96\", \"#ab63fa\", \"#FFA15A\", \"#19d3f3\", \"#FF6692\", \"#B6E880\", \"#FF97FF\", \"#FECB52\"], \"font\": {\"color\": \"#2a3f5f\"}, \"geo\": {\"bgcolor\": \"white\", \"lakecolor\": \"white\", \"landcolor\": \"#E5ECF6\", \"showlakes\": true, \"showland\": true, \"subunitcolor\": \"white\"}, \"hoverlabel\": {\"align\": \"left\"}, \"hovermode\": \"closest\", \"mapbox\": {\"style\": \"light\"}, \"paper_bgcolor\": \"white\", \"plot_bgcolor\": \"#E5ECF6\", \"polar\": {\"angularaxis\": {\"gridcolor\": \"white\", \"linecolor\": \"white\", \"ticks\": \"\"}, \"bgcolor\": \"#E5ECF6\", \"radialaxis\": {\"gridcolor\": \"white\", \"linecolor\": \"white\", \"ticks\": \"\"}}, \"scene\": {\"xaxis\": {\"backgroundcolor\": \"#E5ECF6\", \"gridcolor\": \"white\", \"gridwidth\": 2, \"linecolor\": \"white\", \"showbackground\": true, \"ticks\": \"\", \"zerolinecolor\": \"white\"}, \"yaxis\": {\"backgroundcolor\": \"#E5ECF6\", \"gridcolor\": \"white\", \"gridwidth\": 2, \"linecolor\": \"white\", \"showbackground\": true, \"ticks\": \"\", \"zerolinecolor\": \"white\"}, \"zaxis\": {\"backgroundcolor\": \"#E5ECF6\", \"gridcolor\": \"white\", \"gridwidth\": 2, \"linecolor\": \"white\", \"showbackground\": true, \"ticks\": \"\", \"zerolinecolor\": \"white\"}}, \"shapedefaults\": {\"line\": {\"color\": \"#2a3f5f\"}}, \"ternary\": {\"aaxis\": {\"gridcolor\": \"white\", \"linecolor\": \"white\", \"ticks\": \"\"}, \"baxis\": {\"gridcolor\": \"white\", \"linecolor\": \"white\", \"ticks\": \"\"}, \"bgcolor\": \"#E5ECF6\", \"caxis\": {\"gridcolor\": \"white\", \"linecolor\": \"white\", \"ticks\": \"\"}}, \"title\": {\"x\": 0.05}, \"xaxis\": {\"automargin\": true, \"gridcolor\": \"white\", \"linecolor\": \"white\", \"ticks\": \"\", \"title\": {\"standoff\": 15}, \"zerolinecolor\": \"white\", \"zerolinewidth\": 2}, \"yaxis\": {\"automargin\": true, \"gridcolor\": \"white\", \"linecolor\": \"white\", \"ticks\": \"\", \"title\": {\"standoff\": 15}, \"zerolinecolor\": \"white\", \"zerolinewidth\": 2}}}, \"title\": {\"text\": \"3d TSNE Plot for Outliers\"}, \"width\": 900},\n",
       "                        {\"responsive\": true}\n",
       "                    ).then(function(){\n",
       "                            \n",
       "var gd = document.getElementById('ee76c327-c9c1-4ab8-9f53-f838b0194fdb');\n",
       "var x = new MutationObserver(function (mutations, observer) {{\n",
       "        var display = window.getComputedStyle(gd).display;\n",
       "        if (!display || display === 'none') {{\n",
       "            console.log([gd, 'removed!']);\n",
       "            Plotly.purge(gd);\n",
       "            observer.disconnect();\n",
       "        }}\n",
       "}});\n",
       "\n",
       "// Listen for the removal of the full notebook cells\n",
       "var notebookContainer = gd.closest('#notebook-container');\n",
       "if (notebookContainer) {{\n",
       "    x.observe(notebookContainer, {childList: true});\n",
       "}}\n",
       "\n",
       "// Listen for the clearing of the current output cell\n",
       "var outputEl = gd.closest('.output');\n",
       "if (outputEl) {{\n",
       "    x.observe(outputEl, {childList: true});\n",
       "}}\n",
       "\n",
       "                        })\n",
       "                };\n",
       "                });\n",
       "            </script>\n",
       "        </div>"
      ]
     },
     "metadata": {},
     "output_type": "display_data"
    }
   ],
   "source": [
    "# plot a model\n",
    "plot_model(svm)"
   ]
  },
  {
   "cell_type": "code",
   "execution_count": 29,
   "metadata": {},
   "outputs": [
    {
     "data": {
      "text/html": [
       "<div>\n",
       "<style scoped>\n",
       "    .dataframe tbody tr th:only-of-type {\n",
       "        vertical-align: middle;\n",
       "    }\n",
       "\n",
       "    .dataframe tbody tr th {\n",
       "        vertical-align: top;\n",
       "    }\n",
       "\n",
       "    .dataframe thead th {\n",
       "        text-align: right;\n",
       "    }\n",
       "</style>\n",
       "<table border=\"1\" class=\"dataframe\">\n",
       "  <thead>\n",
       "    <tr style=\"text-align: right;\">\n",
       "      <th></th>\n",
       "      <th>Col1</th>\n",
       "      <th>Col2</th>\n",
       "      <th>Col3</th>\n",
       "      <th>Col4</th>\n",
       "      <th>Col5</th>\n",
       "      <th>Col6</th>\n",
       "      <th>Col7</th>\n",
       "      <th>Col8</th>\n",
       "      <th>Col9</th>\n",
       "      <th>Col10</th>\n",
       "      <th>Label</th>\n",
       "      <th>Score</th>\n",
       "    </tr>\n",
       "  </thead>\n",
       "  <tbody>\n",
       "    <tr>\n",
       "      <th>0</th>\n",
       "      <td>0.263995</td>\n",
       "      <td>0.764929</td>\n",
       "      <td>0.138424</td>\n",
       "      <td>0.935242</td>\n",
       "      <td>0.605867</td>\n",
       "      <td>0.518790</td>\n",
       "      <td>0.912225</td>\n",
       "      <td>0.608234</td>\n",
       "      <td>0.723782</td>\n",
       "      <td>0.733591</td>\n",
       "      <td>0</td>\n",
       "      <td>0.569672</td>\n",
       "    </tr>\n",
       "    <tr>\n",
       "      <th>1</th>\n",
       "      <td>0.546092</td>\n",
       "      <td>0.653975</td>\n",
       "      <td>0.065575</td>\n",
       "      <td>0.227772</td>\n",
       "      <td>0.845269</td>\n",
       "      <td>0.837066</td>\n",
       "      <td>0.272379</td>\n",
       "      <td>0.331679</td>\n",
       "      <td>0.429297</td>\n",
       "      <td>0.367422</td>\n",
       "      <td>0</td>\n",
       "      <td>0.484217</td>\n",
       "    </tr>\n",
       "    <tr>\n",
       "      <th>2</th>\n",
       "      <td>0.336714</td>\n",
       "      <td>0.538842</td>\n",
       "      <td>0.192801</td>\n",
       "      <td>0.553563</td>\n",
       "      <td>0.074515</td>\n",
       "      <td>0.332993</td>\n",
       "      <td>0.365792</td>\n",
       "      <td>0.861309</td>\n",
       "      <td>0.899017</td>\n",
       "      <td>0.088600</td>\n",
       "      <td>1</td>\n",
       "      <td>0.691915</td>\n",
       "    </tr>\n",
       "    <tr>\n",
       "      <th>3</th>\n",
       "      <td>0.092108</td>\n",
       "      <td>0.995017</td>\n",
       "      <td>0.014465</td>\n",
       "      <td>0.176371</td>\n",
       "      <td>0.241530</td>\n",
       "      <td>0.514724</td>\n",
       "      <td>0.562208</td>\n",
       "      <td>0.158963</td>\n",
       "      <td>0.073715</td>\n",
       "      <td>0.208463</td>\n",
       "      <td>1</td>\n",
       "      <td>0.811600</td>\n",
       "    </tr>\n",
       "    <tr>\n",
       "      <th>4</th>\n",
       "      <td>0.325261</td>\n",
       "      <td>0.805968</td>\n",
       "      <td>0.957033</td>\n",
       "      <td>0.331665</td>\n",
       "      <td>0.307923</td>\n",
       "      <td>0.355315</td>\n",
       "      <td>0.501899</td>\n",
       "      <td>0.558449</td>\n",
       "      <td>0.885169</td>\n",
       "      <td>0.182754</td>\n",
       "      <td>0</td>\n",
       "      <td>0.634337</td>\n",
       "    </tr>\n",
       "    <tr>\n",
       "      <th>5</th>\n",
       "      <td>0.212465</td>\n",
       "      <td>0.780305</td>\n",
       "      <td>0.458444</td>\n",
       "      <td>0.634509</td>\n",
       "      <td>0.373030</td>\n",
       "      <td>0.465651</td>\n",
       "      <td>0.413997</td>\n",
       "      <td>0.013080</td>\n",
       "      <td>0.570250</td>\n",
       "      <td>0.736672</td>\n",
       "      <td>0</td>\n",
       "      <td>0.651934</td>\n",
       "    </tr>\n",
       "    <tr>\n",
       "      <th>6</th>\n",
       "      <td>0.258566</td>\n",
       "      <td>0.437318</td>\n",
       "      <td>0.559648</td>\n",
       "      <td>0.109203</td>\n",
       "      <td>0.994553</td>\n",
       "      <td>0.896994</td>\n",
       "      <td>0.488469</td>\n",
       "      <td>0.251943</td>\n",
       "      <td>0.017265</td>\n",
       "      <td>0.538513</td>\n",
       "      <td>0</td>\n",
       "      <td>0.536723</td>\n",
       "    </tr>\n",
       "    <tr>\n",
       "      <th>7</th>\n",
       "      <td>0.869237</td>\n",
       "      <td>0.277979</td>\n",
       "      <td>0.423076</td>\n",
       "      <td>0.112472</td>\n",
       "      <td>0.183727</td>\n",
       "      <td>0.034960</td>\n",
       "      <td>0.111114</td>\n",
       "      <td>0.249330</td>\n",
       "      <td>0.550683</td>\n",
       "      <td>0.049843</td>\n",
       "      <td>0</td>\n",
       "      <td>0.643990</td>\n",
       "    </tr>\n",
       "    <tr>\n",
       "      <th>8</th>\n",
       "      <td>0.197078</td>\n",
       "      <td>0.843918</td>\n",
       "      <td>0.243396</td>\n",
       "      <td>0.281278</td>\n",
       "      <td>0.329148</td>\n",
       "      <td>0.734582</td>\n",
       "      <td>0.191947</td>\n",
       "      <td>0.927804</td>\n",
       "      <td>0.713269</td>\n",
       "      <td>0.891548</td>\n",
       "      <td>1</td>\n",
       "      <td>0.855695</td>\n",
       "    </tr>\n",
       "    <tr>\n",
       "      <th>9</th>\n",
       "      <td>0.292985</td>\n",
       "      <td>0.703432</td>\n",
       "      <td>0.439621</td>\n",
       "      <td>0.107868</td>\n",
       "      <td>0.922947</td>\n",
       "      <td>0.253458</td>\n",
       "      <td>0.295652</td>\n",
       "      <td>0.355287</td>\n",
       "      <td>0.980911</td>\n",
       "      <td>0.308864</td>\n",
       "      <td>1</td>\n",
       "      <td>0.740711</td>\n",
       "    </tr>\n",
       "    <tr>\n",
       "      <th>10</th>\n",
       "      <td>0.821783</td>\n",
       "      <td>0.087778</td>\n",
       "      <td>0.439292</td>\n",
       "      <td>0.521600</td>\n",
       "      <td>0.437606</td>\n",
       "      <td>0.172574</td>\n",
       "      <td>0.117117</td>\n",
       "      <td>0.594212</td>\n",
       "      <td>0.456008</td>\n",
       "      <td>0.441427</td>\n",
       "      <td>0</td>\n",
       "      <td>0.652276</td>\n",
       "    </tr>\n",
       "    <tr>\n",
       "      <th>11</th>\n",
       "      <td>0.796623</td>\n",
       "      <td>0.230543</td>\n",
       "      <td>0.993018</td>\n",
       "      <td>0.077075</td>\n",
       "      <td>0.094068</td>\n",
       "      <td>0.718628</td>\n",
       "      <td>0.977611</td>\n",
       "      <td>0.333386</td>\n",
       "      <td>0.634843</td>\n",
       "      <td>0.028729</td>\n",
       "      <td>1</td>\n",
       "      <td>0.838220</td>\n",
       "    </tr>\n",
       "    <tr>\n",
       "      <th>12</th>\n",
       "      <td>0.045577</td>\n",
       "      <td>0.335215</td>\n",
       "      <td>0.657812</td>\n",
       "      <td>0.723783</td>\n",
       "      <td>0.352304</td>\n",
       "      <td>0.069137</td>\n",
       "      <td>0.355386</td>\n",
       "      <td>0.448042</td>\n",
       "      <td>0.426716</td>\n",
       "      <td>0.894023</td>\n",
       "      <td>0</td>\n",
       "      <td>0.589028</td>\n",
       "    </tr>\n",
       "    <tr>\n",
       "      <th>13</th>\n",
       "      <td>0.613660</td>\n",
       "      <td>0.709061</td>\n",
       "      <td>0.726767</td>\n",
       "      <td>0.862584</td>\n",
       "      <td>0.593116</td>\n",
       "      <td>0.474138</td>\n",
       "      <td>0.941633</td>\n",
       "      <td>0.788438</td>\n",
       "      <td>0.323293</td>\n",
       "      <td>0.931074</td>\n",
       "      <td>1</td>\n",
       "      <td>0.693679</td>\n",
       "    </tr>\n",
       "    <tr>\n",
       "      <th>14</th>\n",
       "      <td>0.950745</td>\n",
       "      <td>0.005154</td>\n",
       "      <td>0.084187</td>\n",
       "      <td>0.478148</td>\n",
       "      <td>0.212836</td>\n",
       "      <td>0.714347</td>\n",
       "      <td>0.664819</td>\n",
       "      <td>0.803558</td>\n",
       "      <td>0.465466</td>\n",
       "      <td>0.305692</td>\n",
       "      <td>1</td>\n",
       "      <td>0.822263</td>\n",
       "    </tr>\n",
       "    <tr>\n",
       "      <th>15</th>\n",
       "      <td>0.336346</td>\n",
       "      <td>0.252265</td>\n",
       "      <td>0.212287</td>\n",
       "      <td>0.020201</td>\n",
       "      <td>0.203514</td>\n",
       "      <td>0.534468</td>\n",
       "      <td>0.476263</td>\n",
       "      <td>0.845669</td>\n",
       "      <td>0.155377</td>\n",
       "      <td>0.442781</td>\n",
       "      <td>1</td>\n",
       "      <td>0.723675</td>\n",
       "    </tr>\n",
       "    <tr>\n",
       "      <th>16</th>\n",
       "      <td>0.034441</td>\n",
       "      <td>0.193546</td>\n",
       "      <td>0.758742</td>\n",
       "      <td>0.921457</td>\n",
       "      <td>0.461482</td>\n",
       "      <td>0.052933</td>\n",
       "      <td>0.411735</td>\n",
       "      <td>0.301823</td>\n",
       "      <td>0.387138</td>\n",
       "      <td>0.571518</td>\n",
       "      <td>0</td>\n",
       "      <td>0.594479</td>\n",
       "    </tr>\n",
       "    <tr>\n",
       "      <th>17</th>\n",
       "      <td>0.741544</td>\n",
       "      <td>0.398253</td>\n",
       "      <td>0.766472</td>\n",
       "      <td>0.635670</td>\n",
       "      <td>0.261735</td>\n",
       "      <td>0.837371</td>\n",
       "      <td>0.001797</td>\n",
       "      <td>0.568841</td>\n",
       "      <td>0.037360</td>\n",
       "      <td>0.292769</td>\n",
       "      <td>1</td>\n",
       "      <td>0.798217</td>\n",
       "    </tr>\n",
       "    <tr>\n",
       "      <th>18</th>\n",
       "      <td>0.184433</td>\n",
       "      <td>0.174112</td>\n",
       "      <td>0.301976</td>\n",
       "      <td>0.895893</td>\n",
       "      <td>0.285614</td>\n",
       "      <td>0.615993</td>\n",
       "      <td>0.197073</td>\n",
       "      <td>0.738881</td>\n",
       "      <td>0.831371</td>\n",
       "      <td>0.265761</td>\n",
       "      <td>1</td>\n",
       "      <td>0.809304</td>\n",
       "    </tr>\n",
       "    <tr>\n",
       "      <th>19</th>\n",
       "      <td>0.664515</td>\n",
       "      <td>0.703410</td>\n",
       "      <td>0.330706</td>\n",
       "      <td>0.233882</td>\n",
       "      <td>0.160896</td>\n",
       "      <td>0.373187</td>\n",
       "      <td>0.758885</td>\n",
       "      <td>0.127118</td>\n",
       "      <td>0.312419</td>\n",
       "      <td>0.162028</td>\n",
       "      <td>0</td>\n",
       "      <td>0.667457</td>\n",
       "    </tr>\n",
       "    <tr>\n",
       "      <th>20</th>\n",
       "      <td>0.162825</td>\n",
       "      <td>0.674069</td>\n",
       "      <td>0.705447</td>\n",
       "      <td>0.774799</td>\n",
       "      <td>0.894267</td>\n",
       "      <td>0.443057</td>\n",
       "      <td>0.399779</td>\n",
       "      <td>0.009136</td>\n",
       "      <td>0.941851</td>\n",
       "      <td>0.982711</td>\n",
       "      <td>1</td>\n",
       "      <td>0.869600</td>\n",
       "    </tr>\n",
       "    <tr>\n",
       "      <th>21</th>\n",
       "      <td>0.729838</td>\n",
       "      <td>0.439146</td>\n",
       "      <td>0.131570</td>\n",
       "      <td>0.942077</td>\n",
       "      <td>0.797975</td>\n",
       "      <td>0.364697</td>\n",
       "      <td>0.799540</td>\n",
       "      <td>0.585000</td>\n",
       "      <td>0.488889</td>\n",
       "      <td>0.313987</td>\n",
       "      <td>0</td>\n",
       "      <td>0.441312</td>\n",
       "    </tr>\n",
       "    <tr>\n",
       "      <th>22</th>\n",
       "      <td>0.628374</td>\n",
       "      <td>0.746294</td>\n",
       "      <td>0.829249</td>\n",
       "      <td>0.724112</td>\n",
       "      <td>0.302080</td>\n",
       "      <td>0.526148</td>\n",
       "      <td>0.854241</td>\n",
       "      <td>0.596767</td>\n",
       "      <td>0.757508</td>\n",
       "      <td>0.674008</td>\n",
       "      <td>0</td>\n",
       "      <td>0.624052</td>\n",
       "    </tr>\n",
       "    <tr>\n",
       "      <th>23</th>\n",
       "      <td>0.057884</td>\n",
       "      <td>0.227162</td>\n",
       "      <td>0.022494</td>\n",
       "      <td>0.167069</td>\n",
       "      <td>0.631315</td>\n",
       "      <td>0.610103</td>\n",
       "      <td>0.277753</td>\n",
       "      <td>0.728503</td>\n",
       "      <td>0.716414</td>\n",
       "      <td>0.973370</td>\n",
       "      <td>1</td>\n",
       "      <td>0.774588</td>\n",
       "    </tr>\n",
       "    <tr>\n",
       "      <th>24</th>\n",
       "      <td>0.445535</td>\n",
       "      <td>0.640881</td>\n",
       "      <td>0.689264</td>\n",
       "      <td>0.937542</td>\n",
       "      <td>0.037016</td>\n",
       "      <td>0.316847</td>\n",
       "      <td>0.972312</td>\n",
       "      <td>0.224585</td>\n",
       "      <td>0.393000</td>\n",
       "      <td>0.857239</td>\n",
       "      <td>1</td>\n",
       "      <td>0.740623</td>\n",
       "    </tr>\n",
       "    <tr>\n",
       "      <th>25</th>\n",
       "      <td>0.801837</td>\n",
       "      <td>0.272857</td>\n",
       "      <td>0.109206</td>\n",
       "      <td>0.922978</td>\n",
       "      <td>0.656014</td>\n",
       "      <td>0.376589</td>\n",
       "      <td>0.735547</td>\n",
       "      <td>0.302567</td>\n",
       "      <td>0.988732</td>\n",
       "      <td>0.847391</td>\n",
       "      <td>1</td>\n",
       "      <td>0.764780</td>\n",
       "    </tr>\n",
       "    <tr>\n",
       "      <th>26</th>\n",
       "      <td>0.277096</td>\n",
       "      <td>0.376903</td>\n",
       "      <td>0.400168</td>\n",
       "      <td>0.327737</td>\n",
       "      <td>0.182600</td>\n",
       "      <td>0.280189</td>\n",
       "      <td>0.630646</td>\n",
       "      <td>0.210329</td>\n",
       "      <td>0.553328</td>\n",
       "      <td>0.080611</td>\n",
       "      <td>0</td>\n",
       "      <td>0.568347</td>\n",
       "    </tr>\n",
       "    <tr>\n",
       "      <th>27</th>\n",
       "      <td>0.228634</td>\n",
       "      <td>0.894235</td>\n",
       "      <td>0.507206</td>\n",
       "      <td>0.380223</td>\n",
       "      <td>0.836156</td>\n",
       "      <td>0.645174</td>\n",
       "      <td>0.516243</td>\n",
       "      <td>0.638386</td>\n",
       "      <td>0.102725</td>\n",
       "      <td>0.620343</td>\n",
       "      <td>0</td>\n",
       "      <td>0.491137</td>\n",
       "    </tr>\n",
       "    <tr>\n",
       "      <th>28</th>\n",
       "      <td>0.834861</td>\n",
       "      <td>0.973891</td>\n",
       "      <td>0.808398</td>\n",
       "      <td>0.222828</td>\n",
       "      <td>0.018934</td>\n",
       "      <td>0.708188</td>\n",
       "      <td>0.986392</td>\n",
       "      <td>0.545479</td>\n",
       "      <td>0.235898</td>\n",
       "      <td>0.844788</td>\n",
       "      <td>1</td>\n",
       "      <td>0.888876</td>\n",
       "    </tr>\n",
       "    <tr>\n",
       "      <th>29</th>\n",
       "      <td>0.669767</td>\n",
       "      <td>0.694779</td>\n",
       "      <td>0.191048</td>\n",
       "      <td>0.080716</td>\n",
       "      <td>0.441480</td>\n",
       "      <td>0.115675</td>\n",
       "      <td>0.054466</td>\n",
       "      <td>0.949300</td>\n",
       "      <td>0.318667</td>\n",
       "      <td>0.410017</td>\n",
       "      <td>1</td>\n",
       "      <td>0.825424</td>\n",
       "    </tr>\n",
       "    <tr>\n",
       "      <th>...</th>\n",
       "      <td>...</td>\n",
       "      <td>...</td>\n",
       "      <td>...</td>\n",
       "      <td>...</td>\n",
       "      <td>...</td>\n",
       "      <td>...</td>\n",
       "      <td>...</td>\n",
       "      <td>...</td>\n",
       "      <td>...</td>\n",
       "      <td>...</td>\n",
       "      <td>...</td>\n",
       "      <td>...</td>\n",
       "    </tr>\n",
       "    <tr>\n",
       "      <th>970</th>\n",
       "      <td>0.294840</td>\n",
       "      <td>0.585069</td>\n",
       "      <td>0.807763</td>\n",
       "      <td>0.161450</td>\n",
       "      <td>0.211258</td>\n",
       "      <td>0.093839</td>\n",
       "      <td>0.571983</td>\n",
       "      <td>0.580850</td>\n",
       "      <td>0.393022</td>\n",
       "      <td>0.656014</td>\n",
       "      <td>0</td>\n",
       "      <td>0.357850</td>\n",
       "    </tr>\n",
       "    <tr>\n",
       "      <th>971</th>\n",
       "      <td>0.705692</td>\n",
       "      <td>0.112177</td>\n",
       "      <td>0.663997</td>\n",
       "      <td>0.139862</td>\n",
       "      <td>0.920007</td>\n",
       "      <td>0.906847</td>\n",
       "      <td>0.750630</td>\n",
       "      <td>0.634295</td>\n",
       "      <td>0.647978</td>\n",
       "      <td>0.436654</td>\n",
       "      <td>0</td>\n",
       "      <td>0.453793</td>\n",
       "    </tr>\n",
       "    <tr>\n",
       "      <th>972</th>\n",
       "      <td>0.211918</td>\n",
       "      <td>0.856126</td>\n",
       "      <td>0.070427</td>\n",
       "      <td>0.583225</td>\n",
       "      <td>0.907497</td>\n",
       "      <td>0.889385</td>\n",
       "      <td>0.801044</td>\n",
       "      <td>0.648346</td>\n",
       "      <td>0.699338</td>\n",
       "      <td>0.394943</td>\n",
       "      <td>0</td>\n",
       "      <td>0.439998</td>\n",
       "    </tr>\n",
       "    <tr>\n",
       "      <th>973</th>\n",
       "      <td>0.063201</td>\n",
       "      <td>0.400726</td>\n",
       "      <td>0.903851</td>\n",
       "      <td>0.406240</td>\n",
       "      <td>0.225658</td>\n",
       "      <td>0.106074</td>\n",
       "      <td>0.903802</td>\n",
       "      <td>0.548935</td>\n",
       "      <td>0.891103</td>\n",
       "      <td>0.136162</td>\n",
       "      <td>0</td>\n",
       "      <td>0.437355</td>\n",
       "    </tr>\n",
       "    <tr>\n",
       "      <th>974</th>\n",
       "      <td>0.276700</td>\n",
       "      <td>0.581179</td>\n",
       "      <td>0.571278</td>\n",
       "      <td>0.072169</td>\n",
       "      <td>0.896689</td>\n",
       "      <td>0.952245</td>\n",
       "      <td>0.901554</td>\n",
       "      <td>0.689246</td>\n",
       "      <td>0.792970</td>\n",
       "      <td>0.329273</td>\n",
       "      <td>0</td>\n",
       "      <td>0.370760</td>\n",
       "    </tr>\n",
       "    <tr>\n",
       "      <th>975</th>\n",
       "      <td>0.672459</td>\n",
       "      <td>0.511892</td>\n",
       "      <td>0.435040</td>\n",
       "      <td>0.226821</td>\n",
       "      <td>0.806597</td>\n",
       "      <td>0.930941</td>\n",
       "      <td>0.191688</td>\n",
       "      <td>0.080500</td>\n",
       "      <td>0.349206</td>\n",
       "      <td>0.359001</td>\n",
       "      <td>0</td>\n",
       "      <td>0.399893</td>\n",
       "    </tr>\n",
       "    <tr>\n",
       "      <th>976</th>\n",
       "      <td>0.808206</td>\n",
       "      <td>0.841389</td>\n",
       "      <td>0.633951</td>\n",
       "      <td>0.503123</td>\n",
       "      <td>0.804177</td>\n",
       "      <td>0.860932</td>\n",
       "      <td>0.226067</td>\n",
       "      <td>0.270119</td>\n",
       "      <td>0.261800</td>\n",
       "      <td>0.574867</td>\n",
       "      <td>0</td>\n",
       "      <td>0.395034</td>\n",
       "    </tr>\n",
       "    <tr>\n",
       "      <th>977</th>\n",
       "      <td>0.296538</td>\n",
       "      <td>0.369732</td>\n",
       "      <td>0.590277</td>\n",
       "      <td>0.112758</td>\n",
       "      <td>0.195718</td>\n",
       "      <td>0.165550</td>\n",
       "      <td>0.567765</td>\n",
       "      <td>0.516389</td>\n",
       "      <td>0.408517</td>\n",
       "      <td>0.623059</td>\n",
       "      <td>0</td>\n",
       "      <td>0.343349</td>\n",
       "    </tr>\n",
       "    <tr>\n",
       "      <th>978</th>\n",
       "      <td>0.160127</td>\n",
       "      <td>0.800406</td>\n",
       "      <td>0.398444</td>\n",
       "      <td>0.863478</td>\n",
       "      <td>0.837672</td>\n",
       "      <td>0.899558</td>\n",
       "      <td>0.436551</td>\n",
       "      <td>0.673531</td>\n",
       "      <td>0.302354</td>\n",
       "      <td>0.771630</td>\n",
       "      <td>0</td>\n",
       "      <td>0.422183</td>\n",
       "    </tr>\n",
       "    <tr>\n",
       "      <th>979</th>\n",
       "      <td>0.439385</td>\n",
       "      <td>0.713612</td>\n",
       "      <td>0.306097</td>\n",
       "      <td>0.865955</td>\n",
       "      <td>0.230262</td>\n",
       "      <td>0.140354</td>\n",
       "      <td>0.175919</td>\n",
       "      <td>0.237217</td>\n",
       "      <td>0.223580</td>\n",
       "      <td>0.590675</td>\n",
       "      <td>0</td>\n",
       "      <td>0.363841</td>\n",
       "    </tr>\n",
       "    <tr>\n",
       "      <th>980</th>\n",
       "      <td>0.555951</td>\n",
       "      <td>0.283735</td>\n",
       "      <td>0.153922</td>\n",
       "      <td>0.813109</td>\n",
       "      <td>0.151434</td>\n",
       "      <td>0.183059</td>\n",
       "      <td>0.558736</td>\n",
       "      <td>0.663170</td>\n",
       "      <td>0.364227</td>\n",
       "      <td>0.707085</td>\n",
       "      <td>0</td>\n",
       "      <td>0.394203</td>\n",
       "    </tr>\n",
       "    <tr>\n",
       "      <th>981</th>\n",
       "      <td>0.386240</td>\n",
       "      <td>0.242926</td>\n",
       "      <td>0.178859</td>\n",
       "      <td>0.872446</td>\n",
       "      <td>0.809220</td>\n",
       "      <td>0.537070</td>\n",
       "      <td>0.956310</td>\n",
       "      <td>0.599172</td>\n",
       "      <td>0.920387</td>\n",
       "      <td>0.141029</td>\n",
       "      <td>0</td>\n",
       "      <td>0.416338</td>\n",
       "    </tr>\n",
       "    <tr>\n",
       "      <th>982</th>\n",
       "      <td>0.158690</td>\n",
       "      <td>0.237275</td>\n",
       "      <td>0.682426</td>\n",
       "      <td>0.366958</td>\n",
       "      <td>0.785488</td>\n",
       "      <td>0.555084</td>\n",
       "      <td>0.896773</td>\n",
       "      <td>0.731747</td>\n",
       "      <td>0.758292</td>\n",
       "      <td>0.392710</td>\n",
       "      <td>0</td>\n",
       "      <td>0.384882</td>\n",
       "    </tr>\n",
       "    <tr>\n",
       "      <th>983</th>\n",
       "      <td>0.214500</td>\n",
       "      <td>0.499864</td>\n",
       "      <td>0.812871</td>\n",
       "      <td>0.307910</td>\n",
       "      <td>0.937555</td>\n",
       "      <td>0.604461</td>\n",
       "      <td>0.235869</td>\n",
       "      <td>0.266443</td>\n",
       "      <td>0.276143</td>\n",
       "      <td>0.558061</td>\n",
       "      <td>0</td>\n",
       "      <td>0.371597</td>\n",
       "    </tr>\n",
       "    <tr>\n",
       "      <th>984</th>\n",
       "      <td>0.299579</td>\n",
       "      <td>0.384525</td>\n",
       "      <td>0.592180</td>\n",
       "      <td>0.067107</td>\n",
       "      <td>0.150639</td>\n",
       "      <td>0.106180</td>\n",
       "      <td>0.493598</td>\n",
       "      <td>0.680112</td>\n",
       "      <td>0.328136</td>\n",
       "      <td>0.747692</td>\n",
       "      <td>0</td>\n",
       "      <td>0.345538</td>\n",
       "    </tr>\n",
       "    <tr>\n",
       "      <th>985</th>\n",
       "      <td>0.569162</td>\n",
       "      <td>0.084294</td>\n",
       "      <td>0.639347</td>\n",
       "      <td>0.542296</td>\n",
       "      <td>0.901477</td>\n",
       "      <td>0.940967</td>\n",
       "      <td>0.255409</td>\n",
       "      <td>0.695081</td>\n",
       "      <td>0.208943</td>\n",
       "      <td>0.870679</td>\n",
       "      <td>0</td>\n",
       "      <td>0.466948</td>\n",
       "    </tr>\n",
       "    <tr>\n",
       "      <th>986</th>\n",
       "      <td>0.488615</td>\n",
       "      <td>0.024616</td>\n",
       "      <td>0.601601</td>\n",
       "      <td>0.639884</td>\n",
       "      <td>0.806708</td>\n",
       "      <td>0.487639</td>\n",
       "      <td>0.349057</td>\n",
       "      <td>0.544117</td>\n",
       "      <td>0.295269</td>\n",
       "      <td>0.743577</td>\n",
       "      <td>0</td>\n",
       "      <td>0.353444</td>\n",
       "    </tr>\n",
       "    <tr>\n",
       "      <th>987</th>\n",
       "      <td>0.878295</td>\n",
       "      <td>0.748962</td>\n",
       "      <td>0.568487</td>\n",
       "      <td>0.745517</td>\n",
       "      <td>0.139195</td>\n",
       "      <td>0.102361</td>\n",
       "      <td>0.205971</td>\n",
       "      <td>0.094097</td>\n",
       "      <td>0.357218</td>\n",
       "      <td>0.360233</td>\n",
       "      <td>0</td>\n",
       "      <td>0.395364</td>\n",
       "    </tr>\n",
       "    <tr>\n",
       "      <th>988</th>\n",
       "      <td>0.649381</td>\n",
       "      <td>0.336001</td>\n",
       "      <td>0.261147</td>\n",
       "      <td>0.810581</td>\n",
       "      <td>0.296225</td>\n",
       "      <td>0.085464</td>\n",
       "      <td>0.231399</td>\n",
       "      <td>0.175404</td>\n",
       "      <td>0.332651</td>\n",
       "      <td>0.439911</td>\n",
       "      <td>0</td>\n",
       "      <td>0.403369</td>\n",
       "    </tr>\n",
       "    <tr>\n",
       "      <th>989</th>\n",
       "      <td>0.465713</td>\n",
       "      <td>0.305747</td>\n",
       "      <td>0.865416</td>\n",
       "      <td>0.229325</td>\n",
       "      <td>0.162482</td>\n",
       "      <td>0.121197</td>\n",
       "      <td>0.804117</td>\n",
       "      <td>0.624310</td>\n",
       "      <td>0.719397</td>\n",
       "      <td>0.358621</td>\n",
       "      <td>0</td>\n",
       "      <td>0.327268</td>\n",
       "    </tr>\n",
       "    <tr>\n",
       "      <th>990</th>\n",
       "      <td>0.168138</td>\n",
       "      <td>0.792278</td>\n",
       "      <td>0.394959</td>\n",
       "      <td>0.619092</td>\n",
       "      <td>0.163022</td>\n",
       "      <td>0.094084</td>\n",
       "      <td>0.215489</td>\n",
       "      <td>0.231208</td>\n",
       "      <td>0.275478</td>\n",
       "      <td>0.534818</td>\n",
       "      <td>0</td>\n",
       "      <td>0.363315</td>\n",
       "    </tr>\n",
       "    <tr>\n",
       "      <th>991</th>\n",
       "      <td>0.875295</td>\n",
       "      <td>0.782866</td>\n",
       "      <td>0.793565</td>\n",
       "      <td>0.208893</td>\n",
       "      <td>0.775079</td>\n",
       "      <td>0.519371</td>\n",
       "      <td>0.872406</td>\n",
       "      <td>0.538987</td>\n",
       "      <td>0.859932</td>\n",
       "      <td>0.160512</td>\n",
       "      <td>0</td>\n",
       "      <td>0.319085</td>\n",
       "    </tr>\n",
       "    <tr>\n",
       "      <th>992</th>\n",
       "      <td>0.841132</td>\n",
       "      <td>0.155188</td>\n",
       "      <td>0.592404</td>\n",
       "      <td>0.190720</td>\n",
       "      <td>0.863543</td>\n",
       "      <td>0.445444</td>\n",
       "      <td>0.880586</td>\n",
       "      <td>0.678148</td>\n",
       "      <td>0.775182</td>\n",
       "      <td>0.339491</td>\n",
       "      <td>0</td>\n",
       "      <td>0.354029</td>\n",
       "    </tr>\n",
       "    <tr>\n",
       "      <th>993</th>\n",
       "      <td>0.332921</td>\n",
       "      <td>0.301362</td>\n",
       "      <td>0.251237</td>\n",
       "      <td>0.851209</td>\n",
       "      <td>0.151266</td>\n",
       "      <td>0.189643</td>\n",
       "      <td>0.804999</td>\n",
       "      <td>0.677735</td>\n",
       "      <td>0.684131</td>\n",
       "      <td>0.430055</td>\n",
       "      <td>0</td>\n",
       "      <td>0.427370</td>\n",
       "    </tr>\n",
       "    <tr>\n",
       "      <th>994</th>\n",
       "      <td>0.513048</td>\n",
       "      <td>0.262604</td>\n",
       "      <td>0.081283</td>\n",
       "      <td>0.439154</td>\n",
       "      <td>0.151183</td>\n",
       "      <td>0.065230</td>\n",
       "      <td>0.387066</td>\n",
       "      <td>0.470679</td>\n",
       "      <td>0.333616</td>\n",
       "      <td>0.685385</td>\n",
       "      <td>0</td>\n",
       "      <td>0.425235</td>\n",
       "    </tr>\n",
       "    <tr>\n",
       "      <th>995</th>\n",
       "      <td>0.305055</td>\n",
       "      <td>0.656837</td>\n",
       "      <td>0.331665</td>\n",
       "      <td>0.822525</td>\n",
       "      <td>0.907127</td>\n",
       "      <td>0.882276</td>\n",
       "      <td>0.855732</td>\n",
       "      <td>0.584786</td>\n",
       "      <td>0.808640</td>\n",
       "      <td>0.242762</td>\n",
       "      <td>0</td>\n",
       "      <td>0.294537</td>\n",
       "    </tr>\n",
       "    <tr>\n",
       "      <th>996</th>\n",
       "      <td>0.812627</td>\n",
       "      <td>0.864258</td>\n",
       "      <td>0.616604</td>\n",
       "      <td>0.167966</td>\n",
       "      <td>0.811223</td>\n",
       "      <td>0.938071</td>\n",
       "      <td>0.418462</td>\n",
       "      <td>0.472306</td>\n",
       "      <td>0.348347</td>\n",
       "      <td>0.671129</td>\n",
       "      <td>0</td>\n",
       "      <td>0.414982</td>\n",
       "    </tr>\n",
       "    <tr>\n",
       "      <th>997</th>\n",
       "      <td>0.250967</td>\n",
       "      <td>0.138627</td>\n",
       "      <td>0.919703</td>\n",
       "      <td>0.461234</td>\n",
       "      <td>0.886555</td>\n",
       "      <td>0.869888</td>\n",
       "      <td>0.800908</td>\n",
       "      <td>0.530324</td>\n",
       "      <td>0.779433</td>\n",
       "      <td>0.234952</td>\n",
       "      <td>0</td>\n",
       "      <td>0.361396</td>\n",
       "    </tr>\n",
       "    <tr>\n",
       "      <th>998</th>\n",
       "      <td>0.502436</td>\n",
       "      <td>0.936820</td>\n",
       "      <td>0.580062</td>\n",
       "      <td>0.540773</td>\n",
       "      <td>0.151995</td>\n",
       "      <td>0.059452</td>\n",
       "      <td>0.225220</td>\n",
       "      <td>0.242755</td>\n",
       "      <td>0.279385</td>\n",
       "      <td>0.538755</td>\n",
       "      <td>0</td>\n",
       "      <td>0.337370</td>\n",
       "    </tr>\n",
       "    <tr>\n",
       "      <th>999</th>\n",
       "      <td>0.457991</td>\n",
       "      <td>0.017755</td>\n",
       "      <td>0.714113</td>\n",
       "      <td>0.125992</td>\n",
       "      <td>0.063316</td>\n",
       "      <td>0.154739</td>\n",
       "      <td>0.922974</td>\n",
       "      <td>0.692299</td>\n",
       "      <td>0.816777</td>\n",
       "      <td>0.307592</td>\n",
       "      <td>0</td>\n",
       "      <td>0.377357</td>\n",
       "    </tr>\n",
       "  </tbody>\n",
       "</table>\n",
       "<p>1000 rows × 12 columns</p>\n",
       "</div>"
      ],
      "text/plain": [
       "         Col1      Col2      Col3      Col4      Col5      Col6      Col7  \\\n",
       "0    0.263995  0.764929  0.138424  0.935242  0.605867  0.518790  0.912225   \n",
       "1    0.546092  0.653975  0.065575  0.227772  0.845269  0.837066  0.272379   \n",
       "2    0.336714  0.538842  0.192801  0.553563  0.074515  0.332993  0.365792   \n",
       "3    0.092108  0.995017  0.014465  0.176371  0.241530  0.514724  0.562208   \n",
       "4    0.325261  0.805968  0.957033  0.331665  0.307923  0.355315  0.501899   \n",
       "5    0.212465  0.780305  0.458444  0.634509  0.373030  0.465651  0.413997   \n",
       "6    0.258566  0.437318  0.559648  0.109203  0.994553  0.896994  0.488469   \n",
       "7    0.869237  0.277979  0.423076  0.112472  0.183727  0.034960  0.111114   \n",
       "8    0.197078  0.843918  0.243396  0.281278  0.329148  0.734582  0.191947   \n",
       "9    0.292985  0.703432  0.439621  0.107868  0.922947  0.253458  0.295652   \n",
       "10   0.821783  0.087778  0.439292  0.521600  0.437606  0.172574  0.117117   \n",
       "11   0.796623  0.230543  0.993018  0.077075  0.094068  0.718628  0.977611   \n",
       "12   0.045577  0.335215  0.657812  0.723783  0.352304  0.069137  0.355386   \n",
       "13   0.613660  0.709061  0.726767  0.862584  0.593116  0.474138  0.941633   \n",
       "14   0.950745  0.005154  0.084187  0.478148  0.212836  0.714347  0.664819   \n",
       "15   0.336346  0.252265  0.212287  0.020201  0.203514  0.534468  0.476263   \n",
       "16   0.034441  0.193546  0.758742  0.921457  0.461482  0.052933  0.411735   \n",
       "17   0.741544  0.398253  0.766472  0.635670  0.261735  0.837371  0.001797   \n",
       "18   0.184433  0.174112  0.301976  0.895893  0.285614  0.615993  0.197073   \n",
       "19   0.664515  0.703410  0.330706  0.233882  0.160896  0.373187  0.758885   \n",
       "20   0.162825  0.674069  0.705447  0.774799  0.894267  0.443057  0.399779   \n",
       "21   0.729838  0.439146  0.131570  0.942077  0.797975  0.364697  0.799540   \n",
       "22   0.628374  0.746294  0.829249  0.724112  0.302080  0.526148  0.854241   \n",
       "23   0.057884  0.227162  0.022494  0.167069  0.631315  0.610103  0.277753   \n",
       "24   0.445535  0.640881  0.689264  0.937542  0.037016  0.316847  0.972312   \n",
       "25   0.801837  0.272857  0.109206  0.922978  0.656014  0.376589  0.735547   \n",
       "26   0.277096  0.376903  0.400168  0.327737  0.182600  0.280189  0.630646   \n",
       "27   0.228634  0.894235  0.507206  0.380223  0.836156  0.645174  0.516243   \n",
       "28   0.834861  0.973891  0.808398  0.222828  0.018934  0.708188  0.986392   \n",
       "29   0.669767  0.694779  0.191048  0.080716  0.441480  0.115675  0.054466   \n",
       "..        ...       ...       ...       ...       ...       ...       ...   \n",
       "970  0.294840  0.585069  0.807763  0.161450  0.211258  0.093839  0.571983   \n",
       "971  0.705692  0.112177  0.663997  0.139862  0.920007  0.906847  0.750630   \n",
       "972  0.211918  0.856126  0.070427  0.583225  0.907497  0.889385  0.801044   \n",
       "973  0.063201  0.400726  0.903851  0.406240  0.225658  0.106074  0.903802   \n",
       "974  0.276700  0.581179  0.571278  0.072169  0.896689  0.952245  0.901554   \n",
       "975  0.672459  0.511892  0.435040  0.226821  0.806597  0.930941  0.191688   \n",
       "976  0.808206  0.841389  0.633951  0.503123  0.804177  0.860932  0.226067   \n",
       "977  0.296538  0.369732  0.590277  0.112758  0.195718  0.165550  0.567765   \n",
       "978  0.160127  0.800406  0.398444  0.863478  0.837672  0.899558  0.436551   \n",
       "979  0.439385  0.713612  0.306097  0.865955  0.230262  0.140354  0.175919   \n",
       "980  0.555951  0.283735  0.153922  0.813109  0.151434  0.183059  0.558736   \n",
       "981  0.386240  0.242926  0.178859  0.872446  0.809220  0.537070  0.956310   \n",
       "982  0.158690  0.237275  0.682426  0.366958  0.785488  0.555084  0.896773   \n",
       "983  0.214500  0.499864  0.812871  0.307910  0.937555  0.604461  0.235869   \n",
       "984  0.299579  0.384525  0.592180  0.067107  0.150639  0.106180  0.493598   \n",
       "985  0.569162  0.084294  0.639347  0.542296  0.901477  0.940967  0.255409   \n",
       "986  0.488615  0.024616  0.601601  0.639884  0.806708  0.487639  0.349057   \n",
       "987  0.878295  0.748962  0.568487  0.745517  0.139195  0.102361  0.205971   \n",
       "988  0.649381  0.336001  0.261147  0.810581  0.296225  0.085464  0.231399   \n",
       "989  0.465713  0.305747  0.865416  0.229325  0.162482  0.121197  0.804117   \n",
       "990  0.168138  0.792278  0.394959  0.619092  0.163022  0.094084  0.215489   \n",
       "991  0.875295  0.782866  0.793565  0.208893  0.775079  0.519371  0.872406   \n",
       "992  0.841132  0.155188  0.592404  0.190720  0.863543  0.445444  0.880586   \n",
       "993  0.332921  0.301362  0.251237  0.851209  0.151266  0.189643  0.804999   \n",
       "994  0.513048  0.262604  0.081283  0.439154  0.151183  0.065230  0.387066   \n",
       "995  0.305055  0.656837  0.331665  0.822525  0.907127  0.882276  0.855732   \n",
       "996  0.812627  0.864258  0.616604  0.167966  0.811223  0.938071  0.418462   \n",
       "997  0.250967  0.138627  0.919703  0.461234  0.886555  0.869888  0.800908   \n",
       "998  0.502436  0.936820  0.580062  0.540773  0.151995  0.059452  0.225220   \n",
       "999  0.457991  0.017755  0.714113  0.125992  0.063316  0.154739  0.922974   \n",
       "\n",
       "         Col8      Col9     Col10  Label     Score  \n",
       "0    0.608234  0.723782  0.733591      0  0.569672  \n",
       "1    0.331679  0.429297  0.367422      0  0.484217  \n",
       "2    0.861309  0.899017  0.088600      1  0.691915  \n",
       "3    0.158963  0.073715  0.208463      1  0.811600  \n",
       "4    0.558449  0.885169  0.182754      0  0.634337  \n",
       "5    0.013080  0.570250  0.736672      0  0.651934  \n",
       "6    0.251943  0.017265  0.538513      0  0.536723  \n",
       "7    0.249330  0.550683  0.049843      0  0.643990  \n",
       "8    0.927804  0.713269  0.891548      1  0.855695  \n",
       "9    0.355287  0.980911  0.308864      1  0.740711  \n",
       "10   0.594212  0.456008  0.441427      0  0.652276  \n",
       "11   0.333386  0.634843  0.028729      1  0.838220  \n",
       "12   0.448042  0.426716  0.894023      0  0.589028  \n",
       "13   0.788438  0.323293  0.931074      1  0.693679  \n",
       "14   0.803558  0.465466  0.305692      1  0.822263  \n",
       "15   0.845669  0.155377  0.442781      1  0.723675  \n",
       "16   0.301823  0.387138  0.571518      0  0.594479  \n",
       "17   0.568841  0.037360  0.292769      1  0.798217  \n",
       "18   0.738881  0.831371  0.265761      1  0.809304  \n",
       "19   0.127118  0.312419  0.162028      0  0.667457  \n",
       "20   0.009136  0.941851  0.982711      1  0.869600  \n",
       "21   0.585000  0.488889  0.313987      0  0.441312  \n",
       "22   0.596767  0.757508  0.674008      0  0.624052  \n",
       "23   0.728503  0.716414  0.973370      1  0.774588  \n",
       "24   0.224585  0.393000  0.857239      1  0.740623  \n",
       "25   0.302567  0.988732  0.847391      1  0.764780  \n",
       "26   0.210329  0.553328  0.080611      0  0.568347  \n",
       "27   0.638386  0.102725  0.620343      0  0.491137  \n",
       "28   0.545479  0.235898  0.844788      1  0.888876  \n",
       "29   0.949300  0.318667  0.410017      1  0.825424  \n",
       "..        ...       ...       ...    ...       ...  \n",
       "970  0.580850  0.393022  0.656014      0  0.357850  \n",
       "971  0.634295  0.647978  0.436654      0  0.453793  \n",
       "972  0.648346  0.699338  0.394943      0  0.439998  \n",
       "973  0.548935  0.891103  0.136162      0  0.437355  \n",
       "974  0.689246  0.792970  0.329273      0  0.370760  \n",
       "975  0.080500  0.349206  0.359001      0  0.399893  \n",
       "976  0.270119  0.261800  0.574867      0  0.395034  \n",
       "977  0.516389  0.408517  0.623059      0  0.343349  \n",
       "978  0.673531  0.302354  0.771630      0  0.422183  \n",
       "979  0.237217  0.223580  0.590675      0  0.363841  \n",
       "980  0.663170  0.364227  0.707085      0  0.394203  \n",
       "981  0.599172  0.920387  0.141029      0  0.416338  \n",
       "982  0.731747  0.758292  0.392710      0  0.384882  \n",
       "983  0.266443  0.276143  0.558061      0  0.371597  \n",
       "984  0.680112  0.328136  0.747692      0  0.345538  \n",
       "985  0.695081  0.208943  0.870679      0  0.466948  \n",
       "986  0.544117  0.295269  0.743577      0  0.353444  \n",
       "987  0.094097  0.357218  0.360233      0  0.395364  \n",
       "988  0.175404  0.332651  0.439911      0  0.403369  \n",
       "989  0.624310  0.719397  0.358621      0  0.327268  \n",
       "990  0.231208  0.275478  0.534818      0  0.363315  \n",
       "991  0.538987  0.859932  0.160512      0  0.319085  \n",
       "992  0.678148  0.775182  0.339491      0  0.354029  \n",
       "993  0.677735  0.684131  0.430055      0  0.427370  \n",
       "994  0.470679  0.333616  0.685385      0  0.425235  \n",
       "995  0.584786  0.808640  0.242762      0  0.294537  \n",
       "996  0.472306  0.348347  0.671129      0  0.414982  \n",
       "997  0.530324  0.779433  0.234952      0  0.361396  \n",
       "998  0.242755  0.279385  0.538755      0  0.337370  \n",
       "999  0.692299  0.816777  0.307592      0  0.377357  \n",
       "\n",
       "[1000 rows x 12 columns]"
      ]
     },
     "execution_count": 29,
     "metadata": {},
     "output_type": "execute_result"
    }
   ],
   "source": [
    "# create a model\n",
    "knn = create_model('knn')\n",
    "knn_assign = assign_model(knn)\n",
    "knn_assign"
   ]
  },
  {
   "cell_type": "code",
   "execution_count": 30,
   "metadata": {},
   "outputs": [
    {
     "data": {
      "text/html": [
       "        <script type=\"text/javascript\">\n",
       "        window.PlotlyConfig = {MathJaxConfig: 'local'};\n",
       "        if (window.MathJax) {MathJax.Hub.Config({SVG: {font: \"STIX-Web\"}});}\n",
       "        if (typeof require !== 'undefined') {\n",
       "        require.undef(\"plotly\");\n",
       "        requirejs.config({\n",
       "            paths: {\n",
       "                'plotly': ['https://cdn.plot.ly/plotly-latest.min']\n",
       "            }\n",
       "        });\n",
       "        require(['plotly'], function(Plotly) {\n",
       "            window._Plotly = Plotly;\n",
       "        });\n",
       "        }\n",
       "        </script>\n",
       "        "
      ]
     },
     "metadata": {},
     "output_type": "display_data"
    },
    {
     "data": {
      "application/vnd.plotly.v1+json": {
       "config": {
        "plotlyServerURL": "https://plot.ly"
       },
       "data": [
        {
         "customdata": [
          [
           0.263995357
          ],
          [
           0.546092303
          ],
          [
           0.33671410399999996
          ],
          [
           0.092107835
          ],
          [
           0.325261175
          ],
          [
           0.212464853
          ],
          [
           0.258565714
          ],
          [
           0.869236755
          ],
          [
           0.197077957
          ],
          [
           0.292984504
          ],
          [
           0.82178316
          ],
          [
           0.796622959
          ],
          [
           0.045577010999999994
          ],
          [
           0.613660351
          ],
          [
           0.9507445659999999
          ],
          [
           0.33634633700000005
          ],
          [
           0.034440667
          ],
          [
           0.741544275
          ],
          [
           0.18443265
          ],
          [
           0.664514943
          ],
          [
           0.16282485800000002
          ],
          [
           0.729838445
          ],
          [
           0.62837389
          ],
          [
           0.057883660999999996
          ],
          [
           0.445534827
          ],
          [
           0.80183695
          ],
          [
           0.27709612
          ],
          [
           0.228634015
          ],
          [
           0.834860657
          ],
          [
           0.6697665110000001
          ],
          [
           0.532527349
          ],
          [
           0.17045907100000002
          ],
          [
           0.5102884679999999
          ],
          [
           0.977561989
          ],
          [
           0.249775993
          ],
          [
           0.9755006820000001
          ],
          [
           0.613701727
          ],
          [
           0.16742036300000002
          ],
          [
           0.537472516
          ],
          [
           0.379899131
          ],
          [
           0.633897303
          ],
          [
           0.633960424
          ],
          [
           0.5499746529999999
          ],
          [
           0.178172988
          ],
          [
           0.85563814
          ],
          [
           0.321796672
          ],
          [
           0.8174905370000001
          ],
          [
           0.254879417
          ],
          [
           0.344140513
          ],
          [
           0.8061457259999999
          ],
          [
           0.27708167100000003
          ],
          [
           0.544328519
          ],
          [
           0.07708393
          ],
          [
           0.273081458
          ],
          [
           0.390877336
          ],
          [
           0.349621385
          ],
          [
           0.214549744
          ],
          [
           0.206075222
          ],
          [
           0.86461997
          ],
          [
           0.9817088540000001
          ],
          [
           0.33482964600000004
          ],
          [
           0.648387061
          ],
          [
           0.093643561
          ],
          [
           0.837802698
          ],
          [
           0.7603439670000001
          ],
          [
           0.29140417399999996
          ],
          [
           0.3413454
          ],
          [
           0.7611124840000001
          ],
          [
           0.541899775
          ],
          [
           0.684176639
          ],
          [
           0.983535597
          ],
          [
           0.52081245
          ],
          [
           0.328227724
          ],
          [
           0.09715793800000001
          ],
          [
           0.876088593
          ],
          [
           0.870214512
          ],
          [
           0.656086992
          ],
          [
           0.306791514
          ],
          [
           0.48126734
          ],
          [
           0.259559174
          ],
          [
           0.326123655
          ],
          [
           0.930568042
          ],
          [
           0.6583894
          ],
          [
           0.689992335
          ],
          [
           0.315781109
          ],
          [
           0.5669050929999999
          ],
          [
           0.637526619
          ],
          [
           0.687540723
          ],
          [
           0.324300602
          ],
          [
           0.592704906
          ],
          [
           0.7402531259999999
          ],
          [
           0.5940328770000001
          ],
          [
           0.596452977
          ],
          [
           0.27768081699999997
          ],
          [
           0.258329663
          ],
          [
           0.142460864
          ],
          [
           0.435533461
          ],
          [
           0.7024990440000001
          ],
          [
           0.58897535
          ],
          [
           0.653304374
          ],
          [
           0.336968524
          ],
          [
           0.631244736
          ],
          [
           0.73530076
          ],
          [
           0.050390366
          ],
          [
           0.064264924
          ],
          [
           0.665359476
          ],
          [
           0.917835245
          ],
          [
           0.44651012
          ],
          [
           0.661938199
          ],
          [
           0.43935985299999997
          ],
          [
           0.6875724040000001
          ],
          [
           0.363462248
          ],
          [
           0.6542621820000001
          ],
          [
           0.578553536
          ],
          [
           0.065927945
          ],
          [
           0.550148559
          ],
          [
           0.13918281400000002
          ],
          [
           0.080004635
          ],
          [
           0.278228358
          ],
          [
           0.560124266
          ],
          [
           0.53639864
          ],
          [
           0.42653190399999996
          ],
          [
           0.789109796
          ],
          [
           0.742900474
          ],
          [
           0.901692589
          ],
          [
           0.650337401
          ],
          [
           0.114057311
          ],
          [
           0.260812592
          ],
          [
           0.43991232
          ],
          [
           0.964409284
          ],
          [
           0.184401415
          ],
          [
           0.345145446
          ],
          [
           0.17589458100000002
          ],
          [
           0.312514453
          ],
          [
           0.674131879
          ],
          [
           0.32825045
          ],
          [
           0.598231057
          ],
          [
           0.09259881699999999
          ],
          [
           0.497916521
          ],
          [
           0.419776521
          ],
          [
           0.31217670000000003
          ],
          [
           0.937857107
          ],
          [
           0.049030963
          ],
          [
           0.47610452600000003
          ],
          [
           0.447397526
          ],
          [
           0.295806058
          ],
          [
           0.737363977
          ],
          [
           0.625896253
          ],
          [
           0.408813429
          ],
          [
           0.437511156
          ],
          [
           0.691351375
          ],
          [
           0.935555275
          ],
          [
           0.437846654
          ],
          [
           0.072217715
          ],
          [
           0.67636067
          ],
          [
           0.468883999
          ],
          [
           0.543820644
          ],
          [
           0.6555226470000001
          ],
          [
           0.6935289240000001
          ],
          [
           0.10887831199999999
          ],
          [
           0.285463743
          ],
          [
           0
          ],
          [
           0.706495497
          ],
          [
           0.273530633
          ],
          [
           0.292320271
          ],
          [
           0.673984307
          ],
          [
           0.12612182800000002
          ],
          [
           0.9467074590000001
          ],
          [
           0.9363388979999999
          ],
          [
           0.8537553640000001
          ],
          [
           0.7060713609999999
          ],
          [
           0.693682186
          ],
          [
           0.508527882
          ],
          [
           0.34717038899999997
          ],
          [
           0.704154263
          ],
          [
           0.658730088
          ],
          [
           0.155841557
          ],
          [
           0.311085435
          ],
          [
           0.281135347
          ],
          [
           0.094587802
          ],
          [
           0.6832609540000001
          ],
          [
           0.9077292509999999
          ],
          [
           0.29151267399999997
          ],
          [
           0.752734459
          ],
          [
           0.93482964
          ],
          [
           0.071413953
          ],
          [
           0.5948963270000001
          ],
          [
           0.404672015
          ],
          [
           0.13837621
          ],
          [
           0.7473384679999999
          ],
          [
           0.530882486
          ],
          [
           0.282649594
          ],
          [
           0.699335734
          ],
          [
           0.056111250999999994
          ],
          [
           0.855234998
          ],
          [
           0.07789512700000001
          ],
          [
           0.891649583
          ],
          [
           0.38674227899999997
          ],
          [
           0.27113158
          ],
          [
           0.958888961
          ],
          [
           0.085120869
          ],
          [
           0.5269022489999999
          ],
          [
           0.066577785
          ],
          [
           0.841506738
          ],
          [
           0.255342095
          ],
          [
           0.060545771
          ],
          [
           0.073385869
          ],
          [
           0.187493723
          ],
          [
           0.858365688
          ],
          [
           0.090640352
          ],
          [
           0.7097252270000001
          ],
          [
           0.631300647
          ],
          [
           0.24750447399999997
          ],
          [
           0.822843584
          ],
          [
           0.373476759
          ],
          [
           0.625538582
          ],
          [
           0.292951715
          ],
          [
           0.299730324
          ],
          [
           0.25121407
          ],
          [
           0.344480551
          ],
          [
           0.293064767
          ],
          [
           0.7628032240000001
          ],
          [
           0.7384708040000001
          ],
          [
           0.674883265
          ],
          [
           0.719151612
          ],
          [
           0.13098021599999998
          ],
          [
           0.511328036
          ],
          [
           0.04492903
          ],
          [
           0.560914449
          ],
          [
           0.7440406409999999
          ],
          [
           0.266961634
          ],
          [
           0.644231853
          ],
          [
           0.038113352
          ],
          [
           0.05715529900000001
          ],
          [
           0.34139246100000004
          ],
          [
           0.7204636320000001
          ],
          [
           0.402878236
          ],
          [
           0.635148967
          ],
          [
           0.320729467
          ],
          [
           0.09120969400000001
          ],
          [
           0.23414609
          ],
          [
           0.8902211309999999
          ],
          [
           0.602170884
          ],
          [
           0.633652055
          ],
          [
           0.806240837
          ],
          [
           0.739731184
          ],
          [
           0.465231269
          ],
          [
           0.7321109
          ],
          [
           0.373874305
          ],
          [
           0.501587947
          ],
          [
           0.11538315800000001
          ],
          [
           0.7319466040000001
          ],
          [
           0.41829872799999995
          ],
          [
           0.062259590999999996
          ],
          [
           0.391496379
          ],
          [
           0.35984929
          ],
          [
           0.24523562699999998
          ],
          [
           0.610028339
          ],
          [
           0.43540360200000006
          ],
          [
           0.434309675
          ],
          [
           0.523763344
          ],
          [
           0.17118786600000002
          ],
          [
           0.18773430300000002
          ],
          [
           0.945014638
          ],
          [
           0.027851097000000002
          ],
          [
           0.68445706
          ],
          [
           0.178014532
          ],
          [
           0.643427879
          ],
          [
           0.59588355
          ],
          [
           0.372361682
          ],
          [
           0.586103584
          ],
          [
           0.271658852
          ],
          [
           0.59951107
          ],
          [
           0.468363088
          ],
          [
           0.314515565
          ],
          [
           0.21893726
          ],
          [
           0.254716562
          ],
          [
           0.25612815
          ],
          [
           0.602259755
          ],
          [
           0.134381075
          ],
          [
           0.513887424
          ],
          [
           0.624241636
          ],
          [
           0.160251854
          ],
          [
           0.580708108
          ],
          [
           0.270540486
          ],
          [
           0.832919932
          ],
          [
           0.93032134
          ],
          [
           0.719157884
          ],
          [
           0.886720033
          ],
          [
           0.098792281
          ],
          [
           0.787174286
          ],
          [
           0.365592376
          ],
          [
           0.719576193
          ],
          [
           0.8058956
          ],
          [
           0.7555783340000001
          ],
          [
           0.526005909
          ],
          [
           0.68880424
          ],
          [
           0.22111531199999998
          ],
          [
           0.739369477
          ],
          [
           0.408440236
          ],
          [
           0.348926542
          ],
          [
           0.433713763
          ],
          [
           0.5964966070000001
          ],
          [
           0.6942953000000001
          ],
          [
           0.7090309659999999
          ],
          [
           0.867652984
          ],
          [
           0.89332545
          ],
          [
           0.746020922
          ],
          [
           0.538284443
          ],
          [
           0.8922193140000001
          ],
          [
           0.935175765
          ],
          [
           0.260527707
          ],
          [
           0.956780449
          ],
          [
           0.204932484
          ],
          [
           0.687733351
          ],
          [
           0.329063619
          ],
          [
           0.632149831
          ],
          [
           0.463744506
          ],
          [
           0.698859621
          ],
          [
           0.385446564
          ],
          [
           0.47997537700000004
          ],
          [
           0.732279108
          ],
          [
           0.3813543
          ],
          [
           0.459326013
          ],
          [
           0.257401434
          ],
          [
           0.665014804
          ],
          [
           0.103399542
          ],
          [
           0.425284413
          ],
          [
           0.943529051
          ],
          [
           0.594750236
          ],
          [
           0.543776817
          ],
          [
           0.18203988
          ],
          [
           0.23584208399999998
          ],
          [
           0.585984497
          ],
          [
           0.762013168
          ],
          [
           0.6849829070000001
          ],
          [
           0.676936933
          ],
          [
           0.290184964
          ],
          [
           0.48106822200000005
          ],
          [
           0.492766033
          ],
          [
           0.22185623399999999
          ],
          [
           0.053875998
          ],
          [
           0.082751144
          ],
          [
           0.385366225
          ],
          [
           0.702513961
          ],
          [
           0.91553156
          ],
          [
           0.082087436
          ],
          [
           0.251280378
          ],
          [
           0.41672181700000005
          ],
          [
           0.277032672
          ],
          [
           0.579539754
          ],
          [
           0.569363476
          ],
          [
           0.133399703
          ],
          [
           0.265045463
          ],
          [
           0.936571901
          ],
          [
           0.252618554
          ],
          [
           0.054033081
          ],
          [
           0.802481439
          ],
          [
           0.528197693
          ],
          [
           0.9515026
          ],
          [
           0.572121173
          ],
          [
           0.752938227
          ],
          [
           0.143857535
          ],
          [
           0.513484576
          ],
          [
           0.313322389
          ],
          [
           0.6877973959999999
          ],
          [
           0.37705984
          ],
          [
           0.348226142
          ],
          [
           0.67763282
          ],
          [
           0.24138752100000002
          ],
          [
           0.8506501790000001
          ],
          [
           0.22034810300000002
          ],
          [
           0.476445464
          ],
          [
           0.690324025
          ],
          [
           0.364695946
          ],
          [
           0.6492491970000001
          ],
          [
           0.9437019209999999
          ],
          [
           0.529645971
          ],
          [
           0.299097002
          ],
          [
           0.96696247
          ],
          [
           0.272005242
          ],
          [
           0.314161447
          ],
          [
           0.752020991
          ],
          [
           0.221882453
          ],
          [
           0.7203326729999999
          ],
          [
           0.379204782
          ],
          [
           0.60168653
          ],
          [
           0.582932673
          ],
          [
           0.950809853
          ],
          [
           0.58830141
          ],
          [
           0.880887227
          ],
          [
           0.467857701
          ],
          [
           0.8799021709999999
          ],
          [
           0.619844009
          ],
          [
           0.359002573
          ],
          [
           0.291511278
          ],
          [
           0.694157143
          ],
          [
           0.727960353
          ],
          [
           0.617703921
          ],
          [
           0.39581257
          ],
          [
           0.58317282
          ],
          [
           0.710332374
          ],
          [
           0.253753693
          ],
          [
           0.049412227999999996
          ],
          [
           0.728378695
          ],
          [
           0.432432881
          ],
          [
           0.58612345
          ],
          [
           0.052342373
          ],
          [
           0.053483902
          ],
          [
           0.518729378
          ],
          [
           0.933040208
          ],
          [
           0.7035542840000001
          ],
          [
           0.268989899
          ],
          [
           0.733006927
          ],
          [
           0.44435246700000003
          ],
          [
           0.5833946210000001
          ],
          [
           0.871172692
          ],
          [
           0.42876707799999997
          ],
          [
           0.30046084100000003
          ],
          [
           0.9533294590000001
          ],
          [
           0.606443965
          ],
          [
           0.90986815
          ],
          [
           0.714896449
          ],
          [
           0.49734950899999997
          ],
          [
           0.8530974859999999
          ],
          [
           0.721804145
          ],
          [
           0.303467328
          ],
          [
           0.664485096
          ],
          [
           0.27978062
          ],
          [
           0.569481665
          ],
          [
           0.628628926
          ],
          [
           0.088368123
          ],
          [
           0.733567326
          ],
          [
           0.537436778
          ],
          [
           0.638593691
          ],
          [
           0.954726948
          ],
          [
           0.632202332
          ],
          [
           0.642134651
          ],
          [
           0.744653087
          ],
          [
           0.115714007
          ],
          [
           0.48625007299999995
          ],
          [
           0.440356144
          ],
          [
           0.08272289
          ],
          [
           0.511591027
          ],
          [
           0.394627555
          ],
          [
           0.224394
          ],
          [
           0.626927584
          ],
          [
           0.290254057
          ],
          [
           0.779008053
          ],
          [
           0.86610579
          ],
          [
           0.873326081
          ],
          [
           0.49548916
          ],
          [
           0.594297695
          ],
          [
           0.9182015840000001
          ],
          [
           0.5770427539999999
          ],
          [
           0.019467671000000002
          ],
          [
           0.6702982820000001
          ],
          [
           0.546595316
          ],
          [
           0.591665146
          ],
          [
           0.42155819
          ],
          [
           0.6856085590000001
          ],
          [
           0.340303024
          ],
          [
           0.675626741
          ],
          [
           0.319067345
          ],
          [
           0.38849966399999997
          ],
          [
           0.706949589
          ],
          [
           0.559409515
          ],
          [
           0.687663508
          ],
          [
           0.7088045540000001
          ],
          [
           0.6818880940000001
          ],
          [
           0.42253510899999996
          ],
          [
           0.320004605
          ],
          [
           0.6582813679999999
          ],
          [
           0.634154867
          ],
          [
           0.7773320090000001
          ],
          [
           0.812677205
          ],
          [
           0.074280797
          ],
          [
           0.39600217
          ],
          [
           0.054933913
          ],
          [
           0.825058925
          ],
          [
           0.382642009
          ],
          [
           0.8687298179999999
          ],
          [
           0.588043346
          ],
          [
           0.891551577
          ],
          [
           0.10920046
          ],
          [
           0.647682781
          ],
          [
           0.724342512
          ],
          [
           0.07016304400000001
          ],
          [
           0.280882054
          ],
          [
           0.039113261
          ],
          [
           0.579641592
          ],
          [
           0.639000922
          ],
          [
           0.281745925
          ],
          [
           0.647857744
          ],
          [
           0.6479057970000001
          ],
          [
           0.875226264
          ],
          [
           0.567603305
          ],
          [
           0.262940591
          ],
          [
           0.268026042
          ],
          [
           0.40519133
          ],
          [
           0.479965451
          ],
          [
           0.33552403
          ],
          [
           0.777165379
          ],
          [
           0.42548796299999997
          ],
          [
           0.237986115
          ],
          [
           0.142522971
          ],
          [
           0.724176488
          ],
          [
           0.234698933
          ],
          [
           0.07818228099999999
          ],
          [
           0.855990155
          ],
          [
           0.270251765
          ],
          [
           0.435517841
          ],
          [
           0.762697513
          ],
          [
           0.46448725799999996
          ],
          [
           0.396112685
          ],
          [
           0.37638092100000003
          ],
          [
           0.29459467699999997
          ],
          [
           0.6944921209999999
          ],
          [
           0.622767949
          ],
          [
           0.8475597220000001
          ],
          [
           0.301463054
          ],
          [
           0.912937812
          ],
          [
           0.500017182
          ],
          [
           0.902587935
          ],
          [
           0.304517943
          ],
          [
           0.299165673
          ],
          [
           0.092014087
          ],
          [
           0.488548917
          ],
          [
           0.664664437
          ],
          [
           0.26534954899999996
          ],
          [
           0.723657021
          ],
          [
           0.149262385
          ],
          [
           0.04577339
          ],
          [
           0.69661064
          ],
          [
           0.42181486
          ],
          [
           0.733845785
          ],
          [
           0.418795386
          ],
          [
           0.677443529
          ],
          [
           0.26128360300000003
          ],
          [
           0.268527767
          ],
          [
           0.5443222360000001
          ],
          [
           0.431632036
          ],
          [
           0.981018141
          ],
          [
           0.21498072399999998
          ],
          [
           0.39472999299999995
          ],
          [
           0.122224944
          ],
          [
           0.297496875
          ],
          [
           0.37490443100000004
          ],
          [
           0.68698771
          ],
          [
           0.388549207
          ],
          [
           0.039296071
          ],
          [
           0.73553424
          ],
          [
           0.37929489299999997
          ],
          [
           0.7321233859999999
          ],
          [
           0.33922143899999996
          ],
          [
           0.659450594
          ],
          [
           0.054838642
          ],
          [
           0.640112102
          ],
          [
           0.30714170399999996
          ],
          [
           0.39661190700000004
          ],
          [
           0.420439161
          ],
          [
           0.24171497399999997
          ],
          [
           0.065893153
          ],
          [
           0.9105219370000001
          ],
          [
           0.697163103
          ],
          [
           0.072559853
          ],
          [
           0.81825094
          ],
          [
           0.311888815
          ],
          [
           0.961644609
          ],
          [
           0.816325524
          ],
          [
           0.14647302
          ],
          [
           0.548753945
          ],
          [
           0.946158087
          ],
          [
           0.293992717
          ],
          [
           0.331479643
          ],
          [
           0.9062200309999999
          ],
          [
           0.525540416
          ],
          [
           0.83301411
          ],
          [
           0.514849806
          ],
          [
           0.574609024
          ],
          [
           0.46871185299999996
          ],
          [
           0.71002775
          ],
          [
           0.645973276
          ],
          [
           0.229794416
          ],
          [
           0.551783393
          ],
          [
           0.055822990999999995
          ],
          [
           0.331750941
          ],
          [
           0.715520198
          ],
          [
           0.583924357
          ],
          [
           0.30695769100000003
          ],
          [
           0.7914782370000001
          ],
          [
           0.16423663900000002
          ],
          [
           0.065711219
          ],
          [
           0.948993132
          ],
          [
           0.080423835
          ],
          [
           0.052495426
          ],
          [
           0.566346135
          ],
          [
           0.3630266
          ],
          [
           0.605442195
          ],
          [
           0.6308505839999999
          ],
          [
           0.065791238
          ],
          [
           0.28681707100000003
          ],
          [
           0.685462839
          ],
          [
           0.260853706
          ],
          [
           0.659122429
          ],
          [
           0.44317392200000005
          ],
          [
           0.602063986
          ],
          [
           0.060366910999999995
          ],
          [
           0.781903153
          ],
          [
           0.5145798070000001
          ],
          [
           0.48388621299999995
          ],
          [
           0.600213807
          ],
          [
           0.49736405200000006
          ],
          [
           0.411145245
          ],
          [
           0.116999171
          ],
          [
           0.34189014100000004
          ],
          [
           0.746950848
          ],
          [
           0.39629274600000003
          ],
          [
           0.6221438429999999
          ],
          [
           0.335271141
          ],
          [
           0.140257137
          ],
          [
           0.081620681
          ],
          [
           0.069837569
          ],
          [
           0.46894000799999996
          ],
          [
           0.9908574170000001
          ],
          [
           0.896616832
          ],
          [
           0.255310561
          ],
          [
           0.22464526699999998
          ],
          [
           0.01991825
          ],
          [
           0.296480415
          ],
          [
           0.155458996
          ],
          [
           0.577916714
          ],
          [
           0.9563030309999999
          ],
          [
           0.813464394
          ],
          [
           0.529675785
          ],
          [
           0.287671353
          ],
          [
           0.48039136
          ],
          [
           0.28104482199999997
          ],
          [
           0.633196521
          ],
          [
           0.09332537699999999
          ],
          [
           0.28447398100000004
          ],
          [
           0.052223775
          ],
          [
           0.051129385
          ],
          [
           0.967405608
          ],
          [
           0.040045727999999996
          ],
          [
           0.9085829209999999
          ],
          [
           0.6621174160000001
          ],
          [
           0.42470320899999997
          ],
          [
           0.72207806
          ],
          [
           0.666193327
          ],
          [
           0.509681253
          ],
          [
           0.7513536209999999
          ],
          [
           0.279073124
          ],
          [
           0.074927
          ],
          [
           0.916359535
          ],
          [
           0.31040327
          ],
          [
           0.716604052
          ],
          [
           0.485587085
          ],
          [
           0.30607518100000003
          ],
          [
           0.477558204
          ],
          [
           0.7119239409999999
          ],
          [
           0.066348638
          ],
          [
           0.27453935100000004
          ],
          [
           0.31082252
          ],
          [
           0.47607312700000004
          ],
          [
           0.186795565
          ],
          [
           0.26654207
          ],
          [
           0.070231142
          ],
          [
           0.26951927
          ],
          [
           0.800004713
          ],
          [
           0.27363366699999997
          ],
          [
           0.14647919199999998
          ],
          [
           0.378318951
          ],
          [
           0.373849065
          ],
          [
           0.242170835
          ],
          [
           0.249796488
          ],
          [
           0.066591188
          ],
          [
           0.372956798
          ],
          [
           0.501812291
          ],
          [
           0.313097752
          ],
          [
           0.8802021959999999
          ],
          [
           0.51981893
          ],
          [
           0.364138746
          ],
          [
           0.49268289600000004
          ],
          [
           0.285732652
          ],
          [
           0.890114985
          ],
          [
           0.316419561
          ],
          [
           0.26866354
          ],
          [
           0.771975959
          ],
          [
           0.968888992
          ],
          [
           0.080334377
          ],
          [
           0.7368282209999999
          ],
          [
           0.30055807100000004
          ],
          [
           0.9179503929999999
          ],
          [
           0.465815039
          ],
          [
           0.054036682
          ],
          [
           0.963150123
          ],
          [
           0.08965350300000001
          ],
          [
           0.7076932340000001
          ],
          [
           0.636416037
          ],
          [
           0.539521117
          ],
          [
           0.114757161
          ],
          [
           0.357312419
          ],
          [
           0.67639834
          ],
          [
           0.43482839
          ],
          [
           0.032326387000000005
          ],
          [
           0.711365605
          ],
          [
           0.187486519
          ],
          [
           0.052789653
          ],
          [
           0.5058636129999999
          ],
          [
           0.927431873
          ],
          [
           0.6809842559999999
          ],
          [
           0.882822186
          ],
          [
           0.495705441
          ],
          [
           0.596240398
          ],
          [
           0.320610701
          ],
          [
           0.3413685
          ],
          [
           0.159681797
          ],
          [
           0.318133669
          ],
          [
           0.8393010479999999
          ],
          [
           0.06435925099999999
          ],
          [
           0.470216633
          ],
          [
           0.7762522909999999
          ],
          [
           0.635843383
          ],
          [
           0.62510543
          ],
          [
           0.52959065
          ],
          [
           0.986900166
          ],
          [
           0.078585688
          ],
          [
           0.233284267
          ],
          [
           0.363330957
          ],
          [
           0.7167169809999999
          ],
          [
           0.37588979200000006
          ],
          [
           0.223316889
          ],
          [
           0.299343986
          ],
          [
           0.538595767
          ],
          [
           0.730297124
          ],
          [
           0.66033077
          ],
          [
           0.435296009
          ],
          [
           0.326494313
          ],
          [
           0.854402708
          ],
          [
           0.5734938470000001
          ],
          [
           0.757786135
          ],
          [
           0.704743233
          ],
          [
           0.281575597
          ],
          [
           0.671968208
          ],
          [
           0.313726015
          ],
          [
           0.364338275
          ],
          [
           0.368216396
          ],
          [
           0.38629520700000003
          ],
          [
           0.655971865
          ],
          [
           0.5660252729999999
          ],
          [
           0.424999093
          ],
          [
           0.090110371
          ],
          [
           0.772350538
          ],
          [
           0.331047258
          ],
          [
           0.273716188
          ],
          [
           0.23877568
          ],
          [
           0.37307977200000003
          ],
          [
           0.331185868
          ],
          [
           0.256134531
          ],
          [
           0.678373225
          ],
          [
           0.43463833799999996
          ],
          [
           0.654668307
          ],
          [
           0.986681065
          ],
          [
           0.371520495
          ],
          [
           0.408359618
          ],
          [
           0.40932365
          ],
          [
           0.283412082
          ],
          [
           0.395246531
          ],
          [
           0.010984428000000001
          ],
          [
           0.306013869
          ],
          [
           0.266194806
          ],
          [
           0.299318521
          ],
          [
           0.318293946
          ],
          [
           0.74282591
          ],
          [
           0.09766432900000001
          ],
          [
           0.079666942
          ],
          [
           0.613258767
          ],
          [
           0.99443072
          ],
          [
           0.568835082
          ],
          [
           0.7080345159999999
          ],
          [
           0.37059271899999996
          ],
          [
           0.669867361
          ],
          [
           0.651295625
          ],
          [
           0.462531569
          ],
          [
           0.7196256190000001
          ],
          [
           0.45377248
          ],
          [
           0.394863946
          ],
          [
           0.323974831
          ],
          [
           0.146454724
          ],
          [
           0.7790670409999999
          ],
          [
           0.401828915
          ],
          [
           0.601479585
          ],
          [
           0.856423023
          ],
          [
           0.565242962
          ],
          [
           0.301225108
          ],
          [
           0.282108144
          ],
          [
           0.594378011
          ],
          [
           0.705312368
          ],
          [
           0.5408696279999999
          ],
          [
           0.319249574
          ],
          [
           0.36176613799999996
          ],
          [
           0.625000704
          ],
          [
           0.316287401
          ],
          [
           0.047239021
          ],
          [
           0.801182233
          ],
          [
           0.508474436
          ],
          [
           0.8178934109999999
          ],
          [
           0.399235601
          ],
          [
           0.9740519990000001
          ],
          [
           0.72241535
          ],
          [
           0.039564764
          ],
          [
           0.908684108
          ],
          [
           0.47301013399999997
          ],
          [
           0.7180496279999999
          ],
          [
           0.7634790690000001
          ],
          [
           0.6475965370000001
          ],
          [
           0.8949973859999999
          ],
          [
           0.22282590100000002
          ],
          [
           0.359012234
          ],
          [
           0.944910252
          ],
          [
           0.297877816
          ],
          [
           0.172517997
          ],
          [
           0.556586265
          ],
          [
           0.876481735
          ],
          [
           0.48667784299999994
          ],
          [
           0.459496733
          ],
          [
           0.47412637700000004
          ],
          [
           0.70101144
          ],
          [
           0.337597387
          ],
          [
           0.537578886
          ],
          [
           0.966992448
          ],
          [
           0.056849545
          ],
          [
           0.233249065
          ],
          [
           0.380054711
          ],
          [
           0.602929443
          ],
          [
           0.303847999
          ],
          [
           0.170194553
          ],
          [
           0.972168554
          ],
          [
           0.332168927
          ],
          [
           0.6887286890000001
          ],
          [
           0.110773401
          ],
          [
           0.273352065
          ],
          [
           0.572939678
          ],
          [
           0.491457065
          ],
          [
           0.281389999
          ],
          [
           0.821697261
          ],
          [
           0.6749776829999999
          ],
          [
           0.585134549
          ],
          [
           0.7105961159999999
          ],
          [
           0.040488789
          ],
          [
           0.568054311
          ],
          [
           0.321752928
          ],
          [
           0.611850232
          ],
          [
           0.926096887
          ],
          [
           0.618347428
          ],
          [
           0.667629785
          ],
          [
           0.39773346600000004
          ],
          [
           0.290875487
          ],
          [
           0.594375103
          ],
          [
           0.508255233
          ],
          [
           0.338571357
          ],
          [
           0.43230234700000003
          ],
          [
           0.302221978
          ],
          [
           0.87619819
          ],
          [
           0.080204492
          ],
          [
           0.092333532
          ],
          [
           0.09365644699999999
          ],
          [
           0.6084523510000001
          ],
          [
           0.732654598
          ],
          [
           0.944158855
          ],
          [
           0.26742308
          ],
          [
           0.731124201
          ],
          [
           0.661308553
          ],
          [
           0.38776626200000003
          ],
          [
           0.962585273
          ],
          [
           0.322067067
          ],
          [
           0.6340810929999999
          ],
          [
           0.475345002
          ],
          [
           0.35355897299999994
          ],
          [
           0.8859363159999999
          ],
          [
           0.876798106
          ],
          [
           0.221581064
          ],
          [
           0.394362449
          ],
          [
           0.8050356759999999
          ],
          [
           0.452898486
          ],
          [
           0.592520516
          ],
          [
           0.761026394
          ],
          [
           0.245049023
          ],
          [
           0.37213936299999995
          ],
          [
           0.681054822
          ],
          [
           0.7471431479999999
          ],
          [
           0.9207395290000001
          ],
          [
           0.097207945
          ],
          [
           0.699302998
          ],
          [
           0.721647006
          ],
          [
           0.5353561139999999
          ],
          [
           0.738293805
          ],
          [
           0.7064675509999999
          ],
          [
           0.67395061
          ],
          [
           0.7112122909999999
          ],
          [
           0.302558708
          ],
          [
           0.080097855
          ],
          [
           0.707010837
          ],
          [
           0.512248622
          ],
          [
           0.659627472
          ],
          [
           0.657559694
          ],
          [
           0.100645606
          ],
          [
           0.92665363
          ],
          [
           0.892879338
          ],
          [
           0.839157508
          ],
          [
           0.890959718
          ],
          [
           0.556754471
          ],
          [
           0.960361937
          ],
          [
           0.631037864
          ],
          [
           0.029838065
          ],
          [
           0.278843351
          ],
          [
           0.926157705
          ],
          [
           0.551504258
          ],
          [
           0.485942349
          ],
          [
           0.43723469600000003
          ],
          [
           0.25231801800000003
          ],
          [
           0.515466972
          ],
          [
           0.43725229600000004
          ],
          [
           0.493724207
          ],
          [
           0.83324725
          ],
          [
           0.317521477
          ],
          [
           0.28623456199999997
          ],
          [
           0.726833965
          ],
          [
           0.495667033
          ],
          [
           0.028645255
          ],
          [
           0.31967191699999997
          ],
          [
           0.674344598
          ],
          [
           0.7660371890000001
          ],
          [
           0.65456992
          ],
          [
           0.7565143809999999
          ],
          [
           0.528253719
          ],
          [
           0.38971949100000003
          ],
          [
           0.355087459
          ],
          [
           0.87015202
          ],
          [
           0.7390833059999999
          ],
          [
           0.305761846
          ],
          [
           0.411587673
          ],
          [
           0.063633094
          ],
          [
           0.735409395
          ],
          [
           0.605916669
          ],
          [
           0.539395562
          ],
          [
           0.566183532
          ],
          [
           0.674795186
          ],
          [
           0.070993366
          ],
          [
           0.12526410000000002
          ],
          [
           0.279601492
          ],
          [
           0.952174402
          ],
          [
           0.233806762
          ],
          [
           0.43724742899999997
          ],
          [
           0.925423095
          ],
          [
           0.433498634
          ],
          [
           0.52517902
          ],
          [
           0.088435529
          ],
          [
           0.447677638
          ],
          [
           0.647000631
          ],
          [
           0.9036033370000001
          ],
          [
           0.265790738
          ],
          [
           0.66419695
          ],
          [
           0.498120658
          ],
          [
           0.49018894399999996
          ],
          [
           0.747084187
          ],
          [
           0.906783648
          ],
          [
           0.678770917
          ],
          [
           0.348599859
          ],
          [
           0.294839683
          ],
          [
           0.705691827
          ],
          [
           0.211917931
          ],
          [
           0.063201124
          ],
          [
           0.276699543
          ],
          [
           0.672459395
          ],
          [
           0.8082059490000001
          ],
          [
           0.296538373
          ],
          [
           0.16012686199999998
          ],
          [
           0.439385032
          ],
          [
           0.555951416
          ],
          [
           0.386240112
          ],
          [
           0.158689619
          ],
          [
           0.214499855
          ],
          [
           0.299579429
          ],
          [
           0.569161656
          ],
          [
           0.488614799
          ],
          [
           0.8782950209999999
          ],
          [
           0.649380949
          ],
          [
           0.465713341
          ],
          [
           0.16813774
          ],
          [
           0.87529545
          ],
          [
           0.8411323409999999
          ],
          [
           0.33292081
          ],
          [
           0.5130478589999999
          ],
          [
           0.30505507800000004
          ],
          [
           0.8126269909999999
          ],
          [
           0.25096706
          ],
          [
           0.5024355779999999
          ],
          [
           0.45799074100000003
          ]
         ],
         "hovertemplate": "0=%{x}<br>1=%{y}<br>2=%{z}<br>Feature=%{customdata[0]}<br>Label=%{marker.color}<extra></extra>",
         "legendgroup": "",
         "marker": {
          "color": [
           0,
           0,
           1,
           1,
           0,
           0,
           0,
           0,
           1,
           1,
           0,
           1,
           0,
           1,
           1,
           1,
           0,
           1,
           1,
           0,
           1,
           0,
           0,
           1,
           1,
           1,
           0,
           0,
           1,
           1,
           0,
           0,
           1,
           1,
           0,
           0,
           1,
           0,
           0,
           0,
           0,
           0,
           0,
           1,
           0,
           1,
           1,
           0,
           1,
           0,
           0,
           1,
           0,
           1,
           1,
           1,
           1,
           0,
           0,
           1,
           0,
           1,
           0,
           1,
           0,
           1,
           0,
           0,
           0,
           0,
           0,
           0,
           0,
           0,
           0,
           0,
           0,
           0,
           0,
           0,
           0,
           0,
           0,
           0,
           0,
           0,
           0,
           0,
           0,
           0,
           0,
           0,
           0,
           0,
           0,
           0,
           0,
           0,
           0,
           0,
           0,
           0,
           0,
           0,
           0,
           0,
           0,
           0,
           0,
           0,
           0,
           0,
           0,
           0,
           0,
           0,
           0,
           0,
           0,
           0,
           0,
           0,
           0,
           0,
           0,
           0,
           0,
           0,
           0,
           0,
           0,
           0,
           0,
           0,
           0,
           0,
           0,
           0,
           0,
           0,
           0,
           0,
           0,
           0,
           0,
           0,
           0,
           0,
           0,
           0,
           0,
           0,
           0,
           0,
           0,
           0,
           0,
           0,
           0,
           0,
           0,
           0,
           0,
           0,
           0,
           0,
           0,
           0,
           0,
           0,
           0,
           0,
           0,
           0,
           0,
           0,
           0,
           0,
           0,
           0,
           0,
           0,
           0,
           0,
           0,
           0,
           0,
           0,
           0,
           0,
           0,
           0,
           0,
           0,
           0,
           0,
           0,
           0,
           0,
           0,
           0,
           0,
           0,
           0,
           0,
           0,
           0,
           0,
           0,
           0,
           0,
           0,
           0,
           0,
           0,
           0,
           0,
           0,
           0,
           0,
           0,
           0,
           0,
           0,
           0,
           0,
           0,
           0,
           0,
           0,
           0,
           0,
           0,
           0,
           0,
           0,
           0,
           0,
           0,
           0,
           0,
           0,
           0,
           0,
           0,
           0,
           0,
           0,
           0,
           0,
           0,
           0,
           0,
           0,
           0,
           0,
           0,
           0,
           0,
           0,
           0,
           0,
           0,
           0,
           0,
           0,
           0,
           0,
           0,
           0,
           0,
           0,
           0,
           0,
           0,
           0,
           0,
           0,
           0,
           0,
           0,
           0,
           0,
           0,
           0,
           0,
           0,
           0,
           0,
           0,
           0,
           0,
           0,
           0,
           0,
           0,
           0,
           0,
           0,
           0,
           0,
           0,
           0,
           0,
           0,
           0,
           0,
           0,
           0,
           0,
           0,
           0,
           0,
           0,
           0,
           0,
           0,
           0,
           0,
           0,
           0,
           0,
           0,
           0,
           0,
           0,
           0,
           0,
           0,
           0,
           0,
           0,
           0,
           0,
           0,
           0,
           0,
           0,
           0,
           0,
           0,
           0,
           0,
           0,
           0,
           0,
           0,
           0,
           0,
           0,
           0,
           0,
           0,
           0,
           0,
           0,
           0,
           0,
           0,
           0,
           0,
           0,
           0,
           0,
           0,
           0,
           0,
           0,
           0,
           0,
           0,
           0,
           0,
           0,
           0,
           0,
           0,
           0,
           0,
           0,
           0,
           0,
           0,
           0,
           0,
           0,
           0,
           0,
           0,
           0,
           0,
           0,
           0,
           0,
           0,
           0,
           0,
           0,
           0,
           0,
           0,
           0,
           0,
           0,
           0,
           0,
           0,
           0,
           0,
           0,
           0,
           0,
           0,
           0,
           0,
           0,
           0,
           0,
           0,
           0,
           0,
           0,
           0,
           0,
           0,
           0,
           0,
           0,
           0,
           0,
           0,
           0,
           0,
           0,
           0,
           0,
           0,
           0,
           0,
           0,
           0,
           0,
           0,
           0,
           0,
           0,
           0,
           0,
           0,
           0,
           0,
           0,
           0,
           0,
           0,
           0,
           0,
           0,
           0,
           0,
           0,
           0,
           0,
           0,
           0,
           0,
           0,
           0,
           0,
           0,
           0,
           0,
           0,
           0,
           0,
           0,
           0,
           0,
           0,
           0,
           0,
           0,
           0,
           0,
           0,
           0,
           0,
           0,
           0,
           0,
           0,
           0,
           0,
           0,
           0,
           0,
           0,
           0,
           0,
           0,
           0,
           0,
           0,
           0,
           0,
           0,
           0,
           0,
           0,
           0,
           0,
           0,
           0,
           0,
           0,
           0,
           0,
           0,
           0,
           0,
           0,
           0,
           0,
           0,
           0,
           0,
           0,
           0,
           0,
           0,
           0,
           0,
           0,
           0,
           0,
           0,
           0,
           0,
           0,
           0,
           0,
           0,
           0,
           0,
           0,
           0,
           0,
           0,
           0,
           0,
           0,
           0,
           0,
           0,
           0,
           0,
           0,
           0,
           0,
           0,
           0,
           0,
           0,
           0,
           0,
           0,
           0,
           0,
           0,
           0,
           0,
           0,
           0,
           0,
           0,
           0,
           0,
           0,
           0,
           0,
           0,
           0,
           0,
           0,
           0,
           0,
           0,
           0,
           0,
           0,
           0,
           0,
           0,
           0,
           0,
           0,
           0,
           0,
           0,
           0,
           0,
           0,
           0,
           0,
           0,
           0,
           0,
           0,
           0,
           0,
           0,
           0,
           0,
           0,
           0,
           0,
           0,
           0,
           0,
           0,
           0,
           0,
           0,
           0,
           0,
           0,
           0,
           0,
           0,
           0,
           0,
           0,
           0,
           0,
           0,
           0,
           0,
           0,
           0,
           0,
           0,
           0,
           0,
           0,
           0,
           0,
           0,
           0,
           0,
           0,
           0,
           0,
           0,
           0,
           0,
           0,
           0,
           0,
           0,
           0,
           0,
           0,
           0,
           0,
           0,
           0,
           0,
           0,
           0,
           0,
           0,
           0,
           0,
           0,
           0,
           0,
           0,
           0,
           0,
           0,
           0,
           0,
           0,
           0,
           0,
           0,
           0,
           0,
           0,
           0,
           0,
           0,
           0,
           0,
           0,
           0,
           0,
           0,
           0,
           0,
           1,
           1,
           0,
           1,
           0,
           0,
           0,
           1,
           1,
           1,
           1,
           0,
           1,
           1,
           1,
           0,
           1,
           1,
           1,
           0,
           1,
           0,
           1,
           1,
           1,
           1,
           0,
           0,
           0,
           0,
           0,
           0,
           0,
           0,
           0,
           0,
           0,
           0,
           0,
           0,
           0,
           0,
           0,
           0,
           0,
           0,
           0,
           0,
           0,
           0,
           0,
           0,
           0,
           0,
           0,
           0,
           0,
           0,
           0,
           0,
           0,
           0,
           0,
           0,
           0,
           0,
           0,
           0,
           0,
           0,
           0,
           0,
           0,
           0,
           0,
           0,
           0,
           0,
           0,
           0,
           0,
           0,
           0,
           0,
           0,
           0,
           0,
           0,
           0,
           0,
           0,
           0,
           0,
           0,
           0,
           0,
           0,
           0,
           0,
           0,
           0,
           0,
           0,
           0,
           0,
           0,
           0,
           0,
           0,
           0,
           0,
           0,
           0,
           0,
           0,
           0,
           0,
           0,
           0,
           0,
           0,
           0,
           0,
           0,
           0,
           0,
           0,
           0,
           0,
           0,
           0,
           0,
           0,
           0,
           0,
           0,
           0,
           0,
           0,
           0,
           0,
           0,
           0,
           0,
           0,
           0,
           0,
           0,
           0,
           0,
           0,
           0,
           0,
           0,
           0,
           0,
           0,
           0,
           0,
           0,
           0,
           0,
           0,
           0,
           0,
           0,
           0,
           0,
           0,
           0,
           0,
           0,
           0,
           0,
           0,
           0,
           0,
           0,
           0,
           0,
           0,
           0,
           0,
           0,
           0,
           0,
           0,
           0,
           0,
           0,
           0,
           0,
           0,
           0,
           0,
           0,
           0,
           0,
           0,
           0,
           0,
           0,
           0,
           0,
           0,
           0,
           0,
           0,
           0,
           0,
           0,
           0,
           0,
           0,
           0,
           0,
           0,
           0,
           0,
           0,
           0,
           0,
           0,
           0,
           0,
           0,
           0,
           0,
           0,
           0,
           0,
           0,
           0,
           0,
           0,
           0,
           0,
           0,
           0,
           0,
           0,
           0,
           0,
           0,
           0,
           0,
           0,
           0,
           0,
           0,
           0,
           0,
           0,
           0,
           0,
           0,
           0,
           0,
           0,
           0,
           0,
           0,
           0,
           0,
           0,
           0,
           0,
           0,
           0,
           0,
           0,
           0,
           0,
           0,
           0,
           0,
           0,
           0,
           0,
           0,
           0,
           0,
           0,
           0,
           0,
           0,
           0,
           0,
           0,
           0,
           0,
           0,
           0,
           0,
           0,
           0,
           0,
           0,
           0,
           0
          ],
          "coloraxis": "coloraxis",
          "opacity": 0.7,
          "symbol": "circle"
         },
         "mode": "markers",
         "name": "",
         "scene": "scene",
         "showlegend": false,
         "type": "scatter3d",
         "x": [
          -0.8365679979324341,
          -0.9593812227249146,
          6.028915882110596,
          9.345673561096191,
          13.714090347290039,
          5.022279739379883,
          -3.6391515731811523,
          15.88119125366211,
          1.795628547668457,
          -11.836654663085938,
          15.996140480041504,
          9.144444465637207,
          17.35826301574707,
          -5.195868015289307,
          6.641331672668457,
          12.058682441711426,
          17.506553649902344,
          -9.793523788452148,
          4.339563369750977,
          7.3150129318237305,
          4.1760029792785645,
          -2.1693851947784424,
          13.139288902282715,
          2.434840202331543,
          5.860330581665039,
          -0.8430891633033752,
          8.141839981079102,
          -3.2315781116485596,
          7.6411213874816895,
          12.080997467041016,
          -0.8429914116859436,
          1.7340176105499268,
          -4.567476272583008,
          5.86595344543457,
          -6.075016021728516,
          -2.261244773864746,
          6.327067852020264,
          -3.5354788303375244,
          -0.8703402280807495,
          5.63408088684082,
          -12.341975212097168,
          9.054422378540039,
          -10.641889572143555,
          5.134781837463379,
          8.347026824951172,
          12.308082580566406,
          7.709049701690674,
          1.953648328781128,
          8.872822761535645,
          -7.895242691040039,
          16.001604080200195,
          2.554175853729248,
          -7.364301681518555,
          12.105729103088379,
          7.111073017120361,
          -1.2427014112472534,
          5.409804344177246,
          -4.696596622467041,
          6.295596122741699,
          6.583637237548828,
          -2.942943572998047,
          -4.5437092781066895,
          15.672743797302246,
          9.084053993225098,
          -10.737881660461426,
          7.533169746398926,
          -10.103384971618652,
          -9.528681755065918,
          9.158677101135254,
          8.799936294555664,
          15.629656791687012,
          12.596403121948242,
          -0.7667564153671265,
          12.11563491821289,
          -10.986930847167969,
          -6.2775678634643555,
          10.069579124450684,
          12.3512601852417,
          -14.715171813964844,
          -12.910439491271973,
          -12.569846153259277,
          -7.044727802276611,
          12.80933952331543,
          -4.2386298179626465,
          -3.623443841934204,
          0.5304602384567261,
          -5.668924331665039,
          -5.570329666137695,
          1.8998806476593018,
          -4.791559219360352,
          -6.693661212921143,
          14.108736038208008,
          -11.034651756286621,
          -3.651925563812256,
          -1.2147802114486694,
          15.665790557861328,
          -10.131205558776855,
          -0.09736313670873642,
          -4.137270927429199,
          10.85022258758545,
          -2.5132579803466797,
          -8.58503532409668,
          -0.7828909754753113,
          -8.450594902038574,
          16.30652618408203,
          -10.819945335388184,
          -5.695803165435791,
          2.3456695079803467,
          -11.053175926208496,
          11.71442985534668,
          -6.849803924560547,
          -1.5769462585449219,
          14.192835807800293,
          -7.316442966461182,
          9.891952514648438,
          -8.9858980178833,
          -4.28093147277832,
          -3.7125954627990723,
          10.259984970092773,
          -5.703520774841309,
          -9.882182121276855,
          1.2212555408477783,
          2.3176581859588623,
          -9.852301597595215,
          -2.421248435974121,
          -0.00933107454329729,
          -0.3754110038280487,
          10.479652404785156,
          -3.263098955154419,
          0.021019086241722107,
          -2.9776017665863037,
          -9.914251327514648,
          15.829891204833984,
          -1.65615713596344,
          -8.183209419250488,
          -5.189939975738525,
          11.866816520690918,
          13.869250297546387,
          1.243526577949524,
          -0.33363863825798035,
          13.13045883178711,
          -5.089788913726807,
          -8.4264497756958,
          12.561030387878418,
          -6.790895462036133,
          -12.30981159210205,
          12.867086410522461,
          -9.005489349365234,
          0.548058807849884,
          -3.536074161529541,
          -5.954594135284424,
          -8.65062427520752,
          2.3081185817718506,
          -9.296656608581543,
          -2.013187885284424,
          -9.486255645751953,
          -9.36914348602295,
          -10.846830368041992,
          -8.499704360961914,
          9.396082878112793,
          -5.524797439575195,
          -5.254302978515625,
          -10.624237060546875,
          -15.300149917602539,
          9.392054557800293,
          -9.234973907470703,
          13.167981147766113,
          13.201773643493652,
          8.43836784362793,
          -3.88258957862854,
          -6.517775058746338,
          0.2422643005847931,
          7.570596694946289,
          9.783858299255371,
          -0.4104316532611847,
          -6.486139297485352,
          7.214493751525879,
          8.951891899108887,
          1.0687508583068848,
          12.521655082702637,
          0.5644466280937195,
          10.239546775817871,
          2.079521656036377,
          15.184051513671875,
          13.701018333435059,
          -3.4107534885406494,
          9.62986946105957,
          -3.7335305213928223,
          -10.768911361694336,
          -8.264461517333984,
          -9.051108360290527,
          12.180595397949219,
          15.120712280273438,
          9.295904159545898,
          -6.35960054397583,
          -5.878304481506348,
          1.3851357698440552,
          3.681058645248413,
          -3.5857763290405273,
          -1.5939875841140747,
          2.78501033782959,
          -2.0824639797210693,
          0.7197575569152832,
          13.021757125854492,
          7.936864376068115,
          1.6916651725769043,
          -14.114419937133789,
          3.0067636966705322,
          10.315658569335938,
          3.1348936557769775,
          -1.3496946096420288,
          9.849739074707031,
          12.29061508178711,
          -7.740573883056641,
          1.3837980031967163,
          0.45938587188720703,
          2.501420021057129,
          12.926868438720703,
          15.250129699707031,
          0.6374105215072632,
          7.676123142242432,
          -0.8421632051467896,
          11.953615188598633,
          -12.299729347229004,
          -5.872603893280029,
          -12.884195327758789,
          -11.451059341430664,
          -11.274503707885742,
          -8.772099494934082,
          7.914534091949463,
          -4.706104278564453,
          -11.106350898742676,
          12.757562637329102,
          13.424928665161133,
          -7.063708305358887,
          -0.516521155834198,
          -2.2384278774261475,
          -8.296440124511719,
          10.606528282165527,
          8.495753288269043,
          2.876349925994873,
          2.1875252723693848,
          8.769736289978027,
          -4.4104413986206055,
          13.262130737304688,
          -6.315199375152588,
          -8.746139526367188,
          -13.322051048278809,
          -12.092182159423828,
          12.892190933227539,
          -6.708323955535889,
          -0.4398236572742462,
          12.008345603942871,
          -5.237066268920898,
          -11.583409309387207,
          0.8013080954551697,
          -3.1381049156188965,
          -5.840688228607178,
          8.384151458740234,
          -6.293192386627197,
          9.775392532348633,
          -5.160562992095947,
          11.839146614074707,
          -0.5887063145637512,
          -7.981242656707764,
          -4.067933559417725,
          15.096687316894531,
          -4.599379062652588,
          -10.770827293395996,
          4.449145317077637,
          1.837194800376892,
          0.5966683626174927,
          -5.885678291320801,
          9.29114818572998,
          8.689627647399902,
          -8.263794898986816,
          14.084718704223633,
          12.110580444335938,
          1.1499090194702148,
          -10.617327690124512,
          -11.057418823242188,
          9.450754165649414,
          -11.65668773651123,
          -4.25045919418335,
          9.56299114227295,
          -1.5605933666229248,
          -7.261308670043945,
          -0.6626592874526978,
          -6.595065116882324,
          -3.439272165298462,
          -4.986017227172852,
          1.6149425506591797,
          -5.611526012420654,
          -2.338177442550659,
          -4.278139591217041,
          13.257121086120605,
          11.665909767150879,
          -14.886439323425293,
          -3.319272041320801,
          -2.6111745834350586,
          0.15186071395874023,
          -4.93627405166626,
          13.687042236328125,
          13.595935821533203,
          9.97056770324707,
          -10.08945083618164,
          0.9357618093490601,
          -9.847078323364258,
          -11.551933288574219,
          13.913641929626465,
          12.938399314880371,
          -10.165144920349121,
          10.008879661560059,
          8.929230690002441,
          1.531720757484436,
          -2.6723856925964355,
          -3.7939722537994385,
          -3.4822776317596436,
          -11.111417770385742,
          0.272637277841568,
          0.6298884749412537,
          -8.116915702819824,
          12.83067512512207,
          -1.0662221908569336,
          -11.839592933654785,
          -3.5151596069335938,
          15.064281463623047,
          15.626124382019043,
          9.652758598327637,
          10.213387489318848,
          -4.866299629211426,
          12.847487449645996,
          -6.84166955947876,
          -10.324973106384277,
          -5.447749614715576,
          10.009560585021973,
          0.502938449382782,
          -5.134903430938721,
          9.819538116455078,
          11.786369323730469,
          -4.92166805267334,
          -13.632281303405762,
          10.332523345947266,
          -9.230225563049316,
          15.34567642211914,
          11.133296966552734,
          -1.1994640827178955,
          -10.518465042114258,
          10.62174129486084,
          12.903521537780762,
          -0.6408953666687012,
          -6.316878318786621,
          -5.999516487121582,
          0.2579120993614197,
          -7.327706813812256,
          -13.495962142944336,
          -9.102084159851074,
          -1.2882477045059204,
          16.13128089904785,
          -2.1842002868652344,
          -0.6254592537879944,
          -0.029410701245069504,
          -2.831411123275757,
          -10.687617301940918,
          12.21895980834961,
          -11.052842140197754,
          13.69017219543457,
          -3.4321982860565186,
          -6.359944820404053,
          2.713243246078491,
          -9.866299629211426,
          2.6917247772216797,
          10.860584259033203,
          8.019254684448242,
          12.696752548217773,
          -9.251294136047363,
          -10.612943649291992,
          10.419170379638672,
          -0.14157572388648987,
          -4.557961940765381,
          11.13012981414795,
          -1.2912871837615967,
          -9.600818634033203,
          -0.06993800401687622,
          -0.4666585624217987,
          -10.790811538696289,
          -5.5642242431640625,
          -4.50911808013916,
          -0.6564400792121887,
          -2.554854393005371,
          -7.264955997467041,
          -9.986185073852539,
          -6.857744216918945,
          -8.93386459350586,
          -6.108670711517334,
          0.4721103310585022,
          -10.415140151977539,
          13.150033950805664,
          -2.390126943588257,
          -9.287023544311523,
          -5.16834831237793,
          -5.7582831382751465,
          -9.890832901000977,
          2.176375150680542,
          15.435161590576172,
          -4.191171646118164,
          7.842159271240234,
          -1.7948886156082153,
          9.4009428024292,
          3.3562333583831787,
          -2.791393756866455,
          -5.771896839141846,
          16.546306610107422,
          -10.860779762268066,
          1.334682822227478,
          -10.778976440429688,
          -5.527314186096191,
          -1.9584567546844482,
          15.55659294128418,
          11.065372467041016,
          -2.4787566661834717,
          -4.157653331756592,
          -0.753325343132019,
          -0.5534840822219849,
          8.557255744934082,
          -7.351487159729004,
          -4.018254280090332,
          10.287385940551758,
          -1.4425135850906372,
          10.14119815826416,
          -8.40136432647705,
          -4.455265998840332,
          -4.637758255004883,
          10.972477912902832,
          15.084794044494629,
          -1.061781406402588,
          -7.893286228179932,
          10.986207962036133,
          -11.599854469299316,
          7.686573505401611,
          -10.956289291381836,
          -14.508804321289062,
          8.704753875732422,
          12.44813060760498,
          0.13110977411270142,
          7.6911187171936035,
          14.606501579284668,
          -9.092977523803711,
          11.579508781433105,
          11.774651527404785,
          -6.432318210601807,
          11.50700855255127,
          -9.974699974060059,
          -10.481301307678223,
          13.94810962677002,
          -0.530571460723877,
          1.488147258758545,
          11.210030555725098,
          -13.955888748168945,
          -14.129610061645508,
          -0.8163890838623047,
          8.73666763305664,
          -9.836444854736328,
          -14.136923789978027,
          0.7799549102783203,
          -6.94516134262085,
          -10.877184867858887,
          15.894363403320312,
          -8.937885284423828,
          9.079791069030762,
          -10.76254653930664,
          -8.366132736206055,
          -6.116384983062744,
          -7.606603622436523,
          -8.821639060974121,
          -6.4929327964782715,
          -5.524109840393066,
          8.754558563232422,
          -2.9120736122131348,
          -2.862828016281128,
          -11.309221267700195,
          -5.232012748718262,
          10.175914764404297,
          11.76394271850586,
          -4.201143741607666,
          12.116440773010254,
          0.3359384834766388,
          -1.0738580226898193,
          -4.3154988288879395,
          9.293928146362305,
          -12.100424766540527,
          13.35039234161377,
          7.07694673538208,
          13.677606582641602,
          8.851935386657715,
          12.577705383300781,
          3.5996453762054443,
          10.723642349243164,
          -8.087151527404785,
          -4.456934452056885,
          1.306009292602539,
          -2.3651065826416016,
          -3.3937265872955322,
          1.8164093494415283,
          -1.2178840637207031,
          9.490469932556152,
          -13.025467872619629,
          -10.91264533996582,
          -0.7295910120010376,
          9.552694320678711,
          11.377181053161621,
          -11.092228889465332,
          1.9797512292861938,
          11.933685302734375,
          -14.526686668395996,
          -10.88259220123291,
          -8.046233177185059,
          -13.741077423095703,
          -0.5908138751983643,
          1.8471121788024902,
          -0.9191262125968933,
          12.906790733337402,
          8.316545486450195,
          9.72940731048584,
          15.582816123962402,
          -4.8182759284973145,
          -0.18724696338176727,
          -5.045601844787598,
          -0.0943373367190361,
          -3.520092248916626,
          -0.6881254315376282,
          12.75533676147461,
          10.954319953918457,
          -9.904439926147461,
          11.90811824798584,
          12.303106307983398,
          2.7617239952087402,
          12.971075057983398,
          -2.3596508502960205,
          4.28845739364624,
          1.1142897605895996,
          10.192361831665039,
          -2.660922050476074,
          0.5466449856758118,
          -9.912601470947266,
          13.975625038146973,
          -12.035313606262207,
          11.3897705078125,
          12.086501121520996,
          -11.81171989440918,
          -10.3615140914917,
          -5.6693267822265625,
          9.69266128540039,
          -8.443107604980469,
          -8.192400932312012,
          -2.762176990509033,
          9.989924430847168,
          -10.11514949798584,
          15.283086776733398,
          0.8600707650184631,
          12.573519706726074,
          15.703536033630371,
          -8.663299560546875,
          13.033196449279785,
          -7.1243205070495605,
          -14.813752174377441,
          -8.52043628692627,
          -2.0904648303985596,
          13.458725929260254,
          12.651152610778809,
          -1.438381314277649,
          12.622840881347656,
          14.989002227783203,
          13.28402042388916,
          2.049565315246582,
          14.445902824401855,
          -2.4234185218811035,
          -5.889112949371338,
          -3.968400478363037,
          -10.312749862670898,
          -2.209817409515381,
          -11.238568305969238,
          7.938174247741699,
          -2.2092723846435547,
          -11.63188648223877,
          -14.358354568481445,
          -3.2173783779144287,
          -7.567381858825684,
          -6.31783390045166,
          13.532917022705078,
          -5.1438798904418945,
          -12.40144157409668,
          0.6151402592658997,
          15.131295204162598,
          -1.0706948041915894,
          -8.732555389404297,
          13.694724082946777,
          12.521730422973633,
          9.120560646057129,
          11.883931159973145,
          12.104277610778809,
          1.9799330234527588,
          8.908130645751953,
          -4.192430019378662,
          10.043238639831543,
          1.338795781135559,
          15.850016593933105,
          14.391108512878418,
          -6.256165027618408,
          -0.8327990174293518,
          7.844100475311279,
          -5.556459903717041,
          -1.6144975423812866,
          -4.713078498840332,
          -12.887228965759277,
          -9.54293441772461,
          1.9143803119659424,
          2.762169122695923,
          -3.4000377655029297,
          -3.7509405612945557,
          -1.6504971981048584,
          -7.504216194152832,
          -7.427249431610107,
          -0.8539406061172485,
          9.185486793518066,
          16.567304611206055,
          -4.755651473999023,
          10.422014236450195,
          -0.8517288565635681,
          -14.327201843261719,
          -4.895488739013672,
          3.000980854034424,
          -12.525247573852539,
          12.817988395690918,
          -4.424101829528809,
          -2.353161096572876,
          -6.039182186126709,
          -1.8071666955947876,
          13.651544570922852,
          -2.1226158142089844,
          7.755573272705078,
          3.2009077072143555,
          -5.52121114730835,
          -5.217564105987549,
          13.300213813781738,
          -11.490943908691406,
          8.068719863891602,
          -6.626014232635498,
          14.645402908325195,
          -6.799601078033447,
          -11.450932502746582,
          -8.02005386352539,
          -0.5267665982246399,
          13.92620849609375,
          -6.808775901794434,
          -0.779383659362793,
          11.610159873962402,
          -4.660554885864258,
          -3.784292221069336,
          11.97241497039795,
          14.823556900024414,
          -9.064715385437012,
          0.6717917919158936,
          -2.0752809047698975,
          10.841602325439453,
          -2.193516254425049,
          13.317182540893555,
          -1.2701244354248047,
          3.818413257598877,
          -7.581268787384033,
          0.3827282786369324,
          -13.117841720581055,
          -8.138581275939941,
          -3.1317570209503174,
          8.481511116027832,
          -10.600055694580078,
          2.309471368789673,
          12.963459014892578,
          11.578198432922363,
          -1.8064005374908447,
          8.384211540222168,
          -10.614639282226562,
          -5.911009311676025,
          7.514819622039795,
          -8.924918174743652,
          -7.605649948120117,
          -12.515607833862305,
          -11.269975662231445,
          14.669878005981445,
          13.742484092712402,
          6.863065242767334,
          12.05105972290039,
          16.204246520996094,
          -0.5759310722351074,
          15.343280792236328,
          9.880138397216797,
          -3.357475519180298,
          -12.599578857421875,
          -7.675250053405762,
          8.87066650390625,
          3.434281349182129,
          -10.549057006835938,
          -5.191687107086182,
          7.618686199188232,
          -9.25825309753418,
          -1.318940281867981,
          14.968192100524902,
          11.162862777709961,
          -1.6172657012939453,
          5.78604793548584,
          6.3328986167907715,
          -10.479744911193848,
          -4.534704685211182,
          -0.7070291638374329,
          -5.548077583312988,
          7.6529693603515625,
          4.744317054748535,
          11.762491226196289,
          -5.524832725524902,
          -5.385889053344727,
          4.450984954833984,
          -5.111475467681885,
          0.4413023293018341,
          2.4664764404296875,
          0.21765506267547607,
          -4.631035804748535,
          10.818647384643555,
          9.496862411499023,
          11.678497314453125,
          5.49354362487793,
          -1.450281023979187,
          10.521416664123535,
          -2.782411813735962,
          -4.5214009284973145,
          2.0446572303771973,
          14.019658088684082,
          -8.128324508666992,
          -13.180002212524414,
          -14.531072616577148,
          8.034242630004883,
          -2.7342545986175537,
          -5.101889133453369,
          -5.0908050537109375,
          7.168693542480469,
          -2.2465667724609375,
          -14.543033599853516,
          -10.974676132202148,
          13.462106704711914,
          10.66124153137207,
          15.306710243225098,
          -0.5626710057258606,
          10.282380104064941,
          -1.8824381828308105,
          -6.310169696807861,
          -11.452653884887695,
          8.939520835876465,
          -12.779245376586914,
          -5.150149345397949,
          12.278335571289062,
          -10.79399585723877,
          14.84480094909668,
          -8.08780288696289,
          -7.2317118644714355,
          -5.99235200881958,
          -2.279829263687134,
          -3.523505926132202,
          -4.301276683807373,
          11.698392868041992,
          -3.1770331859588623,
          12.598788261413574,
          -12.3788480758667,
          -3.302950143814087,
          -0.5455485582351685,
          -4.604867458343506,
          -3.755206823348999,
          -12.314579010009766,
          -0.9130669832229614,
          2.3046014308929443,
          -12.357169151306152,
          -4.344113826751709,
          -8.95557975769043,
          -3.6034646034240723,
          0.3843442499637604,
          -6.136174201965332,
          -13.907660484313965,
          15.248760223388672,
          -5.839170455932617,
          9.078460693359375,
          -14.723427772521973,
          -12.469780921936035,
          15.918988227844238,
          -9.025039672851562,
          8.596417427062988,
          -10.168113708496094,
          -5.813591957092285,
          2.780959367752075,
          -12.358566284179688,
          11.270660400390625,
          -10.085772514343262,
          -9.374397277832031,
          -0.11391187459230423,
          -2.352017402648926,
          -0.5227033495903015,
          -0.29112711548805237,
          8.775588989257812,
          -8.40939998626709,
          -10.565516471862793,
          -2.0760653018951416,
          13.793108940124512,
          -9.131668090820312,
          10.863078117370605,
          6.584305286407471,
          -10.80197811126709,
          -1.9350355863571167,
          0.7995298504829407,
          11.45240592956543,
          -0.6807218790054321,
          15.79723834991455,
          6.665639400482178,
          12.006629943847656,
          13.181354522705078,
          9.069565773010254,
          -15.538472175598145,
          -1.1244271993637085,
          1.5015228986740112,
          -8.475770950317383,
          13.751908302307129,
          -12.96243953704834,
          -7.244675159454346,
          13.169168472290039,
          -2.8282816410064697,
          -3.3606765270233154,
          14.914087295532227,
          6.986663341522217,
          11.438331604003906,
          9.10650634765625,
          11.545014381408691,
          12.528531074523926,
          12.07611083984375,
          -9.218436241149902,
          -9.6010103225708,
          -8.234065055847168,
          11.999241828918457,
          1.0548310279846191,
          -4.904202461242676,
          10.736176490783691,
          2.6987318992614746,
          -10.286691665649414,
          -6.8133015632629395,
          -2.6197474002838135,
          10.012690544128418,
          -1.8649544715881348,
          -9.148357391357422,
          -9.595563888549805,
          -0.7130193710327148,
          2.915769338607788,
          0.01206390094012022,
          13.837362289428711,
          -13.404050827026367,
          8.122285842895508,
          -1.881994366645813,
          -12.150713920593262,
          1.1808744668960571,
          -10.632286071777344,
          1.499862551689148,
          13.847299575805664,
          -4.416565418243408,
          -12.572478294372559,
          10.14138126373291,
          -4.955508708953857,
          12.840865135192871,
          -10.457988739013672,
          -5.619953155517578,
          -7.561194896697998,
          -1.1379839181900024,
          -7.238661289215088,
          -6.31160306930542,
          1.4424688816070557,
          -3.0600311756134033,
          7.824286937713623,
          -5.427917957305908,
          -11.273641586303711,
          -13.003087997436523,
          12.987895011901855,
          13.545276641845703,
          14.243132591247559,
          -4.537130355834961,
          -4.643211841583252,
          -2.7135140895843506,
          6.446586608886719,
          11.715876579284668,
          13.195541381835938,
          8.901580810546875,
          -12.024275779724121,
          14.516836166381836,
          -7.014184474945068,
          -5.989471435546875,
          -6.943776607513428,
          0.25048545002937317,
          1.0135083198547363,
          -0.8732541799545288,
          -5.581037521362305,
          -12.547301292419434,
          16.111141204833984,
          -11.770125389099121,
          13.334708213806152,
          12.196186065673828,
          1.4467246532440186,
          8.71031379699707,
          -12.422765731811523,
          -4.514130115509033,
          -6.895452499389648,
          -11.378182411193848,
          -11.416237831115723,
          9.004521369934082,
          10.93783187866211,
          -2.386423349380493,
          1.3587368726730347,
          13.636740684509277,
          14.673017501831055,
          -2.059950113296509,
          15.917174339294434,
          -4.77257776260376,
          -9.587008476257324,
          3.7088918685913086,
          -5.3840765953063965,
          0.1295533925294876,
          -2.6960604190826416,
          -2.9240264892578125,
          3.1920154094696045,
          12.060911178588867,
          -9.80051040649414,
          -5.577401161193848,
          15.088519096374512,
          13.421087265014648,
          9.618597030639648,
          -9.975167274475098,
          7.177948951721191,
          0.32705625891685486,
          13.586549758911133,
          7.338665008544922,
          -3.432893991470337,
          -14.4649076461792,
          11.007744789123535,
          -11.340352058410645,
          8.940624237060547,
          -12.351763725280762,
          -8.64051342010498,
          0.45216771960258484,
          -0.5424920320510864,
          -2.8820371627807617,
          -1.9945740699768066,
          15.678201675415039,
          13.049790382385254,
          -4.085391998291016,
          -5.469418048858643,
          15.052179336547852,
          10.31332015991211,
          6.6976542472839355,
          2.1887667179107666,
          -6.4850568771362305,
          -4.483121395111084,
          8.596683502197266,
          -13.297041893005371,
          -4.239462375640869,
          -10.86119270324707,
          -2.323810338973999,
          -7.738027095794678,
          8.183835983276367,
          -7.092648029327393,
          14.222783088684082,
          -11.116264343261719,
          -5.284299373626709,
          10.697537422180176,
          -10.875146865844727,
          -5.718237400054932,
          -3.54292631149292,
          13.427451133728027,
          -2.5763161182403564,
          8.85238265991211,
          7.934678554534912,
          -2.6484498977661133,
          -15.233728408813477,
          -3.5574584007263184,
          13.18898868560791,
          -5.989807605743408,
          1.4931813478469849,
          11.273643493652344,
          12.561453819274902,
          12.229510307312012,
          9.570050239562988,
          -10.375953674316406,
          -11.677948951721191,
          7.258025169372559,
          9.717576026916504,
          -3.6016757488250732,
          -6.773721218109131,
          -14.297887802124023,
          10.538294792175293,
          11.069730758666992
         ],
         "y": [
          -9.554975509643555,
          12.286019325256348,
          -11.414002418518066,
          4.279789447784424,
          -10.088884353637695,
          5.765406608581543,
          15.281940460205078,
          4.442704677581787,
          -3.5153656005859375,
          -7.333421230316162,
          6.936346530914307,
          -8.310892105102539,
          1.7243282794952393,
          -1.5277535915374756,
          -4.692052364349365,
          0.9078182578086853,
          1.9174777269363403,
          0.7059400677680969,
          -11.209100723266602,
          -7.067083835601807,
          5.8945512771606445,
          -7.833024024963379,
          -8.43399429321289,
          -2.8911819458007812,
          3.156582832336426,
          -4.967765808105469,
          -7.8500075340271,
          -1.73334538936615,
          -0.9112255573272705,
          -0.47255653142929077,
          -2.644521713256836,
          12.216972351074219,
          -1.298699975013733,
          -3.035372018814087,
          -1.883236289024353,
          -6.0432448387146,
          -6.368518352508545,
          -1.8875023126602173,
          -9.485483169555664,
          6.5476908683776855,
          8.95419979095459,
          -0.8451122045516968,
          3.7646517753601074,
          0.7831743359565735,
          -2.4495601654052734,
          1.5822536945343018,
          -2.2669780254364014,
          -2.9626924991607666,
          -8.170647621154785,
          7.708169937133789,
          7.155338287353516,
          -10.459312438964844,
          -2.1791725158691406,
          1.4940321445465088,
          4.777845859527588,
          11.127825736999512,
          7.848484992980957,
          0.44887667894363403,
          -2.4466044902801514,
          -7.236410617828369,
          -0.04975851625204086,
          2.9544622898101807,
          -0.6309741139411926,
          -0.2324373573064804,
          6.282054901123047,
          -2.2528655529022217,
          6.795783996582031,
          0.5582932829856873,
          -7.8718438148498535,
          5.2644267082214355,
          -2.9187357425689697,
          2.6918137073516846,
          -11.191332817077637,
          7.172966957092285,
          -13.426358222961426,
          -8.038142204284668,
          -6.503052711486816,
          -0.10105476528406143,
          -11.281189918518066,
          -7.6160783767700195,
          -7.747909069061279,
          -8.239341735839844,
          -7.060921669006348,
          3.4173247814178467,
          13.086743354797363,
          9.756367683410645,
          7.1020188331604,
          9.584680557250977,
          2.841975688934326,
          -9.73024845123291,
          -11.043876647949219,
          6.962390422821045,
          3.2111363410949707,
          15.280324935913086,
          10.608169555664062,
          -1.6166882514953613,
          -1.2695457935333252,
          7.537929534912109,
          -0.350353866815567,
          -6.2588791847229,
          -11.201133728027344,
          8.035612106323242,
          7.698588848114014,
          -0.5095868706703186,
          0.9191662669181824,
          -3.8951003551483154,
          3.62414288520813,
          7.75111722946167,
          -12.690145492553711,
          -0.27405065298080444,
          -9.330876350402832,
          -10.297532081604004,
          9.856691360473633,
          -7.415367603302002,
          -10.523042678833008,
          -8.552690505981445,
          12.68996810913086,
          15.536893844604492,
          5.856048583984375,
          0.2795240581035614,
          -8.349346160888672,
          1.1045266389846802,
          8.33251953125,
          6.011800765991211,
          2.584709644317627,
          10.142515182495117,
          9.638216972351074,
          4.065331935882568,
          12.549027442932129,
          8.971561431884766,
          2.654787540435791,
          -1.4758493900299072,
          5.919593811035156,
          14.448829650878906,
          9.451964378356934,
          -8.613821029663086,
          -9.064964294433594,
          4.363816738128662,
          10.999043464660645,
          0.18430787324905396,
          6.966180801391602,
          -7.796672821044922,
          -0.6761097311973572,
          -8.490585327148438,
          -0.6020862460136414,
          -6.208195686340332,
          5.3963212966918945,
          7.613479137420654,
          11.900500297546387,
          1.2284998893737793,
          -9.401082992553711,
          -9.637185096740723,
          5.310155868530273,
          -0.16268566250801086,
          -8.979753494262695,
          -0.620994508266449,
          6.649670124053955,
          7.737597465515137,
          -13.157984733581543,
          6.973293304443359,
          13.056056022644043,
          0.5816925764083862,
          -11.242561340332031,
          -9.644794464111328,
          4.868409156799316,
          8.821741104125977,
          6.64431095123291,
          -2.1571812629699707,
          -6.878221035003662,
          2.02070689201355,
          3.296903610229492,
          7.658198356628418,
          3.9087319374084473,
          -10.629593849182129,
          2.27670955657959,
          8.557977676391602,
          4.221075534820557,
          -10.356185913085938,
          12.106059074401855,
          3.9069817066192627,
          3.4565675258636475,
          3.717524528503418,
          10.925528526306152,
          -0.17274069786071777,
          -1.5818202495574951,
          12.849298477172852,
          -0.9501677751541138,
          2.428023099899292,
          -7.351579666137695,
          -9.288455963134766,
          7.778075695037842,
          -9.303021430969238,
          6.980884552001953,
          -11.19592571258545,
          9.426595687866211,
          14.429128646850586,
          4.139489650726318,
          7.859733581542969,
          -12.093446731567383,
          2.9870128631591797,
          0.17435498535633087,
          0.8838712573051453,
          10.807686805725098,
          -7.033875465393066,
          -10.99780559539795,
          12.470758438110352,
          -6.330880641937256,
          0.7011940479278564,
          4.781142711639404,
          12.155399322509766,
          3.002019166946411,
          -0.559021532535553,
          -1.7098429203033447,
          -8.818750381469727,
          1.090412974357605,
          2.775989055633545,
          11.673311233520508,
          0.8261787295341492,
          -0.7490590810775757,
          -0.7546185255050659,
          -11.670197486877441,
          6.854408264160156,
          -7.110104560852051,
          -11.999112129211426,
          9.105586051940918,
          -6.286753177642822,
          5.40181827545166,
          -8.445928573608398,
          9.954736709594727,
          -0.6105539202690125,
          13.971025466918945,
          3.4346063137054443,
          4.851556777954102,
          4.279270648956299,
          -1.12051522731781,
          6.381936073303223,
          -2.0047173500061035,
          -8.522089958190918,
          3.7892062664031982,
          -11.196365356445312,
          1.203367829322815,
          6.903029441833496,
          -8.591377258300781,
          10.626016616821289,
          2.853877544403076,
          8.836438179016113,
          -7.831611156463623,
          -11.908690452575684,
          5.436069488525391,
          -8.639715194702148,
          -0.301852822303772,
          1.1827023029327393,
          2.5837414264678955,
          0.8131935000419617,
          -4.4513678550720215,
          -1.653430700302124,
          -10.184781074523926,
          10.630996704101562,
          -0.16833153367042542,
          -0.8911911249160767,
          -9.492217063903809,
          1.1495187282562256,
          -10.578259468078613,
          3.460170030593872,
          -1.6173961162567139,
          10.488591194152832,
          3.8021600246429443,
          9.786347389221191,
          -12.751969337463379,
          6.620452404022217,
          6.211885452270508,
          12.29916763305664,
          -10.312758445739746,
          -9.484801292419434,
          5.6665754318237305,
          3.1955819129943848,
          -1.705209732055664,
          -9.342941284179688,
          6.880979537963867,
          -7.116593837738037,
          5.243896961212158,
          -9.111295700073242,
          -6.687100410461426,
          -7.328995227813721,
          -9.853325843811035,
          8.387659072875977,
          3.1838176250457764,
          7.09453821182251,
          11.12883186340332,
          -12.394716262817383,
          -9.000478744506836,
          7.576094627380371,
          3.296144962310791,
          7.8459296226501465,
          3.730067491531372,
          8.644392013549805,
          5.065783500671387,
          -9.21539306640625,
          3.2764480113983154,
          -9.181815147399902,
          10.883866310119629,
          11.306121826171875,
          -1.474028468132019,
          3.0558197498321533,
          3.5656399726867676,
          -12.673102378845215,
          6.394415855407715,
          -11.370535850524902,
          8.262530326843262,
          -1.4124503135681152,
          -1.2689886093139648,
          8.142892837524414,
          2.7221879959106445,
          -10.647734642028809,
          4.9122538566589355,
          -10.850923538208008,
          1.9498085975646973,
          12.804791450500488,
          -12.814167976379395,
          11.124199867248535,
          10.108598709106445,
          -10.159175872802734,
          3.381653308868408,
          9.055058479309082,
          -7.339475631713867,
          -8.14177417755127,
          2.142566680908203,
          3.6953647136688232,
          -5.183849811553955,
          4.5584588050842285,
          10.09314250946045,
          -0.5441818237304688,
          2.842848777770996,
          -2.6278724670410156,
          8.97978401184082,
          -6.39743185043335,
          9.530556678771973,
          -8.671842575073242,
          -0.632470428943634,
          -2.5672295093536377,
          -9.801647186279297,
          -7.370294094085693,
          6.105509281158447,
          0.7065274119377136,
          4.1263885498046875,
          -6.0479021072387695,
          14.827291488647461,
          10.263055801391602,
          4.799229621887207,
          0.1308089941740036,
          0.3283892571926117,
          -10.055752754211426,
          -1.571086049079895,
          11.87055778503418,
          3.13063645362854,
          -7.843278408050537,
          -2.44580340385437,
          5.15411376953125,
          -2.048865556716919,
          -6.654337406158447,
          10.734848976135254,
          6.804445266723633,
          -3.280092477798462,
          7.098247051239014,
          4.323330402374268,
          -11.040022850036621,
          -0.28300294280052185,
          11.42333984375,
          10.416767120361328,
          7.669673919677734,
          3.3062260150909424,
          1.3360612392425537,
          -7.6103739738464355,
          -4.761242866516113,
          3.3446249961853027,
          5.016469955444336,
          -11.844053268432617,
          3.793107032775879,
          11.377193450927734,
          -7.295958042144775,
          6.339042663574219,
          -0.27210167050361633,
          -12.951501846313477,
          -11.691910743713379,
          9.769700050354004,
          -0.932640790939331,
          2.9824867248535156,
          2.1673808097839355,
          3.3150978088378906,
          -10.89217758178711,
          5.1180195808410645,
          -1.8863847255706787,
          -11.51707935333252,
          -8.931974411010742,
          -0.7340191602706909,
          11.966854095458984,
          -4.073740005493164,
          2.5106618404388428,
          -8.653645515441895,
          -6.996304512023926,
          0.44204553961753845,
          4.7274065017700195,
          8.044760704040527,
          12.018538475036621,
          1.9289385080337524,
          10.75490665435791,
          -8.198310852050781,
          -1.5369876623153687,
          8.470340728759766,
          9.250850677490234,
          9.1405668258667,
          -8.284615516662598,
          0.1747322678565979,
          -11.73119068145752,
          8.05018138885498,
          3.6235103607177734,
          7.719972133636475,
          12.098250389099121,
          4.097564220428467,
          -5.701817512512207,
          -10.884932518005371,
          5.096107006072998,
          6.80615234375,
          11.252058029174805,
          -6.3794450759887695,
          9.915987968444824,
          13.954587936401367,
          4.058781623840332,
          -10.714664459228516,
          -6.0821533203125,
          -8.743581771850586,
          13.75875186920166,
          3.0641818046569824,
          3.104968547821045,
          -3.54469633102417,
          3.801853895187378,
          0.3311539590358734,
          -7.244914531707764,
          -12.274018287658691,
          -10.625221252441406,
          -4.7032790184021,
          -10.982828140258789,
          -10.730351448059082,
          -5.36283016204834,
          2.4972567558288574,
          4.911661624908447,
          -1.1848015785217285,
          2.018993616104126,
          -7.86817741394043,
          4.470214366912842,
          4.712265491485596,
          -8.909051895141602,
          5.480408668518066,
          -12.395155906677246,
          8.639239311218262,
          10.020736694335938,
          0.9306533932685852,
          -9.116318702697754,
          -11.58372974395752,
          -10.459749221801758,
          9.652426719665527,
          -9.214112281799316,
          3.585984230041504,
          -9.135589599609375,
          -1.4802509546279907,
          -11.245393753051758,
          -12.751568794250488,
          -0.11259249597787857,
          8.9190034866333,
          -7.4439873695373535,
          -7.88832950592041,
          -1.3663084506988525,
          7.346811294555664,
          -8.7783784866333,
          4.646770000457764,
          9.859786033630371,
          14.58543586730957,
          3.026095390319824,
          -8.11365795135498,
          10.135510444641113,
          7.485930442810059,
          4.050065040588379,
          2.6105048656463623,
          -4.927663326263428,
          12.96731185913086,
          -5.985012531280518,
          6.2494282722473145,
          -11.47778034210205,
          -9.147605895996094,
          -12.067532539367676,
          -10.887232780456543,
          8.557456016540527,
          1.710799217224121,
          -2.1625940799713135,
          -8.28851318359375,
          4.7284650802612305,
          8.999655723571777,
          8.015899658203125,
          0.8109187483787537,
          -10.72656536102295,
          10.784402847290039,
          -1.4821869134902954,
          -7.793674945831299,
          2.642504930496216,
          -10.5632963180542,
          -11.384186744689941,
          -12.93006420135498,
          10.579026222229004,
          -11.906533241271973,
          2.869410753250122,
          -9.920906066894531,
          8.353178024291992,
          5.513473987579346,
          -1.8636882305145264,
          -9.964604377746582,
          1.8360573053359985,
          0.030164089053869247,
          -12.381063461303711,
          0.4491107165813446,
          6.560179233551025,
          -11.570964813232422,
          -5.325958728790283,
          0.09396158903837204,
          -4.608938694000244,
          -0.8512360453605652,
          11.895358085632324,
          -11.700704574584961,
          11.257075309753418,
          1.9394713640213013,
          -11.87787914276123,
          7.50478982925415,
          -0.32988035678863525,
          7.825337886810303,
          2.507922649383545,
          8.620487213134766,
          -0.7298773527145386,
          10.02799129486084,
          -6.851033687591553,
          -5.362874984741211,
          7.000385761260986,
          -0.22189870476722717,
          6.180655479431152,
          8.96723747253418,
          12.59837532043457,
          10.358621597290039,
          7.912587642669678,
          -5.129337310791016,
          5.203673839569092,
          4.110651016235352,
          -6.151206016540527,
          -0.9216787219047546,
          -7.608616828918457,
          -8.429461479187012,
          -13.18005657196045,
          2.6188151836395264,
          8.262825012207031,
          8.14924144744873,
          -14.373498916625977,
          3.112671136856079,
          -1.4999005794525146,
          -5.988557815551758,
          -0.5481566786766052,
          3.0733282566070557,
          6.386013507843018,
          1.9250164031982422,
          -7.302305698394775,
          6.758281707763672,
          -1.171629548072815,
          4.314755439758301,
          7.933592796325684,
          -10.233872413635254,
          8.326469421386719,
          3.241711139678955,
          0.053817346692085266,
          11.687050819396973,
          -2.2799248695373535,
          11.828108787536621,
          10.48881721496582,
          -7.993935585021973,
          -8.842472076416016,
          -10.683480262756348,
          -10.264721870422363,
          -5.376121520996094,
          12.761787414550781,
          8.253084182739258,
          -6.107895851135254,
          -11.485617637634277,
          4.492736339569092,
          10.454527854919434,
          -0.189461812376976,
          5.394099712371826,
          5.784558296203613,
          -2.778818368911743,
          2.3870465755462646,
          -1.5386322736740112,
          -1.2906056642532349,
          3.610250949859619,
          -1.5687700510025024,
          3.759521722793579,
          -5.652731895446777,
          5.985838890075684,
          -0.08342195302248001,
          2.500016689300537,
          13.997465133666992,
          5.805670261383057,
          11.189078330993652,
          3.3419840335845947,
          -1.4727427959442139,
          0.749334454536438,
          10.123946189880371,
          0.0019130349392071366,
          -9.884343147277832,
          -12.393481254577637,
          -10.45905876159668,
          -8.739950180053711,
          2.866663932800293,
          3.508233070373535,
          3.0164031982421875,
          1.8788902759552002,
          -11.608488082885742,
          -3.0908782482147217,
          -0.8134973049163818,
          -0.803848147392273,
          -0.38847535848617554,
          -4.974857807159424,
          1.845163345336914,
          12.884099006652832,
          -11.113011360168457,
          -0.8790331482887268,
          -9.052623748779297,
          0.15412136912345886,
          8.00326156616211,
          -13.597246170043945,
          -6.18328857421875,
          -9.850902557373047,
          -5.606030464172363,
          -10.957152366638184,
          -2.609227418899536,
          8.533055305480957,
          -1.585673451423645,
          -11.06320571899414,
          12.219542503356934,
          14.4524564743042,
          -7.658976078033447,
          -1.791456699371338,
          -12.041930198669434,
          -8.091907501220703,
          -7.545662879943848,
          -4.309491157531738,
          -10.827985763549805,
          5.374789714813232,
          6.522368431091309,
          -0.17936354875564575,
          6.127845287322998,
          8.265851974487305,
          9.608604431152344,
          -6.7298903465271,
          -8.08284854888916,
          1.1226389408111572,
          -0.02465929463505745,
          -1.1547552347183228,
          -1.9424121379852295,
          -1.6714972257614136,
          -9.582530975341797,
          5.609844207763672,
          -2.012066602706909,
          2.7111406326293945,
          14.564510345458984,
          7.852821350097656,
          7.670897483825684,
          -0.2588616907596588,
          -7.156217098236084,
          0.2884196639060974,
          -1.539535403251648,
          6.1194844245910645,
          -0.23102016746997833,
          12.680033683776855,
          9.916555404663086,
          4.292118072509766,
          14.413811683654785,
          -6.702939510345459,
          4.186624050140381,
          -10.001554489135742,
          4.112893104553223,
          4.843606948852539,
          8.132824897766113,
          -5.295592308044434,
          9.592727661132812,
          7.125377655029297,
          -1.6310343742370605,
          3.411919593811035,
          -0.5705375075340271,
          -0.4948824644088745,
          5.169849872589111,
          8.634017944335938,
          8.128936767578125,
          -7.153439044952393,
          -6.243481636047363,
          -11.899267196655273,
          -1.3827167749404907,
          3.088200330734253,
          -0.552865207195282,
          -1.5257563591003418,
          -0.9036317467689514,
          -6.1625776290893555,
          11.236926078796387,
          5.765341758728027,
          -2.238095760345459,
          -4.412747383117676,
          0.7634814977645874,
          -2.7605154514312744,
          7.001554489135742,
          2.3620338439941406,
          -4.794583797454834,
          2.9519004821777344,
          7.856807231903076,
          5.872045993804932,
          2.2235071659088135,
          2.9819886684417725,
          4.547105312347412,
          -11.242830276489258,
          11.177478790283203,
          6.247488498687744,
          -10.414541244506836,
          2.186657667160034,
          -1.282493233680725,
          4.106363296508789,
          8.565168380737305,
          3.182687997817993,
          6.018250465393066,
          3.4923975467681885,
          -6.757871150970459,
          -2.067678689956665,
          -2.6083433628082275,
          0.25374072790145874,
          7.945008277893066,
          -8.906697273254395,
          -9.912199020385742,
          -10.041441917419434,
          -1.1697351932525635,
          1.4531261920928955,
          -6.746223449707031,
          -7.527967929840088,
          0.8987448811531067,
          -8.501577377319336,
          -9.284278869628906,
          -7.357999324798584,
          9.407058715820312,
          -9.5885591506958,
          -1.4480828046798706,
          11.689987182617188,
          -8.140231132507324,
          11.205362319946289,
          9.564375877380371,
          5.840620040893555,
          -10.683676719665527,
          -7.472512245178223,
          1.5375666618347168,
          -1.7171491384506226,
          10.397333145141602,
          -0.6353101134300232,
          0.30891719460487366,
          3.5553770065307617,
          8.039970397949219,
          -10.506997108459473,
          11.67521858215332,
          10.836320877075195,
          -8.70434284210205,
          13.142148971557617,
          -9.637493133544922,
          -7.51605224609375,
          -7.263624668121338,
          -2.498863458633423,
          13.825451850891113,
          -8.137545585632324,
          6.276596546173096,
          -0.7801293730735779,
          3.2864320278167725,
          -13.678768157958984,
          -9.628973960876465,
          -8.499709129333496,
          11.5675687789917,
          8.146066665649414,
          -9.62273120880127,
          -11.466926574707031,
          -1.3390575647354126,
          3.409808397293091,
          6.4815497398376465,
          -8.387456893920898,
          -5.28529167175293,
          1.9361164569854736,
          -8.23200511932373,
          -0.10857158899307251,
          -13.394506454467773,
          10.45711898803711,
          11.585001945495605,
          4.56020975112915,
          -8.318316459655762,
          -9.942781448364258,
          7.268729209899902,
          2.418863534927368,
          -0.46473079919815063,
          1.2069005966186523,
          12.738288879394531,
          -11.432126998901367,
          8.693111419677734,
          2.1832032203674316,
          8.183429718017578,
          7.1635284423828125,
          2.7411162853240967,
          -7.3564910888671875,
          1.8345513343811035,
          -13.249687194824219,
          -10.251375198364258,
          8.685809135437012,
          -7.710958003997803,
          7.178699016571045,
          1.4727098941802979,
          4.044529438018799,
          5.027268409729004,
          6.481137275695801,
          -10.344353675842285,
          -9.672555923461914,
          9.56719970703125,
          4.937540054321289,
          -0.7622986435890198,
          7.183367729187012,
          -8.350153923034668,
          -11.225846290588379,
          -0.9775828719139099,
          8.135488510131836,
          -7.250148296356201,
          -1.3938424587249756,
          1.4683324098587036,
          -9.677019119262695,
          5.622646808624268,
          -6.84868049621582,
          -9.796504020690918,
          6.684776306152344,
          1.772985816001892,
          -9.227761268615723,
          -0.734620988368988,
          4.8525495529174805,
          6.9999799728393555,
          12.529831886291504,
          8.329629898071289,
          8.174827575683594,
          -9.519962310791016,
          -9.840632438659668,
          2.3648598194122314,
          7.964244842529297,
          -12.691378593444824,
          0.9077174067497253,
          -8.838723182678223,
          2.656461715698242,
          6.276354789733887,
          2.168217658996582,
          8.697880744934082,
          -7.621094703674316,
          -0.16912433505058289,
          -9.845083236694336,
          -7.241295337677002,
          -0.564534604549408,
          -6.899700164794922,
          6.2298078536987305,
          4.496702671051025,
          15.6142578125,
          -5.75106954574585,
          5.987123012542725,
          -8.660967826843262,
          4.572323799133301,
          -0.37977415323257446,
          7.278101921081543,
          -10.084115982055664,
          12.063998222351074,
          3.8267481327056885,
          -0.7816301584243774,
          3.914191246032715,
          -6.877790451049805,
          -9.636185646057129,
          -8.27040958404541,
          -12.361797332763672,
          -7.205474376678467,
          2.0495731830596924,
          2.6229727268218994,
          9.404378890991211,
          -9.483602523803711,
          3.2863826751708984,
          -9.514439582824707,
          0.7654957175254822,
          -7.530170917510986,
          -0.8011739253997803,
          -5.967533588409424,
          -7.654860496520996,
          -1.0417312383651733,
          -8.424217224121094,
          -8.30484390258789,
          9.271476745605469,
          1.9155654907226562,
          1.1760783195495605,
          6.414757251739502,
          1.3410664796829224,
          5.495027542114258,
          1.426297903060913,
          -7.546204566955566,
          -7.433570861816406,
          4.813100814819336,
          13.07598876953125,
          -5.596830368041992,
          -12.200444221496582,
          6.255720615386963,
          4.529175758361816,
          3.242094039916992,
          -13.589982986450195,
          0.0036428978201001883,
          -10.944283485412598,
          -6.7830729484558105,
          8.501075744628906,
          8.690397262573242,
          8.438416481018066,
          -11.937273979187012,
          5.6713409423828125,
          -0.3414803445339203,
          -7.520539283752441,
          6.751320838928223,
          -9.128191947937012,
          11.702041625976562,
          -7.491121768951416,
          3.4992868900299072,
          6.471587181091309,
          -10.855172157287598,
          0.9632464647293091,
          6.59276819229126,
          -0.35476404428482056,
          3.094801187515259,
          -6.204141139984131,
          -0.9329735636711121,
          -9.752534866333008,
          11.963250160217285,
          6.837887763977051,
          -7.593250274658203,
          2.5021748542785645,
          -10.46634292602539,
          8.660304069519043,
          -11.995050430297852,
          -1.4686050415039062,
          -10.755285263061523,
          -10.596750259399414,
          6.941939353942871,
          12.327412605285645,
          -7.75363826751709,
          -0.8628655076026917,
          1.6576400995254517,
          3.986013889312744,
          1.5248830318450928,
          7.660510063171387,
          8.661225318908691,
          0.09941964596509933,
          1.3760250806808472,
          2.806497812271118,
          10.834718704223633,
          4.927222728729248,
          -10.31357479095459,
          -11.841630935668945,
          -8.078380584716797,
          8.723665237426758,
          7.241098880767822,
          -13.248393058776855,
          -0.7366674542427063,
          2.3377320766448975,
          -1.1149362325668335,
          -9.606865882873535,
          -9.814506530761719,
          -10.545950889587402,
          -7.37549352645874,
          11.890765190124512,
          9.927848815917969,
          -1.0049630403518677,
          -2.0300204753875732,
          6.692129611968994,
          -0.3619387149810791,
          -11.320752143859863,
          -8.717971801757812,
          13.437928199768066,
          -0.3047088086605072,
          4.776518821716309,
          3.455540418624878,
          5.405994415283203,
          8.003142356872559,
          -6.512354373931885,
          5.908078670501709,
          -13.595431327819824,
          -12.088004112243652,
          -9.61361026763916,
          -0.04920349270105362,
          -8.051648139953613,
          0.8967028856277466,
          -8.035721778869629,
          3.8953630924224854,
          -6.688666820526123
         ],
         "z": [
          3.740025520324707,
          6.744065284729004,
          -5.958352565765381,
          -3.6281604766845703,
          -5.046669006347656,
          -5.04902458190918,
          3.182464599609375,
          -8.075129508972168,
          5.194558620452881,
          6.677130222320557,
          -9.529465675354004,
          -0.09986362606287003,
          -2.1436421871185303,
          0.21205055713653564,
          -5.212335586547852,
          -0.3736220598220825,
          -2.05617356300354,
          1.8440608978271484,
          -5.651218414306641,
          -0.6790938973426819,
          -4.659724712371826,
          -0.9598077535629272,
          -8.444252967834473,
          5.3037309646606445,
          -8.611496925354004,
          -2.0024631023406982,
          -1.2530369758605957,
          3.7332217693328857,
          -0.9358159899711609,
          -7.439470291137695,
          4.1074419021606445,
          2.763225555419922,
          -2.207620859146118,
          -5.59932279586792,
          10.031083106994629,
          -0.2661251127719879,
          0.04531232640147209,
          3.4057586193084717,
          -0.16164790093898773,
          -6.345703601837158,
          3.062329053878784,
          -4.923233985900879,
          5.289116859436035,
          -7.385192394256592,
          -5.794044494628906,
          0.10045302659273148,
          -4.974327564239502,
          5.364434719085693,
          -0.4223386347293854,
          6.366242408752441,
          -5.255788803100586,
          -5.372766017913818,
          8.789169311523438,
          -0.03310580551624298,
          -5.046227931976318,
          -3.3550808429718018,
          -6.673583984375,
          12.16999340057373,
          -5.799041271209717,
          -4.841323375701904,
          9.025097846984863,
          6.946156024932861,
          -1.3779606819152832,
          -5.032884120941162,
          7.366896629333496,
          -4.122219085693359,
          0.2884613275527954,
          2.798196792602539,
          -1.6162275075912476,
          -10.287199974060059,
          -6.936385154724121,
          -5.989678859710693,
          0.2061874270439148,
          -4.69045877456665,
          -1.6391738653182983,
          1.5227258205413818,
          -3.0130136013031006,
          -4.009561538696289,
          0.014754746109247208,
          1.1688138246536255,
          1.8429515361785889,
          -0.23458980023860931,
          -5.932552814483643,
          5.640875816345215,
          5.173155784606934,
          2.8451735973358154,
          1.97555673122406,
          5.286245822906494,
          -0.3780350089073181,
          -1.9235913753509521,
          1.0029951333999634,
          -8.336797714233398,
          6.5636210441589355,
          1.5464811325073242,
          -0.2885603606700897,
          -2.572732448577881,
          5.3541717529296875,
          3.4125609397888184,
          6.253654956817627,
          -3.92094349861145,
          -0.03715744614601135,
          4.918158054351807,
          3.230220317840576,
          8.348227500915527,
          -2.7509140968322754,
          4.5777153968811035,
          1.3342983722686768,
          6.881175518035889,
          -2.4045488834381104,
          -5.183841228485107,
          -3.1595473289489746,
          -2.242861270904541,
          -8.692347526550293,
          2.5567450523376465,
          -3.8639769554138184,
          -1.5790053606033325,
          -0.750899076461792,
          1.300977349281311,
          -4.158398151397705,
          5.094268321990967,
          -1.3599743843078613,
          0.07585996389389038,
          5.226351737976074,
          4.976078510284424,
          4.87986421585083,
          5.865429878234863,
          -1.314189076423645,
          -5.0072174072265625,
          5.700455188751221,
          5.4181294441223145,
          10.10976505279541,
          6.183961391448975,
          -4.755197525024414,
          2.967268943786621,
          4.790259838104248,
          4.661699295043945,
          -6.26345157623291,
          -3.19366717338562,
          6.500485420227051,
          2.0636744499206543,
          -5.234024524688721,
          -1.9851174354553223,
          9.273351669311523,
          -4.5057830810546875,
          4.641541481018066,
          3.5400631427764893,
          -9.252556800842285,
          2.773989200592041,
          5.986919403076172,
          1.3570210933685303,
          -3.5226240158081055,
          0.8966535329818726,
          1.7011659145355225,
          10.071913719177246,
          -0.2226688414812088,
          4.672574996948242,
          7.209467887878418,
          5.235918045043945,
          1.1752263307571411,
          -5.9592366218566895,
          0.40544629096984863,
          11.396117210388184,
          2.5754127502441406,
          -0.19305793941020966,
          -5.91740608215332,
          5.9070143699646,
          -4.365853786468506,
          -7.97762393951416,
          -6.298108100891113,
          4.142759799957275,
          1.4991470575332642,
          2.3458945751190186,
          -8.805615425109863,
          -6.060088157653809,
          6.664358139038086,
          4.851625442504883,
          -6.364556312561035,
          -6.673823356628418,
          5.278555393218994,
          -3.6651875972747803,
          2.579007863998413,
          -11.508172988891602,
          2.0628974437713623,
          -9.235498428344727,
          -8.676913261413574,
          0.025261089205741882,
          -7.191038608551025,
          9.685002326965332,
          3.129857063293457,
          0.7157366871833801,
          3.5910398960113525,
          -3.672565221786499,
          -8.188109397888184,
          -5.010002613067627,
          -0.18408989906311035,
          2.6277005672454834,
          2.9265224933624268,
          5.957197189331055,
          -0.3739798367023468,
          4.870118618011475,
          0.9403059482574463,
          1.825449824333191,
          -1.2860318422317505,
          -5.173513412475586,
          -5.751274585723877,
          2.2096493244171143,
          -0.1289258748292923,
          0.8372953534126282,
          -11.139670372009277,
          6.244782447814941,
          6.905188083648682,
          -9.069794654846191,
          -4.773498058319092,
          -2.251561403274536,
          0.11875364929437637,
          1.2963513135910034,
          6.454666614532471,
          -2.9869587421417236,
          -3.6999006271362305,
          3.362321138381958,
          -5.521019458770752,
          6.266851902008057,
          -4.672115802764893,
          -2.1237640380859375,
          1.3777897357940674,
          -0.31309446692466736,
          5.530327796936035,
          4.2424187660217285,
          4.7143683433532715,
          -11.415536880493164,
          3.1133906841278076,
          6.419914722442627,
          -4.176644325256348,
          -3.347700834274292,
          6.946967124938965,
          6.740039825439453,
          9.243053436279297,
          1.1192914247512817,
          -5.226033687591553,
          -7.825860977172852,
          0.6528314352035522,
          2.570425033569336,
          -8.056549072265625,
          4.825531482696533,
          -8.472677230834961,
          2.2249600887298584,
          3.7197279930114746,
          1.8084460496902466,
          5.1560468673706055,
          -7.621588706970215,
          11.651185989379883,
          3.732027769088745,
          -6.006102561950684,
          10.975078582763672,
          4.302601337432861,
          6.927377700805664,
          4.197507858276367,
          3.6820337772369385,
          -11.82378101348877,
          4.830416202545166,
          -7.906146049499512,
          9.829485893249512,
          -4.74483060836792,
          3.359342098236084,
          11.205554008483887,
          4.996031284332275,
          -3.7806646823883057,
          0.27535146474838257,
          -2.2782299518585205,
          4.430455684661865,
          6.053605556488037,
          0.26165053248405457,
          3.8594563007354736,
          -8.693532943725586,
          -5.74553918838501,
          9.554676055908203,
          -2.3607356548309326,
          -3.4936165809631348,
          6.757495880126953,
          3.2471213340759277,
          4.9998040199279785,
          -8.643831253051758,
          4.579944610595703,
          3.051811933517456,
          -4.0139031410217285,
          7.05926513671875,
          5.237115859985352,
          6.059417724609375,
          4.958437442779541,
          0.7341644763946533,
          -3.0606400966644287,
          7.84580659866333,
          1.0216968059539795,
          7.421357154846191,
          5.401264190673828,
          -6.507574081420898,
          -8.91706657409668,
          1.040614128112793,
          2.0099918842315674,
          2.8143625259399414,
          2.7883996963500977,
          2.7754807472229004,
          -6.045108318328857,
          -7.683565616607666,
          -9.093908309936523,
          1.174290657043457,
          4.280967712402344,
          1.5989243984222412,
          3.0915367603302,
          -9.100576400756836,
          -8.94034194946289,
          1.813349723815918,
          -11.671791076660156,
          -8.114269256591797,
          0.3299352824687958,
          2.9452903270721436,
          4.398468494415283,
          3.9715073108673096,
          0.7194358110427856,
          -0.809794008731842,
          2.9858574867248535,
          3.191880702972412,
          -5.1940507888793945,
          1.2997443675994873,
          -2.4712107181549072,
          0.6642158031463623,
          -3.336603879928589,
          -4.9706525802612305,
          -7.298976898193359,
          -8.431598663330078,
          -0.06855130195617676,
          -1.584160566329956,
          9.67419147491455,
          4.9532151222229,
          5.182680130004883,
          -4.265261650085449,
          6.199131488800049,
          5.293877124786377,
          -6.860963344573975,
          -1.8790370225906372,
          5.109546661376953,
          4.173248767852783,
          -4.008159160614014,
          10.263848304748535,
          -7.3629326820373535,
          -6.627762317657471,
          2.368316650390625,
          3.752164840698242,
          -5.036007404327393,
          -1.6417392492294312,
          4.360999584197998,
          4.509797096252441,
          5.1847991943359375,
          0.5069968104362488,
          5.257104873657227,
          4.690252304077148,
          8.804478645324707,
          5.972166538238525,
          -3.8740978240966797,
          -1.1871325969696045,
          5.6595635414123535,
          4.564372539520264,
          6.232614040374756,
          3.4347708225250244,
          -5.171316146850586,
          2.5716373920440674,
          -5.247550964355469,
          1.6670466661453247,
          3.4197328090667725,
          7.467513561248779,
          3.7200145721435547,
          0.5184663534164429,
          -2.776552438735962,
          -7.203415870666504,
          -5.118896484375,
          3.929976463317871,
          -0.5419225096702576,
          -8.079940795898438,
          -0.5935854315757751,
          -1.1468826532363892,
          -6.394177436828613,
          1.2017220258712769,
          -1.2877823114395142,
          1.188317060470581,
          6.08111047744751,
          5.213056564331055,
          0.6045395731925964,
          1.1976178884506226,
          5.266345024108887,
          -2.159165143966675,
          5.4948954582214355,
          5.130949974060059,
          2.9861502647399902,
          1.2958904504776,
          6.509435176849365,
          0.3419010043144226,
          4.6233954429626465,
          -8.049997329711914,
          0.7780685424804688,
          3.9695022106170654,
          5.10932731628418,
          7.31300163269043,
          1.61186945438385,
          2.020247220993042,
          -8.670424461364746,
          0.17684432864189148,
          -5.220527172088623,
          0.6042630076408386,
          -6.169468402862549,
          2.994018077850342,
          6.344335556030273,
          -0.590438723564148,
          -4.030307292938232,
          1.383259654045105,
          8.35857105255127,
          5.875959396362305,
          5.289954662322998,
          4.82354211807251,
          -4.698164939880371,
          -6.26806116104126,
          -2.4037744998931885,
          2.401398181915283,
          6.712261199951172,
          4.453524589538574,
          -5.595436096191406,
          4.13576078414917,
          2.9947614669799805,
          -8.793045043945312,
          1.1172816753387451,
          -3.2321014404296875,
          -1.3750606775283813,
          0.7618525624275208,
          5.924330711364746,
          -7.210050582885742,
          -6.441259384155273,
          3.029171943664551,
          3.8504433631896973,
          -3.8046822547912598,
          -1.9635331630706787,
          -5.0610785484313965,
          4.402011871337891,
          0.7809589505195618,
          -4.678730010986328,
          -1.8957515954971313,
          0.02700885757803917,
          -7.3210039138793945,
          -6.462100505828857,
          8.955461502075195,
          -8.075504302978516,
          -11.65692138671875,
          6.510689735412598,
          -5.534595966339111,
          4.372390270233154,
          1.1773678064346313,
          -8.700567245483398,
          -1.0780996084213257,
          6.6671881675720215,
          -6.716125965118408,
          -0.1515772044658661,
          -1.431249737739563,
          6.541983604431152,
          -4.495415210723877,
          5.590537071228027,
          4.004178524017334,
          5.249292850494385,
          0.9419046640396118,
          -2.785715341567993,
          -6.749154567718506,
          5.51320743560791,
          -6.259334564208984,
          -0.9549492001533508,
          4.032261848449707,
          1.254159927368164,
          3.6418142318725586,
          3.567566156387329,
          0.442651629447937,
          3.292163133621216,
          -8.641077041625977,
          5.085530757904053,
          5.2006330490112305,
          4.001128673553467,
          6.37291955947876,
          -9.046635627746582,
          -3.7322468757629395,
          -0.2860560119152069,
          -2.93056058883667,
          2.0361552238464355,
          1.2269260883331299,
          4.632632732391357,
          -7.569602966308594,
          1.7981985807418823,
          -7.351888656616211,
          -9.500818252563477,
          -5.885314464569092,
          -7.375732898712158,
          -9.478323936462402,
          3.969790458679199,
          -6.698352813720703,
          9.105246543884277,
          -1.6141064167022705,
          6.4074177742004395,
          3.853847026824951,
          -0.3615152835845947,
          0.1240893304347992,
          1.5542317628860474,
          -7.680990219116211,
          -0.41460734605789185,
          4.820981502532959,
          0.44388625025749207,
          -11.60285472869873,
          -3.0191776752471924,
          5.137820243835449,
          3.9796574115753174,
          -1.9689768552780151,
          0.10589431971311569,
          8.73598575592041,
          11.49378776550293,
          -0.41852572560310364,
          4.576496124267578,
          4.281940937042236,
          -1.4891057014465332,
          -6.077486515045166,
          -9.42020320892334,
          -7.1552863121032715,
          -2.950124979019165,
          -1.3789080381393433,
          1.9627244472503662,
          2.7031185626983643,
          6.297201156616211,
          2.7834274768829346,
          3.179905414581299,
          -4.548059940338135,
          -5.089285373687744,
          3.977903127670288,
          -7.759220600128174,
          -9.216473579406738,
          2.3802311420440674,
          -4.181784629821777,
          4.781037330627441,
          4.675623416900635,
          2.916106939315796,
          -8.28779411315918,
          6.571535587310791,
          5.096767425537109,
          3.7468326091766357,
          -4.120612621307373,
          3.764525890350342,
          -6.952069282531738,
          -9.305866241455078,
          4.3785080909729,
          7.984673500061035,
          2.90897536277771,
          -3.258052349090576,
          1.12898588180542,
          9.256889343261719,
          2.4645328521728516,
          -5.6279683113098145,
          -0.5656794309616089,
          -3.908766746520996,
          7.122690200805664,
          -1.7023590803146362,
          -3.907121419906616,
          9.81442642211914,
          -10.193893432617188,
          5.0415143966674805,
          0.3572292625904083,
          5.744554042816162,
          3.859691858291626,
          -10.836588859558105,
          -9.80610179901123,
          2.548633098602295,
          -8.564900398254395,
          -7.851169586181641,
          -1.5105990171432495,
          4.187563896179199,
          -8.16003704071045,
          4.777734756469727,
          5.342099189758301,
          3.15492844581604,
          -2.0672340393066406,
          -1.5423024892807007,
          -0.4034018814563751,
          -6.918724536895752,
          4.289125919342041,
          3.2977235317230225,
          -0.11174089461565018,
          3.269456386566162,
          2.9939961433410645,
          1.0182567834854126,
          -5.016376495361328,
          7.238527297973633,
          3.074286460876465,
          6.827319145202637,
          -8.22468376159668,
          7.472169399261475,
          9.52983283996582,
          -6.668434143066406,
          -4.942133903503418,
          -9.168251037597656,
          -2.394909620285034,
          -3.9997990131378174,
          0.6705563068389893,
          -11.679272651672363,
          1.7641029357910156,
          -9.628589630126953,
          6.400896072387695,
          -5.820158958435059,
          -1.6448183059692383,
          4.91562557220459,
          3.0867252349853516,
          -9.928986549377441,
          -1.8526347875595093,
          -1.5726864337921143,
          4.111084461212158,
          4.856362819671631,
          10.00680160522461,
          2.124863624572754,
          -0.5295432209968567,
          4.774922847747803,
          3.124638557434082,
          6.286837100982666,
          8.635663032531738,
          11.573498725891113,
          4.575484275817871,
          -6.923789024353027,
          -6.7601213455200195,
          0.32133856415748596,
          -3.248659610748291,
          0.3029283881187439,
          3.565436601638794,
          9.416359901428223,
          5.517770290374756,
          -0.3552136719226837,
          -5.987200736999512,
          -1.8697869777679443,
          4.708056926727295,
          -2.157931089401245,
          6.537208080291748,
          -9.06067943572998,
          8.00163745880127,
          -6.002453327178955,
          6.152698993682861,
          2.6209805011749268,
          -1.3316850662231445,
          -1.3559188842773438,
          2.595517158508301,
          -6.440138339996338,
          4.239579200744629,
          -6.8976335525512695,
          3.7301721572875977,
          5.553037643432617,
          5.4215779304504395,
          1.2870734930038452,
          -4.118687152862549,
          4.899092197418213,
          0.9708859324455261,
          -4.5886406898498535,
          3.2644221782684326,
          0.6599419116973877,
          -4.888123512268066,
          -6.957826614379883,
          8.666450500488281,
          5.387013912200928,
          3.197591781616211,
          -7.842848300933838,
          9.340178489685059,
          -3.445492744445801,
          2.633523941040039,
          6.190491199493408,
          4.550294399261475,
          2.2820303440093994,
          4.679625034332275,
          11.510004043579102,
          6.863490104675293,
          -6.830494403839111,
          7.3401198387146,
          4.847415447235107,
          -7.688141345977783,
          -7.459174633026123,
          3.0884182453155518,
          -6.905355930328369,
          4.602984428405762,
          5.1571550369262695,
          -8.666699409484863,
          9.244423866271973,
          4.310155868530273,
          3.00850510597229,
          3.3240396976470947,
          -8.85512638092041,
          -7.838644981384277,
          -6.188442230224609,
          -9.363882064819336,
          -4.147521495819092,
          2.1669225692749023,
          -7.81581449508667,
          -4.896512031555176,
          -0.5701271891593933,
          -0.3920072019100189,
          0.5408803820610046,
          -7.452310085296631,
          0.9317005276679993,
          11.174276351928711,
          0.18728134036064148,
          -0.907193124294281,
          4.274593830108643,
          -2.288257598876953,
          -7.866526126861572,
          0.14310485124588013,
          6.168108940124512,
          -7.823904514312744,
          -5.243364334106445,
          5.248048782348633,
          3.442692995071411,
          -2.0866353511810303,
          -1.5267972946166992,
          -7.331496238708496,
          -5.047446250915527,
          0.03457102179527283,
          -1.703783631324768,
          2.800008773803711,
          -5.670159816741943,
          -1.9042789936065674,
          1.0263688564300537,
          -5.365022659301758,
          9.122567176818848,
          -2.2203238010406494,
          -11.726469039916992,
          -4.420589923858643,
          -4.070711135864258,
          -6.365131378173828,
          6.719318866729736,
          -2.0693228244781494,
          6.981145858764648,
          6.418920516967773,
          6.072655200958252,
          -9.37176513671875,
          -1.7904372215270996,
          1.6495057344436646,
          0.9303379654884338,
          -9.967340469360352,
          1.8191816806793213,
          1.7061283588409424,
          2.4950807094573975,
          -10.926275253295898,
          0.6032212972640991,
          0.8260318636894226,
          -1.853853464126587,
          -7.827230453491211,
          -6.738574981689453,
          -6.592761993408203,
          6.123908519744873,
          -3.161647319793701,
          -0.4064147472381592,
          -0.16728582978248596,
          4.128108501434326,
          -6.179699897766113,
          1.2120698690414429,
          9.562250137329102,
          -1.883987307548523,
          4.8364973068237305,
          -8.707584381103516,
          11.707192420959473,
          2.0028326511383057,
          3.366032123565674,
          2.844924211502075,
          1.1350829601287842,
          0.14441178739070892,
          -2.9266278743743896,
          3.712693214416504,
          -2.8958075046539307,
          1.4494019746780396,
          4.684086322784424,
          5.619490146636963,
          3.3719263076782227,
          1.4262967109680176,
          2.459355592727661,
          0.4837147891521454,
          1.7526683807373047,
          -0.3290010690689087,
          1.8239887952804565,
          -0.022751672193408012,
          0.47345247864723206,
          2.5771799087524414,
          -3.0460498332977295,
          1.8768131732940674,
          -7.6310200691223145,
          8.783716201782227,
          -6.933919906616211,
          -0.6185706853866577,
          -0.4453663229942322,
          -9.100725173950195,
          2.0846829414367676,
          -11.15877914428711,
          0.7825443148612976,
          -0.19985023140907288,
          1.930752158164978,
          4.147380352020264,
          -7.662923812866211,
          -0.2911027669906616,
          2.04791259765625,
          -0.17115330696105957,
          1.2349276542663574,
          5.499835014343262,
          6.008660316467285,
          -7.1687726974487305,
          5.411205291748047,
          8.794506072998047,
          3.190709352493286,
          -5.574023246765137,
          3.617560863494873,
          -4.465037822723389,
          -10.504290580749512,
          0.17093145847320557,
          -2.287179470062256,
          2.507891893386841,
          -8.1197509765625,
          3.917463779449463,
          -7.420100688934326,
          -6.614740371704102,
          -6.2096147537231445,
          -10.244771003723145,
          -8.520195960998535,
          0.911090075969696,
          2.6240627765655518,
          3.684351682662964,
          3.9160361289978027,
          -5.812931537628174,
          0.0007670785998925567,
          1.8790833950042725,
          -4.0234599113464355,
          2.128669023513794,
          -0.6381741166114807,
          -1.847650408744812,
          -9.592296600341797,
          -6.813945770263672,
          -9.155858993530273,
          -1.6467615365982056,
          -4.062808036804199,
          -10.767599105834961,
          8.632814407348633,
          -0.4354279935359955,
          8.42591381072998,
          -5.6029953956604,
          7.348383903503418,
          3.9717562198638916,
          -6.918238639831543,
          2.5284423828125,
          -0.47584179043769836,
          -2.8843677043914795,
          4.7182297706604,
          -5.593892574310303,
          -1.67190420627594,
          9.708634376525879,
          -0.8433072566986084,
          5.918440341949463,
          4.47519063949585,
          2.310229539871216,
          -5.099388122558594,
          -0.35688814520835876,
          -11.20329761505127,
          -0.36382532119750977,
          0.4393865168094635,
          7.684780120849609,
          -2.062232732772827,
          4.091341495513916,
          -3.494060754776001,
          1.1540123224258423,
          -0.3472957909107208,
          -9.169363021850586,
          -1.7277241945266724,
          -11.519930839538574,
          7.55067253112793,
          2.0900492668151855,
          -2.7470223903656006,
          -0.80253005027771,
          2.777523994445801,
          7.138161659240723,
          0.10603819787502289,
          3.4076883792877197,
          -6.405490398406982,
          -2.903688907623291,
          3.531034231185913,
          4.774470806121826,
          -4.471512794494629,
          -8.230473518371582,
          -8.29426383972168,
          1.7224490642547607,
          1.681514024734497,
          3.4055910110473633,
          -8.333287239074707,
          -4.620514392852783,
          -8.717479705810547,
          -6.491600513458252,
          4.847165584564209,
          -9.749757766723633,
          -0.045335717499256134,
          3.953232765197754,
          4.430319786071777,
          6.343828201293945,
          4.614326477050781,
          6.009563446044922,
          9.661226272583008,
          3.275360345840454,
          -6.747883319854736,
          -2.6149251461029053,
          -5.4706220626831055,
          -8.647416114807129,
          2.6339447498321533,
          -6.74722146987915,
          -1.7548303604125977,
          6.899081707000732,
          2.757629156112671,
          6.7134904861450195,
          -1.4820654392242432,
          -10.364486694335938,
          -3.0467419624328613,
          4.414881229400635,
          5.055484294891357,
          -5.8697614669799805,
          -8.937886238098145,
          -1.224035382270813,
          -4.772481441497803,
          5.633606433868408,
          2.879622220993042,
          4.007884979248047,
          -3.736765146255493,
          1.206002950668335,
          4.185997486114502,
          2.14172101020813,
          4.745364189147949,
          -2.8243212699890137,
          7.401524066925049,
          1.5777990818023682,
          -6.901660442352295,
          -7.650849342346191,
          -3.859515428543091,
          4.9175896644592285,
          -5.778307914733887,
          5.191188812255859,
          -10.036224365234375,
          -5.160822868347168,
          9.836535453796387,
          0.34365177154541016,
          -6.071545124053955,
          1.1556396484375,
          -9.31396198272705,
          1.7584041357040405,
          2.6371185779571533,
          6.328937530517578,
          1.5262624025344849,
          5.519131660461426,
          1.0003464221954346,
          -7.624361038208008,
          -4.569947719573975,
          1.0227915048599243,
          5.255684852600098,
          -8.002471923828125,
          -6.265993595123291,
          -9.65595531463623,
          0.16556400060653687,
          1.2448869943618774,
          2.41635799407959,
          -7.185666084289551,
          0.08072053641080856,
          3.304974317550659,
          5.193315505981445,
          7.047231674194336,
          1.095625400543213,
          -8.784638404846191,
          9.313806533813477,
          -3.4399373531341553,
          -1.6524417400360107,
          5.545860290527344,
          -2.946662187576294,
          2.502401828765869,
          4.8965911865234375,
          4.807172775268555,
          -2.378565788269043,
          7.038599967956543,
          -7.370058059692383,
          -9.534476280212402,
          -0.26958709955215454,
          1.4280890226364136,
          0.7732810974121094,
          -2.688173770904541,
          7.700541973114014,
          -0.14259907603263855,
          -9.618898391723633,
          -9.000824928283691,
          -2.4629452228546143,
          -5.936013698577881,
          0.484042227268219,
          2.9836771488189697,
          -5.677873611450195,
          -8.663408279418945,
          4.264495372772217,
          4.7096052169799805,
          -0.2721080183982849,
          -7.58102560043335,
          -1.8382794857025146
         ]
        }
       ],
       "layout": {
        "coloraxis": {
         "colorbar": {
          "title": {
           "text": "Label"
          }
         },
         "colorscale": [
          [
           0,
           "#0d0887"
          ],
          [
           0.1111111111111111,
           "#46039f"
          ],
          [
           0.2222222222222222,
           "#7201a8"
          ],
          [
           0.3333333333333333,
           "#9c179e"
          ],
          [
           0.4444444444444444,
           "#bd3786"
          ],
          [
           0.5555555555555556,
           "#d8576b"
          ],
          [
           0.6666666666666666,
           "#ed7953"
          ],
          [
           0.7777777777777778,
           "#fb9f3a"
          ],
          [
           0.8888888888888888,
           "#fdca26"
          ],
          [
           1,
           "#f0f921"
          ]
         ]
        },
        "height": 800,
        "legend": {
         "tracegroupgap": 0
        },
        "scene": {
         "domain": {
          "x": [
           0,
           1
          ],
          "y": [
           0,
           1
          ]
         },
         "xaxis": {
          "title": {
           "text": "0"
          }
         },
         "yaxis": {
          "title": {
           "text": "1"
          }
         },
         "zaxis": {
          "title": {
           "text": "2"
          }
         }
        },
        "template": {
         "data": {
          "bar": [
           {
            "error_x": {
             "color": "#2a3f5f"
            },
            "error_y": {
             "color": "#2a3f5f"
            },
            "marker": {
             "line": {
              "color": "#E5ECF6",
              "width": 0.5
             }
            },
            "type": "bar"
           }
          ],
          "barpolar": [
           {
            "marker": {
             "line": {
              "color": "#E5ECF6",
              "width": 0.5
             }
            },
            "type": "barpolar"
           }
          ],
          "carpet": [
           {
            "aaxis": {
             "endlinecolor": "#2a3f5f",
             "gridcolor": "white",
             "linecolor": "white",
             "minorgridcolor": "white",
             "startlinecolor": "#2a3f5f"
            },
            "baxis": {
             "endlinecolor": "#2a3f5f",
             "gridcolor": "white",
             "linecolor": "white",
             "minorgridcolor": "white",
             "startlinecolor": "#2a3f5f"
            },
            "type": "carpet"
           }
          ],
          "choropleth": [
           {
            "colorbar": {
             "outlinewidth": 0,
             "ticks": ""
            },
            "type": "choropleth"
           }
          ],
          "contour": [
           {
            "colorbar": {
             "outlinewidth": 0,
             "ticks": ""
            },
            "colorscale": [
             [
              0,
              "#0d0887"
             ],
             [
              0.1111111111111111,
              "#46039f"
             ],
             [
              0.2222222222222222,
              "#7201a8"
             ],
             [
              0.3333333333333333,
              "#9c179e"
             ],
             [
              0.4444444444444444,
              "#bd3786"
             ],
             [
              0.5555555555555556,
              "#d8576b"
             ],
             [
              0.6666666666666666,
              "#ed7953"
             ],
             [
              0.7777777777777778,
              "#fb9f3a"
             ],
             [
              0.8888888888888888,
              "#fdca26"
             ],
             [
              1,
              "#f0f921"
             ]
            ],
            "type": "contour"
           }
          ],
          "contourcarpet": [
           {
            "colorbar": {
             "outlinewidth": 0,
             "ticks": ""
            },
            "type": "contourcarpet"
           }
          ],
          "heatmap": [
           {
            "colorbar": {
             "outlinewidth": 0,
             "ticks": ""
            },
            "colorscale": [
             [
              0,
              "#0d0887"
             ],
             [
              0.1111111111111111,
              "#46039f"
             ],
             [
              0.2222222222222222,
              "#7201a8"
             ],
             [
              0.3333333333333333,
              "#9c179e"
             ],
             [
              0.4444444444444444,
              "#bd3786"
             ],
             [
              0.5555555555555556,
              "#d8576b"
             ],
             [
              0.6666666666666666,
              "#ed7953"
             ],
             [
              0.7777777777777778,
              "#fb9f3a"
             ],
             [
              0.8888888888888888,
              "#fdca26"
             ],
             [
              1,
              "#f0f921"
             ]
            ],
            "type": "heatmap"
           }
          ],
          "heatmapgl": [
           {
            "colorbar": {
             "outlinewidth": 0,
             "ticks": ""
            },
            "colorscale": [
             [
              0,
              "#0d0887"
             ],
             [
              0.1111111111111111,
              "#46039f"
             ],
             [
              0.2222222222222222,
              "#7201a8"
             ],
             [
              0.3333333333333333,
              "#9c179e"
             ],
             [
              0.4444444444444444,
              "#bd3786"
             ],
             [
              0.5555555555555556,
              "#d8576b"
             ],
             [
              0.6666666666666666,
              "#ed7953"
             ],
             [
              0.7777777777777778,
              "#fb9f3a"
             ],
             [
              0.8888888888888888,
              "#fdca26"
             ],
             [
              1,
              "#f0f921"
             ]
            ],
            "type": "heatmapgl"
           }
          ],
          "histogram": [
           {
            "marker": {
             "colorbar": {
              "outlinewidth": 0,
              "ticks": ""
             }
            },
            "type": "histogram"
           }
          ],
          "histogram2d": [
           {
            "colorbar": {
             "outlinewidth": 0,
             "ticks": ""
            },
            "colorscale": [
             [
              0,
              "#0d0887"
             ],
             [
              0.1111111111111111,
              "#46039f"
             ],
             [
              0.2222222222222222,
              "#7201a8"
             ],
             [
              0.3333333333333333,
              "#9c179e"
             ],
             [
              0.4444444444444444,
              "#bd3786"
             ],
             [
              0.5555555555555556,
              "#d8576b"
             ],
             [
              0.6666666666666666,
              "#ed7953"
             ],
             [
              0.7777777777777778,
              "#fb9f3a"
             ],
             [
              0.8888888888888888,
              "#fdca26"
             ],
             [
              1,
              "#f0f921"
             ]
            ],
            "type": "histogram2d"
           }
          ],
          "histogram2dcontour": [
           {
            "colorbar": {
             "outlinewidth": 0,
             "ticks": ""
            },
            "colorscale": [
             [
              0,
              "#0d0887"
             ],
             [
              0.1111111111111111,
              "#46039f"
             ],
             [
              0.2222222222222222,
              "#7201a8"
             ],
             [
              0.3333333333333333,
              "#9c179e"
             ],
             [
              0.4444444444444444,
              "#bd3786"
             ],
             [
              0.5555555555555556,
              "#d8576b"
             ],
             [
              0.6666666666666666,
              "#ed7953"
             ],
             [
              0.7777777777777778,
              "#fb9f3a"
             ],
             [
              0.8888888888888888,
              "#fdca26"
             ],
             [
              1,
              "#f0f921"
             ]
            ],
            "type": "histogram2dcontour"
           }
          ],
          "mesh3d": [
           {
            "colorbar": {
             "outlinewidth": 0,
             "ticks": ""
            },
            "type": "mesh3d"
           }
          ],
          "parcoords": [
           {
            "line": {
             "colorbar": {
              "outlinewidth": 0,
              "ticks": ""
             }
            },
            "type": "parcoords"
           }
          ],
          "pie": [
           {
            "automargin": true,
            "type": "pie"
           }
          ],
          "scatter": [
           {
            "marker": {
             "colorbar": {
              "outlinewidth": 0,
              "ticks": ""
             }
            },
            "type": "scatter"
           }
          ],
          "scatter3d": [
           {
            "line": {
             "colorbar": {
              "outlinewidth": 0,
              "ticks": ""
             }
            },
            "marker": {
             "colorbar": {
              "outlinewidth": 0,
              "ticks": ""
             }
            },
            "type": "scatter3d"
           }
          ],
          "scattercarpet": [
           {
            "marker": {
             "colorbar": {
              "outlinewidth": 0,
              "ticks": ""
             }
            },
            "type": "scattercarpet"
           }
          ],
          "scattergeo": [
           {
            "marker": {
             "colorbar": {
              "outlinewidth": 0,
              "ticks": ""
             }
            },
            "type": "scattergeo"
           }
          ],
          "scattergl": [
           {
            "marker": {
             "colorbar": {
              "outlinewidth": 0,
              "ticks": ""
             }
            },
            "type": "scattergl"
           }
          ],
          "scattermapbox": [
           {
            "marker": {
             "colorbar": {
              "outlinewidth": 0,
              "ticks": ""
             }
            },
            "type": "scattermapbox"
           }
          ],
          "scatterpolar": [
           {
            "marker": {
             "colorbar": {
              "outlinewidth": 0,
              "ticks": ""
             }
            },
            "type": "scatterpolar"
           }
          ],
          "scatterpolargl": [
           {
            "marker": {
             "colorbar": {
              "outlinewidth": 0,
              "ticks": ""
             }
            },
            "type": "scatterpolargl"
           }
          ],
          "scatterternary": [
           {
            "marker": {
             "colorbar": {
              "outlinewidth": 0,
              "ticks": ""
             }
            },
            "type": "scatterternary"
           }
          ],
          "surface": [
           {
            "colorbar": {
             "outlinewidth": 0,
             "ticks": ""
            },
            "colorscale": [
             [
              0,
              "#0d0887"
             ],
             [
              0.1111111111111111,
              "#46039f"
             ],
             [
              0.2222222222222222,
              "#7201a8"
             ],
             [
              0.3333333333333333,
              "#9c179e"
             ],
             [
              0.4444444444444444,
              "#bd3786"
             ],
             [
              0.5555555555555556,
              "#d8576b"
             ],
             [
              0.6666666666666666,
              "#ed7953"
             ],
             [
              0.7777777777777778,
              "#fb9f3a"
             ],
             [
              0.8888888888888888,
              "#fdca26"
             ],
             [
              1,
              "#f0f921"
             ]
            ],
            "type": "surface"
           }
          ],
          "table": [
           {
            "cells": {
             "fill": {
              "color": "#EBF0F8"
             },
             "line": {
              "color": "white"
             }
            },
            "header": {
             "fill": {
              "color": "#C8D4E3"
             },
             "line": {
              "color": "white"
             }
            },
            "type": "table"
           }
          ]
         },
         "layout": {
          "annotationdefaults": {
           "arrowcolor": "#2a3f5f",
           "arrowhead": 0,
           "arrowwidth": 1
          },
          "coloraxis": {
           "colorbar": {
            "outlinewidth": 0,
            "ticks": ""
           }
          },
          "colorscale": {
           "diverging": [
            [
             0,
             "#8e0152"
            ],
            [
             0.1,
             "#c51b7d"
            ],
            [
             0.2,
             "#de77ae"
            ],
            [
             0.3,
             "#f1b6da"
            ],
            [
             0.4,
             "#fde0ef"
            ],
            [
             0.5,
             "#f7f7f7"
            ],
            [
             0.6,
             "#e6f5d0"
            ],
            [
             0.7,
             "#b8e186"
            ],
            [
             0.8,
             "#7fbc41"
            ],
            [
             0.9,
             "#4d9221"
            ],
            [
             1,
             "#276419"
            ]
           ],
           "sequential": [
            [
             0,
             "#0d0887"
            ],
            [
             0.1111111111111111,
             "#46039f"
            ],
            [
             0.2222222222222222,
             "#7201a8"
            ],
            [
             0.3333333333333333,
             "#9c179e"
            ],
            [
             0.4444444444444444,
             "#bd3786"
            ],
            [
             0.5555555555555556,
             "#d8576b"
            ],
            [
             0.6666666666666666,
             "#ed7953"
            ],
            [
             0.7777777777777778,
             "#fb9f3a"
            ],
            [
             0.8888888888888888,
             "#fdca26"
            ],
            [
             1,
             "#f0f921"
            ]
           ],
           "sequentialminus": [
            [
             0,
             "#0d0887"
            ],
            [
             0.1111111111111111,
             "#46039f"
            ],
            [
             0.2222222222222222,
             "#7201a8"
            ],
            [
             0.3333333333333333,
             "#9c179e"
            ],
            [
             0.4444444444444444,
             "#bd3786"
            ],
            [
             0.5555555555555556,
             "#d8576b"
            ],
            [
             0.6666666666666666,
             "#ed7953"
            ],
            [
             0.7777777777777778,
             "#fb9f3a"
            ],
            [
             0.8888888888888888,
             "#fdca26"
            ],
            [
             1,
             "#f0f921"
            ]
           ]
          },
          "colorway": [
           "#636efa",
           "#EF553B",
           "#00cc96",
           "#ab63fa",
           "#FFA15A",
           "#19d3f3",
           "#FF6692",
           "#B6E880",
           "#FF97FF",
           "#FECB52"
          ],
          "font": {
           "color": "#2a3f5f"
          },
          "geo": {
           "bgcolor": "white",
           "lakecolor": "white",
           "landcolor": "#E5ECF6",
           "showlakes": true,
           "showland": true,
           "subunitcolor": "white"
          },
          "hoverlabel": {
           "align": "left"
          },
          "hovermode": "closest",
          "mapbox": {
           "style": "light"
          },
          "paper_bgcolor": "white",
          "plot_bgcolor": "#E5ECF6",
          "polar": {
           "angularaxis": {
            "gridcolor": "white",
            "linecolor": "white",
            "ticks": ""
           },
           "bgcolor": "#E5ECF6",
           "radialaxis": {
            "gridcolor": "white",
            "linecolor": "white",
            "ticks": ""
           }
          },
          "scene": {
           "xaxis": {
            "backgroundcolor": "#E5ECF6",
            "gridcolor": "white",
            "gridwidth": 2,
            "linecolor": "white",
            "showbackground": true,
            "ticks": "",
            "zerolinecolor": "white"
           },
           "yaxis": {
            "backgroundcolor": "#E5ECF6",
            "gridcolor": "white",
            "gridwidth": 2,
            "linecolor": "white",
            "showbackground": true,
            "ticks": "",
            "zerolinecolor": "white"
           },
           "zaxis": {
            "backgroundcolor": "#E5ECF6",
            "gridcolor": "white",
            "gridwidth": 2,
            "linecolor": "white",
            "showbackground": true,
            "ticks": "",
            "zerolinecolor": "white"
           }
          },
          "shapedefaults": {
           "line": {
            "color": "#2a3f5f"
           }
          },
          "ternary": {
           "aaxis": {
            "gridcolor": "white",
            "linecolor": "white",
            "ticks": ""
           },
           "baxis": {
            "gridcolor": "white",
            "linecolor": "white",
            "ticks": ""
           },
           "bgcolor": "#E5ECF6",
           "caxis": {
            "gridcolor": "white",
            "linecolor": "white",
            "ticks": ""
           }
          },
          "title": {
           "x": 0.05
          },
          "xaxis": {
           "automargin": true,
           "gridcolor": "white",
           "linecolor": "white",
           "ticks": "",
           "title": {
            "standoff": 15
           },
           "zerolinecolor": "white",
           "zerolinewidth": 2
          },
          "yaxis": {
           "automargin": true,
           "gridcolor": "white",
           "linecolor": "white",
           "ticks": "",
           "title": {
            "standoff": 15
           },
           "zerolinecolor": "white",
           "zerolinewidth": 2
          }
         }
        },
        "title": {
         "text": "3d TSNE Plot for Outliers"
        },
        "width": 900
       }
      },
      "text/html": [
       "<div>\n",
       "        \n",
       "        \n",
       "            <div id=\"ff7ebc90-57dc-405c-97d1-a5d0e0a53cd5\" class=\"plotly-graph-div\" style=\"height:800px; width:900px;\"></div>\n",
       "            <script type=\"text/javascript\">\n",
       "                require([\"plotly\"], function(Plotly) {\n",
       "                    window.PLOTLYENV=window.PLOTLYENV || {};\n",
       "                    \n",
       "                if (document.getElementById(\"ff7ebc90-57dc-405c-97d1-a5d0e0a53cd5\")) {\n",
       "                    Plotly.newPlot(\n",
       "                        'ff7ebc90-57dc-405c-97d1-a5d0e0a53cd5',\n",
       "                        [{\"customdata\": [[0.263995357], [0.546092303], [0.33671410399999996], [0.092107835], [0.325261175], [0.212464853], [0.258565714], [0.869236755], [0.197077957], [0.292984504], [0.82178316], [0.796622959], [0.045577010999999994], [0.613660351], [0.9507445659999999], [0.33634633700000005], [0.034440667], [0.741544275], [0.18443265], [0.664514943], [0.16282485800000002], [0.729838445], [0.62837389], [0.057883660999999996], [0.445534827], [0.80183695], [0.27709612], [0.228634015], [0.834860657], [0.6697665110000001], [0.532527349], [0.17045907100000002], [0.5102884679999999], [0.977561989], [0.249775993], [0.9755006820000001], [0.613701727], [0.16742036300000002], [0.537472516], [0.379899131], [0.633897303], [0.633960424], [0.5499746529999999], [0.178172988], [0.85563814], [0.321796672], [0.8174905370000001], [0.254879417], [0.344140513], [0.8061457259999999], [0.27708167100000003], [0.544328519], [0.07708393], [0.273081458], [0.390877336], [0.349621385], [0.214549744], [0.206075222], [0.86461997], [0.9817088540000001], [0.33482964600000004], [0.648387061], [0.093643561], [0.837802698], [0.7603439670000001], [0.29140417399999996], [0.3413454], [0.7611124840000001], [0.541899775], [0.684176639], [0.983535597], [0.52081245], [0.328227724], [0.09715793800000001], [0.876088593], [0.870214512], [0.656086992], [0.306791514], [0.48126734], [0.259559174], [0.326123655], [0.930568042], [0.6583894], [0.689992335], [0.315781109], [0.5669050929999999], [0.637526619], [0.687540723], [0.324300602], [0.592704906], [0.7402531259999999], [0.5940328770000001], [0.596452977], [0.27768081699999997], [0.258329663], [0.142460864], [0.435533461], [0.7024990440000001], [0.58897535], [0.653304374], [0.336968524], [0.631244736], [0.73530076], [0.050390366], [0.064264924], [0.665359476], [0.917835245], [0.44651012], [0.661938199], [0.43935985299999997], [0.6875724040000001], [0.363462248], [0.6542621820000001], [0.578553536], [0.065927945], [0.550148559], [0.13918281400000002], [0.080004635], [0.278228358], [0.560124266], [0.53639864], [0.42653190399999996], [0.789109796], [0.742900474], [0.901692589], [0.650337401], [0.114057311], [0.260812592], [0.43991232], [0.964409284], [0.184401415], [0.345145446], [0.17589458100000002], [0.312514453], [0.674131879], [0.32825045], [0.598231057], [0.09259881699999999], [0.497916521], [0.419776521], [0.31217670000000003], [0.937857107], [0.049030963], [0.47610452600000003], [0.447397526], [0.295806058], [0.737363977], [0.625896253], [0.408813429], [0.437511156], [0.691351375], [0.935555275], [0.437846654], [0.072217715], [0.67636067], [0.468883999], [0.543820644], [0.6555226470000001], [0.6935289240000001], [0.10887831199999999], [0.285463743], [0.0], [0.706495497], [0.273530633], [0.292320271], [0.673984307], [0.12612182800000002], [0.9467074590000001], [0.9363388979999999], [0.8537553640000001], [0.7060713609999999], [0.693682186], [0.508527882], [0.34717038899999997], [0.704154263], [0.658730088], [0.155841557], [0.311085435], [0.281135347], [0.094587802], [0.6832609540000001], [0.9077292509999999], [0.29151267399999997], [0.752734459], [0.93482964], [0.071413953], [0.5948963270000001], [0.404672015], [0.13837621], [0.7473384679999999], [0.530882486], [0.282649594], [0.699335734], [0.056111250999999994], [0.855234998], [0.07789512700000001], [0.891649583], [0.38674227899999997], [0.27113158], [0.958888961], [0.085120869], [0.5269022489999999], [0.066577785], [0.841506738], [0.255342095], [0.060545771], [0.073385869], [0.187493723], [0.858365688], [0.090640352], [0.7097252270000001], [0.631300647], [0.24750447399999997], [0.822843584], [0.373476759], [0.625538582], [0.292951715], [0.299730324], [0.25121407], [0.344480551], [0.293064767], [0.7628032240000001], [0.7384708040000001], [0.674883265], [0.719151612], [0.13098021599999998], [0.511328036], [0.04492903], [0.560914449], [0.7440406409999999], [0.266961634], [0.644231853], [0.038113352], [0.05715529900000001], [0.34139246100000004], [0.7204636320000001], [0.402878236], [0.635148967], [0.320729467], [0.09120969400000001], [0.23414609], [0.8902211309999999], [0.602170884], [0.633652055], [0.806240837], [0.739731184], [0.465231269], [0.7321109], [0.373874305], [0.501587947], [0.11538315800000001], [0.7319466040000001], [0.41829872799999995], [0.062259590999999996], [0.391496379], [0.35984929], [0.24523562699999998], [0.610028339], [0.43540360200000006], [0.434309675], [0.523763344], [0.17118786600000002], [0.18773430300000002], [0.945014638], [0.027851097000000002], [0.68445706], [0.178014532], [0.643427879], [0.59588355], [0.372361682], [0.586103584], [0.271658852], [0.59951107], [0.468363088], [0.314515565], [0.21893726], [0.254716562], [0.25612815], [0.602259755], [0.134381075], [0.513887424], [0.624241636], [0.160251854], [0.580708108], [0.270540486], [0.832919932], [0.93032134], [0.719157884], [0.886720033], [0.098792281], [0.787174286], [0.365592376], [0.719576193], [0.8058956], [0.7555783340000001], [0.526005909], [0.68880424], [0.22111531199999998], [0.739369477], [0.408440236], [0.348926542], [0.433713763], [0.5964966070000001], [0.6942953000000001], [0.7090309659999999], [0.867652984], [0.89332545], [0.746020922], [0.538284443], [0.8922193140000001], [0.935175765], [0.260527707], [0.956780449], [0.204932484], [0.687733351], [0.329063619], [0.632149831], [0.463744506], [0.698859621], [0.385446564], [0.47997537700000004], [0.732279108], [0.3813543], [0.459326013], [0.257401434], [0.665014804], [0.103399542], [0.425284413], [0.943529051], [0.594750236], [0.543776817], [0.18203988], [0.23584208399999998], [0.585984497], [0.762013168], [0.6849829070000001], [0.676936933], [0.290184964], [0.48106822200000005], [0.492766033], [0.22185623399999999], [0.053875998], [0.082751144], [0.385366225], [0.702513961], [0.91553156], [0.082087436], [0.251280378], [0.41672181700000005], [0.277032672], [0.579539754], [0.569363476], [0.133399703], [0.265045463], [0.936571901], [0.252618554], [0.054033081], [0.802481439], [0.528197693], [0.9515026], [0.572121173], [0.752938227], [0.143857535], [0.513484576], [0.313322389], [0.6877973959999999], [0.37705984], [0.348226142], [0.67763282], [0.24138752100000002], [0.8506501790000001], [0.22034810300000002], [0.476445464], [0.690324025], [0.364695946], [0.6492491970000001], [0.9437019209999999], [0.529645971], [0.299097002], [0.96696247], [0.272005242], [0.314161447], [0.752020991], [0.221882453], [0.7203326729999999], [0.379204782], [0.60168653], [0.582932673], [0.950809853], [0.58830141], [0.880887227], [0.467857701], [0.8799021709999999], [0.619844009], [0.359002573], [0.291511278], [0.694157143], [0.727960353], [0.617703921], [0.39581257], [0.58317282], [0.710332374], [0.253753693], [0.049412227999999996], [0.728378695], [0.432432881], [0.58612345], [0.052342373], [0.053483902], [0.518729378], [0.933040208], [0.7035542840000001], [0.268989899], [0.733006927], [0.44435246700000003], [0.5833946210000001], [0.871172692], [0.42876707799999997], [0.30046084100000003], [0.9533294590000001], [0.606443965], [0.90986815], [0.714896449], [0.49734950899999997], [0.8530974859999999], [0.721804145], [0.303467328], [0.664485096], [0.27978062], [0.569481665], [0.628628926], [0.088368123], [0.733567326], [0.537436778], [0.638593691], [0.954726948], [0.632202332], [0.642134651], [0.744653087], [0.115714007], [0.48625007299999995], [0.440356144], [0.08272289], [0.511591027], [0.394627555], [0.224394], [0.626927584], [0.290254057], [0.779008053], [0.86610579], [0.873326081], [0.49548916], [0.594297695], [0.9182015840000001], [0.5770427539999999], [0.019467671000000002], [0.6702982820000001], [0.546595316], [0.591665146], [0.42155819], [0.6856085590000001], [0.340303024], [0.675626741], [0.319067345], [0.38849966399999997], [0.706949589], [0.559409515], [0.687663508], [0.7088045540000001], [0.6818880940000001], [0.42253510899999996], [0.320004605], [0.6582813679999999], [0.634154867], [0.7773320090000001], [0.812677205], [0.074280797], [0.39600217], [0.054933913], [0.825058925], [0.382642009], [0.8687298179999999], [0.588043346], [0.891551577], [0.10920046], [0.647682781], [0.724342512], [0.07016304400000001], [0.280882054], [0.039113261], [0.579641592], [0.639000922], [0.281745925], [0.647857744], [0.6479057970000001], [0.875226264], [0.567603305], [0.262940591], [0.268026042], [0.40519133], [0.479965451], [0.33552403], [0.777165379], [0.42548796299999997], [0.237986115], [0.142522971], [0.724176488], [0.234698933], [0.07818228099999999], [0.855990155], [0.270251765], [0.435517841], [0.762697513], [0.46448725799999996], [0.396112685], [0.37638092100000003], [0.29459467699999997], [0.6944921209999999], [0.622767949], [0.8475597220000001], [0.301463054], [0.912937812], [0.500017182], [0.902587935], [0.304517943], [0.299165673], [0.092014087], [0.488548917], [0.664664437], [0.26534954899999996], [0.723657021], [0.149262385], [0.04577339], [0.69661064], [0.42181486], [0.733845785], [0.418795386], [0.677443529], [0.26128360300000003], [0.268527767], [0.5443222360000001], [0.431632036], [0.981018141], [0.21498072399999998], [0.39472999299999995], [0.122224944], [0.297496875], [0.37490443100000004], [0.68698771], [0.388549207], [0.039296071], [0.73553424], [0.37929489299999997], [0.7321233859999999], [0.33922143899999996], [0.659450594], [0.054838642], [0.640112102], [0.30714170399999996], [0.39661190700000004], [0.420439161], [0.24171497399999997], [0.065893153], [0.9105219370000001], [0.697163103], [0.072559853], [0.81825094], [0.311888815], [0.961644609], [0.816325524], [0.14647302], [0.548753945], [0.946158087], [0.293992717], [0.331479643], [0.9062200309999999], [0.525540416], [0.83301411], [0.514849806], [0.574609024], [0.46871185299999996], [0.71002775], [0.645973276], [0.229794416], [0.551783393], [0.055822990999999995], [0.331750941], [0.715520198], [0.583924357], [0.30695769100000003], [0.7914782370000001], [0.16423663900000002], [0.065711219], [0.948993132], [0.080423835], [0.052495426], [0.566346135], [0.3630266], [0.605442195], [0.6308505839999999], [0.065791238], [0.28681707100000003], [0.685462839], [0.260853706], [0.659122429], [0.44317392200000005], [0.602063986], [0.060366910999999995], [0.781903153], [0.5145798070000001], [0.48388621299999995], [0.600213807], [0.49736405200000006], [0.411145245], [0.116999171], [0.34189014100000004], [0.746950848], [0.39629274600000003], [0.6221438429999999], [0.335271141], [0.140257137], [0.081620681], [0.069837569], [0.46894000799999996], [0.9908574170000001], [0.896616832], [0.255310561], [0.22464526699999998], [0.01991825], [0.296480415], [0.155458996], [0.577916714], [0.9563030309999999], [0.813464394], [0.529675785], [0.287671353], [0.48039136], [0.28104482199999997], [0.633196521], [0.09332537699999999], [0.28447398100000004], [0.052223775], [0.051129385], [0.967405608], [0.040045727999999996], [0.9085829209999999], [0.6621174160000001], [0.42470320899999997], [0.72207806], [0.666193327], [0.509681253], [0.7513536209999999], [0.279073124], [0.074927], [0.916359535], [0.31040327], [0.716604052], [0.485587085], [0.30607518100000003], [0.477558204], [0.7119239409999999], [0.066348638], [0.27453935100000004], [0.31082252], [0.47607312700000004], [0.186795565], [0.26654207], [0.070231142], [0.26951927], [0.800004713], [0.27363366699999997], [0.14647919199999998], [0.378318951], [0.373849065], [0.242170835], [0.249796488], [0.066591188], [0.372956798], [0.501812291], [0.313097752], [0.8802021959999999], [0.51981893], [0.364138746], [0.49268289600000004], [0.285732652], [0.890114985], [0.316419561], [0.26866354], [0.771975959], [0.968888992], [0.080334377], [0.7368282209999999], [0.30055807100000004], [0.9179503929999999], [0.465815039], [0.054036682], [0.963150123], [0.08965350300000001], [0.7076932340000001], [0.636416037], [0.539521117], [0.114757161], [0.357312419], [0.67639834], [0.43482839], [0.032326387000000005], [0.711365605], [0.187486519], [0.052789653], [0.5058636129999999], [0.927431873], [0.6809842559999999], [0.882822186], [0.495705441], [0.596240398], [0.320610701], [0.3413685], [0.159681797], [0.318133669], [0.8393010479999999], [0.06435925099999999], [0.470216633], [0.7762522909999999], [0.635843383], [0.62510543], [0.52959065], [0.986900166], [0.078585688], [0.233284267], [0.363330957], [0.7167169809999999], [0.37588979200000006], [0.223316889], [0.299343986], [0.538595767], [0.730297124], [0.66033077], [0.435296009], [0.326494313], [0.854402708], [0.5734938470000001], [0.757786135], [0.704743233], [0.281575597], [0.671968208], [0.313726015], [0.364338275], [0.368216396], [0.38629520700000003], [0.655971865], [0.5660252729999999], [0.424999093], [0.090110371], [0.772350538], [0.331047258], [0.273716188], [0.23877568], [0.37307977200000003], [0.331185868], [0.256134531], [0.678373225], [0.43463833799999996], [0.654668307], [0.986681065], [0.371520495], [0.408359618], [0.40932365], [0.283412082], [0.395246531], [0.010984428000000001], [0.306013869], [0.266194806], [0.299318521], [0.318293946], [0.74282591], [0.09766432900000001], [0.079666942], [0.613258767], [0.99443072], [0.568835082], [0.7080345159999999], [0.37059271899999996], [0.669867361], [0.651295625], [0.462531569], [0.7196256190000001], [0.45377248], [0.394863946], [0.323974831], [0.146454724], [0.7790670409999999], [0.401828915], [0.601479585], [0.856423023], [0.565242962], [0.301225108], [0.282108144], [0.594378011], [0.705312368], [0.5408696279999999], [0.319249574], [0.36176613799999996], [0.625000704], [0.316287401], [0.047239021], [0.801182233], [0.508474436], [0.8178934109999999], [0.399235601], [0.9740519990000001], [0.72241535], [0.039564764], [0.908684108], [0.47301013399999997], [0.7180496279999999], [0.7634790690000001], [0.6475965370000001], [0.8949973859999999], [0.22282590100000002], [0.359012234], [0.944910252], [0.297877816], [0.172517997], [0.556586265], [0.876481735], [0.48667784299999994], [0.459496733], [0.47412637700000004], [0.70101144], [0.337597387], [0.537578886], [0.966992448], [0.056849545], [0.233249065], [0.380054711], [0.602929443], [0.303847999], [0.170194553], [0.972168554], [0.332168927], [0.6887286890000001], [0.110773401], [0.273352065], [0.572939678], [0.491457065], [0.281389999], [0.821697261], [0.6749776829999999], [0.585134549], [0.7105961159999999], [0.040488789], [0.568054311], [0.321752928], [0.611850232], [0.926096887], [0.618347428], [0.667629785], [0.39773346600000004], [0.290875487], [0.594375103], [0.508255233], [0.338571357], [0.43230234700000003], [0.302221978], [0.87619819], [0.080204492], [0.092333532], [0.09365644699999999], [0.6084523510000001], [0.732654598], [0.944158855], [0.26742308], [0.731124201], [0.661308553], [0.38776626200000003], [0.962585273], [0.322067067], [0.6340810929999999], [0.475345002], [0.35355897299999994], [0.8859363159999999], [0.876798106], [0.221581064], [0.394362449], [0.8050356759999999], [0.452898486], [0.592520516], [0.761026394], [0.245049023], [0.37213936299999995], [0.681054822], [0.7471431479999999], [0.9207395290000001], [0.097207945], [0.699302998], [0.721647006], [0.5353561139999999], [0.738293805], [0.7064675509999999], [0.67395061], [0.7112122909999999], [0.302558708], [0.080097855], [0.707010837], [0.512248622], [0.659627472], [0.657559694], [0.100645606], [0.92665363], [0.892879338], [0.839157508], [0.890959718], [0.556754471], [0.960361937], [0.631037864], [0.029838065], [0.278843351], [0.926157705], [0.551504258], [0.485942349], [0.43723469600000003], [0.25231801800000003], [0.515466972], [0.43725229600000004], [0.493724207], [0.83324725], [0.317521477], [0.28623456199999997], [0.726833965], [0.495667033], [0.028645255], [0.31967191699999997], [0.674344598], [0.7660371890000001], [0.65456992], [0.7565143809999999], [0.528253719], [0.38971949100000003], [0.355087459], [0.87015202], [0.7390833059999999], [0.305761846], [0.411587673], [0.063633094], [0.735409395], [0.605916669], [0.539395562], [0.566183532], [0.674795186], [0.070993366], [0.12526410000000002], [0.279601492], [0.952174402], [0.233806762], [0.43724742899999997], [0.925423095], [0.433498634], [0.52517902], [0.088435529], [0.447677638], [0.647000631], [0.9036033370000001], [0.265790738], [0.66419695], [0.498120658], [0.49018894399999996], [0.747084187], [0.906783648], [0.678770917], [0.348599859], [0.294839683], [0.705691827], [0.211917931], [0.063201124], [0.276699543], [0.672459395], [0.8082059490000001], [0.296538373], [0.16012686199999998], [0.439385032], [0.555951416], [0.386240112], [0.158689619], [0.214499855], [0.299579429], [0.569161656], [0.488614799], [0.8782950209999999], [0.649380949], [0.465713341], [0.16813774], [0.87529545], [0.8411323409999999], [0.33292081], [0.5130478589999999], [0.30505507800000004], [0.8126269909999999], [0.25096706], [0.5024355779999999], [0.45799074100000003]], \"hovertemplate\": \"0=%{x}<br>1=%{y}<br>2=%{z}<br>Feature=%{customdata[0]}<br>Label=%{marker.color}<extra></extra>\", \"legendgroup\": \"\", \"marker\": {\"color\": [0, 0, 1, 1, 0, 0, 0, 0, 1, 1, 0, 1, 0, 1, 1, 1, 0, 1, 1, 0, 1, 0, 0, 1, 1, 1, 0, 0, 1, 1, 0, 0, 1, 1, 0, 0, 1, 0, 0, 0, 0, 0, 0, 1, 0, 1, 1, 0, 1, 0, 0, 1, 0, 1, 1, 1, 1, 0, 0, 1, 0, 1, 0, 1, 0, 1, 0, 0, 0, 0, 0, 0, 0, 0, 0, 0, 0, 0, 0, 0, 0, 0, 0, 0, 0, 0, 0, 0, 0, 0, 0, 0, 0, 0, 0, 0, 0, 0, 0, 0, 0, 0, 0, 0, 0, 0, 0, 0, 0, 0, 0, 0, 0, 0, 0, 0, 0, 0, 0, 0, 0, 0, 0, 0, 0, 0, 0, 0, 0, 0, 0, 0, 0, 0, 0, 0, 0, 0, 0, 0, 0, 0, 0, 0, 0, 0, 0, 0, 0, 0, 0, 0, 0, 0, 0, 0, 0, 0, 0, 0, 0, 0, 0, 0, 0, 0, 0, 0, 0, 0, 0, 0, 0, 0, 0, 0, 0, 0, 0, 0, 0, 0, 0, 0, 0, 0, 0, 0, 0, 0, 0, 0, 0, 0, 0, 0, 0, 0, 0, 0, 0, 0, 0, 0, 0, 0, 0, 0, 0, 0, 0, 0, 0, 0, 0, 0, 0, 0, 0, 0, 0, 0, 0, 0, 0, 0, 0, 0, 0, 0, 0, 0, 0, 0, 0, 0, 0, 0, 0, 0, 0, 0, 0, 0, 0, 0, 0, 0, 0, 0, 0, 0, 0, 0, 0, 0, 0, 0, 0, 0, 0, 0, 0, 0, 0, 0, 0, 0, 0, 0, 0, 0, 0, 0, 0, 0, 0, 0, 0, 0, 0, 0, 0, 0, 0, 0, 0, 0, 0, 0, 0, 0, 0, 0, 0, 0, 0, 0, 0, 0, 0, 0, 0, 0, 0, 0, 0, 0, 0, 0, 0, 0, 0, 0, 0, 0, 0, 0, 0, 0, 0, 0, 0, 0, 0, 0, 0, 0, 0, 0, 0, 0, 0, 0, 0, 0, 0, 0, 0, 0, 0, 0, 0, 0, 0, 0, 0, 0, 0, 0, 0, 0, 0, 0, 0, 0, 0, 0, 0, 0, 0, 0, 0, 0, 0, 0, 0, 0, 0, 0, 0, 0, 0, 0, 0, 0, 0, 0, 0, 0, 0, 0, 0, 0, 0, 0, 0, 0, 0, 0, 0, 0, 0, 0, 0, 0, 0, 0, 0, 0, 0, 0, 0, 0, 0, 0, 0, 0, 0, 0, 0, 0, 0, 0, 0, 0, 0, 0, 0, 0, 0, 0, 0, 0, 0, 0, 0, 0, 0, 0, 0, 0, 0, 0, 0, 0, 0, 0, 0, 0, 0, 0, 0, 0, 0, 0, 0, 0, 0, 0, 0, 0, 0, 0, 0, 0, 0, 0, 0, 0, 0, 0, 0, 0, 0, 0, 0, 0, 0, 0, 0, 0, 0, 0, 0, 0, 0, 0, 0, 0, 0, 0, 0, 0, 0, 0, 0, 0, 0, 0, 0, 0, 0, 0, 0, 0, 0, 0, 0, 0, 0, 0, 0, 0, 0, 0, 0, 0, 0, 0, 0, 0, 0, 0, 0, 0, 0, 0, 0, 0, 0, 0, 0, 0, 0, 0, 0, 0, 0, 0, 0, 0, 0, 0, 0, 0, 0, 0, 0, 0, 0, 0, 0, 0, 0, 0, 0, 0, 0, 0, 0, 0, 0, 0, 0, 0, 0, 0, 0, 0, 0, 0, 0, 0, 0, 0, 0, 0, 0, 0, 0, 0, 0, 0, 0, 0, 0, 0, 0, 0, 0, 0, 0, 0, 0, 0, 0, 0, 0, 0, 0, 0, 0, 0, 0, 0, 0, 0, 0, 0, 0, 0, 0, 0, 0, 0, 0, 0, 0, 0, 0, 0, 0, 0, 0, 0, 0, 0, 0, 0, 0, 0, 0, 0, 0, 0, 0, 0, 0, 0, 0, 0, 0, 0, 0, 0, 0, 0, 0, 0, 0, 0, 0, 0, 0, 0, 0, 0, 0, 0, 0, 0, 0, 0, 0, 0, 0, 0, 0, 0, 0, 0, 0, 0, 0, 0, 0, 0, 0, 0, 0, 0, 0, 0, 0, 0, 0, 0, 0, 0, 0, 0, 0, 0, 0, 0, 0, 0, 0, 0, 0, 0, 0, 0, 0, 0, 0, 0, 0, 0, 1, 1, 0, 1, 0, 0, 0, 1, 1, 1, 1, 0, 1, 1, 1, 0, 1, 1, 1, 0, 1, 0, 1, 1, 1, 1, 0, 0, 0, 0, 0, 0, 0, 0, 0, 0, 0, 0, 0, 0, 0, 0, 0, 0, 0, 0, 0, 0, 0, 0, 0, 0, 0, 0, 0, 0, 0, 0, 0, 0, 0, 0, 0, 0, 0, 0, 0, 0, 0, 0, 0, 0, 0, 0, 0, 0, 0, 0, 0, 0, 0, 0, 0, 0, 0, 0, 0, 0, 0, 0, 0, 0, 0, 0, 0, 0, 0, 0, 0, 0, 0, 0, 0, 0, 0, 0, 0, 0, 0, 0, 0, 0, 0, 0, 0, 0, 0, 0, 0, 0, 0, 0, 0, 0, 0, 0, 0, 0, 0, 0, 0, 0, 0, 0, 0, 0, 0, 0, 0, 0, 0, 0, 0, 0, 0, 0, 0, 0, 0, 0, 0, 0, 0, 0, 0, 0, 0, 0, 0, 0, 0, 0, 0, 0, 0, 0, 0, 0, 0, 0, 0, 0, 0, 0, 0, 0, 0, 0, 0, 0, 0, 0, 0, 0, 0, 0, 0, 0, 0, 0, 0, 0, 0, 0, 0, 0, 0, 0, 0, 0, 0, 0, 0, 0, 0, 0, 0, 0, 0, 0, 0, 0, 0, 0, 0, 0, 0, 0, 0, 0, 0, 0, 0, 0, 0, 0, 0, 0, 0, 0, 0, 0, 0, 0, 0, 0, 0, 0, 0, 0, 0, 0, 0, 0, 0, 0, 0, 0, 0, 0, 0, 0, 0, 0, 0, 0, 0, 0, 0, 0, 0, 0, 0, 0, 0, 0, 0, 0, 0, 0, 0, 0, 0, 0, 0, 0, 0, 0, 0, 0, 0, 0, 0, 0, 0, 0, 0, 0, 0, 0, 0, 0, 0, 0, 0, 0, 0, 0, 0, 0], \"coloraxis\": \"coloraxis\", \"opacity\": 0.7, \"symbol\": \"circle\"}, \"mode\": \"markers\", \"name\": \"\", \"scene\": \"scene\", \"showlegend\": false, \"type\": \"scatter3d\", \"x\": [-0.8365679979324341, -0.9593812227249146, 6.028915882110596, 9.345673561096191, 13.714090347290039, 5.022279739379883, -3.6391515731811523, 15.88119125366211, 1.795628547668457, -11.836654663085938, 15.996140480041504, 9.144444465637207, 17.35826301574707, -5.195868015289307, 6.641331672668457, 12.058682441711426, 17.506553649902344, -9.793523788452148, 4.339563369750977, 7.3150129318237305, 4.1760029792785645, -2.1693851947784424, 13.139288902282715, 2.434840202331543, 5.860330581665039, -0.8430891633033752, 8.141839981079102, -3.2315781116485596, 7.6411213874816895, 12.080997467041016, -0.8429914116859436, 1.7340176105499268, -4.567476272583008, 5.86595344543457, -6.075016021728516, -2.261244773864746, 6.327067852020264, -3.5354788303375244, -0.8703402280807495, 5.63408088684082, -12.341975212097168, 9.054422378540039, -10.641889572143555, 5.134781837463379, 8.347026824951172, 12.308082580566406, 7.709049701690674, 1.953648328781128, 8.872822761535645, -7.895242691040039, 16.001604080200195, 2.554175853729248, -7.364301681518555, 12.105729103088379, 7.111073017120361, -1.2427014112472534, 5.409804344177246, -4.696596622467041, 6.295596122741699, 6.583637237548828, -2.942943572998047, -4.5437092781066895, 15.672743797302246, 9.084053993225098, -10.737881660461426, 7.533169746398926, -10.103384971618652, -9.528681755065918, 9.158677101135254, 8.799936294555664, 15.629656791687012, 12.596403121948242, -0.7667564153671265, 12.11563491821289, -10.986930847167969, -6.2775678634643555, 10.069579124450684, 12.3512601852417, -14.715171813964844, -12.910439491271973, -12.569846153259277, -7.044727802276611, 12.80933952331543, -4.2386298179626465, -3.623443841934204, 0.5304602384567261, -5.668924331665039, -5.570329666137695, 1.8998806476593018, -4.791559219360352, -6.693661212921143, 14.108736038208008, -11.034651756286621, -3.651925563812256, -1.2147802114486694, 15.665790557861328, -10.131205558776855, -0.09736313670873642, -4.137270927429199, 10.85022258758545, -2.5132579803466797, -8.58503532409668, -0.7828909754753113, -8.450594902038574, 16.30652618408203, -10.819945335388184, -5.695803165435791, 2.3456695079803467, -11.053175926208496, 11.71442985534668, -6.849803924560547, -1.5769462585449219, 14.192835807800293, -7.316442966461182, 9.891952514648438, -8.9858980178833, -4.28093147277832, -3.7125954627990723, 10.259984970092773, -5.703520774841309, -9.882182121276855, 1.2212555408477783, 2.3176581859588623, -9.852301597595215, -2.421248435974121, -0.00933107454329729, -0.3754110038280487, 10.479652404785156, -3.263098955154419, 0.021019086241722107, -2.9776017665863037, -9.914251327514648, 15.829891204833984, -1.65615713596344, -8.183209419250488, -5.189939975738525, 11.866816520690918, 13.869250297546387, 1.243526577949524, -0.33363863825798035, 13.13045883178711, -5.089788913726807, -8.4264497756958, 12.561030387878418, -6.790895462036133, -12.30981159210205, 12.867086410522461, -9.005489349365234, 0.548058807849884, -3.536074161529541, -5.954594135284424, -8.65062427520752, 2.3081185817718506, -9.296656608581543, -2.013187885284424, -9.486255645751953, -9.36914348602295, -10.846830368041992, -8.499704360961914, 9.396082878112793, -5.524797439575195, -5.254302978515625, -10.624237060546875, -15.300149917602539, 9.392054557800293, -9.234973907470703, 13.167981147766113, 13.201773643493652, 8.43836784362793, -3.88258957862854, -6.517775058746338, 0.2422643005847931, 7.570596694946289, 9.783858299255371, -0.4104316532611847, -6.486139297485352, 7.214493751525879, 8.951891899108887, 1.0687508583068848, 12.521655082702637, 0.5644466280937195, 10.239546775817871, 2.079521656036377, 15.184051513671875, 13.701018333435059, -3.4107534885406494, 9.62986946105957, -3.7335305213928223, -10.768911361694336, -8.264461517333984, -9.051108360290527, 12.180595397949219, 15.120712280273438, 9.295904159545898, -6.35960054397583, -5.878304481506348, 1.3851357698440552, 3.681058645248413, -3.5857763290405273, -1.5939875841140747, 2.78501033782959, -2.0824639797210693, 0.7197575569152832, 13.021757125854492, 7.936864376068115, 1.6916651725769043, -14.114419937133789, 3.0067636966705322, 10.315658569335938, 3.1348936557769775, -1.3496946096420288, 9.849739074707031, 12.29061508178711, -7.740573883056641, 1.3837980031967163, 0.45938587188720703, 2.501420021057129, 12.926868438720703, 15.250129699707031, 0.6374105215072632, 7.676123142242432, -0.8421632051467896, 11.953615188598633, -12.299729347229004, -5.872603893280029, -12.884195327758789, -11.451059341430664, -11.274503707885742, -8.772099494934082, 7.914534091949463, -4.706104278564453, -11.106350898742676, 12.757562637329102, 13.424928665161133, -7.063708305358887, -0.516521155834198, -2.2384278774261475, -8.296440124511719, 10.606528282165527, 8.495753288269043, 2.876349925994873, 2.1875252723693848, 8.769736289978027, -4.4104413986206055, 13.262130737304688, -6.315199375152588, -8.746139526367188, -13.322051048278809, -12.092182159423828, 12.892190933227539, -6.708323955535889, -0.4398236572742462, 12.008345603942871, -5.237066268920898, -11.583409309387207, 0.8013080954551697, -3.1381049156188965, -5.840688228607178, 8.384151458740234, -6.293192386627197, 9.775392532348633, -5.160562992095947, 11.839146614074707, -0.5887063145637512, -7.981242656707764, -4.067933559417725, 15.096687316894531, -4.599379062652588, -10.770827293395996, 4.449145317077637, 1.837194800376892, 0.5966683626174927, -5.885678291320801, 9.29114818572998, 8.689627647399902, -8.263794898986816, 14.084718704223633, 12.110580444335938, 1.1499090194702148, -10.617327690124512, -11.057418823242188, 9.450754165649414, -11.65668773651123, -4.25045919418335, 9.56299114227295, -1.5605933666229248, -7.261308670043945, -0.6626592874526978, -6.595065116882324, -3.439272165298462, -4.986017227172852, 1.6149425506591797, -5.611526012420654, -2.338177442550659, -4.278139591217041, 13.257121086120605, 11.665909767150879, -14.886439323425293, -3.319272041320801, -2.6111745834350586, 0.15186071395874023, -4.93627405166626, 13.687042236328125, 13.595935821533203, 9.97056770324707, -10.08945083618164, 0.9357618093490601, -9.847078323364258, -11.551933288574219, 13.913641929626465, 12.938399314880371, -10.165144920349121, 10.008879661560059, 8.929230690002441, 1.531720757484436, -2.6723856925964355, -3.7939722537994385, -3.4822776317596436, -11.111417770385742, 0.272637277841568, 0.6298884749412537, -8.116915702819824, 12.83067512512207, -1.0662221908569336, -11.839592933654785, -3.5151596069335938, 15.064281463623047, 15.626124382019043, 9.652758598327637, 10.213387489318848, -4.866299629211426, 12.847487449645996, -6.84166955947876, -10.324973106384277, -5.447749614715576, 10.009560585021973, 0.502938449382782, -5.134903430938721, 9.819538116455078, 11.786369323730469, -4.92166805267334, -13.632281303405762, 10.332523345947266, -9.230225563049316, 15.34567642211914, 11.133296966552734, -1.1994640827178955, -10.518465042114258, 10.62174129486084, 12.903521537780762, -0.6408953666687012, -6.316878318786621, -5.999516487121582, 0.2579120993614197, -7.327706813812256, -13.495962142944336, -9.102084159851074, -1.2882477045059204, 16.13128089904785, -2.1842002868652344, -0.6254592537879944, -0.029410701245069504, -2.831411123275757, -10.687617301940918, 12.21895980834961, -11.052842140197754, 13.69017219543457, -3.4321982860565186, -6.359944820404053, 2.713243246078491, -9.866299629211426, 2.6917247772216797, 10.860584259033203, 8.019254684448242, 12.696752548217773, -9.251294136047363, -10.612943649291992, 10.419170379638672, -0.14157572388648987, -4.557961940765381, 11.13012981414795, -1.2912871837615967, -9.600818634033203, -0.06993800401687622, -0.4666585624217987, -10.790811538696289, -5.5642242431640625, -4.50911808013916, -0.6564400792121887, -2.554854393005371, -7.264955997467041, -9.986185073852539, -6.857744216918945, -8.93386459350586, -6.108670711517334, 0.4721103310585022, -10.415140151977539, 13.150033950805664, -2.390126943588257, -9.287023544311523, -5.16834831237793, -5.7582831382751465, -9.890832901000977, 2.176375150680542, 15.435161590576172, -4.191171646118164, 7.842159271240234, -1.7948886156082153, 9.4009428024292, 3.3562333583831787, -2.791393756866455, -5.771896839141846, 16.546306610107422, -10.860779762268066, 1.334682822227478, -10.778976440429688, -5.527314186096191, -1.9584567546844482, 15.55659294128418, 11.065372467041016, -2.4787566661834717, -4.157653331756592, -0.753325343132019, -0.5534840822219849, 8.557255744934082, -7.351487159729004, -4.018254280090332, 10.287385940551758, -1.4425135850906372, 10.14119815826416, -8.40136432647705, -4.455265998840332, -4.637758255004883, 10.972477912902832, 15.084794044494629, -1.061781406402588, -7.893286228179932, 10.986207962036133, -11.599854469299316, 7.686573505401611, -10.956289291381836, -14.508804321289062, 8.704753875732422, 12.44813060760498, 0.13110977411270142, 7.6911187171936035, 14.606501579284668, -9.092977523803711, 11.579508781433105, 11.774651527404785, -6.432318210601807, 11.50700855255127, -9.974699974060059, -10.481301307678223, 13.94810962677002, -0.530571460723877, 1.488147258758545, 11.210030555725098, -13.955888748168945, -14.129610061645508, -0.8163890838623047, 8.73666763305664, -9.836444854736328, -14.136923789978027, 0.7799549102783203, -6.94516134262085, -10.877184867858887, 15.894363403320312, -8.937885284423828, 9.079791069030762, -10.76254653930664, -8.366132736206055, -6.116384983062744, -7.606603622436523, -8.821639060974121, -6.4929327964782715, -5.524109840393066, 8.754558563232422, -2.9120736122131348, -2.862828016281128, -11.309221267700195, -5.232012748718262, 10.175914764404297, 11.76394271850586, -4.201143741607666, 12.116440773010254, 0.3359384834766388, -1.0738580226898193, -4.3154988288879395, 9.293928146362305, -12.100424766540527, 13.35039234161377, 7.07694673538208, 13.677606582641602, 8.851935386657715, 12.577705383300781, 3.5996453762054443, 10.723642349243164, -8.087151527404785, -4.456934452056885, 1.306009292602539, -2.3651065826416016, -3.3937265872955322, 1.8164093494415283, -1.2178840637207031, 9.490469932556152, -13.025467872619629, -10.91264533996582, -0.7295910120010376, 9.552694320678711, 11.377181053161621, -11.092228889465332, 1.9797512292861938, 11.933685302734375, -14.526686668395996, -10.88259220123291, -8.046233177185059, -13.741077423095703, -0.5908138751983643, 1.8471121788024902, -0.9191262125968933, 12.906790733337402, 8.316545486450195, 9.72940731048584, 15.582816123962402, -4.8182759284973145, -0.18724696338176727, -5.045601844787598, -0.0943373367190361, -3.520092248916626, -0.6881254315376282, 12.75533676147461, 10.954319953918457, -9.904439926147461, 11.90811824798584, 12.303106307983398, 2.7617239952087402, 12.971075057983398, -2.3596508502960205, 4.28845739364624, 1.1142897605895996, 10.192361831665039, -2.660922050476074, 0.5466449856758118, -9.912601470947266, 13.975625038146973, -12.035313606262207, 11.3897705078125, 12.086501121520996, -11.81171989440918, -10.3615140914917, -5.6693267822265625, 9.69266128540039, -8.443107604980469, -8.192400932312012, -2.762176990509033, 9.989924430847168, -10.11514949798584, 15.283086776733398, 0.8600707650184631, 12.573519706726074, 15.703536033630371, -8.663299560546875, 13.033196449279785, -7.1243205070495605, -14.813752174377441, -8.52043628692627, -2.0904648303985596, 13.458725929260254, 12.651152610778809, -1.438381314277649, 12.622840881347656, 14.989002227783203, 13.28402042388916, 2.049565315246582, 14.445902824401855, -2.4234185218811035, -5.889112949371338, -3.968400478363037, -10.312749862670898, -2.209817409515381, -11.238568305969238, 7.938174247741699, -2.2092723846435547, -11.63188648223877, -14.358354568481445, -3.2173783779144287, -7.567381858825684, -6.31783390045166, 13.532917022705078, -5.1438798904418945, -12.40144157409668, 0.6151402592658997, 15.131295204162598, -1.0706948041915894, -8.732555389404297, 13.694724082946777, 12.521730422973633, 9.120560646057129, 11.883931159973145, 12.104277610778809, 1.9799330234527588, 8.908130645751953, -4.192430019378662, 10.043238639831543, 1.338795781135559, 15.850016593933105, 14.391108512878418, -6.256165027618408, -0.8327990174293518, 7.844100475311279, -5.556459903717041, -1.6144975423812866, -4.713078498840332, -12.887228965759277, -9.54293441772461, 1.9143803119659424, 2.762169122695923, -3.4000377655029297, -3.7509405612945557, -1.6504971981048584, -7.504216194152832, -7.427249431610107, -0.8539406061172485, 9.185486793518066, 16.567304611206055, -4.755651473999023, 10.422014236450195, -0.8517288565635681, -14.327201843261719, -4.895488739013672, 3.000980854034424, -12.525247573852539, 12.817988395690918, -4.424101829528809, -2.353161096572876, -6.039182186126709, -1.8071666955947876, 13.651544570922852, -2.1226158142089844, 7.755573272705078, 3.2009077072143555, -5.52121114730835, -5.217564105987549, 13.300213813781738, -11.490943908691406, 8.068719863891602, -6.626014232635498, 14.645402908325195, -6.799601078033447, -11.450932502746582, -8.02005386352539, -0.5267665982246399, 13.92620849609375, -6.808775901794434, -0.779383659362793, 11.610159873962402, -4.660554885864258, -3.784292221069336, 11.97241497039795, 14.823556900024414, -9.064715385437012, 0.6717917919158936, -2.0752809047698975, 10.841602325439453, -2.193516254425049, 13.317182540893555, -1.2701244354248047, 3.818413257598877, -7.581268787384033, 0.3827282786369324, -13.117841720581055, -8.138581275939941, -3.1317570209503174, 8.481511116027832, -10.600055694580078, 2.309471368789673, 12.963459014892578, 11.578198432922363, -1.8064005374908447, 8.384211540222168, -10.614639282226562, -5.911009311676025, 7.514819622039795, -8.924918174743652, -7.605649948120117, -12.515607833862305, -11.269975662231445, 14.669878005981445, 13.742484092712402, 6.863065242767334, 12.05105972290039, 16.204246520996094, -0.5759310722351074, 15.343280792236328, 9.880138397216797, -3.357475519180298, -12.599578857421875, -7.675250053405762, 8.87066650390625, 3.434281349182129, -10.549057006835938, -5.191687107086182, 7.618686199188232, -9.25825309753418, -1.318940281867981, 14.968192100524902, 11.162862777709961, -1.6172657012939453, 5.78604793548584, 6.3328986167907715, -10.479744911193848, -4.534704685211182, -0.7070291638374329, -5.548077583312988, 7.6529693603515625, 4.744317054748535, 11.762491226196289, -5.524832725524902, -5.385889053344727, 4.450984954833984, -5.111475467681885, 0.4413023293018341, 2.4664764404296875, 0.21765506267547607, -4.631035804748535, 10.818647384643555, 9.496862411499023, 11.678497314453125, 5.49354362487793, -1.450281023979187, 10.521416664123535, -2.782411813735962, -4.5214009284973145, 2.0446572303771973, 14.019658088684082, -8.128324508666992, -13.180002212524414, -14.531072616577148, 8.034242630004883, -2.7342545986175537, -5.101889133453369, -5.0908050537109375, 7.168693542480469, -2.2465667724609375, -14.543033599853516, -10.974676132202148, 13.462106704711914, 10.66124153137207, 15.306710243225098, -0.5626710057258606, 10.282380104064941, -1.8824381828308105, -6.310169696807861, -11.452653884887695, 8.939520835876465, -12.779245376586914, -5.150149345397949, 12.278335571289062, -10.79399585723877, 14.84480094909668, -8.08780288696289, -7.2317118644714355, -5.99235200881958, -2.279829263687134, -3.523505926132202, -4.301276683807373, 11.698392868041992, -3.1770331859588623, 12.598788261413574, -12.3788480758667, -3.302950143814087, -0.5455485582351685, -4.604867458343506, -3.755206823348999, -12.314579010009766, -0.9130669832229614, 2.3046014308929443, -12.357169151306152, -4.344113826751709, -8.95557975769043, -3.6034646034240723, 0.3843442499637604, -6.136174201965332, -13.907660484313965, 15.248760223388672, -5.839170455932617, 9.078460693359375, -14.723427772521973, -12.469780921936035, 15.918988227844238, -9.025039672851562, 8.596417427062988, -10.168113708496094, -5.813591957092285, 2.780959367752075, -12.358566284179688, 11.270660400390625, -10.085772514343262, -9.374397277832031, -0.11391187459230423, -2.352017402648926, -0.5227033495903015, -0.29112711548805237, 8.775588989257812, -8.40939998626709, -10.565516471862793, -2.0760653018951416, 13.793108940124512, -9.131668090820312, 10.863078117370605, 6.584305286407471, -10.80197811126709, -1.9350355863571167, 0.7995298504829407, 11.45240592956543, -0.6807218790054321, 15.79723834991455, 6.665639400482178, 12.006629943847656, 13.181354522705078, 9.069565773010254, -15.538472175598145, -1.1244271993637085, 1.5015228986740112, -8.475770950317383, 13.751908302307129, -12.96243953704834, -7.244675159454346, 13.169168472290039, -2.8282816410064697, -3.3606765270233154, 14.914087295532227, 6.986663341522217, 11.438331604003906, 9.10650634765625, 11.545014381408691, 12.528531074523926, 12.07611083984375, -9.218436241149902, -9.6010103225708, -8.234065055847168, 11.999241828918457, 1.0548310279846191, -4.904202461242676, 10.736176490783691, 2.6987318992614746, -10.286691665649414, -6.8133015632629395, -2.6197474002838135, 10.012690544128418, -1.8649544715881348, -9.148357391357422, -9.595563888549805, -0.7130193710327148, 2.915769338607788, 0.01206390094012022, 13.837362289428711, -13.404050827026367, 8.122285842895508, -1.881994366645813, -12.150713920593262, 1.1808744668960571, -10.632286071777344, 1.499862551689148, 13.847299575805664, -4.416565418243408, -12.572478294372559, 10.14138126373291, -4.955508708953857, 12.840865135192871, -10.457988739013672, -5.619953155517578, -7.561194896697998, -1.1379839181900024, -7.238661289215088, -6.31160306930542, 1.4424688816070557, -3.0600311756134033, 7.824286937713623, -5.427917957305908, -11.273641586303711, -13.003087997436523, 12.987895011901855, 13.545276641845703, 14.243132591247559, -4.537130355834961, -4.643211841583252, -2.7135140895843506, 6.446586608886719, 11.715876579284668, 13.195541381835938, 8.901580810546875, -12.024275779724121, 14.516836166381836, -7.014184474945068, -5.989471435546875, -6.943776607513428, 0.25048545002937317, 1.0135083198547363, -0.8732541799545288, -5.581037521362305, -12.547301292419434, 16.111141204833984, -11.770125389099121, 13.334708213806152, 12.196186065673828, 1.4467246532440186, 8.71031379699707, -12.422765731811523, -4.514130115509033, -6.895452499389648, -11.378182411193848, -11.416237831115723, 9.004521369934082, 10.93783187866211, -2.386423349380493, 1.3587368726730347, 13.636740684509277, 14.673017501831055, -2.059950113296509, 15.917174339294434, -4.77257776260376, -9.587008476257324, 3.7088918685913086, -5.3840765953063965, 0.1295533925294876, -2.6960604190826416, -2.9240264892578125, 3.1920154094696045, 12.060911178588867, -9.80051040649414, -5.577401161193848, 15.088519096374512, 13.421087265014648, 9.618597030639648, -9.975167274475098, 7.177948951721191, 0.32705625891685486, 13.586549758911133, 7.338665008544922, -3.432893991470337, -14.4649076461792, 11.007744789123535, -11.340352058410645, 8.940624237060547, -12.351763725280762, -8.64051342010498, 0.45216771960258484, -0.5424920320510864, -2.8820371627807617, -1.9945740699768066, 15.678201675415039, 13.049790382385254, -4.085391998291016, -5.469418048858643, 15.052179336547852, 10.31332015991211, 6.6976542472839355, 2.1887667179107666, -6.4850568771362305, -4.483121395111084, 8.596683502197266, -13.297041893005371, -4.239462375640869, -10.86119270324707, -2.323810338973999, -7.738027095794678, 8.183835983276367, -7.092648029327393, 14.222783088684082, -11.116264343261719, -5.284299373626709, 10.697537422180176, -10.875146865844727, -5.718237400054932, -3.54292631149292, 13.427451133728027, -2.5763161182403564, 8.85238265991211, 7.934678554534912, -2.6484498977661133, -15.233728408813477, -3.5574584007263184, 13.18898868560791, -5.989807605743408, 1.4931813478469849, 11.273643493652344, 12.561453819274902, 12.229510307312012, 9.570050239562988, -10.375953674316406, -11.677948951721191, 7.258025169372559, 9.717576026916504, -3.6016757488250732, -6.773721218109131, -14.297887802124023, 10.538294792175293, 11.069730758666992], \"y\": [-9.554975509643555, 12.286019325256348, -11.414002418518066, 4.279789447784424, -10.088884353637695, 5.765406608581543, 15.281940460205078, 4.442704677581787, -3.5153656005859375, -7.333421230316162, 6.936346530914307, -8.310892105102539, 1.7243282794952393, -1.5277535915374756, -4.692052364349365, 0.9078182578086853, 1.9174777269363403, 0.7059400677680969, -11.209100723266602, -7.067083835601807, 5.8945512771606445, -7.833024024963379, -8.43399429321289, -2.8911819458007812, 3.156582832336426, -4.967765808105469, -7.8500075340271, -1.73334538936615, -0.9112255573272705, -0.47255653142929077, -2.644521713256836, 12.216972351074219, -1.298699975013733, -3.035372018814087, -1.883236289024353, -6.0432448387146, -6.368518352508545, -1.8875023126602173, -9.485483169555664, 6.5476908683776855, 8.95419979095459, -0.8451122045516968, 3.7646517753601074, 0.7831743359565735, -2.4495601654052734, 1.5822536945343018, -2.2669780254364014, -2.9626924991607666, -8.170647621154785, 7.708169937133789, 7.155338287353516, -10.459312438964844, -2.1791725158691406, 1.4940321445465088, 4.777845859527588, 11.127825736999512, 7.848484992980957, 0.44887667894363403, -2.4466044902801514, -7.236410617828369, -0.04975851625204086, 2.9544622898101807, -0.6309741139411926, -0.2324373573064804, 6.282054901123047, -2.2528655529022217, 6.795783996582031, 0.5582932829856873, -7.8718438148498535, 5.2644267082214355, -2.9187357425689697, 2.6918137073516846, -11.191332817077637, 7.172966957092285, -13.426358222961426, -8.038142204284668, -6.503052711486816, -0.10105476528406143, -11.281189918518066, -7.6160783767700195, -7.747909069061279, -8.239341735839844, -7.060921669006348, 3.4173247814178467, 13.086743354797363, 9.756367683410645, 7.1020188331604, 9.584680557250977, 2.841975688934326, -9.73024845123291, -11.043876647949219, 6.962390422821045, 3.2111363410949707, 15.280324935913086, 10.608169555664062, -1.6166882514953613, -1.2695457935333252, 7.537929534912109, -0.350353866815567, -6.2588791847229, -11.201133728027344, 8.035612106323242, 7.698588848114014, -0.5095868706703186, 0.9191662669181824, -3.8951003551483154, 3.62414288520813, 7.75111722946167, -12.690145492553711, -0.27405065298080444, -9.330876350402832, -10.297532081604004, 9.856691360473633, -7.415367603302002, -10.523042678833008, -8.552690505981445, 12.68996810913086, 15.536893844604492, 5.856048583984375, 0.2795240581035614, -8.349346160888672, 1.1045266389846802, 8.33251953125, 6.011800765991211, 2.584709644317627, 10.142515182495117, 9.638216972351074, 4.065331935882568, 12.549027442932129, 8.971561431884766, 2.654787540435791, -1.4758493900299072, 5.919593811035156, 14.448829650878906, 9.451964378356934, -8.613821029663086, -9.064964294433594, 4.363816738128662, 10.999043464660645, 0.18430787324905396, 6.966180801391602, -7.796672821044922, -0.6761097311973572, -8.490585327148438, -0.6020862460136414, -6.208195686340332, 5.3963212966918945, 7.613479137420654, 11.900500297546387, 1.2284998893737793, -9.401082992553711, -9.637185096740723, 5.310155868530273, -0.16268566250801086, -8.979753494262695, -0.620994508266449, 6.649670124053955, 7.737597465515137, -13.157984733581543, 6.973293304443359, 13.056056022644043, 0.5816925764083862, -11.242561340332031, -9.644794464111328, 4.868409156799316, 8.821741104125977, 6.64431095123291, -2.1571812629699707, -6.878221035003662, 2.02070689201355, 3.296903610229492, 7.658198356628418, 3.9087319374084473, -10.629593849182129, 2.27670955657959, 8.557977676391602, 4.221075534820557, -10.356185913085938, 12.106059074401855, 3.9069817066192627, 3.4565675258636475, 3.717524528503418, 10.925528526306152, -0.17274069786071777, -1.5818202495574951, 12.849298477172852, -0.9501677751541138, 2.428023099899292, -7.351579666137695, -9.288455963134766, 7.778075695037842, -9.303021430969238, 6.980884552001953, -11.19592571258545, 9.426595687866211, 14.429128646850586, 4.139489650726318, 7.859733581542969, -12.093446731567383, 2.9870128631591797, 0.17435498535633087, 0.8838712573051453, 10.807686805725098, -7.033875465393066, -10.99780559539795, 12.470758438110352, -6.330880641937256, 0.7011940479278564, 4.781142711639404, 12.155399322509766, 3.002019166946411, -0.559021532535553, -1.7098429203033447, -8.818750381469727, 1.090412974357605, 2.775989055633545, 11.673311233520508, 0.8261787295341492, -0.7490590810775757, -0.7546185255050659, -11.670197486877441, 6.854408264160156, -7.110104560852051, -11.999112129211426, 9.105586051940918, -6.286753177642822, 5.40181827545166, -8.445928573608398, 9.954736709594727, -0.6105539202690125, 13.971025466918945, 3.4346063137054443, 4.851556777954102, 4.279270648956299, -1.12051522731781, 6.381936073303223, -2.0047173500061035, -8.522089958190918, 3.7892062664031982, -11.196365356445312, 1.203367829322815, 6.903029441833496, -8.591377258300781, 10.626016616821289, 2.853877544403076, 8.836438179016113, -7.831611156463623, -11.908690452575684, 5.436069488525391, -8.639715194702148, -0.301852822303772, 1.1827023029327393, 2.5837414264678955, 0.8131935000419617, -4.4513678550720215, -1.653430700302124, -10.184781074523926, 10.630996704101562, -0.16833153367042542, -0.8911911249160767, -9.492217063903809, 1.1495187282562256, -10.578259468078613, 3.460170030593872, -1.6173961162567139, 10.488591194152832, 3.8021600246429443, 9.786347389221191, -12.751969337463379, 6.620452404022217, 6.211885452270508, 12.29916763305664, -10.312758445739746, -9.484801292419434, 5.6665754318237305, 3.1955819129943848, -1.705209732055664, -9.342941284179688, 6.880979537963867, -7.116593837738037, 5.243896961212158, -9.111295700073242, -6.687100410461426, -7.328995227813721, -9.853325843811035, 8.387659072875977, 3.1838176250457764, 7.09453821182251, 11.12883186340332, -12.394716262817383, -9.000478744506836, 7.576094627380371, 3.296144962310791, 7.8459296226501465, 3.730067491531372, 8.644392013549805, 5.065783500671387, -9.21539306640625, 3.2764480113983154, -9.181815147399902, 10.883866310119629, 11.306121826171875, -1.474028468132019, 3.0558197498321533, 3.5656399726867676, -12.673102378845215, 6.394415855407715, -11.370535850524902, 8.262530326843262, -1.4124503135681152, -1.2689886093139648, 8.142892837524414, 2.7221879959106445, -10.647734642028809, 4.9122538566589355, -10.850923538208008, 1.9498085975646973, 12.804791450500488, -12.814167976379395, 11.124199867248535, 10.108598709106445, -10.159175872802734, 3.381653308868408, 9.055058479309082, -7.339475631713867, -8.14177417755127, 2.142566680908203, 3.6953647136688232, -5.183849811553955, 4.5584588050842285, 10.09314250946045, -0.5441818237304688, 2.842848777770996, -2.6278724670410156, 8.97978401184082, -6.39743185043335, 9.530556678771973, -8.671842575073242, -0.632470428943634, -2.5672295093536377, -9.801647186279297, -7.370294094085693, 6.105509281158447, 0.7065274119377136, 4.1263885498046875, -6.0479021072387695, 14.827291488647461, 10.263055801391602, 4.799229621887207, 0.1308089941740036, 0.3283892571926117, -10.055752754211426, -1.571086049079895, 11.87055778503418, 3.13063645362854, -7.843278408050537, -2.44580340385437, 5.15411376953125, -2.048865556716919, -6.654337406158447, 10.734848976135254, 6.804445266723633, -3.280092477798462, 7.098247051239014, 4.323330402374268, -11.040022850036621, -0.28300294280052185, 11.42333984375, 10.416767120361328, 7.669673919677734, 3.3062260150909424, 1.3360612392425537, -7.6103739738464355, -4.761242866516113, 3.3446249961853027, 5.016469955444336, -11.844053268432617, 3.793107032775879, 11.377193450927734, -7.295958042144775, 6.339042663574219, -0.27210167050361633, -12.951501846313477, -11.691910743713379, 9.769700050354004, -0.932640790939331, 2.9824867248535156, 2.1673808097839355, 3.3150978088378906, -10.89217758178711, 5.1180195808410645, -1.8863847255706787, -11.51707935333252, -8.931974411010742, -0.7340191602706909, 11.966854095458984, -4.073740005493164, 2.5106618404388428, -8.653645515441895, -6.996304512023926, 0.44204553961753845, 4.7274065017700195, 8.044760704040527, 12.018538475036621, 1.9289385080337524, 10.75490665435791, -8.198310852050781, -1.5369876623153687, 8.470340728759766, 9.250850677490234, 9.1405668258667, -8.284615516662598, 0.1747322678565979, -11.73119068145752, 8.05018138885498, 3.6235103607177734, 7.719972133636475, 12.098250389099121, 4.097564220428467, -5.701817512512207, -10.884932518005371, 5.096107006072998, 6.80615234375, 11.252058029174805, -6.3794450759887695, 9.915987968444824, 13.954587936401367, 4.058781623840332, -10.714664459228516, -6.0821533203125, -8.743581771850586, 13.75875186920166, 3.0641818046569824, 3.104968547821045, -3.54469633102417, 3.801853895187378, 0.3311539590358734, -7.244914531707764, -12.274018287658691, -10.625221252441406, -4.7032790184021, -10.982828140258789, -10.730351448059082, -5.36283016204834, 2.4972567558288574, 4.911661624908447, -1.1848015785217285, 2.018993616104126, -7.86817741394043, 4.470214366912842, 4.712265491485596, -8.909051895141602, 5.480408668518066, -12.395155906677246, 8.639239311218262, 10.020736694335938, 0.9306533932685852, -9.116318702697754, -11.58372974395752, -10.459749221801758, 9.652426719665527, -9.214112281799316, 3.585984230041504, -9.135589599609375, -1.4802509546279907, -11.245393753051758, -12.751568794250488, -0.11259249597787857, 8.9190034866333, -7.4439873695373535, -7.88832950592041, -1.3663084506988525, 7.346811294555664, -8.7783784866333, 4.646770000457764, 9.859786033630371, 14.58543586730957, 3.026095390319824, -8.11365795135498, 10.135510444641113, 7.485930442810059, 4.050065040588379, 2.6105048656463623, -4.927663326263428, 12.96731185913086, -5.985012531280518, 6.2494282722473145, -11.47778034210205, -9.147605895996094, -12.067532539367676, -10.887232780456543, 8.557456016540527, 1.710799217224121, -2.1625940799713135, -8.28851318359375, 4.7284650802612305, 8.999655723571777, 8.015899658203125, 0.8109187483787537, -10.72656536102295, 10.784402847290039, -1.4821869134902954, -7.793674945831299, 2.642504930496216, -10.5632963180542, -11.384186744689941, -12.93006420135498, 10.579026222229004, -11.906533241271973, 2.869410753250122, -9.920906066894531, 8.353178024291992, 5.513473987579346, -1.8636882305145264, -9.964604377746582, 1.8360573053359985, 0.030164089053869247, -12.381063461303711, 0.4491107165813446, 6.560179233551025, -11.570964813232422, -5.325958728790283, 0.09396158903837204, -4.608938694000244, -0.8512360453605652, 11.895358085632324, -11.700704574584961, 11.257075309753418, 1.9394713640213013, -11.87787914276123, 7.50478982925415, -0.32988035678863525, 7.825337886810303, 2.507922649383545, 8.620487213134766, -0.7298773527145386, 10.02799129486084, -6.851033687591553, -5.362874984741211, 7.000385761260986, -0.22189870476722717, 6.180655479431152, 8.96723747253418, 12.59837532043457, 10.358621597290039, 7.912587642669678, -5.129337310791016, 5.203673839569092, 4.110651016235352, -6.151206016540527, -0.9216787219047546, -7.608616828918457, -8.429461479187012, -13.18005657196045, 2.6188151836395264, 8.262825012207031, 8.14924144744873, -14.373498916625977, 3.112671136856079, -1.4999005794525146, -5.988557815551758, -0.5481566786766052, 3.0733282566070557, 6.386013507843018, 1.9250164031982422, -7.302305698394775, 6.758281707763672, -1.171629548072815, 4.314755439758301, 7.933592796325684, -10.233872413635254, 8.326469421386719, 3.241711139678955, 0.053817346692085266, 11.687050819396973, -2.2799248695373535, 11.828108787536621, 10.48881721496582, -7.993935585021973, -8.842472076416016, -10.683480262756348, -10.264721870422363, -5.376121520996094, 12.761787414550781, 8.253084182739258, -6.107895851135254, -11.485617637634277, 4.492736339569092, 10.454527854919434, -0.189461812376976, 5.394099712371826, 5.784558296203613, -2.778818368911743, 2.3870465755462646, -1.5386322736740112, -1.2906056642532349, 3.610250949859619, -1.5687700510025024, 3.759521722793579, -5.652731895446777, 5.985838890075684, -0.08342195302248001, 2.500016689300537, 13.997465133666992, 5.805670261383057, 11.189078330993652, 3.3419840335845947, -1.4727427959442139, 0.749334454536438, 10.123946189880371, 0.0019130349392071366, -9.884343147277832, -12.393481254577637, -10.45905876159668, -8.739950180053711, 2.866663932800293, 3.508233070373535, 3.0164031982421875, 1.8788902759552002, -11.608488082885742, -3.0908782482147217, -0.8134973049163818, -0.803848147392273, -0.38847535848617554, -4.974857807159424, 1.845163345336914, 12.884099006652832, -11.113011360168457, -0.8790331482887268, -9.052623748779297, 0.15412136912345886, 8.00326156616211, -13.597246170043945, -6.18328857421875, -9.850902557373047, -5.606030464172363, -10.957152366638184, -2.609227418899536, 8.533055305480957, -1.585673451423645, -11.06320571899414, 12.219542503356934, 14.4524564743042, -7.658976078033447, -1.791456699371338, -12.041930198669434, -8.091907501220703, -7.545662879943848, -4.309491157531738, -10.827985763549805, 5.374789714813232, 6.522368431091309, -0.17936354875564575, 6.127845287322998, 8.265851974487305, 9.608604431152344, -6.7298903465271, -8.08284854888916, 1.1226389408111572, -0.02465929463505745, -1.1547552347183228, -1.9424121379852295, -1.6714972257614136, -9.582530975341797, 5.609844207763672, -2.012066602706909, 2.7111406326293945, 14.564510345458984, 7.852821350097656, 7.670897483825684, -0.2588616907596588, -7.156217098236084, 0.2884196639060974, -1.539535403251648, 6.1194844245910645, -0.23102016746997833, 12.680033683776855, 9.916555404663086, 4.292118072509766, 14.413811683654785, -6.702939510345459, 4.186624050140381, -10.001554489135742, 4.112893104553223, 4.843606948852539, 8.132824897766113, -5.295592308044434, 9.592727661132812, 7.125377655029297, -1.6310343742370605, 3.411919593811035, -0.5705375075340271, -0.4948824644088745, 5.169849872589111, 8.634017944335938, 8.128936767578125, -7.153439044952393, -6.243481636047363, -11.899267196655273, -1.3827167749404907, 3.088200330734253, -0.552865207195282, -1.5257563591003418, -0.9036317467689514, -6.1625776290893555, 11.236926078796387, 5.765341758728027, -2.238095760345459, -4.412747383117676, 0.7634814977645874, -2.7605154514312744, 7.001554489135742, 2.3620338439941406, -4.794583797454834, 2.9519004821777344, 7.856807231903076, 5.872045993804932, 2.2235071659088135, 2.9819886684417725, 4.547105312347412, -11.242830276489258, 11.177478790283203, 6.247488498687744, -10.414541244506836, 2.186657667160034, -1.282493233680725, 4.106363296508789, 8.565168380737305, 3.182687997817993, 6.018250465393066, 3.4923975467681885, -6.757871150970459, -2.067678689956665, -2.6083433628082275, 0.25374072790145874, 7.945008277893066, -8.906697273254395, -9.912199020385742, -10.041441917419434, -1.1697351932525635, 1.4531261920928955, -6.746223449707031, -7.527967929840088, 0.8987448811531067, -8.501577377319336, -9.284278869628906, -7.357999324798584, 9.407058715820312, -9.5885591506958, -1.4480828046798706, 11.689987182617188, -8.140231132507324, 11.205362319946289, 9.564375877380371, 5.840620040893555, -10.683676719665527, -7.472512245178223, 1.5375666618347168, -1.7171491384506226, 10.397333145141602, -0.6353101134300232, 0.30891719460487366, 3.5553770065307617, 8.039970397949219, -10.506997108459473, 11.67521858215332, 10.836320877075195, -8.70434284210205, 13.142148971557617, -9.637493133544922, -7.51605224609375, -7.263624668121338, -2.498863458633423, 13.825451850891113, -8.137545585632324, 6.276596546173096, -0.7801293730735779, 3.2864320278167725, -13.678768157958984, -9.628973960876465, -8.499709129333496, 11.5675687789917, 8.146066665649414, -9.62273120880127, -11.466926574707031, -1.3390575647354126, 3.409808397293091, 6.4815497398376465, -8.387456893920898, -5.28529167175293, 1.9361164569854736, -8.23200511932373, -0.10857158899307251, -13.394506454467773, 10.45711898803711, 11.585001945495605, 4.56020975112915, -8.318316459655762, -9.942781448364258, 7.268729209899902, 2.418863534927368, -0.46473079919815063, 1.2069005966186523, 12.738288879394531, -11.432126998901367, 8.693111419677734, 2.1832032203674316, 8.183429718017578, 7.1635284423828125, 2.7411162853240967, -7.3564910888671875, 1.8345513343811035, -13.249687194824219, -10.251375198364258, 8.685809135437012, -7.710958003997803, 7.178699016571045, 1.4727098941802979, 4.044529438018799, 5.027268409729004, 6.481137275695801, -10.344353675842285, -9.672555923461914, 9.56719970703125, 4.937540054321289, -0.7622986435890198, 7.183367729187012, -8.350153923034668, -11.225846290588379, -0.9775828719139099, 8.135488510131836, -7.250148296356201, -1.3938424587249756, 1.4683324098587036, -9.677019119262695, 5.622646808624268, -6.84868049621582, -9.796504020690918, 6.684776306152344, 1.772985816001892, -9.227761268615723, -0.734620988368988, 4.8525495529174805, 6.9999799728393555, 12.529831886291504, 8.329629898071289, 8.174827575683594, -9.519962310791016, -9.840632438659668, 2.3648598194122314, 7.964244842529297, -12.691378593444824, 0.9077174067497253, -8.838723182678223, 2.656461715698242, 6.276354789733887, 2.168217658996582, 8.697880744934082, -7.621094703674316, -0.16912433505058289, -9.845083236694336, -7.241295337677002, -0.564534604549408, -6.899700164794922, 6.2298078536987305, 4.496702671051025, 15.6142578125, -5.75106954574585, 5.987123012542725, -8.660967826843262, 4.572323799133301, -0.37977415323257446, 7.278101921081543, -10.084115982055664, 12.063998222351074, 3.8267481327056885, -0.7816301584243774, 3.914191246032715, -6.877790451049805, -9.636185646057129, -8.27040958404541, -12.361797332763672, -7.205474376678467, 2.0495731830596924, 2.6229727268218994, 9.404378890991211, -9.483602523803711, 3.2863826751708984, -9.514439582824707, 0.7654957175254822, -7.530170917510986, -0.8011739253997803, -5.967533588409424, -7.654860496520996, -1.0417312383651733, -8.424217224121094, -8.30484390258789, 9.271476745605469, 1.9155654907226562, 1.1760783195495605, 6.414757251739502, 1.3410664796829224, 5.495027542114258, 1.426297903060913, -7.546204566955566, -7.433570861816406, 4.813100814819336, 13.07598876953125, -5.596830368041992, -12.200444221496582, 6.255720615386963, 4.529175758361816, 3.242094039916992, -13.589982986450195, 0.0036428978201001883, -10.944283485412598, -6.7830729484558105, 8.501075744628906, 8.690397262573242, 8.438416481018066, -11.937273979187012, 5.6713409423828125, -0.3414803445339203, -7.520539283752441, 6.751320838928223, -9.128191947937012, 11.702041625976562, -7.491121768951416, 3.4992868900299072, 6.471587181091309, -10.855172157287598, 0.9632464647293091, 6.59276819229126, -0.35476404428482056, 3.094801187515259, -6.204141139984131, -0.9329735636711121, -9.752534866333008, 11.963250160217285, 6.837887763977051, -7.593250274658203, 2.5021748542785645, -10.46634292602539, 8.660304069519043, -11.995050430297852, -1.4686050415039062, -10.755285263061523, -10.596750259399414, 6.941939353942871, 12.327412605285645, -7.75363826751709, -0.8628655076026917, 1.6576400995254517, 3.986013889312744, 1.5248830318450928, 7.660510063171387, 8.661225318908691, 0.09941964596509933, 1.3760250806808472, 2.806497812271118, 10.834718704223633, 4.927222728729248, -10.31357479095459, -11.841630935668945, -8.078380584716797, 8.723665237426758, 7.241098880767822, -13.248393058776855, -0.7366674542427063, 2.3377320766448975, -1.1149362325668335, -9.606865882873535, -9.814506530761719, -10.545950889587402, -7.37549352645874, 11.890765190124512, 9.927848815917969, -1.0049630403518677, -2.0300204753875732, 6.692129611968994, -0.3619387149810791, -11.320752143859863, -8.717971801757812, 13.437928199768066, -0.3047088086605072, 4.776518821716309, 3.455540418624878, 5.405994415283203, 8.003142356872559, -6.512354373931885, 5.908078670501709, -13.595431327819824, -12.088004112243652, -9.61361026763916, -0.04920349270105362, -8.051648139953613, 0.8967028856277466, -8.035721778869629, 3.8953630924224854, -6.688666820526123], \"z\": [3.740025520324707, 6.744065284729004, -5.958352565765381, -3.6281604766845703, -5.046669006347656, -5.04902458190918, 3.182464599609375, -8.075129508972168, 5.194558620452881, 6.677130222320557, -9.529465675354004, -0.09986362606287003, -2.1436421871185303, 0.21205055713653564, -5.212335586547852, -0.3736220598220825, -2.05617356300354, 1.8440608978271484, -5.651218414306641, -0.6790938973426819, -4.659724712371826, -0.9598077535629272, -8.444252967834473, 5.3037309646606445, -8.611496925354004, -2.0024631023406982, -1.2530369758605957, 3.7332217693328857, -0.9358159899711609, -7.439470291137695, 4.1074419021606445, 2.763225555419922, -2.207620859146118, -5.59932279586792, 10.031083106994629, -0.2661251127719879, 0.04531232640147209, 3.4057586193084717, -0.16164790093898773, -6.345703601837158, 3.062329053878784, -4.923233985900879, 5.289116859436035, -7.385192394256592, -5.794044494628906, 0.10045302659273148, -4.974327564239502, 5.364434719085693, -0.4223386347293854, 6.366242408752441, -5.255788803100586, -5.372766017913818, 8.789169311523438, -0.03310580551624298, -5.046227931976318, -3.3550808429718018, -6.673583984375, 12.16999340057373, -5.799041271209717, -4.841323375701904, 9.025097846984863, 6.946156024932861, -1.3779606819152832, -5.032884120941162, 7.366896629333496, -4.122219085693359, 0.2884613275527954, 2.798196792602539, -1.6162275075912476, -10.287199974060059, -6.936385154724121, -5.989678859710693, 0.2061874270439148, -4.69045877456665, -1.6391738653182983, 1.5227258205413818, -3.0130136013031006, -4.009561538696289, 0.014754746109247208, 1.1688138246536255, 1.8429515361785889, -0.23458980023860931, -5.932552814483643, 5.640875816345215, 5.173155784606934, 2.8451735973358154, 1.97555673122406, 5.286245822906494, -0.3780350089073181, -1.9235913753509521, 1.0029951333999634, -8.336797714233398, 6.5636210441589355, 1.5464811325073242, -0.2885603606700897, -2.572732448577881, 5.3541717529296875, 3.4125609397888184, 6.253654956817627, -3.92094349861145, -0.03715744614601135, 4.918158054351807, 3.230220317840576, 8.348227500915527, -2.7509140968322754, 4.5777153968811035, 1.3342983722686768, 6.881175518035889, -2.4045488834381104, -5.183841228485107, -3.1595473289489746, -2.242861270904541, -8.692347526550293, 2.5567450523376465, -3.8639769554138184, -1.5790053606033325, -0.750899076461792, 1.300977349281311, -4.158398151397705, 5.094268321990967, -1.3599743843078613, 0.07585996389389038, 5.226351737976074, 4.976078510284424, 4.87986421585083, 5.865429878234863, -1.314189076423645, -5.0072174072265625, 5.700455188751221, 5.4181294441223145, 10.10976505279541, 6.183961391448975, -4.755197525024414, 2.967268943786621, 4.790259838104248, 4.661699295043945, -6.26345157623291, -3.19366717338562, 6.500485420227051, 2.0636744499206543, -5.234024524688721, -1.9851174354553223, 9.273351669311523, -4.5057830810546875, 4.641541481018066, 3.5400631427764893, -9.252556800842285, 2.773989200592041, 5.986919403076172, 1.3570210933685303, -3.5226240158081055, 0.8966535329818726, 1.7011659145355225, 10.071913719177246, -0.2226688414812088, 4.672574996948242, 7.209467887878418, 5.235918045043945, 1.1752263307571411, -5.9592366218566895, 0.40544629096984863, 11.396117210388184, 2.5754127502441406, -0.19305793941020966, -5.91740608215332, 5.9070143699646, -4.365853786468506, -7.97762393951416, -6.298108100891113, 4.142759799957275, 1.4991470575332642, 2.3458945751190186, -8.805615425109863, -6.060088157653809, 6.664358139038086, 4.851625442504883, -6.364556312561035, -6.673823356628418, 5.278555393218994, -3.6651875972747803, 2.579007863998413, -11.508172988891602, 2.0628974437713623, -9.235498428344727, -8.676913261413574, 0.025261089205741882, -7.191038608551025, 9.685002326965332, 3.129857063293457, 0.7157366871833801, 3.5910398960113525, -3.672565221786499, -8.188109397888184, -5.010002613067627, -0.18408989906311035, 2.6277005672454834, 2.9265224933624268, 5.957197189331055, -0.3739798367023468, 4.870118618011475, 0.9403059482574463, 1.825449824333191, -1.2860318422317505, -5.173513412475586, -5.751274585723877, 2.2096493244171143, -0.1289258748292923, 0.8372953534126282, -11.139670372009277, 6.244782447814941, 6.905188083648682, -9.069794654846191, -4.773498058319092, -2.251561403274536, 0.11875364929437637, 1.2963513135910034, 6.454666614532471, -2.9869587421417236, -3.6999006271362305, 3.362321138381958, -5.521019458770752, 6.266851902008057, -4.672115802764893, -2.1237640380859375, 1.3777897357940674, -0.31309446692466736, 5.530327796936035, 4.2424187660217285, 4.7143683433532715, -11.415536880493164, 3.1133906841278076, 6.419914722442627, -4.176644325256348, -3.347700834274292, 6.946967124938965, 6.740039825439453, 9.243053436279297, 1.1192914247512817, -5.226033687591553, -7.825860977172852, 0.6528314352035522, 2.570425033569336, -8.056549072265625, 4.825531482696533, -8.472677230834961, 2.2249600887298584, 3.7197279930114746, 1.8084460496902466, 5.1560468673706055, -7.621588706970215, 11.651185989379883, 3.732027769088745, -6.006102561950684, 10.975078582763672, 4.302601337432861, 6.927377700805664, 4.197507858276367, 3.6820337772369385, -11.82378101348877, 4.830416202545166, -7.906146049499512, 9.829485893249512, -4.74483060836792, 3.359342098236084, 11.205554008483887, 4.996031284332275, -3.7806646823883057, 0.27535146474838257, -2.2782299518585205, 4.430455684661865, 6.053605556488037, 0.26165053248405457, 3.8594563007354736, -8.693532943725586, -5.74553918838501, 9.554676055908203, -2.3607356548309326, -3.4936165809631348, 6.757495880126953, 3.2471213340759277, 4.9998040199279785, -8.643831253051758, 4.579944610595703, 3.051811933517456, -4.0139031410217285, 7.05926513671875, 5.237115859985352, 6.059417724609375, 4.958437442779541, 0.7341644763946533, -3.0606400966644287, 7.84580659866333, 1.0216968059539795, 7.421357154846191, 5.401264190673828, -6.507574081420898, -8.91706657409668, 1.040614128112793, 2.0099918842315674, 2.8143625259399414, 2.7883996963500977, 2.7754807472229004, -6.045108318328857, -7.683565616607666, -9.093908309936523, 1.174290657043457, 4.280967712402344, 1.5989243984222412, 3.0915367603302, -9.100576400756836, -8.94034194946289, 1.813349723815918, -11.671791076660156, -8.114269256591797, 0.3299352824687958, 2.9452903270721436, 4.398468494415283, 3.9715073108673096, 0.7194358110427856, -0.809794008731842, 2.9858574867248535, 3.191880702972412, -5.1940507888793945, 1.2997443675994873, -2.4712107181549072, 0.6642158031463623, -3.336603879928589, -4.9706525802612305, -7.298976898193359, -8.431598663330078, -0.06855130195617676, -1.584160566329956, 9.67419147491455, 4.9532151222229, 5.182680130004883, -4.265261650085449, 6.199131488800049, 5.293877124786377, -6.860963344573975, -1.8790370225906372, 5.109546661376953, 4.173248767852783, -4.008159160614014, 10.263848304748535, -7.3629326820373535, -6.627762317657471, 2.368316650390625, 3.752164840698242, -5.036007404327393, -1.6417392492294312, 4.360999584197998, 4.509797096252441, 5.1847991943359375, 0.5069968104362488, 5.257104873657227, 4.690252304077148, 8.804478645324707, 5.972166538238525, -3.8740978240966797, -1.1871325969696045, 5.6595635414123535, 4.564372539520264, 6.232614040374756, 3.4347708225250244, -5.171316146850586, 2.5716373920440674, -5.247550964355469, 1.6670466661453247, 3.4197328090667725, 7.467513561248779, 3.7200145721435547, 0.5184663534164429, -2.776552438735962, -7.203415870666504, -5.118896484375, 3.929976463317871, -0.5419225096702576, -8.079940795898438, -0.5935854315757751, -1.1468826532363892, -6.394177436828613, 1.2017220258712769, -1.2877823114395142, 1.188317060470581, 6.08111047744751, 5.213056564331055, 0.6045395731925964, 1.1976178884506226, 5.266345024108887, -2.159165143966675, 5.4948954582214355, 5.130949974060059, 2.9861502647399902, 1.2958904504776, 6.509435176849365, 0.3419010043144226, 4.6233954429626465, -8.049997329711914, 0.7780685424804688, 3.9695022106170654, 5.10932731628418, 7.31300163269043, 1.61186945438385, 2.020247220993042, -8.670424461364746, 0.17684432864189148, -5.220527172088623, 0.6042630076408386, -6.169468402862549, 2.994018077850342, 6.344335556030273, -0.590438723564148, -4.030307292938232, 1.383259654045105, 8.35857105255127, 5.875959396362305, 5.289954662322998, 4.82354211807251, -4.698164939880371, -6.26806116104126, -2.4037744998931885, 2.401398181915283, 6.712261199951172, 4.453524589538574, -5.595436096191406, 4.13576078414917, 2.9947614669799805, -8.793045043945312, 1.1172816753387451, -3.2321014404296875, -1.3750606775283813, 0.7618525624275208, 5.924330711364746, -7.210050582885742, -6.441259384155273, 3.029171943664551, 3.8504433631896973, -3.8046822547912598, -1.9635331630706787, -5.0610785484313965, 4.402011871337891, 0.7809589505195618, -4.678730010986328, -1.8957515954971313, 0.02700885757803917, -7.3210039138793945, -6.462100505828857, 8.955461502075195, -8.075504302978516, -11.65692138671875, 6.510689735412598, -5.534595966339111, 4.372390270233154, 1.1773678064346313, -8.700567245483398, -1.0780996084213257, 6.6671881675720215, -6.716125965118408, -0.1515772044658661, -1.431249737739563, 6.541983604431152, -4.495415210723877, 5.590537071228027, 4.004178524017334, 5.249292850494385, 0.9419046640396118, -2.785715341567993, -6.749154567718506, 5.51320743560791, -6.259334564208984, -0.9549492001533508, 4.032261848449707, 1.254159927368164, 3.6418142318725586, 3.567566156387329, 0.442651629447937, 3.292163133621216, -8.641077041625977, 5.085530757904053, 5.2006330490112305, 4.001128673553467, 6.37291955947876, -9.046635627746582, -3.7322468757629395, -0.2860560119152069, -2.93056058883667, 2.0361552238464355, 1.2269260883331299, 4.632632732391357, -7.569602966308594, 1.7981985807418823, -7.351888656616211, -9.500818252563477, -5.885314464569092, -7.375732898712158, -9.478323936462402, 3.969790458679199, -6.698352813720703, 9.105246543884277, -1.6141064167022705, 6.4074177742004395, 3.853847026824951, -0.3615152835845947, 0.1240893304347992, 1.5542317628860474, -7.680990219116211, -0.41460734605789185, 4.820981502532959, 0.44388625025749207, -11.60285472869873, -3.0191776752471924, 5.137820243835449, 3.9796574115753174, -1.9689768552780151, 0.10589431971311569, 8.73598575592041, 11.49378776550293, -0.41852572560310364, 4.576496124267578, 4.281940937042236, -1.4891057014465332, -6.077486515045166, -9.42020320892334, -7.1552863121032715, -2.950124979019165, -1.3789080381393433, 1.9627244472503662, 2.7031185626983643, 6.297201156616211, 2.7834274768829346, 3.179905414581299, -4.548059940338135, -5.089285373687744, 3.977903127670288, -7.759220600128174, -9.216473579406738, 2.3802311420440674, -4.181784629821777, 4.781037330627441, 4.675623416900635, 2.916106939315796, -8.28779411315918, 6.571535587310791, 5.096767425537109, 3.7468326091766357, -4.120612621307373, 3.764525890350342, -6.952069282531738, -9.305866241455078, 4.3785080909729, 7.984673500061035, 2.90897536277771, -3.258052349090576, 1.12898588180542, 9.256889343261719, 2.4645328521728516, -5.6279683113098145, -0.5656794309616089, -3.908766746520996, 7.122690200805664, -1.7023590803146362, -3.907121419906616, 9.81442642211914, -10.193893432617188, 5.0415143966674805, 0.3572292625904083, 5.744554042816162, 3.859691858291626, -10.836588859558105, -9.80610179901123, 2.548633098602295, -8.564900398254395, -7.851169586181641, -1.5105990171432495, 4.187563896179199, -8.16003704071045, 4.777734756469727, 5.342099189758301, 3.15492844581604, -2.0672340393066406, -1.5423024892807007, -0.4034018814563751, -6.918724536895752, 4.289125919342041, 3.2977235317230225, -0.11174089461565018, 3.269456386566162, 2.9939961433410645, 1.0182567834854126, -5.016376495361328, 7.238527297973633, 3.074286460876465, 6.827319145202637, -8.22468376159668, 7.472169399261475, 9.52983283996582, -6.668434143066406, -4.942133903503418, -9.168251037597656, -2.394909620285034, -3.9997990131378174, 0.6705563068389893, -11.679272651672363, 1.7641029357910156, -9.628589630126953, 6.400896072387695, -5.820158958435059, -1.6448183059692383, 4.91562557220459, 3.0867252349853516, -9.928986549377441, -1.8526347875595093, -1.5726864337921143, 4.111084461212158, 4.856362819671631, 10.00680160522461, 2.124863624572754, -0.5295432209968567, 4.774922847747803, 3.124638557434082, 6.286837100982666, 8.635663032531738, 11.573498725891113, 4.575484275817871, -6.923789024353027, -6.7601213455200195, 0.32133856415748596, -3.248659610748291, 0.3029283881187439, 3.565436601638794, 9.416359901428223, 5.517770290374756, -0.3552136719226837, -5.987200736999512, -1.8697869777679443, 4.708056926727295, -2.157931089401245, 6.537208080291748, -9.06067943572998, 8.00163745880127, -6.002453327178955, 6.152698993682861, 2.6209805011749268, -1.3316850662231445, -1.3559188842773438, 2.595517158508301, -6.440138339996338, 4.239579200744629, -6.8976335525512695, 3.7301721572875977, 5.553037643432617, 5.4215779304504395, 1.2870734930038452, -4.118687152862549, 4.899092197418213, 0.9708859324455261, -4.5886406898498535, 3.2644221782684326, 0.6599419116973877, -4.888123512268066, -6.957826614379883, 8.666450500488281, 5.387013912200928, 3.197591781616211, -7.842848300933838, 9.340178489685059, -3.445492744445801, 2.633523941040039, 6.190491199493408, 4.550294399261475, 2.2820303440093994, 4.679625034332275, 11.510004043579102, 6.863490104675293, -6.830494403839111, 7.3401198387146, 4.847415447235107, -7.688141345977783, -7.459174633026123, 3.0884182453155518, -6.905355930328369, 4.602984428405762, 5.1571550369262695, -8.666699409484863, 9.244423866271973, 4.310155868530273, 3.00850510597229, 3.3240396976470947, -8.85512638092041, -7.838644981384277, -6.188442230224609, -9.363882064819336, -4.147521495819092, 2.1669225692749023, -7.81581449508667, -4.896512031555176, -0.5701271891593933, -0.3920072019100189, 0.5408803820610046, -7.452310085296631, 0.9317005276679993, 11.174276351928711, 0.18728134036064148, -0.907193124294281, 4.274593830108643, -2.288257598876953, -7.866526126861572, 0.14310485124588013, 6.168108940124512, -7.823904514312744, -5.243364334106445, 5.248048782348633, 3.442692995071411, -2.0866353511810303, -1.5267972946166992, -7.331496238708496, -5.047446250915527, 0.03457102179527283, -1.703783631324768, 2.800008773803711, -5.670159816741943, -1.9042789936065674, 1.0263688564300537, -5.365022659301758, 9.122567176818848, -2.2203238010406494, -11.726469039916992, -4.420589923858643, -4.070711135864258, -6.365131378173828, 6.719318866729736, -2.0693228244781494, 6.981145858764648, 6.418920516967773, 6.072655200958252, -9.37176513671875, -1.7904372215270996, 1.6495057344436646, 0.9303379654884338, -9.967340469360352, 1.8191816806793213, 1.7061283588409424, 2.4950807094573975, -10.926275253295898, 0.6032212972640991, 0.8260318636894226, -1.853853464126587, -7.827230453491211, -6.738574981689453, -6.592761993408203, 6.123908519744873, -3.161647319793701, -0.4064147472381592, -0.16728582978248596, 4.128108501434326, -6.179699897766113, 1.2120698690414429, 9.562250137329102, -1.883987307548523, 4.8364973068237305, -8.707584381103516, 11.707192420959473, 2.0028326511383057, 3.366032123565674, 2.844924211502075, 1.1350829601287842, 0.14441178739070892, -2.9266278743743896, 3.712693214416504, -2.8958075046539307, 1.4494019746780396, 4.684086322784424, 5.619490146636963, 3.3719263076782227, 1.4262967109680176, 2.459355592727661, 0.4837147891521454, 1.7526683807373047, -0.3290010690689087, 1.8239887952804565, -0.022751672193408012, 0.47345247864723206, 2.5771799087524414, -3.0460498332977295, 1.8768131732940674, -7.6310200691223145, 8.783716201782227, -6.933919906616211, -0.6185706853866577, -0.4453663229942322, -9.100725173950195, 2.0846829414367676, -11.15877914428711, 0.7825443148612976, -0.19985023140907288, 1.930752158164978, 4.147380352020264, -7.662923812866211, -0.2911027669906616, 2.04791259765625, -0.17115330696105957, 1.2349276542663574, 5.499835014343262, 6.008660316467285, -7.1687726974487305, 5.411205291748047, 8.794506072998047, 3.190709352493286, -5.574023246765137, 3.617560863494873, -4.465037822723389, -10.504290580749512, 0.17093145847320557, -2.287179470062256, 2.507891893386841, -8.1197509765625, 3.917463779449463, -7.420100688934326, -6.614740371704102, -6.2096147537231445, -10.244771003723145, -8.520195960998535, 0.911090075969696, 2.6240627765655518, 3.684351682662964, 3.9160361289978027, -5.812931537628174, 0.0007670785998925567, 1.8790833950042725, -4.0234599113464355, 2.128669023513794, -0.6381741166114807, -1.847650408744812, -9.592296600341797, -6.813945770263672, -9.155858993530273, -1.6467615365982056, -4.062808036804199, -10.767599105834961, 8.632814407348633, -0.4354279935359955, 8.42591381072998, -5.6029953956604, 7.348383903503418, 3.9717562198638916, -6.918238639831543, 2.5284423828125, -0.47584179043769836, -2.8843677043914795, 4.7182297706604, -5.593892574310303, -1.67190420627594, 9.708634376525879, -0.8433072566986084, 5.918440341949463, 4.47519063949585, 2.310229539871216, -5.099388122558594, -0.35688814520835876, -11.20329761505127, -0.36382532119750977, 0.4393865168094635, 7.684780120849609, -2.062232732772827, 4.091341495513916, -3.494060754776001, 1.1540123224258423, -0.3472957909107208, -9.169363021850586, -1.7277241945266724, -11.519930839538574, 7.55067253112793, 2.0900492668151855, -2.7470223903656006, -0.80253005027771, 2.777523994445801, 7.138161659240723, 0.10603819787502289, 3.4076883792877197, -6.405490398406982, -2.903688907623291, 3.531034231185913, 4.774470806121826, -4.471512794494629, -8.230473518371582, -8.29426383972168, 1.7224490642547607, 1.681514024734497, 3.4055910110473633, -8.333287239074707, -4.620514392852783, -8.717479705810547, -6.491600513458252, 4.847165584564209, -9.749757766723633, -0.045335717499256134, 3.953232765197754, 4.430319786071777, 6.343828201293945, 4.614326477050781, 6.009563446044922, 9.661226272583008, 3.275360345840454, -6.747883319854736, -2.6149251461029053, -5.4706220626831055, -8.647416114807129, 2.6339447498321533, -6.74722146987915, -1.7548303604125977, 6.899081707000732, 2.757629156112671, 6.7134904861450195, -1.4820654392242432, -10.364486694335938, -3.0467419624328613, 4.414881229400635, 5.055484294891357, -5.8697614669799805, -8.937886238098145, -1.224035382270813, -4.772481441497803, 5.633606433868408, 2.879622220993042, 4.007884979248047, -3.736765146255493, 1.206002950668335, 4.185997486114502, 2.14172101020813, 4.745364189147949, -2.8243212699890137, 7.401524066925049, 1.5777990818023682, -6.901660442352295, -7.650849342346191, -3.859515428543091, 4.9175896644592285, -5.778307914733887, 5.191188812255859, -10.036224365234375, -5.160822868347168, 9.836535453796387, 0.34365177154541016, -6.071545124053955, 1.1556396484375, -9.31396198272705, 1.7584041357040405, 2.6371185779571533, 6.328937530517578, 1.5262624025344849, 5.519131660461426, 1.0003464221954346, -7.624361038208008, -4.569947719573975, 1.0227915048599243, 5.255684852600098, -8.002471923828125, -6.265993595123291, -9.65595531463623, 0.16556400060653687, 1.2448869943618774, 2.41635799407959, -7.185666084289551, 0.08072053641080856, 3.304974317550659, 5.193315505981445, 7.047231674194336, 1.095625400543213, -8.784638404846191, 9.313806533813477, -3.4399373531341553, -1.6524417400360107, 5.545860290527344, -2.946662187576294, 2.502401828765869, 4.8965911865234375, 4.807172775268555, -2.378565788269043, 7.038599967956543, -7.370058059692383, -9.534476280212402, -0.26958709955215454, 1.4280890226364136, 0.7732810974121094, -2.688173770904541, 7.700541973114014, -0.14259907603263855, -9.618898391723633, -9.000824928283691, -2.4629452228546143, -5.936013698577881, 0.484042227268219, 2.9836771488189697, -5.677873611450195, -8.663408279418945, 4.264495372772217, 4.7096052169799805, -0.2721080183982849, -7.58102560043335, -1.8382794857025146]}],\n",
       "                        {\"coloraxis\": {\"colorbar\": {\"title\": {\"text\": \"Label\"}}, \"colorscale\": [[0.0, \"#0d0887\"], [0.1111111111111111, \"#46039f\"], [0.2222222222222222, \"#7201a8\"], [0.3333333333333333, \"#9c179e\"], [0.4444444444444444, \"#bd3786\"], [0.5555555555555556, \"#d8576b\"], [0.6666666666666666, \"#ed7953\"], [0.7777777777777778, \"#fb9f3a\"], [0.8888888888888888, \"#fdca26\"], [1.0, \"#f0f921\"]]}, \"height\": 800, \"legend\": {\"tracegroupgap\": 0}, \"scene\": {\"domain\": {\"x\": [0.0, 1.0], \"y\": [0.0, 1.0]}, \"xaxis\": {\"title\": {\"text\": \"0\"}}, \"yaxis\": {\"title\": {\"text\": \"1\"}}, \"zaxis\": {\"title\": {\"text\": \"2\"}}}, \"template\": {\"data\": {\"bar\": [{\"error_x\": {\"color\": \"#2a3f5f\"}, \"error_y\": {\"color\": \"#2a3f5f\"}, \"marker\": {\"line\": {\"color\": \"#E5ECF6\", \"width\": 0.5}}, \"type\": \"bar\"}], \"barpolar\": [{\"marker\": {\"line\": {\"color\": \"#E5ECF6\", \"width\": 0.5}}, \"type\": \"barpolar\"}], \"carpet\": [{\"aaxis\": {\"endlinecolor\": \"#2a3f5f\", \"gridcolor\": \"white\", \"linecolor\": \"white\", \"minorgridcolor\": \"white\", \"startlinecolor\": \"#2a3f5f\"}, \"baxis\": {\"endlinecolor\": \"#2a3f5f\", \"gridcolor\": \"white\", \"linecolor\": \"white\", \"minorgridcolor\": \"white\", \"startlinecolor\": \"#2a3f5f\"}, \"type\": \"carpet\"}], \"choropleth\": [{\"colorbar\": {\"outlinewidth\": 0, \"ticks\": \"\"}, \"type\": \"choropleth\"}], \"contour\": [{\"colorbar\": {\"outlinewidth\": 0, \"ticks\": \"\"}, \"colorscale\": [[0.0, \"#0d0887\"], [0.1111111111111111, \"#46039f\"], [0.2222222222222222, \"#7201a8\"], [0.3333333333333333, \"#9c179e\"], [0.4444444444444444, \"#bd3786\"], [0.5555555555555556, \"#d8576b\"], [0.6666666666666666, \"#ed7953\"], [0.7777777777777778, \"#fb9f3a\"], [0.8888888888888888, \"#fdca26\"], [1.0, \"#f0f921\"]], \"type\": \"contour\"}], \"contourcarpet\": [{\"colorbar\": {\"outlinewidth\": 0, \"ticks\": \"\"}, \"type\": \"contourcarpet\"}], \"heatmap\": [{\"colorbar\": {\"outlinewidth\": 0, \"ticks\": \"\"}, \"colorscale\": [[0.0, \"#0d0887\"], [0.1111111111111111, \"#46039f\"], [0.2222222222222222, \"#7201a8\"], [0.3333333333333333, \"#9c179e\"], [0.4444444444444444, \"#bd3786\"], [0.5555555555555556, \"#d8576b\"], [0.6666666666666666, \"#ed7953\"], [0.7777777777777778, \"#fb9f3a\"], [0.8888888888888888, \"#fdca26\"], [1.0, \"#f0f921\"]], \"type\": \"heatmap\"}], \"heatmapgl\": [{\"colorbar\": {\"outlinewidth\": 0, \"ticks\": \"\"}, \"colorscale\": [[0.0, \"#0d0887\"], [0.1111111111111111, \"#46039f\"], [0.2222222222222222, \"#7201a8\"], [0.3333333333333333, \"#9c179e\"], [0.4444444444444444, \"#bd3786\"], [0.5555555555555556, \"#d8576b\"], [0.6666666666666666, \"#ed7953\"], [0.7777777777777778, \"#fb9f3a\"], [0.8888888888888888, \"#fdca26\"], [1.0, \"#f0f921\"]], \"type\": \"heatmapgl\"}], \"histogram\": [{\"marker\": {\"colorbar\": {\"outlinewidth\": 0, \"ticks\": \"\"}}, \"type\": \"histogram\"}], \"histogram2d\": [{\"colorbar\": {\"outlinewidth\": 0, \"ticks\": \"\"}, \"colorscale\": [[0.0, \"#0d0887\"], [0.1111111111111111, \"#46039f\"], [0.2222222222222222, \"#7201a8\"], [0.3333333333333333, \"#9c179e\"], [0.4444444444444444, \"#bd3786\"], [0.5555555555555556, \"#d8576b\"], [0.6666666666666666, \"#ed7953\"], [0.7777777777777778, \"#fb9f3a\"], [0.8888888888888888, \"#fdca26\"], [1.0, \"#f0f921\"]], \"type\": \"histogram2d\"}], \"histogram2dcontour\": [{\"colorbar\": {\"outlinewidth\": 0, \"ticks\": \"\"}, \"colorscale\": [[0.0, \"#0d0887\"], [0.1111111111111111, \"#46039f\"], [0.2222222222222222, \"#7201a8\"], [0.3333333333333333, \"#9c179e\"], [0.4444444444444444, \"#bd3786\"], [0.5555555555555556, \"#d8576b\"], [0.6666666666666666, \"#ed7953\"], [0.7777777777777778, \"#fb9f3a\"], [0.8888888888888888, \"#fdca26\"], [1.0, \"#f0f921\"]], \"type\": \"histogram2dcontour\"}], \"mesh3d\": [{\"colorbar\": {\"outlinewidth\": 0, \"ticks\": \"\"}, \"type\": \"mesh3d\"}], \"parcoords\": [{\"line\": {\"colorbar\": {\"outlinewidth\": 0, \"ticks\": \"\"}}, \"type\": \"parcoords\"}], \"pie\": [{\"automargin\": true, \"type\": \"pie\"}], \"scatter\": [{\"marker\": {\"colorbar\": {\"outlinewidth\": 0, \"ticks\": \"\"}}, \"type\": \"scatter\"}], \"scatter3d\": [{\"line\": {\"colorbar\": {\"outlinewidth\": 0, \"ticks\": \"\"}}, \"marker\": {\"colorbar\": {\"outlinewidth\": 0, \"ticks\": \"\"}}, \"type\": \"scatter3d\"}], \"scattercarpet\": [{\"marker\": {\"colorbar\": {\"outlinewidth\": 0, \"ticks\": \"\"}}, \"type\": \"scattercarpet\"}], \"scattergeo\": [{\"marker\": {\"colorbar\": {\"outlinewidth\": 0, \"ticks\": \"\"}}, \"type\": \"scattergeo\"}], \"scattergl\": [{\"marker\": {\"colorbar\": {\"outlinewidth\": 0, \"ticks\": \"\"}}, \"type\": \"scattergl\"}], \"scattermapbox\": [{\"marker\": {\"colorbar\": {\"outlinewidth\": 0, \"ticks\": \"\"}}, \"type\": \"scattermapbox\"}], \"scatterpolar\": [{\"marker\": {\"colorbar\": {\"outlinewidth\": 0, \"ticks\": \"\"}}, \"type\": \"scatterpolar\"}], \"scatterpolargl\": [{\"marker\": {\"colorbar\": {\"outlinewidth\": 0, \"ticks\": \"\"}}, \"type\": \"scatterpolargl\"}], \"scatterternary\": [{\"marker\": {\"colorbar\": {\"outlinewidth\": 0, \"ticks\": \"\"}}, \"type\": \"scatterternary\"}], \"surface\": [{\"colorbar\": {\"outlinewidth\": 0, \"ticks\": \"\"}, \"colorscale\": [[0.0, \"#0d0887\"], [0.1111111111111111, \"#46039f\"], [0.2222222222222222, \"#7201a8\"], [0.3333333333333333, \"#9c179e\"], [0.4444444444444444, \"#bd3786\"], [0.5555555555555556, \"#d8576b\"], [0.6666666666666666, \"#ed7953\"], [0.7777777777777778, \"#fb9f3a\"], [0.8888888888888888, \"#fdca26\"], [1.0, \"#f0f921\"]], \"type\": \"surface\"}], \"table\": [{\"cells\": {\"fill\": {\"color\": \"#EBF0F8\"}, \"line\": {\"color\": \"white\"}}, \"header\": {\"fill\": {\"color\": \"#C8D4E3\"}, \"line\": {\"color\": \"white\"}}, \"type\": \"table\"}]}, \"layout\": {\"annotationdefaults\": {\"arrowcolor\": \"#2a3f5f\", \"arrowhead\": 0, \"arrowwidth\": 1}, \"coloraxis\": {\"colorbar\": {\"outlinewidth\": 0, \"ticks\": \"\"}}, \"colorscale\": {\"diverging\": [[0, \"#8e0152\"], [0.1, \"#c51b7d\"], [0.2, \"#de77ae\"], [0.3, \"#f1b6da\"], [0.4, \"#fde0ef\"], [0.5, \"#f7f7f7\"], [0.6, \"#e6f5d0\"], [0.7, \"#b8e186\"], [0.8, \"#7fbc41\"], [0.9, \"#4d9221\"], [1, \"#276419\"]], \"sequential\": [[0.0, \"#0d0887\"], [0.1111111111111111, \"#46039f\"], [0.2222222222222222, \"#7201a8\"], [0.3333333333333333, \"#9c179e\"], [0.4444444444444444, \"#bd3786\"], [0.5555555555555556, \"#d8576b\"], [0.6666666666666666, \"#ed7953\"], [0.7777777777777778, \"#fb9f3a\"], [0.8888888888888888, \"#fdca26\"], [1.0, \"#f0f921\"]], \"sequentialminus\": [[0.0, \"#0d0887\"], [0.1111111111111111, \"#46039f\"], [0.2222222222222222, \"#7201a8\"], [0.3333333333333333, \"#9c179e\"], [0.4444444444444444, \"#bd3786\"], [0.5555555555555556, \"#d8576b\"], [0.6666666666666666, \"#ed7953\"], [0.7777777777777778, \"#fb9f3a\"], [0.8888888888888888, \"#fdca26\"], [1.0, \"#f0f921\"]]}, \"colorway\": [\"#636efa\", \"#EF553B\", \"#00cc96\", \"#ab63fa\", \"#FFA15A\", \"#19d3f3\", \"#FF6692\", \"#B6E880\", \"#FF97FF\", \"#FECB52\"], \"font\": {\"color\": \"#2a3f5f\"}, \"geo\": {\"bgcolor\": \"white\", \"lakecolor\": \"white\", \"landcolor\": \"#E5ECF6\", \"showlakes\": true, \"showland\": true, \"subunitcolor\": \"white\"}, \"hoverlabel\": {\"align\": \"left\"}, \"hovermode\": \"closest\", \"mapbox\": {\"style\": \"light\"}, \"paper_bgcolor\": \"white\", \"plot_bgcolor\": \"#E5ECF6\", \"polar\": {\"angularaxis\": {\"gridcolor\": \"white\", \"linecolor\": \"white\", \"ticks\": \"\"}, \"bgcolor\": \"#E5ECF6\", \"radialaxis\": {\"gridcolor\": \"white\", \"linecolor\": \"white\", \"ticks\": \"\"}}, \"scene\": {\"xaxis\": {\"backgroundcolor\": \"#E5ECF6\", \"gridcolor\": \"white\", \"gridwidth\": 2, \"linecolor\": \"white\", \"showbackground\": true, \"ticks\": \"\", \"zerolinecolor\": \"white\"}, \"yaxis\": {\"backgroundcolor\": \"#E5ECF6\", \"gridcolor\": \"white\", \"gridwidth\": 2, \"linecolor\": \"white\", \"showbackground\": true, \"ticks\": \"\", \"zerolinecolor\": \"white\"}, \"zaxis\": {\"backgroundcolor\": \"#E5ECF6\", \"gridcolor\": \"white\", \"gridwidth\": 2, \"linecolor\": \"white\", \"showbackground\": true, \"ticks\": \"\", \"zerolinecolor\": \"white\"}}, \"shapedefaults\": {\"line\": {\"color\": \"#2a3f5f\"}}, \"ternary\": {\"aaxis\": {\"gridcolor\": \"white\", \"linecolor\": \"white\", \"ticks\": \"\"}, \"baxis\": {\"gridcolor\": \"white\", \"linecolor\": \"white\", \"ticks\": \"\"}, \"bgcolor\": \"#E5ECF6\", \"caxis\": {\"gridcolor\": \"white\", \"linecolor\": \"white\", \"ticks\": \"\"}}, \"title\": {\"x\": 0.05}, \"xaxis\": {\"automargin\": true, \"gridcolor\": \"white\", \"linecolor\": \"white\", \"ticks\": \"\", \"title\": {\"standoff\": 15}, \"zerolinecolor\": \"white\", \"zerolinewidth\": 2}, \"yaxis\": {\"automargin\": true, \"gridcolor\": \"white\", \"linecolor\": \"white\", \"ticks\": \"\", \"title\": {\"standoff\": 15}, \"zerolinecolor\": \"white\", \"zerolinewidth\": 2}}}, \"title\": {\"text\": \"3d TSNE Plot for Outliers\"}, \"width\": 900},\n",
       "                        {\"responsive\": true}\n",
       "                    ).then(function(){\n",
       "                            \n",
       "var gd = document.getElementById('ff7ebc90-57dc-405c-97d1-a5d0e0a53cd5');\n",
       "var x = new MutationObserver(function (mutations, observer) {{\n",
       "        var display = window.getComputedStyle(gd).display;\n",
       "        if (!display || display === 'none') {{\n",
       "            console.log([gd, 'removed!']);\n",
       "            Plotly.purge(gd);\n",
       "            observer.disconnect();\n",
       "        }}\n",
       "}});\n",
       "\n",
       "// Listen for the removal of the full notebook cells\n",
       "var notebookContainer = gd.closest('#notebook-container');\n",
       "if (notebookContainer) {{\n",
       "    x.observe(notebookContainer, {childList: true});\n",
       "}}\n",
       "\n",
       "// Listen for the clearing of the current output cell\n",
       "var outputEl = gd.closest('.output');\n",
       "if (outputEl) {{\n",
       "    x.observe(outputEl, {childList: true});\n",
       "}}\n",
       "\n",
       "                        })\n",
       "                };\n",
       "                });\n",
       "            </script>\n",
       "        </div>"
      ]
     },
     "metadata": {},
     "output_type": "display_data"
    }
   ],
   "source": [
    "# plot a model\n",
    "plot_model(knn)"
   ]
  },
  {
   "cell_type": "code",
   "execution_count": 31,
   "metadata": {},
   "outputs": [
    {
     "data": {
      "text/html": [
       "<div>\n",
       "<style scoped>\n",
       "    .dataframe tbody tr th:only-of-type {\n",
       "        vertical-align: middle;\n",
       "    }\n",
       "\n",
       "    .dataframe tbody tr th {\n",
       "        vertical-align: top;\n",
       "    }\n",
       "\n",
       "    .dataframe thead th {\n",
       "        text-align: right;\n",
       "    }\n",
       "</style>\n",
       "<table border=\"1\" class=\"dataframe\">\n",
       "  <thead>\n",
       "    <tr style=\"text-align: right;\">\n",
       "      <th></th>\n",
       "      <th>Col1</th>\n",
       "      <th>Col2</th>\n",
       "      <th>Col3</th>\n",
       "      <th>Col4</th>\n",
       "      <th>Col5</th>\n",
       "      <th>Col6</th>\n",
       "      <th>Col7</th>\n",
       "      <th>Col8</th>\n",
       "      <th>Col9</th>\n",
       "      <th>Col10</th>\n",
       "      <th>Label</th>\n",
       "      <th>Score</th>\n",
       "    </tr>\n",
       "  </thead>\n",
       "  <tbody>\n",
       "    <tr>\n",
       "      <th>0</th>\n",
       "      <td>0.263995</td>\n",
       "      <td>0.764929</td>\n",
       "      <td>0.138424</td>\n",
       "      <td>0.935242</td>\n",
       "      <td>0.605867</td>\n",
       "      <td>0.518790</td>\n",
       "      <td>0.912225</td>\n",
       "      <td>0.608234</td>\n",
       "      <td>0.723782</td>\n",
       "      <td>0.733591</td>\n",
       "      <td>0</td>\n",
       "      <td>0.558927</td>\n",
       "    </tr>\n",
       "    <tr>\n",
       "      <th>1</th>\n",
       "      <td>0.546092</td>\n",
       "      <td>0.653975</td>\n",
       "      <td>0.065575</td>\n",
       "      <td>0.227772</td>\n",
       "      <td>0.845269</td>\n",
       "      <td>0.837066</td>\n",
       "      <td>0.272379</td>\n",
       "      <td>0.331679</td>\n",
       "      <td>0.429297</td>\n",
       "      <td>0.367422</td>\n",
       "      <td>0</td>\n",
       "      <td>0.477482</td>\n",
       "    </tr>\n",
       "    <tr>\n",
       "      <th>2</th>\n",
       "      <td>0.336714</td>\n",
       "      <td>0.538842</td>\n",
       "      <td>0.192801</td>\n",
       "      <td>0.553563</td>\n",
       "      <td>0.074515</td>\n",
       "      <td>0.332993</td>\n",
       "      <td>0.365792</td>\n",
       "      <td>0.861309</td>\n",
       "      <td>0.899017</td>\n",
       "      <td>0.088600</td>\n",
       "      <td>0</td>\n",
       "      <td>0.676207</td>\n",
       "    </tr>\n",
       "    <tr>\n",
       "      <th>3</th>\n",
       "      <td>0.092108</td>\n",
       "      <td>0.995017</td>\n",
       "      <td>0.014465</td>\n",
       "      <td>0.176371</td>\n",
       "      <td>0.241530</td>\n",
       "      <td>0.514724</td>\n",
       "      <td>0.562208</td>\n",
       "      <td>0.158963</td>\n",
       "      <td>0.073715</td>\n",
       "      <td>0.208463</td>\n",
       "      <td>1</td>\n",
       "      <td>0.804769</td>\n",
       "    </tr>\n",
       "    <tr>\n",
       "      <th>4</th>\n",
       "      <td>0.325261</td>\n",
       "      <td>0.805968</td>\n",
       "      <td>0.957033</td>\n",
       "      <td>0.331665</td>\n",
       "      <td>0.307923</td>\n",
       "      <td>0.355315</td>\n",
       "      <td>0.501899</td>\n",
       "      <td>0.558449</td>\n",
       "      <td>0.885169</td>\n",
       "      <td>0.182754</td>\n",
       "      <td>0</td>\n",
       "      <td>0.630836</td>\n",
       "    </tr>\n",
       "    <tr>\n",
       "      <th>5</th>\n",
       "      <td>0.212465</td>\n",
       "      <td>0.780305</td>\n",
       "      <td>0.458444</td>\n",
       "      <td>0.634509</td>\n",
       "      <td>0.373030</td>\n",
       "      <td>0.465651</td>\n",
       "      <td>0.413997</td>\n",
       "      <td>0.013080</td>\n",
       "      <td>0.570250</td>\n",
       "      <td>0.736672</td>\n",
       "      <td>0</td>\n",
       "      <td>0.649876</td>\n",
       "    </tr>\n",
       "    <tr>\n",
       "      <th>6</th>\n",
       "      <td>0.258566</td>\n",
       "      <td>0.437318</td>\n",
       "      <td>0.559648</td>\n",
       "      <td>0.109203</td>\n",
       "      <td>0.994553</td>\n",
       "      <td>0.896994</td>\n",
       "      <td>0.488469</td>\n",
       "      <td>0.251943</td>\n",
       "      <td>0.017265</td>\n",
       "      <td>0.538513</td>\n",
       "      <td>0</td>\n",
       "      <td>0.529720</td>\n",
       "    </tr>\n",
       "    <tr>\n",
       "      <th>7</th>\n",
       "      <td>0.869237</td>\n",
       "      <td>0.277979</td>\n",
       "      <td>0.423076</td>\n",
       "      <td>0.112472</td>\n",
       "      <td>0.183727</td>\n",
       "      <td>0.034960</td>\n",
       "      <td>0.111114</td>\n",
       "      <td>0.249330</td>\n",
       "      <td>0.550683</td>\n",
       "      <td>0.049843</td>\n",
       "      <td>0</td>\n",
       "      <td>0.631262</td>\n",
       "    </tr>\n",
       "    <tr>\n",
       "      <th>8</th>\n",
       "      <td>0.197078</td>\n",
       "      <td>0.843918</td>\n",
       "      <td>0.243396</td>\n",
       "      <td>0.281278</td>\n",
       "      <td>0.329148</td>\n",
       "      <td>0.734582</td>\n",
       "      <td>0.191947</td>\n",
       "      <td>0.927804</td>\n",
       "      <td>0.713269</td>\n",
       "      <td>0.891548</td>\n",
       "      <td>1</td>\n",
       "      <td>0.844047</td>\n",
       "    </tr>\n",
       "    <tr>\n",
       "      <th>9</th>\n",
       "      <td>0.292985</td>\n",
       "      <td>0.703432</td>\n",
       "      <td>0.439621</td>\n",
       "      <td>0.107868</td>\n",
       "      <td>0.922947</td>\n",
       "      <td>0.253458</td>\n",
       "      <td>0.295652</td>\n",
       "      <td>0.355287</td>\n",
       "      <td>0.980911</td>\n",
       "      <td>0.308864</td>\n",
       "      <td>1</td>\n",
       "      <td>0.732952</td>\n",
       "    </tr>\n",
       "    <tr>\n",
       "      <th>10</th>\n",
       "      <td>0.821783</td>\n",
       "      <td>0.087778</td>\n",
       "      <td>0.439292</td>\n",
       "      <td>0.521600</td>\n",
       "      <td>0.437606</td>\n",
       "      <td>0.172574</td>\n",
       "      <td>0.117117</td>\n",
       "      <td>0.594212</td>\n",
       "      <td>0.456008</td>\n",
       "      <td>0.441427</td>\n",
       "      <td>0</td>\n",
       "      <td>0.650325</td>\n",
       "    </tr>\n",
       "    <tr>\n",
       "      <th>11</th>\n",
       "      <td>0.796623</td>\n",
       "      <td>0.230543</td>\n",
       "      <td>0.993018</td>\n",
       "      <td>0.077075</td>\n",
       "      <td>0.094068</td>\n",
       "      <td>0.718628</td>\n",
       "      <td>0.977611</td>\n",
       "      <td>0.333386</td>\n",
       "      <td>0.634843</td>\n",
       "      <td>0.028729</td>\n",
       "      <td>1</td>\n",
       "      <td>0.830877</td>\n",
       "    </tr>\n",
       "    <tr>\n",
       "      <th>12</th>\n",
       "      <td>0.045577</td>\n",
       "      <td>0.335215</td>\n",
       "      <td>0.657812</td>\n",
       "      <td>0.723783</td>\n",
       "      <td>0.352304</td>\n",
       "      <td>0.069137</td>\n",
       "      <td>0.355386</td>\n",
       "      <td>0.448042</td>\n",
       "      <td>0.426716</td>\n",
       "      <td>0.894023</td>\n",
       "      <td>0</td>\n",
       "      <td>0.571509</td>\n",
       "    </tr>\n",
       "    <tr>\n",
       "      <th>13</th>\n",
       "      <td>0.613660</td>\n",
       "      <td>0.709061</td>\n",
       "      <td>0.726767</td>\n",
       "      <td>0.862584</td>\n",
       "      <td>0.593116</td>\n",
       "      <td>0.474138</td>\n",
       "      <td>0.941633</td>\n",
       "      <td>0.788438</td>\n",
       "      <td>0.323293</td>\n",
       "      <td>0.931074</td>\n",
       "      <td>1</td>\n",
       "      <td>0.681433</td>\n",
       "    </tr>\n",
       "    <tr>\n",
       "      <th>14</th>\n",
       "      <td>0.950745</td>\n",
       "      <td>0.005154</td>\n",
       "      <td>0.084187</td>\n",
       "      <td>0.478148</td>\n",
       "      <td>0.212836</td>\n",
       "      <td>0.714347</td>\n",
       "      <td>0.664819</td>\n",
       "      <td>0.803558</td>\n",
       "      <td>0.465466</td>\n",
       "      <td>0.305692</td>\n",
       "      <td>1</td>\n",
       "      <td>0.821167</td>\n",
       "    </tr>\n",
       "    <tr>\n",
       "      <th>15</th>\n",
       "      <td>0.336346</td>\n",
       "      <td>0.252265</td>\n",
       "      <td>0.212287</td>\n",
       "      <td>0.020201</td>\n",
       "      <td>0.203514</td>\n",
       "      <td>0.534468</td>\n",
       "      <td>0.476263</td>\n",
       "      <td>0.845669</td>\n",
       "      <td>0.155377</td>\n",
       "      <td>0.442781</td>\n",
       "      <td>1</td>\n",
       "      <td>0.718586</td>\n",
       "    </tr>\n",
       "    <tr>\n",
       "      <th>16</th>\n",
       "      <td>0.034441</td>\n",
       "      <td>0.193546</td>\n",
       "      <td>0.758742</td>\n",
       "      <td>0.921457</td>\n",
       "      <td>0.461482</td>\n",
       "      <td>0.052933</td>\n",
       "      <td>0.411735</td>\n",
       "      <td>0.301823</td>\n",
       "      <td>0.387138</td>\n",
       "      <td>0.571518</td>\n",
       "      <td>0</td>\n",
       "      <td>0.592295</td>\n",
       "    </tr>\n",
       "    <tr>\n",
       "      <th>17</th>\n",
       "      <td>0.741544</td>\n",
       "      <td>0.398253</td>\n",
       "      <td>0.766472</td>\n",
       "      <td>0.635670</td>\n",
       "      <td>0.261735</td>\n",
       "      <td>0.837371</td>\n",
       "      <td>0.001797</td>\n",
       "      <td>0.568841</td>\n",
       "      <td>0.037360</td>\n",
       "      <td>0.292769</td>\n",
       "      <td>1</td>\n",
       "      <td>0.791093</td>\n",
       "    </tr>\n",
       "    <tr>\n",
       "      <th>18</th>\n",
       "      <td>0.184433</td>\n",
       "      <td>0.174112</td>\n",
       "      <td>0.301976</td>\n",
       "      <td>0.895893</td>\n",
       "      <td>0.285614</td>\n",
       "      <td>0.615993</td>\n",
       "      <td>0.197073</td>\n",
       "      <td>0.738881</td>\n",
       "      <td>0.831371</td>\n",
       "      <td>0.265761</td>\n",
       "      <td>1</td>\n",
       "      <td>0.775046</td>\n",
       "    </tr>\n",
       "    <tr>\n",
       "      <th>19</th>\n",
       "      <td>0.664515</td>\n",
       "      <td>0.703410</td>\n",
       "      <td>0.330706</td>\n",
       "      <td>0.233882</td>\n",
       "      <td>0.160896</td>\n",
       "      <td>0.373187</td>\n",
       "      <td>0.758885</td>\n",
       "      <td>0.127118</td>\n",
       "      <td>0.312419</td>\n",
       "      <td>0.162028</td>\n",
       "      <td>0</td>\n",
       "      <td>0.661534</td>\n",
       "    </tr>\n",
       "    <tr>\n",
       "      <th>20</th>\n",
       "      <td>0.162825</td>\n",
       "      <td>0.674069</td>\n",
       "      <td>0.705447</td>\n",
       "      <td>0.774799</td>\n",
       "      <td>0.894267</td>\n",
       "      <td>0.443057</td>\n",
       "      <td>0.399779</td>\n",
       "      <td>0.009136</td>\n",
       "      <td>0.941851</td>\n",
       "      <td>0.982711</td>\n",
       "      <td>1</td>\n",
       "      <td>0.856567</td>\n",
       "    </tr>\n",
       "    <tr>\n",
       "      <th>21</th>\n",
       "      <td>0.729838</td>\n",
       "      <td>0.439146</td>\n",
       "      <td>0.131570</td>\n",
       "      <td>0.942077</td>\n",
       "      <td>0.797975</td>\n",
       "      <td>0.364697</td>\n",
       "      <td>0.799540</td>\n",
       "      <td>0.585000</td>\n",
       "      <td>0.488889</td>\n",
       "      <td>0.313987</td>\n",
       "      <td>0</td>\n",
       "      <td>0.426446</td>\n",
       "    </tr>\n",
       "    <tr>\n",
       "      <th>22</th>\n",
       "      <td>0.628374</td>\n",
       "      <td>0.746294</td>\n",
       "      <td>0.829249</td>\n",
       "      <td>0.724112</td>\n",
       "      <td>0.302080</td>\n",
       "      <td>0.526148</td>\n",
       "      <td>0.854241</td>\n",
       "      <td>0.596767</td>\n",
       "      <td>0.757508</td>\n",
       "      <td>0.674008</td>\n",
       "      <td>0</td>\n",
       "      <td>0.606218</td>\n",
       "    </tr>\n",
       "    <tr>\n",
       "      <th>23</th>\n",
       "      <td>0.057884</td>\n",
       "      <td>0.227162</td>\n",
       "      <td>0.022494</td>\n",
       "      <td>0.167069</td>\n",
       "      <td>0.631315</td>\n",
       "      <td>0.610103</td>\n",
       "      <td>0.277753</td>\n",
       "      <td>0.728503</td>\n",
       "      <td>0.716414</td>\n",
       "      <td>0.973370</td>\n",
       "      <td>1</td>\n",
       "      <td>0.771412</td>\n",
       "    </tr>\n",
       "    <tr>\n",
       "      <th>24</th>\n",
       "      <td>0.445535</td>\n",
       "      <td>0.640881</td>\n",
       "      <td>0.689264</td>\n",
       "      <td>0.937542</td>\n",
       "      <td>0.037016</td>\n",
       "      <td>0.316847</td>\n",
       "      <td>0.972312</td>\n",
       "      <td>0.224585</td>\n",
       "      <td>0.393000</td>\n",
       "      <td>0.857239</td>\n",
       "      <td>1</td>\n",
       "      <td>0.736651</td>\n",
       "    </tr>\n",
       "    <tr>\n",
       "      <th>25</th>\n",
       "      <td>0.801837</td>\n",
       "      <td>0.272857</td>\n",
       "      <td>0.109206</td>\n",
       "      <td>0.922978</td>\n",
       "      <td>0.656014</td>\n",
       "      <td>0.376589</td>\n",
       "      <td>0.735547</td>\n",
       "      <td>0.302567</td>\n",
       "      <td>0.988732</td>\n",
       "      <td>0.847391</td>\n",
       "      <td>1</td>\n",
       "      <td>0.762585</td>\n",
       "    </tr>\n",
       "    <tr>\n",
       "      <th>26</th>\n",
       "      <td>0.277096</td>\n",
       "      <td>0.376903</td>\n",
       "      <td>0.400168</td>\n",
       "      <td>0.327737</td>\n",
       "      <td>0.182600</td>\n",
       "      <td>0.280189</td>\n",
       "      <td>0.630646</td>\n",
       "      <td>0.210329</td>\n",
       "      <td>0.553328</td>\n",
       "      <td>0.080611</td>\n",
       "      <td>0</td>\n",
       "      <td>0.562677</td>\n",
       "    </tr>\n",
       "    <tr>\n",
       "      <th>27</th>\n",
       "      <td>0.228634</td>\n",
       "      <td>0.894235</td>\n",
       "      <td>0.507206</td>\n",
       "      <td>0.380223</td>\n",
       "      <td>0.836156</td>\n",
       "      <td>0.645174</td>\n",
       "      <td>0.516243</td>\n",
       "      <td>0.638386</td>\n",
       "      <td>0.102725</td>\n",
       "      <td>0.620343</td>\n",
       "      <td>0</td>\n",
       "      <td>0.482792</td>\n",
       "    </tr>\n",
       "    <tr>\n",
       "      <th>28</th>\n",
       "      <td>0.834861</td>\n",
       "      <td>0.973891</td>\n",
       "      <td>0.808398</td>\n",
       "      <td>0.222828</td>\n",
       "      <td>0.018934</td>\n",
       "      <td>0.708188</td>\n",
       "      <td>0.986392</td>\n",
       "      <td>0.545479</td>\n",
       "      <td>0.235898</td>\n",
       "      <td>0.844788</td>\n",
       "      <td>1</td>\n",
       "      <td>0.883633</td>\n",
       "    </tr>\n",
       "    <tr>\n",
       "      <th>29</th>\n",
       "      <td>0.669767</td>\n",
       "      <td>0.694779</td>\n",
       "      <td>0.191048</td>\n",
       "      <td>0.080716</td>\n",
       "      <td>0.441480</td>\n",
       "      <td>0.115675</td>\n",
       "      <td>0.054466</td>\n",
       "      <td>0.949300</td>\n",
       "      <td>0.318667</td>\n",
       "      <td>0.410017</td>\n",
       "      <td>1</td>\n",
       "      <td>0.811543</td>\n",
       "    </tr>\n",
       "    <tr>\n",
       "      <th>...</th>\n",
       "      <td>...</td>\n",
       "      <td>...</td>\n",
       "      <td>...</td>\n",
       "      <td>...</td>\n",
       "      <td>...</td>\n",
       "      <td>...</td>\n",
       "      <td>...</td>\n",
       "      <td>...</td>\n",
       "      <td>...</td>\n",
       "      <td>...</td>\n",
       "      <td>...</td>\n",
       "      <td>...</td>\n",
       "    </tr>\n",
       "    <tr>\n",
       "      <th>970</th>\n",
       "      <td>0.294840</td>\n",
       "      <td>0.585069</td>\n",
       "      <td>0.807763</td>\n",
       "      <td>0.161450</td>\n",
       "      <td>0.211258</td>\n",
       "      <td>0.093839</td>\n",
       "      <td>0.571983</td>\n",
       "      <td>0.580850</td>\n",
       "      <td>0.393022</td>\n",
       "      <td>0.656014</td>\n",
       "      <td>0</td>\n",
       "      <td>0.326997</td>\n",
       "    </tr>\n",
       "    <tr>\n",
       "      <th>971</th>\n",
       "      <td>0.705692</td>\n",
       "      <td>0.112177</td>\n",
       "      <td>0.663997</td>\n",
       "      <td>0.139862</td>\n",
       "      <td>0.920007</td>\n",
       "      <td>0.906847</td>\n",
       "      <td>0.750630</td>\n",
       "      <td>0.634295</td>\n",
       "      <td>0.647978</td>\n",
       "      <td>0.436654</td>\n",
       "      <td>0</td>\n",
       "      <td>0.451194</td>\n",
       "    </tr>\n",
       "    <tr>\n",
       "      <th>972</th>\n",
       "      <td>0.211918</td>\n",
       "      <td>0.856126</td>\n",
       "      <td>0.070427</td>\n",
       "      <td>0.583225</td>\n",
       "      <td>0.907497</td>\n",
       "      <td>0.889385</td>\n",
       "      <td>0.801044</td>\n",
       "      <td>0.648346</td>\n",
       "      <td>0.699338</td>\n",
       "      <td>0.394943</td>\n",
       "      <td>0</td>\n",
       "      <td>0.385959</td>\n",
       "    </tr>\n",
       "    <tr>\n",
       "      <th>973</th>\n",
       "      <td>0.063201</td>\n",
       "      <td>0.400726</td>\n",
       "      <td>0.903851</td>\n",
       "      <td>0.406240</td>\n",
       "      <td>0.225658</td>\n",
       "      <td>0.106074</td>\n",
       "      <td>0.903802</td>\n",
       "      <td>0.548935</td>\n",
       "      <td>0.891103</td>\n",
       "      <td>0.136162</td>\n",
       "      <td>0</td>\n",
       "      <td>0.397502</td>\n",
       "    </tr>\n",
       "    <tr>\n",
       "      <th>974</th>\n",
       "      <td>0.276700</td>\n",
       "      <td>0.581179</td>\n",
       "      <td>0.571278</td>\n",
       "      <td>0.072169</td>\n",
       "      <td>0.896689</td>\n",
       "      <td>0.952245</td>\n",
       "      <td>0.901554</td>\n",
       "      <td>0.689246</td>\n",
       "      <td>0.792970</td>\n",
       "      <td>0.329273</td>\n",
       "      <td>0</td>\n",
       "      <td>0.358107</td>\n",
       "    </tr>\n",
       "    <tr>\n",
       "      <th>975</th>\n",
       "      <td>0.672459</td>\n",
       "      <td>0.511892</td>\n",
       "      <td>0.435040</td>\n",
       "      <td>0.226821</td>\n",
       "      <td>0.806597</td>\n",
       "      <td>0.930941</td>\n",
       "      <td>0.191688</td>\n",
       "      <td>0.080500</td>\n",
       "      <td>0.349206</td>\n",
       "      <td>0.359001</td>\n",
       "      <td>0</td>\n",
       "      <td>0.395143</td>\n",
       "    </tr>\n",
       "    <tr>\n",
       "      <th>976</th>\n",
       "      <td>0.808206</td>\n",
       "      <td>0.841389</td>\n",
       "      <td>0.633951</td>\n",
       "      <td>0.503123</td>\n",
       "      <td>0.804177</td>\n",
       "      <td>0.860932</td>\n",
       "      <td>0.226067</td>\n",
       "      <td>0.270119</td>\n",
       "      <td>0.261800</td>\n",
       "      <td>0.574867</td>\n",
       "      <td>0</td>\n",
       "      <td>0.388760</td>\n",
       "    </tr>\n",
       "    <tr>\n",
       "      <th>977</th>\n",
       "      <td>0.296538</td>\n",
       "      <td>0.369732</td>\n",
       "      <td>0.590277</td>\n",
       "      <td>0.112758</td>\n",
       "      <td>0.195718</td>\n",
       "      <td>0.165550</td>\n",
       "      <td>0.567765</td>\n",
       "      <td>0.516389</td>\n",
       "      <td>0.408517</td>\n",
       "      <td>0.623059</td>\n",
       "      <td>0</td>\n",
       "      <td>0.335941</td>\n",
       "    </tr>\n",
       "    <tr>\n",
       "      <th>978</th>\n",
       "      <td>0.160127</td>\n",
       "      <td>0.800406</td>\n",
       "      <td>0.398444</td>\n",
       "      <td>0.863478</td>\n",
       "      <td>0.837672</td>\n",
       "      <td>0.899558</td>\n",
       "      <td>0.436551</td>\n",
       "      <td>0.673531</td>\n",
       "      <td>0.302354</td>\n",
       "      <td>0.771630</td>\n",
       "      <td>0</td>\n",
       "      <td>0.362464</td>\n",
       "    </tr>\n",
       "    <tr>\n",
       "      <th>979</th>\n",
       "      <td>0.439385</td>\n",
       "      <td>0.713612</td>\n",
       "      <td>0.306097</td>\n",
       "      <td>0.865955</td>\n",
       "      <td>0.230262</td>\n",
       "      <td>0.140354</td>\n",
       "      <td>0.175919</td>\n",
       "      <td>0.237217</td>\n",
       "      <td>0.223580</td>\n",
       "      <td>0.590675</td>\n",
       "      <td>0</td>\n",
       "      <td>0.363511</td>\n",
       "    </tr>\n",
       "    <tr>\n",
       "      <th>980</th>\n",
       "      <td>0.555951</td>\n",
       "      <td>0.283735</td>\n",
       "      <td>0.153922</td>\n",
       "      <td>0.813109</td>\n",
       "      <td>0.151434</td>\n",
       "      <td>0.183059</td>\n",
       "      <td>0.558736</td>\n",
       "      <td>0.663170</td>\n",
       "      <td>0.364227</td>\n",
       "      <td>0.707085</td>\n",
       "      <td>0</td>\n",
       "      <td>0.380738</td>\n",
       "    </tr>\n",
       "    <tr>\n",
       "      <th>981</th>\n",
       "      <td>0.386240</td>\n",
       "      <td>0.242926</td>\n",
       "      <td>0.178859</td>\n",
       "      <td>0.872446</td>\n",
       "      <td>0.809220</td>\n",
       "      <td>0.537070</td>\n",
       "      <td>0.956310</td>\n",
       "      <td>0.599172</td>\n",
       "      <td>0.920387</td>\n",
       "      <td>0.141029</td>\n",
       "      <td>0</td>\n",
       "      <td>0.383441</td>\n",
       "    </tr>\n",
       "    <tr>\n",
       "      <th>982</th>\n",
       "      <td>0.158690</td>\n",
       "      <td>0.237275</td>\n",
       "      <td>0.682426</td>\n",
       "      <td>0.366958</td>\n",
       "      <td>0.785488</td>\n",
       "      <td>0.555084</td>\n",
       "      <td>0.896773</td>\n",
       "      <td>0.731747</td>\n",
       "      <td>0.758292</td>\n",
       "      <td>0.392710</td>\n",
       "      <td>0</td>\n",
       "      <td>0.371781</td>\n",
       "    </tr>\n",
       "    <tr>\n",
       "      <th>983</th>\n",
       "      <td>0.214500</td>\n",
       "      <td>0.499864</td>\n",
       "      <td>0.812871</td>\n",
       "      <td>0.307910</td>\n",
       "      <td>0.937555</td>\n",
       "      <td>0.604461</td>\n",
       "      <td>0.235869</td>\n",
       "      <td>0.266443</td>\n",
       "      <td>0.276143</td>\n",
       "      <td>0.558061</td>\n",
       "      <td>0</td>\n",
       "      <td>0.371419</td>\n",
       "    </tr>\n",
       "    <tr>\n",
       "      <th>984</th>\n",
       "      <td>0.299579</td>\n",
       "      <td>0.384525</td>\n",
       "      <td>0.592180</td>\n",
       "      <td>0.067107</td>\n",
       "      <td>0.150639</td>\n",
       "      <td>0.106180</td>\n",
       "      <td>0.493598</td>\n",
       "      <td>0.680112</td>\n",
       "      <td>0.328136</td>\n",
       "      <td>0.747692</td>\n",
       "      <td>0</td>\n",
       "      <td>0.343812</td>\n",
       "    </tr>\n",
       "    <tr>\n",
       "      <th>985</th>\n",
       "      <td>0.569162</td>\n",
       "      <td>0.084294</td>\n",
       "      <td>0.639347</td>\n",
       "      <td>0.542296</td>\n",
       "      <td>0.901477</td>\n",
       "      <td>0.940967</td>\n",
       "      <td>0.255409</td>\n",
       "      <td>0.695081</td>\n",
       "      <td>0.208943</td>\n",
       "      <td>0.870679</td>\n",
       "      <td>0</td>\n",
       "      <td>0.424302</td>\n",
       "    </tr>\n",
       "    <tr>\n",
       "      <th>986</th>\n",
       "      <td>0.488615</td>\n",
       "      <td>0.024616</td>\n",
       "      <td>0.601601</td>\n",
       "      <td>0.639884</td>\n",
       "      <td>0.806708</td>\n",
       "      <td>0.487639</td>\n",
       "      <td>0.349057</td>\n",
       "      <td>0.544117</td>\n",
       "      <td>0.295269</td>\n",
       "      <td>0.743577</td>\n",
       "      <td>0</td>\n",
       "      <td>0.293222</td>\n",
       "    </tr>\n",
       "    <tr>\n",
       "      <th>987</th>\n",
       "      <td>0.878295</td>\n",
       "      <td>0.748962</td>\n",
       "      <td>0.568487</td>\n",
       "      <td>0.745517</td>\n",
       "      <td>0.139195</td>\n",
       "      <td>0.102361</td>\n",
       "      <td>0.205971</td>\n",
       "      <td>0.094097</td>\n",
       "      <td>0.357218</td>\n",
       "      <td>0.360233</td>\n",
       "      <td>0</td>\n",
       "      <td>0.384034</td>\n",
       "    </tr>\n",
       "    <tr>\n",
       "      <th>988</th>\n",
       "      <td>0.649381</td>\n",
       "      <td>0.336001</td>\n",
       "      <td>0.261147</td>\n",
       "      <td>0.810581</td>\n",
       "      <td>0.296225</td>\n",
       "      <td>0.085464</td>\n",
       "      <td>0.231399</td>\n",
       "      <td>0.175404</td>\n",
       "      <td>0.332651</td>\n",
       "      <td>0.439911</td>\n",
       "      <td>0</td>\n",
       "      <td>0.371849</td>\n",
       "    </tr>\n",
       "    <tr>\n",
       "      <th>989</th>\n",
       "      <td>0.465713</td>\n",
       "      <td>0.305747</td>\n",
       "      <td>0.865416</td>\n",
       "      <td>0.229325</td>\n",
       "      <td>0.162482</td>\n",
       "      <td>0.121197</td>\n",
       "      <td>0.804117</td>\n",
       "      <td>0.624310</td>\n",
       "      <td>0.719397</td>\n",
       "      <td>0.358621</td>\n",
       "      <td>0</td>\n",
       "      <td>0.311007</td>\n",
       "    </tr>\n",
       "    <tr>\n",
       "      <th>990</th>\n",
       "      <td>0.168138</td>\n",
       "      <td>0.792278</td>\n",
       "      <td>0.394959</td>\n",
       "      <td>0.619092</td>\n",
       "      <td>0.163022</td>\n",
       "      <td>0.094084</td>\n",
       "      <td>0.215489</td>\n",
       "      <td>0.231208</td>\n",
       "      <td>0.275478</td>\n",
       "      <td>0.534818</td>\n",
       "      <td>0</td>\n",
       "      <td>0.338234</td>\n",
       "    </tr>\n",
       "    <tr>\n",
       "      <th>991</th>\n",
       "      <td>0.875295</td>\n",
       "      <td>0.782866</td>\n",
       "      <td>0.793565</td>\n",
       "      <td>0.208893</td>\n",
       "      <td>0.775079</td>\n",
       "      <td>0.519371</td>\n",
       "      <td>0.872406</td>\n",
       "      <td>0.538987</td>\n",
       "      <td>0.859932</td>\n",
       "      <td>0.160512</td>\n",
       "      <td>0</td>\n",
       "      <td>0.276000</td>\n",
       "    </tr>\n",
       "    <tr>\n",
       "      <th>992</th>\n",
       "      <td>0.841132</td>\n",
       "      <td>0.155188</td>\n",
       "      <td>0.592404</td>\n",
       "      <td>0.190720</td>\n",
       "      <td>0.863543</td>\n",
       "      <td>0.445444</td>\n",
       "      <td>0.880586</td>\n",
       "      <td>0.678148</td>\n",
       "      <td>0.775182</td>\n",
       "      <td>0.339491</td>\n",
       "      <td>0</td>\n",
       "      <td>0.351700</td>\n",
       "    </tr>\n",
       "    <tr>\n",
       "      <th>993</th>\n",
       "      <td>0.332921</td>\n",
       "      <td>0.301362</td>\n",
       "      <td>0.251237</td>\n",
       "      <td>0.851209</td>\n",
       "      <td>0.151266</td>\n",
       "      <td>0.189643</td>\n",
       "      <td>0.804999</td>\n",
       "      <td>0.677735</td>\n",
       "      <td>0.684131</td>\n",
       "      <td>0.430055</td>\n",
       "      <td>0</td>\n",
       "      <td>0.367968</td>\n",
       "    </tr>\n",
       "    <tr>\n",
       "      <th>994</th>\n",
       "      <td>0.513048</td>\n",
       "      <td>0.262604</td>\n",
       "      <td>0.081283</td>\n",
       "      <td>0.439154</td>\n",
       "      <td>0.151183</td>\n",
       "      <td>0.065230</td>\n",
       "      <td>0.387066</td>\n",
       "      <td>0.470679</td>\n",
       "      <td>0.333616</td>\n",
       "      <td>0.685385</td>\n",
       "      <td>0</td>\n",
       "      <td>0.404295</td>\n",
       "    </tr>\n",
       "    <tr>\n",
       "      <th>995</th>\n",
       "      <td>0.305055</td>\n",
       "      <td>0.656837</td>\n",
       "      <td>0.331665</td>\n",
       "      <td>0.822525</td>\n",
       "      <td>0.907127</td>\n",
       "      <td>0.882276</td>\n",
       "      <td>0.855732</td>\n",
       "      <td>0.584786</td>\n",
       "      <td>0.808640</td>\n",
       "      <td>0.242762</td>\n",
       "      <td>0</td>\n",
       "      <td>0.266822</td>\n",
       "    </tr>\n",
       "    <tr>\n",
       "      <th>996</th>\n",
       "      <td>0.812627</td>\n",
       "      <td>0.864258</td>\n",
       "      <td>0.616604</td>\n",
       "      <td>0.167966</td>\n",
       "      <td>0.811223</td>\n",
       "      <td>0.938071</td>\n",
       "      <td>0.418462</td>\n",
       "      <td>0.472306</td>\n",
       "      <td>0.348347</td>\n",
       "      <td>0.671129</td>\n",
       "      <td>0</td>\n",
       "      <td>0.403480</td>\n",
       "    </tr>\n",
       "    <tr>\n",
       "      <th>997</th>\n",
       "      <td>0.250967</td>\n",
       "      <td>0.138627</td>\n",
       "      <td>0.919703</td>\n",
       "      <td>0.461234</td>\n",
       "      <td>0.886555</td>\n",
       "      <td>0.869888</td>\n",
       "      <td>0.800908</td>\n",
       "      <td>0.530324</td>\n",
       "      <td>0.779433</td>\n",
       "      <td>0.234952</td>\n",
       "      <td>0</td>\n",
       "      <td>0.337727</td>\n",
       "    </tr>\n",
       "    <tr>\n",
       "      <th>998</th>\n",
       "      <td>0.502436</td>\n",
       "      <td>0.936820</td>\n",
       "      <td>0.580062</td>\n",
       "      <td>0.540773</td>\n",
       "      <td>0.151995</td>\n",
       "      <td>0.059452</td>\n",
       "      <td>0.225220</td>\n",
       "      <td>0.242755</td>\n",
       "      <td>0.279385</td>\n",
       "      <td>0.538755</td>\n",
       "      <td>0</td>\n",
       "      <td>0.300265</td>\n",
       "    </tr>\n",
       "    <tr>\n",
       "      <th>999</th>\n",
       "      <td>0.457991</td>\n",
       "      <td>0.017755</td>\n",
       "      <td>0.714113</td>\n",
       "      <td>0.125992</td>\n",
       "      <td>0.063316</td>\n",
       "      <td>0.154739</td>\n",
       "      <td>0.922974</td>\n",
       "      <td>0.692299</td>\n",
       "      <td>0.816777</td>\n",
       "      <td>0.307592</td>\n",
       "      <td>0</td>\n",
       "      <td>0.367867</td>\n",
       "    </tr>\n",
       "  </tbody>\n",
       "</table>\n",
       "<p>1000 rows × 12 columns</p>\n",
       "</div>"
      ],
      "text/plain": [
       "         Col1      Col2      Col3      Col4      Col5      Col6      Col7  \\\n",
       "0    0.263995  0.764929  0.138424  0.935242  0.605867  0.518790  0.912225   \n",
       "1    0.546092  0.653975  0.065575  0.227772  0.845269  0.837066  0.272379   \n",
       "2    0.336714  0.538842  0.192801  0.553563  0.074515  0.332993  0.365792   \n",
       "3    0.092108  0.995017  0.014465  0.176371  0.241530  0.514724  0.562208   \n",
       "4    0.325261  0.805968  0.957033  0.331665  0.307923  0.355315  0.501899   \n",
       "5    0.212465  0.780305  0.458444  0.634509  0.373030  0.465651  0.413997   \n",
       "6    0.258566  0.437318  0.559648  0.109203  0.994553  0.896994  0.488469   \n",
       "7    0.869237  0.277979  0.423076  0.112472  0.183727  0.034960  0.111114   \n",
       "8    0.197078  0.843918  0.243396  0.281278  0.329148  0.734582  0.191947   \n",
       "9    0.292985  0.703432  0.439621  0.107868  0.922947  0.253458  0.295652   \n",
       "10   0.821783  0.087778  0.439292  0.521600  0.437606  0.172574  0.117117   \n",
       "11   0.796623  0.230543  0.993018  0.077075  0.094068  0.718628  0.977611   \n",
       "12   0.045577  0.335215  0.657812  0.723783  0.352304  0.069137  0.355386   \n",
       "13   0.613660  0.709061  0.726767  0.862584  0.593116  0.474138  0.941633   \n",
       "14   0.950745  0.005154  0.084187  0.478148  0.212836  0.714347  0.664819   \n",
       "15   0.336346  0.252265  0.212287  0.020201  0.203514  0.534468  0.476263   \n",
       "16   0.034441  0.193546  0.758742  0.921457  0.461482  0.052933  0.411735   \n",
       "17   0.741544  0.398253  0.766472  0.635670  0.261735  0.837371  0.001797   \n",
       "18   0.184433  0.174112  0.301976  0.895893  0.285614  0.615993  0.197073   \n",
       "19   0.664515  0.703410  0.330706  0.233882  0.160896  0.373187  0.758885   \n",
       "20   0.162825  0.674069  0.705447  0.774799  0.894267  0.443057  0.399779   \n",
       "21   0.729838  0.439146  0.131570  0.942077  0.797975  0.364697  0.799540   \n",
       "22   0.628374  0.746294  0.829249  0.724112  0.302080  0.526148  0.854241   \n",
       "23   0.057884  0.227162  0.022494  0.167069  0.631315  0.610103  0.277753   \n",
       "24   0.445535  0.640881  0.689264  0.937542  0.037016  0.316847  0.972312   \n",
       "25   0.801837  0.272857  0.109206  0.922978  0.656014  0.376589  0.735547   \n",
       "26   0.277096  0.376903  0.400168  0.327737  0.182600  0.280189  0.630646   \n",
       "27   0.228634  0.894235  0.507206  0.380223  0.836156  0.645174  0.516243   \n",
       "28   0.834861  0.973891  0.808398  0.222828  0.018934  0.708188  0.986392   \n",
       "29   0.669767  0.694779  0.191048  0.080716  0.441480  0.115675  0.054466   \n",
       "..        ...       ...       ...       ...       ...       ...       ...   \n",
       "970  0.294840  0.585069  0.807763  0.161450  0.211258  0.093839  0.571983   \n",
       "971  0.705692  0.112177  0.663997  0.139862  0.920007  0.906847  0.750630   \n",
       "972  0.211918  0.856126  0.070427  0.583225  0.907497  0.889385  0.801044   \n",
       "973  0.063201  0.400726  0.903851  0.406240  0.225658  0.106074  0.903802   \n",
       "974  0.276700  0.581179  0.571278  0.072169  0.896689  0.952245  0.901554   \n",
       "975  0.672459  0.511892  0.435040  0.226821  0.806597  0.930941  0.191688   \n",
       "976  0.808206  0.841389  0.633951  0.503123  0.804177  0.860932  0.226067   \n",
       "977  0.296538  0.369732  0.590277  0.112758  0.195718  0.165550  0.567765   \n",
       "978  0.160127  0.800406  0.398444  0.863478  0.837672  0.899558  0.436551   \n",
       "979  0.439385  0.713612  0.306097  0.865955  0.230262  0.140354  0.175919   \n",
       "980  0.555951  0.283735  0.153922  0.813109  0.151434  0.183059  0.558736   \n",
       "981  0.386240  0.242926  0.178859  0.872446  0.809220  0.537070  0.956310   \n",
       "982  0.158690  0.237275  0.682426  0.366958  0.785488  0.555084  0.896773   \n",
       "983  0.214500  0.499864  0.812871  0.307910  0.937555  0.604461  0.235869   \n",
       "984  0.299579  0.384525  0.592180  0.067107  0.150639  0.106180  0.493598   \n",
       "985  0.569162  0.084294  0.639347  0.542296  0.901477  0.940967  0.255409   \n",
       "986  0.488615  0.024616  0.601601  0.639884  0.806708  0.487639  0.349057   \n",
       "987  0.878295  0.748962  0.568487  0.745517  0.139195  0.102361  0.205971   \n",
       "988  0.649381  0.336001  0.261147  0.810581  0.296225  0.085464  0.231399   \n",
       "989  0.465713  0.305747  0.865416  0.229325  0.162482  0.121197  0.804117   \n",
       "990  0.168138  0.792278  0.394959  0.619092  0.163022  0.094084  0.215489   \n",
       "991  0.875295  0.782866  0.793565  0.208893  0.775079  0.519371  0.872406   \n",
       "992  0.841132  0.155188  0.592404  0.190720  0.863543  0.445444  0.880586   \n",
       "993  0.332921  0.301362  0.251237  0.851209  0.151266  0.189643  0.804999   \n",
       "994  0.513048  0.262604  0.081283  0.439154  0.151183  0.065230  0.387066   \n",
       "995  0.305055  0.656837  0.331665  0.822525  0.907127  0.882276  0.855732   \n",
       "996  0.812627  0.864258  0.616604  0.167966  0.811223  0.938071  0.418462   \n",
       "997  0.250967  0.138627  0.919703  0.461234  0.886555  0.869888  0.800908   \n",
       "998  0.502436  0.936820  0.580062  0.540773  0.151995  0.059452  0.225220   \n",
       "999  0.457991  0.017755  0.714113  0.125992  0.063316  0.154739  0.922974   \n",
       "\n",
       "         Col8      Col9     Col10  Label     Score  \n",
       "0    0.608234  0.723782  0.733591      0  0.558927  \n",
       "1    0.331679  0.429297  0.367422      0  0.477482  \n",
       "2    0.861309  0.899017  0.088600      0  0.676207  \n",
       "3    0.158963  0.073715  0.208463      1  0.804769  \n",
       "4    0.558449  0.885169  0.182754      0  0.630836  \n",
       "5    0.013080  0.570250  0.736672      0  0.649876  \n",
       "6    0.251943  0.017265  0.538513      0  0.529720  \n",
       "7    0.249330  0.550683  0.049843      0  0.631262  \n",
       "8    0.927804  0.713269  0.891548      1  0.844047  \n",
       "9    0.355287  0.980911  0.308864      1  0.732952  \n",
       "10   0.594212  0.456008  0.441427      0  0.650325  \n",
       "11   0.333386  0.634843  0.028729      1  0.830877  \n",
       "12   0.448042  0.426716  0.894023      0  0.571509  \n",
       "13   0.788438  0.323293  0.931074      1  0.681433  \n",
       "14   0.803558  0.465466  0.305692      1  0.821167  \n",
       "15   0.845669  0.155377  0.442781      1  0.718586  \n",
       "16   0.301823  0.387138  0.571518      0  0.592295  \n",
       "17   0.568841  0.037360  0.292769      1  0.791093  \n",
       "18   0.738881  0.831371  0.265761      1  0.775046  \n",
       "19   0.127118  0.312419  0.162028      0  0.661534  \n",
       "20   0.009136  0.941851  0.982711      1  0.856567  \n",
       "21   0.585000  0.488889  0.313987      0  0.426446  \n",
       "22   0.596767  0.757508  0.674008      0  0.606218  \n",
       "23   0.728503  0.716414  0.973370      1  0.771412  \n",
       "24   0.224585  0.393000  0.857239      1  0.736651  \n",
       "25   0.302567  0.988732  0.847391      1  0.762585  \n",
       "26   0.210329  0.553328  0.080611      0  0.562677  \n",
       "27   0.638386  0.102725  0.620343      0  0.482792  \n",
       "28   0.545479  0.235898  0.844788      1  0.883633  \n",
       "29   0.949300  0.318667  0.410017      1  0.811543  \n",
       "..        ...       ...       ...    ...       ...  \n",
       "970  0.580850  0.393022  0.656014      0  0.326997  \n",
       "971  0.634295  0.647978  0.436654      0  0.451194  \n",
       "972  0.648346  0.699338  0.394943      0  0.385959  \n",
       "973  0.548935  0.891103  0.136162      0  0.397502  \n",
       "974  0.689246  0.792970  0.329273      0  0.358107  \n",
       "975  0.080500  0.349206  0.359001      0  0.395143  \n",
       "976  0.270119  0.261800  0.574867      0  0.388760  \n",
       "977  0.516389  0.408517  0.623059      0  0.335941  \n",
       "978  0.673531  0.302354  0.771630      0  0.362464  \n",
       "979  0.237217  0.223580  0.590675      0  0.363511  \n",
       "980  0.663170  0.364227  0.707085      0  0.380738  \n",
       "981  0.599172  0.920387  0.141029      0  0.383441  \n",
       "982  0.731747  0.758292  0.392710      0  0.371781  \n",
       "983  0.266443  0.276143  0.558061      0  0.371419  \n",
       "984  0.680112  0.328136  0.747692      0  0.343812  \n",
       "985  0.695081  0.208943  0.870679      0  0.424302  \n",
       "986  0.544117  0.295269  0.743577      0  0.293222  \n",
       "987  0.094097  0.357218  0.360233      0  0.384034  \n",
       "988  0.175404  0.332651  0.439911      0  0.371849  \n",
       "989  0.624310  0.719397  0.358621      0  0.311007  \n",
       "990  0.231208  0.275478  0.534818      0  0.338234  \n",
       "991  0.538987  0.859932  0.160512      0  0.276000  \n",
       "992  0.678148  0.775182  0.339491      0  0.351700  \n",
       "993  0.677735  0.684131  0.430055      0  0.367968  \n",
       "994  0.470679  0.333616  0.685385      0  0.404295  \n",
       "995  0.584786  0.808640  0.242762      0  0.266822  \n",
       "996  0.472306  0.348347  0.671129      0  0.403480  \n",
       "997  0.530324  0.779433  0.234952      0  0.337727  \n",
       "998  0.242755  0.279385  0.538755      0  0.300265  \n",
       "999  0.692299  0.816777  0.307592      0  0.367867  \n",
       "\n",
       "[1000 rows x 12 columns]"
      ]
     },
     "execution_count": 31,
     "metadata": {},
     "output_type": "execute_result"
    }
   ],
   "source": [
    "predict=predict_model(knn,data=anomaly)\n",
    "predict"
   ]
  },
  {
   "cell_type": "code",
   "execution_count": null,
   "metadata": {},
   "outputs": [],
   "source": []
  },
  {
   "cell_type": "code",
   "execution_count": null,
   "metadata": {},
   "outputs": [],
   "source": []
  }
 ],
 "metadata": {
  "kernelspec": {
   "display_name": "Python 3",
   "language": "python",
   "name": "python3"
  },
  "language_info": {
   "codemirror_mode": {
    "name": "ipython",
    "version": 3
   },
   "file_extension": ".py",
   "mimetype": "text/x-python",
   "name": "python",
   "nbconvert_exporter": "python",
   "pygments_lexer": "ipython3",
   "version": "3.7.3"
  }
 },
 "nbformat": 4,
 "nbformat_minor": 2
}
